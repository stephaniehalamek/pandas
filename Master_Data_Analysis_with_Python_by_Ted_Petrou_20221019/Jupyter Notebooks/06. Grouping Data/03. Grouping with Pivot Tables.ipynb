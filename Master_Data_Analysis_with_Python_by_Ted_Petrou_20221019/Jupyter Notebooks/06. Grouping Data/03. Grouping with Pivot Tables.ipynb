{
 "cells": [
  {
   "cell_type": "markdown",
   "metadata": {},
   "source": [
    "# Grouping with Pivot Tables\n",
    "\n",
    "A pivot table aggregates data between the intersection of the unique values of two (or more) columns of your data. In the pivot table below, the two columns are `race` and `sex`. All pivot tables must aggregate some other column of data. Here, the salary is averaged. There are 5 unique races and 2 unique values for sex. The pivot table shows the mean of salary for each possible combination. Having the data in this structure, can make it easier to read and make comparisons.\n",
    "\n",
    "![1]\n",
    "\n",
    "[1]: images/pivot_table_example.png\n",
    "\n",
    "### Creating a simple pivot table in pandas - four components\n",
    "\n",
    "There are four components to a basic pivot table in pandas.\n",
    "\n",
    "* One vertical grouping column\n",
    "* One horizontal grouping column\n",
    "* One aggregating column\n",
    "* One aggregating function\n",
    "\n",
    "In the example above, the two grouping columns are `race` and `sex`. The aggregating column is `salary` and the aggregating function is `mean`.\n",
    "\n",
    "## Creating pivot tables with pandas\n",
    "\n",
    "Let's read in the employee dataset and use it to recreate the pivot table above in pandas."
   ]
  },
  {
   "cell_type": "code",
   "execution_count": null,
   "metadata": {},
   "outputs": [],
   "source": [
    "import pandas as pd\n",
    "emp = pd.read_csv('../data/employee.csv', parse_dates=['hire_date'])\n",
    "emp.head(3)"
   ]
  },
  {
   "cell_type": "markdown",
   "metadata": {},
   "source": [
    "To use the `pivot_table` method, set the `index`, `columns`, `values`, and `aggfunc` parameters:\n",
    "\n",
    "* `index` - vertical grouping column\n",
    "* `columns` - horizontal grouping column\n",
    "* `values` - aggregating column\n",
    "* `aggfunc` - aggregating function (defaulted to the mean)"
   ]
  },
  {
   "cell_type": "code",
   "execution_count": null,
   "metadata": {},
   "outputs": [],
   "source": [
    "emp.pivot_table(index='race', columns='sex', values='salary', aggfunc='mean')"
   ]
  },
  {
   "cell_type": "markdown",
   "metadata": {},
   "source": [
    "### Round results and convert to integer to reduce noise\n",
    "\n",
    "The above DataFrame has several excess decimal values that aren't important. Rounding to the nearest thousand and changing the data type to be integers reduces this noise."
   ]
  },
  {
   "cell_type": "code",
   "execution_count": null,
   "metadata": {},
   "outputs": [],
   "source": [
    "emp.pivot_table(index='race', columns='sex', \n",
    "                values='salary', aggfunc='mean').round(-3).astype('int64')"
   ]
  },
  {
   "cell_type": "markdown",
   "metadata": {},
   "source": [
    "### Easily compare female vs male salary\n",
    "\n",
    "Pivot tables make comparisons between groups easy. In this instance, the difference between female and male average salary is easily seen.\n",
    "\n",
    "### Column and index labels are sorted\n",
    "\n",
    "Notice that the labels for each of the index and columns of a pivot table come from the unique values of the grouping columns. They are also sorted in alphabetical order. The intersection of each label is where the aggregated data appears.\n",
    "\n",
    "## Comparison to `groupby`\n",
    "\n",
    "The `pivot_table` method is very similar to a `groupby` aggregation. Both are capable of producing the exact same results. Below, we replicate the results of our pivot table with `groupby`."
   ]
  },
  {
   "cell_type": "code",
   "execution_count": null,
   "metadata": {},
   "outputs": [],
   "source": [
    "(emp.groupby(['race', 'sex'])\n",
    "    .agg(mean_salary=('salary', 'mean'))\n",
    "    .round(-3)\n",
    "    .astype('int64'))"
   ]
  },
  {
   "cell_type": "markdown",
   "metadata": {},
   "source": [
    "### Data is more difficult to make comparisons\n",
    "\n",
    "This call to `groupby` produced the exact same result as the pivot table but in a different shape. Having all of our data in a vertical column makes it difficult to make comparisons.\n",
    "\n",
    "### Wide vs long data\n",
    "\n",
    "Pivot tables produce **wide** data, with new columns for each unique value of one of the grouping columns. Wide data is typically easier to read and make decisions with. The `groupby` method returns **long** data with the results of each group in a single column, making it more difficult to make comparisons. This type of data is generally easier to continue analyzing with further commands.\n",
    "\n",
    "### The default aggregation is `mean`\n",
    "\n",
    "By default, the `aggfunc` parameter is set to 'mean'. But, even if you are using the mean as your aggregation function, I advise that you explicitly state it in your call to `pivot_table` so that it's clear what you are doing.\n",
    "\n",
    "### All aggregation strings are available for `pivot_table`\n",
    "\n",
    "The same aggregation strings ('min', 'max', 'mean', etc...) are available to a `pivot_table` as they are with `groupby`. Here we find the max salary for the same groups."
   ]
  },
  {
   "cell_type": "code",
   "execution_count": null,
   "metadata": {},
   "outputs": [],
   "source": [
    "emp.pivot_table(index='race', columns='sex', values='salary', aggfunc='max')"
   ]
  },
  {
   "cell_type": "markdown",
   "metadata": {},
   "source": [
    "### Where is the 'pivoting'?\n",
    "\n",
    "Microsoft Excel is well-known for its pivot tables that are created by dragging and dropping different columns into different boxes, 'pivoting' the data around. With pandas, you'll have to change the parameter values and call the `pivot_table` method again in order to get the same effect. Let's pivot the table by putting sex along the index and race along the columns."
   ]
  },
  {
   "cell_type": "code",
   "execution_count": null,
   "metadata": {},
   "outputs": [],
   "source": [
    "emp.pivot_table(index='sex', columns='race', values='salary', aggfunc='max')"
   ]
  },
  {
   "cell_type": "markdown",
   "metadata": {},
   "source": [
    "## Styling pivot tables\n",
    "\n",
    "You can style any DataFrame by changing the text color, background color, font, and several other items with the `style` accessor. It works similarly to `str`, `dt`, and `cat` accessors in that it gives you access to style-only methods through dot notation. [Visit the documentation][1] for descriptions on all of the methods. Let's create a pivot table computing the mean salary by department and race and assign the result to a variable.\n",
    "\n",
    "[1]: http://pandas.pydata.org/pandas-docs/stable/style.html"
   ]
  },
  {
   "cell_type": "code",
   "execution_count": null,
   "metadata": {},
   "outputs": [],
   "source": [
    "dept_race_mean = (emp.pivot_table(index='dept', columns='race', \n",
    "                                 values='salary', aggfunc='mean')\n",
    "                     .round(-3).astype('int64'))\n",
    "dept_race_mean"
   ]
  },
  {
   "cell_type": "markdown",
   "metadata": {},
   "source": [
    "### Highlighting the maximum value\n",
    "\n",
    "The `style` accessor's `highlight_max` method highlights the maximum value in each column or row. By default, it highlights the maximum value of each column, just like most other pandas methods."
   ]
  },
  {
   "cell_type": "code",
   "execution_count": null,
   "metadata": {
    "location": [
     "dept_race_mean_max.png"
    ],
    "tags": [
     "image"
    ]
   },
   "outputs": [],
   "source": [
    "dept_race_mean.style.highlight_max()"
   ]
  },
  {
   "cell_type": "markdown",
   "metadata": {},
   "source": [
    "### Change direction with `axis`\n",
    "\n",
    "You can highlight the max of each row by setting the `axis` parameter to `'columns'` or 1. A single cell of the entire table maximum can be highlighted by setting `axis` to `None` (not shown)."
   ]
  },
  {
   "cell_type": "code",
   "execution_count": null,
   "metadata": {
    "location": [
     "dept_race_mean_max_axis1.png"
    ],
    "tags": [
     "image"
    ]
   },
   "outputs": [],
   "source": [
    "dept_race_mean.style.highlight_max(axis='columns')"
   ]
  },
  {
   "cell_type": "markdown",
   "metadata": {},
   "source": [
    "### Background color gradients\n",
    "\n",
    "Use `background_gradient` to color the background based on the value of the cell. You can change the colors by choosing a [Matplotlib colormap][1].\n",
    "\n",
    "[1]: https://matplotlib.org/stable/tutorials/colors/colormaps.html"
   ]
  },
  {
   "cell_type": "code",
   "execution_count": null,
   "metadata": {
    "location": [
     "dept_race_mean_max_gradient.png"
    ],
    "scrolled": true,
    "tags": [
     "image"
    ]
   },
   "outputs": [],
   "source": [
    "dept_race_mean.style.background_gradient(cmap='Oranges')"
   ]
  },
  {
   "cell_type": "markdown",
   "metadata": {},
   "source": [
    "### Adding commas to numbers\n",
    "\n",
    "Make your data easier to read by inserting commas into large numbers with the `format` method. You must know how to use the [string format specification][0] from core Python. To add commas, use the string `'{:,.0f}'`. If you are unfamiliar with format specification, use the link provided. But, as a quick overview, the actual specification is what comes after the colon and does not include the curly braces. Here, it is `',.0f'`. The comma is the digit separator. The `.0` represents the numbers after the decimal, which is 0 in this case. The character `'f'` is the 'type' and stands for fixed-point notation. If you wanted to include two decimal places, you would use the format specification `'{:,.2f}'`.\n",
    "\n",
    "[0]: https://docs.python.org/3/library/string.html#formatspec"
   ]
  },
  {
   "cell_type": "code",
   "execution_count": null,
   "metadata": {
    "scrolled": true
   },
   "outputs": [],
   "source": [
    "dept_race_mean.style.format('{:,.0f}')"
   ]
  },
  {
   "cell_type": "markdown",
   "metadata": {},
   "source": [
    "### Chaining style methods\n",
    "\n",
    "You can chain together multiple style methods to your DataFrame. Before doing so, it's important to know that the returned object from a call to one of the style methods is NOT a DataFrame. It's a `Styler` object. We verify this below."
   ]
  },
  {
   "cell_type": "code",
   "execution_count": null,
   "metadata": {},
   "outputs": [],
   "source": [
    "df_styled = dept_race_mean.style.format('{:,.0f}')\n",
    "type(df_styled)"
   ]
  },
  {
   "cell_type": "markdown",
   "metadata": {},
   "source": [
    "You cannot use this object as a normal DataFrame. If you try and call a normal DataFrame method such as `mean`, you'll get an error."
   ]
  },
  {
   "cell_type": "code",
   "execution_count": null,
   "metadata": {},
   "outputs": [],
   "source": [
    "df_styled.mean()"
   ]
  },
  {
   "cell_type": "markdown",
   "metadata": {},
   "source": [
    "You can retrieve the original (unstyled data) with the `data` attribute. Here, we verify it is the same object as the pivot table we calculated above."
   ]
  },
  {
   "cell_type": "code",
   "execution_count": null,
   "metadata": {},
   "outputs": [],
   "source": [
    "df_styled.data is dept_race_mean"
   ]
  },
  {
   "cell_type": "markdown",
   "metadata": {},
   "source": [
    "The benefit of having this Styler object is that you can chain one style method after another without referencing the `style` attribute again. Here, we add commas and highlight the maximum and minimum value of each column different colors."
   ]
  },
  {
   "cell_type": "code",
   "execution_count": null,
   "metadata": {},
   "outputs": [],
   "source": [
    "(dept_race_mean.style.format('{:,.0f}')\n",
    "                     .highlight_max(color='yellow')\n",
    "                     .highlight_min(color='lightblue'))"
   ]
  },
  {
   "cell_type": "markdown",
   "metadata": {},
   "source": [
    "## Getting the size of each group\n",
    "\n",
    "You can use the `pivot_table` method to get the total number of occurrences of each of the grouping columns. When doing so, it is not necessary to use an aggregating column (the `values` parameter). pandas knows that the size of the group is independent of what it is aggregating, so it does not require you to provide it. Here, we get the size of each unique combination of department and sex."
   ]
  },
  {
   "cell_type": "code",
   "execution_count": null,
   "metadata": {},
   "outputs": [],
   "source": [
    "emp.pivot_table(index='dept', columns='race', aggfunc='size')"
   ]
  },
  {
   "cell_type": "markdown",
   "metadata": {},
   "source": [
    "## Add margins to get row and column totals\n",
    "\n",
    "The optional parameter `margins` can be set to `True` to add one additional row and column to the pivot table which calculates the same aggregate function to the entire row or column. In the following pivot table, the average salary for all fire department employees is 61,000, and the average salary for all Hispanic employees is 55,000."
   ]
  },
  {
   "cell_type": "code",
   "execution_count": null,
   "metadata": {},
   "outputs": [],
   "source": [
    "(emp.pivot_table(index='dept', columns='race', values='salary', \n",
    "                 aggfunc='mean', margins=True)\n",
    "    .round(-3)\n",
    "    .style.format('{:,.0f}'))"
   ]
  },
  {
   "cell_type": "markdown",
   "metadata": {},
   "source": [
    "The average salary of all employees is given by the bottom right value. Let's verify this is correct by computing the average manually."
   ]
  },
  {
   "cell_type": "code",
   "execution_count": null,
   "metadata": {},
   "outputs": [],
   "source": [
    "emp['salary'].mean()"
   ]
  },
  {
   "cell_type": "markdown",
   "metadata": {},
   "source": [
    "## Non-standard pivot tables\n",
    "\n",
    "There are many different kinds of pivot tables that we can create besides one with exactly two grouping columns, one aggregating column, and one aggregating function. I am calling such pivot tables 'non-standard', though this is just to help differentiate them from the previous ones created above.\n",
    "\n",
    "### A single grouping column\n",
    "\n",
    "It is possible to have just a single grouping column in a pivot table. Here, we find the average salary for each department."
   ]
  },
  {
   "cell_type": "code",
   "execution_count": null,
   "metadata": {},
   "outputs": [],
   "source": [
    "emp.pivot_table(index='dept', values='salary', aggfunc='mean').round(-3)"
   ]
  },
  {
   "cell_type": "markdown",
   "metadata": {},
   "source": [
    "When using a single grouping column, the result will be the exact same as a `groupby` aggregation. Using `groupby` has the advantage of being able to rename the resulting aggregate column."
   ]
  },
  {
   "cell_type": "code",
   "execution_count": null,
   "metadata": {},
   "outputs": [],
   "source": [
    "emp.groupby('dept').agg(average_salary=('salary', 'mean')).round(-3)"
   ]
  },
  {
   "cell_type": "markdown",
   "metadata": {},
   "source": [
    "You can pivot this one column table by using the `columns` parameter."
   ]
  },
  {
   "cell_type": "code",
   "execution_count": null,
   "metadata": {},
   "outputs": [],
   "source": [
    "emp.pivot_table(columns='dept', values='salary', aggfunc='mean').round(-3)"
   ]
  },
  {
   "cell_type": "markdown",
   "metadata": {},
   "source": [
    "### More than two grouping columns\n",
    "\n",
    "You can use any number of grouping columns when creating pivot tables. Use a list to contain the columns you want for the rows or columns. Here we find the average salary by department, sex, and race. The unique combinations of department and sex are placed in the index. The resulting DataFrame has a multi-level index."
   ]
  },
  {
   "cell_type": "code",
   "execution_count": null,
   "metadata": {},
   "outputs": [],
   "source": [
    "(emp.pivot_table(index=['dept', 'sex'], columns='race', \n",
    "                 values='salary', aggfunc='max')\n",
    "    .round(-3)\n",
    "    .head(10)\n",
    "    .style.format('{:,.0f}'))"
   ]
  },
  {
   "cell_type": "markdown",
   "metadata": {},
   "source": [
    "We can pivot this so that the result so that there is a multi-level column index."
   ]
  },
  {
   "cell_type": "code",
   "execution_count": null,
   "metadata": {},
   "outputs": [],
   "source": [
    "(emp.pivot_table(index='dept', columns=['race', 'sex'],\n",
    "                 values='salary', aggfunc='max')\n",
    "    .round(-3)\n",
    "    .style.format('{:,.0f}'))"
   ]
  },
  {
   "cell_type": "markdown",
   "metadata": {},
   "source": [
    "### Keep the multi-level index with pivot tables\n",
    "\n",
    "I advise that you keep the multiple levels when using a pivot table (if you happen to produce them). This is the opposite advice that I gave when grouping. The reasoning is that pivot tables are much more likely to be a final product - something that you use in a presentation or a report and won't be doing further analysis on. Therefore, you won't have to handle the multi-level index or columns. After doing a groupby, it is more likely that you'll be running other pandas commands, and doing so is much easier with a normal single level index."
   ]
  },
  {
   "cell_type": "markdown",
   "metadata": {},
   "source": [
    "### Multiple aggregating columns\n",
    "\n",
    "It is possible to aggregate more than one column as well. Because the employee dataset only has one main aggregating column, we will add a column for years of experience. The data was pulled in 2019, so we will subtract the year hired from it to get the approximate years of experience."
   ]
  },
  {
   "cell_type": "code",
   "execution_count": null,
   "metadata": {},
   "outputs": [],
   "source": [
    "emp['experience'] = 2019 - emp['hire_date'].dt.year\n",
    "emp.head(3)"
   ]
  },
  {
   "cell_type": "markdown",
   "metadata": {},
   "source": [
    "Let's find the average salary and experience for every department and race. Notice that the columns are now multiple levels. Because of this, it becomes harder to use methods like `round` which you might need to specify different decimals for different columns. We compromise here and format our data to a single decimal place. The margins for each aggregating column are also there."
   ]
  },
  {
   "cell_type": "code",
   "execution_count": null,
   "metadata": {},
   "outputs": [],
   "source": [
    "emp.pivot_table(index='dept', columns='race', \n",
    "                values=['salary', 'experience'],\n",
    "                aggfunc='mean', margins=True).style.format('{:,.1f}')"
   ]
  },
  {
   "cell_type": "markdown",
   "metadata": {},
   "source": [
    "### Multiple aggregating functions\n",
    "\n",
    "All components of a pivot table are capable of taking multiple values, including the aggregating functions. Here, we find the minimum, maximum, and average salary for each department and sex."
   ]
  },
  {
   "cell_type": "code",
   "execution_count": null,
   "metadata": {},
   "outputs": [],
   "source": [
    "(emp.pivot_table(index='dept', columns='sex', values='salary',\n",
    "                aggfunc=['min', 'max', 'mean'], margins=True)\n",
    "    .round(-3)\n",
    "    .style.format('{:,.0f}'))"
   ]
  },
  {
   "cell_type": "markdown",
   "metadata": {},
   "source": [
    "### Reducing readability of a pivot table\n",
    "\n",
    "Pivot tables with more than two grouping columns, or multiple aggregating columns and aggregating functions become less readable as the amount of data displayed can be immense. Here, we find the minimum, maximum, and average salary and experience for all combinations of department, sex, and race. Only the first few rows and columns are output."
   ]
  },
  {
   "cell_type": "code",
   "execution_count": null,
   "metadata": {},
   "outputs": [],
   "source": [
    "df_messy_pivot = emp.pivot_table(index=['dept', 'sex'], columns='race', \n",
    "                                 values=['salary', 'experience'],\n",
    "                                 aggfunc=['min', 'max', 'mean'], margins=True)\n",
    "df_messy_pivot.iloc[:6, :10]"
   ]
  },
  {
   "cell_type": "markdown",
   "metadata": {},
   "source": [
    "These large tables can be useful, but the results are often better presented as multiple different pivot tables than a single one. This pivot table has 19 rows and 36 columns with two levels in the index and three levels in the columns. It won't easily fit on a single screen."
   ]
  },
  {
   "cell_type": "code",
   "execution_count": null,
   "metadata": {},
   "outputs": [],
   "source": [
    "df_messy_pivot.shape"
   ]
  },
  {
   "cell_type": "markdown",
   "metadata": {},
   "source": [
    "## Exercises\n",
    "\n",
    "Execute the following cell to read in the flights dataset and insert columns for the day and month name. Use it for the following exercises."
   ]
  },
  {
   "cell_type": "code",
   "execution_count": null,
   "metadata": {},
   "outputs": [],
   "source": [
    "import pandas as pd\n",
    "flights = pd.read_csv('../data/flights.csv', parse_dates=['date'])\n",
    "flights.insert(1, 'day_of_week', flights['date'].dt.day_name())\n",
    "flights.insert(2, 'month', flights['date'].dt.month_name())\n",
    "flights.head(3)"
   ]
  },
  {
   "cell_type": "markdown",
   "metadata": {},
   "source": [
    "### Exercise 1\n",
    "\n",
    "<span style=\"color:green; font-size:16px\">What is the average carrier delay for each day of the week for each airline? Highlight the worst day of the week for each airline.</span>"
   ]
  },
  {
   "cell_type": "code",
   "execution_count": null,
   "metadata": {},
   "outputs": [],
   "source": []
  },
  {
   "cell_type": "markdown",
   "metadata": {},
   "source": [
    "### Exercise 2\n",
    "\n",
    "<span style=\"color:green; font-size:16px\">Use a pivot table to find the total number of canceled flights for each origin airport and airline. Place the airlines in the columns. Use the result to find the origin airport with the most cancelled flights for each airline. Also return this maximum number of cancelled flights.</span>"
   ]
  },
  {
   "cell_type": "code",
   "execution_count": null,
   "metadata": {},
   "outputs": [],
   "source": []
  },
  {
   "cell_type": "markdown",
   "metadata": {},
   "source": [
    "### Exercise 3\n",
    "\n",
    "<span style=\"color:green; font-size:16px\">Find the total distance flown for each airline for each month. Highlight the month with the most number of miles flown and use the style `format` method to put commas in the numbers so that they are easier to read.</span>"
   ]
  },
  {
   "cell_type": "code",
   "execution_count": null,
   "metadata": {},
   "outputs": [],
   "source": []
  },
  {
   "cell_type": "markdown",
   "metadata": {},
   "source": [
    "### Exercise 4\n",
    "\n",
    "<span style=\"color:green; font-size:16px\">Create a pivot table that shows the number of flights flown for every day of the week for every month.</span>"
   ]
  },
  {
   "cell_type": "code",
   "execution_count": null,
   "metadata": {},
   "outputs": [],
   "source": []
  },
  {
   "cell_type": "markdown",
   "metadata": {},
   "source": [
    "### Exercise 5\n",
    "\n",
    "<span style=\"color:green; font-size:16px\">In exercise 4, the months and days of week are ordered alphabetically. It would be better if these values were ordered chronologically. Can you return a result that has both groups in the correct order. Use Monday as the first day of the week.</span>"
   ]
  },
  {
   "cell_type": "code",
   "execution_count": null,
   "metadata": {},
   "outputs": [],
   "source": []
  },
  {
   "cell_type": "markdown",
   "metadata": {},
   "source": [
    "### Exercise 6\n",
    "\n",
    "<span style=\"color:green; font-size:16px\">Create a new column in the flights dataset called `'dep_time_hour'` and set it equal to the hour (this will be an integer 0 through 23) of the flight. Find the average carrier delay for every month and `dep_time_hour`. Place the month in the columns.</span>"
   ]
  },
  {
   "cell_type": "code",
   "execution_count": null,
   "metadata": {},
   "outputs": [],
   "source": []
  },
  {
   "cell_type": "markdown",
   "metadata": {},
   "source": [
    "### Exercise 7\n",
    "\n",
    "<span style=\"color:green; font-size:16px\">Use both `groupby` and `pivot_table` to compute the average and median distance flown by day of the week.</span>"
   ]
  },
  {
   "cell_type": "code",
   "execution_count": null,
   "metadata": {},
   "outputs": [],
   "source": []
  }
 ],
 "metadata": {
  "kernelspec": {
   "display_name": "Python 3 (ipykernel)",
   "language": "python",
   "name": "python3"
  },
  "language_info": {
   "codemirror_mode": {
    "name": "ipython",
    "version": 3
   },
   "file_extension": ".py",
   "mimetype": "text/x-python",
   "name": "python",
   "nbconvert_exporter": "python",
   "pygments_lexer": "ipython3",
   "version": "3.8.11"
  },
  "varInspector": {
   "cols": {
    "lenName": 16,
    "lenType": 16,
    "lenVar": 40
   },
   "kernels_config": {
    "python": {
     "delete_cmd_postfix": "",
     "delete_cmd_prefix": "del ",
     "library": "var_list.py",
     "varRefreshCmd": "print(var_dic_list())"
    },
    "r": {
     "delete_cmd_postfix": ") ",
     "delete_cmd_prefix": "rm(",
     "library": "var_list.r",
     "varRefreshCmd": "cat(var_dic_list()) "
    }
   },
   "types_to_exclude": [
    "module",
    "function",
    "builtin_function_or_method",
    "instance",
    "_Feature"
   ],
   "window_display": false
  }
 },
 "nbformat": 4,
 "nbformat_minor": 2
}
