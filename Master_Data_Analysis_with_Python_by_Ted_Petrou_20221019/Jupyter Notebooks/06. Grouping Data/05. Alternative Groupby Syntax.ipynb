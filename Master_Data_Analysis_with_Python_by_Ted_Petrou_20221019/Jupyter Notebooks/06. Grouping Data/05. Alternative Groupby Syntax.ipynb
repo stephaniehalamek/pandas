{
 "cells": [
  {
   "cell_type": "markdown",
   "metadata": {},
   "source": [
    "# Alternative Groupby Syntax\n",
    "\n",
    "This chapter covers a few other alternative syntaxes available to do aggregations with the `groupby` method. This chapter has potential to confuse beginning pandas users since these methods do not give you any extra power to do data analysis. However, many other people who use pandas will use these syntaxes so it's important to be aware that they exist. Let's begin by reading in the San Francisco employee compensation dataset."
   ]
  },
  {
   "cell_type": "code",
   "execution_count": null,
   "metadata": {},
   "outputs": [],
   "source": [
    "import pandas as pd\n",
    "import numpy as np\n",
    "sf_emp = pd.read_csv('../data/sf_employee_compensation.csv')\n",
    "sf_emp.head(3)"
   ]
  },
  {
   "cell_type": "markdown",
   "metadata": {},
   "source": [
    "## Aggregating a single column\n",
    "\n",
    "Originally, we set our new column name equal to a two-item tuple of the aggregating column and the aggregating function within the `agg` method."
   ]
  },
  {
   "cell_type": "code",
   "execution_count": null,
   "metadata": {},
   "outputs": [],
   "source": [
    "sf_emp.groupby('organization group').agg(mean_salary=('salaries', 'mean'))"
   ]
  },
  {
   "cell_type": "markdown",
   "metadata": {},
   "source": [
    "### Alternative - use a dictionary\n",
    "\n",
    "Instead of a tuple, you can use a dictionary to map the aggregating column to the aggregating function. The generic syntax takes on the following form:\n",
    "\n",
    "```python\n",
    "df.groupby('grouping column').agg({'aggregating column': 'aggregating function'})\n",
    "```\n",
    "\n",
    "\n",
    "Although this syntax uses less code, it does not allow you to rename columns during the aggregation."
   ]
  },
  {
   "cell_type": "code",
   "execution_count": null,
   "metadata": {},
   "outputs": [],
   "source": [
    "sf_emp.groupby('organization group').agg({'salaries': 'mean'})"
   ]
  },
  {
   "cell_type": "markdown",
   "metadata": {},
   "source": [
    "### Alternative - select the column with the brackets\n",
    "\n",
    "Instead of using a dictionary, place the aggregating columns in brackets following the `groupby` method and then pass the aggregating function as a string to the `agg` method. The generic syntax takes on the following form:\n",
    "\n",
    "```python\n",
    "df.groupby('grouping column')['aggregating column'].agg('aggregating function')\n",
    "```"
   ]
  },
  {
   "cell_type": "code",
   "execution_count": null,
   "metadata": {},
   "outputs": [],
   "source": [
    "sf_emp.groupby('organization group')['salaries'].agg('mean')"
   ]
  },
  {
   "cell_type": "markdown",
   "metadata": {},
   "source": [
    "You can even bypass the `agg` method and use the name of the aggregation as a method directly after the brackets."
   ]
  },
  {
   "cell_type": "code",
   "execution_count": null,
   "metadata": {},
   "outputs": [],
   "source": [
    "sf_emp.groupby('organization group')['salaries'].mean()"
   ]
  },
  {
   "cell_type": "markdown",
   "metadata": {},
   "source": [
    "### Possible advantage - allows for multiple aggregating columns\n",
    "\n",
    "Using any of these alternative methods allows you to use multiple aggregating functions with less amount of code. Here, we use a dictionary to make the aggregating column to all of the aggregating functions we desire."
   ]
  },
  {
   "cell_type": "code",
   "execution_count": null,
   "metadata": {},
   "outputs": [],
   "source": [
    "sf_emp.groupby('organization group').agg({'salaries': ['mean', 'min', 'max']})"
   ]
  },
  {
   "cell_type": "markdown",
   "metadata": {},
   "source": [
    "We would need to use more code with the original syntax, but I prefer this as we are returned a DataFrame with a single level index for the columns and we can name each column exactly what we desire."
   ]
  },
  {
   "cell_type": "code",
   "execution_count": null,
   "metadata": {},
   "outputs": [],
   "source": [
    "sf_emp.groupby('organization group').agg(mean_salary=('salaries', 'mean'),\n",
    "                                         min_salary=('salaries', 'min'),\n",
    "                                         max_salary=('salaries', 'max'))"
   ]
  },
  {
   "cell_type": "markdown",
   "metadata": {},
   "source": [
    "## No Aggregating Columns\n",
    "\n",
    "You actually do not need to specify the aggregating columns when grouping if using the method version of the aggregation. When doing so, all columns will be aggregated. Here, we set `numeric_only` to `True` to ensure that only the numeric columns are aggregated by the mean."
   ]
  },
  {
   "cell_type": "code",
   "execution_count": null,
   "metadata": {},
   "outputs": [],
   "source": [
    "(sf_emp.groupby(['year', 'organization group'])\n",
    "       .mean(numeric_only=True)\n",
    "       .head()\n",
    "       .round(-3))"
   ]
  },
  {
   "cell_type": "markdown",
   "metadata": {},
   "source": [
    "## Exercises"
   ]
  },
  {
   "cell_type": "markdown",
   "metadata": {},
   "source": [
    "Execute the cell below to read in the flights dataset and then use it for the following exercises."
   ]
  },
  {
   "cell_type": "code",
   "execution_count": null,
   "metadata": {},
   "outputs": [],
   "source": [
    "import pandas as pd\n",
    "flights = pd.read_csv('../data/flights.csv', parse_dates=['date'])\n",
    "flights.head(3)"
   ]
  },
  {
   "cell_type": "markdown",
   "metadata": {},
   "source": [
    "### Exercise 1\n",
    "\n",
    "<span style=\"color:green; font-size:16px\">Use a dictionary in the `groupby` `agg` method to calculate the mean, median, min, and max of the air time for every airline.</span>"
   ]
  },
  {
   "cell_type": "code",
   "execution_count": null,
   "metadata": {},
   "outputs": [],
   "source": []
  },
  {
   "cell_type": "markdown",
   "metadata": {},
   "source": [
    "### Exercise 2\n",
    "\n",
    "<span style=\"color:green; font-size:16px\">Without using the `agg` method calculate the number of unique destinations for each airline.</span>"
   ]
  },
  {
   "cell_type": "code",
   "execution_count": null,
   "metadata": {},
   "outputs": [],
   "source": []
  },
  {
   "cell_type": "markdown",
   "metadata": {},
   "source": [
    "### Exercise 3\n",
    "\n",
    "<span style=\"color:green; font-size:16px\">Calculate the mean of every numeric column for each airline and origin without using the `agg` method.</span>"
   ]
  },
  {
   "cell_type": "code",
   "execution_count": null,
   "metadata": {},
   "outputs": [],
   "source": []
  }
 ],
 "metadata": {
  "kernelspec": {
   "display_name": "Python 3 (ipykernel)",
   "language": "python",
   "name": "python3"
  },
  "language_info": {
   "codemirror_mode": {
    "name": "ipython",
    "version": 3
   },
   "file_extension": ".py",
   "mimetype": "text/x-python",
   "name": "python",
   "nbconvert_exporter": "python",
   "pygments_lexer": "ipython3",
   "version": "3.8.11"
  }
 },
 "nbformat": 4,
 "nbformat_minor": 2
}
