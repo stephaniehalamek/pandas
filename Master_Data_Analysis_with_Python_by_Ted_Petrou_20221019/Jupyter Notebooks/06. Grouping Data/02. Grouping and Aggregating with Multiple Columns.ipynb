{
 "cells": [
  {
   "cell_type": "markdown",
   "metadata": {},
   "source": [
    "# Grouping and Aggregating with Multiple Columns\n",
    "\n",
    "In this chapter, we'll form groups using more than one column, aggregate more than one column, and learn how to apply more than one aggregation function to each group. Let's begin by reading in the San Francisco employee compensation dataset."
   ]
  },
  {
   "cell_type": "code",
   "execution_count": null,
   "metadata": {},
   "outputs": [],
   "source": [
    "import pandas as pd\n",
    "sf_emp = pd.read_csv('../data/sf_employee_compensation.csv')\n",
    "sf_emp.head(3)"
   ]
  },
  {
   "cell_type": "markdown",
   "metadata": {},
   "source": [
    "## Review grouping and aggregating with a single column\n",
    "\n",
    "In the previous chapter, we had a single grouping column, aggregating column, and aggregating function. The following syntax was used as a guide:\n",
    "\n",
    "```python\n",
    "df.groupby('grouping column').agg(new_column=('aggregating column', 'aggregating function'))\n",
    "```\n",
    "\n",
    "Let's see this again by calculating the average salary for each organization group."
   ]
  },
  {
   "cell_type": "code",
   "execution_count": null,
   "metadata": {},
   "outputs": [],
   "source": [
    "(sf_emp.groupby('organization group')\n",
    "       .agg(avg_salary=('salaries', 'mean'))\n",
    "       .round(-3))"
   ]
  },
  {
   "cell_type": "markdown",
   "metadata": {},
   "source": [
    "## Grouping with multiple columns\n",
    "\n",
    "To create groups based on distinct values from multiple columns, we need to pass a list of these columns to the `groupby` method. Let's find the average salary for every unique combination of year and organization group."
   ]
  },
  {
   "cell_type": "code",
   "execution_count": null,
   "metadata": {},
   "outputs": [],
   "source": [
    "(sf_emp.groupby(['year', 'organization group'])\n",
    "       .agg(avg_salary=('salaries', 'mean'))\n",
    "       .round(-3)\n",
    "       .head(10))"
   ]
  },
  {
   "cell_type": "markdown",
   "metadata": {},
   "source": [
    "### What happened to our index?\n",
    "\n",
    "Both year and organization group are no longer columns and have been pushed into the index. This is called a **multi-level index**. The year and organization group are considered **levels** of the index and are NOT columns. You'll notice that duplicated values in the outer level are not visible in an index when they immediately follow one another such as with the year level above.\n",
    "\n",
    "### The MultiIndex is confusing and not necessary for beginners\n",
    "\n",
    "In my opinion, the multi-level index does not add much value to pandas and can interfere with learning. I advise those new to pandas to avoid using it until they have mastered the basics. Personally, I rarely use it myself and prefer the levels of the index to be DataFrame columns.\n",
    "\n",
    "By default, all grouping columns will be added to the index. From this point on, we will chain the `reset_index` method to return these levels to columns. Equivalently, you can achieve the same result by setting the `as_index` parameter to `False` in the `groupby` method."
   ]
  },
  {
   "cell_type": "code",
   "execution_count": null,
   "metadata": {},
   "outputs": [],
   "source": [
    "(sf_emp.groupby(['year', 'organization group'])\n",
    "       .agg(avg_salary=('salaries', 'mean'))\n",
    "       .round(-3)\n",
    "       .reset_index()\n",
    "       .head(10))"
   ]
  },
  {
   "cell_type": "markdown",
   "metadata": {},
   "source": [
    "### Isn't the result easier to read with a MultiIndex?\n",
    "\n",
    "The MultiIndex can make the results easier to read, but it makes further data analysis more difficult as you need to become familiar with special syntax just for the MultiIndex. In my opinion, this added complexity for beginners is not worth the benefit."
   ]
  },
  {
   "cell_type": "markdown",
   "metadata": {},
   "source": [
    "## Aggregating multiple columns\n",
    "\n",
    "To aggregate multiple columns, set a new parameter in the `agg` method equal to another two-item tuple containing the aggregating column and aggregating function. Here, we find the average salary and overtime for each organization group."
   ]
  },
  {
   "cell_type": "code",
   "execution_count": null,
   "metadata": {},
   "outputs": [],
   "source": [
    "(sf_emp.groupby('organization group')\n",
    "       .agg(avg_salary=('salaries', 'mean'), avg_overtime=('overtime', 'mean'))\n",
    "       .round(-3)\n",
    "       .reset_index())"
   ]
  },
  {
   "cell_type": "markdown",
   "metadata": {},
   "source": [
    "## Multiple grouping columns, aggregating columns, and aggregating functions\n",
    "\n",
    "We can combine the last two approaches to simultaneously have multiple grouping and aggregating columns along with multiple aggregating functions. The following finds the mean, min, and max salaries along with the average overtime for every unique combination of year and organization group. "
   ]
  },
  {
   "cell_type": "code",
   "execution_count": null,
   "metadata": {},
   "outputs": [],
   "source": [
    "(sf_emp.groupby(['year', 'organization group'])\n",
    "       .agg(avg_salary=('salaries', 'mean'),\n",
    "            min_salary=('salaries', 'min'),\n",
    "            max_salary=('salaries', 'max'),\n",
    "            avg_overtime=('overtime', 'mean'))\n",
    "       .round(-3)\n",
    "       .reset_index()\n",
    "       .head(10))"
   ]
  },
  {
   "cell_type": "markdown",
   "metadata": {},
   "source": [
    "## Getting the size of each group\n",
    "\n",
    "Let's say we are interested in the number of rows in each group. We can use the `size` aggregating function like this."
   ]
  },
  {
   "cell_type": "code",
   "execution_count": null,
   "metadata": {},
   "outputs": [],
   "source": [
    "sf_emp.groupby('organization group').agg(size_salaries=('salaries', 'size'))"
   ]
  },
  {
   "cell_type": "markdown",
   "metadata": {},
   "source": [
    "The `size` aggregating function is independent of the aggregating column, so regardless of which one you use, the same value is returned. Here we use three different aggregating columns to prove that the size of the group is the same."
   ]
  },
  {
   "cell_type": "code",
   "execution_count": null,
   "metadata": {},
   "outputs": [],
   "source": [
    "(sf_emp.groupby('organization group')\n",
    "       .agg(size_salary=('salaries', 'size'),\n",
    "            size_overtime=('overtime', 'size'),\n",
    "            size_retirement=('retirement', 'size'))\n",
    "       .reset_index()\n",
    "       .head(10))"
   ]
  },
  {
   "cell_type": "markdown",
   "metadata": {},
   "source": [
    "### Just use `value_counts`\n",
    "\n",
    "There isn't a need to call the `groupby` method with the `size` aggregating function when grouping by a single column. This is exactly what the Series method `value_counts` was designed for. It has the added benefit of sorting the values as well."
   ]
  },
  {
   "cell_type": "code",
   "execution_count": null,
   "metadata": {},
   "outputs": [],
   "source": [
    "sf_emp['organization group'].value_counts()"
   ]
  },
  {
   "cell_type": "markdown",
   "metadata": {},
   "source": [
    "### Multiple group size\n",
    "\n",
    "It's possible to find the size of groups consisting of more than one column with the `groupby` method by passing it a list. The choice for aggregating columns again does not matter as the size is the same regardless."
   ]
  },
  {
   "cell_type": "code",
   "execution_count": null,
   "metadata": {},
   "outputs": [],
   "source": [
    "(sf_emp.groupby(['year', 'organization group'])\n",
    "       .agg(size_salary=('salaries', 'size'))\n",
    "       .head(10))"
   ]
  },
  {
   "cell_type": "markdown",
   "metadata": {},
   "source": [
    "### DataFrame `value_counts` method\n",
    "\n",
    "Again, the `value_counts` method produces the same result, but as a Series."
   ]
  },
  {
   "cell_type": "code",
   "execution_count": null,
   "metadata": {},
   "outputs": [],
   "source": [
    "sf_emp.value_counts(['year', 'organization group']).head()"
   ]
  },
  {
   "cell_type": "markdown",
   "metadata": {},
   "source": [
    "### Rename the column when using `reset_index`\n",
    "\n",
    "When calling `reset_index` on a Series, pandas will use the `name` attribute of the Series as the new column name. If it doesn't exist (like in the example above), it will use the integer 0 as the new column name."
   ]
  },
  {
   "cell_type": "code",
   "execution_count": null,
   "metadata": {},
   "outputs": [],
   "source": [
    "(sf_emp.value_counts(['year', 'organization group'])\n",
    "       .reset_index()\n",
    "       .head(10))"
   ]
  },
  {
   "cell_type": "markdown",
   "metadata": {},
   "source": [
    "Set the `name` parameter within `reset_index` to set the new column name in the resulting DataFrame."
   ]
  },
  {
   "cell_type": "code",
   "execution_count": null,
   "metadata": {},
   "outputs": [],
   "source": [
    "(sf_emp.value_counts(['year', 'organization group'])\n",
    "       .reset_index(name='size')\n",
    "       .head(10))"
   ]
  },
  {
   "cell_type": "markdown",
   "metadata": {},
   "source": [
    "## Exercises"
   ]
  },
  {
   "cell_type": "markdown",
   "metadata": {},
   "source": [
    "Execute the following cell to read in the City of Houston employee data and use it for the first few exercises."
   ]
  },
  {
   "cell_type": "code",
   "execution_count": null,
   "metadata": {},
   "outputs": [],
   "source": [
    "emp = pd.read_csv('../data/employee.csv')\n",
    "emp.head(3)"
   ]
  },
  {
   "cell_type": "markdown",
   "metadata": {},
   "source": [
    "### Exercise 1\n",
    "\n",
    "<span  style=\"color:green; font-size:16px\">For each department and sex, find the number of unique position titles, the total number of employees, and the average salary. Make sure there is no multi-level index.</span>"
   ]
  },
  {
   "cell_type": "code",
   "execution_count": null,
   "metadata": {},
   "outputs": [],
   "source": []
  },
  {
   "cell_type": "markdown",
   "metadata": {},
   "source": [
    "### Exercise 2\n",
    "\n",
    "<span  style=\"color:green; font-size:16px\">For each department, race, and sex find the min and max and salaries.</span>"
   ]
  },
  {
   "cell_type": "code",
   "execution_count": null,
   "metadata": {},
   "outputs": [],
   "source": []
  },
  {
   "cell_type": "markdown",
   "metadata": {},
   "source": [
    "Execute the following cell to read in the college dataset and use it for the remaining exercises."
   ]
  },
  {
   "cell_type": "code",
   "execution_count": null,
   "metadata": {},
   "outputs": [],
   "source": [
    "pd.set_option('display.max_columns', 100)\n",
    "college = pd.read_csv('../data/college.csv')\n",
    "college.head(3)"
   ]
  },
  {
   "cell_type": "markdown",
   "metadata": {},
   "source": [
    "### Exercise 3\n",
    "\n",
    "<span  style=\"color:green; font-size:16px\">Which city name appears the most frequently. Do this in two different ways. Do it once with and once without the `groupby` method?</span>"
   ]
  },
  {
   "cell_type": "code",
   "execution_count": null,
   "metadata": {},
   "outputs": [],
   "source": []
  },
  {
   "cell_type": "markdown",
   "metadata": {},
   "source": [
    "### Exercise 4\n",
    "\n",
    "<span style=\"color:green; font-size:16px\">Does the city 'Houston' only appear in the state of Texas (abbreviated 'TX')?</span>"
   ]
  },
  {
   "cell_type": "code",
   "execution_count": null,
   "metadata": {},
   "outputs": [],
   "source": []
  },
  {
   "cell_type": "markdown",
   "metadata": {},
   "source": [
    "### Exercise 5\n",
    "\n",
    "<span style=\"color:green; font-size:16px\">Find the maximum undergraduate population for each state?</span>"
   ]
  },
  {
   "cell_type": "code",
   "execution_count": null,
   "metadata": {},
   "outputs": [],
   "source": []
  },
  {
   "cell_type": "markdown",
   "metadata": {},
   "source": [
    "### Exercise 6\n",
    "\n",
    "<span style=\"color:green; font-size:16px\">Find the largest college from each state. From those colleges, find the difference between the largest and smallest.</span>"
   ]
  },
  {
   "cell_type": "code",
   "execution_count": null,
   "metadata": {},
   "outputs": [],
   "source": []
  },
  {
   "cell_type": "markdown",
   "metadata": {},
   "source": [
    "### Exercise 7\n",
    "\n",
    "<span style=\"color:green; font-size:16px\">Find the name and population of the largest college per state.</span>"
   ]
  },
  {
   "cell_type": "code",
   "execution_count": null,
   "metadata": {},
   "outputs": [],
   "source": []
  },
  {
   "cell_type": "markdown",
   "metadata": {},
   "source": [
    "### Exercise 8\n",
    "\n",
    "<span  style=\"color:green; font-size:16px\">Do distance only schools tend to have more or less student population than non-distance-only schools?</span>"
   ]
  },
  {
   "cell_type": "code",
   "execution_count": null,
   "metadata": {},
   "outputs": [],
   "source": []
  },
  {
   "cell_type": "markdown",
   "metadata": {},
   "source": [
    "### Exercise 9\n",
    "\n",
    "<span style=\"color:green; font-size:16px\">Do distance only schools tend to be more or less religiously affiliated than non-distance-only schools?</span>"
   ]
  },
  {
   "cell_type": "code",
   "execution_count": null,
   "metadata": {},
   "outputs": [],
   "source": []
  },
  {
   "cell_type": "markdown",
   "metadata": {},
   "source": [
    "### Exercise 10\n",
    "\n",
    "<span  style=\"color:green; font-size:16px\">What state has the lowest percentage of currently operating schools of those that have religious affiliation?</span>"
   ]
  },
  {
   "cell_type": "code",
   "execution_count": null,
   "metadata": {},
   "outputs": [],
   "source": []
  },
  {
   "cell_type": "markdown",
   "metadata": {},
   "source": [
    "### Exercise 11\n",
    "\n",
    "<span  style=\"color:green; font-size:16px\">Find the top 5 historically black colleges that have the highest undergraduate white percentage (ugds_white)?</span>"
   ]
  },
  {
   "cell_type": "code",
   "execution_count": null,
   "metadata": {},
   "outputs": [],
   "source": []
  }
 ],
 "metadata": {
  "kernelspec": {
   "display_name": "Python 3 (ipykernel)",
   "language": "python",
   "name": "python3"
  },
  "language_info": {
   "codemirror_mode": {
    "name": "ipython",
    "version": 3
   },
   "file_extension": ".py",
   "mimetype": "text/x-python",
   "name": "python",
   "nbconvert_exporter": "python",
   "pygments_lexer": "ipython3",
   "version": "3.8.11"
  },
  "varInspector": {
   "cols": {
    "lenName": 16,
    "lenType": 16,
    "lenVar": 40
   },
   "kernels_config": {
    "python": {
     "delete_cmd_postfix": "",
     "delete_cmd_prefix": "del ",
     "library": "var_list.py",
     "varRefreshCmd": "print(var_dic_list())"
    },
    "r": {
     "delete_cmd_postfix": ") ",
     "delete_cmd_prefix": "rm(",
     "library": "var_list.r",
     "varRefreshCmd": "cat(var_dic_list()) "
    }
   },
   "types_to_exclude": [
    "module",
    "function",
    "builtin_function_or_method",
    "instance",
    "_Feature"
   ],
   "window_display": false
  }
 },
 "nbformat": 4,
 "nbformat_minor": 2
}
