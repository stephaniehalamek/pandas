{
 "cells": [
  {
   "cell_type": "markdown",
   "id": "364e6ad0",
   "metadata": {},
   "source": [
    "# Miscellaneous Grouping Functionality\n",
    "\n",
    "Believe it or not, there is even more grouping functionality that remains to be covered in pandas. This chapter provides a few other lesser known grouping features possible with pandas."
   ]
  },
  {
   "cell_type": "markdown",
   "id": "e21d1ace",
   "metadata": {},
   "source": [
    "## Grouping by columns not in the DataFrame\n",
    "\n",
    "Thus far, we've only passed strings (or a list of strings) to the `groupby` method. Each of these strings refers to a specific column in the DataFrame. Let's review this simple concept by reading in the bikes dataset and finding the median trip duration by gender."
   ]
  },
  {
   "cell_type": "code",
   "execution_count": null,
   "id": "73210dbf",
   "metadata": {},
   "outputs": [],
   "source": [
    "import pandas as pd\n",
    "bikes = pd.read_csv('../data/bikes.csv', na_values=-9999)\n",
    "bikes.head(3)"
   ]
  },
  {
   "cell_type": "markdown",
   "id": "af2bea55",
   "metadata": {},
   "source": [
    "We use the syntax that returns the result as a Series."
   ]
  },
  {
   "cell_type": "code",
   "execution_count": null,
   "id": "7f759f26",
   "metadata": {
    "scrolled": true
   },
   "outputs": [],
   "source": [
    "bikes.groupby('gender')['tripduration'].median()"
   ]
  },
  {
   "cell_type": "markdown",
   "id": "62b27a18",
   "metadata": {},
   "source": [
    "Instead of passing in the string name of the column, you can select the column as a Series and pass it to the `groupby` method instead."
   ]
  },
  {
   "cell_type": "code",
   "execution_count": null,
   "id": "99b79e99",
   "metadata": {},
   "outputs": [],
   "source": [
    "s = bikes['gender']\n",
    "bikes.groupby(s)['tripduration'].median()"
   ]
  },
  {
   "cell_type": "markdown",
   "id": "94f6e50d",
   "metadata": {},
   "source": [
    "The same result is produced and since the syntax is a bit more involved, it's best to just use the string name for simplicity. However, the example does show that it is possible to use other Series not in the DataFrame. Take a look at the following Series that has nothing to with the bikes DataFrame. It's just a random sample of strings with the same length as the DataFrame."
   ]
  },
  {
   "cell_type": "code",
   "execution_count": null,
   "id": "65471346",
   "metadata": {},
   "outputs": [],
   "source": [
    "n = len(bikes)\n",
    "s_fruits = pd.Series(['Apple', 'Banana', 'Cantaloupe', 'Durian', 'Elderberry'])\n",
    "s_fruits = s_fruits.sample(n=n, replace=True, random_state=1, ignore_index=True)\n",
    "s_fruits.head()"
   ]
  },
  {
   "cell_type": "markdown",
   "id": "96fc0fd8",
   "metadata": {},
   "source": [
    "As long as the Series is the same length as the DataFrame, it may be passed to the `groupby` method where its unique values form distinct groups. As usual, these unique values are placed in the index."
   ]
  },
  {
   "cell_type": "code",
   "execution_count": null,
   "id": "f7fbedf9",
   "metadata": {},
   "outputs": [],
   "source": [
    "bikes.groupby(s_fruits)['tripduration'].agg(['size', 'mean'])"
   ]
  },
  {
   "cell_type": "markdown",
   "id": "52d5dc3d",
   "metadata": {},
   "source": [
    "### Mixing other Series and strings\n",
    "\n",
    "This other Series may be used together with the normal strings that refer to column names to group by multiple columns."
   ]
  },
  {
   "cell_type": "code",
   "execution_count": null,
   "id": "37b7d0ab",
   "metadata": {},
   "outputs": [],
   "source": [
    "bikes.groupby([s_fruits, 'gender'])['tripduration'].agg(['size', 'mean'])"
   ]
  },
  {
   "cell_type": "markdown",
   "id": "fc27c61e",
   "metadata": {},
   "source": [
    "One common use case is when binning a numeric column. Here, we bin temperature into six equal sized bins creating a Series and then count the values in each bin."
   ]
  },
  {
   "cell_type": "code",
   "execution_count": null,
   "id": "5efc8856",
   "metadata": {},
   "outputs": [],
   "source": [
    "temp_bins = pd.qcut(bikes['temperature'], 6)\n",
    "temp_bins.value_counts()"
   ]
  },
  {
   "cell_type": "markdown",
   "id": "4065aff6",
   "metadata": {},
   "source": [
    "This new Series may be used by itself or in combination with other column names to group. Take note that this Series is assigned to the variable name `s_gt`, and will be used in a upcoming section."
   ]
  },
  {
   "cell_type": "code",
   "execution_count": null,
   "id": "c29d8e6c",
   "metadata": {},
   "outputs": [],
   "source": [
    "s_gt = bikes.groupby(['gender', temp_bins])['tripduration'].median()\n",
    "s_gt"
   ]
  },
  {
   "cell_type": "markdown",
   "id": "f68bb280",
   "metadata": {},
   "source": [
    "Similarly, the `pivot_table` method accepts other Series as well. Here, we reproduce the results from above, but pivot the temperature bins so that they become the new column values."
   ]
  },
  {
   "cell_type": "code",
   "execution_count": null,
   "id": "7e1d4ec7",
   "metadata": {},
   "outputs": [],
   "source": [
    "bikes.pivot_table(index='gender', columns=temp_bins, \n",
    "                  values='tripduration', aggfunc='median')"
   ]
  },
  {
   "cell_type": "markdown",
   "id": "bb61fb16",
   "metadata": {},
   "source": [
    "## Grouping Series and aggregating other columns\n",
    "\n",
    "The object calling the `groupby` method has always been a DataFrame in all of our previous examples. The Series also has a `groupby` method and like we saw above, it's not necessary for the grouping column to be part of the calling object. Here, we select the trip duration column as a Series, and group using the temperature bins created above. The aggregations are automatically applied to the Series values."
   ]
  },
  {
   "cell_type": "code",
   "execution_count": null,
   "id": "d7418968",
   "metadata": {},
   "outputs": [],
   "source": [
    "td = bikes['tripduration']\n",
    "td.groupby(temp_bins).agg(['size', 'mean', 'median', 'min', 'max'])"
   ]
  },
  {
   "cell_type": "markdown",
   "id": "10ca93fa",
   "metadata": {},
   "source": [
    "## Grouping by index levels\n",
    "\n",
    "You might be wondering how to use the Series `groupby` method without passing it another Series to act as the grouping column. Series, like DataFrames, can have multiple index levels that act like columns. The `s_gt` Series created above has two index levels. Each of their names may be retrieved with the `names` Index attribute."
   ]
  },
  {
   "cell_type": "code",
   "execution_count": null,
   "id": "aa7114a1",
   "metadata": {},
   "outputs": [],
   "source": [
    "s_gt.index.names"
   ]
  },
  {
   "cell_type": "markdown",
   "id": "d347295e",
   "metadata": {},
   "source": [
    "These index levels may be used just as if they were DataFrame columns with their names passed to the `groupby` method as strings. The values of the Series are aggregated."
   ]
  },
  {
   "cell_type": "code",
   "execution_count": null,
   "id": "a30d14eb",
   "metadata": {
    "scrolled": true
   },
   "outputs": [],
   "source": [
    "s_gt.groupby('gender').max()"
   ]
  },
  {
   "cell_type": "markdown",
   "id": "83d9a460",
   "metadata": {},
   "source": [
    "It's also possible to use the integer location of the index level (numbering begins from 0 with the left-most level). Here, we group by the second level, the temperature bins."
   ]
  },
  {
   "cell_type": "code",
   "execution_count": null,
   "id": "5c44ac92",
   "metadata": {
    "scrolled": true
   },
   "outputs": [],
   "source": [
    "s_gt.groupby(level=1).max()"
   ]
  },
  {
   "cell_type": "markdown",
   "id": "0dbead3a",
   "metadata": {},
   "source": [
    "Note, that DataFrames may also be grouped by their index levels in the same exact manner."
   ]
  },
  {
   "cell_type": "markdown",
   "id": "9d38f9f7",
   "metadata": {},
   "source": [
    "## Changing the direction of grouping\n",
    "\n",
    "As we've seen, many DataFrame methods have an `axis` parameter available to change the default direction of the operation. For most methods, we set `axis=1` to change the operation from vertical to horizontal. The `groupby` method is no different in this regard. Let's read in the `sweden_age` dataset containing the population by age of every person in Sweden from 1980 to 2020. The year is placed in the index and the remaining columns represent each age from 0 to 100, where 100 represents all those aged 100 and above."
   ]
  },
  {
   "cell_type": "code",
   "execution_count": null,
   "id": "5f31595f",
   "metadata": {},
   "outputs": [],
   "source": [
    "sweden_age = pd.read_csv('../data/covid/sweden_age.csv', index_col='year')\n",
    "sweden_age.tail()"
   ]
  },
  {
   "cell_type": "markdown",
   "id": "27d36ee3",
   "metadata": {},
   "source": [
    "Let's say we are interested in finding the population of particular age bins per year. We use the `cut` function to bin the age columns, which are read in as strings and must be converted to integers first."
   ]
  },
  {
   "cell_type": "code",
   "execution_count": null,
   "id": "d1f04b85",
   "metadata": {},
   "outputs": [],
   "source": [
    "age_bins = pd.cut(sweden_age.columns.astype('int64'), \n",
    "                  bins=[0, 5, 15, 25, 35, 50, 65, 80, 101], \n",
    "                  right=False)\n",
    "age_bins.categories"
   ]
  },
  {
   "cell_type": "markdown",
   "id": "54935716",
   "metadata": {},
   "source": [
    "We created eight unique bins, each spanning a variety of different years of age. The variable `age_bins` contains a total of 101 values, one for each column."
   ]
  },
  {
   "cell_type": "code",
   "execution_count": null,
   "id": "b2b5a352",
   "metadata": {},
   "outputs": [],
   "source": [
    "len(age_bins)"
   ]
  },
  {
   "cell_type": "markdown",
   "id": "2b55451d",
   "metadata": {},
   "source": [
    "We can now use these bins to group the columns together by setting `axis=1`. The first five columns form a group, with the next 10 columns forming their own independent group, and so on. We now have the population by year within specific age groups."
   ]
  },
  {
   "cell_type": "code",
   "execution_count": null,
   "id": "e4bfb957",
   "metadata": {
    "scrolled": true
   },
   "outputs": [],
   "source": [
    "sweden_age.groupby(age_bins, axis=1).sum().tail()"
   ]
  },
  {
   "cell_type": "markdown",
   "id": "2768be20",
   "metadata": {},
   "source": [
    "## Exercises\n",
    "\n",
    "Read in the flights dataset and use it for the following exercises."
   ]
  },
  {
   "cell_type": "code",
   "execution_count": null,
   "id": "36d1b45e",
   "metadata": {},
   "outputs": [],
   "source": [
    "flights = pd.read_csv('../data/flights.csv')\n",
    "flights.head(3)"
   ]
  },
  {
   "cell_type": "markdown",
   "id": "ec385544",
   "metadata": {},
   "source": [
    "### Exercise 1\n",
    "\n",
    "<span style=\"color:green; font-size:16px\">Create a Series of booleans determining if there is a carrier delay of 15 minutes or more. The values should be `False` if under 15 minutes and `True` if 15 minutes or over. Find the average distance flown by each group.</span>"
   ]
  },
  {
   "cell_type": "code",
   "execution_count": null,
   "id": "5d363af9",
   "metadata": {},
   "outputs": [],
   "source": []
  },
  {
   "cell_type": "markdown",
   "id": "e226982a",
   "metadata": {},
   "source": [
    "### Exercise 2\n",
    "\n",
    "<span style=\"color:green; font-size:16px\">Create a Series of booleans determining if there is a weather delay of 15 minutes or more. Compute a cross tabulation of this Series with the similar one created above on carrier delay.</span>"
   ]
  },
  {
   "cell_type": "code",
   "execution_count": null,
   "id": "2f9db37f",
   "metadata": {},
   "outputs": [],
   "source": []
  },
  {
   "cell_type": "markdown",
   "id": "32ace054",
   "metadata": {},
   "source": [
    "### Exercise 3\n",
    "\n",
    "<span style=\"color:green; font-size:16px\">Find the total carrier delay by airline and origin as a Series with a multi-level index.</span>"
   ]
  },
  {
   "cell_type": "code",
   "execution_count": null,
   "id": "79492258",
   "metadata": {},
   "outputs": [],
   "source": []
  },
  {
   "cell_type": "markdown",
   "id": "1b0037a1",
   "metadata": {},
   "source": [
    "### Exercise 4\n",
    "\n",
    "<span style=\"color:green; font-size:16px\">Using the Series from Exercise 3, calculate the total carrier delay by airline. Verify the result by calculating it directly from the original DataFrame.</span>"
   ]
  },
  {
   "cell_type": "code",
   "execution_count": null,
   "id": "b7aa35d1",
   "metadata": {},
   "outputs": [],
   "source": []
  },
  {
   "cell_type": "markdown",
   "id": "f9f8e6b0",
   "metadata": {},
   "source": [
    "### Exercise 5\n",
    "\n",
    "<span style=\"color:green; font-size:16px\">Read in the Sweden deaths dataset found in the covid folder. Place the year column in the index and then calculate the total number of deaths by 10 year age interval per year. Then take this DataFrame and calculate the average deaths per age group group by 5 year time spans</span>"
   ]
  },
  {
   "cell_type": "code",
   "execution_count": null,
   "id": "b85931df",
   "metadata": {},
   "outputs": [],
   "source": []
  }
 ],
 "metadata": {
  "kernelspec": {
   "display_name": "Python 3 (ipykernel)",
   "language": "python",
   "name": "python3"
  },
  "language_info": {
   "codemirror_mode": {
    "name": "ipython",
    "version": 3
   },
   "file_extension": ".py",
   "mimetype": "text/x-python",
   "name": "python",
   "nbconvert_exporter": "python",
   "pygments_lexer": "ipython3",
   "version": "3.8.11"
  }
 },
 "nbformat": 4,
 "nbformat_minor": 5
}
