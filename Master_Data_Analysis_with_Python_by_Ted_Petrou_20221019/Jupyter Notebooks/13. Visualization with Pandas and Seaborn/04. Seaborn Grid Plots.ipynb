{
 "cells": [
  {
   "cell_type": "markdown",
   "metadata": {},
   "source": [
    "# Seaborn Grid Plots\n",
    "\n",
    "In this chapter, we continue our coverage of seaborn by focusing on plotting functions that return 'grids'. These are seaborn objects that wrap matplotlib's figure and usually contain more than one axes. There are a few different kinds of grids; some plot each group on a different axes, while others enhance the main plot on the axes.\n",
    "\n",
    "## Grids by categories\n",
    "\n",
    "Many grid plotting functions split the data by unique category values. Take a look at the [Categorical section][0] of the API. The very top function, `catplot`, is the only grid plot in that group. The others are axes plots. The `catplot` function is capable of making each of the other plots in its section. It can be thought of as a 'metaplotting' function, as it just uses the other underlying plots in its section. Let's start with `catplot` and read in our Airbnb listings data setting the style to whitegrid.\n",
    "\n",
    "[0]: https://seaborn.pydata.org/api.html#categorical-plots"
   ]
  },
  {
   "cell_type": "code",
   "execution_count": 1,
   "metadata": {},
   "outputs": [
    {
     "data": {
      "text/html": [
       "<div>\n",
       "<style scoped>\n",
       "    .dataframe tbody tr th:only-of-type {\n",
       "        vertical-align: middle;\n",
       "    }\n",
       "\n",
       "    .dataframe tbody tr th {\n",
       "        vertical-align: top;\n",
       "    }\n",
       "\n",
       "    .dataframe thead th {\n",
       "        text-align: right;\n",
       "    }\n",
       "</style>\n",
       "<table border=\"1\" class=\"dataframe\">\n",
       "  <thead>\n",
       "    <tr style=\"text-align: right;\">\n",
       "      <th></th>\n",
       "      <th>id</th>\n",
       "      <th>neighborhood</th>\n",
       "      <th>room_type</th>\n",
       "      <th>accommodates</th>\n",
       "      <th>bedrooms</th>\n",
       "      <th>price</th>\n",
       "      <th>security_deposit</th>\n",
       "      <th>cleaning_fee</th>\n",
       "      <th>rating</th>\n",
       "      <th>superhost</th>\n",
       "      <th>response_time</th>\n",
       "      <th>acceptance_rate</th>\n",
       "      <th>host_since</th>\n",
       "      <th>last_review</th>\n",
       "      <th>num_reviews</th>\n",
       "      <th>latitude</th>\n",
       "      <th>longitude</th>\n",
       "      <th>minimum_nights</th>\n",
       "      <th>maximum_nights</th>\n",
       "    </tr>\n",
       "  </thead>\n",
       "  <tbody>\n",
       "    <tr>\n",
       "      <th>0</th>\n",
       "      <td>3686</td>\n",
       "      <td>Historic Anacostia</td>\n",
       "      <td>Private room</td>\n",
       "      <td>1</td>\n",
       "      <td>1.0</td>\n",
       "      <td>55</td>\n",
       "      <td>25</td>\n",
       "      <td>25</td>\n",
       "      <td>4.60</td>\n",
       "      <td>0</td>\n",
       "      <td>a few days or more</td>\n",
       "      <td>67%</td>\n",
       "      <td>2008-11-26</td>\n",
       "      <td>2021-08-09</td>\n",
       "      <td>76</td>\n",
       "      <td>38.86339</td>\n",
       "      <td>-76.98889</td>\n",
       "      <td>2</td>\n",
       "      <td>365</td>\n",
       "    </tr>\n",
       "    <tr>\n",
       "      <th>1</th>\n",
       "      <td>3943</td>\n",
       "      <td>Edgewood</td>\n",
       "      <td>Private room</td>\n",
       "      <td>2</td>\n",
       "      <td>1.0</td>\n",
       "      <td>71</td>\n",
       "      <td>50</td>\n",
       "      <td>0</td>\n",
       "      <td>4.81</td>\n",
       "      <td>0</td>\n",
       "      <td>NaN</td>\n",
       "      <td>NaN</td>\n",
       "      <td>2008-12-12</td>\n",
       "      <td>2021-09-11</td>\n",
       "      <td>434</td>\n",
       "      <td>38.91195</td>\n",
       "      <td>-77.00456</td>\n",
       "      <td>2</td>\n",
       "      <td>1125</td>\n",
       "    </tr>\n",
       "    <tr>\n",
       "      <th>2</th>\n",
       "      <td>4529</td>\n",
       "      <td>Eastland Gardens</td>\n",
       "      <td>Private room</td>\n",
       "      <td>4</td>\n",
       "      <td>1.0</td>\n",
       "      <td>54</td>\n",
       "      <td>25</td>\n",
       "      <td>50</td>\n",
       "      <td>4.66</td>\n",
       "      <td>0</td>\n",
       "      <td>within a few hours</td>\n",
       "      <td>NaN</td>\n",
       "      <td>2008-12-30</td>\n",
       "      <td>2019-07-05</td>\n",
       "      <td>102</td>\n",
       "      <td>38.90585</td>\n",
       "      <td>-76.94469</td>\n",
       "      <td>30</td>\n",
       "      <td>180</td>\n",
       "    </tr>\n",
       "  </tbody>\n",
       "</table>\n",
       "</div>"
      ],
      "text/plain": [
       "     id        neighborhood     room_type  accommodates  bedrooms  price  \\\n",
       "0  3686  Historic Anacostia  Private room             1       1.0     55   \n",
       "1  3943            Edgewood  Private room             2       1.0     71   \n",
       "2  4529    Eastland Gardens  Private room             4       1.0     54   \n",
       "\n",
       "   security_deposit  cleaning_fee  rating  superhost       response_time  \\\n",
       "0                25            25    4.60          0  a few days or more   \n",
       "1                50             0    4.81          0                 NaN   \n",
       "2                25            50    4.66          0  within a few hours   \n",
       "\n",
       "  acceptance_rate  host_since last_review  num_reviews  latitude  longitude  \\\n",
       "0             67%  2008-11-26  2021-08-09           76  38.86339  -76.98889   \n",
       "1             NaN  2008-12-12  2021-09-11          434  38.91195  -77.00456   \n",
       "2             NaN  2008-12-30  2019-07-05          102  38.90585  -76.94469   \n",
       "\n",
       "   minimum_nights  maximum_nights  \n",
       "0               2             365  \n",
       "1               2            1125  \n",
       "2              30             180  "
      ]
     },
     "execution_count": 1,
     "metadata": {},
     "output_type": "execute_result"
    }
   ],
   "source": [
    "import matplotlib.pyplot as plt\n",
    "import numpy as np\n",
    "import pandas as pd\n",
    "import seaborn as sns\n",
    "sns.set_theme(style='whitegrid', rc={'figure.figsize': (5, 2.7), 'figure.dpi': 127}, \n",
    "              font_scale=0.8)\n",
    "airbnb = pd.read_csv('../data/airbnb.csv')\n",
    "airbnb.head(3)"
   ]
  },
  {
   "cell_type": "markdown",
   "metadata": {},
   "source": [
    "### Set the `kind` parameter\n",
    "\n",
    "The `kind` parameter of `catplot` must be set to one of the following options: 'point', 'bar', 'strip', 'swarm', 'box', 'violin', or 'boxen'. Let's create a bar plot of the median price by number of persons each listing accommodates of those that accommodate four or less further splitting by superhost. The following creates a simple seaborn grid with a single axes, which we assign to a variable."
   ]
  },
  {
   "cell_type": "code",
   "execution_count": 2,
   "metadata": {},
   "outputs": [
    {
     "data": {
      "image/png": "[encoded data removed]",
      "text/plain": [
       "<Figure size 379.736x150 with 1 Axes>"
      ]
     },
     "metadata": {},
     "output_type": "display_data"
    }
   ],
   "source": [
    "grid = sns.catplot(kind='bar', x='accommodates', y='price', hue='superhost',\n",
    "                   data=airbnb, order=[1, 2, 3, 4], estimator=np.median,\n",
    "                   ci=None, height=1.5, aspect=2)"
   ]
  },
  {
   "cell_type": "markdown",
   "metadata": {},
   "source": [
    "Let's verify that a seaborn grid was returned."
   ]
  },
  {
   "cell_type": "code",
   "execution_count": 3,
   "metadata": {},
   "outputs": [
    {
     "data": {
      "text/plain": [
       "seaborn.axisgrid.FacetGrid"
      ]
     },
     "execution_count": 3,
     "metadata": {},
     "output_type": "execute_result"
    }
   ],
   "source": [
    "type(grid)"
   ]
  },
  {
   "cell_type": "markdown",
   "metadata": {},
   "source": [
    "Access the underlying matplotlib figure with the `fig` attribute."
   ]
  },
  {
   "cell_type": "code",
   "execution_count": 4,
   "metadata": {},
   "outputs": [
    {
     "data": {
      "text/plain": [
       "matplotlib.figure.Figure"
      ]
     },
     "execution_count": 4,
     "metadata": {},
     "output_type": "execute_result"
    }
   ],
   "source": [
    "fig = grid.fig\n",
    "type(fig)"
   ]
  },
  {
   "cell_type": "markdown",
   "metadata": {},
   "source": [
    "Return all axes in the figure as a list with the `axes` attribute."
   ]
  },
  {
   "cell_type": "code",
   "execution_count": 5,
   "metadata": {},
   "outputs": [
    {
     "data": {
      "text/plain": [
       "[<AxesSubplot:xlabel='accommodates', ylabel='price'>]"
      ]
     },
     "execution_count": 5,
     "metadata": {},
     "output_type": "execute_result"
    }
   ],
   "source": [
    "fig.axes"
   ]
  },
  {
   "cell_type": "markdown",
   "metadata": {},
   "source": [
    "We can change properties of this axes and then output the figure again."
   ]
  },
  {
   "cell_type": "code",
   "execution_count": 6,
   "metadata": {},
   "outputs": [
    {
     "data": {
      "image/png": "[encoded data removed]",
      "text/plain": [
       "<Figure size 379.736x150 with 1 Axes>"
      ]
     },
     "execution_count": 6,
     "metadata": {},
     "output_type": "execute_result"
    }
   ],
   "source": [
    "fig.axes[0].set(xlabel='', ylabel='', title='Median Price by Number Accommodates')\n",
    "fig"
   ]
  },
  {
   "cell_type": "markdown",
   "metadata": {},
   "source": [
    "### Control figure size with `height` and `aspect`\n",
    "\n",
    "The parameters `height` and `aspect` are used to control the height and width of each axes and ultimately, the entire figure. By default, `height` is set to 5 inches. The `aspect` controls the ratio of width to height and is set to 1 by default. Multiplying the height by the aspect ratio gets the width of each axes (5 x 5 by default). Above, the height was set to 1.5 inches and aspect to 2 which made the width 3 inches. Let's verify the dimensions. The legend is responsible for adding a little extra width."
   ]
  },
  {
   "cell_type": "code",
   "execution_count": 7,
   "metadata": {},
   "outputs": [
    {
     "data": {
      "text/plain": [
       "array([3.79736111, 1.5       ])"
      ]
     },
     "execution_count": 7,
     "metadata": {},
     "output_type": "execute_result"
    }
   ],
   "source": [
    "fig.get_size_inches()"
   ]
  },
  {
   "cell_type": "markdown",
   "metadata": {},
   "source": [
    "The above plot can be duplicated directly with the `barplot` axes function."
   ]
  },
  {
   "cell_type": "code",
   "execution_count": 8,
   "metadata": {},
   "outputs": [
    {
     "ename": "NameError",
     "evalue": "name 'plt' is not defined",
     "output_type": "error",
     "traceback": [
      "\u001b[0;31m---------------------------------------------------------------------------\u001b[0m",
      "\u001b[0;31mNameError\u001b[0m                                 Traceback (most recent call last)",
      "Input \u001b[0;32mIn [8]\u001b[0m, in \u001b[0;36m<cell line: 1>\u001b[0;34m()\u001b[0m\n\u001b[0;32m----> 1\u001b[0m fig, ax \u001b[38;5;241m=\u001b[39m \u001b[43mplt\u001b[49m\u001b[38;5;241m.\u001b[39msubplots(figsize\u001b[38;5;241m=\u001b[39m(\u001b[38;5;241m3\u001b[39m, \u001b[38;5;241m1.5\u001b[39m))\n\u001b[1;32m      2\u001b[0m sns\u001b[38;5;241m.\u001b[39mbarplot(x\u001b[38;5;241m=\u001b[39m\u001b[38;5;124m'\u001b[39m\u001b[38;5;124maccommodates\u001b[39m\u001b[38;5;124m'\u001b[39m, y\u001b[38;5;241m=\u001b[39m\u001b[38;5;124m'\u001b[39m\u001b[38;5;124mprice\u001b[39m\u001b[38;5;124m'\u001b[39m, data\u001b[38;5;241m=\u001b[39mairbnb, hue\u001b[38;5;241m=\u001b[39m\u001b[38;5;124m'\u001b[39m\u001b[38;5;124msuperhost\u001b[39m\u001b[38;5;124m'\u001b[39m, \n\u001b[1;32m      3\u001b[0m             order\u001b[38;5;241m=\u001b[39m[\u001b[38;5;241m1\u001b[39m, \u001b[38;5;241m2\u001b[39m, \u001b[38;5;241m3\u001b[39m, \u001b[38;5;241m4\u001b[39m], estimator\u001b[38;5;241m=\u001b[39mnp\u001b[38;5;241m.\u001b[39mmedian, ci\u001b[38;5;241m=\u001b[39m\u001b[38;5;28;01mNone\u001b[39;00m, ax\u001b[38;5;241m=\u001b[39max)\n\u001b[1;32m      4\u001b[0m ax\u001b[38;5;241m.\u001b[39mset(xlabel\u001b[38;5;241m=\u001b[39m\u001b[38;5;124m'\u001b[39m\u001b[38;5;124m'\u001b[39m, ylabel\u001b[38;5;241m=\u001b[39m\u001b[38;5;124m'\u001b[39m\u001b[38;5;124m'\u001b[39m, title\u001b[38;5;241m=\u001b[39m\u001b[38;5;124m'\u001b[39m\u001b[38;5;124mMedian Price by Number Accommodates\u001b[39m\u001b[38;5;124m'\u001b[39m)\n",
      "\u001b[0;31mNameError\u001b[0m: name 'plt' is not defined"
     ]
    }
   ],
   "source": [
    "fig, ax = plt.subplots(figsize=(3, 1.5))\n",
    "sns.barplot(x='accommodates', y='price', data=airbnb, hue='superhost', \n",
    "            order=[1, 2, 3, 4], estimator=np.median, ci=None, ax=ax)\n",
    "ax.set(xlabel='', ylabel='', title='Median Price by Number Accommodates');"
   ]
  },
  {
   "cell_type": "markdown",
   "metadata": {},
   "source": [
    "### Creating multiple axes with `row` and `col`\n",
    "\n",
    "The main reason to use `catplot` is to split your data into multiple axes using the `row` and/or `col` parameters. These should be set to a categorical column name. We set `col` to neighborhood which would create a new axes for each neighborhood. But, we limit it to just the most frequent six neighborhoods with `col_order`."
   ]
  },
  {
   "cell_type": "code",
   "execution_count": null,
   "metadata": {},
   "outputs": [],
   "source": [
    "top6 = airbnb['neighborhood'].value_counts().index[:6]\n",
    "grid = sns.catplot(kind='bar', x='accommodates', y='price', data=airbnb, \n",
    "                   order=[1, 2, 3, 4], hue='superhost', col='neighborhood', \n",
    "                   col_order=top6, estimator=np.median, ci=None, height=1.5)"
   ]
  },
  {
   "cell_type": "markdown",
   "metadata": {},
   "source": [
    "We have six axes each with a height and width of 1.5, so the entire figure size should be around 9 x 1.5 plus some extra width for the legend."
   ]
  },
  {
   "cell_type": "code",
   "execution_count": null,
   "metadata": {},
   "outputs": [],
   "source": [
    "grid.fig.get_size_inches()"
   ]
  },
  {
   "cell_type": "markdown",
   "metadata": {},
   "source": [
    "By default, all axes will be placed on a single row. Change this by setting the maximum number of axes per row with `col_wrap`. The seaborn grid object has a number of helper methods to set multiple properties at once. Here, we pass `set_titles` a string template to display just the neighborhood name. We also add a title to the entire figure by accessing the figure and calling its `suptitle` method."
   ]
  },
  {
   "cell_type": "code",
   "execution_count": null,
   "metadata": {},
   "outputs": [],
   "source": [
    "grid = sns.catplot(kind='bar', x='accommodates', y='price', data=airbnb, \n",
    "                   order=[1, 2, 3, 4], hue='superhost', col='neighborhood', \n",
    "                   col_order=top6, col_wrap=3, estimator=np.median, ci=None, \n",
    "                   height=1.5, aspect=1.2)\n",
    "grid.set_titles('{col_name}')\n",
    "grid.fig.suptitle('Washington D.C. Airbnb Listings by Neighborhood', y=1.03);"
   ]
  },
  {
   "cell_type": "markdown",
   "metadata": {},
   "source": [
    "We made each plot a bit wider by changing the aspect ratio to 1.2. Now that there are two rows, the total height of the figure has doubled from 1.5 to 3. Let's verify these changes in the figure size."
   ]
  },
  {
   "cell_type": "code",
   "execution_count": null,
   "metadata": {},
   "outputs": [],
   "source": [
    "grid.fig.get_size_inches()"
   ]
  },
  {
   "cell_type": "markdown",
   "metadata": {},
   "source": [
    "It's possible to set both `row` and `col` simultaneously to different categorical variables. The size of the grid is determined automatically from the number of unique values in each. Let's use `catplot` to create a separate axes for each unique combination of neighborhood and room type counting the number of listings by persons accommodated and minimum nights. First, we get the two most common room types."
   ]
  },
  {
   "cell_type": "code",
   "execution_count": null,
   "metadata": {},
   "outputs": [],
   "source": [
    "properties = airbnb['room_type'].value_counts().index[:2]\n",
    "properties"
   ]
  },
  {
   "cell_type": "markdown",
   "metadata": {},
   "source": [
    "We substantially cut down on the number of axes and bars by using the parameters that end in `order`. By default, all x and y axis limits are shared. The `sharex` and `sharey` boolean parameters can be set to `False` so that each axes sets it own limits. Here, each axes sets its own y-axis limits, though this isn't usually good practice as it makes for more difficult comparisons. Setting `margin_titles` to `True` places the titles of each row along the top and right side of the grid instead of on every axes."
   ]
  },
  {
   "cell_type": "code",
   "execution_count": null,
   "metadata": {},
   "outputs": [],
   "source": [
    "sns.catplot(kind='count', x='accommodates', data=airbnb, \n",
    "            order=[1, 2, 3, 4], hue='minimum_nights', hue_order=[1, 2, 3],\n",
    "            col='neighborhood', col_order=top6[:3], \n",
    "            row='room_type', row_order=properties,\n",
    "            height=2, aspect=1.8, sharey=False, margin_titles=True);"
   ]
  },
  {
   "cell_type": "markdown",
   "metadata": {},
   "source": [
    "## Scatter and line plot grids\n",
    "\n",
    "The `relplot` function creates scatter and line plots within a grid in a very similar fashion as `catplot`. Choose the underlying plot by setting `kind` to either `'scatter'` or `'line'` Use the `row` and `col` parameters to split the data into separate axes. Here, we plot the location of every listing by room type and persons it accommodates. The size is controlled by price and color by rating."
   ]
  },
  {
   "cell_type": "code",
   "execution_count": null,
   "metadata": {},
   "outputs": [],
   "source": [
    "sns.relplot(x='longitude', y='latitude', kind='scatter', data=airbnb.query('price < 500'),\n",
    "            size='price', size_norm=(100, 300),\n",
    "            hue='rating',\n",
    "            col='accommodates', col_order=[1, 2, 3, 4],\n",
    "            row='room_type', row_order=properties, height=2.5);"
   ]
  },
  {
   "cell_type": "markdown",
   "metadata": {},
   "source": [
    "### Line plots with `relplot`\n",
    "\n",
    "Let's make a single line plot on each axes showing the total number of COVID-19 deaths for the first 10 days after the 50th death for each country."
   ]
  },
  {
   "cell_type": "code",
   "execution_count": null,
   "metadata": {
    "scrolled": true
   },
   "outputs": [],
   "source": [
    "full_covid = pd.read_csv('../data/covid/full_covid_data.csv', parse_dates=['date'])\n",
    "full_covid.tail(3)"
   ]
  },
  {
   "cell_type": "markdown",
   "metadata": {},
   "source": [
    "We begin by selecting the countries with 10 or more days of over 50 deaths."
   ]
  },
  {
   "cell_type": "code",
   "execution_count": null,
   "metadata": {},
   "outputs": [],
   "source": [
    "df = full_covid.query('total_deaths >= 50')\n",
    "df = df.groupby('country').filter(lambda x: len(x) >= 10)\n",
    "df.tail(3)"
   ]
  },
  {
   "cell_type": "markdown",
   "metadata": {},
   "source": [
    "We then add a column that tracks the number of days after the 50th death for each country and filter for the first 10 days."
   ]
  },
  {
   "cell_type": "code",
   "execution_count": null,
   "metadata": {},
   "outputs": [],
   "source": [
    "df['days_after_50'] = df.groupby('country').cumcount()\n",
    "df = df.query('days_after_50 <= 10')\n",
    "df.tail(3)"
   ]
  },
  {
   "cell_type": "markdown",
   "metadata": {},
   "source": [
    "We can now use `relplot` to make a line plot of each country on its own axes by setting the `col` parameter. The aggregation function is set to `sum`, but since there's only one number per country per date, it doesn't really do anything."
   ]
  },
  {
   "cell_type": "code",
   "execution_count": null,
   "metadata": {},
   "outputs": [],
   "source": [
    "grid = sns.relplot(x='days_after_50', y='total_deaths', data=df, \n",
    "                   kind='line', col='country',col_wrap=3, estimator=np.sum, \n",
    "                   ci=None, height=1.5, aspect=2)\n",
    "grid.set_titles('{col_name}')\n",
    "grid.set_ylabels('')\n",
    "grid.set_xlabels('')\n",
    "grid.fig.suptitle('Total Deaths from COVID-19 0-10 Days After 50th Death',\n",
    "                  y=1.04, fontsize=12);"
   ]
  },
  {
   "cell_type": "markdown",
   "metadata": {},
   "source": [
    "## Regression grid plots\n",
    "\n",
    "Following in the footsteps of `catplot` and `relplot` is `lmplot`, which makes grids of regression plots by using the `row` and `col` parameters. It essentially allows you run `regplot` on multiple different axes. Let's add a column for the miles from the White House to our Airbnb data again to test the relationship between it and price."
   ]
  },
  {
   "cell_type": "code",
   "execution_count": null,
   "metadata": {},
   "outputs": [],
   "source": [
    "wh_coords = -77.0365, 38.8977\n",
    "dist_degree = ((airbnb['longitude'] - wh_coords[0]) ** 2 + \n",
    "               (airbnb['latitude'] - wh_coords[1]) ** 2) ** .5\n",
    "miles_per_degree = 25000 / 360\n",
    "airbnb['miles_from_wh'] = (dist_degree * miles_per_degree).round(2)"
   ]
  },
  {
   "cell_type": "markdown",
   "metadata": {},
   "source": [
    "The `lmplot` function has an option for `hue`, which is not available to `regplot`. We'll use it to build two separate regression lines - one for two different room types. A small subset of the data is used because of the large number of points."
   ]
  },
  {
   "cell_type": "code",
   "execution_count": null,
   "metadata": {},
   "outputs": [],
   "source": [
    "df = airbnb.sample(n=400, random_state=1)\n",
    "grid = sns.lmplot(x='miles_from_wh', y='price', data=df, hue='room_type', \n",
    "                  hue_order=properties, robust=True, ci=None, height=2, aspect=2, \n",
    "                  scatter_kws={'s': 6, 'alpha': .5})\n",
    "grid.set(ylim=(0, 250));"
   ]
  },
  {
   "cell_type": "markdown",
   "metadata": {},
   "source": [
    "Here, we use the full power of `lmplot` and split the data by persons accommodated and minimum nights."
   ]
  },
  {
   "cell_type": "code",
   "execution_count": null,
   "metadata": {},
   "outputs": [],
   "source": [
    "grid = sns.lmplot(x='miles_from_wh', y='price', data=airbnb, \n",
    "                  hue='room_type', hue_order=properties,\n",
    "                  col='accommodates', col_order=[1, 2, 3],\n",
    "                  row='minimum_nights', row_order=[1, 2],\n",
    "                  robust=True, ci=None, height=2, aspect=1.5, \n",
    "                  scatter_kws={'s': 6, 'alpha': .5})\n",
    "grid.set(ylim=(0, 250));"
   ]
  },
  {
   "cell_type": "markdown",
   "metadata": {},
   "source": [
    "## Bivariate distributions grids\n",
    "\n",
    "The `jointplot` function creates a grid with three matplotlib axes. The main axes contains the joint distribution of two numeric variables as either a scatter plot, KDE, or hexbin chosen with `kind`. Above and to the right of the main axes are univariate distributions of each variable as either a histogram or KDE. Here, we construct a bivariate KDE of miles from the White House and price for listings that accommodate four persons."
   ]
  },
  {
   "cell_type": "code",
   "execution_count": null,
   "metadata": {},
   "outputs": [],
   "source": [
    "df = airbnb.query('accommodates == 4')\n",
    "grid = sns.jointplot(x='miles_from_wh', y='price', data=df, height=3, \n",
    "                     kind='kde', xlim=(0, 7), ylim=(30, 220), shade=True)"
   ]
  },
  {
   "cell_type": "markdown",
   "metadata": {},
   "source": [
    "Above the plot lies the univariate KDE for miles from the White House. The univariate KDE for price is to the right. Individually, these are called the marginal distributions. It is easy to replicate the marginal KDEs to verify them. Here, we find the KDE of miles from the White House."
   ]
  },
  {
   "cell_type": "code",
   "execution_count": null,
   "metadata": {},
   "outputs": [],
   "source": [
    "fig, ax = plt.subplots(figsize=(2.8, .6))\n",
    "sns.kdeplot(df['miles_from_wh'], ax=ax, shade=True, legend=False)\n",
    "ax.set_xlim(0, 7);"
   ]
  },
  {
   "cell_type": "markdown",
   "metadata": {},
   "source": [
    "Each plot is stored on its own axes. Let's verify that there are three axes."
   ]
  },
  {
   "cell_type": "code",
   "execution_count": null,
   "metadata": {},
   "outputs": [],
   "source": [
    "grid.fig.axes"
   ]
  },
  {
   "cell_type": "markdown",
   "metadata": {},
   "source": [
    "## Scatter plot grids of multiple column combinations\n",
    "\n",
    "The `pairplot` function allows you to plot any number of combinations of numeric variables as a scatter plot. Select the columns with the `vars` parameter. Here, each pair of combinations of four columns of the housing dataset are plotted as scatter plots and colored by three values of overall quality using `hue`.\n",
    "\n",
    "By default, a square grid is created with each pair plotted twice, once as each x and y variable. This redundancy can be eliminated by setting `corner` to `True`. The diagonal plots are different as scatter plots with the same x and y variable would be pointless. A univariate histogram or KDE is produced instead and chosen with `diag_kind`."
   ]
  },
  {
   "cell_type": "code",
   "execution_count": null,
   "metadata": {},
   "outputs": [],
   "source": [
    "housing = pd.read_csv('../data/housing.csv')\n",
    "cols = ['GrLivArea','TotalBsmtSF', 'GarageArea', 'SalePrice']\n",
    "sns.pairplot(housing, vars=cols, hue='OverallQual', corner=True, \n",
    "             kind='scatter', diag_kind='kde',\n",
    "             hue_order=[5, 7, 9], height=1, aspect=1.5, plot_kws={'s': 10});"
   ]
  },
  {
   "cell_type": "markdown",
   "metadata": {},
   "source": [
    "## Hierarchical cluster map\n",
    "\n",
    "The `clustermap` function is one of the most powerful and interesting options seaborn has available. It finds similar rows and columns in your DataFrame using hierarchical clustering and creates a heat map to display the results. One use case is when you are exploring similarities between columns. The meetup dataset is used here, which contains 30 different groups from Meetup.com in the Houston area. Each row represents a single person's membership. Let's read in the data and observe the first few members and groups."
   ]
  },
  {
   "cell_type": "code",
   "execution_count": null,
   "metadata": {},
   "outputs": [],
   "source": [
    "meetup = pd.read_csv('../data/meetup.csv', index_col='member_id')\n",
    "meetup.iloc[:3, :5]"
   ]
  },
  {
   "cell_type": "markdown",
   "metadata": {},
   "source": [
    "Let's say we are interested in finding the similarity between groups based on the fraction of members that are in-common between both. We can find the correlation coefficient between each column by calling the `corr` method. The correlation between the first five groups is displayed below."
   ]
  },
  {
   "cell_type": "code",
   "execution_count": null,
   "metadata": {},
   "outputs": [],
   "source": [
    "meetup_corr = meetup.corr()\n",
    "meetup_corr.iloc[:5, :5].round(3)"
   ]
  },
  {
   "cell_type": "markdown",
   "metadata": {},
   "source": [
    "We can then find all groups that are most similar to one another by sorting each column's values. Let's find the groups most similar to the Houston Energy Data Science Meetup. As we would expect, these are all data science groups."
   ]
  },
  {
   "cell_type": "code",
   "execution_count": null,
   "metadata": {},
   "outputs": [],
   "source": [
    "meetup_corr['Houston Energy Data Science Meetup'].sort_values(ascending=False).head()"
   ]
  },
  {
   "cell_type": "markdown",
   "metadata": {},
   "source": [
    "The `clustermap` displays all of this data as a heat map. The maximum correlation value of 1, achieved only when computing the correlation of one group to itself will severely skew the distribution of color that the heat map uses. Let's get the highest correlation that is not 1 and assign it to `vmax`."
   ]
  },
  {
   "cell_type": "code",
   "execution_count": null,
   "metadata": {},
   "outputs": [],
   "source": [
    "vmax = meetup_corr.replace(1, 0).max().max()\n",
    "vmax"
   ]
  },
  {
   "cell_type": "markdown",
   "metadata": {},
   "source": [
    "We now pass the pairwise correlation matrix between each group into the `clustermap` function. It rearranges the column order so that columns in the same cluster are next to one another in the plot. It is possible that groups are negatively correlated with one another, but we are interested in finding those similar to one another. Because of this, we set the color for any correlation below .05 to the first color of the colormap, which is white for `hot_r`. We also set the last color to be mapped to the maximum correlation found above."
   ]
  },
  {
   "cell_type": "code",
   "execution_count": null,
   "metadata": {},
   "outputs": [],
   "source": [
    "from matplotlib import cm\n",
    "grid = sns.clustermap(meetup_corr, vmin=.05, vmax=vmax, cmap='hot_r', figsize=(8, 5),\n",
    "                      cbar_pos=(0.02, 0.5, 0.04, 0.25), xticklabels=[], \n",
    "                      yticklabels=True, dendrogram_ratio=.15)\n",
    "ax = grid.ax_heatmap\n",
    "arrowprops = {'arrowstyle':'<->', 'connectionstyle':'angle,angleA=110,angleB=70'}\n",
    "annot_kwargs = {'text':'', 'xycoords':ax.transAxes, 'textcoords':ax.transAxes, \n",
    "                'arrowprops':arrowprops}\n",
    "text_kwargs = {'transform':ax.transAxes, 'size':12, 'weight':'bold', \n",
    "               'ha':'center', 'va':'center'}\n",
    "colors = cm.tab10([0, 2, 4])\n",
    "arrowprops['color'] = colors[0]\n",
    "ax.annotate(xy=(.295, .7), xytext=(.295, 1), **annot_kwargs)\n",
    "arrowprops['color'] = colors[1]\n",
    "ax.annotate(xy=(.295, .7), xytext=(.295, .26), **annot_kwargs)\n",
    "arrowprops['color'] = colors[2]\n",
    "ax.annotate(xy=(.73, .275), xytext=(.73, 0), **annot_kwargs)\n",
    "ax.text(x=.5, y=.85, s='Social Meetups', **text_kwargs, color=colors[0])\n",
    "ax.text(x=.12, y=.48, s='Tech\\nMeetups', **text_kwargs, color=colors[1])\n",
    "ax.text(x=.54, y=.13, s='Data Science\\nMeetups', **text_kwargs, color=colors[2])\n",
    "grid.ax_row_dendrogram.set_visible(False)"
   ]
  },
  {
   "cell_type": "markdown",
   "metadata": {},
   "source": [
    "A sophisticated procedure called hierarchical clustering is used to find similar meetup groups. There is no definitive number of clusters returned with hierarchical clustering. It's up to you to decide what constitutes a cluster. Both the heat map and the dendogram (tree diagram) can be used to determine the number of clusters. The heat map is usually a better source to see clusters and they will be visible as square regions where most of the columns are all correlated relatively high with one another. I chose three broad categories for clusters and labeled them by looking at the names of the meetup groups. This selection was done arbitrarily.\n",
    "\n",
    "Four axes are returned - one for the heatmap and color bar and one for each dendogram. Normally you would see a dendogram to the left of the heatmap and x-axis tick labels below, but these were removed since they are duplicates to the dendogram above and the y-axis tick labels to the right."
   ]
  }
 ],
 "metadata": {
  "kernelspec": {
   "display_name": "Python 3 (ipykernel)",
   "language": "python",
   "name": "python3"
  },
  "language_info": {
   "codemirror_mode": {
    "name": "ipython",
    "version": 3
   },
   "file_extension": ".py",
   "mimetype": "text/x-python",
   "name": "python",
   "nbconvert_exporter": "python",
   "pygments_lexer": "ipython3",
   "version": "3.8.11"
  },
  "varInspector": {
   "cols": {
    "lenName": 16,
    "lenType": 16,
    "lenVar": 40
   },
   "kernels_config": {
    "python": {
     "delete_cmd_postfix": "",
     "delete_cmd_prefix": "del ",
     "library": "var_list.py",
     "varRefreshCmd": "print(var_dic_list())"
    },
    "r": {
     "delete_cmd_postfix": ") ",
     "delete_cmd_prefix": "rm(",
     "library": "var_list.r",
     "varRefreshCmd": "cat(var_dic_list()) "
    }
   },
   "types_to_exclude": [
    "module",
    "function",
    "builtin_function_or_method",
    "instance",
    "_Feature"
   ],
   "window_display": false
  }
 },
 "nbformat": 4,
 "nbformat_minor": 2
}
