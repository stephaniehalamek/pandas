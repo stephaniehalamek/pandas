{
 "cells": [
  {
   "cell_type": "markdown",
   "metadata": {},
   "source": [
    "# Plotting with pandas Series\n",
    "\n",
    "Both pandas Series and DataFrames have a `plot` method capable of creating a variety of plots with the data they contain. pandas directly uses matplotlib for all of its plotting and does not have any plotting capabilities on its own. pandas simply calls matplotlib's plotting functions internally, supplying them the arguments for you. pandas provides only a small subset of the total available types of plots that matplotlib offers. pandas does not give you full control over the plots it creates. However, it does return the underlying matplotlib axes object, which you can assign to a variable, and then use to customize the plot however you wish.\n",
    "\n",
    "### Series plots\n",
    "\n",
    "In this chapter, we cover plotting with the simpler pandas Series. All plotting runs through the `plot` method with the `kind` parameter controlling the type of plot. Set the `kind` parameter equal to one of the following strings:\n",
    "\n",
    "* `line` - line plot (default)\n",
    "* `bar` - vertical bar plot\n",
    "* `barh` - horizontal bar plot\n",
    "* `box` - box plot\n",
    "* `hist` - histogram\n",
    "* `kde` - kernel density estimation plot\n",
    "* `pie` - pie plot\n",
    "* `area` - area plot\n",
    "\n",
    "For all of these plots, the Series **index** is used as the x-values and the Series **values** as the y-values. We begin by reading in the stocks dataset and selecting Amazon's closing price as a Series."
   ]
  },
  {
   "cell_type": "code",
   "execution_count": null,
   "metadata": {},
   "outputs": [],
   "source": [
    "import pandas as pd\n",
    "import matplotlib.pyplot as plt\n",
    "plt.style.use('mdap.mplstyle')\n",
    "stocks = pd.read_csv('../data/stocks/stocks10.csv', index_col='date', \n",
    "                     parse_dates=['date'])\n",
    "amzn = stocks['AMZN']\n",
    "amzn.head(3)"
   ]
  },
  {
   "cell_type": "markdown",
   "metadata": {},
   "source": [
    "## Line plots\n",
    "\n",
    "We'll now create a line plot of these prices. The `kind` method is defaulted to `'line'`, but since that's not an intuitive default, it is set explicitly below. pandas uses matplotlib to create the figure and axes for you and returns the axes which we assign to a variable."
   ]
  },
  {
   "cell_type": "code",
   "execution_count": null,
   "metadata": {},
   "outputs": [],
   "source": [
    "ax = amzn.plot(kind='line')"
   ]
  },
  {
   "cell_type": "markdown",
   "metadata": {},
   "source": [
    "Let's verify that we have a matplotlib axes."
   ]
  },
  {
   "cell_type": "code",
   "execution_count": null,
   "metadata": {},
   "outputs": [],
   "source": [
    "type(ax)"
   ]
  },
  {
   "cell_type": "markdown",
   "metadata": {},
   "source": [
    "All axes have a `figure` attribute that you can access to retrieve the figure."
   ]
  },
  {
   "cell_type": "code",
   "execution_count": null,
   "metadata": {},
   "outputs": [],
   "source": [
    "fig = ax.figure"
   ]
  },
  {
   "cell_type": "markdown",
   "metadata": {},
   "source": [
    "The figure properties will be equal to those in the run configuration settings. Let's verify the size and DPI."
   ]
  },
  {
   "cell_type": "code",
   "execution_count": null,
   "metadata": {},
   "outputs": [],
   "source": [
    "fig.get_size_inches()"
   ]
  },
  {
   "cell_type": "code",
   "execution_count": null,
   "metadata": {},
   "outputs": [],
   "source": [
    "fig.get_dpi()"
   ]
  },
  {
   "cell_type": "markdown",
   "metadata": {},
   "source": [
    "All axes and figure methods can now be called to update the plot."
   ]
  },
  {
   "cell_type": "code",
   "execution_count": null,
   "metadata": {},
   "outputs": [],
   "source": [
    "ax.set_ylabel('closing price')\n",
    "ax.set_facecolor('lightgray')\n",
    "ax.set_yscale('log')\n",
    "fig.set_facecolor('tan')\n",
    "fig.set_size_inches(4, 1.5)\n",
    "fig"
   ]
  },
  {
   "cell_type": "markdown",
   "metadata": {},
   "source": [
    "### Recreating plot with matplotlib\n",
    "\n",
    "Let's replicate this plot using matplotlib directly. We must manually set the x-axis label and move the tick labels. pandas uses the index name for the x-axis label."
   ]
  },
  {
   "cell_type": "code",
   "execution_count": null,
   "metadata": {
    "scrolled": true
   },
   "outputs": [],
   "source": [
    "fig, ax = plt.subplots(figsize=(4, 1.5))\n",
    "ax.plot(amzn)\n",
    "ax.set_xlabel('date')\n",
    "for label in ax.get_xticklabels():\n",
    "    label.set_rotation(30)\n",
    "    label.set_ha('right')"
   ]
  },
  {
   "cell_type": "markdown",
   "metadata": {},
   "source": [
    "### Plotting parameters\n",
    "\n",
    "There are a substantial number of parameters available to the `plot` method to customize its appearance. Setting these might make it so that you won't have to use matplotlib directly. Below, we set the figure size, use a log scale for the y-axis, add grid lines, a legend, and a title. The rotation and size of the ticks are controlled by `rot` and `fontsize`. Any other parameter not part of the `plot` documentation is passed to the underlying matplotlib plotting method, which is `ax.plot` in this instance. Here, `c`, `ls`, and `lw` change the property of the line itself."
   ]
  },
  {
   "cell_type": "code",
   "execution_count": null,
   "metadata": {},
   "outputs": [],
   "source": [
    "amzn.plot(kind='line', figsize=(5, 2), logy=True, grid=True, legend=True,\n",
    "          title='Amazon Closing Price', rot=15, fontsize=6, \n",
    "          c='crimson', ls='--', lw=1);"
   ]
  },
  {
   "cell_type": "markdown",
   "metadata": {},
   "source": [
    "## Bar plots\n",
    "\n",
    "Bar plots are created by setting the `kind` parameter to the string `'bar'` or `'barh'`. Each value in the Series will be plotted as a bar and labeled with its corresponding index value. Let's calculate the number of times Amazon's stock had a greater than 5% positive movement from the previous day's close for each year. We begin by finding the percentage change and test whether it meets our criteria."
   ]
  },
  {
   "cell_type": "code",
   "execution_count": null,
   "metadata": {},
   "outputs": [],
   "source": [
    "amzn_up_down = amzn.pct_change(1) > .05\n",
    "amzn_up_down.head(3)"
   ]
  },
  {
   "cell_type": "markdown",
   "metadata": {},
   "source": [
    "We then group by year and sum the `True` values to get the count by year."
   ]
  },
  {
   "cell_type": "code",
   "execution_count": null,
   "metadata": {},
   "outputs": [],
   "source": [
    "num_big_up_days = amzn_up_down.resample('Y', kind='period').sum()\n",
    "num_big_up_days.head(3)"
   ]
  },
  {
   "cell_type": "markdown",
   "metadata": {},
   "source": [
    "This Series can now be made into a bar plot. In this case, the extra parameters (`lw`, `ec`, and `hatch`) are forwarded to the matplotlib axes `bar` method."
   ]
  },
  {
   "cell_type": "code",
   "execution_count": null,
   "metadata": {
    "scrolled": false
   },
   "outputs": [],
   "source": [
    "num_big_up_days.plot(kind='bar', figsize=(5, 2),\n",
    "                     title='Number of Days with Greater than 5% Increase', \n",
    "                     lw=2, ec='tan', hatch='-');"
   ]
  },
  {
   "cell_type": "markdown",
   "metadata": {},
   "source": [
    "## Distribution plots\n",
    "\n",
    "Box plots, histograms, and KDEs are the available distribution plots to pandas Series. Let's use the salary column from the City of Houston employee dataset for these examples."
   ]
  },
  {
   "cell_type": "code",
   "execution_count": null,
   "metadata": {},
   "outputs": [],
   "source": [
    "emp = pd.read_csv('../data/employee.csv', parse_dates=['hire_date'])\n",
    "sal = emp['salary']\n",
    "sal.head(3)"
   ]
  },
  {
   "cell_type": "markdown",
   "metadata": {},
   "source": [
    "### Box and whisker plots\n",
    "\n",
    "A horizontal box plot is created by using the `vert` parameter, which is forwarded to the axes `boxplot` method along with `widths` and `patch_artist`. The ticks are also formatted to be in thousands of dollars."
   ]
  },
  {
   "cell_type": "code",
   "execution_count": null,
   "metadata": {
    "scrolled": true
   },
   "outputs": [],
   "source": [
    "from matplotlib import ticker\n",
    "ax = sal.plot(kind='box', figsize=(4, 1), vert=False, widths=.4, patch_artist=True)\n",
    "conv_dollar = lambda x, pos: f'${x // 1000:.0f}k'\n",
    "ax.xaxis.set_major_formatter(ticker.FuncFormatter(conv_dollar))"
   ]
  },
  {
   "cell_type": "markdown",
   "metadata": {},
   "source": [
    "### Histograms\n",
    "\n",
    "A histogram of salaries is created below, with the tail end eliminated using the `range` parameter. Box plots are much better tools for analyzing extreme values, while histograms are much better at analyzing the \"middle\" of the data (such as those within the whiskers of the box plot). This is why the range of values is bounded below. In general, with box plots, you would not want to limit the range."
   ]
  },
  {
   "cell_type": "code",
   "execution_count": null,
   "metadata": {
    "scrolled": true
   },
   "outputs": [],
   "source": [
    "ax = sal.plot(figsize=(4, 1.5), kind='hist', bins=20, ec='black', range=(0, 150_000))\n",
    "ax.xaxis.set_major_formatter(ticker.FuncFormatter(conv_dollar))"
   ]
  },
  {
   "cell_type": "markdown",
   "metadata": {},
   "source": [
    "### KDEs\n",
    "\n",
    "A kernel density plot (KDE) is essentially a histogram with an infinite number of bins. A KDE plot is the only type of plot that does not have an equivalent matplotlib axes method. It estimates the probability density function of a distribution. Multiple calls to the `plot` method in a single cell will place each plot on the same axes. Below, we plot a histogram and KDE of the same salary data. You can see how closely the KDE curve matches the histogram. In order for the KDE and histogram to have the same units, we set `density` to `True`."
   ]
  },
  {
   "cell_type": "code",
   "execution_count": null,
   "metadata": {},
   "outputs": [],
   "source": [
    "ax = sal.plot(kind='hist', bins=20, ec='black', range=(0, 150_000), density=True)\n",
    "sal.plot(kind='kde', xlim=(0, 150_000), lw=3)\n",
    "ax.xaxis.set_major_formatter(ticker.FuncFormatter(conv_dollar))"
   ]
  },
  {
   "cell_type": "markdown",
   "metadata": {},
   "source": [
    "## Pie Charts\n",
    "\n",
    "Pie charts are circles with wedge areas for each value in the Series corresponding to its proportion of the whole. Let's count the number of employees whose salary fall into a particular range. The `cut` function is used to create the buckets with the `value_counts` method doing the counting."
   ]
  },
  {
   "cell_type": "code",
   "execution_count": null,
   "metadata": {},
   "outputs": [],
   "source": [
    "sals = pd.cut(sal, bins=[0, 30_000, 70_000, 100_000, sal.max() + 1],\n",
    "              labels=['< $30k', '$30k - $70k', '$70k - $100k', '> $100k'])\n",
    "sal_ct = sals.value_counts(sort=False)\n",
    "sal_ct"
   ]
  },
  {
   "cell_type": "markdown",
   "metadata": {},
   "source": [
    "For pie charts, the index values are used as the labels for each wedge. The `autopct` parameter is forwarded to `ax.pie` and can be set to a function that is passed the percentage of each wedge. It returns a formatted percentage and the raw count. By default, pandas use the name of the Series as the y-axis label. A title looks more appropriate so it is removed by setting it to an empty string."
   ]
  },
  {
   "cell_type": "code",
   "execution_count": null,
   "metadata": {},
   "outputs": [],
   "source": [
    "ax = sal_ct.plot(kind='pie', figsize=(3, 3), title='COH Salary Distribution',\n",
    "                 autopct=lambda x: f'{x:.1f}% - {x / 100 * sal_ct.sum():,.0f}')\n",
    "ax.set_ylabel('');"
   ]
  },
  {
   "cell_type": "markdown",
   "metadata": {},
   "source": [
    "## Area Plots\n",
    "\n",
    "Area plots are like line plots, but fill the area between the x-axis and the line with a color. It's equivalent in matplotlib is `stackplot`. Area plots are much more useful when using DataFrames, as you'll see in the next chapter. Below, the first 20 trading days of Amazon are plotted as an area plot."
   ]
  },
  {
   "cell_type": "code",
   "execution_count": null,
   "metadata": {},
   "outputs": [],
   "source": [
    "amzn.head(20).plot(kind='area', alpha=.3);"
   ]
  },
  {
   "cell_type": "markdown",
   "metadata": {},
   "source": [
    "## Adding a plot to a previously made axes\n",
    "\n",
    "For all of the above plots, we let pandas create the figure and single axes. It's possible for us to create the figure and axes (possibly more than one) first and then tell pandas to use that particular axes with the `ax` parameter. Below, we create our figure and axes first and then place a histogram of the salaries on that axes."
   ]
  },
  {
   "cell_type": "code",
   "execution_count": null,
   "metadata": {},
   "outputs": [],
   "source": [
    "fig, ax = plt.subplots(figsize=(5, 1.5), facecolor='.8')\n",
    "sal.plot(kind='hist', bins=20, ec='black', range=(0, 150_000), ax=ax);"
   ]
  },
  {
   "cell_type": "markdown",
   "metadata": {},
   "source": [
    "This becomes especially useful when placing plots into a figure with multiple axes. Here, four axes are created and unpacked into separate variables with the help of the numpy array `flatten` method. pandas is used to place each plot on each axes. The ticks are formatted and located appropriately."
   ]
  },
  {
   "cell_type": "code",
   "execution_count": null,
   "metadata": {},
   "outputs": [],
   "source": [
    "fig, ax_array = plt.subplots(nrows=2, ncols=2, figsize=(5, 3), tight_layout=True)\n",
    "ax1, ax2, ax3, ax4 = ax_array.flatten()\n",
    "sal.plot(kind='hist', bins=20, ec='black', range=(0, 150_000), ax=ax1)\n",
    "sal.plot(kind='box', vert=False, widths=.4, ax=ax2, yticks=[])\n",
    "sal.plot(kind='kde', xlim=(0, 150_000), ax=ax3)\n",
    "sal_ct.plot(kind='pie', ax=ax4, radius=1.4)\n",
    "ax1.xaxis.set_major_formatter(ticker.FuncFormatter(conv_dollar))\n",
    "ax2.xaxis.set_major_formatter(ticker.FuncFormatter(conv_dollar))\n",
    "ax3.xaxis.set_major_formatter(ticker.FuncFormatter(conv_dollar))\n",
    "ax3.xaxis.set_major_locator(ticker.MultipleLocator(50_000))\n",
    "ax4.set_ylabel('')\n",
    "fig.suptitle('COH Salary Distribution Summary', y=1.04);"
   ]
  }
 ],
 "metadata": {
  "kernelspec": {
   "display_name": "Python 3 (ipykernel)",
   "language": "python",
   "name": "python3"
  },
  "language_info": {
   "codemirror_mode": {
    "name": "ipython",
    "version": 3
   },
   "file_extension": ".py",
   "mimetype": "text/x-python",
   "name": "python",
   "nbconvert_exporter": "python",
   "pygments_lexer": "ipython3",
   "version": "3.8.11"
  },
  "varInspector": {
   "cols": {
    "lenName": 16,
    "lenType": 16,
    "lenVar": 40
   },
   "kernels_config": {
    "python": {
     "delete_cmd_postfix": "",
     "delete_cmd_prefix": "del ",
     "library": "var_list.py",
     "varRefreshCmd": "print(var_dic_list())"
    },
    "r": {
     "delete_cmd_postfix": ") ",
     "delete_cmd_prefix": "rm(",
     "library": "var_list.r",
     "varRefreshCmd": "cat(var_dic_list()) "
    }
   },
   "types_to_exclude": [
    "module",
    "function",
    "builtin_function_or_method",
    "instance",
    "_Feature"
   ],
   "window_display": false
  }
 },
 "nbformat": 4,
 "nbformat_minor": 1
}
