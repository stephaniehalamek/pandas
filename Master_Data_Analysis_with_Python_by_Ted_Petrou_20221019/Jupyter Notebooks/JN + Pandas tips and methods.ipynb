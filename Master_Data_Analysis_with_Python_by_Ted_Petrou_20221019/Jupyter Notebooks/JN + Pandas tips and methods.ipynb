{
 "cells": [
  {
   "cell_type": "markdown",
   "id": "a56dece2",
   "metadata": {},
   "source": [
    "# Pandas"
   ]
  },
  {
   "cell_type": "markdown",
   "id": "9b03ae37",
   "metadata": {},
   "source": [
    "##### Magic Commands\n",
    "\n",
    "_| Print all output_ <br>\n",
    "from IPython.core.interactiveshell import InteractiveShell <br>\n",
    "InteractiveShell.ast_node_interactivity = \"all\"\n",
    "\n",
    "\n",
    "| Time code execution <br>\n",
    "%timeit -n 5 movie['year'].sort_values().drop_duplicates().head()\n",
    "%matplotlib inline"
   ]
  },
  {
   "cell_type": "markdown",
   "id": "1cfc3a2b",
   "metadata": {},
   "source": [
    "##### Reading in, parse dates\n",
    "emp = pd.read_csv('../data/employee.csv', parse_dates=['hire_date'])\n",
    "\n",
    "##### Setting DF Index\n",
    "\n",
    "_Set index_ <br>\n",
    "df2 = df.set_index('col_name')\n",
    "\n",
    "_Set index & validate uniqueness_ <br>\n",
    "movie2.set_index('title', verify_integrity=True)\n",
    "\n",
    "_Set Index on read_ <br>\n",
    "movie = pd.read_csv('../data/movie.csv', index_col = 'title')"
   ]
  },
  {
   "cell_type": "markdown",
   "id": "e84622fd",
   "metadata": {},
   "source": [
    "##### Modifying display options\n",
    "\n",
    "_Set max cols and rows_ <br>\n",
    "pd.set_option('display.max_columns', 100, 'display.max_rows',4)"
   ]
  },
  {
   "cell_type": "markdown",
   "id": "0c3c9f71",
   "metadata": {},
   "source": [
    "##### EDA\n",
    "\n",
    "_df.info_ <br>\n",
    "column, non-null count, dtype\n",
    "\n",
    "_df.count_ <br>\n",
    "non-null count of values (can use axis = 1 to count per row)\n",
    "\n",
    "_df.describe_ <br>\n",
    "summary stats (count, mean, std, 5 num sum) per column"
   ]
  },
  {
   "cell_type": "markdown",
   "id": "43e91c43",
   "metadata": {},
   "source": [
    "##### Grouping and aggregation\n",
    "avg_duration = movie.groupby('year').agg({'duration':'mean'})"
   ]
  },
  {
   "cell_type": "markdown",
   "id": "5102c837",
   "metadata": {},
   "source": [
    "## Subset selection\n",
    "\n",
    "#### Just the brackets <br>\n",
    "Single column - df['col_name']\n",
    "\n",
    "Several columns - df[['col1', 'col2', 'col3']] <<< note that column names must be in brackets (a list)\n",
    "\n",
    "\n",
    "#### .loc (Separate row and column selection with a comma for loc) <br>\n",
    "The nice benefit of loc is that it allows us to simultaneously select rows with boolean selection and columns by label.\n",
    "df.loc[start:stop:step, 'col_name'] <br>\n",
    "\n",
    "df.loc[:, ['col1', 'col2']] \n",
    "\n",
    "df.loc['start_row':'stop_row'] <<< note that this will return all columns, without specifying this with a colon\n",
    "\n",
    "df.loc['Niko'] <<<< selecting just a row name will return a series, with col names as index\n",
    "\n",
    "df.loc[['Niko']] <<<< selecting a row name in a list will return a dataframe"
   ]
  },
  {
   "cell_type": "markdown",
   "id": "60b25c87",
   "metadata": {},
   "source": [
    "#### Logical operators\n",
    "\n",
    "Core Python provides the logical operators `and`, `or`, and `not` to combine multiple conditions together. These operators always return a boolean value. \n",
    "\n",
    "These built-in logical operators do not work for creating multiple conditions with a **boolean Series**. Instead, you must use the following operators.\n",
    "\n",
    "* `&` for and (ampersand character)\n",
    "* `|` for or (pipe character)\n",
    "* `~` for not (tilde character)\n",
    "\n",
    "###### The `query` method\n",
    "\n",
    "The `query` method allows you to filter the data by writing the condition as a string. Unlike boolean selection, you can use the strings \"and\", \"or\", and \"not\" instead of the operators &, |, and ~ which further aides readability with query. By default, all words within the query string attempt to reference a column name. You can, however, reference a variable name by preceding it with the @ symbol\n",
    "\n",
    "Unfortunately the `query` method does not give us the ability to select a subset of the columns when filtering the data. You would have to do normal column selection after calling the method. Here, we use *just the brackets* to select three columns after finding all the rides where the weather was snow or rain.\n"
   ]
  },
  {
   "cell_type": "code",
   "execution_count": 2,
   "id": "718d8021",
   "metadata": {},
   "outputs": [
    {
     "ename": "NameError",
     "evalue": "name 'bikes' is not defined",
     "output_type": "error",
     "traceback": [
      "\u001b[0;31m---------------------------------------------------------------------------\u001b[0m",
      "\u001b[0;31mNameError\u001b[0m                                 Traceback (most recent call last)",
      "Cell \u001b[0;32mIn[2], line 4\u001b[0m\n\u001b[1;32m      1\u001b[0m \u001b[38;5;241m5\u001b[39m \u001b[38;5;241m>\u001b[39m \u001b[38;5;241m3\u001b[39m \u001b[38;5;129;01mor\u001b[39;00m \u001b[38;5;241m10\u001b[39m \u001b[38;5;241m>\u001b[39m \u001b[38;5;241m20\u001b[39m\n\u001b[1;32m      2\u001b[0m \u001b[38;5;241m5\u001b[39m \u001b[38;5;241m>\u001b[39m \u001b[38;5;241m3\u001b[39m \u001b[38;5;129;01mand\u001b[39;00m \u001b[38;5;241m10\u001b[39m \u001b[38;5;241m>\u001b[39m \u001b[38;5;241m20\u001b[39m\n\u001b[0;32m----> 4\u001b[0m filt1 \u001b[38;5;241m=\u001b[39m \u001b[43mbikes\u001b[49m[\u001b[38;5;124m'\u001b[39m\u001b[38;5;124mtripduration\u001b[39m\u001b[38;5;124m'\u001b[39m] \u001b[38;5;241m>\u001b[39m \u001b[38;5;241m1000\u001b[39m\n\u001b[1;32m      5\u001b[0m filt2 \u001b[38;5;241m=\u001b[39m bikes[\u001b[38;5;124m'\u001b[39m\u001b[38;5;124mgender\u001b[39m\u001b[38;5;124m'\u001b[39m] \u001b[38;5;241m==\u001b[39m \u001b[38;5;124m'\u001b[39m\u001b[38;5;124mMale\u001b[39m\u001b[38;5;124m'\u001b[39m\n\u001b[1;32m      6\u001b[0m filt \u001b[38;5;241m=\u001b[39m filt1 \u001b[38;5;241m&\u001b[39m filt2\n",
      "\u001b[0;31mNameError\u001b[0m: name 'bikes' is not defined"
     ]
    }
   ],
   "source": [
    "5 > 3 or 10 > 20\n",
    "5 > 3 and 10 > 20\n",
    "\n",
    "filt1 = bikes['tripduration'] > 1000\n",
    "filt2 = bikes['gender'] == 'Male'\n",
    "filt = filt1 & filt2\n",
    "\n",
    "bikes[(bikes['tripduration'] > 1000) & (bikes['gender'] == 'Male')]\n",
    "\n",
    "# query allows you to use a string, and reference col names within the string\n",
    "bikes.query('tripduration > 1000 and temperature > 85').head(3)\n",
    "\n",
    "filt = bikes['events'].isin(['rain', 'snow', 'tstorms', 'sleet'])\n",
    "\n",
    "filt = (movie['gross'].isna()) & (movie['budget'].isna())\n",
    "cols = ['gross', 'budget']\n",
    "\n",
    "movie.loc[filt, cols]\n",
    "\n",
    "\n",
    "bikes.query('50 <= temperature <= 60').head(3)\n",
    "\n",
    "#col to col comparison\n",
    "bikes.query('start_capacity > end_capacity').head(3)\n",
    "\n",
    "#multiple conditions\n",
    "bikes.query('events in [\"snow\", \"rain\"]').head(3)\n",
    "\n",
    "#arithmetic ops w/i the string\n",
    "bikes.query('start_capacity - end_capacity >= 20').head(3)\n",
    "\n",
    "#selecting columns w/ query\n",
    "cols = ['starttime', 'temperature', 'events']\n",
    "bikes.query('events in [\"snow\", \"rain\"]')[cols].head()"
   ]
  },
  {
   "cell_type": "markdown",
   "id": "0f9c52f1",
   "metadata": {},
   "source": [
    "## Series \n",
    "### Sorting, ranking, uniqueness\n",
    "By default, all missing values are placed at the end of the resulting Series when sorting. You can change this so that they appear first by setting the na_position parameter to 'first'. This is a good way to quickly view all the missing values in your Series. \n",
    "\n",
    "##### Uniqueness\n",
    "\n",
    "There are a few methods that deal with unique values in a Series:\n",
    "\n",
    "* `unique` - Returns **numpy array** of unique vals in order of appearance\n",
    "* `nunique` - Returns # of unique values in the Series - to count missing vals, use dropna=False\n",
    "* `drop_duplicates` - Returns **pandas Series** of just the unique values"
   ]
  },
  {
   "cell_type": "code",
   "execution_count": null,
   "id": "98f58122",
   "metadata": {},
   "outputs": [],
   "source": [
    "#sorting\n",
    "movie['duration'].sort_values(na_position='first').head()\n",
    "\n",
    "movie['duration'].sort_index()\n",
    "\n",
    "#ranking\n",
    "score10.rank()"
   ]
  },
  {
   "cell_type": "markdown",
   "id": "02f8ef97",
   "metadata": {},
   "source": [
    "##### Arithmetic\n",
    "\n",
    "`diff` takes the difference between current value and some other value (by default, immediately preceding value, use `periods` param to set interval)\n",
    "\n",
    "`pct_change` returns the percentage difference\n",
    "\n",
    "`sample` randomly sample values  in your Series (n param for num values, frac param to sample a fraction, like 15%, of the dataset, default is **without** replacement, use replace = True for replacement)\n",
    "\n",
    "`replace(cur val, new val)` replaces values in Series w/ desired str, int, etc (use regex = True for interstring replacement)\n",
    "\n",
    "`Taking the mean` of a `boolean` series (i.e. Trues and Falses) will return the percentage of the column that is True\n",
    "\n",
    "\n",
    "### String and Datetime series\n",
    "pandas provides a collection of methods only available to object, string, and datetime columns.\n",
    "\n",
    "To access these special string-only methods, append the Series variable name with .str followed by . and then the specific string method (pandas refers to this as the str accessor)\n",
    "\n",
    "title.str.lower().head()\n",
    "\n",
    "Many of the datetime objects available are attributes (vs methods)\n",
    "\n",
    "start.dt.year.head()\n",
    "start.dt.day.head(3)\n",
    "start.dt.minute.head(3)\n",
    "start.dt.dayofweek.head() (0 = Monday, 6 = Sunday)\n",
    "\n",
    "title.str.count() - # of occurances of passed char(s) per string\n",
    "title.str.contains() - boolean series of denoting if string contains passed char(s)\n",
    "title.str.len() - length of each string\n",
    "title.str.split() - splits string on passed separator, defaults to blank space, use expand =    True to return dfr\n",
    "title.str.replace() - replace specified string with given replacement string\n",
    "\n",
    "\n",
    "###### select a substring from every string w/ just the bracketes\n",
    "title.str[10].head(3)"
   ]
  },
  {
   "cell_type": "markdown",
   "id": "e30dd3b2",
   "metadata": {},
   "source": [
    "### Datetime series\n",
    "\n",
    "Many of the datetime objects available are attributes (vs methods)\n",
    "\n",
    "start.dt.year.head()\n",
    "start.dt.day.head(3)\n",
    "start.dt.minute.head(3)\n",
    "start.dt.dayofweek.head() (0 = Monday, 6 = Sunday)\n",
    "\n",
    "attributes re: whether the datetime is start/ end of month, quarter,year\n",
    "\n",
    "start.dt.is_month_start\n",
    "start.dt.is_quarter_end\n",
    "\n",
    "\n",
    "##### methods\n",
    "ceil\n",
    "round\n",
    "floor\n",
    "strftime\n",
    "to_period\n",
    "\n",
    "-- requires offset alias (H, min, S, D, W)"
   ]
  },
  {
   "cell_type": "code",
   "execution_count": null,
   "id": "0635910f",
   "metadata": {},
   "outputs": [],
   "source": [
    "start.dt.strftime('On %A, %B %d, %Y at %X something great happened')"
   ]
  },
  {
   "cell_type": "code",
   "execution_count": null,
   "id": "38d96db9",
   "metadata": {},
   "outputs": [],
   "source": [
    "On Friday, June 28, 2013 at 19:01:00 something great happened"
   ]
  },
  {
   "cell_type": "markdown",
   "id": "7a364981",
   "metadata": {},
   "source": [
    "### Dataframe missing values\n",
    "\n",
    "`df.dropna` can take a `subset` list of columns, or a `thresh` threshold for min number of non missing values in the row, in order to not be dropped (i.e. `thresh` = 5 would drop rows that have fewer than 5 columns of non null values)\n",
    "Also has `axis` param to drop columns instead of rows\n",
    "\n",
    "`df.fillna` can take an individual value, a dictionary mapping col name to fill value, a series i.e. mean or median, or a method like ffill or bfill <br>\n",
    "    `med = df.median(numeric_only = True)` <br>\n",
    "    `df.fillna(med)`\n",
    "    \n",
    "    `df.fillna(method = 'ffill')\n",
    "    \n",
    "`df.interpolate` fills missing values according to specified stat infer method, defaults to linear"
   ]
  },
  {
   "cell_type": "code",
   "execution_count": null,
   "id": "937913bb",
   "metadata": {},
   "outputs": [],
   "source": []
  }
 ],
 "metadata": {
  "kernelspec": {
   "display_name": "Python 3 (ipykernel)",
   "language": "python",
   "name": "python3"
  },
  "language_info": {
   "codemirror_mode": {
    "name": "ipython",
    "version": 3
   },
   "file_extension": ".py",
   "mimetype": "text/x-python",
   "name": "python",
   "nbconvert_exporter": "python",
   "pygments_lexer": "ipython3",
   "version": "3.11.4"
  }
 },
 "nbformat": 4,
 "nbformat_minor": 5
}
