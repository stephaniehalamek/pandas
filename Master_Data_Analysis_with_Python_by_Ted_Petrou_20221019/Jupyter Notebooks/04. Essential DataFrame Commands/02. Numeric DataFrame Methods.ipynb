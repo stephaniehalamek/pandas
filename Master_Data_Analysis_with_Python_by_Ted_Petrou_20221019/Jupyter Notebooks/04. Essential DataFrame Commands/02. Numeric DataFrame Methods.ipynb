{
 "cells": [
  {
   "cell_type": "markdown",
   "metadata": {},
   "source": [
    "# Numeric DataFrame Methods\n",
    "\n",
    "In this chapter, we cover [statistical methods][1] for DataFrames with mainly numeric columns. These methods are nearly identical to those available to a Series. Again, we distinguish between methods that aggregate and those that do not. A method that performs an aggregation returns a **single** number to summarize the values. Any method that does not return a single value is not an aggregation. We begin by reading in the San Francisco employee compensation dataset.\n",
    "\n",
    "[1]: http://pandas.pydata.org/pandas-docs/stable/reference/frame.html#computations-descriptive-stats"
   ]
  },
  {
   "cell_type": "code",
   "execution_count": 18,
   "metadata": {},
   "outputs": [
    {
     "data": {
      "text/html": [
       "<div>\n",
       "<style scoped>\n",
       "    .dataframe tbody tr th:only-of-type {\n",
       "        vertical-align: middle;\n",
       "    }\n",
       "\n",
       "    .dataframe tbody tr th {\n",
       "        vertical-align: top;\n",
       "    }\n",
       "\n",
       "    .dataframe thead th {\n",
       "        text-align: right;\n",
       "    }\n",
       "</style>\n",
       "<table border=\"1\" class=\"dataframe\">\n",
       "  <thead>\n",
       "    <tr style=\"text-align: right;\">\n",
       "      <th></th>\n",
       "      <th>year</th>\n",
       "      <th>organization group</th>\n",
       "      <th>job</th>\n",
       "      <th>salaries</th>\n",
       "      <th>overtime</th>\n",
       "      <th>other salaries</th>\n",
       "      <th>retirement</th>\n",
       "      <th>health and dental</th>\n",
       "      <th>other benefits</th>\n",
       "    </tr>\n",
       "  </thead>\n",
       "  <tbody>\n",
       "    <tr>\n",
       "      <th>0</th>\n",
       "      <td>2013</td>\n",
       "      <td>Public Protection</td>\n",
       "      <td>Personnel Technician</td>\n",
       "      <td>71414.01</td>\n",
       "      <td>0.00</td>\n",
       "      <td>0.0</td>\n",
       "      <td>14038.58</td>\n",
       "      <td>12918.24</td>\n",
       "      <td>5872.04</td>\n",
       "    </tr>\n",
       "    <tr>\n",
       "      <th>1</th>\n",
       "      <td>2013</td>\n",
       "      <td>General Administration &amp; Finance</td>\n",
       "      <td>Planner 2</td>\n",
       "      <td>67941.06</td>\n",
       "      <td>0.00</td>\n",
       "      <td>0.0</td>\n",
       "      <td>13030.23</td>\n",
       "      <td>10047.52</td>\n",
       "      <td>5608.37</td>\n",
       "    </tr>\n",
       "    <tr>\n",
       "      <th>2</th>\n",
       "      <td>2013</td>\n",
       "      <td>Public Protection</td>\n",
       "      <td>Firefighter</td>\n",
       "      <td>116956.72</td>\n",
       "      <td>59975.43</td>\n",
       "      <td>19037.3</td>\n",
       "      <td>24796.44</td>\n",
       "      <td>15788.97</td>\n",
       "      <td>3222.20</td>\n",
       "    </tr>\n",
       "  </tbody>\n",
       "</table>\n",
       "</div>"
      ],
      "text/plain": [
       "   year                organization group                   job   salaries  \\\n",
       "0  2013                 Public Protection  Personnel Technician   71414.01   \n",
       "1  2013  General Administration & Finance             Planner 2   67941.06   \n",
       "2  2013                 Public Protection           Firefighter  116956.72   \n",
       "\n",
       "   overtime  other salaries  retirement  health and dental  other benefits  \n",
       "0      0.00             0.0    14038.58           12918.24         5872.04  \n",
       "1      0.00             0.0    13030.23           10047.52         5608.37  \n",
       "2  59975.43         19037.3    24796.44           15788.97         3222.20  "
      ]
     },
     "execution_count": 18,
     "metadata": {},
     "output_type": "execute_result"
    }
   ],
   "source": [
    "import pandas as pd\n",
    "sf_emp = pd.read_csv('../data/sf_employee_compensation.csv')\n",
    "sf_emp.head(3)"
   ]
  },
  {
   "cell_type": "markdown",
   "metadata": {},
   "source": [
    "## Aggregation methods\n",
    "\n",
    "The following are some common aggregation methods available for DataFrames:\n",
    "\n",
    "* `sum`\n",
    "* `min`\n",
    "* `max`\n",
    "* `mean`\n",
    "* `median`\n",
    "* `std` - standard deviation\n",
    "* `var` - variance\n",
    "* `count` - returns number of non-missing values\n",
    "* `describe` - returns most of the above aggregations in one Series\n",
    "* `quantile` - returns the given percentile of the distribution\n",
    "\n",
    "### Differences between DataFrame and Series methods\n",
    "\n",
    "When calling an aggregation method on a DataFrame, it is applied to each individual column by default. For instance, calling the `sum` method sums each column individually. A single value is returned for each column. Calling the `sum` method on a Series produces a single scalar value.\n",
    "\n",
    "### Select numeric columns\n",
    "\n",
    "Some of these statistical methods above work only with numeric columns. In order to successfully call these methods, we'll select only the columns with compensation information."
   ]
  },
  {
   "cell_type": "code",
   "execution_count": 20,
   "metadata": {},
   "outputs": [
    {
     "data": {
      "text/html": [
       "<div>\n",
       "<style scoped>\n",
       "    .dataframe tbody tr th:only-of-type {\n",
       "        vertical-align: middle;\n",
       "    }\n",
       "\n",
       "    .dataframe tbody tr th {\n",
       "        vertical-align: top;\n",
       "    }\n",
       "\n",
       "    .dataframe thead th {\n",
       "        text-align: right;\n",
       "    }\n",
       "</style>\n",
       "<table border=\"1\" class=\"dataframe\">\n",
       "  <thead>\n",
       "    <tr style=\"text-align: right;\">\n",
       "      <th></th>\n",
       "      <th>salaries</th>\n",
       "      <th>overtime</th>\n",
       "      <th>other salaries</th>\n",
       "      <th>retirement</th>\n",
       "      <th>health and dental</th>\n",
       "      <th>other benefits</th>\n",
       "    </tr>\n",
       "  </thead>\n",
       "  <tbody>\n",
       "    <tr>\n",
       "      <th>0</th>\n",
       "      <td>71414.01</td>\n",
       "      <td>0.00</td>\n",
       "      <td>0.0</td>\n",
       "      <td>14038.58</td>\n",
       "      <td>12918.24</td>\n",
       "      <td>5872.04</td>\n",
       "    </tr>\n",
       "    <tr>\n",
       "      <th>1</th>\n",
       "      <td>67941.06</td>\n",
       "      <td>0.00</td>\n",
       "      <td>0.0</td>\n",
       "      <td>13030.23</td>\n",
       "      <td>10047.52</td>\n",
       "      <td>5608.37</td>\n",
       "    </tr>\n",
       "    <tr>\n",
       "      <th>2</th>\n",
       "      <td>116956.72</td>\n",
       "      <td>59975.43</td>\n",
       "      <td>19037.3</td>\n",
       "      <td>24796.44</td>\n",
       "      <td>15788.97</td>\n",
       "      <td>3222.20</td>\n",
       "    </tr>\n",
       "  </tbody>\n",
       "</table>\n",
       "</div>"
      ],
      "text/plain": [
       "    salaries  overtime  other salaries  retirement  health and dental  \\\n",
       "0   71414.01      0.00             0.0    14038.58           12918.24   \n",
       "1   67941.06      0.00             0.0    13030.23           10047.52   \n",
       "2  116956.72  59975.43         19037.3    24796.44           15788.97   \n",
       "\n",
       "   other benefits  \n",
       "0         5872.04  \n",
       "1         5608.37  \n",
       "2         3222.20  "
      ]
     },
     "execution_count": 20,
     "metadata": {},
     "output_type": "execute_result"
    }
   ],
   "source": [
    "comp = sf_emp.loc[:, 'salaries':]\n",
    "comp.head(3)"
   ]
  },
  {
   "cell_type": "markdown",
   "metadata": {},
   "source": [
    "### Take the mean of each column\n",
    "\n",
    "Let's demonstrate taking the mean of each column by calling the `mean` aggregation method."
   ]
  },
  {
   "cell_type": "code",
   "execution_count": 21,
   "metadata": {},
   "outputs": [
    {
     "data": {
      "text/plain": [
       "salaries             53715.441133\n",
       "overtime              4201.272687\n",
       "other salaries        2816.296542\n",
       "retirement           10484.755614\n",
       "health and dental     9382.390735\n",
       "other benefits        4053.381941\n",
       "dtype: float64"
      ]
     },
     "execution_count": 21,
     "metadata": {},
     "output_type": "execute_result"
    }
   ],
   "source": [
    "comp.mean()"
   ]
  },
  {
   "cell_type": "markdown",
   "metadata": {},
   "source": [
    "### Did you notice what type of object was returned?\n",
    "\n",
    "pandas takes the mean of each column and returns a Series. The new Series uses the old column names as the index and the calculated mean as the values. Let's call a couple of different aggregation methods."
   ]
  },
  {
   "cell_type": "code",
   "execution_count": 22,
   "metadata": {},
   "outputs": [
    {
     "data": {
      "text/plain": [
       "salaries             645739.46\n",
       "overtime             258124.17\n",
       "other salaries       239294.57\n",
       "retirement           120791.40\n",
       "health and dental     36369.96\n",
       "other benefits        37563.46\n",
       "dtype: float64"
      ]
     },
     "execution_count": 22,
     "metadata": {},
     "output_type": "execute_result"
    }
   ],
   "source": [
    "comp.max()"
   ]
  },
  {
   "cell_type": "code",
   "execution_count": 23,
   "metadata": {},
   "outputs": [
    {
     "data": {
      "text/plain": [
       "salaries             47686.502923\n",
       "overtime             11601.573498\n",
       "other salaries        6637.820066\n",
       "retirement            9922.598455\n",
       "health and dental     7379.199008\n",
       "other benefits        4171.974274\n",
       "dtype: float64"
      ]
     },
     "execution_count": 23,
     "metadata": {},
     "output_type": "execute_result"
    }
   ],
   "source": [
    "comp.std()"
   ]
  },
  {
   "cell_type": "markdown",
   "metadata": {},
   "source": [
    "### Potentially confusing orientation\n",
    "\n",
    "The above results should be fairly easy to understand. If someone asked you what the standard deviation of the `overtime` column, you would easily be able to respond with the correct number. What may be potentially confusing is the orientation of the result. We began with a DataFrame, and were returned a Series which is visually displayed in the notebook as a vertical sequence of values. The orientation of the columns changed. It might have been easier to understand the operation if the columns remained horizontal as in the following image.\n",
    "\n",
    "![1]\n",
    "\n",
    "### DataFrames are collections of columns\n",
    "\n",
    "It's good to think of DataFrames as a collection of columns as opposed to a collection of rows. It is the column that is the fundamental component of the DataFrame. Each column has a data type and all values in that column are the same data type. It is the column that is acted on by default by most of the methods as demonstrated with the aggregations above. \n",
    "\n",
    "## Changing the direction of the operation\n",
    "\n",
    "Since DataFrames are two-dimensional, we might want to complete an operation horizontally across the rows instead of vertically down the columns.\n",
    "\n",
    "### The `axis` parameter controls the direction of the operation\n",
    "\n",
    "Most DataFrame methods have an `axis` parameter. This is a crucial parameter to understand as it controls the direction of the operation. By default, operations take place vertically down each column.\n",
    "\n",
    "### Each axis may be referenced by number or string label\n",
    "\n",
    "DataFrames are two-dimensional and therefore have two axes. Both the rows and the columns may be referenced with either a number or a string label. The rows are referenced by the number 0 and also by the label `'index'`. The columns are referenced by the number 1 and also by the label `'columns'`.\n",
    "\n",
    "### Default value of `axis` is 0\n",
    "\n",
    "For most DataFrame methods, the default value of the `axis` parameter is 0. Technically, you will see `None` in the method signature, but if you don't explicitly set it, pandas will use 0. You can also refer to it with the string `'index'`. Let's take the mean of each column again, but use the string 'index' for the value of the `axis` parameter. This produces the exact same result as calling it with the defaults.\n",
    "\n",
    "[1]: images/df_agg_keep_dim.png"
   ]
  },
  {
   "cell_type": "code",
   "execution_count": 24,
   "metadata": {},
   "outputs": [
    {
     "data": {
      "text/plain": [
       "salaries             53715.441133\n",
       "overtime              4201.272687\n",
       "other salaries        2816.296542\n",
       "retirement           10484.755614\n",
       "health and dental     9382.390735\n",
       "other benefits        4053.381941\n",
       "dtype: float64"
      ]
     },
     "execution_count": 24,
     "metadata": {},
     "output_type": "execute_result"
    }
   ],
   "source": [
    "comp.mean()"
   ]
  },
  {
   "cell_type": "code",
   "execution_count": 25,
   "metadata": {},
   "outputs": [
    {
     "data": {
      "text/plain": [
       "salaries             53715.441133\n",
       "overtime              4201.272687\n",
       "other salaries        2816.296542\n",
       "retirement           10484.755614\n",
       "health and dental     9382.390735\n",
       "other benefits        4053.381941\n",
       "dtype: float64"
      ]
     },
     "execution_count": 25,
     "metadata": {},
     "output_type": "execute_result"
    }
   ],
   "source": [
    "comp.mean(axis='index')"
   ]
  },
  {
   "cell_type": "markdown",
   "metadata": {},
   "source": [
    "We could have set `axis` to 0, which also returns the same result."
   ]
  },
  {
   "cell_type": "code",
   "execution_count": 26,
   "metadata": {},
   "outputs": [
    {
     "data": {
      "text/plain": [
       "salaries             53715.441133\n",
       "overtime              4201.272687\n",
       "other salaries        2816.296542\n",
       "retirement           10484.755614\n",
       "health and dental     9382.390735\n",
       "other benefits        4053.381941\n",
       "dtype: float64"
      ]
     },
     "execution_count": 26,
     "metadata": {},
     "output_type": "execute_result"
    }
   ],
   "source": [
    "comp.mean(axis=0)"
   ]
  },
  {
   "cell_type": "markdown",
   "metadata": {},
   "source": [
    "Since the default behavior is to act vertically, it's not necessary to specify the axis parameter as such, and most people do not do so when calculating aggregations on each column. I recommend calling aggregation methods that act vertically without using the `axis` parameter."
   ]
  },
  {
   "cell_type": "markdown",
   "metadata": {},
   "source": [
    "### Change the direction of the operation with `axis='columns'`\n",
    "\n",
    "Let's change the direction of the operation and sum each row by setting the `axis` parameter to the string `'columns'`. This gives us the total compensation for each employee."
   ]
  },
  {
   "cell_type": "code",
   "execution_count": 27,
   "metadata": {},
   "outputs": [
    {
     "data": {
      "text/plain": [
       "0    104242.87\n",
       "1     96627.18\n",
       "2    239777.06\n",
       "3     46485.63\n",
       "4     45680.15\n",
       "5     14095.03\n",
       "6     86078.82\n",
       "7    112333.62\n",
       "8    206498.36\n",
       "9     66604.32\n",
       "dtype: float64"
      ]
     },
     "execution_count": 27,
     "metadata": {},
     "output_type": "execute_result"
    }
   ],
   "source": [
    "total_emp_com = comp.sum(axis='columns')\n",
    "total_emp_com.head(10)"
   ]
  },
  {
   "cell_type": "markdown",
   "metadata": {},
   "source": [
    "A Series is returned with the same length as the DataFrame. Let's verify this is the case."
   ]
  },
  {
   "cell_type": "code",
   "execution_count": 28,
   "metadata": {},
   "outputs": [
    {
     "data": {
      "text/plain": [
       "(50000, 50000)"
      ]
     },
     "execution_count": 28,
     "metadata": {},
     "output_type": "execute_result"
    }
   ],
   "source": [
    "len(comp), len(total_emp_com)"
   ]
  },
  {
   "cell_type": "markdown",
   "metadata": {},
   "source": [
    "Instead of using the string 'columns', you can set `axis` to 1 to achieve the same result."
   ]
  },
  {
   "cell_type": "code",
   "execution_count": 29,
   "metadata": {},
   "outputs": [
    {
     "data": {
      "text/plain": [
       "0    104242.87\n",
       "1     96627.18\n",
       "2    239777.06\n",
       "3     46485.63\n",
       "4     45680.15\n",
       "5     14095.03\n",
       "6     86078.82\n",
       "7    112333.62\n",
       "8    206498.36\n",
       "9     66604.32\n",
       "dtype: float64"
      ]
     },
     "execution_count": 29,
     "metadata": {},
     "output_type": "execute_result"
    }
   ],
   "source": [
    "comp.sum(axis=1).head(10)"
   ]
  },
  {
   "cell_type": "markdown",
   "metadata": {},
   "source": [
    "### Use either `axis='columns'` or `axis=1`\n",
    "\n",
    "You are free to use either `axis='columns'` or `axis=1` as they both accomplish the same exact task.\n",
    "\n",
    "### Difficult to remember\n",
    "\n",
    "It's definitely confusing and difficult to remember which direction the operation is going to happen. As with the examples above, using 'index' or 0 sums up each column while using 'columns' or 1 sums up each row.\n",
    "\n",
    "![1]\n",
    "\n",
    "[1]: images/df_axes_explanation.png"
   ]
  },
  {
   "cell_type": "markdown",
   "metadata": {},
   "source": [
    "A little trick that helps me remember is that when setting `axis='columns'` the result is going to be the same length as a column in the DataFrame."
   ]
  },
  {
   "cell_type": "markdown",
   "metadata": {},
   "source": [
    "### Summary of the `axis` parameter\n",
    "\n",
    "* **axis 0**\n",
    "    * Default axis for most DataFrame methods\n",
    "    * Also referenced by the string 'index'\n",
    "    * Operations happen vertically, up and down the columns\n",
    "    * Example - `df.sum()` computes the sum of each column individually\n",
    "* **axis 1**\n",
    "    * Also referenced by the string 'columns'\n",
    "    * Operations happen horizontally, left to right across each row\n",
    "    * Example - `df.sum(axis='columns')` computes the sum of each row individually\n",
    "\n",
    "## Non-Aggregation methods\n",
    "\n",
    "The non-aggregation DataFrame methods do not return a single value for each column, and instead return a DataFrame that usually has the same shape as the original. Here are some common non-aggregation methods.\n",
    "\n",
    "* `abs` - takes absolute value\n",
    "* `round` - round to the nearest given decimal place\n",
    "* `cummin` - cumulative minimum\n",
    "* `cummax` - cumulative maximum\n",
    "* `cumsum` - cumulative sum\n",
    "\n",
    "Let's use the `round` method to round each column to the nearest thousand. Remember that negative numbers round to the left of the decimal place."
   ]
  },
  {
   "cell_type": "code",
   "execution_count": 30,
   "metadata": {},
   "outputs": [
    {
     "data": {
      "text/html": [
       "<div>\n",
       "<style scoped>\n",
       "    .dataframe tbody tr th:only-of-type {\n",
       "        vertical-align: middle;\n",
       "    }\n",
       "\n",
       "    .dataframe tbody tr th {\n",
       "        vertical-align: top;\n",
       "    }\n",
       "\n",
       "    .dataframe thead th {\n",
       "        text-align: right;\n",
       "    }\n",
       "</style>\n",
       "<table border=\"1\" class=\"dataframe\">\n",
       "  <thead>\n",
       "    <tr style=\"text-align: right;\">\n",
       "      <th></th>\n",
       "      <th>salaries</th>\n",
       "      <th>overtime</th>\n",
       "      <th>other salaries</th>\n",
       "      <th>retirement</th>\n",
       "      <th>health and dental</th>\n",
       "      <th>other benefits</th>\n",
       "    </tr>\n",
       "  </thead>\n",
       "  <tbody>\n",
       "    <tr>\n",
       "      <th>0</th>\n",
       "      <td>71000.0</td>\n",
       "      <td>0.0</td>\n",
       "      <td>0.0</td>\n",
       "      <td>14000.0</td>\n",
       "      <td>13000.0</td>\n",
       "      <td>6000.0</td>\n",
       "    </tr>\n",
       "    <tr>\n",
       "      <th>1</th>\n",
       "      <td>68000.0</td>\n",
       "      <td>0.0</td>\n",
       "      <td>0.0</td>\n",
       "      <td>13000.0</td>\n",
       "      <td>10000.0</td>\n",
       "      <td>6000.0</td>\n",
       "    </tr>\n",
       "    <tr>\n",
       "      <th>2</th>\n",
       "      <td>117000.0</td>\n",
       "      <td>60000.0</td>\n",
       "      <td>19000.0</td>\n",
       "      <td>25000.0</td>\n",
       "      <td>16000.0</td>\n",
       "      <td>3000.0</td>\n",
       "    </tr>\n",
       "  </tbody>\n",
       "</table>\n",
       "</div>"
      ],
      "text/plain": [
       "   salaries  overtime  other salaries  retirement  health and dental  \\\n",
       "0   71000.0       0.0             0.0     14000.0            13000.0   \n",
       "1   68000.0       0.0             0.0     13000.0            10000.0   \n",
       "2  117000.0   60000.0         19000.0     25000.0            16000.0   \n",
       "\n",
       "   other benefits  \n",
       "0          6000.0  \n",
       "1          6000.0  \n",
       "2          3000.0  "
      ]
     },
     "execution_count": 30,
     "metadata": {},
     "output_type": "execute_result"
    }
   ],
   "source": [
    "comp.round(-3).head(3)"
   ]
  },
  {
   "cell_type": "markdown",
   "metadata": {},
   "source": [
    "You can use the `round` method on DataFrames that contain non-numeric data. pandas will intelligently ignore the columns where rounding is not possible."
   ]
  },
  {
   "cell_type": "code",
   "execution_count": 31,
   "metadata": {
    "scrolled": true
   },
   "outputs": [
    {
     "data": {
      "text/html": [
       "<div>\n",
       "<style scoped>\n",
       "    .dataframe tbody tr th:only-of-type {\n",
       "        vertical-align: middle;\n",
       "    }\n",
       "\n",
       "    .dataframe tbody tr th {\n",
       "        vertical-align: top;\n",
       "    }\n",
       "\n",
       "    .dataframe thead th {\n",
       "        text-align: right;\n",
       "    }\n",
       "</style>\n",
       "<table border=\"1\" class=\"dataframe\">\n",
       "  <thead>\n",
       "    <tr style=\"text-align: right;\">\n",
       "      <th></th>\n",
       "      <th>year</th>\n",
       "      <th>organization group</th>\n",
       "      <th>job</th>\n",
       "      <th>salaries</th>\n",
       "      <th>overtime</th>\n",
       "      <th>other salaries</th>\n",
       "      <th>retirement</th>\n",
       "      <th>health and dental</th>\n",
       "      <th>other benefits</th>\n",
       "    </tr>\n",
       "  </thead>\n",
       "  <tbody>\n",
       "    <tr>\n",
       "      <th>0</th>\n",
       "      <td>2000</td>\n",
       "      <td>Public Protection</td>\n",
       "      <td>Personnel Technician</td>\n",
       "      <td>71000.0</td>\n",
       "      <td>0.0</td>\n",
       "      <td>0.0</td>\n",
       "      <td>14000.0</td>\n",
       "      <td>13000.0</td>\n",
       "      <td>6000.0</td>\n",
       "    </tr>\n",
       "    <tr>\n",
       "      <th>1</th>\n",
       "      <td>2000</td>\n",
       "      <td>General Administration &amp; Finance</td>\n",
       "      <td>Planner 2</td>\n",
       "      <td>68000.0</td>\n",
       "      <td>0.0</td>\n",
       "      <td>0.0</td>\n",
       "      <td>13000.0</td>\n",
       "      <td>10000.0</td>\n",
       "      <td>6000.0</td>\n",
       "    </tr>\n",
       "    <tr>\n",
       "      <th>2</th>\n",
       "      <td>2000</td>\n",
       "      <td>Public Protection</td>\n",
       "      <td>Firefighter</td>\n",
       "      <td>117000.0</td>\n",
       "      <td>60000.0</td>\n",
       "      <td>19000.0</td>\n",
       "      <td>25000.0</td>\n",
       "      <td>16000.0</td>\n",
       "      <td>3000.0</td>\n",
       "    </tr>\n",
       "  </tbody>\n",
       "</table>\n",
       "</div>"
      ],
      "text/plain": [
       "   year                organization group                   job  salaries  \\\n",
       "0  2000                 Public Protection  Personnel Technician   71000.0   \n",
       "1  2000  General Administration & Finance             Planner 2   68000.0   \n",
       "2  2000                 Public Protection           Firefighter  117000.0   \n",
       "\n",
       "   overtime  other salaries  retirement  health and dental  other benefits  \n",
       "0       0.0             0.0     14000.0            13000.0          6000.0  \n",
       "1       0.0             0.0     13000.0            10000.0          6000.0  \n",
       "2   60000.0         19000.0     25000.0            16000.0          3000.0  "
      ]
     },
     "execution_count": 31,
     "metadata": {},
     "output_type": "execute_result"
    }
   ],
   "source": [
    "sf_emp.round(-3).head(3)"
   ]
  },
  {
   "cell_type": "markdown",
   "metadata": {},
   "source": [
    "All numeric columns from above were rounded to the nearest thousand including the year. In many cases, you'll want to round different columns to different decimal places. You can do so by providing the `round` method a dictionary mapping the column name to the decimal place. Below, we round only the salaries and retirement columns."
   ]
  },
  {
   "cell_type": "code",
   "execution_count": 32,
   "metadata": {},
   "outputs": [
    {
     "data": {
      "text/html": [
       "<div>\n",
       "<style scoped>\n",
       "    .dataframe tbody tr th:only-of-type {\n",
       "        vertical-align: middle;\n",
       "    }\n",
       "\n",
       "    .dataframe tbody tr th {\n",
       "        vertical-align: top;\n",
       "    }\n",
       "\n",
       "    .dataframe thead th {\n",
       "        text-align: right;\n",
       "    }\n",
       "</style>\n",
       "<table border=\"1\" class=\"dataframe\">\n",
       "  <thead>\n",
       "    <tr style=\"text-align: right;\">\n",
       "      <th></th>\n",
       "      <th>year</th>\n",
       "      <th>organization group</th>\n",
       "      <th>job</th>\n",
       "      <th>salaries</th>\n",
       "      <th>overtime</th>\n",
       "      <th>other salaries</th>\n",
       "      <th>retirement</th>\n",
       "      <th>health and dental</th>\n",
       "      <th>other benefits</th>\n",
       "    </tr>\n",
       "  </thead>\n",
       "  <tbody>\n",
       "    <tr>\n",
       "      <th>0</th>\n",
       "      <td>2013</td>\n",
       "      <td>Public Protection</td>\n",
       "      <td>Personnel Technician</td>\n",
       "      <td>71000.0</td>\n",
       "      <td>0.00</td>\n",
       "      <td>0.00</td>\n",
       "      <td>14040.0</td>\n",
       "      <td>12918.24</td>\n",
       "      <td>5872.04</td>\n",
       "    </tr>\n",
       "    <tr>\n",
       "      <th>1</th>\n",
       "      <td>2013</td>\n",
       "      <td>General Administration &amp; Finance</td>\n",
       "      <td>Planner 2</td>\n",
       "      <td>68000.0</td>\n",
       "      <td>0.00</td>\n",
       "      <td>0.00</td>\n",
       "      <td>13030.0</td>\n",
       "      <td>10047.52</td>\n",
       "      <td>5608.37</td>\n",
       "    </tr>\n",
       "    <tr>\n",
       "      <th>2</th>\n",
       "      <td>2013</td>\n",
       "      <td>Public Protection</td>\n",
       "      <td>Firefighter</td>\n",
       "      <td>117000.0</td>\n",
       "      <td>59975.43</td>\n",
       "      <td>19037.30</td>\n",
       "      <td>24800.0</td>\n",
       "      <td>15788.97</td>\n",
       "      <td>3222.20</td>\n",
       "    </tr>\n",
       "    <tr>\n",
       "      <th>3</th>\n",
       "      <td>2013</td>\n",
       "      <td>Community Health</td>\n",
       "      <td>IT Operations Support Admn III</td>\n",
       "      <td>32000.0</td>\n",
       "      <td>0.00</td>\n",
       "      <td>0.00</td>\n",
       "      <td>6790.0</td>\n",
       "      <td>5262.99</td>\n",
       "      <td>2574.91</td>\n",
       "    </tr>\n",
       "    <tr>\n",
       "      <th>4</th>\n",
       "      <td>2013</td>\n",
       "      <td>Community Health</td>\n",
       "      <td>Special Nurse</td>\n",
       "      <td>30000.0</td>\n",
       "      <td>0.00</td>\n",
       "      <td>5898.73</td>\n",
       "      <td>960.0</td>\n",
       "      <td>0.00</td>\n",
       "      <td>9230.03</td>\n",
       "    </tr>\n",
       "  </tbody>\n",
       "</table>\n",
       "</div>"
      ],
      "text/plain": [
       "   year                organization group                             job  \\\n",
       "0  2013                 Public Protection            Personnel Technician   \n",
       "1  2013  General Administration & Finance                       Planner 2   \n",
       "2  2013                 Public Protection                     Firefighter   \n",
       "3  2013                  Community Health  IT Operations Support Admn III   \n",
       "4  2013                  Community Health                   Special Nurse   \n",
       "\n",
       "   salaries  overtime  other salaries  retirement  health and dental  \\\n",
       "0   71000.0      0.00            0.00     14040.0           12918.24   \n",
       "1   68000.0      0.00            0.00     13030.0           10047.52   \n",
       "2  117000.0  59975.43        19037.30     24800.0           15788.97   \n",
       "3   32000.0      0.00            0.00      6790.0            5262.99   \n",
       "4   30000.0      0.00         5898.73       960.0               0.00   \n",
       "\n",
       "   other benefits  \n",
       "0         5872.04  \n",
       "1         5608.37  \n",
       "2         3222.20  \n",
       "3         2574.91  \n",
       "4         9230.03  "
      ]
     },
     "execution_count": 32,
     "metadata": {},
     "output_type": "execute_result"
    }
   ],
   "source": [
    "sf_emp.round({'salaries': -3, 'retirement': -1}).head()"
   ]
  },
  {
   "cell_type": "markdown",
   "metadata": {},
   "source": [
    "### Some methods don't have an `axis` parameter\n",
    "\n",
    "Methods such as `round` work independently of the axis and therefore do not have an `axis` parameter. Other non-aggregation methods such as `cumsum` do have an `axis` parameter. Called with the defaults (`axis=0`), the `cumsum` method computes the cumulative sum of each column individually."
   ]
  },
  {
   "cell_type": "code",
   "execution_count": 34,
   "metadata": {},
   "outputs": [
    {
     "data": {
      "text/html": [
       "<div>\n",
       "<style scoped>\n",
       "    .dataframe tbody tr th:only-of-type {\n",
       "        vertical-align: middle;\n",
       "    }\n",
       "\n",
       "    .dataframe tbody tr th {\n",
       "        vertical-align: top;\n",
       "    }\n",
       "\n",
       "    .dataframe thead th {\n",
       "        text-align: right;\n",
       "    }\n",
       "</style>\n",
       "<table border=\"1\" class=\"dataframe\">\n",
       "  <thead>\n",
       "    <tr style=\"text-align: right;\">\n",
       "      <th></th>\n",
       "      <th>salaries</th>\n",
       "      <th>overtime</th>\n",
       "      <th>other salaries</th>\n",
       "      <th>retirement</th>\n",
       "      <th>health and dental</th>\n",
       "      <th>other benefits</th>\n",
       "    </tr>\n",
       "  </thead>\n",
       "  <tbody>\n",
       "    <tr>\n",
       "      <th>0</th>\n",
       "      <td>71414.01</td>\n",
       "      <td>0.00</td>\n",
       "      <td>0.0</td>\n",
       "      <td>14038.58</td>\n",
       "      <td>12918.24</td>\n",
       "      <td>5872.04</td>\n",
       "    </tr>\n",
       "    <tr>\n",
       "      <th>1</th>\n",
       "      <td>139355.07</td>\n",
       "      <td>0.00</td>\n",
       "      <td>0.0</td>\n",
       "      <td>27068.81</td>\n",
       "      <td>22965.76</td>\n",
       "      <td>11480.41</td>\n",
       "    </tr>\n",
       "    <tr>\n",
       "      <th>2</th>\n",
       "      <td>256311.79</td>\n",
       "      <td>59975.43</td>\n",
       "      <td>19037.3</td>\n",
       "      <td>51865.25</td>\n",
       "      <td>38754.73</td>\n",
       "      <td>14702.61</td>\n",
       "    </tr>\n",
       "  </tbody>\n",
       "</table>\n",
       "</div>"
      ],
      "text/plain": [
       "    salaries  overtime  other salaries  retirement  health and dental  \\\n",
       "0   71414.01      0.00             0.0    14038.58           12918.24   \n",
       "1  139355.07      0.00             0.0    27068.81           22965.76   \n",
       "2  256311.79  59975.43         19037.3    51865.25           38754.73   \n",
       "\n",
       "   other benefits  \n",
       "0         5872.04  \n",
       "1        11480.41  \n",
       "2        14702.61  "
      ]
     },
     "execution_count": 34,
     "metadata": {},
     "output_type": "execute_result"
    }
   ],
   "source": [
    "comp.cumsum().head(3)"
   ]
  },
  {
   "cell_type": "markdown",
   "metadata": {},
   "source": [
    "Changing the direction of the operation, the `cumsum` method calculates the cumulative sum of each row individually."
   ]
  },
  {
   "cell_type": "code",
   "execution_count": 35,
   "metadata": {},
   "outputs": [
    {
     "data": {
      "text/html": [
       "<div>\n",
       "<style scoped>\n",
       "    .dataframe tbody tr th:only-of-type {\n",
       "        vertical-align: middle;\n",
       "    }\n",
       "\n",
       "    .dataframe tbody tr th {\n",
       "        vertical-align: top;\n",
       "    }\n",
       "\n",
       "    .dataframe thead th {\n",
       "        text-align: right;\n",
       "    }\n",
       "</style>\n",
       "<table border=\"1\" class=\"dataframe\">\n",
       "  <thead>\n",
       "    <tr style=\"text-align: right;\">\n",
       "      <th></th>\n",
       "      <th>salaries</th>\n",
       "      <th>overtime</th>\n",
       "      <th>other salaries</th>\n",
       "      <th>retirement</th>\n",
       "      <th>health and dental</th>\n",
       "      <th>other benefits</th>\n",
       "    </tr>\n",
       "  </thead>\n",
       "  <tbody>\n",
       "    <tr>\n",
       "      <th>0</th>\n",
       "      <td>71414.01</td>\n",
       "      <td>71414.01</td>\n",
       "      <td>71414.01</td>\n",
       "      <td>85452.59</td>\n",
       "      <td>98370.83</td>\n",
       "      <td>104242.87</td>\n",
       "    </tr>\n",
       "    <tr>\n",
       "      <th>1</th>\n",
       "      <td>67941.06</td>\n",
       "      <td>67941.06</td>\n",
       "      <td>67941.06</td>\n",
       "      <td>80971.29</td>\n",
       "      <td>91018.81</td>\n",
       "      <td>96627.18</td>\n",
       "    </tr>\n",
       "    <tr>\n",
       "      <th>2</th>\n",
       "      <td>116956.72</td>\n",
       "      <td>176932.15</td>\n",
       "      <td>195969.45</td>\n",
       "      <td>220765.89</td>\n",
       "      <td>236554.86</td>\n",
       "      <td>239777.06</td>\n",
       "    </tr>\n",
       "  </tbody>\n",
       "</table>\n",
       "</div>"
      ],
      "text/plain": [
       "    salaries   overtime  other salaries  retirement  health and dental  \\\n",
       "0   71414.01   71414.01        71414.01    85452.59           98370.83   \n",
       "1   67941.06   67941.06        67941.06    80971.29           91018.81   \n",
       "2  116956.72  176932.15       195969.45   220765.89          236554.86   \n",
       "\n",
       "   other benefits  \n",
       "0       104242.87  \n",
       "1        96627.18  \n",
       "2       239777.06  "
      ]
     },
     "execution_count": 35,
     "metadata": {},
     "output_type": "execute_result"
    }
   ],
   "source": [
    "comp.cumsum(axis='columns').head(3)"
   ]
  },
  {
   "cell_type": "markdown",
   "metadata": {},
   "source": [
    "The values in the last column of the above DataFrame are equal to the sum of the entire row."
   ]
  },
  {
   "cell_type": "code",
   "execution_count": 36,
   "metadata": {},
   "outputs": [
    {
     "data": {
      "text/plain": [
       "0    104242.87\n",
       "1     96627.18\n",
       "2    239777.06\n",
       "dtype: float64"
      ]
     },
     "execution_count": 36,
     "metadata": {},
     "output_type": "execute_result"
    }
   ],
   "source": [
    "comp.sum(axis=1).head(3)"
   ]
  },
  {
   "cell_type": "markdown",
   "metadata": {},
   "source": [
    "### Summary statistics for all columns with the `describe` method\n",
    "\n",
    "The describe method calculates several summary statistics for each column and is a nice way to inspect all of your data at once. Notice that a DataFrame is returned with the name of each summary statistic in the index. By default, it returns the 25th, 50th, and 75th percentiles. You can customize these by passing in a list of numbers between 0 and 1 to the `percentiles` parameter."
   ]
  },
  {
   "cell_type": "code",
   "execution_count": 37,
   "metadata": {},
   "outputs": [
    {
     "data": {
      "text/html": [
       "<div>\n",
       "<style scoped>\n",
       "    .dataframe tbody tr th:only-of-type {\n",
       "        vertical-align: middle;\n",
       "    }\n",
       "\n",
       "    .dataframe tbody tr th {\n",
       "        vertical-align: top;\n",
       "    }\n",
       "\n",
       "    .dataframe thead th {\n",
       "        text-align: right;\n",
       "    }\n",
       "</style>\n",
       "<table border=\"1\" class=\"dataframe\">\n",
       "  <thead>\n",
       "    <tr style=\"text-align: right;\">\n",
       "      <th></th>\n",
       "      <th>salaries</th>\n",
       "      <th>overtime</th>\n",
       "      <th>other salaries</th>\n",
       "      <th>retirement</th>\n",
       "      <th>health and dental</th>\n",
       "      <th>other benefits</th>\n",
       "    </tr>\n",
       "  </thead>\n",
       "  <tbody>\n",
       "    <tr>\n",
       "      <th>count</th>\n",
       "      <td>50000.000000</td>\n",
       "      <td>50000.000000</td>\n",
       "      <td>50000.000000</td>\n",
       "      <td>50000.000000</td>\n",
       "      <td>50000.000000</td>\n",
       "      <td>50000.000000</td>\n",
       "    </tr>\n",
       "    <tr>\n",
       "      <th>mean</th>\n",
       "      <td>53715.441133</td>\n",
       "      <td>4201.272687</td>\n",
       "      <td>2816.296542</td>\n",
       "      <td>10484.755614</td>\n",
       "      <td>9382.390735</td>\n",
       "      <td>4053.381941</td>\n",
       "    </tr>\n",
       "    <tr>\n",
       "      <th>std</th>\n",
       "      <td>47686.502923</td>\n",
       "      <td>11601.573498</td>\n",
       "      <td>6637.820066</td>\n",
       "      <td>9922.598455</td>\n",
       "      <td>7379.199008</td>\n",
       "      <td>4171.974274</td>\n",
       "    </tr>\n",
       "    <tr>\n",
       "      <th>min</th>\n",
       "      <td>-2984.520000</td>\n",
       "      <td>-18458.150000</td>\n",
       "      <td>-604.850000</td>\n",
       "      <td>-13692.120000</td>\n",
       "      <td>-287.370000</td>\n",
       "      <td>-8584.140000</td>\n",
       "    </tr>\n",
       "    <tr>\n",
       "      <th>10%</th>\n",
       "      <td>0.000000</td>\n",
       "      <td>0.000000</td>\n",
       "      <td>0.000000</td>\n",
       "      <td>0.000000</td>\n",
       "      <td>0.000000</td>\n",
       "      <td>0.000000</td>\n",
       "    </tr>\n",
       "    <tr>\n",
       "      <th>40%</th>\n",
       "      <td>32216.216000</td>\n",
       "      <td>0.000000</td>\n",
       "      <td>0.000000</td>\n",
       "      <td>5630.182000</td>\n",
       "      <td>7566.940000</td>\n",
       "      <td>1994.890000</td>\n",
       "    </tr>\n",
       "    <tr>\n",
       "      <th>50%</th>\n",
       "      <td>52181.955000</td>\n",
       "      <td>0.000000</td>\n",
       "      <td>164.770000</td>\n",
       "      <td>10427.540000</td>\n",
       "      <td>11416.360000</td>\n",
       "      <td>3107.040000</td>\n",
       "    </tr>\n",
       "    <tr>\n",
       "      <th>99%</th>\n",
       "      <td>186236.458000</td>\n",
       "      <td>57417.594000</td>\n",
       "      <td>25787.002700</td>\n",
       "      <td>37884.390000</td>\n",
       "      <td>29507.920000</td>\n",
       "      <td>18707.402500</td>\n",
       "    </tr>\n",
       "    <tr>\n",
       "      <th>max</th>\n",
       "      <td>645739.460000</td>\n",
       "      <td>258124.170000</td>\n",
       "      <td>239294.570000</td>\n",
       "      <td>120791.400000</td>\n",
       "      <td>36369.960000</td>\n",
       "      <td>37563.460000</td>\n",
       "    </tr>\n",
       "  </tbody>\n",
       "</table>\n",
       "</div>"
      ],
      "text/plain": [
       "            salaries       overtime  other salaries     retirement  \\\n",
       "count   50000.000000   50000.000000    50000.000000   50000.000000   \n",
       "mean    53715.441133    4201.272687     2816.296542   10484.755614   \n",
       "std     47686.502923   11601.573498     6637.820066    9922.598455   \n",
       "min     -2984.520000  -18458.150000     -604.850000  -13692.120000   \n",
       "10%         0.000000       0.000000        0.000000       0.000000   \n",
       "40%     32216.216000       0.000000        0.000000    5630.182000   \n",
       "50%     52181.955000       0.000000      164.770000   10427.540000   \n",
       "99%    186236.458000   57417.594000    25787.002700   37884.390000   \n",
       "max    645739.460000  258124.170000   239294.570000  120791.400000   \n",
       "\n",
       "       health and dental  other benefits  \n",
       "count       50000.000000    50000.000000  \n",
       "mean         9382.390735     4053.381941  \n",
       "std          7379.199008     4171.974274  \n",
       "min          -287.370000    -8584.140000  \n",
       "10%             0.000000        0.000000  \n",
       "40%          7566.940000     1994.890000  \n",
       "50%         11416.360000     3107.040000  \n",
       "99%         29507.920000    18707.402500  \n",
       "max         36369.960000    37563.460000  "
      ]
     },
     "execution_count": 37,
     "metadata": {},
     "output_type": "execute_result"
    }
   ],
   "source": [
    "comp.describe(percentiles=[.1, .4, .5, .99])"
   ]
  },
  {
   "cell_type": "markdown",
   "metadata": {},
   "source": [
    "### The `describe` method with non-numeric columns\n",
    "\n",
    "The `comp` DataFrame from above contains only numeric columns. If `describe` is called on a DataFrame containing a mix of numeric and non-numeric columns, then summary statistics for just the numeric columns will be returned. The others will be ignored. The original `sf_emp` DataFrame contains a mix of data types. Let's call `describe` on it. Notice how the number of columns after calling `describe` decreased from 9 to 7."
   ]
  },
  {
   "cell_type": "code",
   "execution_count": 38,
   "metadata": {},
   "outputs": [
    {
     "data": {
      "text/plain": [
       "(50000, 9)"
      ]
     },
     "execution_count": 38,
     "metadata": {},
     "output_type": "execute_result"
    }
   ],
   "source": [
    "sf_emp.shape"
   ]
  },
  {
   "cell_type": "code",
   "execution_count": 39,
   "metadata": {},
   "outputs": [
    {
     "data": {
      "text/html": [
       "<div>\n",
       "<style scoped>\n",
       "    .dataframe tbody tr th:only-of-type {\n",
       "        vertical-align: middle;\n",
       "    }\n",
       "\n",
       "    .dataframe tbody tr th {\n",
       "        vertical-align: top;\n",
       "    }\n",
       "\n",
       "    .dataframe thead th {\n",
       "        text-align: right;\n",
       "    }\n",
       "</style>\n",
       "<table border=\"1\" class=\"dataframe\">\n",
       "  <thead>\n",
       "    <tr style=\"text-align: right;\">\n",
       "      <th></th>\n",
       "      <th>year</th>\n",
       "      <th>salaries</th>\n",
       "      <th>overtime</th>\n",
       "      <th>other salaries</th>\n",
       "      <th>retirement</th>\n",
       "      <th>health and dental</th>\n",
       "      <th>other benefits</th>\n",
       "    </tr>\n",
       "  </thead>\n",
       "  <tbody>\n",
       "    <tr>\n",
       "      <th>count</th>\n",
       "      <td>50000.000000</td>\n",
       "      <td>50000.000000</td>\n",
       "      <td>50000.000000</td>\n",
       "      <td>50000.000000</td>\n",
       "      <td>50000.000000</td>\n",
       "      <td>50000.000000</td>\n",
       "      <td>50000.000000</td>\n",
       "    </tr>\n",
       "    <tr>\n",
       "      <th>mean</th>\n",
       "      <td>2016.531760</td>\n",
       "      <td>53715.441133</td>\n",
       "      <td>4201.272687</td>\n",
       "      <td>2816.296542</td>\n",
       "      <td>10484.755614</td>\n",
       "      <td>9382.390735</td>\n",
       "      <td>4053.381941</td>\n",
       "    </tr>\n",
       "    <tr>\n",
       "      <th>std</th>\n",
       "      <td>1.877153</td>\n",
       "      <td>47686.502923</td>\n",
       "      <td>11601.573498</td>\n",
       "      <td>6637.820066</td>\n",
       "      <td>9922.598455</td>\n",
       "      <td>7379.199008</td>\n",
       "      <td>4171.974274</td>\n",
       "    </tr>\n",
       "    <tr>\n",
       "      <th>min</th>\n",
       "      <td>2013.000000</td>\n",
       "      <td>-2984.520000</td>\n",
       "      <td>-18458.150000</td>\n",
       "      <td>-604.850000</td>\n",
       "      <td>-13692.120000</td>\n",
       "      <td>-287.370000</td>\n",
       "      <td>-8584.140000</td>\n",
       "    </tr>\n",
       "    <tr>\n",
       "      <th>25%</th>\n",
       "      <td>2015.000000</td>\n",
       "      <td>5281.285000</td>\n",
       "      <td>0.000000</td>\n",
       "      <td>0.000000</td>\n",
       "      <td>0.000000</td>\n",
       "      <td>2106.925000</td>\n",
       "      <td>398.465000</td>\n",
       "    </tr>\n",
       "    <tr>\n",
       "      <th>50%</th>\n",
       "      <td>2017.000000</td>\n",
       "      <td>52181.955000</td>\n",
       "      <td>0.000000</td>\n",
       "      <td>164.770000</td>\n",
       "      <td>10427.540000</td>\n",
       "      <td>11416.360000</td>\n",
       "      <td>3107.040000</td>\n",
       "    </tr>\n",
       "    <tr>\n",
       "      <th>75%</th>\n",
       "      <td>2018.000000</td>\n",
       "      <td>85455.002500</td>\n",
       "      <td>1907.260000</td>\n",
       "      <td>2727.590000</td>\n",
       "      <td>17227.312500</td>\n",
       "      <td>13371.030000</td>\n",
       "      <td>6433.782500</td>\n",
       "    </tr>\n",
       "    <tr>\n",
       "      <th>max</th>\n",
       "      <td>2019.000000</td>\n",
       "      <td>645739.460000</td>\n",
       "      <td>258124.170000</td>\n",
       "      <td>239294.570000</td>\n",
       "      <td>120791.400000</td>\n",
       "      <td>36369.960000</td>\n",
       "      <td>37563.460000</td>\n",
       "    </tr>\n",
       "  </tbody>\n",
       "</table>\n",
       "</div>"
      ],
      "text/plain": [
       "               year       salaries       overtime  other salaries  \\\n",
       "count  50000.000000   50000.000000   50000.000000    50000.000000   \n",
       "mean    2016.531760   53715.441133    4201.272687     2816.296542   \n",
       "std        1.877153   47686.502923   11601.573498     6637.820066   \n",
       "min     2013.000000   -2984.520000  -18458.150000     -604.850000   \n",
       "25%     2015.000000    5281.285000       0.000000        0.000000   \n",
       "50%     2017.000000   52181.955000       0.000000      164.770000   \n",
       "75%     2018.000000   85455.002500    1907.260000     2727.590000   \n",
       "max     2019.000000  645739.460000  258124.170000   239294.570000   \n",
       "\n",
       "          retirement  health and dental  other benefits  \n",
       "count   50000.000000       50000.000000    50000.000000  \n",
       "mean    10484.755614        9382.390735     4053.381941  \n",
       "std      9922.598455        7379.199008     4171.974274  \n",
       "min    -13692.120000        -287.370000    -8584.140000  \n",
       "25%         0.000000        2106.925000      398.465000  \n",
       "50%     10427.540000       11416.360000     3107.040000  \n",
       "75%     17227.312500       13371.030000     6433.782500  \n",
       "max    120791.400000       36369.960000    37563.460000  "
      ]
     },
     "execution_count": 39,
     "metadata": {},
     "output_type": "execute_result"
    }
   ],
   "source": [
    "sf_emp.describe()"
   ]
  },
  {
   "cell_type": "code",
   "execution_count": 23,
   "metadata": {},
   "outputs": [
    {
     "data": {
      "text/plain": [
       "(8, 7)"
      ]
     },
     "execution_count": 23,
     "metadata": {},
     "output_type": "execute_result"
    }
   ],
   "source": [
    "sf_emp.describe().shape"
   ]
  },
  {
   "cell_type": "code",
   "execution_count": 41,
   "metadata": {},
   "outputs": [
    {
     "data": {
      "text/html": [
       "<div>\n",
       "<style scoped>\n",
       "    .dataframe tbody tr th:only-of-type {\n",
       "        vertical-align: middle;\n",
       "    }\n",
       "\n",
       "    .dataframe tbody tr th {\n",
       "        vertical-align: top;\n",
       "    }\n",
       "\n",
       "    .dataframe thead th {\n",
       "        text-align: right;\n",
       "    }\n",
       "</style>\n",
       "<table border=\"1\" class=\"dataframe\">\n",
       "  <thead>\n",
       "    <tr style=\"text-align: right;\">\n",
       "      <th></th>\n",
       "      <th>count</th>\n",
       "      <th>mean</th>\n",
       "      <th>std</th>\n",
       "      <th>min</th>\n",
       "      <th>25%</th>\n",
       "      <th>50%</th>\n",
       "      <th>75%</th>\n",
       "      <th>max</th>\n",
       "    </tr>\n",
       "  </thead>\n",
       "  <tbody>\n",
       "    <tr>\n",
       "      <th>year</th>\n",
       "      <td>50000.0</td>\n",
       "      <td>2016.531760</td>\n",
       "      <td>1.877153</td>\n",
       "      <td>2013.00</td>\n",
       "      <td>2015.000</td>\n",
       "      <td>2017.000</td>\n",
       "      <td>2018.0000</td>\n",
       "      <td>2019.00</td>\n",
       "    </tr>\n",
       "    <tr>\n",
       "      <th>salaries</th>\n",
       "      <td>50000.0</td>\n",
       "      <td>53715.441133</td>\n",
       "      <td>47686.502923</td>\n",
       "      <td>-2984.52</td>\n",
       "      <td>5281.285</td>\n",
       "      <td>52181.955</td>\n",
       "      <td>85455.0025</td>\n",
       "      <td>645739.46</td>\n",
       "    </tr>\n",
       "    <tr>\n",
       "      <th>overtime</th>\n",
       "      <td>50000.0</td>\n",
       "      <td>4201.272687</td>\n",
       "      <td>11601.573498</td>\n",
       "      <td>-18458.15</td>\n",
       "      <td>0.000</td>\n",
       "      <td>0.000</td>\n",
       "      <td>1907.2600</td>\n",
       "      <td>258124.17</td>\n",
       "    </tr>\n",
       "    <tr>\n",
       "      <th>other salaries</th>\n",
       "      <td>50000.0</td>\n",
       "      <td>2816.296542</td>\n",
       "      <td>6637.820066</td>\n",
       "      <td>-604.85</td>\n",
       "      <td>0.000</td>\n",
       "      <td>164.770</td>\n",
       "      <td>2727.5900</td>\n",
       "      <td>239294.57</td>\n",
       "    </tr>\n",
       "    <tr>\n",
       "      <th>retirement</th>\n",
       "      <td>50000.0</td>\n",
       "      <td>10484.755614</td>\n",
       "      <td>9922.598455</td>\n",
       "      <td>-13692.12</td>\n",
       "      <td>0.000</td>\n",
       "      <td>10427.540</td>\n",
       "      <td>17227.3125</td>\n",
       "      <td>120791.40</td>\n",
       "    </tr>\n",
       "    <tr>\n",
       "      <th>health and dental</th>\n",
       "      <td>50000.0</td>\n",
       "      <td>9382.390735</td>\n",
       "      <td>7379.199008</td>\n",
       "      <td>-287.37</td>\n",
       "      <td>2106.925</td>\n",
       "      <td>11416.360</td>\n",
       "      <td>13371.0300</td>\n",
       "      <td>36369.96</td>\n",
       "    </tr>\n",
       "    <tr>\n",
       "      <th>other benefits</th>\n",
       "      <td>50000.0</td>\n",
       "      <td>4053.381941</td>\n",
       "      <td>4171.974274</td>\n",
       "      <td>-8584.14</td>\n",
       "      <td>398.465</td>\n",
       "      <td>3107.040</td>\n",
       "      <td>6433.7825</td>\n",
       "      <td>37563.46</td>\n",
       "    </tr>\n",
       "  </tbody>\n",
       "</table>\n",
       "</div>"
      ],
      "text/plain": [
       "                     count          mean           std       min       25%  \\\n",
       "year               50000.0   2016.531760      1.877153   2013.00  2015.000   \n",
       "salaries           50000.0  53715.441133  47686.502923  -2984.52  5281.285   \n",
       "overtime           50000.0   4201.272687  11601.573498 -18458.15     0.000   \n",
       "other salaries     50000.0   2816.296542   6637.820066   -604.85     0.000   \n",
       "retirement         50000.0  10484.755614   9922.598455 -13692.12     0.000   \n",
       "health and dental  50000.0   9382.390735   7379.199008   -287.37  2106.925   \n",
       "other benefits     50000.0   4053.381941   4171.974274  -8584.14   398.465   \n",
       "\n",
       "                         50%         75%        max  \n",
       "year                2017.000   2018.0000    2019.00  \n",
       "salaries           52181.955  85455.0025  645739.46  \n",
       "overtime               0.000   1907.2600  258124.17  \n",
       "other salaries       164.770   2727.5900  239294.57  \n",
       "retirement         10427.540  17227.3125  120791.40  \n",
       "health and dental  11416.360  13371.0300   36369.96  \n",
       "other benefits      3107.040   6433.7825   37563.46  "
      ]
     },
     "execution_count": 41,
     "metadata": {},
     "output_type": "execute_result"
    }
   ],
   "source": [
    "sf_emp.describe().T"
   ]
  },
  {
   "cell_type": "markdown",
   "metadata": {},
   "source": [
    "### Calling `describe` on non-numeric columns\n",
    "\n",
    "The `describe` method can work with non-numeric columns, but you'll need to set the `include` parameter to a string of the data type you would like to use. Below, a summary of the object (string) columns is produced. Notice that pandas returns a completely different set of summary statistics that make more sense with strings."
   ]
  },
  {
   "cell_type": "code",
   "execution_count": 40,
   "metadata": {},
   "outputs": [
    {
     "data": {
      "text/html": [
       "<div>\n",
       "<style scoped>\n",
       "    .dataframe tbody tr th:only-of-type {\n",
       "        vertical-align: middle;\n",
       "    }\n",
       "\n",
       "    .dataframe tbody tr th {\n",
       "        vertical-align: top;\n",
       "    }\n",
       "\n",
       "    .dataframe thead th {\n",
       "        text-align: right;\n",
       "    }\n",
       "</style>\n",
       "<table border=\"1\" class=\"dataframe\">\n",
       "  <thead>\n",
       "    <tr style=\"text-align: right;\">\n",
       "      <th></th>\n",
       "      <th>organization group</th>\n",
       "      <th>job</th>\n",
       "    </tr>\n",
       "  </thead>\n",
       "  <tbody>\n",
       "    <tr>\n",
       "      <th>count</th>\n",
       "      <td>50000</td>\n",
       "      <td>50000</td>\n",
       "    </tr>\n",
       "    <tr>\n",
       "      <th>unique</th>\n",
       "      <td>7</td>\n",
       "      <td>1140</td>\n",
       "    </tr>\n",
       "    <tr>\n",
       "      <th>top</th>\n",
       "      <td>Public Works, Transportation &amp; Commerce</td>\n",
       "      <td>Transit Operator</td>\n",
       "    </tr>\n",
       "    <tr>\n",
       "      <th>freq</th>\n",
       "      <td>12751</td>\n",
       "      <td>3105</td>\n",
       "    </tr>\n",
       "  </tbody>\n",
       "</table>\n",
       "</div>"
      ],
      "text/plain": [
       "                             organization group               job\n",
       "count                                     50000             50000\n",
       "unique                                        7              1140\n",
       "top     Public Works, Transportation & Commerce  Transit Operator\n",
       "freq                                      12751              3105"
      ]
     },
     "execution_count": 40,
     "metadata": {},
     "output_type": "execute_result"
    }
   ],
   "source": [
    "sf_emp.describe(include='object')"
   ]
  },
  {
   "cell_type": "markdown",
   "metadata": {},
   "source": [
    "### Transposing a  DataFrame with the `T` attribute\n",
    "\n",
    "Transposing a DataFrame 'rotates' the data 90 degrees. The columns and the rows switch places. The first column is now the first row. The `.T` attribute transposes the DataFrame. I find this useful after running the `describe` method when there are many columns, as it's easier to read many rows of data as opposed to many columns of data."
   ]
  },
  {
   "cell_type": "code",
   "execution_count": 25,
   "metadata": {},
   "outputs": [
    {
     "data": {
      "text/html": [
       "<div>\n",
       "<style scoped>\n",
       "    .dataframe tbody tr th:only-of-type {\n",
       "        vertical-align: middle;\n",
       "    }\n",
       "\n",
       "    .dataframe tbody tr th {\n",
       "        vertical-align: top;\n",
       "    }\n",
       "\n",
       "    .dataframe thead th {\n",
       "        text-align: right;\n",
       "    }\n",
       "</style>\n",
       "<table border=\"1\" class=\"dataframe\">\n",
       "  <thead>\n",
       "    <tr style=\"text-align: right;\">\n",
       "      <th></th>\n",
       "      <th>count</th>\n",
       "      <th>mean</th>\n",
       "      <th>std</th>\n",
       "      <th>min</th>\n",
       "      <th>25%</th>\n",
       "      <th>50%</th>\n",
       "      <th>75%</th>\n",
       "      <th>max</th>\n",
       "    </tr>\n",
       "  </thead>\n",
       "  <tbody>\n",
       "    <tr>\n",
       "      <th>year</th>\n",
       "      <td>50000.0</td>\n",
       "      <td>2016.531760</td>\n",
       "      <td>1.877153</td>\n",
       "      <td>2013.00</td>\n",
       "      <td>2015.000</td>\n",
       "      <td>2017.000</td>\n",
       "      <td>2018.0000</td>\n",
       "      <td>2019.00</td>\n",
       "    </tr>\n",
       "    <tr>\n",
       "      <th>salaries</th>\n",
       "      <td>50000.0</td>\n",
       "      <td>53715.441133</td>\n",
       "      <td>47686.502923</td>\n",
       "      <td>-2984.52</td>\n",
       "      <td>5281.285</td>\n",
       "      <td>52181.955</td>\n",
       "      <td>85455.0025</td>\n",
       "      <td>645739.46</td>\n",
       "    </tr>\n",
       "    <tr>\n",
       "      <th>overtime</th>\n",
       "      <td>50000.0</td>\n",
       "      <td>4201.272687</td>\n",
       "      <td>11601.573498</td>\n",
       "      <td>-18458.15</td>\n",
       "      <td>0.000</td>\n",
       "      <td>0.000</td>\n",
       "      <td>1907.2600</td>\n",
       "      <td>258124.17</td>\n",
       "    </tr>\n",
       "    <tr>\n",
       "      <th>other salaries</th>\n",
       "      <td>50000.0</td>\n",
       "      <td>2816.296542</td>\n",
       "      <td>6637.820066</td>\n",
       "      <td>-604.85</td>\n",
       "      <td>0.000</td>\n",
       "      <td>164.770</td>\n",
       "      <td>2727.5900</td>\n",
       "      <td>239294.57</td>\n",
       "    </tr>\n",
       "    <tr>\n",
       "      <th>retirement</th>\n",
       "      <td>50000.0</td>\n",
       "      <td>10484.755614</td>\n",
       "      <td>9922.598455</td>\n",
       "      <td>-13692.12</td>\n",
       "      <td>0.000</td>\n",
       "      <td>10427.540</td>\n",
       "      <td>17227.3125</td>\n",
       "      <td>120791.40</td>\n",
       "    </tr>\n",
       "    <tr>\n",
       "      <th>health and dental</th>\n",
       "      <td>50000.0</td>\n",
       "      <td>9382.390735</td>\n",
       "      <td>7379.199008</td>\n",
       "      <td>-287.37</td>\n",
       "      <td>2106.925</td>\n",
       "      <td>11416.360</td>\n",
       "      <td>13371.0300</td>\n",
       "      <td>36369.96</td>\n",
       "    </tr>\n",
       "    <tr>\n",
       "      <th>other benefits</th>\n",
       "      <td>50000.0</td>\n",
       "      <td>4053.381941</td>\n",
       "      <td>4171.974274</td>\n",
       "      <td>-8584.14</td>\n",
       "      <td>398.465</td>\n",
       "      <td>3107.040</td>\n",
       "      <td>6433.7825</td>\n",
       "      <td>37563.46</td>\n",
       "    </tr>\n",
       "  </tbody>\n",
       "</table>\n",
       "</div>"
      ],
      "text/plain": [
       "                     count          mean           std       min       25%  \\\n",
       "year               50000.0   2016.531760      1.877153   2013.00  2015.000   \n",
       "salaries           50000.0  53715.441133  47686.502923  -2984.52  5281.285   \n",
       "overtime           50000.0   4201.272687  11601.573498 -18458.15     0.000   \n",
       "other salaries     50000.0   2816.296542   6637.820066   -604.85     0.000   \n",
       "retirement         50000.0  10484.755614   9922.598455 -13692.12     0.000   \n",
       "health and dental  50000.0   9382.390735   7379.199008   -287.37  2106.925   \n",
       "other benefits     50000.0   4053.381941   4171.974274  -8584.14   398.465   \n",
       "\n",
       "                         50%         75%        max  \n",
       "year                2017.000   2018.0000    2019.00  \n",
       "salaries           52181.955  85455.0025  645739.46  \n",
       "overtime               0.000   1907.2600  258124.17  \n",
       "other salaries       164.770   2727.5900  239294.57  \n",
       "retirement         10427.540  17227.3125  120791.40  \n",
       "health and dental  11416.360  13371.0300   36369.96  \n",
       "other benefits      3107.040   6433.7825   37563.46  "
      ]
     },
     "execution_count": 25,
     "metadata": {},
     "output_type": "execute_result"
    }
   ],
   "source": [
    "sf_emp.describe().T"
   ]
  },
  {
   "cell_type": "code",
   "execution_count": 26,
   "metadata": {},
   "outputs": [
    {
     "data": {
      "text/html": [
       "<div>\n",
       "<style scoped>\n",
       "    .dataframe tbody tr th:only-of-type {\n",
       "        vertical-align: middle;\n",
       "    }\n",
       "\n",
       "    .dataframe tbody tr th {\n",
       "        vertical-align: top;\n",
       "    }\n",
       "\n",
       "    .dataframe thead th {\n",
       "        text-align: right;\n",
       "    }\n",
       "</style>\n",
       "<table border=\"1\" class=\"dataframe\">\n",
       "  <thead>\n",
       "    <tr style=\"text-align: right;\">\n",
       "      <th></th>\n",
       "      <th>year</th>\n",
       "      <th>salaries</th>\n",
       "      <th>overtime</th>\n",
       "      <th>other salaries</th>\n",
       "      <th>retirement</th>\n",
       "      <th>health and dental</th>\n",
       "      <th>other benefits</th>\n",
       "    </tr>\n",
       "  </thead>\n",
       "  <tbody>\n",
       "    <tr>\n",
       "      <th>count</th>\n",
       "      <td>50000.000000</td>\n",
       "      <td>50000.000000</td>\n",
       "      <td>50000.000000</td>\n",
       "      <td>50000.000000</td>\n",
       "      <td>50000.000000</td>\n",
       "      <td>50000.000000</td>\n",
       "      <td>50000.000000</td>\n",
       "    </tr>\n",
       "    <tr>\n",
       "      <th>mean</th>\n",
       "      <td>2016.531760</td>\n",
       "      <td>53715.441133</td>\n",
       "      <td>4201.272687</td>\n",
       "      <td>2816.296542</td>\n",
       "      <td>10484.755614</td>\n",
       "      <td>9382.390735</td>\n",
       "      <td>4053.381941</td>\n",
       "    </tr>\n",
       "    <tr>\n",
       "      <th>std</th>\n",
       "      <td>1.877153</td>\n",
       "      <td>47686.502923</td>\n",
       "      <td>11601.573498</td>\n",
       "      <td>6637.820066</td>\n",
       "      <td>9922.598455</td>\n",
       "      <td>7379.199008</td>\n",
       "      <td>4171.974274</td>\n",
       "    </tr>\n",
       "    <tr>\n",
       "      <th>min</th>\n",
       "      <td>2013.000000</td>\n",
       "      <td>-2984.520000</td>\n",
       "      <td>-18458.150000</td>\n",
       "      <td>-604.850000</td>\n",
       "      <td>-13692.120000</td>\n",
       "      <td>-287.370000</td>\n",
       "      <td>-8584.140000</td>\n",
       "    </tr>\n",
       "    <tr>\n",
       "      <th>25%</th>\n",
       "      <td>2015.000000</td>\n",
       "      <td>5281.285000</td>\n",
       "      <td>0.000000</td>\n",
       "      <td>0.000000</td>\n",
       "      <td>0.000000</td>\n",
       "      <td>2106.925000</td>\n",
       "      <td>398.465000</td>\n",
       "    </tr>\n",
       "    <tr>\n",
       "      <th>50%</th>\n",
       "      <td>2017.000000</td>\n",
       "      <td>52181.955000</td>\n",
       "      <td>0.000000</td>\n",
       "      <td>164.770000</td>\n",
       "      <td>10427.540000</td>\n",
       "      <td>11416.360000</td>\n",
       "      <td>3107.040000</td>\n",
       "    </tr>\n",
       "    <tr>\n",
       "      <th>75%</th>\n",
       "      <td>2018.000000</td>\n",
       "      <td>85455.002500</td>\n",
       "      <td>1907.260000</td>\n",
       "      <td>2727.590000</td>\n",
       "      <td>17227.312500</td>\n",
       "      <td>13371.030000</td>\n",
       "      <td>6433.782500</td>\n",
       "    </tr>\n",
       "    <tr>\n",
       "      <th>max</th>\n",
       "      <td>2019.000000</td>\n",
       "      <td>645739.460000</td>\n",
       "      <td>258124.170000</td>\n",
       "      <td>239294.570000</td>\n",
       "      <td>120791.400000</td>\n",
       "      <td>36369.960000</td>\n",
       "      <td>37563.460000</td>\n",
       "    </tr>\n",
       "  </tbody>\n",
       "</table>\n",
       "</div>"
      ],
      "text/plain": [
       "               year       salaries       overtime  other salaries  \\\n",
       "count  50000.000000   50000.000000   50000.000000    50000.000000   \n",
       "mean    2016.531760   53715.441133    4201.272687     2816.296542   \n",
       "std        1.877153   47686.502923   11601.573498     6637.820066   \n",
       "min     2013.000000   -2984.520000  -18458.150000     -604.850000   \n",
       "25%     2015.000000    5281.285000       0.000000        0.000000   \n",
       "50%     2017.000000   52181.955000       0.000000      164.770000   \n",
       "75%     2018.000000   85455.002500    1907.260000     2727.590000   \n",
       "max     2019.000000  645739.460000  258124.170000   239294.570000   \n",
       "\n",
       "          retirement  health and dental  other benefits  \n",
       "count   50000.000000       50000.000000    50000.000000  \n",
       "mean    10484.755614        9382.390735     4053.381941  \n",
       "std      9922.598455        7379.199008     4171.974274  \n",
       "min    -13692.120000        -287.370000    -8584.140000  \n",
       "25%         0.000000        2106.925000      398.465000  \n",
       "50%     10427.540000       11416.360000     3107.040000  \n",
       "75%     17227.312500       13371.030000     6433.782500  \n",
       "max    120791.400000       36369.960000    37563.460000  "
      ]
     },
     "execution_count": 26,
     "metadata": {},
     "output_type": "execute_result"
    }
   ],
   "source": [
    "sf_emp.describe()"
   ]
  },
  {
   "cell_type": "markdown",
   "metadata": {},
   "source": [
    "## Nuisance Columns\n",
    "\n",
    "Above, we called common statistical methods a DataFrame composed of only numeric columns. It's possible to call these same methods from DataFrames composed of any combination of data types.\n",
    "\n",
    "### Dropping columns that don't work with the method\n",
    "\n",
    "pandas allows you to call these statistical methods on DataFrames containing columns with data types that don't work for that particular method. The entire `sf_emp` DataFrame contains string and numeric columns. Taking the mean of a string column does not work. Instead of raising an error, pandas **silently** drops these column. These DataFrame columns that don't compute with certain methods are sometimes referred to as **nuisance columns**.\n",
    "\n",
    "Let's show this by calling the `mean` method on the San Francisco employee compensation dataset with all of the original columns. We will work with only 100 rows of the data, which will be explained shortly."
   ]
  },
  {
   "cell_type": "code",
   "execution_count": 27,
   "metadata": {},
   "outputs": [
    {
     "data": {
      "text/html": [
       "<div>\n",
       "<style scoped>\n",
       "    .dataframe tbody tr th:only-of-type {\n",
       "        vertical-align: middle;\n",
       "    }\n",
       "\n",
       "    .dataframe tbody tr th {\n",
       "        vertical-align: top;\n",
       "    }\n",
       "\n",
       "    .dataframe thead th {\n",
       "        text-align: right;\n",
       "    }\n",
       "</style>\n",
       "<table border=\"1\" class=\"dataframe\">\n",
       "  <thead>\n",
       "    <tr style=\"text-align: right;\">\n",
       "      <th></th>\n",
       "      <th>year</th>\n",
       "      <th>organization group</th>\n",
       "      <th>job</th>\n",
       "      <th>salaries</th>\n",
       "      <th>overtime</th>\n",
       "      <th>other salaries</th>\n",
       "      <th>retirement</th>\n",
       "      <th>health and dental</th>\n",
       "      <th>other benefits</th>\n",
       "    </tr>\n",
       "  </thead>\n",
       "  <tbody>\n",
       "    <tr>\n",
       "      <th>0</th>\n",
       "      <td>2013</td>\n",
       "      <td>Public Protection</td>\n",
       "      <td>Personnel Technician</td>\n",
       "      <td>71414.01</td>\n",
       "      <td>0.00</td>\n",
       "      <td>0.0</td>\n",
       "      <td>14038.58</td>\n",
       "      <td>12918.24</td>\n",
       "      <td>5872.04</td>\n",
       "    </tr>\n",
       "    <tr>\n",
       "      <th>1</th>\n",
       "      <td>2013</td>\n",
       "      <td>General Administration &amp; Finance</td>\n",
       "      <td>Planner 2</td>\n",
       "      <td>67941.06</td>\n",
       "      <td>0.00</td>\n",
       "      <td>0.0</td>\n",
       "      <td>13030.23</td>\n",
       "      <td>10047.52</td>\n",
       "      <td>5608.37</td>\n",
       "    </tr>\n",
       "    <tr>\n",
       "      <th>2</th>\n",
       "      <td>2013</td>\n",
       "      <td>Public Protection</td>\n",
       "      <td>Firefighter</td>\n",
       "      <td>116956.72</td>\n",
       "      <td>59975.43</td>\n",
       "      <td>19037.3</td>\n",
       "      <td>24796.44</td>\n",
       "      <td>15788.97</td>\n",
       "      <td>3222.20</td>\n",
       "    </tr>\n",
       "  </tbody>\n",
       "</table>\n",
       "</div>"
      ],
      "text/plain": [
       "   year                organization group                   job   salaries  \\\n",
       "0  2013                 Public Protection  Personnel Technician   71414.01   \n",
       "1  2013  General Administration & Finance             Planner 2   67941.06   \n",
       "2  2013                 Public Protection           Firefighter  116956.72   \n",
       "\n",
       "   overtime  other salaries  retirement  health and dental  other benefits  \n",
       "0      0.00             0.0    14038.58           12918.24         5872.04  \n",
       "1      0.00             0.0    13030.23           10047.52         5608.37  \n",
       "2  59975.43         19037.3    24796.44           15788.97         3222.20  "
      ]
     },
     "execution_count": 27,
     "metadata": {},
     "output_type": "execute_result"
    }
   ],
   "source": [
    "sf_emp_100 = sf_emp.head(100)\n",
    "sf_emp_100.head(3)"
   ]
  },
  {
   "cell_type": "markdown",
   "metadata": {},
   "source": [
    "Calling the mean method drops the two columns containing strings from the result. No error is raised."
   ]
  },
  {
   "cell_type": "code",
   "execution_count": 28,
   "metadata": {},
   "outputs": [
    {
     "name": "stderr",
     "output_type": "stream",
     "text": [
      "/var/folders/3d/fz6p7yw52wn8sdzrwmmnv5240000gn/T/ipykernel_31457/3144163137.py:1: FutureWarning: The default value of numeric_only in DataFrame.mean is deprecated. In a future version, it will default to False. In addition, specifying 'numeric_only=None' is deprecated. Select only valid columns or specify the value of numeric_only to silence this warning.\n",
      "  sf_emp_100.mean()\n"
     ]
    },
    {
     "data": {
      "text/plain": [
       "year                  2013.0000\n",
       "salaries             66812.8721\n",
       "overtime              4680.5567\n",
       "other salaries        3718.1512\n",
       "retirement           12658.8683\n",
       "health and dental     9044.6313\n",
       "other benefits        4585.1201\n",
       "dtype: float64"
      ]
     },
     "execution_count": 28,
     "metadata": {},
     "output_type": "execute_result"
    }
   ],
   "source": [
    "sf_emp_100.mean()"
   ]
  },
  {
   "cell_type": "code",
   "execution_count": 32,
   "metadata": {},
   "outputs": [
    {
     "data": {
      "text/plain": [
       "year                    int64\n",
       "organization group     object\n",
       "job                    object\n",
       "salaries              float64\n",
       "overtime              float64\n",
       "other salaries        float64\n",
       "retirement            float64\n",
       "health and dental     float64\n",
       "other benefits        float64\n",
       "dtype: object"
      ]
     },
     "execution_count": 32,
     "metadata": {},
     "output_type": "execute_result"
    }
   ],
   "source": [
    "sf_emp_100.dtypes"
   ]
  },
  {
   "cell_type": "markdown",
   "metadata": {},
   "source": [
    "### Many methods do work with non-numeric data types\n",
    "\n",
    "Many of the aggregation methods do work with string and datetime columns. Let's find the max of all the `sf_emp` columns."
   ]
  },
  {
   "cell_type": "code",
   "execution_count": 38,
   "metadata": {},
   "outputs": [
    {
     "data": {
      "text/plain": [
       "year                                                     2013\n",
       "organization group    Public Works, Transportation & Commerce\n",
       "job                                     X-Ray Laboratory Aide\n",
       "salaries                                            285446.37\n",
       "overtime                                             59975.43\n",
       "other salaries                                       24897.03\n",
       "retirement                                            54710.5\n",
       "health and dental                                    15788.97\n",
       "other benefits                                       17780.94\n",
       "dtype: object"
      ]
     },
     "execution_count": 38,
     "metadata": {},
     "output_type": "execute_result"
    }
   ],
   "source": [
    "sf_emp_100.max()"
   ]
  },
  {
   "cell_type": "markdown",
   "metadata": {},
   "source": [
    "The `sum` method is valid for string (but not datetime) columns and concatenates all the values together to produce one long string. This usually isn't something you'd like to do. It's also a computationally expensive operation. The following call to `sum` took about 4 seconds on the full dataset (50k rows) on my machine."
   ]
  },
  {
   "cell_type": "code",
   "execution_count": 39,
   "metadata": {},
   "outputs": [
    {
     "data": {
      "text/plain": [
       "year                                                             201300\n",
       "organization group    Public ProtectionGeneral Administration & Fina...\n",
       "job                   Personnel TechnicianPlanner 2FirefighterIT Ope...\n",
       "salaries                                                     6681287.21\n",
       "overtime                                                      468055.67\n",
       "other salaries                                                371815.12\n",
       "retirement                                                   1265886.83\n",
       "health and dental                                             904463.13\n",
       "other benefits                                                458512.01\n",
       "dtype: object"
      ]
     },
     "execution_count": 39,
     "metadata": {},
     "output_type": "execute_result"
    }
   ],
   "source": [
    "sf_emp_100.sum()"
   ]
  },
  {
   "cell_type": "markdown",
   "metadata": {},
   "source": [
    "### Use `numeric_only=True`\n",
    "\n",
    "The `sum` method, as well as all the other aggregation methods, provides the boolean parameter `numeric_only` that is defaulted to `False`. By setting it to `True`, pandas will only apply the method to boolean, integer, and float columns. The following operation only took 7 ms on the full dataset on my machine or more than 1,000 times faster than the previous one."
   ]
  },
  {
   "cell_type": "code",
   "execution_count": 40,
   "metadata": {},
   "outputs": [
    {
     "data": {
      "text/plain": [
       "year                 1.008266e+08\n",
       "salaries             2.685772e+09\n",
       "overtime             2.100636e+08\n",
       "other salaries       1.408148e+08\n",
       "retirement           5.242378e+08\n",
       "health and dental    4.691195e+08\n",
       "other benefits       2.026691e+08\n",
       "dtype: float64"
      ]
     },
     "execution_count": 40,
     "metadata": {},
     "output_type": "execute_result"
    }
   ],
   "source": [
    "sf_emp.sum(numeric_only=True)"
   ]
  },
  {
   "cell_type": "markdown",
   "metadata": {},
   "source": [
    "### The slow  `mean` method\n",
    "\n",
    "The `mean` method is also extremely slow, even though it only works on numeric columns. This is because pandas takes the `sum` of all the columns first and then divides by the length. The reason pandas doesn't just skip over string columns is that they are technically object columns and an object column can hold any data type. The only way for pandas to decide whether or not the `mean` will work on an object column is to actually sum up every value first and then attempt to divide by the length. If that fails, then it will skip it. The issue with this, is that it is extremely slow for string columns since strings can be summed. pandas only fails after the string column has been concatenated together when it attempts to divide by the length. If you want to take the `mean` on a DataFrame with string columns, make sure you set `numeric_only` to `True.`"
   ]
  },
  {
   "cell_type": "markdown",
   "metadata": {},
   "source": [
    "Even on this small dataset of 100 rows, there is a substantial performance difference."
   ]
  },
  {
   "cell_type": "code",
   "execution_count": 41,
   "metadata": {},
   "outputs": [
    {
     "name": "stdout",
     "output_type": "stream",
     "text": [
      "1.95 ms ± 0 ns per loop (mean ± std. dev. of 1 run, 1 loop each)\n"
     ]
    },
    {
     "name": "stderr",
     "output_type": "stream",
     "text": [
      "<magic-timeit>:1: FutureWarning: The default value of numeric_only in DataFrame.mean is deprecated. In a future version, it will default to False. In addition, specifying 'numeric_only=None' is deprecated. Select only valid columns or specify the value of numeric_only to silence this warning.\n"
     ]
    }
   ],
   "source": [
    "%timeit -n 1 -r 1 sf_emp_100.mean()"
   ]
  },
  {
   "cell_type": "code",
   "execution_count": 42,
   "metadata": {},
   "outputs": [
    {
     "name": "stdout",
     "output_type": "stream",
     "text": [
      "1.35 ms ± 0 ns per loop (mean ± std. dev. of 1 run, 1 loop each)\n"
     ]
    }
   ],
   "source": [
    "%timeit -n 1 -r 1 sf_emp_100.mean(numeric_only=True)"
   ]
  },
  {
   "cell_type": "markdown",
   "metadata": {},
   "source": [
    "## Exercises\n",
    "\n",
    "Execute the following cell to read in the movie dataset with the title in the index selecting all three actor Facebook like columns."
   ]
  },
  {
   "cell_type": "code",
   "execution_count": 42,
   "metadata": {},
   "outputs": [
    {
     "data": {
      "text/html": [
       "<div>\n",
       "<style scoped>\n",
       "    .dataframe tbody tr th:only-of-type {\n",
       "        vertical-align: middle;\n",
       "    }\n",
       "\n",
       "    .dataframe tbody tr th {\n",
       "        vertical-align: top;\n",
       "    }\n",
       "\n",
       "    .dataframe thead th {\n",
       "        text-align: right;\n",
       "    }\n",
       "</style>\n",
       "<table border=\"1\" class=\"dataframe\">\n",
       "  <thead>\n",
       "    <tr style=\"text-align: right;\">\n",
       "      <th></th>\n",
       "      <th>actor1_fb</th>\n",
       "      <th>actor2_fb</th>\n",
       "      <th>actor3_fb</th>\n",
       "    </tr>\n",
       "    <tr>\n",
       "      <th>title</th>\n",
       "      <th></th>\n",
       "      <th></th>\n",
       "      <th></th>\n",
       "    </tr>\n",
       "  </thead>\n",
       "  <tbody>\n",
       "    <tr>\n",
       "      <th>Avatar</th>\n",
       "      <td>1000.0</td>\n",
       "      <td>936.0</td>\n",
       "      <td>855.0</td>\n",
       "    </tr>\n",
       "    <tr>\n",
       "      <th>Pirates of the Caribbean: At World's End</th>\n",
       "      <td>40000.0</td>\n",
       "      <td>5000.0</td>\n",
       "      <td>1000.0</td>\n",
       "    </tr>\n",
       "    <tr>\n",
       "      <th>Spectre</th>\n",
       "      <td>11000.0</td>\n",
       "      <td>393.0</td>\n",
       "      <td>161.0</td>\n",
       "    </tr>\n",
       "  </tbody>\n",
       "</table>\n",
       "</div>"
      ],
      "text/plain": [
       "                                          actor1_fb  actor2_fb  actor3_fb\n",
       "title                                                                    \n",
       "Avatar                                       1000.0      936.0      855.0\n",
       "Pirates of the Caribbean: At World's End    40000.0     5000.0     1000.0\n",
       "Spectre                                     11000.0      393.0      161.0"
      ]
     },
     "execution_count": 42,
     "metadata": {},
     "output_type": "execute_result"
    }
   ],
   "source": [
    "movie = pd.read_csv('../data/movie.csv', index_col='title')\n",
    "cols = ['actor1_fb', 'actor2_fb', 'actor3_fb']\n",
    "actor_fb = movie[cols]\n",
    "actor_fb.head(3)"
   ]
  },
  {
   "cell_type": "markdown",
   "metadata": {},
   "source": [
    "### Exercise 1\n",
    "<span  style=\"color:green; font-size:16px\">Calculate the mean of each actor Facebook like column. Which actor (1, 2, or 3) has the highest mean?</span>"
   ]
  },
  {
   "cell_type": "code",
   "execution_count": 43,
   "metadata": {},
   "outputs": [
    {
     "data": {
      "text/plain": [
       "actor1_fb    6494.488491\n",
       "actor2_fb    1621.923516\n",
       "actor3_fb     631.276313\n",
       "dtype: float64"
      ]
     },
     "execution_count": 43,
     "metadata": {},
     "output_type": "execute_result"
    }
   ],
   "source": [
    "actor_fb.mean()"
   ]
  },
  {
   "cell_type": "markdown",
   "metadata": {},
   "source": [
    "### Exercise 2\n",
    "\n",
    "<span  style=\"color:green; font-size:16px\">The result of exercise 1 is a Series of three values. Can you call a method on this Series to choose the column name with the highest mean Facebook likes.</span>"
   ]
  },
  {
   "cell_type": "code",
   "execution_count": 49,
   "metadata": {},
   "outputs": [
    {
     "data": {
      "text/plain": [
       "'actor1_fb'"
      ]
     },
     "execution_count": 49,
     "metadata": {},
     "output_type": "execute_result"
    }
   ],
   "source": [
    "actor_fb.mean().idxmax()"
   ]
  },
  {
   "cell_type": "markdown",
   "metadata": {},
   "source": [
    "### Exercise 3\n",
    "\n",
    "<span  style=\"color:green; font-size:16px\">Calculate the total Facebook likes of all three actors for each movie</span>"
   ]
  },
  {
   "cell_type": "code",
   "execution_count": 44,
   "metadata": {},
   "outputs": [
    {
     "data": {
      "text/plain": [
       "title\n",
       "Avatar                                         2791.0\n",
       "Pirates of the Caribbean: At World's End      46000.0\n",
       "Spectre                                       11554.0\n",
       "The Dark Knight Rises                         73000.0\n",
       "Star Wars: Episode VII - The Force Awakens      143.0\n",
       "                                               ...   \n",
       "Signed Sealed Delivered                        1425.0\n",
       "The Following                                  1753.0\n",
       "A Plague So Pleasant                              0.0\n",
       "Shanghai Calling                               2154.0\n",
       "My Date with Drew                               125.0\n",
       "Length: 4916, dtype: float64"
      ]
     },
     "execution_count": 44,
     "metadata": {},
     "output_type": "execute_result"
    }
   ],
   "source": [
    "actor_fb.sum(axis =1)"
   ]
  },
  {
   "cell_type": "markdown",
   "metadata": {},
   "source": [
    "### Exercise 4\n",
    "<span  style=\"color:green; font-size:16px\">What percentage of movies have more than 10,000 total actor FB likes?</span>"
   ]
  },
  {
   "cell_type": "code",
   "execution_count": 45,
   "metadata": {},
   "outputs": [],
   "source": [
    "sum_likes = actor_fb.sum(axis = 'columns')"
   ]
  },
  {
   "cell_type": "code",
   "execution_count": 46,
   "metadata": {},
   "outputs": [
    {
     "data": {
      "text/plain": [
       "title\n",
       "Avatar                                        False\n",
       "Pirates of the Caribbean: At World's End       True\n",
       "Spectre                                        True\n",
       "The Dark Knight Rises                          True\n",
       "Star Wars: Episode VII - The Force Awakens    False\n",
       "                                              ...  \n",
       "Signed Sealed Delivered                       False\n",
       "The Following                                 False\n",
       "A Plague So Pleasant                          False\n",
       "Shanghai Calling                              False\n",
       "My Date with Drew                             False\n",
       "Length: 4916, dtype: bool"
      ]
     },
     "execution_count": 46,
     "metadata": {},
     "output_type": "execute_result"
    }
   ],
   "source": [
    "sum_likes > 10000"
   ]
  },
  {
   "cell_type": "code",
   "execution_count": 47,
   "metadata": {},
   "outputs": [
    {
     "data": {
      "text/plain": [
       "0.2982099267697315"
      ]
     },
     "execution_count": 47,
     "metadata": {},
     "output_type": "execute_result"
    }
   ],
   "source": [
    "(sum_likes > 10000).mean()"
   ]
  },
  {
   "cell_type": "code",
   "execution_count": 49,
   "metadata": {},
   "outputs": [
    {
     "data": {
      "text/plain": [
       "0.2982099267697315"
      ]
     },
     "execution_count": 49,
     "metadata": {},
     "output_type": "execute_result"
    }
   ],
   "source": [
    "more_than_10 = sum_likes[sum_likes > 10000]\n",
    "len(more_than_10)/ len(sum_likes)"
   ]
  },
  {
   "cell_type": "markdown",
   "metadata": {},
   "source": [
    "### Exercise 5\n",
    "\n",
    "<span  style=\"color:green; font-size:16px\">Find the median gross revenue in millions of dollars for the movies that have more than 10,000 total actor FB likes. Do the same for movies with 10,000 or less total actor FB likes.</span>"
   ]
  },
  {
   "cell_type": "code",
   "execution_count": 61,
   "metadata": {},
   "outputs": [
    {
     "data": {
      "text/html": [
       "<div>\n",
       "<style scoped>\n",
       "    .dataframe tbody tr th:only-of-type {\n",
       "        vertical-align: middle;\n",
       "    }\n",
       "\n",
       "    .dataframe tbody tr th {\n",
       "        vertical-align: top;\n",
       "    }\n",
       "\n",
       "    .dataframe thead th {\n",
       "        text-align: right;\n",
       "    }\n",
       "</style>\n",
       "<table border=\"1\" class=\"dataframe\">\n",
       "  <thead>\n",
       "    <tr style=\"text-align: right;\">\n",
       "      <th></th>\n",
       "      <th>year</th>\n",
       "      <th>color</th>\n",
       "      <th>content_rating</th>\n",
       "      <th>duration</th>\n",
       "      <th>director_name</th>\n",
       "      <th>director_fb</th>\n",
       "      <th>actor1</th>\n",
       "      <th>actor1_fb</th>\n",
       "      <th>actor2</th>\n",
       "      <th>actor2_fb</th>\n",
       "      <th>...</th>\n",
       "      <th>actor3_fb</th>\n",
       "      <th>gross</th>\n",
       "      <th>genres</th>\n",
       "      <th>num_reviews</th>\n",
       "      <th>num_voted_users</th>\n",
       "      <th>plot_keywords</th>\n",
       "      <th>language</th>\n",
       "      <th>country</th>\n",
       "      <th>budget</th>\n",
       "      <th>imdb_score</th>\n",
       "    </tr>\n",
       "    <tr>\n",
       "      <th>title</th>\n",
       "      <th></th>\n",
       "      <th></th>\n",
       "      <th></th>\n",
       "      <th></th>\n",
       "      <th></th>\n",
       "      <th></th>\n",
       "      <th></th>\n",
       "      <th></th>\n",
       "      <th></th>\n",
       "      <th></th>\n",
       "      <th></th>\n",
       "      <th></th>\n",
       "      <th></th>\n",
       "      <th></th>\n",
       "      <th></th>\n",
       "      <th></th>\n",
       "      <th></th>\n",
       "      <th></th>\n",
       "      <th></th>\n",
       "      <th></th>\n",
       "      <th></th>\n",
       "    </tr>\n",
       "  </thead>\n",
       "  <tbody>\n",
       "    <tr>\n",
       "      <th>Avatar</th>\n",
       "      <td>2009.0</td>\n",
       "      <td>Color</td>\n",
       "      <td>PG-13</td>\n",
       "      <td>178.0</td>\n",
       "      <td>James Cameron</td>\n",
       "      <td>0.0</td>\n",
       "      <td>CCH Pounder</td>\n",
       "      <td>1000.0</td>\n",
       "      <td>Joel David Moore</td>\n",
       "      <td>936.0</td>\n",
       "      <td>...</td>\n",
       "      <td>855.0</td>\n",
       "      <td>760505847.0</td>\n",
       "      <td>Action|Adventure|Fantasy|Sci-Fi</td>\n",
       "      <td>723.0</td>\n",
       "      <td>886204</td>\n",
       "      <td>avatar|future|marine|native|paraplegic</td>\n",
       "      <td>English</td>\n",
       "      <td>USA</td>\n",
       "      <td>237000000.0</td>\n",
       "      <td>7.9</td>\n",
       "    </tr>\n",
       "  </tbody>\n",
       "</table>\n",
       "<p>1 rows × 21 columns</p>\n",
       "</div>"
      ],
      "text/plain": [
       "          year  color content_rating  duration  director_name  director_fb  \\\n",
       "title                                                                        \n",
       "Avatar  2009.0  Color          PG-13     178.0  James Cameron          0.0   \n",
       "\n",
       "             actor1  actor1_fb            actor2  actor2_fb  ... actor3_fb  \\\n",
       "title                                                        ...             \n",
       "Avatar  CCH Pounder     1000.0  Joel David Moore      936.0  ...     855.0   \n",
       "\n",
       "              gross                           genres num_reviews  \\\n",
       "title                                                              \n",
       "Avatar  760505847.0  Action|Adventure|Fantasy|Sci-Fi       723.0   \n",
       "\n",
       "        num_voted_users                           plot_keywords language  \\\n",
       "title                                                                      \n",
       "Avatar           886204  avatar|future|marine|native|paraplegic  English   \n",
       "\n",
       "       country       budget  imdb_score  \n",
       "title                                    \n",
       "Avatar     USA  237000000.0         7.9  \n",
       "\n",
       "[1 rows x 21 columns]"
      ]
     },
     "execution_count": 61,
     "metadata": {},
     "output_type": "execute_result"
    }
   ],
   "source": [
    "movie.head(1)"
   ]
  },
  {
   "cell_type": "code",
   "execution_count": 63,
   "metadata": {},
   "outputs": [],
   "source": [
    "movie['sum_likes'] = movie[['actor1_fb', 'actor2_fb', 'actor3_fb']].sum(axis = 1)"
   ]
  },
  {
   "cell_type": "code",
   "execution_count": 65,
   "metadata": {},
   "outputs": [],
   "source": [
    "filt = movie['sum_likes'] > 10000"
   ]
  },
  {
   "cell_type": "code",
   "execution_count": 72,
   "metadata": {},
   "outputs": [
    {
     "data": {
      "text/plain": [
       "42391915.5"
      ]
     },
     "execution_count": 72,
     "metadata": {},
     "output_type": "execute_result"
    }
   ],
   "source": [
    "more_than = movie[filt]['gross'].median()\n",
    "more_than"
   ]
  },
  {
   "cell_type": "code",
   "execution_count": 73,
   "metadata": {},
   "outputs": [
    {
     "data": {
      "text/plain": [
       "16815752.5"
      ]
     },
     "execution_count": 73,
     "metadata": {},
     "output_type": "execute_result"
    }
   ],
   "source": [
    "less_than = movie[-filt]['gross'].median()\n",
    "less_than"
   ]
  },
  {
   "cell_type": "code",
   "execution_count": 74,
   "metadata": {},
   "outputs": [
    {
     "data": {
      "text/plain": [
       "2.5209645241864735"
      ]
     },
     "execution_count": 74,
     "metadata": {},
     "output_type": "execute_result"
    }
   ],
   "source": [
    "more_than/less_than"
   ]
  },
  {
   "cell_type": "markdown",
   "metadata": {},
   "source": [
    "### Exercise 6\n",
    "\n",
    "<span  style=\"color:green; font-size:16px\">From exercise 5, it appears that movies with more than 10,000 total actor FB likes gross 2.5 times as much. This may be due to the fact that newer movies have more actors that are recognized by FB users. Find the median year produced for both groups.</span>"
   ]
  },
  {
   "cell_type": "code",
   "execution_count": 75,
   "metadata": {},
   "outputs": [
    {
     "data": {
      "text/plain": [
       "2006.0"
      ]
     },
     "execution_count": 75,
     "metadata": {},
     "output_type": "execute_result"
    }
   ],
   "source": [
    "movie[filt]['year'].median()"
   ]
  },
  {
   "cell_type": "code",
   "execution_count": 76,
   "metadata": {},
   "outputs": [
    {
     "data": {
      "text/plain": [
       "2005.0"
      ]
     },
     "execution_count": 76,
     "metadata": {},
     "output_type": "execute_result"
    }
   ],
   "source": [
    "movie[-filt]['year'].median()"
   ]
  },
  {
   "cell_type": "markdown",
   "metadata": {},
   "source": [
    "### Exercise 7\n",
    "\n",
    "<span  style=\"color:green; font-size:16px\">For each movie made in the year 2016, what is the median of the total actor FB likes?</span>"
   ]
  },
  {
   "cell_type": "code",
   "execution_count": 77,
   "metadata": {},
   "outputs": [
    {
     "data": {
      "text/plain": [
       "3571.5"
      ]
     },
     "execution_count": 77,
     "metadata": {},
     "output_type": "execute_result"
    }
   ],
   "source": [
    "filt = movie['year'] == 2016\n",
    "movie[filt]['sum_likes'].median()"
   ]
  },
  {
   "cell_type": "markdown",
   "metadata": {},
   "source": [
    "### Exercise 8\n",
    "\n",
    "<span  style=\"color:green; font-size:16px\">Write a function that has a single parameter, `year`. Have it return the median of the total actor FB likes for the given year. Test your function with the year 2016 and verify the result with Exercise 6.</span>"
   ]
  },
  {
   "cell_type": "code",
   "execution_count": 78,
   "metadata": {},
   "outputs": [],
   "source": [
    "def med_likes (year) :\n",
    "    filt = movie['year'] == year\n",
    "    return movie[filt]['sum_likes'].median()"
   ]
  },
  {
   "cell_type": "code",
   "execution_count": 79,
   "metadata": {},
   "outputs": [
    {
     "data": {
      "text/plain": [
       "3571.5"
      ]
     },
     "execution_count": 79,
     "metadata": {},
     "output_type": "execute_result"
    }
   ],
   "source": [
    "med_likes(2016)"
   ]
  },
  {
   "cell_type": "markdown",
   "metadata": {},
   "source": [
    "### Exercise 9\n",
    "\n",
    "<span  style=\"color:green; font-size:16px\">Write a loop to print out the year and median total actor FB likes for that year from 1990 to 2016</span>"
   ]
  },
  {
   "cell_type": "code",
   "execution_count": 80,
   "metadata": {
    "collapsed": true
   },
   "outputs": [
    {
     "name": "stdout",
     "output_type": "stream",
     "text": [
      "1990 2017.0\n",
      "1991 2436.0\n",
      "1992 2147.5\n",
      "1993 2018.0\n",
      "1994 2368.5\n",
      "1995 2612.0\n",
      "1996 2692.5\n",
      "1997 1964.0\n",
      "1998 2482.0\n",
      "1999 2595.0\n",
      "2000 2378.0\n",
      "2001 2424.0\n",
      "2002 2146.0\n",
      "2003 2019.0\n",
      "2004 2298.0\n",
      "2005 2072.0\n",
      "2006 2359.0\n",
      "2007 2002.5\n",
      "2008 2400.0\n",
      "2009 2145.0\n",
      "2010 2411.0\n",
      "2011 2818.5\n",
      "2012 2426.0\n",
      "2013 2420.0\n",
      "2014 2084.0\n",
      "2015 2063.0\n",
      "2016 3571.5\n"
     ]
    }
   ],
   "source": [
    "for i in range(1990,2017):\n",
    "    print(i, med_likes(i))"
   ]
  },
  {
   "cell_type": "markdown",
   "metadata": {},
   "source": [
    "Use the college dataset with the institution name as the index for the remaining exercises."
   ]
  },
  {
   "cell_type": "code",
   "execution_count": 81,
   "metadata": {},
   "outputs": [
    {
     "data": {
      "text/html": [
       "<div>\n",
       "<style scoped>\n",
       "    .dataframe tbody tr th:only-of-type {\n",
       "        vertical-align: middle;\n",
       "    }\n",
       "\n",
       "    .dataframe tbody tr th {\n",
       "        vertical-align: top;\n",
       "    }\n",
       "\n",
       "    .dataframe thead th {\n",
       "        text-align: right;\n",
       "    }\n",
       "</style>\n",
       "<table border=\"1\" class=\"dataframe\">\n",
       "  <thead>\n",
       "    <tr style=\"text-align: right;\">\n",
       "      <th></th>\n",
       "      <th>city</th>\n",
       "      <th>stabbr</th>\n",
       "      <th>hbcu</th>\n",
       "      <th>menonly</th>\n",
       "      <th>womenonly</th>\n",
       "      <th>relaffil</th>\n",
       "      <th>satvrmid</th>\n",
       "      <th>satmtmid</th>\n",
       "      <th>distanceonly</th>\n",
       "      <th>ugds</th>\n",
       "      <th>...</th>\n",
       "      <th>ugds_2mor</th>\n",
       "      <th>ugds_nra</th>\n",
       "      <th>ugds_unkn</th>\n",
       "      <th>pptug_ef</th>\n",
       "      <th>curroper</th>\n",
       "      <th>pctpell</th>\n",
       "      <th>pctfloan</th>\n",
       "      <th>ug25abv</th>\n",
       "      <th>md_earn_wne_p10</th>\n",
       "      <th>grad_debt_mdn_supp</th>\n",
       "    </tr>\n",
       "    <tr>\n",
       "      <th>instnm</th>\n",
       "      <th></th>\n",
       "      <th></th>\n",
       "      <th></th>\n",
       "      <th></th>\n",
       "      <th></th>\n",
       "      <th></th>\n",
       "      <th></th>\n",
       "      <th></th>\n",
       "      <th></th>\n",
       "      <th></th>\n",
       "      <th></th>\n",
       "      <th></th>\n",
       "      <th></th>\n",
       "      <th></th>\n",
       "      <th></th>\n",
       "      <th></th>\n",
       "      <th></th>\n",
       "      <th></th>\n",
       "      <th></th>\n",
       "      <th></th>\n",
       "      <th></th>\n",
       "    </tr>\n",
       "  </thead>\n",
       "  <tbody>\n",
       "    <tr>\n",
       "      <th>Alabama A &amp; M University</th>\n",
       "      <td>Normal</td>\n",
       "      <td>AL</td>\n",
       "      <td>1.0</td>\n",
       "      <td>0.0</td>\n",
       "      <td>0.0</td>\n",
       "      <td>0</td>\n",
       "      <td>424.0</td>\n",
       "      <td>420.0</td>\n",
       "      <td>0.0</td>\n",
       "      <td>4206.0</td>\n",
       "      <td>...</td>\n",
       "      <td>0.0000</td>\n",
       "      <td>0.0059</td>\n",
       "      <td>0.0138</td>\n",
       "      <td>0.0656</td>\n",
       "      <td>1</td>\n",
       "      <td>0.7356</td>\n",
       "      <td>0.8284</td>\n",
       "      <td>0.1049</td>\n",
       "      <td>30300</td>\n",
       "      <td>33888</td>\n",
       "    </tr>\n",
       "    <tr>\n",
       "      <th>University of Alabama at Birmingham</th>\n",
       "      <td>Birmingham</td>\n",
       "      <td>AL</td>\n",
       "      <td>0.0</td>\n",
       "      <td>0.0</td>\n",
       "      <td>0.0</td>\n",
       "      <td>0</td>\n",
       "      <td>570.0</td>\n",
       "      <td>565.0</td>\n",
       "      <td>0.0</td>\n",
       "      <td>11383.0</td>\n",
       "      <td>...</td>\n",
       "      <td>0.0368</td>\n",
       "      <td>0.0179</td>\n",
       "      <td>0.0100</td>\n",
       "      <td>0.2607</td>\n",
       "      <td>1</td>\n",
       "      <td>0.3460</td>\n",
       "      <td>0.5214</td>\n",
       "      <td>0.2422</td>\n",
       "      <td>39700</td>\n",
       "      <td>21941.5</td>\n",
       "    </tr>\n",
       "    <tr>\n",
       "      <th>Amridge University</th>\n",
       "      <td>Montgomery</td>\n",
       "      <td>AL</td>\n",
       "      <td>0.0</td>\n",
       "      <td>0.0</td>\n",
       "      <td>0.0</td>\n",
       "      <td>1</td>\n",
       "      <td>NaN</td>\n",
       "      <td>NaN</td>\n",
       "      <td>1.0</td>\n",
       "      <td>291.0</td>\n",
       "      <td>...</td>\n",
       "      <td>0.0000</td>\n",
       "      <td>0.0000</td>\n",
       "      <td>0.2715</td>\n",
       "      <td>0.4536</td>\n",
       "      <td>1</td>\n",
       "      <td>0.6801</td>\n",
       "      <td>0.7795</td>\n",
       "      <td>0.8540</td>\n",
       "      <td>40100</td>\n",
       "      <td>23370</td>\n",
       "    </tr>\n",
       "  </tbody>\n",
       "</table>\n",
       "<p>3 rows × 26 columns</p>\n",
       "</div>"
      ],
      "text/plain": [
       "                                           city stabbr  hbcu  menonly  \\\n",
       "instnm                                                                  \n",
       "Alabama A & M University                 Normal     AL   1.0      0.0   \n",
       "University of Alabama at Birmingham  Birmingham     AL   0.0      0.0   \n",
       "Amridge University                   Montgomery     AL   0.0      0.0   \n",
       "\n",
       "                                     womenonly  relaffil  satvrmid  satmtmid  \\\n",
       "instnm                                                                         \n",
       "Alabama A & M University                   0.0         0     424.0     420.0   \n",
       "University of Alabama at Birmingham        0.0         0     570.0     565.0   \n",
       "Amridge University                         0.0         1       NaN       NaN   \n",
       "\n",
       "                                     distanceonly     ugds  ...  ugds_2mor  \\\n",
       "instnm                                                      ...              \n",
       "Alabama A & M University                      0.0   4206.0  ...     0.0000   \n",
       "University of Alabama at Birmingham           0.0  11383.0  ...     0.0368   \n",
       "Amridge University                            1.0    291.0  ...     0.0000   \n",
       "\n",
       "                                     ugds_nra  ugds_unkn  pptug_ef  curroper  \\\n",
       "instnm                                                                         \n",
       "Alabama A & M University               0.0059     0.0138    0.0656         1   \n",
       "University of Alabama at Birmingham    0.0179     0.0100    0.2607         1   \n",
       "Amridge University                     0.0000     0.2715    0.4536         1   \n",
       "\n",
       "                                     pctpell  pctfloan  ug25abv  \\\n",
       "instnm                                                            \n",
       "Alabama A & M University              0.7356    0.8284   0.1049   \n",
       "University of Alabama at Birmingham   0.3460    0.5214   0.2422   \n",
       "Amridge University                    0.6801    0.7795   0.8540   \n",
       "\n",
       "                                     md_earn_wne_p10  grad_debt_mdn_supp  \n",
       "instnm                                                                    \n",
       "Alabama A & M University                       30300               33888  \n",
       "University of Alabama at Birmingham            39700             21941.5  \n",
       "Amridge University                             40100               23370  \n",
       "\n",
       "[3 rows x 26 columns]"
      ]
     },
     "execution_count": 81,
     "metadata": {},
     "output_type": "execute_result"
    }
   ],
   "source": [
    "college = pd.read_csv('../data/college.csv', index_col='instnm')\n",
    "college.head(3)"
   ]
  },
  {
   "cell_type": "code",
   "execution_count": 4,
   "metadata": {},
   "outputs": [
    {
     "data": {
      "text/plain": [
       "Index(['city', 'stabbr', 'hbcu', 'menonly', 'womenonly', 'relaffil',\n",
       "       'satvrmid', 'satmtmid', 'distanceonly', 'ugds', 'ugds_white',\n",
       "       'ugds_black', 'ugds_hisp', 'ugds_asian', 'ugds_aian', 'ugds_nhpi',\n",
       "       'ugds_2mor', 'ugds_nra', 'ugds_unkn', 'pptug_ef', 'curroper', 'pctpell',\n",
       "       'pctfloan', 'ug25abv', 'md_earn_wne_p10', 'grad_debt_mdn_supp'],\n",
       "      dtype='object')"
      ]
     },
     "execution_count": 4,
     "metadata": {},
     "output_type": "execute_result"
    }
   ],
   "source": [
    "college.columns"
   ]
  },
  {
   "cell_type": "markdown",
   "metadata": {},
   "source": [
    "### Exercise 10\n",
    "\n",
    "<span  style=\"color:green; font-size:16px\">Find the number of non-missing values in each column and again for each row.</span>"
   ]
  },
  {
   "cell_type": "code",
   "execution_count": 82,
   "metadata": {},
   "outputs": [
    {
     "name": "stdout",
     "output_type": "stream",
     "text": [
      "<class 'pandas.core.frame.DataFrame'>\n",
      "Index: 7535 entries, Alabama A & M University to Excel Learning Center-San Antonio South\n",
      "Data columns (total 26 columns):\n",
      " #   Column              Non-Null Count  Dtype  \n",
      "---  ------              --------------  -----  \n",
      " 0   city                7535 non-null   object \n",
      " 1   stabbr              7535 non-null   object \n",
      " 2   hbcu                7164 non-null   float64\n",
      " 3   menonly             7164 non-null   float64\n",
      " 4   womenonly           7164 non-null   float64\n",
      " 5   relaffil            7535 non-null   int64  \n",
      " 6   satvrmid            1185 non-null   float64\n",
      " 7   satmtmid            1196 non-null   float64\n",
      " 8   distanceonly        7164 non-null   float64\n",
      " 9   ugds                6874 non-null   float64\n",
      " 10  ugds_white          6874 non-null   float64\n",
      " 11  ugds_black          6874 non-null   float64\n",
      " 12  ugds_hisp           6874 non-null   float64\n",
      " 13  ugds_asian          6874 non-null   float64\n",
      " 14  ugds_aian           6874 non-null   float64\n",
      " 15  ugds_nhpi           6874 non-null   float64\n",
      " 16  ugds_2mor           6874 non-null   float64\n",
      " 17  ugds_nra            6874 non-null   float64\n",
      " 18  ugds_unkn           6874 non-null   float64\n",
      " 19  pptug_ef            6853 non-null   float64\n",
      " 20  curroper            7535 non-null   int64  \n",
      " 21  pctpell             6849 non-null   float64\n",
      " 22  pctfloan            6849 non-null   float64\n",
      " 23  ug25abv             6718 non-null   float64\n",
      " 24  md_earn_wne_p10     6413 non-null   object \n",
      " 25  grad_debt_mdn_supp  7503 non-null   object \n",
      "dtypes: float64(20), int64(2), object(4)\n",
      "memory usage: 1.6+ MB\n"
     ]
    }
   ],
   "source": [
    "college.info()"
   ]
  },
  {
   "cell_type": "code",
   "execution_count": 103,
   "metadata": {
    "collapsed": true
   },
   "outputs": [
    {
     "data": {
      "text/plain": [
       "city                  7535\n",
       "stabbr                7535\n",
       "hbcu                  7164\n",
       "menonly               7164\n",
       "womenonly             7164\n",
       "relaffil              7535\n",
       "satvrmid              1185\n",
       "satmtmid              1196\n",
       "distanceonly          7164\n",
       "ugds                  6874\n",
       "ugds_white            6874\n",
       "ugds_black            6874\n",
       "ugds_hisp             6874\n",
       "ugds_asian            6874\n",
       "ugds_aian             6874\n",
       "ugds_nhpi             6874\n",
       "ugds_2mor             6874\n",
       "ugds_nra              6874\n",
       "ugds_unkn             6874\n",
       "pptug_ef              6853\n",
       "curroper              7535\n",
       "pctpell               6849\n",
       "pctfloan              6849\n",
       "ug25abv               6718\n",
       "md_earn_wne_p10       6413\n",
       "grad_debt_mdn_supp    7503\n",
       "dtype: int64"
      ]
     },
     "execution_count": 103,
     "metadata": {},
     "output_type": "execute_result"
    }
   ],
   "source": [
    "college.count()"
   ]
  },
  {
   "cell_type": "code",
   "execution_count": 104,
   "metadata": {
    "collapsed": true
   },
   "outputs": [
    {
     "data": {
      "text/plain": [
       "instnm\n",
       "Alabama A & M University                                  26\n",
       "University of Alabama at Birmingham                       26\n",
       "Amridge University                                        24\n",
       "University of Alabama in Huntsville                       26\n",
       "Alabama State University                                  26\n",
       "                                                          ..\n",
       "SAE Institute of Technology  San Francisco                 5\n",
       "Rasmussen College - Overland Park                          5\n",
       "National Personal Training Institute of Cleveland          5\n",
       "Bay Area Medical Academy - San Jose Satellite Location     5\n",
       "Excel Learning Center-San Antonio South                    5\n",
       "Length: 7535, dtype: int64"
      ]
     },
     "execution_count": 104,
     "metadata": {},
     "output_type": "execute_result"
    }
   ],
   "source": [
    "college.count(axis = 1)"
   ]
  },
  {
   "cell_type": "code",
   "execution_count": 83,
   "metadata": {},
   "outputs": [
    {
     "data": {
      "text/html": [
       "<div>\n",
       "<style scoped>\n",
       "    .dataframe tbody tr th:only-of-type {\n",
       "        vertical-align: middle;\n",
       "    }\n",
       "\n",
       "    .dataframe tbody tr th {\n",
       "        vertical-align: top;\n",
       "    }\n",
       "\n",
       "    .dataframe thead th {\n",
       "        text-align: right;\n",
       "    }\n",
       "</style>\n",
       "<table border=\"1\" class=\"dataframe\">\n",
       "  <thead>\n",
       "    <tr style=\"text-align: right;\">\n",
       "      <th></th>\n",
       "      <th>hbcu</th>\n",
       "      <th>menonly</th>\n",
       "      <th>womenonly</th>\n",
       "      <th>relaffil</th>\n",
       "      <th>satvrmid</th>\n",
       "      <th>satmtmid</th>\n",
       "      <th>distanceonly</th>\n",
       "      <th>ugds</th>\n",
       "      <th>ugds_white</th>\n",
       "      <th>ugds_black</th>\n",
       "      <th>...</th>\n",
       "      <th>ugds_aian</th>\n",
       "      <th>ugds_nhpi</th>\n",
       "      <th>ugds_2mor</th>\n",
       "      <th>ugds_nra</th>\n",
       "      <th>ugds_unkn</th>\n",
       "      <th>pptug_ef</th>\n",
       "      <th>curroper</th>\n",
       "      <th>pctpell</th>\n",
       "      <th>pctfloan</th>\n",
       "      <th>ug25abv</th>\n",
       "    </tr>\n",
       "  </thead>\n",
       "  <tbody>\n",
       "    <tr>\n",
       "      <th>count</th>\n",
       "      <td>7164.000000</td>\n",
       "      <td>7164.000000</td>\n",
       "      <td>7164.000000</td>\n",
       "      <td>7535.000000</td>\n",
       "      <td>1185.000000</td>\n",
       "      <td>1196.000000</td>\n",
       "      <td>7164.000000</td>\n",
       "      <td>6874.000000</td>\n",
       "      <td>6874.000000</td>\n",
       "      <td>6874.000000</td>\n",
       "      <td>...</td>\n",
       "      <td>6874.000000</td>\n",
       "      <td>6874.000000</td>\n",
       "      <td>6874.000000</td>\n",
       "      <td>6874.000000</td>\n",
       "      <td>6874.000000</td>\n",
       "      <td>6853.000000</td>\n",
       "      <td>7535.000000</td>\n",
       "      <td>6849.000000</td>\n",
       "      <td>6849.000000</td>\n",
       "      <td>6718.000000</td>\n",
       "    </tr>\n",
       "    <tr>\n",
       "      <th>mean</th>\n",
       "      <td>0.014238</td>\n",
       "      <td>0.009213</td>\n",
       "      <td>0.005304</td>\n",
       "      <td>0.190975</td>\n",
       "      <td>522.819409</td>\n",
       "      <td>530.765050</td>\n",
       "      <td>0.005583</td>\n",
       "      <td>2356.837940</td>\n",
       "      <td>0.510207</td>\n",
       "      <td>0.189997</td>\n",
       "      <td>...</td>\n",
       "      <td>0.013813</td>\n",
       "      <td>0.004569</td>\n",
       "      <td>0.023950</td>\n",
       "      <td>0.016086</td>\n",
       "      <td>0.045181</td>\n",
       "      <td>0.226639</td>\n",
       "      <td>0.923291</td>\n",
       "      <td>0.530643</td>\n",
       "      <td>0.522211</td>\n",
       "      <td>0.410021</td>\n",
       "    </tr>\n",
       "    <tr>\n",
       "      <th>std</th>\n",
       "      <td>0.118478</td>\n",
       "      <td>0.095546</td>\n",
       "      <td>0.072642</td>\n",
       "      <td>0.393096</td>\n",
       "      <td>68.578862</td>\n",
       "      <td>73.469767</td>\n",
       "      <td>0.074519</td>\n",
       "      <td>5474.275871</td>\n",
       "      <td>0.286958</td>\n",
       "      <td>0.224587</td>\n",
       "      <td>...</td>\n",
       "      <td>0.070196</td>\n",
       "      <td>0.033125</td>\n",
       "      <td>0.031288</td>\n",
       "      <td>0.050172</td>\n",
       "      <td>0.093440</td>\n",
       "      <td>0.246470</td>\n",
       "      <td>0.266146</td>\n",
       "      <td>0.225544</td>\n",
       "      <td>0.283616</td>\n",
       "      <td>0.228939</td>\n",
       "    </tr>\n",
       "    <tr>\n",
       "      <th>min</th>\n",
       "      <td>0.000000</td>\n",
       "      <td>0.000000</td>\n",
       "      <td>0.000000</td>\n",
       "      <td>0.000000</td>\n",
       "      <td>290.000000</td>\n",
       "      <td>310.000000</td>\n",
       "      <td>0.000000</td>\n",
       "      <td>0.000000</td>\n",
       "      <td>0.000000</td>\n",
       "      <td>0.000000</td>\n",
       "      <td>...</td>\n",
       "      <td>0.000000</td>\n",
       "      <td>0.000000</td>\n",
       "      <td>0.000000</td>\n",
       "      <td>0.000000</td>\n",
       "      <td>0.000000</td>\n",
       "      <td>0.000000</td>\n",
       "      <td>0.000000</td>\n",
       "      <td>0.000000</td>\n",
       "      <td>0.000000</td>\n",
       "      <td>0.000000</td>\n",
       "    </tr>\n",
       "    <tr>\n",
       "      <th>25%</th>\n",
       "      <td>0.000000</td>\n",
       "      <td>0.000000</td>\n",
       "      <td>0.000000</td>\n",
       "      <td>0.000000</td>\n",
       "      <td>475.000000</td>\n",
       "      <td>482.000000</td>\n",
       "      <td>0.000000</td>\n",
       "      <td>117.000000</td>\n",
       "      <td>0.267500</td>\n",
       "      <td>0.036125</td>\n",
       "      <td>...</td>\n",
       "      <td>0.000000</td>\n",
       "      <td>0.000000</td>\n",
       "      <td>0.000000</td>\n",
       "      <td>0.000000</td>\n",
       "      <td>0.000000</td>\n",
       "      <td>0.000000</td>\n",
       "      <td>1.000000</td>\n",
       "      <td>0.357800</td>\n",
       "      <td>0.332900</td>\n",
       "      <td>0.241500</td>\n",
       "    </tr>\n",
       "    <tr>\n",
       "      <th>50%</th>\n",
       "      <td>0.000000</td>\n",
       "      <td>0.000000</td>\n",
       "      <td>0.000000</td>\n",
       "      <td>0.000000</td>\n",
       "      <td>510.000000</td>\n",
       "      <td>520.000000</td>\n",
       "      <td>0.000000</td>\n",
       "      <td>412.500000</td>\n",
       "      <td>0.555700</td>\n",
       "      <td>0.100050</td>\n",
       "      <td>...</td>\n",
       "      <td>0.002600</td>\n",
       "      <td>0.000000</td>\n",
       "      <td>0.017500</td>\n",
       "      <td>0.000000</td>\n",
       "      <td>0.014300</td>\n",
       "      <td>0.150400</td>\n",
       "      <td>1.000000</td>\n",
       "      <td>0.521500</td>\n",
       "      <td>0.583300</td>\n",
       "      <td>0.400750</td>\n",
       "    </tr>\n",
       "    <tr>\n",
       "      <th>75%</th>\n",
       "      <td>0.000000</td>\n",
       "      <td>0.000000</td>\n",
       "      <td>0.000000</td>\n",
       "      <td>0.000000</td>\n",
       "      <td>555.000000</td>\n",
       "      <td>565.000000</td>\n",
       "      <td>0.000000</td>\n",
       "      <td>1929.500000</td>\n",
       "      <td>0.747875</td>\n",
       "      <td>0.257700</td>\n",
       "      <td>...</td>\n",
       "      <td>0.007300</td>\n",
       "      <td>0.002500</td>\n",
       "      <td>0.033900</td>\n",
       "      <td>0.011700</td>\n",
       "      <td>0.045400</td>\n",
       "      <td>0.376900</td>\n",
       "      <td>1.000000</td>\n",
       "      <td>0.712900</td>\n",
       "      <td>0.745000</td>\n",
       "      <td>0.572275</td>\n",
       "    </tr>\n",
       "    <tr>\n",
       "      <th>max</th>\n",
       "      <td>1.000000</td>\n",
       "      <td>1.000000</td>\n",
       "      <td>1.000000</td>\n",
       "      <td>1.000000</td>\n",
       "      <td>765.000000</td>\n",
       "      <td>785.000000</td>\n",
       "      <td>1.000000</td>\n",
       "      <td>151558.000000</td>\n",
       "      <td>1.000000</td>\n",
       "      <td>1.000000</td>\n",
       "      <td>...</td>\n",
       "      <td>1.000000</td>\n",
       "      <td>0.998300</td>\n",
       "      <td>0.533300</td>\n",
       "      <td>0.928600</td>\n",
       "      <td>0.902700</td>\n",
       "      <td>1.000000</td>\n",
       "      <td>1.000000</td>\n",
       "      <td>1.000000</td>\n",
       "      <td>1.000000</td>\n",
       "      <td>1.000000</td>\n",
       "    </tr>\n",
       "  </tbody>\n",
       "</table>\n",
       "<p>8 rows × 22 columns</p>\n",
       "</div>"
      ],
      "text/plain": [
       "              hbcu      menonly    womenonly     relaffil     satvrmid  \\\n",
       "count  7164.000000  7164.000000  7164.000000  7535.000000  1185.000000   \n",
       "mean      0.014238     0.009213     0.005304     0.190975   522.819409   \n",
       "std       0.118478     0.095546     0.072642     0.393096    68.578862   \n",
       "min       0.000000     0.000000     0.000000     0.000000   290.000000   \n",
       "25%       0.000000     0.000000     0.000000     0.000000   475.000000   \n",
       "50%       0.000000     0.000000     0.000000     0.000000   510.000000   \n",
       "75%       0.000000     0.000000     0.000000     0.000000   555.000000   \n",
       "max       1.000000     1.000000     1.000000     1.000000   765.000000   \n",
       "\n",
       "          satmtmid  distanceonly           ugds   ugds_white   ugds_black  \\\n",
       "count  1196.000000   7164.000000    6874.000000  6874.000000  6874.000000   \n",
       "mean    530.765050      0.005583    2356.837940     0.510207     0.189997   \n",
       "std      73.469767      0.074519    5474.275871     0.286958     0.224587   \n",
       "min     310.000000      0.000000       0.000000     0.000000     0.000000   \n",
       "25%     482.000000      0.000000     117.000000     0.267500     0.036125   \n",
       "50%     520.000000      0.000000     412.500000     0.555700     0.100050   \n",
       "75%     565.000000      0.000000    1929.500000     0.747875     0.257700   \n",
       "max     785.000000      1.000000  151558.000000     1.000000     1.000000   \n",
       "\n",
       "       ...    ugds_aian    ugds_nhpi    ugds_2mor     ugds_nra    ugds_unkn  \\\n",
       "count  ...  6874.000000  6874.000000  6874.000000  6874.000000  6874.000000   \n",
       "mean   ...     0.013813     0.004569     0.023950     0.016086     0.045181   \n",
       "std    ...     0.070196     0.033125     0.031288     0.050172     0.093440   \n",
       "min    ...     0.000000     0.000000     0.000000     0.000000     0.000000   \n",
       "25%    ...     0.000000     0.000000     0.000000     0.000000     0.000000   \n",
       "50%    ...     0.002600     0.000000     0.017500     0.000000     0.014300   \n",
       "75%    ...     0.007300     0.002500     0.033900     0.011700     0.045400   \n",
       "max    ...     1.000000     0.998300     0.533300     0.928600     0.902700   \n",
       "\n",
       "          pptug_ef     curroper      pctpell     pctfloan      ug25abv  \n",
       "count  6853.000000  7535.000000  6849.000000  6849.000000  6718.000000  \n",
       "mean      0.226639     0.923291     0.530643     0.522211     0.410021  \n",
       "std       0.246470     0.266146     0.225544     0.283616     0.228939  \n",
       "min       0.000000     0.000000     0.000000     0.000000     0.000000  \n",
       "25%       0.000000     1.000000     0.357800     0.332900     0.241500  \n",
       "50%       0.150400     1.000000     0.521500     0.583300     0.400750  \n",
       "75%       0.376900     1.000000     0.712900     0.745000     0.572275  \n",
       "max       1.000000     1.000000     1.000000     1.000000     1.000000  \n",
       "\n",
       "[8 rows x 22 columns]"
      ]
     },
     "execution_count": 83,
     "metadata": {},
     "output_type": "execute_result"
    }
   ],
   "source": [
    "college.describe()"
   ]
  },
  {
   "cell_type": "markdown",
   "metadata": {},
   "source": [
    "### Exercise 11\n",
    "\n",
    "<span  style=\"color:green; font-size:16px\">What is the average number of non-missing values for each row?</span>"
   ]
  },
  {
   "cell_type": "code",
   "execution_count": 84,
   "metadata": {},
   "outputs": [
    {
     "data": {
      "text/plain": [
       "22.70763105507631"
      ]
     },
     "execution_count": 84,
     "metadata": {},
     "output_type": "execute_result"
    }
   ],
   "source": [
    "college.count(axis=1).mean()"
   ]
  },
  {
   "cell_type": "markdown",
   "metadata": {},
   "source": [
    "### Exercise 12\n",
    "\n",
    "<span style=\"color:green; font-size:16px\">The `ugds` column of the college dataset contains the total undergraduate population. What is the least number of colleges it would take to have a total of more than 5 million students?</span>"
   ]
  },
  {
   "cell_type": "markdown",
   "metadata": {},
   "source": [
    "Sort largest to smallest\n",
    "New column w/ cumulative sum\n",
    "Isolate row w/ > 5MM"
   ]
  },
  {
   "cell_type": "code",
   "execution_count": 11,
   "metadata": {},
   "outputs": [
    {
     "data": {
      "text/plain": [
       "instnm\n",
       "Education and Technology Institute                        0.0\n",
       "Taft University System                                    0.0\n",
       "Prince Institute-Rocky Mountains                          0.0\n",
       "Lyme Academy College of Fine Arts                         0.0\n",
       "American Conservatory Theater                             0.0\n",
       "                                                         ... \n",
       "SAE Institute of Technology  San Francisco                NaN\n",
       "Rasmussen College - Overland Park                         NaN\n",
       "National Personal Training Institute of Cleveland         NaN\n",
       "Bay Area Medical Academy - San Jose Satellite Location    NaN\n",
       "Excel Learning Center-San Antonio South                   NaN\n",
       "Name: ugds, Length: 7535, dtype: float64"
      ]
     },
     "execution_count": 11,
     "metadata": {},
     "output_type": "execute_result"
    }
   ],
   "source": [
    "college.sort_values"
   ]
  },
  {
   "cell_type": "code",
   "execution_count": 16,
   "metadata": {
    "collapsed": true
   },
   "outputs": [
    {
     "data": {
      "text/html": [
       "<div>\n",
       "<style scoped>\n",
       "    .dataframe tbody tr th:only-of-type {\n",
       "        vertical-align: middle;\n",
       "    }\n",
       "\n",
       "    .dataframe tbody tr th {\n",
       "        vertical-align: top;\n",
       "    }\n",
       "\n",
       "    .dataframe thead th {\n",
       "        text-align: right;\n",
       "    }\n",
       "</style>\n",
       "<table border=\"1\" class=\"dataframe\">\n",
       "  <thead>\n",
       "    <tr style=\"text-align: right;\">\n",
       "      <th></th>\n",
       "      <th>city</th>\n",
       "      <th>stabbr</th>\n",
       "      <th>hbcu</th>\n",
       "      <th>menonly</th>\n",
       "      <th>womenonly</th>\n",
       "      <th>relaffil</th>\n",
       "      <th>satvrmid</th>\n",
       "      <th>satmtmid</th>\n",
       "      <th>distanceonly</th>\n",
       "      <th>ugds</th>\n",
       "      <th>...</th>\n",
       "      <th>ugds_nra</th>\n",
       "      <th>ugds_unkn</th>\n",
       "      <th>pptug_ef</th>\n",
       "      <th>curroper</th>\n",
       "      <th>pctpell</th>\n",
       "      <th>pctfloan</th>\n",
       "      <th>ug25abv</th>\n",
       "      <th>md_earn_wne_p10</th>\n",
       "      <th>grad_debt_mdn_supp</th>\n",
       "      <th>cum_pop</th>\n",
       "    </tr>\n",
       "    <tr>\n",
       "      <th>instnm</th>\n",
       "      <th></th>\n",
       "      <th></th>\n",
       "      <th></th>\n",
       "      <th></th>\n",
       "      <th></th>\n",
       "      <th></th>\n",
       "      <th></th>\n",
       "      <th></th>\n",
       "      <th></th>\n",
       "      <th></th>\n",
       "      <th></th>\n",
       "      <th></th>\n",
       "      <th></th>\n",
       "      <th></th>\n",
       "      <th></th>\n",
       "      <th></th>\n",
       "      <th></th>\n",
       "      <th></th>\n",
       "      <th></th>\n",
       "      <th></th>\n",
       "      <th></th>\n",
       "    </tr>\n",
       "  </thead>\n",
       "  <tbody>\n",
       "    <tr>\n",
       "      <th>University of Phoenix-Arizona</th>\n",
       "      <td>Tempe</td>\n",
       "      <td>AZ</td>\n",
       "      <td>0.0</td>\n",
       "      <td>0.0</td>\n",
       "      <td>0.0</td>\n",
       "      <td>0</td>\n",
       "      <td>NaN</td>\n",
       "      <td>NaN</td>\n",
       "      <td>0.0</td>\n",
       "      <td>151558.0</td>\n",
       "      <td>...</td>\n",
       "      <td>0.0131</td>\n",
       "      <td>0.3152</td>\n",
       "      <td>0.0000</td>\n",
       "      <td>1</td>\n",
       "      <td>0.6009</td>\n",
       "      <td>0.5920</td>\n",
       "      <td>NaN</td>\n",
       "      <td>NaN</td>\n",
       "      <td>33000</td>\n",
       "      <td>151558.0</td>\n",
       "    </tr>\n",
       "    <tr>\n",
       "      <th>Ivy Tech Community College</th>\n",
       "      <td>Indianapolis</td>\n",
       "      <td>IN</td>\n",
       "      <td>0.0</td>\n",
       "      <td>0.0</td>\n",
       "      <td>0.0</td>\n",
       "      <td>0</td>\n",
       "      <td>NaN</td>\n",
       "      <td>NaN</td>\n",
       "      <td>0.0</td>\n",
       "      <td>77657.0</td>\n",
       "      <td>...</td>\n",
       "      <td>0.0003</td>\n",
       "      <td>0.0354</td>\n",
       "      <td>0.6350</td>\n",
       "      <td>1</td>\n",
       "      <td>0.5153</td>\n",
       "      <td>0.3384</td>\n",
       "      <td>0.4780</td>\n",
       "      <td>29400</td>\n",
       "      <td>13000</td>\n",
       "      <td>77657.0</td>\n",
       "    </tr>\n",
       "    <tr>\n",
       "      <th>Miami Dade College</th>\n",
       "      <td>Miami</td>\n",
       "      <td>FL</td>\n",
       "      <td>0.0</td>\n",
       "      <td>0.0</td>\n",
       "      <td>0.0</td>\n",
       "      <td>0</td>\n",
       "      <td>NaN</td>\n",
       "      <td>NaN</td>\n",
       "      <td>0.0</td>\n",
       "      <td>61470.0</td>\n",
       "      <td>...</td>\n",
       "      <td>0.0521</td>\n",
       "      <td>0.0280</td>\n",
       "      <td>0.5824</td>\n",
       "      <td>1</td>\n",
       "      <td>0.5399</td>\n",
       "      <td>0.0921</td>\n",
       "      <td>0.3503</td>\n",
       "      <td>30100</td>\n",
       "      <td>8500</td>\n",
       "      <td>61470.0</td>\n",
       "    </tr>\n",
       "    <tr>\n",
       "      <th>Lone Star College System</th>\n",
       "      <td>The Woodlands</td>\n",
       "      <td>TX</td>\n",
       "      <td>0.0</td>\n",
       "      <td>0.0</td>\n",
       "      <td>0.0</td>\n",
       "      <td>0</td>\n",
       "      <td>NaN</td>\n",
       "      <td>NaN</td>\n",
       "      <td>0.0</td>\n",
       "      <td>59920.0</td>\n",
       "      <td>...</td>\n",
       "      <td>0.0190</td>\n",
       "      <td>0.0292</td>\n",
       "      <td>0.6863</td>\n",
       "      <td>1</td>\n",
       "      <td>0.3405</td>\n",
       "      <td>0.1984</td>\n",
       "      <td>0.3201</td>\n",
       "      <td>32900</td>\n",
       "      <td>11000</td>\n",
       "      <td>59920.0</td>\n",
       "    </tr>\n",
       "    <tr>\n",
       "      <th>Houston Community College</th>\n",
       "      <td>Houston</td>\n",
       "      <td>TX</td>\n",
       "      <td>0.0</td>\n",
       "      <td>0.0</td>\n",
       "      <td>0.0</td>\n",
       "      <td>0</td>\n",
       "      <td>NaN</td>\n",
       "      <td>NaN</td>\n",
       "      <td>0.0</td>\n",
       "      <td>58084.0</td>\n",
       "      <td>...</td>\n",
       "      <td>0.0911</td>\n",
       "      <td>0.0198</td>\n",
       "      <td>0.7027</td>\n",
       "      <td>1</td>\n",
       "      <td>0.6680</td>\n",
       "      <td>0.3348</td>\n",
       "      <td>0.4751</td>\n",
       "      <td>32500</td>\n",
       "      <td>10750</td>\n",
       "      <td>58084.0</td>\n",
       "    </tr>\n",
       "    <tr>\n",
       "      <th>University of Central Florida</th>\n",
       "      <td>Orlando</td>\n",
       "      <td>FL</td>\n",
       "      <td>0.0</td>\n",
       "      <td>0.0</td>\n",
       "      <td>0.0</td>\n",
       "      <td>0</td>\n",
       "      <td>590.0</td>\n",
       "      <td>595.0</td>\n",
       "      <td>0.0</td>\n",
       "      <td>52280.0</td>\n",
       "      <td>...</td>\n",
       "      <td>0.0100</td>\n",
       "      <td>0.0067</td>\n",
       "      <td>0.3043</td>\n",
       "      <td>1</td>\n",
       "      <td>0.3814</td>\n",
       "      <td>0.4500</td>\n",
       "      <td>0.2083</td>\n",
       "      <td>42900</td>\n",
       "      <td>18350</td>\n",
       "      <td>52280.0</td>\n",
       "    </tr>\n",
       "    <tr>\n",
       "      <th>Liberty University</th>\n",
       "      <td>Lynchburg</td>\n",
       "      <td>VA</td>\n",
       "      <td>0.0</td>\n",
       "      <td>0.0</td>\n",
       "      <td>0.0</td>\n",
       "      <td>1</td>\n",
       "      <td>525.0</td>\n",
       "      <td>510.0</td>\n",
       "      <td>0.0</td>\n",
       "      <td>49340.0</td>\n",
       "      <td>...</td>\n",
       "      <td>0.0135</td>\n",
       "      <td>0.2626</td>\n",
       "      <td>0.4458</td>\n",
       "      <td>1</td>\n",
       "      <td>0.4984</td>\n",
       "      <td>0.6648</td>\n",
       "      <td>0.6265</td>\n",
       "      <td>35600</td>\n",
       "      <td>23250</td>\n",
       "      <td>49340.0</td>\n",
       "    </tr>\n",
       "    <tr>\n",
       "      <th>Texas A &amp; M University-College Station</th>\n",
       "      <td>College Station</td>\n",
       "      <td>TX</td>\n",
       "      <td>0.0</td>\n",
       "      <td>0.0</td>\n",
       "      <td>0.0</td>\n",
       "      <td>0</td>\n",
       "      <td>580.0</td>\n",
       "      <td>615.0</td>\n",
       "      <td>0.0</td>\n",
       "      <td>46941.0</td>\n",
       "      <td>...</td>\n",
       "      <td>0.0131</td>\n",
       "      <td>0.0022</td>\n",
       "      <td>0.1049</td>\n",
       "      <td>1</td>\n",
       "      <td>0.2183</td>\n",
       "      <td>0.3320</td>\n",
       "      <td>0.0308</td>\n",
       "      <td>53900</td>\n",
       "      <td>19000</td>\n",
       "      <td>46941.0</td>\n",
       "    </tr>\n",
       "    <tr>\n",
       "      <th>American Public University System</th>\n",
       "      <td>Charles Town</td>\n",
       "      <td>WV</td>\n",
       "      <td>0.0</td>\n",
       "      <td>0.0</td>\n",
       "      <td>0.0</td>\n",
       "      <td>0</td>\n",
       "      <td>NaN</td>\n",
       "      <td>NaN</td>\n",
       "      <td>1.0</td>\n",
       "      <td>44924.0</td>\n",
       "      <td>...</td>\n",
       "      <td>0.0071</td>\n",
       "      <td>0.0499</td>\n",
       "      <td>0.9316</td>\n",
       "      <td>1</td>\n",
       "      <td>0.3255</td>\n",
       "      <td>0.3388</td>\n",
       "      <td>0.8147</td>\n",
       "      <td>PrivacySuppressed</td>\n",
       "      <td>18543.5</td>\n",
       "      <td>44924.0</td>\n",
       "    </tr>\n",
       "    <tr>\n",
       "      <th>Ashford University</th>\n",
       "      <td>San Diego</td>\n",
       "      <td>CA</td>\n",
       "      <td>0.0</td>\n",
       "      <td>0.0</td>\n",
       "      <td>0.0</td>\n",
       "      <td>0</td>\n",
       "      <td>NaN</td>\n",
       "      <td>NaN</td>\n",
       "      <td>0.0</td>\n",
       "      <td>44744.0</td>\n",
       "      <td>...</td>\n",
       "      <td>0.0020</td>\n",
       "      <td>0.0192</td>\n",
       "      <td>0.0003</td>\n",
       "      <td>1</td>\n",
       "      <td>0.5944</td>\n",
       "      <td>0.7203</td>\n",
       "      <td>0.8997</td>\n",
       "      <td>39100</td>\n",
       "      <td>32823</td>\n",
       "      <td>44744.0</td>\n",
       "    </tr>\n",
       "  </tbody>\n",
       "</table>\n",
       "<p>10 rows × 27 columns</p>\n",
       "</div>"
      ],
      "text/plain": [
       "                                                   city stabbr  hbcu  menonly  \\\n",
       "instnm                                                                          \n",
       "University of Phoenix-Arizona                     Tempe     AZ   0.0      0.0   \n",
       "Ivy Tech Community College                 Indianapolis     IN   0.0      0.0   \n",
       "Miami Dade College                                Miami     FL   0.0      0.0   \n",
       "Lone Star College System                  The Woodlands     TX   0.0      0.0   \n",
       "Houston Community College                       Houston     TX   0.0      0.0   \n",
       "University of Central Florida                   Orlando     FL   0.0      0.0   \n",
       "Liberty University                            Lynchburg     VA   0.0      0.0   \n",
       "Texas A & M University-College Station  College Station     TX   0.0      0.0   \n",
       "American Public University System          Charles Town     WV   0.0      0.0   \n",
       "Ashford University                            San Diego     CA   0.0      0.0   \n",
       "\n",
       "                                        womenonly  relaffil  satvrmid  \\\n",
       "instnm                                                                  \n",
       "University of Phoenix-Arizona                 0.0         0       NaN   \n",
       "Ivy Tech Community College                    0.0         0       NaN   \n",
       "Miami Dade College                            0.0         0       NaN   \n",
       "Lone Star College System                      0.0         0       NaN   \n",
       "Houston Community College                     0.0         0       NaN   \n",
       "University of Central Florida                 0.0         0     590.0   \n",
       "Liberty University                            0.0         1     525.0   \n",
       "Texas A & M University-College Station        0.0         0     580.0   \n",
       "American Public University System             0.0         0       NaN   \n",
       "Ashford University                            0.0         0       NaN   \n",
       "\n",
       "                                        satmtmid  distanceonly      ugds  ...  \\\n",
       "instnm                                                                    ...   \n",
       "University of Phoenix-Arizona                NaN           0.0  151558.0  ...   \n",
       "Ivy Tech Community College                   NaN           0.0   77657.0  ...   \n",
       "Miami Dade College                           NaN           0.0   61470.0  ...   \n",
       "Lone Star College System                     NaN           0.0   59920.0  ...   \n",
       "Houston Community College                    NaN           0.0   58084.0  ...   \n",
       "University of Central Florida              595.0           0.0   52280.0  ...   \n",
       "Liberty University                         510.0           0.0   49340.0  ...   \n",
       "Texas A & M University-College Station     615.0           0.0   46941.0  ...   \n",
       "American Public University System            NaN           1.0   44924.0  ...   \n",
       "Ashford University                           NaN           0.0   44744.0  ...   \n",
       "\n",
       "                                        ugds_nra  ugds_unkn  pptug_ef  \\\n",
       "instnm                                                                  \n",
       "University of Phoenix-Arizona             0.0131     0.3152    0.0000   \n",
       "Ivy Tech Community College                0.0003     0.0354    0.6350   \n",
       "Miami Dade College                        0.0521     0.0280    0.5824   \n",
       "Lone Star College System                  0.0190     0.0292    0.6863   \n",
       "Houston Community College                 0.0911     0.0198    0.7027   \n",
       "University of Central Florida             0.0100     0.0067    0.3043   \n",
       "Liberty University                        0.0135     0.2626    0.4458   \n",
       "Texas A & M University-College Station    0.0131     0.0022    0.1049   \n",
       "American Public University System         0.0071     0.0499    0.9316   \n",
       "Ashford University                        0.0020     0.0192    0.0003   \n",
       "\n",
       "                                        curroper  pctpell  pctfloan  ug25abv  \\\n",
       "instnm                                                                         \n",
       "University of Phoenix-Arizona                  1   0.6009    0.5920      NaN   \n",
       "Ivy Tech Community College                     1   0.5153    0.3384   0.4780   \n",
       "Miami Dade College                             1   0.5399    0.0921   0.3503   \n",
       "Lone Star College System                       1   0.3405    0.1984   0.3201   \n",
       "Houston Community College                      1   0.6680    0.3348   0.4751   \n",
       "University of Central Florida                  1   0.3814    0.4500   0.2083   \n",
       "Liberty University                             1   0.4984    0.6648   0.6265   \n",
       "Texas A & M University-College Station         1   0.2183    0.3320   0.0308   \n",
       "American Public University System              1   0.3255    0.3388   0.8147   \n",
       "Ashford University                             1   0.5944    0.7203   0.8997   \n",
       "\n",
       "                                          md_earn_wne_p10  grad_debt_mdn_supp  \\\n",
       "instnm                                                                          \n",
       "University of Phoenix-Arizona                         NaN               33000   \n",
       "Ivy Tech Community College                          29400               13000   \n",
       "Miami Dade College                                  30100                8500   \n",
       "Lone Star College System                            32900               11000   \n",
       "Houston Community College                           32500               10750   \n",
       "University of Central Florida                       42900               18350   \n",
       "Liberty University                                  35600               23250   \n",
       "Texas A & M University-College Station              53900               19000   \n",
       "American Public University System       PrivacySuppressed             18543.5   \n",
       "Ashford University                                  39100               32823   \n",
       "\n",
       "                                         cum_pop  \n",
       "instnm                                            \n",
       "University of Phoenix-Arizona           151558.0  \n",
       "Ivy Tech Community College               77657.0  \n",
       "Miami Dade College                       61470.0  \n",
       "Lone Star College System                 59920.0  \n",
       "Houston Community College                58084.0  \n",
       "University of Central Florida            52280.0  \n",
       "Liberty University                       49340.0  \n",
       "Texas A & M University-College Station   46941.0  \n",
       "American Public University System        44924.0  \n",
       "Ashford University                       44744.0  \n",
       "\n",
       "[10 rows x 27 columns]"
      ]
     },
     "execution_count": 16,
     "metadata": {},
     "output_type": "execute_result"
    }
   ],
   "source": [
    "sorted_list = college.sort_values(by='ugds', ascending = False)\n",
    "sorted_list.head(10)"
   ]
  },
  {
   "cell_type": "code",
   "execution_count": 85,
   "metadata": {},
   "outputs": [
    {
     "data": {
      "text/plain": [
       "instnm\n",
       "University of Phoenix-Arizona             151558.0\n",
       "Ivy Tech Community College                229215.0\n",
       "Miami Dade College                        290685.0\n",
       "Lone Star College System                  350605.0\n",
       "Houston Community College                 408689.0\n",
       "University of Central Florida             460969.0\n",
       "Liberty University                        510309.0\n",
       "Texas A & M University-College Station    557250.0\n",
       "American Public University System         602174.0\n",
       "Ashford University                        646918.0\n",
       "Name: ugds, dtype: float64"
      ]
     },
     "execution_count": 85,
     "metadata": {},
     "output_type": "execute_result"
    }
   ],
   "source": [
    "sorted_list['ugds'].cumsum().head(10)\n"
   ]
  },
  {
   "cell_type": "markdown",
   "metadata": {},
   "source": [
    "### Exercise 13\n",
    "\n",
    "<span style=\"color:green; font-size:16px\">Call the `describe` method, but make it work only for the string columns.</span>"
   ]
  },
  {
   "cell_type": "code",
   "execution_count": 86,
   "metadata": {},
   "outputs": [
    {
     "data": {
      "text/html": [
       "<div>\n",
       "<style scoped>\n",
       "    .dataframe tbody tr th:only-of-type {\n",
       "        vertical-align: middle;\n",
       "    }\n",
       "\n",
       "    .dataframe tbody tr th {\n",
       "        vertical-align: top;\n",
       "    }\n",
       "\n",
       "    .dataframe thead th {\n",
       "        text-align: right;\n",
       "    }\n",
       "</style>\n",
       "<table border=\"1\" class=\"dataframe\">\n",
       "  <thead>\n",
       "    <tr style=\"text-align: right;\">\n",
       "      <th></th>\n",
       "      <th>city</th>\n",
       "      <th>stabbr</th>\n",
       "      <th>md_earn_wne_p10</th>\n",
       "      <th>grad_debt_mdn_supp</th>\n",
       "    </tr>\n",
       "  </thead>\n",
       "  <tbody>\n",
       "    <tr>\n",
       "      <th>count</th>\n",
       "      <td>7535</td>\n",
       "      <td>7535</td>\n",
       "      <td>6413</td>\n",
       "      <td>7503</td>\n",
       "    </tr>\n",
       "    <tr>\n",
       "      <th>unique</th>\n",
       "      <td>2514</td>\n",
       "      <td>59</td>\n",
       "      <td>598</td>\n",
       "      <td>2038</td>\n",
       "    </tr>\n",
       "    <tr>\n",
       "      <th>top</th>\n",
       "      <td>New York</td>\n",
       "      <td>CA</td>\n",
       "      <td>PrivacySuppressed</td>\n",
       "      <td>PrivacySuppressed</td>\n",
       "    </tr>\n",
       "    <tr>\n",
       "      <th>freq</th>\n",
       "      <td>87</td>\n",
       "      <td>773</td>\n",
       "      <td>822</td>\n",
       "      <td>1510</td>\n",
       "    </tr>\n",
       "  </tbody>\n",
       "</table>\n",
       "</div>"
      ],
      "text/plain": [
       "            city stabbr    md_earn_wne_p10 grad_debt_mdn_supp\n",
       "count       7535   7535               6413               7503\n",
       "unique      2514     59                598               2038\n",
       "top     New York     CA  PrivacySuppressed  PrivacySuppressed\n",
       "freq          87    773                822               1510"
      ]
     },
     "execution_count": 86,
     "metadata": {},
     "output_type": "execute_result"
    }
   ],
   "source": [
    "college.describe(include = 'object')"
   ]
  },
  {
   "cell_type": "code",
   "execution_count": 89,
   "metadata": {},
   "outputs": [
    {
     "data": {
      "text/plain": [
       "city                   object\n",
       "stabbr                 object\n",
       "hbcu                  float64\n",
       "menonly               float64\n",
       "womenonly             float64\n",
       "relaffil                int64\n",
       "satvrmid              float64\n",
       "satmtmid              float64\n",
       "distanceonly          float64\n",
       "ugds                  float64\n",
       "ugds_white            float64\n",
       "ugds_black            float64\n",
       "ugds_hisp             float64\n",
       "ugds_asian            float64\n",
       "ugds_aian             float64\n",
       "ugds_nhpi             float64\n",
       "ugds_2mor             float64\n",
       "ugds_nra              float64\n",
       "ugds_unkn             float64\n",
       "pptug_ef              float64\n",
       "curroper                int64\n",
       "pctpell               float64\n",
       "pctfloan              float64\n",
       "ug25abv               float64\n",
       "md_earn_wne_p10        object\n",
       "grad_debt_mdn_supp     object\n",
       "dtype: object"
      ]
     },
     "execution_count": 89,
     "metadata": {},
     "output_type": "execute_result"
    }
   ],
   "source": [
    "college.dtypes"
   ]
  },
  {
   "cell_type": "markdown",
   "metadata": {},
   "source": [
    "### Exercise 14\n",
    "\n",
    "<span style=\"color:green; font-size:16px\">Call the `max` method, but only return columns that are numeric.</span>"
   ]
  },
  {
   "cell_type": "code",
   "execution_count": 91,
   "metadata": {},
   "outputs": [
    {
     "name": "stderr",
     "output_type": "stream",
     "text": [
      "/var/folders/3d/fz6p7yw52wn8sdzrwmmnv5240000gn/T/ipykernel_52241/2017576449.py:1: FutureWarning: The default value of numeric_only in DataFrame.max is deprecated. In a future version, it will default to False. In addition, specifying 'numeric_only=None' is deprecated. Select only valid columns or specify the value of numeric_only to silence this warning.\n",
      "  college.max()\n"
     ]
    },
    {
     "data": {
      "text/plain": [
       "city            Zanesville\n",
       "stabbr                  WY\n",
       "hbcu                   1.0\n",
       "menonly                1.0\n",
       "womenonly              1.0\n",
       "relaffil                 1\n",
       "satvrmid             765.0\n",
       "satmtmid             785.0\n",
       "distanceonly           1.0\n",
       "ugds              151558.0\n",
       "ugds_white             1.0\n",
       "ugds_black             1.0\n",
       "ugds_hisp              1.0\n",
       "ugds_asian          0.9727\n",
       "ugds_aian              1.0\n",
       "ugds_nhpi           0.9983\n",
       "ugds_2mor           0.5333\n",
       "ugds_nra            0.9286\n",
       "ugds_unkn           0.9027\n",
       "pptug_ef               1.0\n",
       "curroper                 1\n",
       "pctpell                1.0\n",
       "pctfloan               1.0\n",
       "ug25abv                1.0\n",
       "dtype: object"
      ]
     },
     "execution_count": 91,
     "metadata": {},
     "output_type": "execute_result"
    }
   ],
   "source": [
    "college.max()"
   ]
  },
  {
   "cell_type": "code",
   "execution_count": 92,
   "metadata": {},
   "outputs": [
    {
     "data": {
      "text/plain": [
       "hbcu                 1.0000\n",
       "menonly              1.0000\n",
       "womenonly            1.0000\n",
       "relaffil             1.0000\n",
       "satvrmid           765.0000\n",
       "satmtmid           785.0000\n",
       "distanceonly         1.0000\n",
       "ugds            151558.0000\n",
       "ugds_white           1.0000\n",
       "ugds_black           1.0000\n",
       "ugds_hisp            1.0000\n",
       "ugds_asian           0.9727\n",
       "ugds_aian            1.0000\n",
       "ugds_nhpi            0.9983\n",
       "ugds_2mor            0.5333\n",
       "ugds_nra             0.9286\n",
       "ugds_unkn            0.9027\n",
       "pptug_ef             1.0000\n",
       "curroper             1.0000\n",
       "pctpell              1.0000\n",
       "pctfloan             1.0000\n",
       "ug25abv              1.0000\n",
       "dtype: float64"
      ]
     },
     "execution_count": 92,
     "metadata": {},
     "output_type": "execute_result"
    }
   ],
   "source": [
    "college.max(numeric_only = True)"
   ]
  },
  {
   "cell_type": "code",
   "execution_count": null,
   "metadata": {},
   "outputs": [],
   "source": []
  }
 ],
 "metadata": {
  "kernelspec": {
   "display_name": "Python 3 (ipykernel)",
   "language": "python",
   "name": "python3"
  },
  "language_info": {
   "codemirror_mode": {
    "name": "ipython",
    "version": 3
   },
   "file_extension": ".py",
   "mimetype": "text/x-python",
   "name": "python",
   "nbconvert_exporter": "python",
   "pygments_lexer": "ipython3",
   "version": "3.11.0"
  },
  "varInspector": {
   "cols": {
    "lenName": 16,
    "lenType": 16,
    "lenVar": 40
   },
   "kernels_config": {
    "python": {
     "delete_cmd_postfix": "",
     "delete_cmd_prefix": "del ",
     "library": "var_list.py",
     "varRefreshCmd": "print(var_dic_list())"
    },
    "r": {
     "delete_cmd_postfix": ") ",
     "delete_cmd_prefix": "rm(",
     "library": "var_list.r",
     "varRefreshCmd": "cat(var_dic_list()) "
    }
   },
   "types_to_exclude": [
    "module",
    "function",
    "builtin_function_or_method",
    "instance",
    "_Feature"
   ],
   "window_display": false
  }
 },
 "nbformat": 4,
 "nbformat_minor": 2
}
