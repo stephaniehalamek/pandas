{
 "cells": [
  {
   "cell_type": "markdown",
   "id": "95004a43",
   "metadata": {},
   "source": [
    "# More Time Series Functionality\n",
    "\n",
    "In this chapter, we cover several more important pieces of time series data functionality in pandas."
   ]
  },
  {
   "cell_type": "code",
   "execution_count": null,
   "id": "950639e8",
   "metadata": {},
   "outputs": [],
   "source": [
    "import pandas as pd\n",
    "df = pd.read_csv('../data/stocks/stocks10.csv', parse_dates=['date'], \n",
    "                 index_col='date')\n",
    "df.head(3)"
   ]
  },
  {
   "cell_type": "markdown",
   "id": "699eff89",
   "metadata": {},
   "source": [
    "## Selecting multiple rows at specific frequencies\n",
    "\n",
    "Thus far, we covered how to select **entire time periods** of data using partial date matching with the `loc` indexer. We then selected **single datetimes** at fixed frequencies with `asfreq`. Now, we will cover how to select entire time periods at fixed frequencies. For example, let's say we are interested in selecting the first three days of each month. We can select the first three days of one particular month with `loc` and the first day of every month with `asfreq`, but we cannot select the first three days of every month. For that we'll need a different approach. Below we review the methods previously covered, beginning by selecting the first three days of one particular month."
   ]
  },
  {
   "cell_type": "code",
   "execution_count": null,
   "id": "38df4606",
   "metadata": {},
   "outputs": [],
   "source": [
    "df.loc['2010-6-1':'2010-6-3']"
   ]
  },
  {
   "cell_type": "markdown",
   "id": "a683e7a2",
   "metadata": {},
   "source": [
    "The `asfreq` method can select the start of every month."
   ]
  },
  {
   "cell_type": "code",
   "execution_count": null,
   "id": "6f6b68df",
   "metadata": {},
   "outputs": [],
   "source": [
    "df.asfreq('MS').head(3)"
   ]
  },
  {
   "cell_type": "markdown",
   "id": "a9971958",
   "metadata": {},
   "source": [
    "Perhaps the most effective way to select the first three rows of every month is using the `groupby` method, which has  more methods available to chain from it than `resample`. The first `head` method below is performed on each of the 241 groups. It returns the frist three rows for each group. The second `head` method is performed on the resulting DataFrame (723 rows) to show that the first four months each returned three rows of data. Note that the first three rows are not necessarily the first three days of the month, but the first the days that have values."
   ]
  },
  {
   "cell_type": "code",
   "execution_count": null,
   "id": "cabd0774",
   "metadata": {
    "scrolled": false
   },
   "outputs": [],
   "source": [
    "df.groupby(pd.Grouper(freq='MS')).head(3).head(12)"
   ]
  },
  {
   "cell_type": "markdown",
   "id": "137d91ee",
   "metadata": {},
   "source": [
    "### Using the DatetimeIndex to select specific frequencies\n",
    "\n",
    "Sometimes, it is necessary to use the DatetimeIndex to help with selecting specific frequencies. The DatetimeIndex has all of the same attributes and methods as the a datetime column. For instance, in order to select every June for all the years we'll need to use the `month` attribute (or `month_name` method) and test equality against the integer 6 (or string `'June'`)."
   ]
  },
  {
   "cell_type": "code",
   "execution_count": null,
   "id": "1c54c3ee",
   "metadata": {},
   "outputs": [],
   "source": [
    "filt = df.index.month == 6\n",
    "filt"
   ]
  },
  {
   "cell_type": "markdown",
   "id": "849806e2",
   "metadata": {},
   "source": [
    "Using this filter for boolean selection returns all the rows where the month is June."
   ]
  },
  {
   "cell_type": "code",
   "execution_count": null,
   "id": "b4fed596",
   "metadata": {},
   "outputs": [],
   "source": [
    "df[filt].head(3)"
   ]
  },
  {
   "cell_type": "code",
   "execution_count": null,
   "id": "dcf58404",
   "metadata": {},
   "outputs": [],
   "source": [
    "df[filt].tail(3)"
   ]
  },
  {
   "cell_type": "markdown",
   "id": "17792f45",
   "metadata": {},
   "source": [
    "Many other types of selections like this are possible. Let's select the 200th day of the year for each year."
   ]
  },
  {
   "cell_type": "code",
   "execution_count": null,
   "id": "a7c05599",
   "metadata": {},
   "outputs": [],
   "source": [
    "filt = df.index.dayofyear == 200\n",
    "df[filt].head()"
   ]
  },
  {
   "cell_type": "markdown",
   "id": "6dc8d2a6",
   "metadata": {},
   "source": [
    "Here, we select the 11th day of each month."
   ]
  },
  {
   "cell_type": "code",
   "execution_count": null,
   "id": "004b70dc",
   "metadata": {},
   "outputs": [],
   "source": [
    "filt = df.index.day == 11\n",
    "df[filt].head()"
   ]
  },
  {
   "cell_type": "markdown",
   "id": "77c809b0",
   "metadata": {},
   "source": [
    "Selecting every day of a certain week is a bit different. You are forced to call the `isocalendar` method which returns the year, week, and day number as DataFrame."
   ]
  },
  {
   "cell_type": "code",
   "execution_count": null,
   "id": "b32fbc2e",
   "metadata": {},
   "outputs": [],
   "source": [
    "df.index.isocalendar().head()"
   ]
  },
  {
   "cell_type": "markdown",
   "id": "c5b333f4",
   "metadata": {},
   "source": [
    "Using this DataFrame, select the week as a Series and test equality against a particular week number. Here, all rows within week 22 for all years are returned."
   ]
  },
  {
   "cell_type": "code",
   "execution_count": null,
   "id": "da5dac7c",
   "metadata": {},
   "outputs": [],
   "source": [
    "filt = df.index.isocalendar()['week'] == 22\n",
    "df[filt].head(10)"
   ]
  },
  {
   "cell_type": "markdown",
   "id": "73ce51fb",
   "metadata": {},
   "source": [
    "You can even test for multiple values with the `isin` method. Here, we select the 5th, 10th, and 15th values of each month."
   ]
  },
  {
   "cell_type": "code",
   "execution_count": null,
   "id": "79ce0e8c",
   "metadata": {},
   "outputs": [],
   "source": [
    "filt = df.index.day.isin([5, 10, 15])\n",
    "df[filt].head(10)"
   ]
  },
  {
   "cell_type": "markdown",
   "id": "71445652",
   "metadata": {},
   "source": [
    "## Shifting the data\n",
    "\n",
    "It's possible to shift the data up or down by any number of rows or by specific frequencies using offset aliases with the `shift` method. Pass an **integer** to the `shift` method to move the data up/down by a specific number of rows, keeping the index the same. Here, we shift the first three rows down. The original last three rows are removed from the DataFrame."
   ]
  },
  {
   "cell_type": "code",
   "execution_count": null,
   "id": "23b03cbd",
   "metadata": {},
   "outputs": [],
   "source": [
    "df.shift(3).head()"
   ]
  },
  {
   "cell_type": "markdown",
   "id": "d077e80b",
   "metadata": {},
   "source": [
    "Shifting using negative integers is possible. Here, we shift the data up one row. The original first row is no longer part of the DataFrame."
   ]
  },
  {
   "cell_type": "code",
   "execution_count": null,
   "id": "77ac43fa",
   "metadata": {},
   "outputs": [],
   "source": [
    "df.shift(-1).head(3)"
   ]
  },
  {
   "cell_type": "markdown",
   "id": "964a3028",
   "metadata": {},
   "source": [
    "The last row is now missing."
   ]
  },
  {
   "cell_type": "code",
   "execution_count": null,
   "id": "bf9043e1",
   "metadata": {},
   "outputs": [],
   "source": [
    "df.shift(-1).tail(3)"
   ]
  },
  {
   "cell_type": "markdown",
   "id": "247aa45a",
   "metadata": {},
   "source": [
    "### Shifting the dates in the index\n",
    "\n",
    "The DatetimeIndex can be shifted up or down by a specific frequency using an offset alias, which is passed as a string as the second argument in the `shift` method. This will NOT cause the data itself to shift, just the index. To help better understand what is happening, a new column containing the original date will be inserted as the first column in the DataFrame."
   ]
  },
  {
   "cell_type": "code",
   "execution_count": null,
   "id": "c0c728ae",
   "metadata": {},
   "outputs": [],
   "source": [
    "df.insert(0, 'original date', df.index)\n",
    "df.head(3)"
   ]
  },
  {
   "cell_type": "markdown",
   "id": "716375e5",
   "metadata": {},
   "source": [
    " Let's begin by shifting the index up five hours."
   ]
  },
  {
   "cell_type": "code",
   "execution_count": null,
   "id": "c0def9b1",
   "metadata": {},
   "outputs": [],
   "source": [
    "df.shift(5, 'H').head(3)"
   ]
  },
  {
   "cell_type": "markdown",
   "id": "e5df4cde",
   "metadata": {},
   "source": [
    "Here we shift the index back ten days."
   ]
  },
  {
   "cell_type": "code",
   "execution_count": null,
   "id": "496ee1ef",
   "metadata": {},
   "outputs": [],
   "source": [
    "df.shift(-10, 'D').head(3)"
   ]
  },
  {
   "cell_type": "markdown",
   "id": "d3082100",
   "metadata": {},
   "source": [
    "### Caution when shifting by week, month, quarter, or year\n",
    "\n",
    "It's possible to shift by any number of weeks, months, quarters, or years, but care must be taken for those dates on the start or end of the particular time period shifted. Below, we shift up by one week anchored to Friday. Instead of all of the dates incrementing by 7 days, they get rounded up to the nearest Friday. \n",
    "\n",
    "Notice that October 29, 1999 was a Friday. The four trading days before this date are shifted up to October 29, 1999. But, October 29, 1999 itself is moved up to the next Friday, November 5, 1999. This is counterintuitive to me, as I would expect each Friday to remain together in the same week with the other days. November 5, 1999 is also a Friday and is shifted up to the next Friday."
   ]
  },
  {
   "cell_type": "code",
   "execution_count": null,
   "id": "07faca01",
   "metadata": {},
   "outputs": [],
   "source": [
    "df.shift(1, 'W-FRI').head(10)"
   ]
  },
  {
   "cell_type": "markdown",
   "id": "adf849ac",
   "metadata": {},
   "source": [
    "The same thing happens when shifting by months, quarters, or years. Here, we shift up 1 month and see that all days in November get shifted up to the end of the month except the last day, November 30th, which gets shifted up to December 31st."
   ]
  },
  {
   "cell_type": "code",
   "execution_count": null,
   "id": "7e6648cb",
   "metadata": {},
   "outputs": [],
   "source": [
    "df.loc['1999-11-24':'1999-12-2'].shift(1, 'M')"
   ]
  },
  {
   "cell_type": "markdown",
   "id": "50dec731",
   "metadata": {},
   "source": [
    "### Converting to a period and then shifting\n",
    "\n",
    "It may be more intuitive to first convert the dates in the index to period objects when shifting by weeks, months, quarters, or years. The `to_period` method is available directly from DataFrame with a DatetimeIndex. Below, we pass it the offset alias to convert it to a week time period ending on a Friday. The two rows at the end of the week (October 29th and November 5th) remain in their week and are not moved up to the next week as was done with shift."
   ]
  },
  {
   "cell_type": "code",
   "execution_count": null,
   "id": "84097f2f",
   "metadata": {},
   "outputs": [],
   "source": [
    "df2 = df.to_period('W-Fri')\n",
    "df2.head(10)"
   ]
  },
  {
   "cell_type": "markdown",
   "id": "90b22108",
   "metadata": {},
   "source": [
    "The index can now be shifted up 1 week with the `shift` method. I find this procedure more intuitive than using `shift` directly."
   ]
  },
  {
   "cell_type": "code",
   "execution_count": null,
   "id": "3b910f0c",
   "metadata": {},
   "outputs": [],
   "source": [
    "df2.shift(1, 'W-Fri').head(10)"
   ]
  },
  {
   "cell_type": "markdown",
   "id": "d51d06c9",
   "metadata": {},
   "source": [
    "### The PeriodIndex\n",
    "\n",
    "The index object is now a PeriodIndex and has similar attributes and methods as a DatetimeIndex."
   ]
  },
  {
   "cell_type": "code",
   "execution_count": null,
   "id": "88d2af57",
   "metadata": {},
   "outputs": [],
   "source": [
    "df2.index[:5]"
   ]
  },
  {
   "cell_type": "markdown",
   "id": "8aa3de40",
   "metadata": {},
   "source": [
    "Convert the DataFrame back to one with a DatetimeIndex with the `to_timestamp` method."
   ]
  },
  {
   "cell_type": "code",
   "execution_count": null,
   "id": "bf8fcadc",
   "metadata": {},
   "outputs": [],
   "source": [
    "df2.shift(1, 'W-Fri').to_timestamp().head()"
   ]
  },
  {
   "cell_type": "markdown",
   "id": "16f89bbb",
   "metadata": {},
   "source": [
    "## Creating date ranges\n",
    "\n",
    "The `pd.date_range` function (not a method) allows you to create a different sequences of datetimes. The resulting object will always be a DatetimeInex. Pass it a start and end date as strings to create all the days between the two values. Here we create seven datetimes beginning on June 10, 2021 and ending on June 16, 2021."
   ]
  },
  {
   "cell_type": "code",
   "execution_count": null,
   "id": "d4105f08",
   "metadata": {},
   "outputs": [],
   "source": [
    "pd.date_range('2021-6-10', '2021-6-16')"
   ]
  },
  {
   "cell_type": "markdown",
   "id": "8a1f7fb4",
   "metadata": {},
   "source": [
    "Set the `freq` parameter to an offset alias to create equally spaced timestamps between the start and end date. By default, `freq` is set to one day."
   ]
  },
  {
   "cell_type": "code",
   "execution_count": null,
   "id": "3fb87cb2",
   "metadata": {},
   "outputs": [],
   "source": [
    "pd.date_range('2021-6-10', '2021-6-12', freq='6H')"
   ]
  },
  {
   "cell_type": "markdown",
   "id": "90ecfbe9",
   "metadata": {},
   "source": [
    "Set the `periods` parameter to an integer to control the number of timestamps produced. When doing so, you are only allowed to use either a start or end date."
   ]
  },
  {
   "cell_type": "code",
   "execution_count": null,
   "id": "1c521eea",
   "metadata": {},
   "outputs": [],
   "source": [
    "pd.date_range('2021-6-10', periods=4)"
   ]
  },
  {
   "cell_type": "markdown",
   "id": "9f262a0e",
   "metadata": {},
   "source": [
    "Here we use June 10, 2021 as the end date and create four periods that are 18 seconds apart."
   ]
  },
  {
   "cell_type": "code",
   "execution_count": null,
   "id": "4a416488",
   "metadata": {},
   "outputs": [],
   "source": [
    "pd.date_range(end='2021-6-10', periods=4, freq='18s')"
   ]
  },
  {
   "cell_type": "markdown",
   "id": "bd29145e",
   "metadata": {},
   "source": [
    "### Timedelta ranges\n",
    "\n",
    "The `pd.timedelta_range` works similarly to create sequences of timedeltas which result in a TimedeltaIndex. Here, we create timedeltas every 30 minutes beginning at 8 hours and ending at 17 and a half hours."
   ]
  },
  {
   "cell_type": "code",
   "execution_count": null,
   "id": "285a4765",
   "metadata": {},
   "outputs": [],
   "source": [
    "pd.timedelta_range('8:00:00', '17:30:00', freq='30min')"
   ]
  },
  {
   "cell_type": "markdown",
   "id": "cf0dc44a",
   "metadata": {},
   "source": [
    "For specific frequencies not available using offset aliases, create a Timedelta object. Here, we create the first 10 timedeltas after 8 hours separated by 15.6 seconds."
   ]
  },
  {
   "cell_type": "code",
   "execution_count": null,
   "id": "7d683df3",
   "metadata": {
    "scrolled": true
   },
   "outputs": [],
   "source": [
    "pd.timedelta_range('8:00:00', freq=pd.Timedelta('15.6s'), periods=10)"
   ]
  },
  {
   "cell_type": "markdown",
   "id": "92086877",
   "metadata": {},
   "source": [
    "### Period ranges\n",
    "\n",
    "As you might expect, a `period_range` function exists to create sequences of periods in the same manner."
   ]
  },
  {
   "cell_type": "code",
   "execution_count": null,
   "id": "4d46a935",
   "metadata": {},
   "outputs": [],
   "source": [
    "pd.period_range('2010-1-1', periods=20, freq='M')"
   ]
  },
  {
   "cell_type": "markdown",
   "id": "338b2773",
   "metadata": {},
   "source": [
    "## Exercises\n",
    "\n",
    "Continue using the stocks dataset for the following exercises."
   ]
  },
  {
   "cell_type": "markdown",
   "id": "8540b693",
   "metadata": {},
   "source": [
    "### Exercise 1\n",
    "\n",
    "<span style=\"color:green; font-size:16px\">Select the first three trading days of every sixth year.</span>"
   ]
  },
  {
   "cell_type": "code",
   "execution_count": null,
   "id": "77deb349",
   "metadata": {},
   "outputs": [],
   "source": []
  },
  {
   "cell_type": "markdown",
   "id": "54492d2b",
   "metadata": {},
   "source": [
    "### Exercise 2\n",
    "\n",
    "<span style=\"color:green; font-size:16px\">Select the Wednesday in the 19th week of all the leap years.</span>"
   ]
  },
  {
   "cell_type": "code",
   "execution_count": null,
   "id": "edbab3d1",
   "metadata": {},
   "outputs": [],
   "source": []
  },
  {
   "cell_type": "markdown",
   "id": "06c1d467",
   "metadata": {},
   "source": [
    "### Exercise 3\n",
    "\n",
    "<span style=\"color:green; font-size:16px\">Shift all dates in the index up three weeks ending on Sunday.</span>"
   ]
  },
  {
   "cell_type": "code",
   "execution_count": null,
   "id": "e0c6eb9d",
   "metadata": {},
   "outputs": [],
   "source": []
  },
  {
   "cell_type": "markdown",
   "id": "b1ee3184",
   "metadata": {},
   "source": [
    "### Exercise 4\n",
    "\n",
    "<span style=\"color:green; font-size:16px\">Create a DatetimeIndex object containing every Friday in the year 2021.</span>"
   ]
  },
  {
   "cell_type": "code",
   "execution_count": null,
   "id": "620e1996",
   "metadata": {},
   "outputs": [],
   "source": []
  },
  {
   "cell_type": "markdown",
   "id": "a4a7a6e7",
   "metadata": {},
   "source": [
    "### Exercise 5\n",
    "\n",
    "<span style=\"color:green; font-size:16px\">Starting from January 1, 1900, create 20 timestamps separated by 57 days each.</span>"
   ]
  },
  {
   "cell_type": "code",
   "execution_count": null,
   "id": "fcad04bd",
   "metadata": {},
   "outputs": [],
   "source": []
  },
  {
   "cell_type": "markdown",
   "id": "00a8ecdd",
   "metadata": {},
   "source": [
    "### Exercise 6\n",
    "\n",
    "<span style=\"color:green; font-size:16px\">Using January 1, 2021 as the end date. Find the previous 15 timestamps separated by 23 month starts</span>"
   ]
  },
  {
   "cell_type": "code",
   "execution_count": null,
   "id": "354f79df",
   "metadata": {},
   "outputs": [],
   "source": []
  },
  {
   "cell_type": "markdown",
   "id": "0cfd7312",
   "metadata": {},
   "source": [
    "### Exercise 7\n",
    "\n",
    "<span style=\"color:green; font-size:16px\">You are running an experiment beginning at 8:32 a.m. and concluding at 4 p.m. You need to check in on it every 19 minutes. Create a TimedeltaIndex of the check-in times.</span>"
   ]
  },
  {
   "cell_type": "code",
   "execution_count": null,
   "id": "861059f4",
   "metadata": {},
   "outputs": [],
   "source": []
  }
 ],
 "metadata": {
  "kernelspec": {
   "display_name": "Python 3",
   "language": "python",
   "name": "python3"
  },
  "language_info": {
   "codemirror_mode": {
    "name": "ipython",
    "version": 3
   },
   "file_extension": ".py",
   "mimetype": "text/x-python",
   "name": "python",
   "nbconvert_exporter": "python",
   "pygments_lexer": "ipython3",
   "version": "3.8.10"
  }
 },
 "nbformat": 4,
 "nbformat_minor": 5
}
