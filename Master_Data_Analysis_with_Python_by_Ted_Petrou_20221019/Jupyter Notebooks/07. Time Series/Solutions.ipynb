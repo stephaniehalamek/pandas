{
 "cells": [
  {
   "cell_type": "markdown",
   "metadata": {},
   "source": [
    "# Solutions"
   ]
  },
  {
   "cell_type": "markdown",
   "metadata": {
    "tags": [
     "ignore"
    ]
   },
   "source": [
    "1. [Datetime and Timedelta](#1.-Datetime,-Timedelta,-and-Period-Objects)\n",
    "1. [Selecting Time Series Data](#2.-Selecting-Time-Series-Data)\n",
    "1. [Grouping by Time](#3.-Grouping-by-Time)\n",
    "1. [Rolling Windows](#4.-Rolling-Windows)\n",
    "1. [Grouping by Time and another Column](#5.-Grouping-by-Time-and-another-Column)\n",
    "1. [More Time Series Functionality](#6.-More-Time-Series-Functionality)"
   ]
  },
  {
   "cell_type": "markdown",
   "metadata": {},
   "source": [
    "## 1. Datetime, Timedelta, and Period Objects"
   ]
  },
  {
   "cell_type": "code",
   "execution_count": 1,
   "metadata": {},
   "outputs": [],
   "source": [
    "import pandas as pd"
   ]
  },
  {
   "cell_type": "markdown",
   "metadata": {},
   "source": [
    "### Exercise 1\n",
    "\n",
    "<span style=\"color:green; font-size:16px\">What day of the week was Jan 15, 1997?</span>"
   ]
  },
  {
   "cell_type": "code",
   "execution_count": 2,
   "metadata": {},
   "outputs": [
    {
     "data": {
      "text/plain": [
       "'Wednesday'"
      ]
     },
     "execution_count": 2,
     "metadata": {},
     "output_type": "execute_result"
    }
   ],
   "source": [
    "dt = pd.to_datetime('Jan 15, 1997')\n",
    "dt.day_name()"
   ]
  },
  {
   "cell_type": "markdown",
   "metadata": {},
   "source": [
    "### Exercise 2\n",
    "\n",
    "<span style=\"color:green; font-size:16px\">Was 1924 a leap year?</span>"
   ]
  },
  {
   "cell_type": "code",
   "execution_count": 3,
   "metadata": {},
   "outputs": [
    {
     "data": {
      "text/plain": [
       "True"
      ]
     },
     "execution_count": 3,
     "metadata": {},
     "output_type": "execute_result"
    }
   ],
   "source": [
    "dt = pd.to_datetime('Jan 1, 1924')\n",
    "dt.is_leap_year"
   ]
  },
  {
   "cell_type": "markdown",
   "metadata": {},
   "source": [
    "### Exercise 3\n",
    "\n",
    "<span style=\"color:green; font-size:16px\">What year will it be 1 million hours after the UNIX epoch?</span>"
   ]
  },
  {
   "cell_type": "code",
   "execution_count": 4,
   "metadata": {},
   "outputs": [
    {
     "data": {
      "text/plain": [
       "Timestamp('2084-01-29 16:00:00')"
      ]
     },
     "execution_count": 4,
     "metadata": {},
     "output_type": "execute_result"
    }
   ],
   "source": [
    "dt = pd.to_datetime(1_000_000, unit='h')\n",
    "dt"
   ]
  },
  {
   "cell_type": "code",
   "execution_count": 5,
   "metadata": {},
   "outputs": [
    {
     "data": {
      "text/plain": [
       "2084"
      ]
     },
     "execution_count": 5,
     "metadata": {},
     "output_type": "execute_result"
    }
   ],
   "source": [
    "dt.year"
   ]
  },
  {
   "cell_type": "markdown",
   "metadata": {},
   "source": [
    "### Exercise 4\n",
    "\n",
    "<span style=\"color:green; font-size:16px\">Create the datetime July 20, 1969 at 2:56 a.m. and 15 seconds.</span>"
   ]
  },
  {
   "cell_type": "code",
   "execution_count": 6,
   "metadata": {},
   "outputs": [
    {
     "data": {
      "text/plain": [
       "Timestamp('1969-07-20 02:56:15')"
      ]
     },
     "execution_count": 6,
     "metadata": {},
     "output_type": "execute_result"
    }
   ],
   "source": [
    "dt = pd.to_datetime('1969-07-20 2:56:15')\n",
    "dt"
   ]
  },
  {
   "cell_type": "markdown",
   "metadata": {},
   "source": [
    "### Exercise 5\n",
    "\n",
    "<span style=\"color:green; font-size:16px\">Neil Armstrong stepped on the moon at the time in the last Exercise. How many days have passed since that happened? Use the string 'today' when creating your datetime.</span>"
   ]
  },
  {
   "cell_type": "code",
   "execution_count": 7,
   "metadata": {},
   "outputs": [
    {
     "data": {
      "text/plain": [
       "Timestamp('2021-07-01 16:03:51.834463')"
      ]
     },
     "execution_count": 7,
     "metadata": {},
     "output_type": "execute_result"
    }
   ],
   "source": [
    "dt1 = pd.to_datetime('1969-07-20 2:56:15')\n",
    "dt2 = pd.to_datetime('today')\n",
    "dt2"
   ]
  },
  {
   "cell_type": "code",
   "execution_count": 8,
   "metadata": {},
   "outputs": [
    {
     "data": {
      "text/plain": [
       "Timedelta('18974 days 13:07:36.834463')"
      ]
     },
     "execution_count": 8,
     "metadata": {},
     "output_type": "execute_result"
    }
   ],
   "source": [
    "td = dt2 - dt1\n",
    "td"
   ]
  },
  {
   "cell_type": "code",
   "execution_count": 9,
   "metadata": {},
   "outputs": [
    {
     "data": {
      "text/plain": [
       "18974"
      ]
     },
     "execution_count": 9,
     "metadata": {},
     "output_type": "execute_result"
    }
   ],
   "source": [
    "td.days"
   ]
  },
  {
   "cell_type": "markdown",
   "metadata": {},
   "source": [
    "### Exercise 6\n",
    "\n",
    "<span style=\"color:green; font-size:16px\">Create the Timedelta 84 hours and 17 minutes with both `pd.Timedelta` and `pd.to_timedelta` and verify that they are equal.</span>"
   ]
  },
  {
   "cell_type": "code",
   "execution_count": 10,
   "metadata": {},
   "outputs": [
    {
     "data": {
      "text/plain": [
       "True"
      ]
     },
     "execution_count": 10,
     "metadata": {},
     "output_type": "execute_result"
    }
   ],
   "source": [
    "pd.Timedelta('84:17:00') == pd.to_timedelta('84:17:00')"
   ]
  },
  {
   "cell_type": "markdown",
   "metadata": {},
   "source": [
    "### Exercise 7\n",
    "\n",
    "<span style=\"color:green; font-size:16px\">Which is larger 5,206 days or 123,000 hours?</span>"
   ]
  },
  {
   "cell_type": "code",
   "execution_count": 11,
   "metadata": {},
   "outputs": [],
   "source": [
    "td1 = pd.to_timedelta(5_206, unit='d')\n",
    "td2 = pd.to_timedelta(123_000, unit='h')"
   ]
  },
  {
   "cell_type": "code",
   "execution_count": 12,
   "metadata": {},
   "outputs": [
    {
     "data": {
      "text/plain": [
       "Timedelta('5206 days 00:00:00')"
      ]
     },
     "execution_count": 12,
     "metadata": {},
     "output_type": "execute_result"
    }
   ],
   "source": [
    "td1"
   ]
  },
  {
   "cell_type": "code",
   "execution_count": 13,
   "metadata": {},
   "outputs": [
    {
     "data": {
      "text/plain": [
       "Timedelta('5125 days 00:00:00')"
      ]
     },
     "execution_count": 13,
     "metadata": {},
     "output_type": "execute_result"
    }
   ],
   "source": [
    "td2"
   ]
  },
  {
   "cell_type": "code",
   "execution_count": 14,
   "metadata": {},
   "outputs": [
    {
     "data": {
      "text/plain": [
       "True"
      ]
     },
     "execution_count": 14,
     "metadata": {},
     "output_type": "execute_result"
    }
   ],
   "source": [
    "td1 > td2"
   ]
  },
  {
   "cell_type": "markdown",
   "metadata": {},
   "source": [
    "### Exercise 8\n",
    "\n",
    "<span style=\"color:green; font-size:16px\">Take a look at the `pd.Timestamp` docstring. Each component (year, month, day, etc...) is available as a parameter in the constructor. Use the parameters to create a time stamp that has a non-zero value for each component.</span>"
   ]
  },
  {
   "cell_type": "code",
   "execution_count": 15,
   "metadata": {},
   "outputs": [
    {
     "data": {
      "text/plain": [
       "Timestamp('2018-12-05 17:55:03.001534')"
      ]
     },
     "execution_count": 15,
     "metadata": {},
     "output_type": "execute_result"
    }
   ],
   "source": [
    "pd.Timestamp(year=2018, month=12, day=5, hour=17, minute=55, \n",
    "             second=3, microsecond=1534)"
   ]
  },
  {
   "cell_type": "markdown",
   "metadata": {},
   "source": [
    "### Exercise 9\n",
    "\n",
    "<span style=\"color:green; font-size:16px\">Convert the given string to a datetime.</span>"
   ]
  },
  {
   "cell_type": "code",
   "execution_count": 16,
   "metadata": {},
   "outputs": [],
   "source": [
    "s = 'month=10 year=2021 day=19 hour=6 minute=23'"
   ]
  },
  {
   "cell_type": "code",
   "execution_count": 17,
   "metadata": {},
   "outputs": [
    {
     "data": {
      "text/plain": [
       "Timestamp('2021-10-19 06:23:00')"
      ]
     },
     "execution_count": 17,
     "metadata": {},
     "output_type": "execute_result"
    }
   ],
   "source": [
    "pd.to_datetime(s, format='month=%m year=%Y day=%d hour=%H minute=%M')"
   ]
  },
  {
   "cell_type": "markdown",
   "metadata": {},
   "source": [
    "### Exercise 10\n",
    "\n",
    "<span style=\"color:green; font-size:16px\">How many seconds elapsed from Feb 23, 2018 at 5:45 pm until Dec 14, 2020 at 7:32 am</span>"
   ]
  },
  {
   "cell_type": "code",
   "execution_count": 18,
   "metadata": {},
   "outputs": [
    {
     "data": {
      "text/plain": [
       "Timedelta('1025 days 01:47:00')"
      ]
     },
     "execution_count": 18,
     "metadata": {},
     "output_type": "execute_result"
    }
   ],
   "source": [
    "ts1 = pd.Timestamp('Feb 23, 2018 5:45 pm')\n",
    "ts2 = pd.Timestamp('Dec 14, 2020 7:32 pm')\n",
    "td = ts2 - ts1\n",
    "td"
   ]
  },
  {
   "cell_type": "code",
   "execution_count": 19,
   "metadata": {},
   "outputs": [
    {
     "data": {
      "text/plain": [
       "88566420.0"
      ]
     },
     "execution_count": 19,
     "metadata": {},
     "output_type": "execute_result"
    }
   ],
   "source": [
    "td.total_seconds()"
   ]
  },
  {
   "cell_type": "code",
   "execution_count": 20,
   "metadata": {},
   "outputs": [
    {
     "data": {
      "text/plain": [
       "8"
      ]
     },
     "execution_count": 20,
     "metadata": {},
     "output_type": "execute_result"
    }
   ],
   "source": [
    "ts1.weekofyear"
   ]
  },
  {
   "cell_type": "markdown",
   "metadata": {},
   "source": [
    "### Exercise 11\n",
    "\n",
    "<span style=\"color:green; font-size:16px\">What day of the year is October 11 on a leap year?</span>"
   ]
  },
  {
   "cell_type": "code",
   "execution_count": 21,
   "metadata": {},
   "outputs": [
    {
     "data": {
      "text/plain": [
       "True"
      ]
     },
     "execution_count": 21,
     "metadata": {},
     "output_type": "execute_result"
    }
   ],
   "source": [
    "ts = pd.Timestamp('October 11, 2000')\n",
    "ts.is_leap_year"
   ]
  },
  {
   "cell_type": "code",
   "execution_count": 22,
   "metadata": {},
   "outputs": [
    {
     "data": {
      "text/plain": [
       "285"
      ]
     },
     "execution_count": 22,
     "metadata": {},
     "output_type": "execute_result"
    }
   ],
   "source": [
    "ts.dayofyear"
   ]
  },
  {
   "cell_type": "markdown",
   "metadata": {},
   "source": [
    "### Exercise 12\n",
    "\n",
    "<span style=\"color:green; font-size:16px\">What was the date and time 198 hours and 33 minutes past December 3, 2020 at 5:15 pm </span>"
   ]
  },
  {
   "cell_type": "code",
   "execution_count": 23,
   "metadata": {},
   "outputs": [],
   "source": [
    "ts = pd.Timestamp('December 3, 2020 5:15 pm')\n",
    "td = pd.Timedelta('198:33:00')"
   ]
  },
  {
   "cell_type": "code",
   "execution_count": 24,
   "metadata": {},
   "outputs": [
    {
     "data": {
      "text/plain": [
       "Timestamp('2020-12-11 23:48:00')"
      ]
     },
     "execution_count": 24,
     "metadata": {},
     "output_type": "execute_result"
    }
   ],
   "source": [
    "ts + td"
   ]
  },
  {
   "cell_type": "markdown",
   "metadata": {},
   "source": [
    "### Exercise 13\n",
    "\n",
    "<span style=\"color:green; font-size:16px\">It takes painter A 3 days 14 hours and 38 minutes to paint a house. Painter B takes 9 hours and 56 minutes to paint the same house. How many houses of the same size can painter B paint in the time it takes painter A to paint one.</span>"
   ]
  },
  {
   "cell_type": "code",
   "execution_count": 25,
   "metadata": {},
   "outputs": [],
   "source": [
    "td1 = pd.Timedelta('3 days 14:38:00')\n",
    "td2 = pd.Timedelta('9:56:00')"
   ]
  },
  {
   "cell_type": "code",
   "execution_count": 26,
   "metadata": {},
   "outputs": [
    {
     "data": {
      "text/plain": [
       "8"
      ]
     },
     "execution_count": 26,
     "metadata": {},
     "output_type": "execute_result"
    }
   ],
   "source": [
    "int(td1 / td2)"
   ]
  },
  {
   "cell_type": "markdown",
   "metadata": {},
   "source": [
    "### Exercise 14\n",
    "\n",
    "<span style=\"color:green; font-size:16px\">The following string represents June 3rd, 2020. Convert it to the correct datetime.</span>"
   ]
  },
  {
   "cell_type": "code",
   "execution_count": 27,
   "metadata": {},
   "outputs": [],
   "source": [
    "s = '3/6/2020'"
   ]
  },
  {
   "cell_type": "code",
   "execution_count": 28,
   "metadata": {},
   "outputs": [
    {
     "data": {
      "text/plain": [
       "Timestamp('2020-06-03 00:00:00')"
      ]
     },
     "execution_count": 28,
     "metadata": {},
     "output_type": "execute_result"
    }
   ],
   "source": [
    "pd.to_datetime(s, dayfirst=True)"
   ]
  },
  {
   "cell_type": "markdown",
   "metadata": {},
   "source": [
    "### Exercise 15\n",
    "\n",
    "<span style=\"color:green; font-size:16px\">Create a Period object for the entire minute of 2:32 pm on October 11, 2020.</span>"
   ]
  },
  {
   "cell_type": "code",
   "execution_count": 29,
   "metadata": {},
   "outputs": [
    {
     "data": {
      "text/plain": [
       "Period('2020-10-11 14:32', 'T')"
      ]
     },
     "execution_count": 29,
     "metadata": {},
     "output_type": "execute_result"
    }
   ],
   "source": [
    "pd.Period('2020-10-11 2:32 pm')"
   ]
  },
  {
   "cell_type": "markdown",
   "metadata": {},
   "source": [
    "### Exercise 16\n",
    "\n",
    "<span style=\"color:green; font-size:16px\">The City of Houston employee data was retrieved on June 1, 2019. Can you calculate the exact amount of years of experience and assign as a new column named `experience`?</span>"
   ]
  },
  {
   "cell_type": "code",
   "execution_count": 30,
   "metadata": {},
   "outputs": [],
   "source": [
    "emp = pd.read_csv('../data/employee.csv', parse_dates=['hire_date'])"
   ]
  },
  {
   "cell_type": "markdown",
   "metadata": {},
   "source": [
    "One year is approximately 365.25 days."
   ]
  },
  {
   "cell_type": "code",
   "execution_count": 31,
   "metadata": {},
   "outputs": [],
   "source": [
    "pull_date = pd.to_datetime('2019-6-1')\n",
    "one_year = pd.to_timedelta(365.25, unit='D')"
   ]
  },
  {
   "cell_type": "code",
   "execution_count": 32,
   "metadata": {},
   "outputs": [
    {
     "data": {
      "text/plain": [
       "Timestamp('2019-06-01 00:00:00')"
      ]
     },
     "execution_count": 32,
     "metadata": {},
     "output_type": "execute_result"
    }
   ],
   "source": [
    "pull_date"
   ]
  },
  {
   "cell_type": "code",
   "execution_count": 33,
   "metadata": {},
   "outputs": [
    {
     "data": {
      "text/plain": [
       "Timedelta('365 days 06:00:00')"
      ]
     },
     "execution_count": 33,
     "metadata": {},
     "output_type": "execute_result"
    }
   ],
   "source": [
    "one_year"
   ]
  },
  {
   "cell_type": "code",
   "execution_count": 34,
   "metadata": {
    "scrolled": true
   },
   "outputs": [
    {
     "data": {
      "text/html": [
       "<div>\n",
       "<style scoped>\n",
       "    .dataframe tbody tr th:only-of-type {\n",
       "        vertical-align: middle;\n",
       "    }\n",
       "\n",
       "    .dataframe tbody tr th {\n",
       "        vertical-align: top;\n",
       "    }\n",
       "\n",
       "    .dataframe thead th {\n",
       "        text-align: right;\n",
       "    }\n",
       "</style>\n",
       "<table border=\"1\" class=\"dataframe\">\n",
       "  <thead>\n",
       "    <tr style=\"text-align: right;\">\n",
       "      <th></th>\n",
       "      <th>dept</th>\n",
       "      <th>title</th>\n",
       "      <th>hire_date</th>\n",
       "      <th>salary</th>\n",
       "      <th>sex</th>\n",
       "      <th>race</th>\n",
       "      <th>experience</th>\n",
       "    </tr>\n",
       "  </thead>\n",
       "  <tbody>\n",
       "    <tr>\n",
       "      <th>0</th>\n",
       "      <td>Police</td>\n",
       "      <td>POLICE SERGEANT</td>\n",
       "      <td>2001-12-03</td>\n",
       "      <td>87545.38</td>\n",
       "      <td>Male</td>\n",
       "      <td>White</td>\n",
       "      <td>17.492129</td>\n",
       "    </tr>\n",
       "    <tr>\n",
       "      <th>1</th>\n",
       "      <td>Other</td>\n",
       "      <td>ASSISTANT CITY ATTORNEY II</td>\n",
       "      <td>2010-11-15</td>\n",
       "      <td>82182.00</td>\n",
       "      <td>Male</td>\n",
       "      <td>Hispanic</td>\n",
       "      <td>8.542094</td>\n",
       "    </tr>\n",
       "    <tr>\n",
       "      <th>2</th>\n",
       "      <td>Houston Public Works</td>\n",
       "      <td>SENIOR SLUDGE PROCESSOR</td>\n",
       "      <td>2006-01-09</td>\n",
       "      <td>49275.00</td>\n",
       "      <td>Male</td>\n",
       "      <td>Black</td>\n",
       "      <td>13.390828</td>\n",
       "    </tr>\n",
       "    <tr>\n",
       "      <th>3</th>\n",
       "      <td>Police</td>\n",
       "      <td>SENIOR POLICE OFFICER</td>\n",
       "      <td>1997-05-27</td>\n",
       "      <td>75942.10</td>\n",
       "      <td>Male</td>\n",
       "      <td>Hispanic</td>\n",
       "      <td>22.012320</td>\n",
       "    </tr>\n",
       "    <tr>\n",
       "      <th>4</th>\n",
       "      <td>Police</td>\n",
       "      <td>SENIOR POLICE OFFICER</td>\n",
       "      <td>2006-01-23</td>\n",
       "      <td>69355.26</td>\n",
       "      <td>Male</td>\n",
       "      <td>White</td>\n",
       "      <td>13.352498</td>\n",
       "    </tr>\n",
       "  </tbody>\n",
       "</table>\n",
       "</div>"
      ],
      "text/plain": [
       "                   dept                       title  hire_date    salary  \\\n",
       "0                Police             POLICE SERGEANT 2001-12-03  87545.38   \n",
       "1                 Other  ASSISTANT CITY ATTORNEY II 2010-11-15  82182.00   \n",
       "2  Houston Public Works     SENIOR SLUDGE PROCESSOR 2006-01-09  49275.00   \n",
       "3                Police       SENIOR POLICE OFFICER 1997-05-27  75942.10   \n",
       "4                Police       SENIOR POLICE OFFICER 2006-01-23  69355.26   \n",
       "\n",
       "    sex      race  experience  \n",
       "0  Male     White   17.492129  \n",
       "1  Male  Hispanic    8.542094  \n",
       "2  Male     Black   13.390828  \n",
       "3  Male  Hispanic   22.012320  \n",
       "4  Male     White   13.352498  "
      ]
     },
     "execution_count": 34,
     "metadata": {},
     "output_type": "execute_result"
    }
   ],
   "source": [
    "emp['experience'] = (pull_date - emp['hire_date']) / one_year\n",
    "emp.head()"
   ]
  },
  {
   "cell_type": "markdown",
   "metadata": {},
   "source": [
    "## 2. Selecting Time Series Data"
   ]
  },
  {
   "cell_type": "markdown",
   "metadata": {},
   "source": [
    "### Exercise 1\n",
    "\n",
    "<span style=\"color:green; font-size:16px\">Read in the weather time series dataset and place the date column in the index. Then use this DataFrame for the following questions.</span>"
   ]
  },
  {
   "cell_type": "code",
   "execution_count": 35,
   "metadata": {},
   "outputs": [
    {
     "data": {
      "text/html": [
       "<div>\n",
       "<style scoped>\n",
       "    .dataframe tbody tr th:only-of-type {\n",
       "        vertical-align: middle;\n",
       "    }\n",
       "\n",
       "    .dataframe tbody tr th {\n",
       "        vertical-align: top;\n",
       "    }\n",
       "\n",
       "    .dataframe thead th {\n",
       "        text-align: right;\n",
       "    }\n",
       "</style>\n",
       "<table border=\"1\" class=\"dataframe\">\n",
       "  <thead>\n",
       "    <tr style=\"text-align: right;\">\n",
       "      <th></th>\n",
       "      <th>rain</th>\n",
       "      <th>snow</th>\n",
       "      <th>temperature</th>\n",
       "    </tr>\n",
       "    <tr>\n",
       "      <th>date</th>\n",
       "      <th></th>\n",
       "      <th></th>\n",
       "      <th></th>\n",
       "    </tr>\n",
       "  </thead>\n",
       "  <tbody>\n",
       "    <tr>\n",
       "      <th>2007-01-01</th>\n",
       "      <td>Yes</td>\n",
       "      <td>No</td>\n",
       "      <td>68.0</td>\n",
       "    </tr>\n",
       "    <tr>\n",
       "      <th>2007-01-02</th>\n",
       "      <td>No</td>\n",
       "      <td>No</td>\n",
       "      <td>55.9</td>\n",
       "    </tr>\n",
       "    <tr>\n",
       "      <th>2007-01-03</th>\n",
       "      <td>No</td>\n",
       "      <td>No</td>\n",
       "      <td>62.1</td>\n",
       "    </tr>\n",
       "    <tr>\n",
       "      <th>2007-01-04</th>\n",
       "      <td>No</td>\n",
       "      <td>No</td>\n",
       "      <td>69.1</td>\n",
       "    </tr>\n",
       "    <tr>\n",
       "      <th>2007-01-05</th>\n",
       "      <td>Yes</td>\n",
       "      <td>No</td>\n",
       "      <td>72.0</td>\n",
       "    </tr>\n",
       "  </tbody>\n",
       "</table>\n",
       "</div>"
      ],
      "text/plain": [
       "           rain snow  temperature\n",
       "date                             \n",
       "2007-01-01  Yes   No         68.0\n",
       "2007-01-02   No   No         55.9\n",
       "2007-01-03   No   No         62.1\n",
       "2007-01-04   No   No         69.1\n",
       "2007-01-05  Yes   No         72.0"
      ]
     },
     "execution_count": 35,
     "metadata": {},
     "output_type": "execute_result"
    }
   ],
   "source": [
    "weather = pd.read_csv('../data/weather.csv', parse_dates=['date'], index_col='date')\n",
    "weather.head()"
   ]
  },
  {
   "cell_type": "code",
   "execution_count": 36,
   "metadata": {},
   "outputs": [
    {
     "data": {
      "text/html": [
       "<div>\n",
       "<style scoped>\n",
       "    .dataframe tbody tr th:only-of-type {\n",
       "        vertical-align: middle;\n",
       "    }\n",
       "\n",
       "    .dataframe tbody tr th {\n",
       "        vertical-align: top;\n",
       "    }\n",
       "\n",
       "    .dataframe thead th {\n",
       "        text-align: right;\n",
       "    }\n",
       "</style>\n",
       "<table border=\"1\" class=\"dataframe\">\n",
       "  <thead>\n",
       "    <tr style=\"text-align: right;\">\n",
       "      <th></th>\n",
       "      <th>rain</th>\n",
       "      <th>snow</th>\n",
       "      <th>temperature</th>\n",
       "    </tr>\n",
       "    <tr>\n",
       "      <th>date</th>\n",
       "      <th></th>\n",
       "      <th></th>\n",
       "      <th></th>\n",
       "    </tr>\n",
       "  </thead>\n",
       "  <tbody>\n",
       "    <tr>\n",
       "      <th>2018-11-20</th>\n",
       "      <td>No</td>\n",
       "      <td>No</td>\n",
       "      <td>64.0</td>\n",
       "    </tr>\n",
       "    <tr>\n",
       "      <th>2018-11-21</th>\n",
       "      <td>No</td>\n",
       "      <td>No</td>\n",
       "      <td>57.0</td>\n",
       "    </tr>\n",
       "    <tr>\n",
       "      <th>2018-11-22</th>\n",
       "      <td>No</td>\n",
       "      <td>No</td>\n",
       "      <td>50.0</td>\n",
       "    </tr>\n",
       "    <tr>\n",
       "      <th>2018-11-23</th>\n",
       "      <td>No</td>\n",
       "      <td>No</td>\n",
       "      <td>45.0</td>\n",
       "    </tr>\n",
       "    <tr>\n",
       "      <th>2018-11-24</th>\n",
       "      <td>No</td>\n",
       "      <td>No</td>\n",
       "      <td>45.0</td>\n",
       "    </tr>\n",
       "  </tbody>\n",
       "</table>\n",
       "</div>"
      ],
      "text/plain": [
       "           rain snow  temperature\n",
       "date                             \n",
       "2018-11-20   No   No         64.0\n",
       "2018-11-21   No   No         57.0\n",
       "2018-11-22   No   No         50.0\n",
       "2018-11-23   No   No         45.0\n",
       "2018-11-24   No   No         45.0"
      ]
     },
     "execution_count": 36,
     "metadata": {},
     "output_type": "execute_result"
    }
   ],
   "source": [
    "weather.tail()"
   ]
  },
  {
   "cell_type": "markdown",
   "metadata": {},
   "source": [
    "### Exercise 2\n",
    "\n",
    "<span style=\"color:green; font-size:16px\">Select all of the month of November, 2010</span>"
   ]
  },
  {
   "cell_type": "code",
   "execution_count": 37,
   "metadata": {},
   "outputs": [
    {
     "data": {
      "text/html": [
       "<div>\n",
       "<style scoped>\n",
       "    .dataframe tbody tr th:only-of-type {\n",
       "        vertical-align: middle;\n",
       "    }\n",
       "\n",
       "    .dataframe tbody tr th {\n",
       "        vertical-align: top;\n",
       "    }\n",
       "\n",
       "    .dataframe thead th {\n",
       "        text-align: right;\n",
       "    }\n",
       "</style>\n",
       "<table border=\"1\" class=\"dataframe\">\n",
       "  <thead>\n",
       "    <tr style=\"text-align: right;\">\n",
       "      <th></th>\n",
       "      <th>rain</th>\n",
       "      <th>snow</th>\n",
       "      <th>temperature</th>\n",
       "    </tr>\n",
       "    <tr>\n",
       "      <th>date</th>\n",
       "      <th></th>\n",
       "      <th></th>\n",
       "      <th></th>\n",
       "    </tr>\n",
       "  </thead>\n",
       "  <tbody>\n",
       "    <tr>\n",
       "      <th>2010-11-01</th>\n",
       "      <td>No</td>\n",
       "      <td>No</td>\n",
       "      <td>63.0</td>\n",
       "    </tr>\n",
       "    <tr>\n",
       "      <th>2010-11-02</th>\n",
       "      <td>No</td>\n",
       "      <td>No</td>\n",
       "      <td>57.9</td>\n",
       "    </tr>\n",
       "    <tr>\n",
       "      <th>2010-11-03</th>\n",
       "      <td>Yes</td>\n",
       "      <td>No</td>\n",
       "      <td>55.9</td>\n",
       "    </tr>\n",
       "    <tr>\n",
       "      <th>2010-11-04</th>\n",
       "      <td>Yes</td>\n",
       "      <td>No</td>\n",
       "      <td>54.0</td>\n",
       "    </tr>\n",
       "    <tr>\n",
       "      <th>2010-11-05</th>\n",
       "      <td>Yes</td>\n",
       "      <td>No</td>\n",
       "      <td>61.0</td>\n",
       "    </tr>\n",
       "    <tr>\n",
       "      <th>2010-11-06</th>\n",
       "      <td>Yes</td>\n",
       "      <td>No</td>\n",
       "      <td>53.1</td>\n",
       "    </tr>\n",
       "    <tr>\n",
       "      <th>2010-11-07</th>\n",
       "      <td>No</td>\n",
       "      <td>No</td>\n",
       "      <td>53.1</td>\n",
       "    </tr>\n",
       "    <tr>\n",
       "      <th>2010-11-08</th>\n",
       "      <td>No</td>\n",
       "      <td>No</td>\n",
       "      <td>66.9</td>\n",
       "    </tr>\n",
       "    <tr>\n",
       "      <th>2010-11-09</th>\n",
       "      <td>No</td>\n",
       "      <td>No</td>\n",
       "      <td>73.0</td>\n",
       "    </tr>\n",
       "    <tr>\n",
       "      <th>2010-11-10</th>\n",
       "      <td>No</td>\n",
       "      <td>No</td>\n",
       "      <td>70.0</td>\n",
       "    </tr>\n",
       "    <tr>\n",
       "      <th>2010-11-11</th>\n",
       "      <td>No</td>\n",
       "      <td>No</td>\n",
       "      <td>66.0</td>\n",
       "    </tr>\n",
       "    <tr>\n",
       "      <th>2010-11-12</th>\n",
       "      <td>No</td>\n",
       "      <td>No</td>\n",
       "      <td>66.0</td>\n",
       "    </tr>\n",
       "    <tr>\n",
       "      <th>2010-11-13</th>\n",
       "      <td>No</td>\n",
       "      <td>No</td>\n",
       "      <td>69.1</td>\n",
       "    </tr>\n",
       "    <tr>\n",
       "      <th>2010-11-14</th>\n",
       "      <td>No</td>\n",
       "      <td>No</td>\n",
       "      <td>70.0</td>\n",
       "    </tr>\n",
       "    <tr>\n",
       "      <th>2010-11-15</th>\n",
       "      <td>No</td>\n",
       "      <td>No</td>\n",
       "      <td>70.0</td>\n",
       "    </tr>\n",
       "    <tr>\n",
       "      <th>2010-11-16</th>\n",
       "      <td>Yes</td>\n",
       "      <td>No</td>\n",
       "      <td>66.9</td>\n",
       "    </tr>\n",
       "    <tr>\n",
       "      <th>2010-11-17</th>\n",
       "      <td>Yes</td>\n",
       "      <td>No</td>\n",
       "      <td>64.9</td>\n",
       "    </tr>\n",
       "    <tr>\n",
       "      <th>2010-11-18</th>\n",
       "      <td>No</td>\n",
       "      <td>No</td>\n",
       "      <td>62.1</td>\n",
       "    </tr>\n",
       "    <tr>\n",
       "      <th>2010-11-19</th>\n",
       "      <td>No</td>\n",
       "      <td>No</td>\n",
       "      <td>61.0</td>\n",
       "    </tr>\n",
       "    <tr>\n",
       "      <th>2010-11-20</th>\n",
       "      <td>No</td>\n",
       "      <td>No</td>\n",
       "      <td>69.1</td>\n",
       "    </tr>\n",
       "    <tr>\n",
       "      <th>2010-11-21</th>\n",
       "      <td>No</td>\n",
       "      <td>No</td>\n",
       "      <td>69.1</td>\n",
       "    </tr>\n",
       "    <tr>\n",
       "      <th>2010-11-22</th>\n",
       "      <td>No</td>\n",
       "      <td>No</td>\n",
       "      <td>73.0</td>\n",
       "    </tr>\n",
       "    <tr>\n",
       "      <th>2010-11-23</th>\n",
       "      <td>Yes</td>\n",
       "      <td>No</td>\n",
       "      <td>77.0</td>\n",
       "    </tr>\n",
       "    <tr>\n",
       "      <th>2010-11-24</th>\n",
       "      <td>No</td>\n",
       "      <td>No</td>\n",
       "      <td>63.0</td>\n",
       "    </tr>\n",
       "    <tr>\n",
       "      <th>2010-11-25</th>\n",
       "      <td>Yes</td>\n",
       "      <td>No</td>\n",
       "      <td>61.0</td>\n",
       "    </tr>\n",
       "    <tr>\n",
       "      <th>2010-11-26</th>\n",
       "      <td>Yes</td>\n",
       "      <td>No</td>\n",
       "      <td>66.0</td>\n",
       "    </tr>\n",
       "    <tr>\n",
       "      <th>2010-11-27</th>\n",
       "      <td>No</td>\n",
       "      <td>No</td>\n",
       "      <td>54.0</td>\n",
       "    </tr>\n",
       "    <tr>\n",
       "      <th>2010-11-28</th>\n",
       "      <td>No</td>\n",
       "      <td>No</td>\n",
       "      <td>52.0</td>\n",
       "    </tr>\n",
       "    <tr>\n",
       "      <th>2010-11-29</th>\n",
       "      <td>Yes</td>\n",
       "      <td>No</td>\n",
       "      <td>55.0</td>\n",
       "    </tr>\n",
       "    <tr>\n",
       "      <th>2010-11-30</th>\n",
       "      <td>Yes</td>\n",
       "      <td>No</td>\n",
       "      <td>72.0</td>\n",
       "    </tr>\n",
       "  </tbody>\n",
       "</table>\n",
       "</div>"
      ],
      "text/plain": [
       "           rain snow  temperature\n",
       "date                             \n",
       "2010-11-01   No   No         63.0\n",
       "2010-11-02   No   No         57.9\n",
       "2010-11-03  Yes   No         55.9\n",
       "2010-11-04  Yes   No         54.0\n",
       "2010-11-05  Yes   No         61.0\n",
       "2010-11-06  Yes   No         53.1\n",
       "2010-11-07   No   No         53.1\n",
       "2010-11-08   No   No         66.9\n",
       "2010-11-09   No   No         73.0\n",
       "2010-11-10   No   No         70.0\n",
       "2010-11-11   No   No         66.0\n",
       "2010-11-12   No   No         66.0\n",
       "2010-11-13   No   No         69.1\n",
       "2010-11-14   No   No         70.0\n",
       "2010-11-15   No   No         70.0\n",
       "2010-11-16  Yes   No         66.9\n",
       "2010-11-17  Yes   No         64.9\n",
       "2010-11-18   No   No         62.1\n",
       "2010-11-19   No   No         61.0\n",
       "2010-11-20   No   No         69.1\n",
       "2010-11-21   No   No         69.1\n",
       "2010-11-22   No   No         73.0\n",
       "2010-11-23  Yes   No         77.0\n",
       "2010-11-24   No   No         63.0\n",
       "2010-11-25  Yes   No         61.0\n",
       "2010-11-26  Yes   No         66.0\n",
       "2010-11-27   No   No         54.0\n",
       "2010-11-28   No   No         52.0\n",
       "2010-11-29  Yes   No         55.0\n",
       "2010-11-30  Yes   No         72.0"
      ]
     },
     "execution_count": 37,
     "metadata": {},
     "output_type": "execute_result"
    }
   ],
   "source": [
    "weather.loc['2010-11']"
   ]
  },
  {
   "cell_type": "markdown",
   "metadata": {},
   "source": [
    "### Exercise 3\n",
    "\n",
    "<span style=\"color:green; font-size:16px\">Select all of the second quarter of 2017.</span>"
   ]
  },
  {
   "cell_type": "code",
   "execution_count": 38,
   "metadata": {},
   "outputs": [
    {
     "data": {
      "text/html": [
       "<div>\n",
       "<style scoped>\n",
       "    .dataframe tbody tr th:only-of-type {\n",
       "        vertical-align: middle;\n",
       "    }\n",
       "\n",
       "    .dataframe tbody tr th {\n",
       "        vertical-align: top;\n",
       "    }\n",
       "\n",
       "    .dataframe thead th {\n",
       "        text-align: right;\n",
       "    }\n",
       "</style>\n",
       "<table border=\"1\" class=\"dataframe\">\n",
       "  <thead>\n",
       "    <tr style=\"text-align: right;\">\n",
       "      <th></th>\n",
       "      <th>rain</th>\n",
       "      <th>snow</th>\n",
       "      <th>temperature</th>\n",
       "    </tr>\n",
       "    <tr>\n",
       "      <th>date</th>\n",
       "      <th></th>\n",
       "      <th></th>\n",
       "      <th></th>\n",
       "    </tr>\n",
       "  </thead>\n",
       "  <tbody>\n",
       "    <tr>\n",
       "      <th>2017-04-01</th>\n",
       "      <td>No</td>\n",
       "      <td>No</td>\n",
       "      <td>75.0</td>\n",
       "    </tr>\n",
       "    <tr>\n",
       "      <th>2017-04-02</th>\n",
       "      <td>No</td>\n",
       "      <td>No</td>\n",
       "      <td>69.1</td>\n",
       "    </tr>\n",
       "    <tr>\n",
       "      <th>2017-04-03</th>\n",
       "      <td>No</td>\n",
       "      <td>No</td>\n",
       "      <td>75.9</td>\n",
       "    </tr>\n",
       "    <tr>\n",
       "      <th>2017-04-04</th>\n",
       "      <td>No</td>\n",
       "      <td>No</td>\n",
       "      <td>82.0</td>\n",
       "    </tr>\n",
       "    <tr>\n",
       "      <th>2017-04-05</th>\n",
       "      <td>No</td>\n",
       "      <td>No</td>\n",
       "      <td>78.1</td>\n",
       "    </tr>\n",
       "    <tr>\n",
       "      <th>...</th>\n",
       "      <td>...</td>\n",
       "      <td>...</td>\n",
       "      <td>...</td>\n",
       "    </tr>\n",
       "    <tr>\n",
       "      <th>2017-06-26</th>\n",
       "      <td>No</td>\n",
       "      <td>No</td>\n",
       "      <td>84.9</td>\n",
       "    </tr>\n",
       "    <tr>\n",
       "      <th>2017-06-27</th>\n",
       "      <td>No</td>\n",
       "      <td>No</td>\n",
       "      <td>82.9</td>\n",
       "    </tr>\n",
       "    <tr>\n",
       "      <th>2017-06-28</th>\n",
       "      <td>No</td>\n",
       "      <td>No</td>\n",
       "      <td>82.9</td>\n",
       "    </tr>\n",
       "    <tr>\n",
       "      <th>2017-06-29</th>\n",
       "      <td>No</td>\n",
       "      <td>No</td>\n",
       "      <td>87.1</td>\n",
       "    </tr>\n",
       "    <tr>\n",
       "      <th>2017-06-30</th>\n",
       "      <td>No</td>\n",
       "      <td>No</td>\n",
       "      <td>87.1</td>\n",
       "    </tr>\n",
       "  </tbody>\n",
       "</table>\n",
       "<p>91 rows × 3 columns</p>\n",
       "</div>"
      ],
      "text/plain": [
       "           rain snow  temperature\n",
       "date                             \n",
       "2017-04-01   No   No         75.0\n",
       "2017-04-02   No   No         69.1\n",
       "2017-04-03   No   No         75.9\n",
       "2017-04-04   No   No         82.0\n",
       "2017-04-05   No   No         78.1\n",
       "...         ...  ...          ...\n",
       "2017-06-26   No   No         84.9\n",
       "2017-06-27   No   No         82.9\n",
       "2017-06-28   No   No         82.9\n",
       "2017-06-29   No   No         87.1\n",
       "2017-06-30   No   No         87.1\n",
       "\n",
       "[91 rows x 3 columns]"
      ]
     },
     "execution_count": 38,
     "metadata": {},
     "output_type": "execute_result"
    }
   ],
   "source": [
    "weather.loc['2017Q2']"
   ]
  },
  {
   "cell_type": "markdown",
   "metadata": {},
   "source": [
    "### Exercise 4\n",
    "\n",
    "<span style=\"color:green; font-size:16px\">Select data from July 1, 2015 to the end of 2016.</span>"
   ]
  },
  {
   "cell_type": "code",
   "execution_count": 39,
   "metadata": {
    "scrolled": false
   },
   "outputs": [
    {
     "data": {
      "text/html": [
       "<div>\n",
       "<style scoped>\n",
       "    .dataframe tbody tr th:only-of-type {\n",
       "        vertical-align: middle;\n",
       "    }\n",
       "\n",
       "    .dataframe tbody tr th {\n",
       "        vertical-align: top;\n",
       "    }\n",
       "\n",
       "    .dataframe thead th {\n",
       "        text-align: right;\n",
       "    }\n",
       "</style>\n",
       "<table border=\"1\" class=\"dataframe\">\n",
       "  <thead>\n",
       "    <tr style=\"text-align: right;\">\n",
       "      <th></th>\n",
       "      <th>rain</th>\n",
       "      <th>snow</th>\n",
       "      <th>temperature</th>\n",
       "    </tr>\n",
       "    <tr>\n",
       "      <th>date</th>\n",
       "      <th></th>\n",
       "      <th></th>\n",
       "      <th></th>\n",
       "    </tr>\n",
       "  </thead>\n",
       "  <tbody>\n",
       "    <tr>\n",
       "      <th>2015-07-01</th>\n",
       "      <td>No</td>\n",
       "      <td>No</td>\n",
       "      <td>87.1</td>\n",
       "    </tr>\n",
       "    <tr>\n",
       "      <th>2015-07-02</th>\n",
       "      <td>No</td>\n",
       "      <td>No</td>\n",
       "      <td>87.1</td>\n",
       "    </tr>\n",
       "    <tr>\n",
       "      <th>2015-07-03</th>\n",
       "      <td>No</td>\n",
       "      <td>No</td>\n",
       "      <td>78.1</td>\n",
       "    </tr>\n",
       "    <tr>\n",
       "      <th>2015-07-04</th>\n",
       "      <td>No</td>\n",
       "      <td>No</td>\n",
       "      <td>87.1</td>\n",
       "    </tr>\n",
       "    <tr>\n",
       "      <th>2015-07-05</th>\n",
       "      <td>No</td>\n",
       "      <td>No</td>\n",
       "      <td>90.0</td>\n",
       "    </tr>\n",
       "    <tr>\n",
       "      <th>...</th>\n",
       "      <td>...</td>\n",
       "      <td>...</td>\n",
       "      <td>...</td>\n",
       "    </tr>\n",
       "    <tr>\n",
       "      <th>2016-12-27</th>\n",
       "      <td>No</td>\n",
       "      <td>No</td>\n",
       "      <td>68.0</td>\n",
       "    </tr>\n",
       "    <tr>\n",
       "      <th>2016-12-28</th>\n",
       "      <td>No</td>\n",
       "      <td>No</td>\n",
       "      <td>60.1</td>\n",
       "    </tr>\n",
       "    <tr>\n",
       "      <th>2016-12-29</th>\n",
       "      <td>No</td>\n",
       "      <td>No</td>\n",
       "      <td>63.0</td>\n",
       "    </tr>\n",
       "    <tr>\n",
       "      <th>2016-12-30</th>\n",
       "      <td>No</td>\n",
       "      <td>No</td>\n",
       "      <td>48.0</td>\n",
       "    </tr>\n",
       "    <tr>\n",
       "      <th>2016-12-31</th>\n",
       "      <td>No</td>\n",
       "      <td>No</td>\n",
       "      <td>50.0</td>\n",
       "    </tr>\n",
       "  </tbody>\n",
       "</table>\n",
       "<p>550 rows × 3 columns</p>\n",
       "</div>"
      ],
      "text/plain": [
       "           rain snow  temperature\n",
       "date                             \n",
       "2015-07-01   No   No         87.1\n",
       "2015-07-02   No   No         87.1\n",
       "2015-07-03   No   No         78.1\n",
       "2015-07-04   No   No         87.1\n",
       "2015-07-05   No   No         90.0\n",
       "...         ...  ...          ...\n",
       "2016-12-27   No   No         68.0\n",
       "2016-12-28   No   No         60.1\n",
       "2016-12-29   No   No         63.0\n",
       "2016-12-30   No   No         48.0\n",
       "2016-12-31   No   No         50.0\n",
       "\n",
       "[550 rows x 3 columns]"
      ]
     },
     "execution_count": 39,
     "metadata": {},
     "output_type": "execute_result"
    }
   ],
   "source": [
    "weather.loc['2015Q3':'2016'] # alternatively weather.loc['2015-7':'2016']"
   ]
  },
  {
   "cell_type": "markdown",
   "metadata": {},
   "source": [
    "### Exercise 5\n",
    "\n",
    "<span style=\"color:green; font-size:16px\">Select just the rain and snow columns from the January 1, 2008 to January 7, 2008.</span>"
   ]
  },
  {
   "cell_type": "code",
   "execution_count": 40,
   "metadata": {},
   "outputs": [
    {
     "data": {
      "text/html": [
       "<div>\n",
       "<style scoped>\n",
       "    .dataframe tbody tr th:only-of-type {\n",
       "        vertical-align: middle;\n",
       "    }\n",
       "\n",
       "    .dataframe tbody tr th {\n",
       "        vertical-align: top;\n",
       "    }\n",
       "\n",
       "    .dataframe thead th {\n",
       "        text-align: right;\n",
       "    }\n",
       "</style>\n",
       "<table border=\"1\" class=\"dataframe\">\n",
       "  <thead>\n",
       "    <tr style=\"text-align: right;\">\n",
       "      <th></th>\n",
       "      <th>rain</th>\n",
       "      <th>snow</th>\n",
       "    </tr>\n",
       "    <tr>\n",
       "      <th>date</th>\n",
       "      <th></th>\n",
       "      <th></th>\n",
       "    </tr>\n",
       "  </thead>\n",
       "  <tbody>\n",
       "    <tr>\n",
       "      <th>2008-01-01</th>\n",
       "      <td>No</td>\n",
       "      <td>No</td>\n",
       "    </tr>\n",
       "    <tr>\n",
       "      <th>2008-01-02</th>\n",
       "      <td>No</td>\n",
       "      <td>Yes</td>\n",
       "    </tr>\n",
       "    <tr>\n",
       "      <th>2008-01-03</th>\n",
       "      <td>No</td>\n",
       "      <td>No</td>\n",
       "    </tr>\n",
       "    <tr>\n",
       "      <th>2008-01-04</th>\n",
       "      <td>No</td>\n",
       "      <td>No</td>\n",
       "    </tr>\n",
       "    <tr>\n",
       "      <th>2008-01-05</th>\n",
       "      <td>No</td>\n",
       "      <td>No</td>\n",
       "    </tr>\n",
       "    <tr>\n",
       "      <th>2008-01-06</th>\n",
       "      <td>No</td>\n",
       "      <td>No</td>\n",
       "    </tr>\n",
       "    <tr>\n",
       "      <th>2008-01-07</th>\n",
       "      <td>No</td>\n",
       "      <td>No</td>\n",
       "    </tr>\n",
       "  </tbody>\n",
       "</table>\n",
       "</div>"
      ],
      "text/plain": [
       "           rain snow\n",
       "date                \n",
       "2008-01-01   No   No\n",
       "2008-01-02   No  Yes\n",
       "2008-01-03   No   No\n",
       "2008-01-04   No   No\n",
       "2008-01-05   No   No\n",
       "2008-01-06   No   No\n",
       "2008-01-07   No   No"
      ]
     },
     "execution_count": 40,
     "metadata": {},
     "output_type": "execute_result"
    }
   ],
   "source": [
    "weather.loc['2008-1-1':'2008-1-7', ['rain', 'snow']]"
   ]
  },
  {
   "cell_type": "markdown",
   "metadata": {},
   "source": [
    "### Exercise 6\n",
    "\n",
    "<span style=\"color:green; font-size:16px\">What was the temperature on June 11, 2011?</span>"
   ]
  },
  {
   "cell_type": "code",
   "execution_count": 41,
   "metadata": {},
   "outputs": [
    {
     "data": {
      "text/plain": [
       "93.9"
      ]
     },
     "execution_count": 41,
     "metadata": {},
     "output_type": "execute_result"
    }
   ],
   "source": [
    "weather.loc['2011-6-11', 'temperature']"
   ]
  },
  {
   "cell_type": "markdown",
   "metadata": {},
   "source": [
    "### Exercise 7\n",
    "\n",
    "<span  style=\"color:green; font-size:16px\">How many days did it rain during the last three months of 2011?</span>"
   ]
  },
  {
   "cell_type": "code",
   "execution_count": 42,
   "metadata": {},
   "outputs": [
    {
     "data": {
      "text/plain": [
       "No     69\n",
       "Yes    23\n",
       "Name: rain, dtype: int64"
      ]
     },
     "execution_count": 42,
     "metadata": {},
     "output_type": "execute_result"
    }
   ],
   "source": [
    "weather.loc['2011Q4', 'rain'].value_counts()"
   ]
  },
  {
   "cell_type": "code",
   "execution_count": 43,
   "metadata": {},
   "outputs": [
    {
     "data": {
      "text/plain": [
       "23"
      ]
     },
     "execution_count": 43,
     "metadata": {},
     "output_type": "execute_result"
    }
   ],
   "source": [
    "# to get exact number\n",
    "(weather.loc['2011Q4', 'rain'] == 'Yes').sum()"
   ]
  },
  {
   "cell_type": "markdown",
   "metadata": {},
   "source": [
    "### Exercise 8\n",
    "\n",
    "<span style=\"color:green; font-size:16px\">Which year had more snow days, 2007 or 2012?</span>"
   ]
  },
  {
   "cell_type": "code",
   "execution_count": 44,
   "metadata": {},
   "outputs": [
    {
     "data": {
      "text/plain": [
       "5"
      ]
     },
     "execution_count": 44,
     "metadata": {},
     "output_type": "execute_result"
    }
   ],
   "source": [
    "(weather.loc['2007', 'snow'] == 'Yes').sum()"
   ]
  },
  {
   "cell_type": "code",
   "execution_count": 45,
   "metadata": {},
   "outputs": [
    {
     "data": {
      "text/plain": [
       "2"
      ]
     },
     "execution_count": 45,
     "metadata": {},
     "output_type": "execute_result"
    }
   ],
   "source": [
    "(weather.loc['2012', 'snow'] == 'Yes').sum()"
   ]
  },
  {
   "cell_type": "markdown",
   "metadata": {},
   "source": [
    "### Exercise 9\n",
    "\n",
    "<span style=\"color:green; font-size:16px\">Select every other Thursday.</span>"
   ]
  },
  {
   "cell_type": "code",
   "execution_count": 46,
   "metadata": {},
   "outputs": [
    {
     "data": {
      "text/html": [
       "<div>\n",
       "<style scoped>\n",
       "    .dataframe tbody tr th:only-of-type {\n",
       "        vertical-align: middle;\n",
       "    }\n",
       "\n",
       "    .dataframe tbody tr th {\n",
       "        vertical-align: top;\n",
       "    }\n",
       "\n",
       "    .dataframe thead th {\n",
       "        text-align: right;\n",
       "    }\n",
       "</style>\n",
       "<table border=\"1\" class=\"dataframe\">\n",
       "  <thead>\n",
       "    <tr style=\"text-align: right;\">\n",
       "      <th></th>\n",
       "      <th>rain</th>\n",
       "      <th>snow</th>\n",
       "      <th>temperature</th>\n",
       "    </tr>\n",
       "    <tr>\n",
       "      <th>date</th>\n",
       "      <th></th>\n",
       "      <th></th>\n",
       "      <th></th>\n",
       "    </tr>\n",
       "  </thead>\n",
       "  <tbody>\n",
       "    <tr>\n",
       "      <th>2007-01-04</th>\n",
       "      <td>No</td>\n",
       "      <td>No</td>\n",
       "      <td>69.1</td>\n",
       "    </tr>\n",
       "    <tr>\n",
       "      <th>2007-01-18</th>\n",
       "      <td>Yes</td>\n",
       "      <td>Yes</td>\n",
       "      <td>35.1</td>\n",
       "    </tr>\n",
       "    <tr>\n",
       "      <th>2007-02-01</th>\n",
       "      <td>Yes</td>\n",
       "      <td>Yes</td>\n",
       "      <td>34.0</td>\n",
       "    </tr>\n",
       "    <tr>\n",
       "      <th>2007-02-15</th>\n",
       "      <td>No</td>\n",
       "      <td>No</td>\n",
       "      <td>39.9</td>\n",
       "    </tr>\n",
       "    <tr>\n",
       "      <th>2007-03-01</th>\n",
       "      <td>Yes</td>\n",
       "      <td>No</td>\n",
       "      <td>66.9</td>\n",
       "    </tr>\n",
       "  </tbody>\n",
       "</table>\n",
       "</div>"
      ],
      "text/plain": [
       "           rain snow  temperature\n",
       "date                             \n",
       "2007-01-04   No   No         69.1\n",
       "2007-01-18  Yes  Yes         35.1\n",
       "2007-02-01  Yes  Yes         34.0\n",
       "2007-02-15   No   No         39.9\n",
       "2007-03-01  Yes   No         66.9"
      ]
     },
     "execution_count": 46,
     "metadata": {},
     "output_type": "execute_result"
    }
   ],
   "source": [
    "weather.asfreq('2W-THU').head()"
   ]
  },
  {
   "cell_type": "markdown",
   "metadata": {},
   "source": [
    "### Exercise 10\n",
    "\n",
    "<span style=\"color:green; font-size:16px\">Select the first day of each month.</span>"
   ]
  },
  {
   "cell_type": "code",
   "execution_count": 47,
   "metadata": {},
   "outputs": [
    {
     "data": {
      "text/html": [
       "<div>\n",
       "<style scoped>\n",
       "    .dataframe tbody tr th:only-of-type {\n",
       "        vertical-align: middle;\n",
       "    }\n",
       "\n",
       "    .dataframe tbody tr th {\n",
       "        vertical-align: top;\n",
       "    }\n",
       "\n",
       "    .dataframe thead th {\n",
       "        text-align: right;\n",
       "    }\n",
       "</style>\n",
       "<table border=\"1\" class=\"dataframe\">\n",
       "  <thead>\n",
       "    <tr style=\"text-align: right;\">\n",
       "      <th></th>\n",
       "      <th>rain</th>\n",
       "      <th>snow</th>\n",
       "      <th>temperature</th>\n",
       "    </tr>\n",
       "    <tr>\n",
       "      <th>date</th>\n",
       "      <th></th>\n",
       "      <th></th>\n",
       "      <th></th>\n",
       "    </tr>\n",
       "  </thead>\n",
       "  <tbody>\n",
       "    <tr>\n",
       "      <th>2007-01-01</th>\n",
       "      <td>Yes</td>\n",
       "      <td>No</td>\n",
       "      <td>68.0</td>\n",
       "    </tr>\n",
       "    <tr>\n",
       "      <th>2007-02-01</th>\n",
       "      <td>Yes</td>\n",
       "      <td>Yes</td>\n",
       "      <td>34.0</td>\n",
       "    </tr>\n",
       "    <tr>\n",
       "      <th>2007-03-01</th>\n",
       "      <td>Yes</td>\n",
       "      <td>No</td>\n",
       "      <td>66.9</td>\n",
       "    </tr>\n",
       "    <tr>\n",
       "      <th>2007-04-01</th>\n",
       "      <td>Yes</td>\n",
       "      <td>No</td>\n",
       "      <td>77.0</td>\n",
       "    </tr>\n",
       "    <tr>\n",
       "      <th>2007-05-01</th>\n",
       "      <td>No</td>\n",
       "      <td>No</td>\n",
       "      <td>91.9</td>\n",
       "    </tr>\n",
       "  </tbody>\n",
       "</table>\n",
       "</div>"
      ],
      "text/plain": [
       "           rain snow  temperature\n",
       "date                             \n",
       "2007-01-01  Yes   No         68.0\n",
       "2007-02-01  Yes  Yes         34.0\n",
       "2007-03-01  Yes   No         66.9\n",
       "2007-04-01  Yes   No         77.0\n",
       "2007-05-01   No   No         91.9"
      ]
     },
     "execution_count": 47,
     "metadata": {},
     "output_type": "execute_result"
    }
   ],
   "source": [
    "weather.asfreq('MS').head()"
   ]
  },
  {
   "cell_type": "markdown",
   "metadata": {},
   "source": [
    "### Exercise 11\n",
    "\n",
    "<span style=\"color:green; font-size:16px\">Select every other October 1st.</span>"
   ]
  },
  {
   "cell_type": "code",
   "execution_count": 48,
   "metadata": {},
   "outputs": [
    {
     "data": {
      "text/html": [
       "<div>\n",
       "<style scoped>\n",
       "    .dataframe tbody tr th:only-of-type {\n",
       "        vertical-align: middle;\n",
       "    }\n",
       "\n",
       "    .dataframe tbody tr th {\n",
       "        vertical-align: top;\n",
       "    }\n",
       "\n",
       "    .dataframe thead th {\n",
       "        text-align: right;\n",
       "    }\n",
       "</style>\n",
       "<table border=\"1\" class=\"dataframe\">\n",
       "  <thead>\n",
       "    <tr style=\"text-align: right;\">\n",
       "      <th></th>\n",
       "      <th>rain</th>\n",
       "      <th>snow</th>\n",
       "      <th>temperature</th>\n",
       "    </tr>\n",
       "    <tr>\n",
       "      <th>date</th>\n",
       "      <th></th>\n",
       "      <th></th>\n",
       "      <th></th>\n",
       "    </tr>\n",
       "  </thead>\n",
       "  <tbody>\n",
       "    <tr>\n",
       "      <th>2007-10-01</th>\n",
       "      <td>No</td>\n",
       "      <td>No</td>\n",
       "      <td>82.0</td>\n",
       "    </tr>\n",
       "    <tr>\n",
       "      <th>2009-10-01</th>\n",
       "      <td>No</td>\n",
       "      <td>No</td>\n",
       "      <td>73.0</td>\n",
       "    </tr>\n",
       "    <tr>\n",
       "      <th>2011-10-01</th>\n",
       "      <td>No</td>\n",
       "      <td>No</td>\n",
       "      <td>64.0</td>\n",
       "    </tr>\n",
       "    <tr>\n",
       "      <th>2013-10-01</th>\n",
       "      <td>No</td>\n",
       "      <td>No</td>\n",
       "      <td>82.0</td>\n",
       "    </tr>\n",
       "    <tr>\n",
       "      <th>2015-10-01</th>\n",
       "      <td>No</td>\n",
       "      <td>No</td>\n",
       "      <td>66.0</td>\n",
       "    </tr>\n",
       "    <tr>\n",
       "      <th>2017-10-01</th>\n",
       "      <td>No</td>\n",
       "      <td>No</td>\n",
       "      <td>71.1</td>\n",
       "    </tr>\n",
       "  </tbody>\n",
       "</table>\n",
       "</div>"
      ],
      "text/plain": [
       "           rain snow  temperature\n",
       "date                             \n",
       "2007-10-01   No   No         82.0\n",
       "2009-10-01   No   No         73.0\n",
       "2011-10-01   No   No         64.0\n",
       "2013-10-01   No   No         82.0\n",
       "2015-10-01   No   No         66.0\n",
       "2017-10-01   No   No         71.1"
      ]
     },
     "execution_count": 48,
     "metadata": {},
     "output_type": "execute_result"
    }
   ],
   "source": [
    "weather.asfreq('2AS-OCT')"
   ]
  },
  {
   "cell_type": "markdown",
   "metadata": {},
   "source": [
    "### Use the temperature dataset for the remaining exercises\n",
    "\n",
    "Execute the following cell to read in the temperature dataset which sets the datetime column in the index."
   ]
  },
  {
   "cell_type": "code",
   "execution_count": 49,
   "metadata": {},
   "outputs": [
    {
     "data": {
      "text/html": [
       "<div>\n",
       "<style scoped>\n",
       "    .dataframe tbody tr th:only-of-type {\n",
       "        vertical-align: middle;\n",
       "    }\n",
       "\n",
       "    .dataframe tbody tr th {\n",
       "        vertical-align: top;\n",
       "    }\n",
       "\n",
       "    .dataframe thead th {\n",
       "        text-align: right;\n",
       "    }\n",
       "</style>\n",
       "<table border=\"1\" class=\"dataframe\">\n",
       "  <thead>\n",
       "    <tr style=\"text-align: right;\">\n",
       "      <th></th>\n",
       "      <th>Seattle</th>\n",
       "      <th>San Francisco</th>\n",
       "      <th>Los Angeles</th>\n",
       "      <th>Las Vegas</th>\n",
       "      <th>Denver</th>\n",
       "      <th>Houston</th>\n",
       "      <th>Chicago</th>\n",
       "      <th>Atlanta</th>\n",
       "      <th>Miami</th>\n",
       "      <th>New York</th>\n",
       "    </tr>\n",
       "    <tr>\n",
       "      <th>datetime</th>\n",
       "      <th></th>\n",
       "      <th></th>\n",
       "      <th></th>\n",
       "      <th></th>\n",
       "      <th></th>\n",
       "      <th></th>\n",
       "      <th></th>\n",
       "      <th></th>\n",
       "      <th></th>\n",
       "      <th></th>\n",
       "    </tr>\n",
       "  </thead>\n",
       "  <tbody>\n",
       "    <tr>\n",
       "      <th>2013-01-01 00:00:00</th>\n",
       "      <td>2.94</td>\n",
       "      <td>11.50</td>\n",
       "      <td>11.66</td>\n",
       "      <td>7.28</td>\n",
       "      <td>-2.30</td>\n",
       "      <td>8.81</td>\n",
       "      <td>-0.19</td>\n",
       "      <td>1.92</td>\n",
       "      <td>19.41</td>\n",
       "      <td>-1.12</td>\n",
       "    </tr>\n",
       "    <tr>\n",
       "      <th>2013-01-01 01:00:00</th>\n",
       "      <td>2.40</td>\n",
       "      <td>10.22</td>\n",
       "      <td>10.67</td>\n",
       "      <td>5.95</td>\n",
       "      <td>-3.23</td>\n",
       "      <td>8.81</td>\n",
       "      <td>0.28</td>\n",
       "      <td>0.60</td>\n",
       "      <td>19.35</td>\n",
       "      <td>-1.69</td>\n",
       "    </tr>\n",
       "    <tr>\n",
       "      <th>2013-01-01 02:00:00</th>\n",
       "      <td>1.70</td>\n",
       "      <td>8.02</td>\n",
       "      <td>9.91</td>\n",
       "      <td>5.18</td>\n",
       "      <td>-3.03</td>\n",
       "      <td>8.81</td>\n",
       "      <td>0.33</td>\n",
       "      <td>-0.53</td>\n",
       "      <td>18.99</td>\n",
       "      <td>-1.96</td>\n",
       "    </tr>\n",
       "    <tr>\n",
       "      <th>2013-01-01 03:00:00</th>\n",
       "      <td>1.45</td>\n",
       "      <td>7.30</td>\n",
       "      <td>9.33</td>\n",
       "      <td>4.42</td>\n",
       "      <td>-3.67</td>\n",
       "      <td>8.48</td>\n",
       "      <td>0.12</td>\n",
       "      <td>-1.36</td>\n",
       "      <td>18.56</td>\n",
       "      <td>-2.08</td>\n",
       "    </tr>\n",
       "    <tr>\n",
       "      <th>2013-01-01 04:00:00</th>\n",
       "      <td>0.95</td>\n",
       "      <td>6.84</td>\n",
       "      <td>8.82</td>\n",
       "      <td>3.62</td>\n",
       "      <td>-5.55</td>\n",
       "      <td>8.34</td>\n",
       "      <td>0.04</td>\n",
       "      <td>-1.44</td>\n",
       "      <td>18.49</td>\n",
       "      <td>-2.32</td>\n",
       "    </tr>\n",
       "  </tbody>\n",
       "</table>\n",
       "</div>"
      ],
      "text/plain": [
       "                     Seattle  San Francisco  Los Angeles  Las Vegas  Denver  \\\n",
       "datetime                                                                      \n",
       "2013-01-01 00:00:00     2.94          11.50        11.66       7.28   -2.30   \n",
       "2013-01-01 01:00:00     2.40          10.22        10.67       5.95   -3.23   \n",
       "2013-01-01 02:00:00     1.70           8.02         9.91       5.18   -3.03   \n",
       "2013-01-01 03:00:00     1.45           7.30         9.33       4.42   -3.67   \n",
       "2013-01-01 04:00:00     0.95           6.84         8.82       3.62   -5.55   \n",
       "\n",
       "                     Houston  Chicago  Atlanta  Miami  New York  \n",
       "datetime                                                         \n",
       "2013-01-01 00:00:00     8.81    -0.19     1.92  19.41     -1.12  \n",
       "2013-01-01 01:00:00     8.81     0.28     0.60  19.35     -1.69  \n",
       "2013-01-01 02:00:00     8.81     0.33    -0.53  18.99     -1.96  \n",
       "2013-01-01 03:00:00     8.48     0.12    -1.36  18.56     -2.08  \n",
       "2013-01-01 04:00:00     8.34     0.04    -1.44  18.49     -2.32  "
      ]
     },
     "execution_count": 49,
     "metadata": {},
     "output_type": "execute_result"
    }
   ],
   "source": [
    "df_temp = pd.read_csv('../data/weather/temperature.csv', parse_dates=['datetime'], \n",
    "                      index_col='datetime')\n",
    "df_temp.head()"
   ]
  },
  {
   "cell_type": "markdown",
   "metadata": {},
   "source": [
    "### Exercise 12\n",
    "\n",
    "<span style=\"color:green; font-size:16px\">Select the temperatures for Houston between 3 and 6 p.m. on July 4, 2014.</span>"
   ]
  },
  {
   "cell_type": "code",
   "execution_count": 50,
   "metadata": {},
   "outputs": [
    {
     "data": {
      "text/plain": [
       "datetime\n",
       "2014-07-04 15:00:00    27.37\n",
       "2014-07-04 16:00:00    28.85\n",
       "2014-07-04 17:00:00    30.29\n",
       "2014-07-04 18:00:00    31.00\n",
       "Name: Houston, dtype: float64"
      ]
     },
     "execution_count": 50,
     "metadata": {},
     "output_type": "execute_result"
    }
   ],
   "source": [
    "df_temp.loc['2014-7-4 15:00':'2014-7-4 18:00', 'Houston']"
   ]
  },
  {
   "cell_type": "markdown",
   "metadata": {},
   "source": [
    "### Exercise 13\n",
    "\n",
    "<span style=\"color:green; font-size:16px\">Upsample the result from the previous exercise so that there are entries every 20 minutes.</span>"
   ]
  },
  {
   "cell_type": "code",
   "execution_count": 51,
   "metadata": {},
   "outputs": [
    {
     "data": {
      "text/plain": [
       "datetime\n",
       "2014-07-04 15:00:00    27.37\n",
       "2014-07-04 15:20:00      NaN\n",
       "2014-07-04 15:40:00      NaN\n",
       "2014-07-04 16:00:00    28.85\n",
       "2014-07-04 16:20:00      NaN\n",
       "2014-07-04 16:40:00      NaN\n",
       "2014-07-04 17:00:00    30.29\n",
       "2014-07-04 17:20:00      NaN\n",
       "2014-07-04 17:40:00      NaN\n",
       "2014-07-04 18:00:00    31.00\n",
       "Freq: 20T, Name: Houston, dtype: float64"
      ]
     },
     "execution_count": 51,
     "metadata": {},
     "output_type": "execute_result"
    }
   ],
   "source": [
    "s = df_temp.loc['2014-7-4 15:00':'2014-7-4 18:00', 'Houston'].asfreq('20min')\n",
    "s"
   ]
  },
  {
   "cell_type": "markdown",
   "metadata": {},
   "source": [
    "### Exercise 14\n",
    "\n",
    "<span style=\"color:green; font-size:16px\">Linearly interpolate the missing values in the previous exercise to estimate the temperature at 4:40 pm on July 4, 2014.</span>"
   ]
  },
  {
   "cell_type": "code",
   "execution_count": 52,
   "metadata": {},
   "outputs": [
    {
     "data": {
      "text/plain": [
       "datetime\n",
       "2014-07-04 15:00:00    27.370000\n",
       "2014-07-04 15:20:00    27.863333\n",
       "2014-07-04 15:40:00    28.356667\n",
       "2014-07-04 16:00:00    28.850000\n",
       "2014-07-04 16:20:00    29.330000\n",
       "2014-07-04 16:40:00    29.810000\n",
       "2014-07-04 17:00:00    30.290000\n",
       "2014-07-04 17:20:00    30.526667\n",
       "2014-07-04 17:40:00    30.763333\n",
       "2014-07-04 18:00:00    31.000000\n",
       "Freq: 20T, Name: Houston, dtype: float64"
      ]
     },
     "execution_count": 52,
     "metadata": {},
     "output_type": "execute_result"
    }
   ],
   "source": [
    "s1 = s.asfreq('20min').interpolate()\n",
    "s1"
   ]
  },
  {
   "cell_type": "code",
   "execution_count": 53,
   "metadata": {},
   "outputs": [
    {
     "data": {
      "text/plain": [
       "29.81000000000002"
      ]
     },
     "execution_count": 53,
     "metadata": {},
     "output_type": "execute_result"
    }
   ],
   "source": [
    "s1.loc['2014-7-4 4:40 pm']"
   ]
  },
  {
   "cell_type": "markdown",
   "metadata": {},
   "source": [
    "## 3. Grouping by Time"
   ]
  },
  {
   "cell_type": "code",
   "execution_count": 54,
   "metadata": {},
   "outputs": [
    {
     "data": {
      "text/html": [
       "<div>\n",
       "<style scoped>\n",
       "    .dataframe tbody tr th:only-of-type {\n",
       "        vertical-align: middle;\n",
       "    }\n",
       "\n",
       "    .dataframe tbody tr th {\n",
       "        vertical-align: top;\n",
       "    }\n",
       "\n",
       "    .dataframe thead th {\n",
       "        text-align: right;\n",
       "    }\n",
       "</style>\n",
       "<table border=\"1\" class=\"dataframe\">\n",
       "  <thead>\n",
       "    <tr style=\"text-align: right;\">\n",
       "      <th></th>\n",
       "      <th>open</th>\n",
       "      <th>high</th>\n",
       "      <th>low</th>\n",
       "      <th>close</th>\n",
       "      <th>adjusted_close</th>\n",
       "      <th>volume</th>\n",
       "      <th>dividend_amount</th>\n",
       "    </tr>\n",
       "    <tr>\n",
       "      <th>date</th>\n",
       "      <th></th>\n",
       "      <th></th>\n",
       "      <th></th>\n",
       "      <th></th>\n",
       "      <th></th>\n",
       "      <th></th>\n",
       "      <th></th>\n",
       "    </tr>\n",
       "  </thead>\n",
       "  <tbody>\n",
       "    <tr>\n",
       "      <th>1999-10-19</th>\n",
       "      <td>88.250</td>\n",
       "      <td>89.250</td>\n",
       "      <td>85.25</td>\n",
       "      <td>86.313</td>\n",
       "      <td>27.8594</td>\n",
       "      <td>69945600</td>\n",
       "      <td>0.0</td>\n",
       "    </tr>\n",
       "    <tr>\n",
       "      <th>1999-10-20</th>\n",
       "      <td>91.563</td>\n",
       "      <td>92.375</td>\n",
       "      <td>90.25</td>\n",
       "      <td>92.250</td>\n",
       "      <td>29.7758</td>\n",
       "      <td>88090600</td>\n",
       "      <td>0.0</td>\n",
       "    </tr>\n",
       "    <tr>\n",
       "      <th>1999-10-21</th>\n",
       "      <td>90.563</td>\n",
       "      <td>93.125</td>\n",
       "      <td>90.50</td>\n",
       "      <td>93.063</td>\n",
       "      <td>30.0381</td>\n",
       "      <td>60801200</td>\n",
       "      <td>0.0</td>\n",
       "    </tr>\n",
       "  </tbody>\n",
       "</table>\n",
       "</div>"
      ],
      "text/plain": [
       "              open    high    low   close  adjusted_close    volume  \\\n",
       "date                                                                  \n",
       "1999-10-19  88.250  89.250  85.25  86.313         27.8594  69945600   \n",
       "1999-10-20  91.563  92.375  90.25  92.250         29.7758  88090600   \n",
       "1999-10-21  90.563  93.125  90.50  93.063         30.0381  60801200   \n",
       "\n",
       "            dividend_amount  \n",
       "date                         \n",
       "1999-10-19              0.0  \n",
       "1999-10-20              0.0  \n",
       "1999-10-21              0.0  "
      ]
     },
     "execution_count": 54,
     "metadata": {},
     "output_type": "execute_result"
    }
   ],
   "source": [
    "import pandas as pd\n",
    "msft = pd.read_csv('../data/stocks/msft20.csv', parse_dates=['date'], index_col='date')\n",
    "msft.head(3)"
   ]
  },
  {
   "cell_type": "markdown",
   "metadata": {},
   "source": [
    "### Exercise 1\n",
    "\n",
    "<span style=\"color:green; font-size:16px\">In which week did MSFT have the greatest number of its shares (volume) traded?</span>"
   ]
  },
  {
   "cell_type": "code",
   "execution_count": 55,
   "metadata": {},
   "outputs": [
    {
     "data": {
      "text/html": [
       "<div>\n",
       "<style scoped>\n",
       "    .dataframe tbody tr th:only-of-type {\n",
       "        vertical-align: middle;\n",
       "    }\n",
       "\n",
       "    .dataframe tbody tr th {\n",
       "        vertical-align: top;\n",
       "    }\n",
       "\n",
       "    .dataframe thead th {\n",
       "        text-align: right;\n",
       "    }\n",
       "</style>\n",
       "<table border=\"1\" class=\"dataframe\">\n",
       "  <thead>\n",
       "    <tr style=\"text-align: right;\">\n",
       "      <th></th>\n",
       "      <th>volume</th>\n",
       "    </tr>\n",
       "    <tr>\n",
       "      <th>date</th>\n",
       "      <th></th>\n",
       "    </tr>\n",
       "  </thead>\n",
       "  <tbody>\n",
       "    <tr>\n",
       "      <th>1999-10-24</th>\n",
       "      <td>262488000</td>\n",
       "    </tr>\n",
       "    <tr>\n",
       "      <th>1999-10-31</th>\n",
       "      <td>287399400</td>\n",
       "    </tr>\n",
       "    <tr>\n",
       "      <th>1999-11-07</th>\n",
       "      <td>268534000</td>\n",
       "    </tr>\n",
       "    <tr>\n",
       "      <th>1999-11-14</th>\n",
       "      <td>541663200</td>\n",
       "    </tr>\n",
       "    <tr>\n",
       "      <th>1999-11-21</th>\n",
       "      <td>295783800</td>\n",
       "    </tr>\n",
       "  </tbody>\n",
       "</table>\n",
       "</div>"
      ],
      "text/plain": [
       "               volume\n",
       "date                 \n",
       "1999-10-24  262488000\n",
       "1999-10-31  287399400\n",
       "1999-11-07  268534000\n",
       "1999-11-14  541663200\n",
       "1999-11-21  295783800"
      ]
     },
     "execution_count": 55,
     "metadata": {},
     "output_type": "execute_result"
    }
   ],
   "source": [
    "volume = msft.resample('W').agg({'volume':'sum'})\n",
    "volume.head()"
   ]
  },
  {
   "cell_type": "code",
   "execution_count": 56,
   "metadata": {},
   "outputs": [
    {
     "data": {
      "text/html": [
       "<div>\n",
       "<style scoped>\n",
       "    .dataframe tbody tr th:only-of-type {\n",
       "        vertical-align: middle;\n",
       "    }\n",
       "\n",
       "    .dataframe tbody tr th {\n",
       "        vertical-align: top;\n",
       "    }\n",
       "\n",
       "    .dataframe thead th {\n",
       "        text-align: right;\n",
       "    }\n",
       "</style>\n",
       "<table border=\"1\" class=\"dataframe\">\n",
       "  <thead>\n",
       "    <tr style=\"text-align: right;\">\n",
       "      <th></th>\n",
       "      <th>volume</th>\n",
       "    </tr>\n",
       "  </thead>\n",
       "  <tbody>\n",
       "    <tr>\n",
       "      <th>max</th>\n",
       "      <td>879723200</td>\n",
       "    </tr>\n",
       "    <tr>\n",
       "      <th>idxmax</th>\n",
       "      <td>2006-05-07 00:00:00</td>\n",
       "    </tr>\n",
       "  </tbody>\n",
       "</table>\n",
       "</div>"
      ],
      "text/plain": [
       "                     volume\n",
       "max               879723200\n",
       "idxmax  2006-05-07 00:00:00"
      ]
     },
     "execution_count": 56,
     "metadata": {},
     "output_type": "execute_result"
    }
   ],
   "source": [
    "volume.agg(['max', 'idxmax'])"
   ]
  },
  {
   "cell_type": "markdown",
   "metadata": {},
   "source": [
    "### Exercise 2\n",
    "\n",
    "<span style=\"color:green; font-size:16px\">With help from the `diff` method, find the quarter containing the most number of \"up\" days. An up day is when the adjusted close of the current day is greater than the previous day.</span>"
   ]
  },
  {
   "cell_type": "markdown",
   "metadata": {},
   "source": [
    "Use diff to find the difference between the current row and the one directly above it."
   ]
  },
  {
   "cell_type": "code",
   "execution_count": 57,
   "metadata": {},
   "outputs": [
    {
     "data": {
      "text/plain": [
       "date\n",
       "1999-10-19       NaN\n",
       "1999-10-20    1.9164\n",
       "1999-10-21    0.2623\n",
       "1999-10-22   -0.1210\n",
       "1999-10-25   -0.0807\n",
       "Name: adjusted_close, dtype: float64"
      ]
     },
     "execution_count": 57,
     "metadata": {},
     "output_type": "execute_result"
    }
   ],
   "source": [
    "msft['adjusted_close'].diff().head()"
   ]
  },
  {
   "cell_type": "code",
   "execution_count": 58,
   "metadata": {},
   "outputs": [
    {
     "data": {
      "text/plain": [
       "date\n",
       "1999-10-19    False\n",
       "1999-10-20     True\n",
       "1999-10-21     True\n",
       "1999-10-22    False\n",
       "1999-10-25    False\n",
       "Name: adjusted_close, dtype: bool"
      ]
     },
     "execution_count": 58,
     "metadata": {},
     "output_type": "execute_result"
    }
   ],
   "source": [
    "up_days = msft['adjusted_close'].diff() > 0\n",
    "up_days.head()"
   ]
  },
  {
   "cell_type": "code",
   "execution_count": 59,
   "metadata": {},
   "outputs": [
    {
     "data": {
      "text/plain": [
       "date\n",
       "1999-12-31    24\n",
       "2000-03-31    32\n",
       "2000-06-30    30\n",
       "2000-09-30    23\n",
       "2000-12-31    29\n",
       "Freq: Q-DEC, Name: adjusted_close, dtype: int64"
      ]
     },
     "execution_count": 59,
     "metadata": {},
     "output_type": "execute_result"
    }
   ],
   "source": [
    "up_days.resample('Q').sum().head()"
   ]
  },
  {
   "cell_type": "code",
   "execution_count": 60,
   "metadata": {},
   "outputs": [
    {
     "data": {
      "text/plain": [
       "max                        43\n",
       "idxmax    2001-12-31 00:00:00\n",
       "Name: adjusted_close, dtype: object"
      ]
     },
     "execution_count": 60,
     "metadata": {},
     "output_type": "execute_result"
    }
   ],
   "source": [
    "up_days.resample('Q').sum().agg(['max', 'idxmax'])"
   ]
  },
  {
   "cell_type": "markdown",
   "metadata": {},
   "source": [
    "### Exercise 3\n",
    "\n",
    "<span style=\"color:green; font-size:16px\">Find the mean price per year along with the minimum and maximum volume.</span>"
   ]
  },
  {
   "cell_type": "code",
   "execution_count": 61,
   "metadata": {},
   "outputs": [
    {
     "data": {
      "text/html": [
       "<div>\n",
       "<style scoped>\n",
       "    .dataframe tbody tr th:only-of-type {\n",
       "        vertical-align: middle;\n",
       "    }\n",
       "\n",
       "    .dataframe tbody tr th {\n",
       "        vertical-align: top;\n",
       "    }\n",
       "\n",
       "    .dataframe thead tr th {\n",
       "        text-align: left;\n",
       "    }\n",
       "\n",
       "    .dataframe thead tr:last-of-type th {\n",
       "        text-align: right;\n",
       "    }\n",
       "</style>\n",
       "<table border=\"1\" class=\"dataframe\">\n",
       "  <thead>\n",
       "    <tr>\n",
       "      <th></th>\n",
       "      <th>adjusted_close</th>\n",
       "      <th colspan=\"2\" halign=\"left\">volume</th>\n",
       "    </tr>\n",
       "    <tr>\n",
       "      <th></th>\n",
       "      <th>mean</th>\n",
       "      <th>min</th>\n",
       "      <th>max</th>\n",
       "    </tr>\n",
       "    <tr>\n",
       "      <th>date</th>\n",
       "      <th></th>\n",
       "      <th></th>\n",
       "      <th></th>\n",
       "    </tr>\n",
       "  </thead>\n",
       "  <tbody>\n",
       "    <tr>\n",
       "      <th>1999-12-31</th>\n",
       "      <td>31.267802</td>\n",
       "      <td>12517600</td>\n",
       "      <td>243819200</td>\n",
       "    </tr>\n",
       "    <tr>\n",
       "      <th>2000-12-31</th>\n",
       "      <td>24.601943</td>\n",
       "      <td>15734800</td>\n",
       "      <td>313645800</td>\n",
       "    </tr>\n",
       "    <tr>\n",
       "      <th>2001-12-31</th>\n",
       "      <td>20.186950</td>\n",
       "      <td>11701600</td>\n",
       "      <td>209348800</td>\n",
       "    </tr>\n",
       "    <tr>\n",
       "      <th>2002-12-31</th>\n",
       "      <td>17.606981</td>\n",
       "      <td>18386000</td>\n",
       "      <td>202307800</td>\n",
       "    </tr>\n",
       "    <tr>\n",
       "      <th>2003-12-31</th>\n",
       "      <td>16.917920</td>\n",
       "      <td>12076900</td>\n",
       "      <td>210558300</td>\n",
       "    </tr>\n",
       "  </tbody>\n",
       "</table>\n",
       "</div>"
      ],
      "text/plain": [
       "           adjusted_close    volume           \n",
       "                     mean       min        max\n",
       "date                                          \n",
       "1999-12-31      31.267802  12517600  243819200\n",
       "2000-12-31      24.601943  15734800  313645800\n",
       "2001-12-31      20.186950  11701600  209348800\n",
       "2002-12-31      17.606981  18386000  202307800\n",
       "2003-12-31      16.917920  12076900  210558300"
      ]
     },
     "execution_count": 61,
     "metadata": {},
     "output_type": "execute_result"
    }
   ],
   "source": [
    "msft.resample('Y').agg({'adjusted_close': 'mean', \n",
    "                        'volume':['min', 'max']}).head()"
   ]
  },
  {
   "cell_type": "markdown",
   "metadata": {},
   "source": [
    "### Exercise 4\n",
    "\n",
    "<span style=\"color:green; font-size:16px\">Find the mean of each column for every 6 month time period. The first time period should start on the month in the first row.</span>"
   ]
  },
  {
   "cell_type": "code",
   "execution_count": 62,
   "metadata": {},
   "outputs": [
    {
     "data": {
      "text/html": [
       "<div>\n",
       "<style scoped>\n",
       "    .dataframe tbody tr th:only-of-type {\n",
       "        vertical-align: middle;\n",
       "    }\n",
       "\n",
       "    .dataframe tbody tr th {\n",
       "        vertical-align: top;\n",
       "    }\n",
       "\n",
       "    .dataframe thead th {\n",
       "        text-align: right;\n",
       "    }\n",
       "</style>\n",
       "<table border=\"1\" class=\"dataframe\">\n",
       "  <thead>\n",
       "    <tr style=\"text-align: right;\">\n",
       "      <th></th>\n",
       "      <th>open</th>\n",
       "      <th>high</th>\n",
       "      <th>low</th>\n",
       "      <th>close</th>\n",
       "      <th>adjusted_close</th>\n",
       "      <th>volume</th>\n",
       "      <th>dividend_amount</th>\n",
       "    </tr>\n",
       "    <tr>\n",
       "      <th>date</th>\n",
       "      <th></th>\n",
       "      <th></th>\n",
       "      <th></th>\n",
       "      <th></th>\n",
       "      <th></th>\n",
       "      <th></th>\n",
       "      <th></th>\n",
       "    </tr>\n",
       "  </thead>\n",
       "  <tbody>\n",
       "    <tr>\n",
       "      <th>1999-10-01</th>\n",
       "      <td>99.483626</td>\n",
       "      <td>101.524673</td>\n",
       "      <td>97.742539</td>\n",
       "      <td>99.664739</td>\n",
       "      <td>32.169063</td>\n",
       "      <td>6.881454e+07</td>\n",
       "      <td>0.0</td>\n",
       "    </tr>\n",
       "    <tr>\n",
       "      <th>2000-04-01</th>\n",
       "      <td>71.997584</td>\n",
       "      <td>73.081694</td>\n",
       "      <td>70.671567</td>\n",
       "      <td>71.754222</td>\n",
       "      <td>23.160267</td>\n",
       "      <td>7.102180e+07</td>\n",
       "      <td>0.0</td>\n",
       "    </tr>\n",
       "    <tr>\n",
       "      <th>2000-10-01</th>\n",
       "      <td>58.145086</td>\n",
       "      <td>59.643325</td>\n",
       "      <td>56.805082</td>\n",
       "      <td>58.132640</td>\n",
       "      <td>18.763582</td>\n",
       "      <td>9.557858e+07</td>\n",
       "      <td>0.0</td>\n",
       "    </tr>\n",
       "    <tr>\n",
       "      <th>2001-04-01</th>\n",
       "      <td>65.129725</td>\n",
       "      <td>66.240963</td>\n",
       "      <td>64.089618</td>\n",
       "      <td>65.175279</td>\n",
       "      <td>21.036842</td>\n",
       "      <td>7.723125e+07</td>\n",
       "      <td>0.0</td>\n",
       "    </tr>\n",
       "    <tr>\n",
       "      <th>2001-10-01</th>\n",
       "      <td>62.886563</td>\n",
       "      <td>63.912634</td>\n",
       "      <td>62.026427</td>\n",
       "      <td>62.991855</td>\n",
       "      <td>20.332069</td>\n",
       "      <td>6.147958e+07</td>\n",
       "      <td>0.0</td>\n",
       "    </tr>\n",
       "  </tbody>\n",
       "</table>\n",
       "</div>"
      ],
      "text/plain": [
       "                 open        high        low      close  adjusted_close  \\\n",
       "date                                                                      \n",
       "1999-10-01  99.483626  101.524673  97.742539  99.664739       32.169063   \n",
       "2000-04-01  71.997584   73.081694  70.671567  71.754222       23.160267   \n",
       "2000-10-01  58.145086   59.643325  56.805082  58.132640       18.763582   \n",
       "2001-04-01  65.129725   66.240963  64.089618  65.175279       21.036842   \n",
       "2001-10-01  62.886563   63.912634  62.026427  62.991855       20.332069   \n",
       "\n",
       "                  volume  dividend_amount  \n",
       "date                                       \n",
       "1999-10-01  6.881454e+07              0.0  \n",
       "2000-04-01  7.102180e+07              0.0  \n",
       "2000-10-01  9.557858e+07              0.0  \n",
       "2001-04-01  7.723125e+07              0.0  \n",
       "2001-10-01  6.147958e+07              0.0  "
      ]
     },
     "execution_count": 62,
     "metadata": {},
     "output_type": "execute_result"
    }
   ],
   "source": [
    "msft.resample('6MS').mean().head()"
   ]
  },
  {
   "cell_type": "markdown",
   "metadata": {},
   "source": [
    "### Exercise 5\n",
    "\n",
    "<span style=\"color:green; font-size:16px\">Repeat exercise 4 using a time span of 3 years where the year begins July 1.</span>"
   ]
  },
  {
   "cell_type": "code",
   "execution_count": 63,
   "metadata": {},
   "outputs": [
    {
     "data": {
      "text/html": [
       "<div>\n",
       "<style scoped>\n",
       "    .dataframe tbody tr th:only-of-type {\n",
       "        vertical-align: middle;\n",
       "    }\n",
       "\n",
       "    .dataframe tbody tr th {\n",
       "        vertical-align: top;\n",
       "    }\n",
       "\n",
       "    .dataframe thead th {\n",
       "        text-align: right;\n",
       "    }\n",
       "</style>\n",
       "<table border=\"1\" class=\"dataframe\">\n",
       "  <thead>\n",
       "    <tr style=\"text-align: right;\">\n",
       "      <th></th>\n",
       "      <th>open</th>\n",
       "      <th>high</th>\n",
       "      <th>low</th>\n",
       "      <th>close</th>\n",
       "      <th>adjusted_close</th>\n",
       "      <th>volume</th>\n",
       "      <th>dividend_amount</th>\n",
       "    </tr>\n",
       "    <tr>\n",
       "      <th>date</th>\n",
       "      <th></th>\n",
       "      <th></th>\n",
       "      <th></th>\n",
       "      <th></th>\n",
       "      <th></th>\n",
       "      <th></th>\n",
       "      <th></th>\n",
       "    </tr>\n",
       "  </thead>\n",
       "  <tbody>\n",
       "    <tr>\n",
       "      <th>1999-07-01</th>\n",
       "      <td>69.487248</td>\n",
       "      <td>70.805493</td>\n",
       "      <td>68.263427</td>\n",
       "      <td>69.497398</td>\n",
       "      <td>22.431853</td>\n",
       "      <td>7.474444e+07</td>\n",
       "      <td>0.000000</td>\n",
       "    </tr>\n",
       "    <tr>\n",
       "      <th>2002-07-01</th>\n",
       "      <td>31.591090</td>\n",
       "      <td>31.945893</td>\n",
       "      <td>31.225483</td>\n",
       "      <td>31.568721</td>\n",
       "      <td>17.448777</td>\n",
       "      <td>6.987057e+07</td>\n",
       "      <td>0.004703</td>\n",
       "    </tr>\n",
       "    <tr>\n",
       "      <th>2005-07-01</th>\n",
       "      <td>28.210885</td>\n",
       "      <td>28.479904</td>\n",
       "      <td>27.970386</td>\n",
       "      <td>28.214272</td>\n",
       "      <td>21.107137</td>\n",
       "      <td>6.750704e+07</td>\n",
       "      <td>0.001538</td>\n",
       "    </tr>\n",
       "    <tr>\n",
       "      <th>2008-07-01</th>\n",
       "      <td>24.989465</td>\n",
       "      <td>25.292230</td>\n",
       "      <td>24.681177</td>\n",
       "      <td>24.990675</td>\n",
       "      <td>19.746500</td>\n",
       "      <td>6.677171e+07</td>\n",
       "      <td>0.002153</td>\n",
       "    </tr>\n",
       "    <tr>\n",
       "      <th>2011-07-01</th>\n",
       "      <td>31.582066</td>\n",
       "      <td>31.855132</td>\n",
       "      <td>31.306446</td>\n",
       "      <td>31.599248</td>\n",
       "      <td>27.001569</td>\n",
       "      <td>4.788299e+07</td>\n",
       "      <td>0.003612</td>\n",
       "    </tr>\n",
       "  </tbody>\n",
       "</table>\n",
       "</div>"
      ],
      "text/plain": [
       "                 open       high        low      close  adjusted_close  \\\n",
       "date                                                                     \n",
       "1999-07-01  69.487248  70.805493  68.263427  69.497398       22.431853   \n",
       "2002-07-01  31.591090  31.945893  31.225483  31.568721       17.448777   \n",
       "2005-07-01  28.210885  28.479904  27.970386  28.214272       21.107137   \n",
       "2008-07-01  24.989465  25.292230  24.681177  24.990675       19.746500   \n",
       "2011-07-01  31.582066  31.855132  31.306446  31.599248       27.001569   \n",
       "\n",
       "                  volume  dividend_amount  \n",
       "date                                       \n",
       "1999-07-01  7.474444e+07         0.000000  \n",
       "2002-07-01  6.987057e+07         0.004703  \n",
       "2005-07-01  6.750704e+07         0.001538  \n",
       "2008-07-01  6.677171e+07         0.002153  \n",
       "2011-07-01  4.788299e+07         0.003612  "
      ]
     },
     "execution_count": 63,
     "metadata": {},
     "output_type": "execute_result"
    }
   ],
   "source": [
    "msft.resample('3AS-Jul').mean().head()"
   ]
  },
  {
   "cell_type": "markdown",
   "metadata": {},
   "source": [
    "### Exercise 6\n",
    "\n",
    "<span style=\"color:green; font-size:16px\">Repeat exercise five using the `groupby` method instead of `resample`.</span>"
   ]
  },
  {
   "cell_type": "code",
   "execution_count": 64,
   "metadata": {},
   "outputs": [
    {
     "data": {
      "text/html": [
       "<div>\n",
       "<style scoped>\n",
       "    .dataframe tbody tr th:only-of-type {\n",
       "        vertical-align: middle;\n",
       "    }\n",
       "\n",
       "    .dataframe tbody tr th {\n",
       "        vertical-align: top;\n",
       "    }\n",
       "\n",
       "    .dataframe thead th {\n",
       "        text-align: right;\n",
       "    }\n",
       "</style>\n",
       "<table border=\"1\" class=\"dataframe\">\n",
       "  <thead>\n",
       "    <tr style=\"text-align: right;\">\n",
       "      <th></th>\n",
       "      <th>open</th>\n",
       "      <th>high</th>\n",
       "      <th>low</th>\n",
       "      <th>close</th>\n",
       "      <th>adjusted_close</th>\n",
       "      <th>volume</th>\n",
       "      <th>dividend_amount</th>\n",
       "    </tr>\n",
       "    <tr>\n",
       "      <th>date</th>\n",
       "      <th></th>\n",
       "      <th></th>\n",
       "      <th></th>\n",
       "      <th></th>\n",
       "      <th></th>\n",
       "      <th></th>\n",
       "      <th></th>\n",
       "    </tr>\n",
       "  </thead>\n",
       "  <tbody>\n",
       "    <tr>\n",
       "      <th>1999-07-01</th>\n",
       "      <td>69.487248</td>\n",
       "      <td>70.805493</td>\n",
       "      <td>68.263427</td>\n",
       "      <td>69.497398</td>\n",
       "      <td>22.431853</td>\n",
       "      <td>7.474444e+07</td>\n",
       "      <td>0.000000</td>\n",
       "    </tr>\n",
       "    <tr>\n",
       "      <th>2002-07-01</th>\n",
       "      <td>31.591090</td>\n",
       "      <td>31.945893</td>\n",
       "      <td>31.225483</td>\n",
       "      <td>31.568721</td>\n",
       "      <td>17.448777</td>\n",
       "      <td>6.987057e+07</td>\n",
       "      <td>0.004703</td>\n",
       "    </tr>\n",
       "    <tr>\n",
       "      <th>2005-07-01</th>\n",
       "      <td>28.210885</td>\n",
       "      <td>28.479904</td>\n",
       "      <td>27.970386</td>\n",
       "      <td>28.214272</td>\n",
       "      <td>21.107137</td>\n",
       "      <td>6.750704e+07</td>\n",
       "      <td>0.001538</td>\n",
       "    </tr>\n",
       "    <tr>\n",
       "      <th>2008-07-01</th>\n",
       "      <td>24.989465</td>\n",
       "      <td>25.292230</td>\n",
       "      <td>24.681177</td>\n",
       "      <td>24.990675</td>\n",
       "      <td>19.746500</td>\n",
       "      <td>6.677171e+07</td>\n",
       "      <td>0.002153</td>\n",
       "    </tr>\n",
       "    <tr>\n",
       "      <th>2011-07-01</th>\n",
       "      <td>31.582066</td>\n",
       "      <td>31.855132</td>\n",
       "      <td>31.306446</td>\n",
       "      <td>31.599248</td>\n",
       "      <td>27.001569</td>\n",
       "      <td>4.788299e+07</td>\n",
       "      <td>0.003612</td>\n",
       "    </tr>\n",
       "  </tbody>\n",
       "</table>\n",
       "</div>"
      ],
      "text/plain": [
       "                 open       high        low      close  adjusted_close  \\\n",
       "date                                                                     \n",
       "1999-07-01  69.487248  70.805493  68.263427  69.497398       22.431853   \n",
       "2002-07-01  31.591090  31.945893  31.225483  31.568721       17.448777   \n",
       "2005-07-01  28.210885  28.479904  27.970386  28.214272       21.107137   \n",
       "2008-07-01  24.989465  25.292230  24.681177  24.990675       19.746500   \n",
       "2011-07-01  31.582066  31.855132  31.306446  31.599248       27.001569   \n",
       "\n",
       "                  volume  dividend_amount  \n",
       "date                                       \n",
       "1999-07-01  7.474444e+07         0.000000  \n",
       "2002-07-01  6.987057e+07         0.004703  \n",
       "2005-07-01  6.750704e+07         0.001538  \n",
       "2008-07-01  6.677171e+07         0.002153  \n",
       "2011-07-01  4.788299e+07         0.003612  "
      ]
     },
     "execution_count": 64,
     "metadata": {},
     "output_type": "execute_result"
    }
   ],
   "source": [
    "msft.groupby(pd.Grouper(freq='3AS-Jul')).mean().head()"
   ]
  },
  {
   "cell_type": "markdown",
   "metadata": {},
   "source": [
    "### Use the temperature dataset for the remaining exercises\n",
    "\n",
    "Execute the following cell to read in the temperature dataset which sets the datetime column in the index."
   ]
  },
  {
   "cell_type": "code",
   "execution_count": 65,
   "metadata": {},
   "outputs": [
    {
     "data": {
      "text/html": [
       "<div>\n",
       "<style scoped>\n",
       "    .dataframe tbody tr th:only-of-type {\n",
       "        vertical-align: middle;\n",
       "    }\n",
       "\n",
       "    .dataframe tbody tr th {\n",
       "        vertical-align: top;\n",
       "    }\n",
       "\n",
       "    .dataframe thead th {\n",
       "        text-align: right;\n",
       "    }\n",
       "</style>\n",
       "<table border=\"1\" class=\"dataframe\">\n",
       "  <thead>\n",
       "    <tr style=\"text-align: right;\">\n",
       "      <th></th>\n",
       "      <th>Seattle</th>\n",
       "      <th>San Francisco</th>\n",
       "      <th>Los Angeles</th>\n",
       "      <th>Las Vegas</th>\n",
       "      <th>Denver</th>\n",
       "      <th>Houston</th>\n",
       "      <th>Chicago</th>\n",
       "      <th>Atlanta</th>\n",
       "      <th>Miami</th>\n",
       "      <th>New York</th>\n",
       "    </tr>\n",
       "    <tr>\n",
       "      <th>datetime</th>\n",
       "      <th></th>\n",
       "      <th></th>\n",
       "      <th></th>\n",
       "      <th></th>\n",
       "      <th></th>\n",
       "      <th></th>\n",
       "      <th></th>\n",
       "      <th></th>\n",
       "      <th></th>\n",
       "      <th></th>\n",
       "    </tr>\n",
       "  </thead>\n",
       "  <tbody>\n",
       "    <tr>\n",
       "      <th>2013-01-01 00:00:00</th>\n",
       "      <td>2.94</td>\n",
       "      <td>11.50</td>\n",
       "      <td>11.66</td>\n",
       "      <td>7.28</td>\n",
       "      <td>-2.30</td>\n",
       "      <td>8.81</td>\n",
       "      <td>-0.19</td>\n",
       "      <td>1.92</td>\n",
       "      <td>19.41</td>\n",
       "      <td>-1.12</td>\n",
       "    </tr>\n",
       "    <tr>\n",
       "      <th>2013-01-01 01:00:00</th>\n",
       "      <td>2.40</td>\n",
       "      <td>10.22</td>\n",
       "      <td>10.67</td>\n",
       "      <td>5.95</td>\n",
       "      <td>-3.23</td>\n",
       "      <td>8.81</td>\n",
       "      <td>0.28</td>\n",
       "      <td>0.60</td>\n",
       "      <td>19.35</td>\n",
       "      <td>-1.69</td>\n",
       "    </tr>\n",
       "    <tr>\n",
       "      <th>2013-01-01 02:00:00</th>\n",
       "      <td>1.70</td>\n",
       "      <td>8.02</td>\n",
       "      <td>9.91</td>\n",
       "      <td>5.18</td>\n",
       "      <td>-3.03</td>\n",
       "      <td>8.81</td>\n",
       "      <td>0.33</td>\n",
       "      <td>-0.53</td>\n",
       "      <td>18.99</td>\n",
       "      <td>-1.96</td>\n",
       "    </tr>\n",
       "    <tr>\n",
       "      <th>2013-01-01 03:00:00</th>\n",
       "      <td>1.45</td>\n",
       "      <td>7.30</td>\n",
       "      <td>9.33</td>\n",
       "      <td>4.42</td>\n",
       "      <td>-3.67</td>\n",
       "      <td>8.48</td>\n",
       "      <td>0.12</td>\n",
       "      <td>-1.36</td>\n",
       "      <td>18.56</td>\n",
       "      <td>-2.08</td>\n",
       "    </tr>\n",
       "    <tr>\n",
       "      <th>2013-01-01 04:00:00</th>\n",
       "      <td>0.95</td>\n",
       "      <td>6.84</td>\n",
       "      <td>8.82</td>\n",
       "      <td>3.62</td>\n",
       "      <td>-5.55</td>\n",
       "      <td>8.34</td>\n",
       "      <td>0.04</td>\n",
       "      <td>-1.44</td>\n",
       "      <td>18.49</td>\n",
       "      <td>-2.32</td>\n",
       "    </tr>\n",
       "  </tbody>\n",
       "</table>\n",
       "</div>"
      ],
      "text/plain": [
       "                     Seattle  San Francisco  Los Angeles  Las Vegas  Denver  \\\n",
       "datetime                                                                      \n",
       "2013-01-01 00:00:00     2.94          11.50        11.66       7.28   -2.30   \n",
       "2013-01-01 01:00:00     2.40          10.22        10.67       5.95   -3.23   \n",
       "2013-01-01 02:00:00     1.70           8.02         9.91       5.18   -3.03   \n",
       "2013-01-01 03:00:00     1.45           7.30         9.33       4.42   -3.67   \n",
       "2013-01-01 04:00:00     0.95           6.84         8.82       3.62   -5.55   \n",
       "\n",
       "                     Houston  Chicago  Atlanta  Miami  New York  \n",
       "datetime                                                         \n",
       "2013-01-01 00:00:00     8.81    -0.19     1.92  19.41     -1.12  \n",
       "2013-01-01 01:00:00     8.81     0.28     0.60  19.35     -1.69  \n",
       "2013-01-01 02:00:00     8.81     0.33    -0.53  18.99     -1.96  \n",
       "2013-01-01 03:00:00     8.48     0.12    -1.36  18.56     -2.08  \n",
       "2013-01-01 04:00:00     8.34     0.04    -1.44  18.49     -2.32  "
      ]
     },
     "execution_count": 65,
     "metadata": {},
     "output_type": "execute_result"
    }
   ],
   "source": [
    "temp = pd.read_csv('../data/weather/temperature.csv', \n",
    "                   parse_dates=['datetime'], index_col='datetime')\n",
    "temp.head()"
   ]
  },
  {
   "cell_type": "markdown",
   "metadata": {},
   "source": [
    "### Exercise 7\n",
    "\n",
    "<span style=\"color:green; font-size:16px\">Find the mean temperature of every city for every 8 hour time period.</span>"
   ]
  },
  {
   "cell_type": "code",
   "execution_count": 66,
   "metadata": {},
   "outputs": [
    {
     "data": {
      "text/html": [
       "<div>\n",
       "<style scoped>\n",
       "    .dataframe tbody tr th:only-of-type {\n",
       "        vertical-align: middle;\n",
       "    }\n",
       "\n",
       "    .dataframe tbody tr th {\n",
       "        vertical-align: top;\n",
       "    }\n",
       "\n",
       "    .dataframe thead th {\n",
       "        text-align: right;\n",
       "    }\n",
       "</style>\n",
       "<table border=\"1\" class=\"dataframe\">\n",
       "  <thead>\n",
       "    <tr style=\"text-align: right;\">\n",
       "      <th></th>\n",
       "      <th>Seattle</th>\n",
       "      <th>San Francisco</th>\n",
       "      <th>Los Angeles</th>\n",
       "      <th>Las Vegas</th>\n",
       "      <th>Denver</th>\n",
       "      <th>Houston</th>\n",
       "      <th>Chicago</th>\n",
       "      <th>Atlanta</th>\n",
       "      <th>Miami</th>\n",
       "      <th>New York</th>\n",
       "    </tr>\n",
       "    <tr>\n",
       "      <th>datetime</th>\n",
       "      <th></th>\n",
       "      <th></th>\n",
       "      <th></th>\n",
       "      <th></th>\n",
       "      <th></th>\n",
       "      <th></th>\n",
       "      <th></th>\n",
       "      <th></th>\n",
       "      <th></th>\n",
       "      <th></th>\n",
       "    </tr>\n",
       "  </thead>\n",
       "  <tbody>\n",
       "    <tr>\n",
       "      <th>2013-01-01 00:00:00</th>\n",
       "      <td>1.33750</td>\n",
       "      <td>7.69875</td>\n",
       "      <td>9.22625</td>\n",
       "      <td>4.89125</td>\n",
       "      <td>-4.74625</td>\n",
       "      <td>8.71875</td>\n",
       "      <td>0.04875</td>\n",
       "      <td>-0.78000</td>\n",
       "      <td>19.00625</td>\n",
       "      <td>-2.28000</td>\n",
       "    </tr>\n",
       "    <tr>\n",
       "      <th>2013-01-01 08:00:00</th>\n",
       "      <td>-0.05625</td>\n",
       "      <td>3.97750</td>\n",
       "      <td>5.62500</td>\n",
       "      <td>2.37000</td>\n",
       "      <td>-8.02500</td>\n",
       "      <td>11.24375</td>\n",
       "      <td>1.05500</td>\n",
       "      <td>-0.16750</td>\n",
       "      <td>20.16625</td>\n",
       "      <td>-1.54250</td>\n",
       "    </tr>\n",
       "    <tr>\n",
       "      <th>2013-01-01 16:00:00</th>\n",
       "      <td>2.03750</td>\n",
       "      <td>8.42000</td>\n",
       "      <td>11.72125</td>\n",
       "      <td>6.13875</td>\n",
       "      <td>-5.85750</td>\n",
       "      <td>15.62875</td>\n",
       "      <td>-0.13125</td>\n",
       "      <td>10.00375</td>\n",
       "      <td>22.66750</td>\n",
       "      <td>2.59250</td>\n",
       "    </tr>\n",
       "    <tr>\n",
       "      <th>2013-01-02 00:00:00</th>\n",
       "      <td>1.45500</td>\n",
       "      <td>7.60250</td>\n",
       "      <td>9.49000</td>\n",
       "      <td>2.94625</td>\n",
       "      <td>-9.14375</td>\n",
       "      <td>18.82625</td>\n",
       "      <td>-5.02750</td>\n",
       "      <td>8.60375</td>\n",
       "      <td>21.32125</td>\n",
       "      <td>3.07500</td>\n",
       "    </tr>\n",
       "    <tr>\n",
       "      <th>2013-01-02 08:00:00</th>\n",
       "      <td>-0.62125</td>\n",
       "      <td>5.04500</td>\n",
       "      <td>5.92875</td>\n",
       "      <td>-1.06500</td>\n",
       "      <td>-11.80625</td>\n",
       "      <td>14.46000</td>\n",
       "      <td>-8.68375</td>\n",
       "      <td>8.61375</td>\n",
       "      <td>21.77625</td>\n",
       "      <td>3.61875</td>\n",
       "    </tr>\n",
       "    <tr>\n",
       "      <th>2013-01-02 16:00:00</th>\n",
       "      <td>2.26125</td>\n",
       "      <td>8.76750</td>\n",
       "      <td>12.42500</td>\n",
       "      <td>4.89875</td>\n",
       "      <td>-3.93250</td>\n",
       "      <td>11.65875</td>\n",
       "      <td>-5.09125</td>\n",
       "      <td>10.04000</td>\n",
       "      <td>24.38625</td>\n",
       "      <td>2.91250</td>\n",
       "    </tr>\n",
       "  </tbody>\n",
       "</table>\n",
       "</div>"
      ],
      "text/plain": [
       "                     Seattle  San Francisco  Los Angeles  Las Vegas    Denver  \\\n",
       "datetime                                                                        \n",
       "2013-01-01 00:00:00  1.33750        7.69875      9.22625    4.89125  -4.74625   \n",
       "2013-01-01 08:00:00 -0.05625        3.97750      5.62500    2.37000  -8.02500   \n",
       "2013-01-01 16:00:00  2.03750        8.42000     11.72125    6.13875  -5.85750   \n",
       "2013-01-02 00:00:00  1.45500        7.60250      9.49000    2.94625  -9.14375   \n",
       "2013-01-02 08:00:00 -0.62125        5.04500      5.92875   -1.06500 -11.80625   \n",
       "2013-01-02 16:00:00  2.26125        8.76750     12.42500    4.89875  -3.93250   \n",
       "\n",
       "                      Houston  Chicago   Atlanta     Miami  New York  \n",
       "datetime                                                              \n",
       "2013-01-01 00:00:00   8.71875  0.04875  -0.78000  19.00625  -2.28000  \n",
       "2013-01-01 08:00:00  11.24375  1.05500  -0.16750  20.16625  -1.54250  \n",
       "2013-01-01 16:00:00  15.62875 -0.13125  10.00375  22.66750   2.59250  \n",
       "2013-01-02 00:00:00  18.82625 -5.02750   8.60375  21.32125   3.07500  \n",
       "2013-01-02 08:00:00  14.46000 -8.68375   8.61375  21.77625   3.61875  \n",
       "2013-01-02 16:00:00  11.65875 -5.09125  10.04000  24.38625   2.91250  "
      ]
     },
     "execution_count": 66,
     "metadata": {},
     "output_type": "execute_result"
    }
   ],
   "source": [
    "temp.resample('8H').mean().head(6)"
   ]
  },
  {
   "cell_type": "markdown",
   "metadata": {},
   "source": [
    "### Exercise 8\n",
    "\n",
    "<span style=\"color:green; font-size:16px\">Verify that there are 24 rows for each day.</span>"
   ]
  },
  {
   "cell_type": "code",
   "execution_count": 67,
   "metadata": {},
   "outputs": [
    {
     "data": {
      "text/plain": [
       "datetime\n",
       "2013-01-01    24\n",
       "2013-01-02    24\n",
       "2013-01-03    24\n",
       "2013-01-04    24\n",
       "2013-01-05    24\n",
       "Freq: D, dtype: int64"
      ]
     },
     "execution_count": 67,
     "metadata": {},
     "output_type": "execute_result"
    }
   ],
   "source": [
    "temp.resample('D').size().head()"
   ]
  },
  {
   "cell_type": "markdown",
   "metadata": {},
   "source": [
    "Get the unique values."
   ]
  },
  {
   "cell_type": "code",
   "execution_count": 68,
   "metadata": {},
   "outputs": [
    {
     "data": {
      "text/plain": [
       "array([24])"
      ]
     },
     "execution_count": 68,
     "metadata": {},
     "output_type": "execute_result"
    }
   ],
   "source": [
    "temp.resample('D').size().unique()"
   ]
  },
  {
   "cell_type": "markdown",
   "metadata": {},
   "source": [
    "### Exercise 9\n",
    "\n",
    "<span style=\"color:green; font-size:16px\">For each month, return the maximum temperature amongst all cities.</span>"
   ]
  },
  {
   "cell_type": "code",
   "execution_count": 69,
   "metadata": {
    "scrolled": true
   },
   "outputs": [
    {
     "data": {
      "text/html": [
       "<div>\n",
       "<style scoped>\n",
       "    .dataframe tbody tr th:only-of-type {\n",
       "        vertical-align: middle;\n",
       "    }\n",
       "\n",
       "    .dataframe tbody tr th {\n",
       "        vertical-align: top;\n",
       "    }\n",
       "\n",
       "    .dataframe thead th {\n",
       "        text-align: right;\n",
       "    }\n",
       "</style>\n",
       "<table border=\"1\" class=\"dataframe\">\n",
       "  <thead>\n",
       "    <tr style=\"text-align: right;\">\n",
       "      <th></th>\n",
       "      <th>Seattle</th>\n",
       "      <th>San Francisco</th>\n",
       "      <th>Los Angeles</th>\n",
       "      <th>Las Vegas</th>\n",
       "      <th>Denver</th>\n",
       "      <th>Houston</th>\n",
       "      <th>Chicago</th>\n",
       "      <th>Atlanta</th>\n",
       "      <th>Miami</th>\n",
       "      <th>New York</th>\n",
       "    </tr>\n",
       "    <tr>\n",
       "      <th>datetime</th>\n",
       "      <th></th>\n",
       "      <th></th>\n",
       "      <th></th>\n",
       "      <th></th>\n",
       "      <th></th>\n",
       "      <th></th>\n",
       "      <th></th>\n",
       "      <th></th>\n",
       "      <th></th>\n",
       "      <th></th>\n",
       "    </tr>\n",
       "  </thead>\n",
       "  <tbody>\n",
       "    <tr>\n",
       "      <th>2013-01-31</th>\n",
       "      <td>10.65</td>\n",
       "      <td>16.69</td>\n",
       "      <td>25.54</td>\n",
       "      <td>17.47</td>\n",
       "      <td>17.00</td>\n",
       "      <td>25.57</td>\n",
       "      <td>14.00</td>\n",
       "      <td>22.86</td>\n",
       "      <td>27.36</td>\n",
       "      <td>13.12</td>\n",
       "    </tr>\n",
       "    <tr>\n",
       "      <th>2013-02-28</th>\n",
       "      <td>11.55</td>\n",
       "      <td>19.94</td>\n",
       "      <td>26.29</td>\n",
       "      <td>20.66</td>\n",
       "      <td>16.26</td>\n",
       "      <td>25.97</td>\n",
       "      <td>10.95</td>\n",
       "      <td>18.21</td>\n",
       "      <td>28.71</td>\n",
       "      <td>12.63</td>\n",
       "    </tr>\n",
       "    <tr>\n",
       "      <th>2013-03-31</th>\n",
       "      <td>18.31</td>\n",
       "      <td>23.22</td>\n",
       "      <td>27.61</td>\n",
       "      <td>29.74</td>\n",
       "      <td>22.49</td>\n",
       "      <td>31.64</td>\n",
       "      <td>14.62</td>\n",
       "      <td>24.51</td>\n",
       "      <td>31.07</td>\n",
       "      <td>14.18</td>\n",
       "    </tr>\n",
       "    <tr>\n",
       "      <th>2013-04-30</th>\n",
       "      <td>21.43</td>\n",
       "      <td>30.11</td>\n",
       "      <td>27.94</td>\n",
       "      <td>36.10</td>\n",
       "      <td>25.17</td>\n",
       "      <td>28.07</td>\n",
       "      <td>22.79</td>\n",
       "      <td>28.58</td>\n",
       "      <td>30.42</td>\n",
       "      <td>27.91</td>\n",
       "    </tr>\n",
       "    <tr>\n",
       "      <th>2013-05-31</th>\n",
       "      <td>28.72</td>\n",
       "      <td>30.90</td>\n",
       "      <td>32.58</td>\n",
       "      <td>38.18</td>\n",
       "      <td>29.54</td>\n",
       "      <td>32.21</td>\n",
       "      <td>31.67</td>\n",
       "      <td>30.13</td>\n",
       "      <td>32.07</td>\n",
       "      <td>32.84</td>\n",
       "    </tr>\n",
       "  </tbody>\n",
       "</table>\n",
       "</div>"
      ],
      "text/plain": [
       "            Seattle  San Francisco  Los Angeles  Las Vegas  Denver  Houston  \\\n",
       "datetime                                                                      \n",
       "2013-01-31    10.65          16.69        25.54      17.47   17.00    25.57   \n",
       "2013-02-28    11.55          19.94        26.29      20.66   16.26    25.97   \n",
       "2013-03-31    18.31          23.22        27.61      29.74   22.49    31.64   \n",
       "2013-04-30    21.43          30.11        27.94      36.10   25.17    28.07   \n",
       "2013-05-31    28.72          30.90        32.58      38.18   29.54    32.21   \n",
       "\n",
       "            Chicago  Atlanta  Miami  New York  \n",
       "datetime                                       \n",
       "2013-01-31    14.00    22.86  27.36     13.12  \n",
       "2013-02-28    10.95    18.21  28.71     12.63  \n",
       "2013-03-31    14.62    24.51  31.07     14.18  \n",
       "2013-04-30    22.79    28.58  30.42     27.91  \n",
       "2013-05-31    31.67    30.13  32.07     32.84  "
      ]
     },
     "execution_count": 69,
     "metadata": {},
     "output_type": "execute_result"
    }
   ],
   "source": [
    "# get max temperature for each city\n",
    "max_temp = temp.resample('M').max()\n",
    "max_temp.head()"
   ]
  },
  {
   "cell_type": "code",
   "execution_count": 70,
   "metadata": {},
   "outputs": [
    {
     "data": {
      "text/plain": [
       "datetime\n",
       "2013-01-31    27.36\n",
       "2013-02-28    28.71\n",
       "2013-03-31    31.64\n",
       "2013-04-30    36.10\n",
       "2013-05-31    38.18\n",
       "Freq: M, dtype: float64"
      ]
     },
     "execution_count": 70,
     "metadata": {},
     "output_type": "execute_result"
    }
   ],
   "source": [
    "# now get maximum amongst all cities\n",
    "max_temp.max(axis=1).head()"
   ]
  },
  {
   "cell_type": "markdown",
   "metadata": {},
   "source": [
    "### Exercise 10\n",
    "\n",
    "<span style=\"color:green; font-size:16px\">For each month, return the maximum temperature amongst all cities along with the city name where the maximum occurred. Return a two-column DataFrame, where the first column is the maximum temperature, and the second is the city. The index should be the month.</span>"
   ]
  },
  {
   "cell_type": "code",
   "execution_count": 71,
   "metadata": {
    "scrolled": true
   },
   "outputs": [
    {
     "data": {
      "text/html": [
       "<div>\n",
       "<style scoped>\n",
       "    .dataframe tbody tr th:only-of-type {\n",
       "        vertical-align: middle;\n",
       "    }\n",
       "\n",
       "    .dataframe tbody tr th {\n",
       "        vertical-align: top;\n",
       "    }\n",
       "\n",
       "    .dataframe thead th {\n",
       "        text-align: right;\n",
       "    }\n",
       "</style>\n",
       "<table border=\"1\" class=\"dataframe\">\n",
       "  <thead>\n",
       "    <tr style=\"text-align: right;\">\n",
       "      <th></th>\n",
       "      <th>max</th>\n",
       "      <th>idxmax</th>\n",
       "    </tr>\n",
       "  </thead>\n",
       "  <tbody>\n",
       "    <tr>\n",
       "      <th>2013-01-31</th>\n",
       "      <td>27.36</td>\n",
       "      <td>Miami</td>\n",
       "    </tr>\n",
       "    <tr>\n",
       "      <th>2013-02-28</th>\n",
       "      <td>28.71</td>\n",
       "      <td>Miami</td>\n",
       "    </tr>\n",
       "    <tr>\n",
       "      <th>2013-03-31</th>\n",
       "      <td>31.64</td>\n",
       "      <td>Houston</td>\n",
       "    </tr>\n",
       "    <tr>\n",
       "      <th>2013-04-30</th>\n",
       "      <td>36.1</td>\n",
       "      <td>Las Vegas</td>\n",
       "    </tr>\n",
       "    <tr>\n",
       "      <th>2013-05-31</th>\n",
       "      <td>38.18</td>\n",
       "      <td>Las Vegas</td>\n",
       "    </tr>\n",
       "    <tr>\n",
       "      <th>2013-06-30</th>\n",
       "      <td>45.49</td>\n",
       "      <td>Las Vegas</td>\n",
       "    </tr>\n",
       "    <tr>\n",
       "      <th>2013-07-31</th>\n",
       "      <td>45.26</td>\n",
       "      <td>Las Vegas</td>\n",
       "    </tr>\n",
       "    <tr>\n",
       "      <th>2013-08-31</th>\n",
       "      <td>42.54</td>\n",
       "      <td>Las Vegas</td>\n",
       "    </tr>\n",
       "    <tr>\n",
       "      <th>2013-09-30</th>\n",
       "      <td>38.8</td>\n",
       "      <td>Los Angeles</td>\n",
       "    </tr>\n",
       "    <tr>\n",
       "      <th>2013-10-31</th>\n",
       "      <td>40.6</td>\n",
       "      <td>Denver</td>\n",
       "    </tr>\n",
       "  </tbody>\n",
       "</table>\n",
       "</div>"
      ],
      "text/plain": [
       "              max       idxmax\n",
       "2013-01-31  27.36        Miami\n",
       "2013-02-28  28.71        Miami\n",
       "2013-03-31  31.64      Houston\n",
       "2013-04-30   36.1    Las Vegas\n",
       "2013-05-31  38.18    Las Vegas\n",
       "2013-06-30  45.49    Las Vegas\n",
       "2013-07-31  45.26    Las Vegas\n",
       "2013-08-31  42.54    Las Vegas\n",
       "2013-09-30   38.8  Los Angeles\n",
       "2013-10-31   40.6       Denver"
      ]
     },
     "execution_count": 71,
     "metadata": {},
     "output_type": "execute_result"
    }
   ],
   "source": [
    "# use max_temp from exercise 9\n",
    "max_temp.agg(['max', 'idxmax'], axis=1).head(10)"
   ]
  },
  {
   "cell_type": "markdown",
   "metadata": {},
   "source": [
    "## 4. Rolling Windows"
   ]
  },
  {
   "cell_type": "code",
   "execution_count": 72,
   "metadata": {},
   "outputs": [
    {
     "data": {
      "text/html": [
       "<div>\n",
       "<style scoped>\n",
       "    .dataframe tbody tr th:only-of-type {\n",
       "        vertical-align: middle;\n",
       "    }\n",
       "\n",
       "    .dataframe tbody tr th {\n",
       "        vertical-align: top;\n",
       "    }\n",
       "\n",
       "    .dataframe thead th {\n",
       "        text-align: right;\n",
       "    }\n",
       "</style>\n",
       "<table border=\"1\" class=\"dataframe\">\n",
       "  <thead>\n",
       "    <tr style=\"text-align: right;\">\n",
       "      <th></th>\n",
       "      <th>Seattle</th>\n",
       "      <th>San Francisco</th>\n",
       "      <th>Los Angeles</th>\n",
       "      <th>Las Vegas</th>\n",
       "      <th>Denver</th>\n",
       "      <th>Houston</th>\n",
       "      <th>Chicago</th>\n",
       "      <th>Atlanta</th>\n",
       "      <th>Miami</th>\n",
       "      <th>New York</th>\n",
       "    </tr>\n",
       "    <tr>\n",
       "      <th>datetime</th>\n",
       "      <th></th>\n",
       "      <th></th>\n",
       "      <th></th>\n",
       "      <th></th>\n",
       "      <th></th>\n",
       "      <th></th>\n",
       "      <th></th>\n",
       "      <th></th>\n",
       "      <th></th>\n",
       "      <th></th>\n",
       "    </tr>\n",
       "  </thead>\n",
       "  <tbody>\n",
       "    <tr>\n",
       "      <th>2013-01-01 00:00:00</th>\n",
       "      <td>2.94</td>\n",
       "      <td>11.50</td>\n",
       "      <td>11.66</td>\n",
       "      <td>7.28</td>\n",
       "      <td>-2.30</td>\n",
       "      <td>8.81</td>\n",
       "      <td>-0.19</td>\n",
       "      <td>1.92</td>\n",
       "      <td>19.41</td>\n",
       "      <td>-1.12</td>\n",
       "    </tr>\n",
       "    <tr>\n",
       "      <th>2013-01-01 01:00:00</th>\n",
       "      <td>2.40</td>\n",
       "      <td>10.22</td>\n",
       "      <td>10.67</td>\n",
       "      <td>5.95</td>\n",
       "      <td>-3.23</td>\n",
       "      <td>8.81</td>\n",
       "      <td>0.28</td>\n",
       "      <td>0.60</td>\n",
       "      <td>19.35</td>\n",
       "      <td>-1.69</td>\n",
       "    </tr>\n",
       "    <tr>\n",
       "      <th>2013-01-01 02:00:00</th>\n",
       "      <td>1.70</td>\n",
       "      <td>8.02</td>\n",
       "      <td>9.91</td>\n",
       "      <td>5.18</td>\n",
       "      <td>-3.03</td>\n",
       "      <td>8.81</td>\n",
       "      <td>0.33</td>\n",
       "      <td>-0.53</td>\n",
       "      <td>18.99</td>\n",
       "      <td>-1.96</td>\n",
       "    </tr>\n",
       "    <tr>\n",
       "      <th>2013-01-01 03:00:00</th>\n",
       "      <td>1.45</td>\n",
       "      <td>7.30</td>\n",
       "      <td>9.33</td>\n",
       "      <td>4.42</td>\n",
       "      <td>-3.67</td>\n",
       "      <td>8.48</td>\n",
       "      <td>0.12</td>\n",
       "      <td>-1.36</td>\n",
       "      <td>18.56</td>\n",
       "      <td>-2.08</td>\n",
       "    </tr>\n",
       "    <tr>\n",
       "      <th>2013-01-01 04:00:00</th>\n",
       "      <td>0.95</td>\n",
       "      <td>6.84</td>\n",
       "      <td>8.82</td>\n",
       "      <td>3.62</td>\n",
       "      <td>-5.55</td>\n",
       "      <td>8.34</td>\n",
       "      <td>0.04</td>\n",
       "      <td>-1.44</td>\n",
       "      <td>18.49</td>\n",
       "      <td>-2.32</td>\n",
       "    </tr>\n",
       "  </tbody>\n",
       "</table>\n",
       "</div>"
      ],
      "text/plain": [
       "                     Seattle  San Francisco  Los Angeles  Las Vegas  Denver  \\\n",
       "datetime                                                                      \n",
       "2013-01-01 00:00:00     2.94          11.50        11.66       7.28   -2.30   \n",
       "2013-01-01 01:00:00     2.40          10.22        10.67       5.95   -3.23   \n",
       "2013-01-01 02:00:00     1.70           8.02         9.91       5.18   -3.03   \n",
       "2013-01-01 03:00:00     1.45           7.30         9.33       4.42   -3.67   \n",
       "2013-01-01 04:00:00     0.95           6.84         8.82       3.62   -5.55   \n",
       "\n",
       "                     Houston  Chicago  Atlanta  Miami  New York  \n",
       "datetime                                                         \n",
       "2013-01-01 00:00:00     8.81    -0.19     1.92  19.41     -1.12  \n",
       "2013-01-01 01:00:00     8.81     0.28     0.60  19.35     -1.69  \n",
       "2013-01-01 02:00:00     8.81     0.33    -0.53  18.99     -1.96  \n",
       "2013-01-01 03:00:00     8.48     0.12    -1.36  18.56     -2.08  \n",
       "2013-01-01 04:00:00     8.34     0.04    -1.44  18.49     -2.32  "
      ]
     },
     "execution_count": 72,
     "metadata": {},
     "output_type": "execute_result"
    }
   ],
   "source": [
    "temp = pd.read_csv('../data/weather/temperature.csv', \n",
    "                   parse_dates=['datetime'], index_col='datetime')\n",
    "temp.head()"
   ]
  },
  {
   "cell_type": "markdown",
   "metadata": {},
   "source": [
    "### Exercise 1\n",
    "\n",
    "<span style=\"color:green; font-size:16px\">Calculate a 6-hour moving average of temperature. Set the minimum number of rows used in the group to 1.</span>"
   ]
  },
  {
   "cell_type": "code",
   "execution_count": 73,
   "metadata": {},
   "outputs": [
    {
     "data": {
      "text/html": [
       "<div>\n",
       "<style scoped>\n",
       "    .dataframe tbody tr th:only-of-type {\n",
       "        vertical-align: middle;\n",
       "    }\n",
       "\n",
       "    .dataframe tbody tr th {\n",
       "        vertical-align: top;\n",
       "    }\n",
       "\n",
       "    .dataframe thead th {\n",
       "        text-align: right;\n",
       "    }\n",
       "</style>\n",
       "<table border=\"1\" class=\"dataframe\">\n",
       "  <thead>\n",
       "    <tr style=\"text-align: right;\">\n",
       "      <th></th>\n",
       "      <th>Seattle</th>\n",
       "      <th>San Francisco</th>\n",
       "      <th>Los Angeles</th>\n",
       "      <th>Las Vegas</th>\n",
       "      <th>Denver</th>\n",
       "      <th>Houston</th>\n",
       "      <th>Chicago</th>\n",
       "      <th>Atlanta</th>\n",
       "      <th>Miami</th>\n",
       "      <th>New York</th>\n",
       "    </tr>\n",
       "    <tr>\n",
       "      <th>datetime</th>\n",
       "      <th></th>\n",
       "      <th></th>\n",
       "      <th></th>\n",
       "      <th></th>\n",
       "      <th></th>\n",
       "      <th></th>\n",
       "      <th></th>\n",
       "      <th></th>\n",
       "      <th></th>\n",
       "      <th></th>\n",
       "    </tr>\n",
       "  </thead>\n",
       "  <tbody>\n",
       "    <tr>\n",
       "      <th>2013-01-01 00:00:00</th>\n",
       "      <td>2.940000</td>\n",
       "      <td>11.500000</td>\n",
       "      <td>11.660000</td>\n",
       "      <td>7.280000</td>\n",
       "      <td>-2.300000</td>\n",
       "      <td>8.8100</td>\n",
       "      <td>-0.190</td>\n",
       "      <td>1.920000</td>\n",
       "      <td>19.4100</td>\n",
       "      <td>-1.1200</td>\n",
       "    </tr>\n",
       "    <tr>\n",
       "      <th>2013-01-01 01:00:00</th>\n",
       "      <td>2.670000</td>\n",
       "      <td>10.860000</td>\n",
       "      <td>11.165000</td>\n",
       "      <td>6.615000</td>\n",
       "      <td>-2.765000</td>\n",
       "      <td>8.8100</td>\n",
       "      <td>0.045</td>\n",
       "      <td>1.260000</td>\n",
       "      <td>19.3800</td>\n",
       "      <td>-1.4050</td>\n",
       "    </tr>\n",
       "    <tr>\n",
       "      <th>2013-01-01 02:00:00</th>\n",
       "      <td>2.346667</td>\n",
       "      <td>9.913333</td>\n",
       "      <td>10.746667</td>\n",
       "      <td>6.136667</td>\n",
       "      <td>-2.853333</td>\n",
       "      <td>8.8100</td>\n",
       "      <td>0.140</td>\n",
       "      <td>0.663333</td>\n",
       "      <td>19.2500</td>\n",
       "      <td>-1.5900</td>\n",
       "    </tr>\n",
       "    <tr>\n",
       "      <th>2013-01-01 03:00:00</th>\n",
       "      <td>2.122500</td>\n",
       "      <td>9.260000</td>\n",
       "      <td>10.392500</td>\n",
       "      <td>5.707500</td>\n",
       "      <td>-3.057500</td>\n",
       "      <td>8.7275</td>\n",
       "      <td>0.135</td>\n",
       "      <td>0.157500</td>\n",
       "      <td>19.0775</td>\n",
       "      <td>-1.7125</td>\n",
       "    </tr>\n",
       "    <tr>\n",
       "      <th>2013-01-01 04:00:00</th>\n",
       "      <td>1.888000</td>\n",
       "      <td>8.776000</td>\n",
       "      <td>10.078000</td>\n",
       "      <td>5.290000</td>\n",
       "      <td>-3.556000</td>\n",
       "      <td>8.6500</td>\n",
       "      <td>0.116</td>\n",
       "      <td>-0.162000</td>\n",
       "      <td>18.9600</td>\n",
       "      <td>-1.8340</td>\n",
       "    </tr>\n",
       "  </tbody>\n",
       "</table>\n",
       "</div>"
      ],
      "text/plain": [
       "                      Seattle  San Francisco  Los Angeles  Las Vegas  \\\n",
       "datetime                                                               \n",
       "2013-01-01 00:00:00  2.940000      11.500000    11.660000   7.280000   \n",
       "2013-01-01 01:00:00  2.670000      10.860000    11.165000   6.615000   \n",
       "2013-01-01 02:00:00  2.346667       9.913333    10.746667   6.136667   \n",
       "2013-01-01 03:00:00  2.122500       9.260000    10.392500   5.707500   \n",
       "2013-01-01 04:00:00  1.888000       8.776000    10.078000   5.290000   \n",
       "\n",
       "                       Denver  Houston  Chicago   Atlanta    Miami  New York  \n",
       "datetime                                                                      \n",
       "2013-01-01 00:00:00 -2.300000   8.8100   -0.190  1.920000  19.4100   -1.1200  \n",
       "2013-01-01 01:00:00 -2.765000   8.8100    0.045  1.260000  19.3800   -1.4050  \n",
       "2013-01-01 02:00:00 -2.853333   8.8100    0.140  0.663333  19.2500   -1.5900  \n",
       "2013-01-01 03:00:00 -3.057500   8.7275    0.135  0.157500  19.0775   -1.7125  \n",
       "2013-01-01 04:00:00 -3.556000   8.6500    0.116 -0.162000  18.9600   -1.8340  "
      ]
     },
     "execution_count": 73,
     "metadata": {},
     "output_type": "execute_result"
    }
   ],
   "source": [
    "temp.rolling('6H', min_periods=1).mean().head()"
   ]
  },
  {
   "cell_type": "markdown",
   "metadata": {},
   "source": [
    "### Exercise 2\n",
    "\n",
    "<span style=\"color:green; font-size:16px\">How many observations are there in each 30-day rolling window of time? Use the `count` method because the `size` method is not available.</span>"
   ]
  },
  {
   "cell_type": "markdown",
   "metadata": {},
   "source": [
    "There are 720 (`24 * 30`) observations per period as there are observations each hour."
   ]
  },
  {
   "cell_type": "code",
   "execution_count": 74,
   "metadata": {
    "scrolled": true
   },
   "outputs": [
    {
     "data": {
      "text/html": [
       "<div>\n",
       "<style scoped>\n",
       "    .dataframe tbody tr th:only-of-type {\n",
       "        vertical-align: middle;\n",
       "    }\n",
       "\n",
       "    .dataframe tbody tr th {\n",
       "        vertical-align: top;\n",
       "    }\n",
       "\n",
       "    .dataframe thead th {\n",
       "        text-align: right;\n",
       "    }\n",
       "</style>\n",
       "<table border=\"1\" class=\"dataframe\">\n",
       "  <thead>\n",
       "    <tr style=\"text-align: right;\">\n",
       "      <th></th>\n",
       "      <th>Seattle</th>\n",
       "      <th>San Francisco</th>\n",
       "      <th>Los Angeles</th>\n",
       "      <th>Las Vegas</th>\n",
       "      <th>Denver</th>\n",
       "      <th>Houston</th>\n",
       "      <th>Chicago</th>\n",
       "      <th>Atlanta</th>\n",
       "      <th>Miami</th>\n",
       "      <th>New York</th>\n",
       "    </tr>\n",
       "    <tr>\n",
       "      <th>datetime</th>\n",
       "      <th></th>\n",
       "      <th></th>\n",
       "      <th></th>\n",
       "      <th></th>\n",
       "      <th></th>\n",
       "      <th></th>\n",
       "      <th></th>\n",
       "      <th></th>\n",
       "      <th></th>\n",
       "      <th></th>\n",
       "    </tr>\n",
       "  </thead>\n",
       "  <tbody>\n",
       "    <tr>\n",
       "      <th>2016-12-31 19:00:00</th>\n",
       "      <td>720.0</td>\n",
       "      <td>720.0</td>\n",
       "      <td>720.0</td>\n",
       "      <td>720.0</td>\n",
       "      <td>720.0</td>\n",
       "      <td>720.0</td>\n",
       "      <td>720.0</td>\n",
       "      <td>720.0</td>\n",
       "      <td>720.0</td>\n",
       "      <td>720.0</td>\n",
       "    </tr>\n",
       "    <tr>\n",
       "      <th>2016-12-31 20:00:00</th>\n",
       "      <td>720.0</td>\n",
       "      <td>720.0</td>\n",
       "      <td>720.0</td>\n",
       "      <td>720.0</td>\n",
       "      <td>720.0</td>\n",
       "      <td>720.0</td>\n",
       "      <td>720.0</td>\n",
       "      <td>720.0</td>\n",
       "      <td>720.0</td>\n",
       "      <td>720.0</td>\n",
       "    </tr>\n",
       "    <tr>\n",
       "      <th>2016-12-31 21:00:00</th>\n",
       "      <td>720.0</td>\n",
       "      <td>720.0</td>\n",
       "      <td>720.0</td>\n",
       "      <td>720.0</td>\n",
       "      <td>720.0</td>\n",
       "      <td>720.0</td>\n",
       "      <td>720.0</td>\n",
       "      <td>720.0</td>\n",
       "      <td>720.0</td>\n",
       "      <td>720.0</td>\n",
       "    </tr>\n",
       "    <tr>\n",
       "      <th>2016-12-31 22:00:00</th>\n",
       "      <td>720.0</td>\n",
       "      <td>720.0</td>\n",
       "      <td>720.0</td>\n",
       "      <td>720.0</td>\n",
       "      <td>720.0</td>\n",
       "      <td>720.0</td>\n",
       "      <td>720.0</td>\n",
       "      <td>720.0</td>\n",
       "      <td>720.0</td>\n",
       "      <td>720.0</td>\n",
       "    </tr>\n",
       "    <tr>\n",
       "      <th>2016-12-31 23:00:00</th>\n",
       "      <td>720.0</td>\n",
       "      <td>720.0</td>\n",
       "      <td>720.0</td>\n",
       "      <td>720.0</td>\n",
       "      <td>720.0</td>\n",
       "      <td>720.0</td>\n",
       "      <td>720.0</td>\n",
       "      <td>720.0</td>\n",
       "      <td>720.0</td>\n",
       "      <td>720.0</td>\n",
       "    </tr>\n",
       "  </tbody>\n",
       "</table>\n",
       "</div>"
      ],
      "text/plain": [
       "                     Seattle  San Francisco  Los Angeles  Las Vegas  Denver  \\\n",
       "datetime                                                                      \n",
       "2016-12-31 19:00:00    720.0          720.0        720.0      720.0   720.0   \n",
       "2016-12-31 20:00:00    720.0          720.0        720.0      720.0   720.0   \n",
       "2016-12-31 21:00:00    720.0          720.0        720.0      720.0   720.0   \n",
       "2016-12-31 22:00:00    720.0          720.0        720.0      720.0   720.0   \n",
       "2016-12-31 23:00:00    720.0          720.0        720.0      720.0   720.0   \n",
       "\n",
       "                     Houston  Chicago  Atlanta  Miami  New York  \n",
       "datetime                                                         \n",
       "2016-12-31 19:00:00    720.0    720.0    720.0  720.0     720.0  \n",
       "2016-12-31 20:00:00    720.0    720.0    720.0  720.0     720.0  \n",
       "2016-12-31 21:00:00    720.0    720.0    720.0  720.0     720.0  \n",
       "2016-12-31 22:00:00    720.0    720.0    720.0  720.0     720.0  \n",
       "2016-12-31 23:00:00    720.0    720.0    720.0  720.0     720.0  "
      ]
     },
     "execution_count": 74,
     "metadata": {},
     "output_type": "execute_result"
    }
   ],
   "source": [
    "temp.rolling('30D', min_periods=1).count().tail()"
   ]
  },
  {
   "cell_type": "markdown",
   "metadata": {},
   "source": [
    "### Exercise 3\n",
    "\n",
    "<span style=\"color:green; font-size:16px\">Calculate the 30-day moving average for Los Angeles and Houston using a 1-row minimum. What percentage of the rows does Houston have a higher temperature?</span>"
   ]
  },
  {
   "cell_type": "code",
   "execution_count": 75,
   "metadata": {},
   "outputs": [
    {
     "data": {
      "text/plain": [
       "0.8586584531143052"
      ]
     },
     "execution_count": 75,
     "metadata": {},
     "output_type": "execute_result"
    }
   ],
   "source": [
    "houston = temp['Houston'].rolling('30D', min_periods=1).mean()\n",
    "los_angeles = temp['Los Angeles'].rolling('30D', min_periods=1).mean()\n",
    "(houston > los_angeles).mean()"
   ]
  },
  {
   "cell_type": "markdown",
   "metadata": {},
   "source": [
    "### Exercise 4\n",
    "\n",
    "<span style=\"color:green; font-size:16px\">Calculate the minimum, maximum, and mean temperatures for Houston using a rolling 14-day period and plot the results.</span>"
   ]
  },
  {
   "cell_type": "code",
   "execution_count": 76,
   "metadata": {},
   "outputs": [
    {
     "data": {
      "text/plain": [
       "<AxesSubplot:xlabel='datetime'>"
      ]
     },
     "execution_count": 76,
     "metadata": {},
     "output_type": "execute_result"
    },
    {
     "data": {
      "image/png": "[encoded data removed]",
      "text/plain": [
       "<Figure size 864x288 with 1 Axes>"
      ]
     },
     "metadata": {
      "needs_background": "light"
     },
     "output_type": "display_data"
    }
   ],
   "source": [
    "import matplotlib.pyplot as plt\n",
    "plt.style.use('../../mdap.mplstyle')\n",
    "houston = temp['Houston'].rolling('14D', min_periods=1).agg(['max', 'mean', 'min'])\n",
    "houston.plot(figsize=(6, 2), style=['-', '--', '-'])"
   ]
  },
  {
   "cell_type": "markdown",
   "metadata": {},
   "source": [
    "## 5. Grouping by Time and another Column"
   ]
  },
  {
   "cell_type": "code",
   "execution_count": 77,
   "metadata": {},
   "outputs": [
    {
     "data": {
      "text/html": [
       "<div>\n",
       "<style scoped>\n",
       "    .dataframe tbody tr th:only-of-type {\n",
       "        vertical-align: middle;\n",
       "    }\n",
       "\n",
       "    .dataframe tbody tr th {\n",
       "        vertical-align: top;\n",
       "    }\n",
       "\n",
       "    .dataframe thead th {\n",
       "        text-align: right;\n",
       "    }\n",
       "</style>\n",
       "<table border=\"1\" class=\"dataframe\">\n",
       "  <thead>\n",
       "    <tr style=\"text-align: right;\">\n",
       "      <th></th>\n",
       "      <th>source</th>\n",
       "      <th>energy (btu)</th>\n",
       "    </tr>\n",
       "    <tr>\n",
       "      <th>date</th>\n",
       "      <th></th>\n",
       "      <th></th>\n",
       "    </tr>\n",
       "  </thead>\n",
       "  <tbody>\n",
       "    <tr>\n",
       "      <th>1973-01-01</th>\n",
       "      <td>residential</td>\n",
       "      <td>1932.187</td>\n",
       "    </tr>\n",
       "    <tr>\n",
       "      <th>1973-02-01</th>\n",
       "      <td>residential</td>\n",
       "      <td>1687.255</td>\n",
       "    </tr>\n",
       "    <tr>\n",
       "      <th>1973-03-01</th>\n",
       "      <td>residential</td>\n",
       "      <td>1497.067</td>\n",
       "    </tr>\n",
       "    <tr>\n",
       "      <th>1973-04-01</th>\n",
       "      <td>residential</td>\n",
       "      <td>1177.661</td>\n",
       "    </tr>\n",
       "    <tr>\n",
       "      <th>1973-05-01</th>\n",
       "      <td>residential</td>\n",
       "      <td>1015.008</td>\n",
       "    </tr>\n",
       "  </tbody>\n",
       "</table>\n",
       "</div>"
      ],
      "text/plain": [
       "                 source  energy (btu)\n",
       "date                                 \n",
       "1973-01-01  residential      1932.187\n",
       "1973-02-01  residential      1687.255\n",
       "1973-03-01  residential      1497.067\n",
       "1973-04-01  residential      1177.661\n",
       "1973-05-01  residential      1015.008"
      ]
     },
     "execution_count": 77,
     "metadata": {},
     "output_type": "execute_result"
    }
   ],
   "source": [
    "import pandas as pd\n",
    "energy = pd.read_csv('../data/energy_consumption.csv', parse_dates=['date'], \n",
    "                     index_col='date')\n",
    "energy.head()"
   ]
  },
  {
   "cell_type": "markdown",
   "metadata": {},
   "source": [
    "### Exercise 1\n",
    "\n",
    "<span style=\"color:green; font-size:16px\">Find the average energy consumption per sector per 10 year time span beginning from the first year of data. Return the results using both `groupby` and `pivot_table`.</span>"
   ]
  },
  {
   "cell_type": "code",
   "execution_count": 78,
   "metadata": {},
   "outputs": [
    {
     "data": {
      "text/html": [
       "<div>\n",
       "<style scoped>\n",
       "    .dataframe tbody tr th:only-of-type {\n",
       "        vertical-align: middle;\n",
       "    }\n",
       "\n",
       "    .dataframe tbody tr th {\n",
       "        vertical-align: top;\n",
       "    }\n",
       "\n",
       "    .dataframe thead tr th {\n",
       "        text-align: left;\n",
       "    }\n",
       "\n",
       "    .dataframe thead tr:last-of-type th {\n",
       "        text-align: right;\n",
       "    }\n",
       "</style>\n",
       "<table border=\"1\" class=\"dataframe\">\n",
       "  <thead>\n",
       "    <tr>\n",
       "      <th></th>\n",
       "      <th></th>\n",
       "      <th colspan=\"2\" halign=\"left\">energy (btu)</th>\n",
       "    </tr>\n",
       "    <tr>\n",
       "      <th></th>\n",
       "      <th></th>\n",
       "      <th>sum</th>\n",
       "      <th>size</th>\n",
       "    </tr>\n",
       "    <tr>\n",
       "      <th>source</th>\n",
       "      <th>date</th>\n",
       "      <th></th>\n",
       "      <th></th>\n",
       "    </tr>\n",
       "  </thead>\n",
       "  <tbody>\n",
       "    <tr>\n",
       "      <th rowspan=\"5\" valign=\"top\">commercial</th>\n",
       "      <th>1973-01-01</th>\n",
       "      <td>101931</td>\n",
       "      <td>120</td>\n",
       "    </tr>\n",
       "    <tr>\n",
       "      <th>1983-01-01</th>\n",
       "      <td>123438</td>\n",
       "      <td>120</td>\n",
       "    </tr>\n",
       "    <tr>\n",
       "      <th>1993-01-01</th>\n",
       "      <td>157480</td>\n",
       "      <td>120</td>\n",
       "    </tr>\n",
       "    <tr>\n",
       "      <th>2003-01-01</th>\n",
       "      <td>178566</td>\n",
       "      <td>120</td>\n",
       "    </tr>\n",
       "    <tr>\n",
       "      <th>2013-01-01</th>\n",
       "      <td>102779</td>\n",
       "      <td>68</td>\n",
       "    </tr>\n",
       "    <tr>\n",
       "      <th rowspan=\"5\" valign=\"top\">industrial</th>\n",
       "      <th>1973-01-01</th>\n",
       "      <td>314461</td>\n",
       "      <td>120</td>\n",
       "    </tr>\n",
       "    <tr>\n",
       "      <th>1983-01-01</th>\n",
       "      <td>301236</td>\n",
       "      <td>120</td>\n",
       "    </tr>\n",
       "    <tr>\n",
       "      <th>1993-01-01</th>\n",
       "      <td>339833</td>\n",
       "      <td>120</td>\n",
       "    </tr>\n",
       "    <tr>\n",
       "      <th>2003-01-01</th>\n",
       "      <td>315776</td>\n",
       "      <td>120</td>\n",
       "    </tr>\n",
       "    <tr>\n",
       "      <th>2013-01-01</th>\n",
       "      <td>180058</td>\n",
       "      <td>68</td>\n",
       "    </tr>\n",
       "    <tr>\n",
       "      <th rowspan=\"5\" valign=\"top\">residential</th>\n",
       "      <th>1973-01-01</th>\n",
       "      <td>153900</td>\n",
       "      <td>120</td>\n",
       "    </tr>\n",
       "    <tr>\n",
       "      <th>1983-01-01</th>\n",
       "      <td>166286</td>\n",
       "      <td>120</td>\n",
       "    </tr>\n",
       "    <tr>\n",
       "      <th>1993-01-01</th>\n",
       "      <td>193051</td>\n",
       "      <td>120</td>\n",
       "    </tr>\n",
       "    <tr>\n",
       "      <th>2003-01-01</th>\n",
       "      <td>211705</td>\n",
       "      <td>120</td>\n",
       "    </tr>\n",
       "    <tr>\n",
       "      <th>2013-01-01</th>\n",
       "      <td>117522</td>\n",
       "      <td>68</td>\n",
       "    </tr>\n",
       "    <tr>\n",
       "      <th rowspan=\"5\" valign=\"top\">transportation</th>\n",
       "      <th>1973-01-01</th>\n",
       "      <td>193286</td>\n",
       "      <td>120</td>\n",
       "    </tr>\n",
       "    <tr>\n",
       "      <th>1983-01-01</th>\n",
       "      <td>212926</td>\n",
       "      <td>120</td>\n",
       "    </tr>\n",
       "    <tr>\n",
       "      <th>1993-01-01</th>\n",
       "      <td>249648</td>\n",
       "      <td>120</td>\n",
       "    </tr>\n",
       "    <tr>\n",
       "      <th>2003-01-01</th>\n",
       "      <td>274455</td>\n",
       "      <td>120</td>\n",
       "    </tr>\n",
       "    <tr>\n",
       "      <th>2013-01-01</th>\n",
       "      <td>156173</td>\n",
       "      <td>68</td>\n",
       "    </tr>\n",
       "  </tbody>\n",
       "</table>\n",
       "</div>"
      ],
      "text/plain": [
       "                          energy (btu)     \n",
       "                                   sum size\n",
       "source         date                        \n",
       "commercial     1973-01-01       101931  120\n",
       "               1983-01-01       123438  120\n",
       "               1993-01-01       157480  120\n",
       "               2003-01-01       178566  120\n",
       "               2013-01-01       102779   68\n",
       "industrial     1973-01-01       314461  120\n",
       "               1983-01-01       301236  120\n",
       "               1993-01-01       339833  120\n",
       "               2003-01-01       315776  120\n",
       "               2013-01-01       180058   68\n",
       "residential    1973-01-01       153900  120\n",
       "               1983-01-01       166286  120\n",
       "               1993-01-01       193051  120\n",
       "               2003-01-01       211705  120\n",
       "               2013-01-01       117522   68\n",
       "transportation 1973-01-01       193286  120\n",
       "               1983-01-01       212926  120\n",
       "               1993-01-01       249648  120\n",
       "               2003-01-01       274455  120\n",
       "               2013-01-01       156173   68"
      ]
     },
     "execution_count": 78,
     "metadata": {},
     "output_type": "execute_result"
    }
   ],
   "source": [
    "tg = pd.Grouper(freq='10YS')\n",
    "energy.groupby(['source', tg]).agg({'energy (btu)':['sum', 'size']}).astype('int')"
   ]
  },
  {
   "cell_type": "code",
   "execution_count": 79,
   "metadata": {
    "scrolled": false
   },
   "outputs": [
    {
     "data": {
      "text/html": [
       "<div>\n",
       "<style scoped>\n",
       "    .dataframe tbody tr th:only-of-type {\n",
       "        vertical-align: middle;\n",
       "    }\n",
       "\n",
       "    .dataframe tbody tr th {\n",
       "        vertical-align: top;\n",
       "    }\n",
       "\n",
       "    .dataframe thead th {\n",
       "        text-align: right;\n",
       "    }\n",
       "</style>\n",
       "<table border=\"1\" class=\"dataframe\">\n",
       "  <thead>\n",
       "    <tr style=\"text-align: right;\">\n",
       "      <th>source</th>\n",
       "      <th>commercial</th>\n",
       "      <th>industrial</th>\n",
       "      <th>residential</th>\n",
       "      <th>transportation</th>\n",
       "    </tr>\n",
       "    <tr>\n",
       "      <th>date</th>\n",
       "      <th></th>\n",
       "      <th></th>\n",
       "      <th></th>\n",
       "      <th></th>\n",
       "    </tr>\n",
       "  </thead>\n",
       "  <tbody>\n",
       "    <tr>\n",
       "      <th>1973-01-01</th>\n",
       "      <td>101931</td>\n",
       "      <td>314461</td>\n",
       "      <td>153900</td>\n",
       "      <td>193286</td>\n",
       "    </tr>\n",
       "    <tr>\n",
       "      <th>1983-01-01</th>\n",
       "      <td>123438</td>\n",
       "      <td>301236</td>\n",
       "      <td>166286</td>\n",
       "      <td>212926</td>\n",
       "    </tr>\n",
       "    <tr>\n",
       "      <th>1993-01-01</th>\n",
       "      <td>157480</td>\n",
       "      <td>339833</td>\n",
       "      <td>193051</td>\n",
       "      <td>249648</td>\n",
       "    </tr>\n",
       "    <tr>\n",
       "      <th>2003-01-01</th>\n",
       "      <td>178566</td>\n",
       "      <td>315776</td>\n",
       "      <td>211705</td>\n",
       "      <td>274455</td>\n",
       "    </tr>\n",
       "    <tr>\n",
       "      <th>2013-01-01</th>\n",
       "      <td>102779</td>\n",
       "      <td>180058</td>\n",
       "      <td>117522</td>\n",
       "      <td>156173</td>\n",
       "    </tr>\n",
       "  </tbody>\n",
       "</table>\n",
       "</div>"
      ],
      "text/plain": [
       "source      commercial  industrial  residential  transportation\n",
       "date                                                           \n",
       "1973-01-01      101931      314461       153900          193286\n",
       "1983-01-01      123438      301236       166286          212926\n",
       "1993-01-01      157480      339833       193051          249648\n",
       "2003-01-01      178566      315776       211705          274455\n",
       "2013-01-01      102779      180058       117522          156173"
      ]
     },
     "execution_count": 79,
     "metadata": {},
     "output_type": "execute_result"
    }
   ],
   "source": [
    "energy.pivot_table(index=tg, columns='source', \n",
    "                   values='energy (btu)', aggfunc='sum').astype('int')"
   ]
  },
  {
   "cell_type": "markdown",
   "metadata": {},
   "source": [
    "### Use the bikes dataset for the remaining exercises\n",
    "\n",
    "Execute the following cell to read in the bikes dataset. Note, that it does NOT set the index to be a datetime."
   ]
  },
  {
   "cell_type": "code",
   "execution_count": 80,
   "metadata": {},
   "outputs": [
    {
     "data": {
      "text/html": [
       "<div>\n",
       "<style scoped>\n",
       "    .dataframe tbody tr th:only-of-type {\n",
       "        vertical-align: middle;\n",
       "    }\n",
       "\n",
       "    .dataframe tbody tr th {\n",
       "        vertical-align: top;\n",
       "    }\n",
       "\n",
       "    .dataframe thead th {\n",
       "        text-align: right;\n",
       "    }\n",
       "</style>\n",
       "<table border=\"1\" class=\"dataframe\">\n",
       "  <thead>\n",
       "    <tr style=\"text-align: right;\">\n",
       "      <th></th>\n",
       "      <th>trip_id</th>\n",
       "      <th>gender</th>\n",
       "      <th>starttime</th>\n",
       "      <th>stoptime</th>\n",
       "      <th>tripduration</th>\n",
       "      <th>from_station_name</th>\n",
       "      <th>dpcapacity_start</th>\n",
       "      <th>to_station_name</th>\n",
       "      <th>dpcapacity_end</th>\n",
       "      <th>temperature</th>\n",
       "      <th>visibility</th>\n",
       "      <th>wind_speed</th>\n",
       "      <th>precipitation</th>\n",
       "      <th>events</th>\n",
       "    </tr>\n",
       "  </thead>\n",
       "  <tbody>\n",
       "    <tr>\n",
       "      <th>0</th>\n",
       "      <td>7147</td>\n",
       "      <td>Male</td>\n",
       "      <td>2013-06-28 19:01:00</td>\n",
       "      <td>2013-06-28 19:17:00</td>\n",
       "      <td>993</td>\n",
       "      <td>Lake Shore Dr &amp; Monroe St</td>\n",
       "      <td>11.0</td>\n",
       "      <td>Michigan Ave &amp; Oak St</td>\n",
       "      <td>15.0</td>\n",
       "      <td>73.9</td>\n",
       "      <td>10.0</td>\n",
       "      <td>12.7</td>\n",
       "      <td>-9999.0</td>\n",
       "      <td>mostlycloudy</td>\n",
       "    </tr>\n",
       "    <tr>\n",
       "      <th>1</th>\n",
       "      <td>7524</td>\n",
       "      <td>Male</td>\n",
       "      <td>2013-06-28 22:53:00</td>\n",
       "      <td>2013-06-28 23:03:00</td>\n",
       "      <td>623</td>\n",
       "      <td>Clinton St &amp; Washington Blvd</td>\n",
       "      <td>31.0</td>\n",
       "      <td>Wells St &amp; Walton St</td>\n",
       "      <td>19.0</td>\n",
       "      <td>69.1</td>\n",
       "      <td>10.0</td>\n",
       "      <td>6.9</td>\n",
       "      <td>-9999.0</td>\n",
       "      <td>partlycloudy</td>\n",
       "    </tr>\n",
       "    <tr>\n",
       "      <th>2</th>\n",
       "      <td>10927</td>\n",
       "      <td>Male</td>\n",
       "      <td>2013-06-30 14:43:00</td>\n",
       "      <td>2013-06-30 15:01:00</td>\n",
       "      <td>1040</td>\n",
       "      <td>Sheffield Ave &amp; Kingsbury St</td>\n",
       "      <td>15.0</td>\n",
       "      <td>Dearborn St &amp; Monroe St</td>\n",
       "      <td>23.0</td>\n",
       "      <td>73.0</td>\n",
       "      <td>10.0</td>\n",
       "      <td>16.1</td>\n",
       "      <td>-9999.0</td>\n",
       "      <td>mostlycloudy</td>\n",
       "    </tr>\n",
       "  </tbody>\n",
       "</table>\n",
       "</div>"
      ],
      "text/plain": [
       "   trip_id gender           starttime            stoptime  tripduration  \\\n",
       "0     7147   Male 2013-06-28 19:01:00 2013-06-28 19:17:00           993   \n",
       "1     7524   Male 2013-06-28 22:53:00 2013-06-28 23:03:00           623   \n",
       "2    10927   Male 2013-06-30 14:43:00 2013-06-30 15:01:00          1040   \n",
       "\n",
       "              from_station_name  dpcapacity_start          to_station_name  \\\n",
       "0     Lake Shore Dr & Monroe St              11.0    Michigan Ave & Oak St   \n",
       "1  Clinton St & Washington Blvd              31.0     Wells St & Walton St   \n",
       "2  Sheffield Ave & Kingsbury St              15.0  Dearborn St & Monroe St   \n",
       "\n",
       "   dpcapacity_end  temperature  visibility  wind_speed  precipitation  \\\n",
       "0            15.0         73.9        10.0        12.7        -9999.0   \n",
       "1            19.0         69.1        10.0         6.9        -9999.0   \n",
       "2            23.0         73.0        10.0        16.1        -9999.0   \n",
       "\n",
       "         events  \n",
       "0  mostlycloudy  \n",
       "1  partlycloudy  \n",
       "2  mostlycloudy  "
      ]
     },
     "execution_count": 80,
     "metadata": {},
     "output_type": "execute_result"
    }
   ],
   "source": [
    "bikes = pd.read_csv('../data/bikes.csv', parse_dates=['starttime', 'stoptime'])\n",
    "bikes.head(3)"
   ]
  },
  {
   "cell_type": "markdown",
   "metadata": {},
   "source": [
    "### Exercise 2\n",
    "\n",
    "<span style=\"color:green; font-size:16px\">Filter the data so that it only contains rows from the five most frequent `from_station_name` values. Then find the mean temperature at every station for every quarter. Present the result as a pivot table.</span>"
   ]
  },
  {
   "cell_type": "code",
   "execution_count": 81,
   "metadata": {},
   "outputs": [
    {
     "data": {
      "text/plain": [
       "Index(['Clinton St & Washington Blvd', 'Canal St & Adams St',\n",
       "       'Clinton St & Madison St', 'Canal St & Madison St',\n",
       "       'Columbus Dr & Randolph St'],\n",
       "      dtype='object')"
      ]
     },
     "execution_count": 81,
     "metadata": {},
     "output_type": "execute_result"
    }
   ],
   "source": [
    "top5 = bikes['from_station_name'].value_counts().index[:5]\n",
    "top5"
   ]
  },
  {
   "cell_type": "code",
   "execution_count": 82,
   "metadata": {},
   "outputs": [
    {
     "data": {
      "text/html": [
       "<div>\n",
       "<style scoped>\n",
       "    .dataframe tbody tr th:only-of-type {\n",
       "        vertical-align: middle;\n",
       "    }\n",
       "\n",
       "    .dataframe tbody tr th {\n",
       "        vertical-align: top;\n",
       "    }\n",
       "\n",
       "    .dataframe thead th {\n",
       "        text-align: right;\n",
       "    }\n",
       "</style>\n",
       "<table border=\"1\" class=\"dataframe\">\n",
       "  <thead>\n",
       "    <tr style=\"text-align: right;\">\n",
       "      <th></th>\n",
       "      <th>trip_id</th>\n",
       "      <th>gender</th>\n",
       "      <th>starttime</th>\n",
       "      <th>stoptime</th>\n",
       "      <th>tripduration</th>\n",
       "      <th>from_station_name</th>\n",
       "      <th>dpcapacity_start</th>\n",
       "      <th>to_station_name</th>\n",
       "      <th>dpcapacity_end</th>\n",
       "      <th>temperature</th>\n",
       "      <th>visibility</th>\n",
       "      <th>wind_speed</th>\n",
       "      <th>precipitation</th>\n",
       "      <th>events</th>\n",
       "    </tr>\n",
       "  </thead>\n",
       "  <tbody>\n",
       "    <tr>\n",
       "      <th>1</th>\n",
       "      <td>7524</td>\n",
       "      <td>Male</td>\n",
       "      <td>2013-06-28 22:53:00</td>\n",
       "      <td>2013-06-28 23:03:00</td>\n",
       "      <td>623</td>\n",
       "      <td>Clinton St &amp; Washington Blvd</td>\n",
       "      <td>31.0</td>\n",
       "      <td>Wells St &amp; Walton St</td>\n",
       "      <td>19.0</td>\n",
       "      <td>69.1</td>\n",
       "      <td>10.0</td>\n",
       "      <td>6.9</td>\n",
       "      <td>-9999.0</td>\n",
       "      <td>partlycloudy</td>\n",
       "    </tr>\n",
       "    <tr>\n",
       "      <th>8</th>\n",
       "      <td>21028</td>\n",
       "      <td>Male</td>\n",
       "      <td>2013-07-03 15:21:00</td>\n",
       "      <td>2013-07-03 15:42:00</td>\n",
       "      <td>1300</td>\n",
       "      <td>Clinton St &amp; Washington Blvd</td>\n",
       "      <td>31.0</td>\n",
       "      <td>Wood St &amp; Division St</td>\n",
       "      <td>15.0</td>\n",
       "      <td>71.1</td>\n",
       "      <td>8.0</td>\n",
       "      <td>0.0</td>\n",
       "      <td>-9999.0</td>\n",
       "      <td>cloudy</td>\n",
       "    </tr>\n",
       "    <tr>\n",
       "      <th>34</th>\n",
       "      <td>54257</td>\n",
       "      <td>Male</td>\n",
       "      <td>2013-07-12 18:13:00</td>\n",
       "      <td>2013-07-12 18:40:00</td>\n",
       "      <td>1616</td>\n",
       "      <td>Clinton St &amp; Madison St</td>\n",
       "      <td>23.0</td>\n",
       "      <td>Damen Ave &amp; Pierce Ave</td>\n",
       "      <td>19.0</td>\n",
       "      <td>78.1</td>\n",
       "      <td>10.0</td>\n",
       "      <td>10.4</td>\n",
       "      <td>-9999.0</td>\n",
       "      <td>partlycloudy</td>\n",
       "    </tr>\n",
       "    <tr>\n",
       "      <th>43</th>\n",
       "      <td>64519</td>\n",
       "      <td>Female</td>\n",
       "      <td>2013-07-15 08:25:00</td>\n",
       "      <td>2013-07-15 08:28:00</td>\n",
       "      <td>185</td>\n",
       "      <td>Clinton St &amp; Madison St</td>\n",
       "      <td>23.0</td>\n",
       "      <td>Canal St &amp; Jackson Blvd</td>\n",
       "      <td>35.0</td>\n",
       "      <td>82.0</td>\n",
       "      <td>10.0</td>\n",
       "      <td>0.0</td>\n",
       "      <td>-9999.0</td>\n",
       "      <td>partlycloudy</td>\n",
       "    </tr>\n",
       "    <tr>\n",
       "      <th>60</th>\n",
       "      <td>71812</td>\n",
       "      <td>Male</td>\n",
       "      <td>2013-07-17 10:23:00</td>\n",
       "      <td>2013-07-17 10:40:00</td>\n",
       "      <td>1024</td>\n",
       "      <td>Clinton St &amp; Washington Blvd</td>\n",
       "      <td>31.0</td>\n",
       "      <td>Larrabee St &amp; Menomonee St</td>\n",
       "      <td>15.0</td>\n",
       "      <td>88.0</td>\n",
       "      <td>10.0</td>\n",
       "      <td>5.8</td>\n",
       "      <td>-9999.0</td>\n",
       "      <td>partlycloudy</td>\n",
       "    </tr>\n",
       "  </tbody>\n",
       "</table>\n",
       "</div>"
      ],
      "text/plain": [
       "    trip_id  gender           starttime            stoptime  tripduration  \\\n",
       "1      7524    Male 2013-06-28 22:53:00 2013-06-28 23:03:00           623   \n",
       "8     21028    Male 2013-07-03 15:21:00 2013-07-03 15:42:00          1300   \n",
       "34    54257    Male 2013-07-12 18:13:00 2013-07-12 18:40:00          1616   \n",
       "43    64519  Female 2013-07-15 08:25:00 2013-07-15 08:28:00           185   \n",
       "60    71812    Male 2013-07-17 10:23:00 2013-07-17 10:40:00          1024   \n",
       "\n",
       "               from_station_name  dpcapacity_start  \\\n",
       "1   Clinton St & Washington Blvd              31.0   \n",
       "8   Clinton St & Washington Blvd              31.0   \n",
       "34       Clinton St & Madison St              23.0   \n",
       "43       Clinton St & Madison St              23.0   \n",
       "60  Clinton St & Washington Blvd              31.0   \n",
       "\n",
       "               to_station_name  dpcapacity_end  temperature  visibility  \\\n",
       "1         Wells St & Walton St            19.0         69.1        10.0   \n",
       "8        Wood St & Division St            15.0         71.1         8.0   \n",
       "34      Damen Ave & Pierce Ave            19.0         78.1        10.0   \n",
       "43     Canal St & Jackson Blvd            35.0         82.0        10.0   \n",
       "60  Larrabee St & Menomonee St            15.0         88.0        10.0   \n",
       "\n",
       "    wind_speed  precipitation        events  \n",
       "1          6.9        -9999.0  partlycloudy  \n",
       "8          0.0        -9999.0        cloudy  \n",
       "34        10.4        -9999.0  partlycloudy  \n",
       "43         0.0        -9999.0  partlycloudy  \n",
       "60         5.8        -9999.0  partlycloudy  "
      ]
     },
     "execution_count": 82,
     "metadata": {},
     "output_type": "execute_result"
    }
   ],
   "source": [
    "df = bikes.query('from_station_name in @top5')\n",
    "df.head()"
   ]
  },
  {
   "cell_type": "markdown",
   "metadata": {},
   "source": [
    "This filters the data from 50k rows down to 3.4k."
   ]
  },
  {
   "cell_type": "code",
   "execution_count": 83,
   "metadata": {
    "scrolled": true
   },
   "outputs": [
    {
     "data": {
      "text/plain": [
       "(3419, 14)"
      ]
     },
     "execution_count": 83,
     "metadata": {},
     "output_type": "execute_result"
    }
   ],
   "source": [
    "df.shape"
   ]
  },
  {
   "cell_type": "code",
   "execution_count": 84,
   "metadata": {},
   "outputs": [
    {
     "data": {
      "text/plain": [
       "(50089, 14)"
      ]
     },
     "execution_count": 84,
     "metadata": {},
     "output_type": "execute_result"
    }
   ],
   "source": [
    "bikes.shape"
   ]
  },
  {
   "cell_type": "code",
   "execution_count": 85,
   "metadata": {},
   "outputs": [
    {
     "data": {
      "text/html": [
       "<div>\n",
       "<style scoped>\n",
       "    .dataframe tbody tr th:only-of-type {\n",
       "        vertical-align: middle;\n",
       "    }\n",
       "\n",
       "    .dataframe tbody tr th {\n",
       "        vertical-align: top;\n",
       "    }\n",
       "\n",
       "    .dataframe thead th {\n",
       "        text-align: right;\n",
       "    }\n",
       "</style>\n",
       "<table border=\"1\" class=\"dataframe\">\n",
       "  <thead>\n",
       "    <tr style=\"text-align: right;\">\n",
       "      <th>from_station_name</th>\n",
       "      <th>Canal St &amp; Adams St</th>\n",
       "      <th>Canal St &amp; Madison St</th>\n",
       "      <th>Clinton St &amp; Madison St</th>\n",
       "      <th>Clinton St &amp; Washington Blvd</th>\n",
       "      <th>Columbus Dr &amp; Randolph St</th>\n",
       "    </tr>\n",
       "    <tr>\n",
       "      <th>starttime</th>\n",
       "      <th></th>\n",
       "      <th></th>\n",
       "      <th></th>\n",
       "      <th></th>\n",
       "      <th></th>\n",
       "    </tr>\n",
       "  </thead>\n",
       "  <tbody>\n",
       "    <tr>\n",
       "      <th>2013-06-30</th>\n",
       "      <td>NaN</td>\n",
       "      <td>NaN</td>\n",
       "      <td>NaN</td>\n",
       "      <td>69.1</td>\n",
       "      <td>NaN</td>\n",
       "    </tr>\n",
       "    <tr>\n",
       "      <th>2013-09-30</th>\n",
       "      <td>61.9</td>\n",
       "      <td>75.7</td>\n",
       "      <td>74.8</td>\n",
       "      <td>70.9</td>\n",
       "      <td>73.6</td>\n",
       "    </tr>\n",
       "    <tr>\n",
       "      <th>2013-12-31</th>\n",
       "      <td>38.7</td>\n",
       "      <td>45.1</td>\n",
       "      <td>41.2</td>\n",
       "      <td>44.4</td>\n",
       "      <td>43.6</td>\n",
       "    </tr>\n",
       "    <tr>\n",
       "      <th>2014-03-31</th>\n",
       "      <td>35.8</td>\n",
       "      <td>27.8</td>\n",
       "      <td>26.7</td>\n",
       "      <td>29.1</td>\n",
       "      <td>26.0</td>\n",
       "    </tr>\n",
       "    <tr>\n",
       "      <th>2014-06-30</th>\n",
       "      <td>61.4</td>\n",
       "      <td>64.2</td>\n",
       "      <td>66.1</td>\n",
       "      <td>62.0</td>\n",
       "      <td>65.6</td>\n",
       "    </tr>\n",
       "    <tr>\n",
       "      <th>2014-09-30</th>\n",
       "      <td>68.2</td>\n",
       "      <td>70.7</td>\n",
       "      <td>70.9</td>\n",
       "      <td>70.3</td>\n",
       "      <td>75.1</td>\n",
       "    </tr>\n",
       "    <tr>\n",
       "      <th>2014-12-31</th>\n",
       "      <td>40.8</td>\n",
       "      <td>42.7</td>\n",
       "      <td>45.8</td>\n",
       "      <td>43.1</td>\n",
       "      <td>44.8</td>\n",
       "    </tr>\n",
       "    <tr>\n",
       "      <th>2015-03-31</th>\n",
       "      <td>25.5</td>\n",
       "      <td>24.4</td>\n",
       "      <td>32.6</td>\n",
       "      <td>32.7</td>\n",
       "      <td>24.7</td>\n",
       "    </tr>\n",
       "    <tr>\n",
       "      <th>2015-06-30</th>\n",
       "      <td>60.9</td>\n",
       "      <td>63.9</td>\n",
       "      <td>63.9</td>\n",
       "      <td>61.3</td>\n",
       "      <td>66.6</td>\n",
       "    </tr>\n",
       "    <tr>\n",
       "      <th>2015-09-30</th>\n",
       "      <td>72.7</td>\n",
       "      <td>72.5</td>\n",
       "      <td>70.6</td>\n",
       "      <td>70.9</td>\n",
       "      <td>75.1</td>\n",
       "    </tr>\n",
       "    <tr>\n",
       "      <th>2015-12-31</th>\n",
       "      <td>49.6</td>\n",
       "      <td>49.8</td>\n",
       "      <td>50.1</td>\n",
       "      <td>49.7</td>\n",
       "      <td>54.2</td>\n",
       "    </tr>\n",
       "    <tr>\n",
       "      <th>2016-03-31</th>\n",
       "      <td>33.8</td>\n",
       "      <td>42.4</td>\n",
       "      <td>40.1</td>\n",
       "      <td>34.7</td>\n",
       "      <td>36.3</td>\n",
       "    </tr>\n",
       "    <tr>\n",
       "      <th>2016-06-30</th>\n",
       "      <td>59.8</td>\n",
       "      <td>66.1</td>\n",
       "      <td>67.4</td>\n",
       "      <td>62.3</td>\n",
       "      <td>67.6</td>\n",
       "    </tr>\n",
       "    <tr>\n",
       "      <th>2016-09-30</th>\n",
       "      <td>74.1</td>\n",
       "      <td>77.7</td>\n",
       "      <td>76.3</td>\n",
       "      <td>75.6</td>\n",
       "      <td>75.6</td>\n",
       "    </tr>\n",
       "    <tr>\n",
       "      <th>2016-12-31</th>\n",
       "      <td>51.3</td>\n",
       "      <td>49.4</td>\n",
       "      <td>46.2</td>\n",
       "      <td>50.2</td>\n",
       "      <td>47.0</td>\n",
       "    </tr>\n",
       "    <tr>\n",
       "      <th>2017-03-31</th>\n",
       "      <td>36.3</td>\n",
       "      <td>36.9</td>\n",
       "      <td>40.5</td>\n",
       "      <td>40.1</td>\n",
       "      <td>37.9</td>\n",
       "    </tr>\n",
       "    <tr>\n",
       "      <th>2017-06-30</th>\n",
       "      <td>63.1</td>\n",
       "      <td>66.7</td>\n",
       "      <td>66.5</td>\n",
       "      <td>62.3</td>\n",
       "      <td>67.5</td>\n",
       "    </tr>\n",
       "    <tr>\n",
       "      <th>2017-09-30</th>\n",
       "      <td>73.4</td>\n",
       "      <td>74.0</td>\n",
       "      <td>73.4</td>\n",
       "      <td>71.9</td>\n",
       "      <td>76.2</td>\n",
       "    </tr>\n",
       "    <tr>\n",
       "      <th>2017-12-31</th>\n",
       "      <td>48.6</td>\n",
       "      <td>50.8</td>\n",
       "      <td>49.7</td>\n",
       "      <td>46.6</td>\n",
       "      <td>53.2</td>\n",
       "    </tr>\n",
       "  </tbody>\n",
       "</table>\n",
       "</div>"
      ],
      "text/plain": [
       "from_station_name  Canal St & Adams St  Canal St & Madison St  \\\n",
       "starttime                                                       \n",
       "2013-06-30                         NaN                    NaN   \n",
       "2013-09-30                        61.9                   75.7   \n",
       "2013-12-31                        38.7                   45.1   \n",
       "2014-03-31                        35.8                   27.8   \n",
       "2014-06-30                        61.4                   64.2   \n",
       "2014-09-30                        68.2                   70.7   \n",
       "2014-12-31                        40.8                   42.7   \n",
       "2015-03-31                        25.5                   24.4   \n",
       "2015-06-30                        60.9                   63.9   \n",
       "2015-09-30                        72.7                   72.5   \n",
       "2015-12-31                        49.6                   49.8   \n",
       "2016-03-31                        33.8                   42.4   \n",
       "2016-06-30                        59.8                   66.1   \n",
       "2016-09-30                        74.1                   77.7   \n",
       "2016-12-31                        51.3                   49.4   \n",
       "2017-03-31                        36.3                   36.9   \n",
       "2017-06-30                        63.1                   66.7   \n",
       "2017-09-30                        73.4                   74.0   \n",
       "2017-12-31                        48.6                   50.8   \n",
       "\n",
       "from_station_name  Clinton St & Madison St  Clinton St & Washington Blvd  \\\n",
       "starttime                                                                  \n",
       "2013-06-30                             NaN                          69.1   \n",
       "2013-09-30                            74.8                          70.9   \n",
       "2013-12-31                            41.2                          44.4   \n",
       "2014-03-31                            26.7                          29.1   \n",
       "2014-06-30                            66.1                          62.0   \n",
       "2014-09-30                            70.9                          70.3   \n",
       "2014-12-31                            45.8                          43.1   \n",
       "2015-03-31                            32.6                          32.7   \n",
       "2015-06-30                            63.9                          61.3   \n",
       "2015-09-30                            70.6                          70.9   \n",
       "2015-12-31                            50.1                          49.7   \n",
       "2016-03-31                            40.1                          34.7   \n",
       "2016-06-30                            67.4                          62.3   \n",
       "2016-09-30                            76.3                          75.6   \n",
       "2016-12-31                            46.2                          50.2   \n",
       "2017-03-31                            40.5                          40.1   \n",
       "2017-06-30                            66.5                          62.3   \n",
       "2017-09-30                            73.4                          71.9   \n",
       "2017-12-31                            49.7                          46.6   \n",
       "\n",
       "from_station_name  Columbus Dr & Randolph St  \n",
       "starttime                                     \n",
       "2013-06-30                               NaN  \n",
       "2013-09-30                              73.6  \n",
       "2013-12-31                              43.6  \n",
       "2014-03-31                              26.0  \n",
       "2014-06-30                              65.6  \n",
       "2014-09-30                              75.1  \n",
       "2014-12-31                              44.8  \n",
       "2015-03-31                              24.7  \n",
       "2015-06-30                              66.6  \n",
       "2015-09-30                              75.1  \n",
       "2015-12-31                              54.2  \n",
       "2016-03-31                              36.3  \n",
       "2016-06-30                              67.6  \n",
       "2016-09-30                              75.6  \n",
       "2016-12-31                              47.0  \n",
       "2017-03-31                              37.9  \n",
       "2017-06-30                              67.5  \n",
       "2017-09-30                              76.2  \n",
       "2017-12-31                              53.2  "
      ]
     },
     "execution_count": 85,
     "metadata": {},
     "output_type": "execute_result"
    }
   ],
   "source": [
    "tg = pd.Grouper(freq='Q', key='starttime')\n",
    "df.pivot_table(index=tg, columns='from_station_name', \n",
    "               values='temperature', aggfunc='mean').round(1)"
   ]
  },
  {
   "cell_type": "markdown",
   "metadata": {},
   "source": [
    "### Exercise 3\n",
    "\n",
    "<span style=\"color:green; font-size:16px\">Find the number of rides per day from each `from_station_name`.</span>"
   ]
  },
  {
   "cell_type": "code",
   "execution_count": 86,
   "metadata": {},
   "outputs": [
    {
     "data": {
      "text/plain": [
       "from_station_name             starttime \n",
       "Woodlawn Ave & Lake Park Ave  2017-02-01    1\n",
       "                              2017-03-20    1\n",
       "                              2017-04-25    1\n",
       "                              2017-06-10    1\n",
       "Yates Blvd & 75th St          2015-09-18    1\n",
       "dtype: int64"
      ]
     },
     "execution_count": 86,
     "metadata": {},
     "output_type": "execute_result"
    }
   ],
   "source": [
    "s = bikes.groupby(['from_station_name', pd.Grouper(freq='D', key='starttime')]).size()\n",
    "s.tail()"
   ]
  },
  {
   "cell_type": "markdown",
   "metadata": {},
   "source": [
    "### Exercise 4\n",
    "\n",
    "<span style=\"color:green; font-size:16px\">Reset the `from_station_name` index level from the solution in exercise 3 and then perform a 100 day rolling window of each `from_station_name` calculating the number of rides in this group.</span>"
   ]
  },
  {
   "cell_type": "code",
   "execution_count": 87,
   "metadata": {},
   "outputs": [
    {
     "data": {
      "text/html": [
       "<div>\n",
       "<style scoped>\n",
       "    .dataframe tbody tr th:only-of-type {\n",
       "        vertical-align: middle;\n",
       "    }\n",
       "\n",
       "    .dataframe tbody tr th {\n",
       "        vertical-align: top;\n",
       "    }\n",
       "\n",
       "    .dataframe thead th {\n",
       "        text-align: right;\n",
       "    }\n",
       "</style>\n",
       "<table border=\"1\" class=\"dataframe\">\n",
       "  <thead>\n",
       "    <tr style=\"text-align: right;\">\n",
       "      <th></th>\n",
       "      <th>from_station_name</th>\n",
       "      <th>size</th>\n",
       "    </tr>\n",
       "    <tr>\n",
       "      <th>starttime</th>\n",
       "      <th></th>\n",
       "      <th></th>\n",
       "    </tr>\n",
       "  </thead>\n",
       "  <tbody>\n",
       "    <tr>\n",
       "      <th>2016-08-13</th>\n",
       "      <td>2112 W Peterson Ave</td>\n",
       "      <td>1</td>\n",
       "    </tr>\n",
       "    <tr>\n",
       "      <th>2016-09-01</th>\n",
       "      <td>2112 W Peterson Ave</td>\n",
       "      <td>1</td>\n",
       "    </tr>\n",
       "    <tr>\n",
       "      <th>2016-09-06</th>\n",
       "      <td>2112 W Peterson Ave</td>\n",
       "      <td>1</td>\n",
       "    </tr>\n",
       "    <tr>\n",
       "      <th>2016-09-29</th>\n",
       "      <td>2112 W Peterson Ave</td>\n",
       "      <td>1</td>\n",
       "    </tr>\n",
       "    <tr>\n",
       "      <th>2016-10-30</th>\n",
       "      <td>2112 W Peterson Ave</td>\n",
       "      <td>1</td>\n",
       "    </tr>\n",
       "  </tbody>\n",
       "</table>\n",
       "</div>"
      ],
      "text/plain": [
       "              from_station_name  size\n",
       "starttime                            \n",
       "2016-08-13  2112 W Peterson Ave     1\n",
       "2016-09-01  2112 W Peterson Ave     1\n",
       "2016-09-06  2112 W Peterson Ave     1\n",
       "2016-09-29  2112 W Peterson Ave     1\n",
       "2016-10-30  2112 W Peterson Ave     1"
      ]
     },
     "execution_count": 87,
     "metadata": {},
     "output_type": "execute_result"
    }
   ],
   "source": [
    "df = s.reset_index('from_station_name', name='size')\n",
    "df.head()"
   ]
  },
  {
   "cell_type": "code",
   "execution_count": 88,
   "metadata": {
    "scrolled": true
   },
   "outputs": [
    {
     "data": {
      "text/plain": [
       "from_station_name             starttime \n",
       "2112 W Peterson Ave           2016-08-13    1.0\n",
       "                              2016-09-01    2.0\n",
       "                              2016-09-06    3.0\n",
       "                              2016-09-29    4.0\n",
       "                              2016-10-30    5.0\n",
       "                                           ... \n",
       "Woodlawn Ave & Lake Park Ave  2017-02-01    1.0\n",
       "                              2017-03-20    2.0\n",
       "                              2017-04-25    3.0\n",
       "                              2017-06-10    3.0\n",
       "Yates Blvd & 75th St          2015-09-18    1.0\n",
       "Name: size, Length: 45150, dtype: float64"
      ]
     },
     "execution_count": 88,
     "metadata": {},
     "output_type": "execute_result"
    }
   ],
   "source": [
    "df.groupby('from_station_name').rolling('100D')['size'].sum()"
   ]
  },
  {
   "cell_type": "markdown",
   "metadata": {},
   "source": [
    "## 6. More Time Series Functionality"
   ]
  },
  {
   "cell_type": "code",
   "execution_count": 89,
   "metadata": {},
   "outputs": [
    {
     "data": {
      "text/html": [
       "<div>\n",
       "<style scoped>\n",
       "    .dataframe tbody tr th:only-of-type {\n",
       "        vertical-align: middle;\n",
       "    }\n",
       "\n",
       "    .dataframe tbody tr th {\n",
       "        vertical-align: top;\n",
       "    }\n",
       "\n",
       "    .dataframe thead th {\n",
       "        text-align: right;\n",
       "    }\n",
       "</style>\n",
       "<table border=\"1\" class=\"dataframe\">\n",
       "  <thead>\n",
       "    <tr style=\"text-align: right;\">\n",
       "      <th></th>\n",
       "      <th>MSFT</th>\n",
       "      <th>AAPL</th>\n",
       "      <th>SLB</th>\n",
       "      <th>AMZN</th>\n",
       "      <th>TSLA</th>\n",
       "      <th>XOM</th>\n",
       "      <th>WMT</th>\n",
       "      <th>T</th>\n",
       "      <th>FB</th>\n",
       "      <th>V</th>\n",
       "    </tr>\n",
       "    <tr>\n",
       "      <th>date</th>\n",
       "      <th></th>\n",
       "      <th></th>\n",
       "      <th></th>\n",
       "      <th></th>\n",
       "      <th></th>\n",
       "      <th></th>\n",
       "      <th></th>\n",
       "      <th></th>\n",
       "      <th></th>\n",
       "      <th></th>\n",
       "    </tr>\n",
       "  </thead>\n",
       "  <tbody>\n",
       "    <tr>\n",
       "      <th>1999-10-25</th>\n",
       "      <td>29.84</td>\n",
       "      <td>2.32</td>\n",
       "      <td>17.02</td>\n",
       "      <td>82.75</td>\n",
       "      <td>NaN</td>\n",
       "      <td>21.45</td>\n",
       "      <td>38.99</td>\n",
       "      <td>16.78</td>\n",
       "      <td>NaN</td>\n",
       "      <td>NaN</td>\n",
       "    </tr>\n",
       "    <tr>\n",
       "      <th>1999-10-26</th>\n",
       "      <td>29.82</td>\n",
       "      <td>2.34</td>\n",
       "      <td>16.65</td>\n",
       "      <td>81.25</td>\n",
       "      <td>NaN</td>\n",
       "      <td>20.89</td>\n",
       "      <td>37.11</td>\n",
       "      <td>17.28</td>\n",
       "      <td>NaN</td>\n",
       "      <td>NaN</td>\n",
       "    </tr>\n",
       "    <tr>\n",
       "      <th>1999-10-27</th>\n",
       "      <td>29.33</td>\n",
       "      <td>2.38</td>\n",
       "      <td>16.52</td>\n",
       "      <td>75.94</td>\n",
       "      <td>NaN</td>\n",
       "      <td>20.80</td>\n",
       "      <td>36.94</td>\n",
       "      <td>18.27</td>\n",
       "      <td>NaN</td>\n",
       "      <td>NaN</td>\n",
       "    </tr>\n",
       "  </tbody>\n",
       "</table>\n",
       "</div>"
      ],
      "text/plain": [
       "             MSFT  AAPL    SLB   AMZN  TSLA    XOM    WMT      T  FB   V\n",
       "date                                                                    \n",
       "1999-10-25  29.84  2.32  17.02  82.75   NaN  21.45  38.99  16.78 NaN NaN\n",
       "1999-10-26  29.82  2.34  16.65  81.25   NaN  20.89  37.11  17.28 NaN NaN\n",
       "1999-10-27  29.33  2.38  16.52  75.94   NaN  20.80  36.94  18.27 NaN NaN"
      ]
     },
     "execution_count": 89,
     "metadata": {},
     "output_type": "execute_result"
    }
   ],
   "source": [
    "import pandas as pd\n",
    "df = pd.read_csv('../data/stocks/stocks10.csv', parse_dates=['date'], \n",
    "                 index_col='date')\n",
    "df.head(3)"
   ]
  },
  {
   "cell_type": "markdown",
   "metadata": {},
   "source": [
    "### Exercise 1\n",
    "\n",
    "<span style=\"color:green; font-size:16px\">Select the first three trading days of every sixth year.</span>"
   ]
  },
  {
   "cell_type": "code",
   "execution_count": 90,
   "metadata": {},
   "outputs": [
    {
     "data": {
      "text/html": [
       "<div>\n",
       "<style scoped>\n",
       "    .dataframe tbody tr th:only-of-type {\n",
       "        vertical-align: middle;\n",
       "    }\n",
       "\n",
       "    .dataframe tbody tr th {\n",
       "        vertical-align: top;\n",
       "    }\n",
       "\n",
       "    .dataframe thead th {\n",
       "        text-align: right;\n",
       "    }\n",
       "</style>\n",
       "<table border=\"1\" class=\"dataframe\">\n",
       "  <thead>\n",
       "    <tr style=\"text-align: right;\">\n",
       "      <th></th>\n",
       "      <th>MSFT</th>\n",
       "      <th>AAPL</th>\n",
       "      <th>SLB</th>\n",
       "      <th>AMZN</th>\n",
       "      <th>TSLA</th>\n",
       "      <th>XOM</th>\n",
       "      <th>WMT</th>\n",
       "      <th>T</th>\n",
       "      <th>FB</th>\n",
       "      <th>V</th>\n",
       "    </tr>\n",
       "    <tr>\n",
       "      <th>date</th>\n",
       "      <th></th>\n",
       "      <th></th>\n",
       "      <th></th>\n",
       "      <th></th>\n",
       "      <th></th>\n",
       "      <th></th>\n",
       "      <th></th>\n",
       "      <th></th>\n",
       "      <th></th>\n",
       "      <th></th>\n",
       "    </tr>\n",
       "  </thead>\n",
       "  <tbody>\n",
       "    <tr>\n",
       "      <th>1999-10-25</th>\n",
       "      <td>29.84</td>\n",
       "      <td>2.32</td>\n",
       "      <td>17.02</td>\n",
       "      <td>82.75</td>\n",
       "      <td>NaN</td>\n",
       "      <td>21.45</td>\n",
       "      <td>38.99</td>\n",
       "      <td>16.78</td>\n",
       "      <td>NaN</td>\n",
       "      <td>NaN</td>\n",
       "    </tr>\n",
       "    <tr>\n",
       "      <th>1999-10-26</th>\n",
       "      <td>29.82</td>\n",
       "      <td>2.34</td>\n",
       "      <td>16.65</td>\n",
       "      <td>81.25</td>\n",
       "      <td>NaN</td>\n",
       "      <td>20.89</td>\n",
       "      <td>37.11</td>\n",
       "      <td>17.28</td>\n",
       "      <td>NaN</td>\n",
       "      <td>NaN</td>\n",
       "    </tr>\n",
       "    <tr>\n",
       "      <th>1999-10-27</th>\n",
       "      <td>29.33</td>\n",
       "      <td>2.38</td>\n",
       "      <td>16.52</td>\n",
       "      <td>75.94</td>\n",
       "      <td>NaN</td>\n",
       "      <td>20.80</td>\n",
       "      <td>36.94</td>\n",
       "      <td>18.27</td>\n",
       "      <td>NaN</td>\n",
       "      <td>NaN</td>\n",
       "    </tr>\n",
       "    <tr>\n",
       "      <th>2005-01-03</th>\n",
       "      <td>19.47</td>\n",
       "      <td>3.95</td>\n",
       "      <td>23.73</td>\n",
       "      <td>44.52</td>\n",
       "      <td>NaN</td>\n",
       "      <td>33.26</td>\n",
       "      <td>38.41</td>\n",
       "      <td>11.54</td>\n",
       "      <td>NaN</td>\n",
       "      <td>NaN</td>\n",
       "    </tr>\n",
       "    <tr>\n",
       "      <th>2005-01-04</th>\n",
       "      <td>19.54</td>\n",
       "      <td>3.99</td>\n",
       "      <td>23.55</td>\n",
       "      <td>42.14</td>\n",
       "      <td>NaN</td>\n",
       "      <td>33.04</td>\n",
       "      <td>38.32</td>\n",
       "      <td>11.41</td>\n",
       "      <td>NaN</td>\n",
       "      <td>NaN</td>\n",
       "    </tr>\n",
       "    <tr>\n",
       "      <th>2005-01-05</th>\n",
       "      <td>19.50</td>\n",
       "      <td>4.02</td>\n",
       "      <td>23.62</td>\n",
       "      <td>41.77</td>\n",
       "      <td>NaN</td>\n",
       "      <td>32.87</td>\n",
       "      <td>38.37</td>\n",
       "      <td>11.47</td>\n",
       "      <td>NaN</td>\n",
       "      <td>NaN</td>\n",
       "    </tr>\n",
       "    <tr>\n",
       "      <th>2011-01-03</th>\n",
       "      <td>22.56</td>\n",
       "      <td>41.09</td>\n",
       "      <td>66.87</td>\n",
       "      <td>184.22</td>\n",
       "      <td>26.62</td>\n",
       "      <td>56.09</td>\n",
       "      <td>43.74</td>\n",
       "      <td>18.26</td>\n",
       "      <td>NaN</td>\n",
       "      <td>16.50</td>\n",
       "    </tr>\n",
       "    <tr>\n",
       "      <th>2011-01-04</th>\n",
       "      <td>22.65</td>\n",
       "      <td>41.30</td>\n",
       "      <td>65.26</td>\n",
       "      <td>185.01</td>\n",
       "      <td>26.67</td>\n",
       "      <td>56.35</td>\n",
       "      <td>43.91</td>\n",
       "      <td>18.38</td>\n",
       "      <td>NaN</td>\n",
       "      <td>16.52</td>\n",
       "    </tr>\n",
       "    <tr>\n",
       "      <th>2011-01-05</th>\n",
       "      <td>22.57</td>\n",
       "      <td>41.64</td>\n",
       "      <td>66.03</td>\n",
       "      <td>187.42</td>\n",
       "      <td>26.83</td>\n",
       "      <td>56.20</td>\n",
       "      <td>43.62</td>\n",
       "      <td>18.45</td>\n",
       "      <td>NaN</td>\n",
       "      <td>16.87</td>\n",
       "    </tr>\n",
       "    <tr>\n",
       "      <th>2017-01-03</th>\n",
       "      <td>59.50</td>\n",
       "      <td>111.29</td>\n",
       "      <td>76.48</td>\n",
       "      <td>753.67</td>\n",
       "      <td>216.99</td>\n",
       "      <td>81.20</td>\n",
       "      <td>64.37</td>\n",
       "      <td>36.39</td>\n",
       "      <td>116.86</td>\n",
       "      <td>78.05</td>\n",
       "    </tr>\n",
       "    <tr>\n",
       "      <th>2017-01-04</th>\n",
       "      <td>59.23</td>\n",
       "      <td>111.16</td>\n",
       "      <td>77.05</td>\n",
       "      <td>757.18</td>\n",
       "      <td>226.99</td>\n",
       "      <td>80.30</td>\n",
       "      <td>64.74</td>\n",
       "      <td>36.18</td>\n",
       "      <td>118.69</td>\n",
       "      <td>78.69</td>\n",
       "    </tr>\n",
       "    <tr>\n",
       "      <th>2017-01-05</th>\n",
       "      <td>59.23</td>\n",
       "      <td>111.73</td>\n",
       "      <td>76.93</td>\n",
       "      <td>780.45</td>\n",
       "      <td>226.75</td>\n",
       "      <td>79.11</td>\n",
       "      <td>64.88</td>\n",
       "      <td>36.08</td>\n",
       "      <td>120.67</td>\n",
       "      <td>79.61</td>\n",
       "    </tr>\n",
       "  </tbody>\n",
       "</table>\n",
       "</div>"
      ],
      "text/plain": [
       "             MSFT    AAPL    SLB    AMZN    TSLA    XOM    WMT      T      FB  \\\n",
       "date                                                                            \n",
       "1999-10-25  29.84    2.32  17.02   82.75     NaN  21.45  38.99  16.78     NaN   \n",
       "1999-10-26  29.82    2.34  16.65   81.25     NaN  20.89  37.11  17.28     NaN   \n",
       "1999-10-27  29.33    2.38  16.52   75.94     NaN  20.80  36.94  18.27     NaN   \n",
       "2005-01-03  19.47    3.95  23.73   44.52     NaN  33.26  38.41  11.54     NaN   \n",
       "2005-01-04  19.54    3.99  23.55   42.14     NaN  33.04  38.32  11.41     NaN   \n",
       "2005-01-05  19.50    4.02  23.62   41.77     NaN  32.87  38.37  11.47     NaN   \n",
       "2011-01-03  22.56   41.09  66.87  184.22   26.62  56.09  43.74  18.26     NaN   \n",
       "2011-01-04  22.65   41.30  65.26  185.01   26.67  56.35  43.91  18.38     NaN   \n",
       "2011-01-05  22.57   41.64  66.03  187.42   26.83  56.20  43.62  18.45     NaN   \n",
       "2017-01-03  59.50  111.29  76.48  753.67  216.99  81.20  64.37  36.39  116.86   \n",
       "2017-01-04  59.23  111.16  77.05  757.18  226.99  80.30  64.74  36.18  118.69   \n",
       "2017-01-05  59.23  111.73  76.93  780.45  226.75  79.11  64.88  36.08  120.67   \n",
       "\n",
       "                V  \n",
       "date               \n",
       "1999-10-25    NaN  \n",
       "1999-10-26    NaN  \n",
       "1999-10-27    NaN  \n",
       "2005-01-03    NaN  \n",
       "2005-01-04    NaN  \n",
       "2005-01-05    NaN  \n",
       "2011-01-03  16.50  \n",
       "2011-01-04  16.52  \n",
       "2011-01-05  16.87  \n",
       "2017-01-03  78.05  \n",
       "2017-01-04  78.69  \n",
       "2017-01-05  79.61  "
      ]
     },
     "execution_count": 90,
     "metadata": {},
     "output_type": "execute_result"
    }
   ],
   "source": [
    "df.groupby(pd.Grouper(freq='6AS')).head(3)"
   ]
  },
  {
   "cell_type": "markdown",
   "metadata": {},
   "source": [
    "### Exercise 2\n",
    "\n",
    "<span style=\"color:green; font-size:16px\">Select the Wednesday in the 19th week of all the leap years.</span>"
   ]
  },
  {
   "cell_type": "code",
   "execution_count": 91,
   "metadata": {},
   "outputs": [
    {
     "data": {
      "text/html": [
       "<div>\n",
       "<style scoped>\n",
       "    .dataframe tbody tr th:only-of-type {\n",
       "        vertical-align: middle;\n",
       "    }\n",
       "\n",
       "    .dataframe tbody tr th {\n",
       "        vertical-align: top;\n",
       "    }\n",
       "\n",
       "    .dataframe thead th {\n",
       "        text-align: right;\n",
       "    }\n",
       "</style>\n",
       "<table border=\"1\" class=\"dataframe\">\n",
       "  <thead>\n",
       "    <tr style=\"text-align: right;\">\n",
       "      <th></th>\n",
       "      <th>MSFT</th>\n",
       "      <th>AAPL</th>\n",
       "      <th>SLB</th>\n",
       "      <th>AMZN</th>\n",
       "      <th>TSLA</th>\n",
       "      <th>XOM</th>\n",
       "      <th>WMT</th>\n",
       "      <th>T</th>\n",
       "      <th>FB</th>\n",
       "      <th>V</th>\n",
       "    </tr>\n",
       "    <tr>\n",
       "      <th>date</th>\n",
       "      <th></th>\n",
       "      <th></th>\n",
       "      <th></th>\n",
       "      <th></th>\n",
       "      <th></th>\n",
       "      <th></th>\n",
       "      <th></th>\n",
       "      <th></th>\n",
       "      <th></th>\n",
       "      <th></th>\n",
       "    </tr>\n",
       "  </thead>\n",
       "  <tbody>\n",
       "    <tr>\n",
       "      <th>2000-05-10</th>\n",
       "      <td>21.36</td>\n",
       "      <td>3.10</td>\n",
       "      <td>24.94</td>\n",
       "      <td>53.31</td>\n",
       "      <td>NaN</td>\n",
       "      <td>23.90</td>\n",
       "      <td>39.59</td>\n",
       "      <td>17.30</td>\n",
       "      <td>NaN</td>\n",
       "      <td>NaN</td>\n",
       "    </tr>\n",
       "    <tr>\n",
       "      <th>2004-05-05</th>\n",
       "      <td>17.13</td>\n",
       "      <td>1.66</td>\n",
       "      <td>21.17</td>\n",
       "      <td>44.26</td>\n",
       "      <td>NaN</td>\n",
       "      <td>28.70</td>\n",
       "      <td>39.93</td>\n",
       "      <td>11.19</td>\n",
       "      <td>NaN</td>\n",
       "      <td>NaN</td>\n",
       "    </tr>\n",
       "    <tr>\n",
       "      <th>2008-05-07</th>\n",
       "      <td>22.22</td>\n",
       "      <td>22.76</td>\n",
       "      <td>78.56</td>\n",
       "      <td>73.18</td>\n",
       "      <td>NaN</td>\n",
       "      <td>62.63</td>\n",
       "      <td>43.05</td>\n",
       "      <td>20.50</td>\n",
       "      <td>NaN</td>\n",
       "      <td>20.37</td>\n",
       "    </tr>\n",
       "    <tr>\n",
       "      <th>2012-05-09</th>\n",
       "      <td>25.63</td>\n",
       "      <td>70.96</td>\n",
       "      <td>56.58</td>\n",
       "      <td>222.98</td>\n",
       "      <td>30.06</td>\n",
       "      <td>64.51</td>\n",
       "      <td>49.28</td>\n",
       "      <td>22.00</td>\n",
       "      <td>NaN</td>\n",
       "      <td>27.75</td>\n",
       "    </tr>\n",
       "    <tr>\n",
       "      <th>2016-05-11</th>\n",
       "      <td>47.58</td>\n",
       "      <td>87.71</td>\n",
       "      <td>65.33</td>\n",
       "      <td>713.23</td>\n",
       "      <td>208.96</td>\n",
       "      <td>77.98</td>\n",
       "      <td>61.40</td>\n",
       "      <td>32.38</td>\n",
       "      <td>119.52</td>\n",
       "      <td>75.60</td>\n",
       "    </tr>\n",
       "  </tbody>\n",
       "</table>\n",
       "</div>"
      ],
      "text/plain": [
       "             MSFT   AAPL    SLB    AMZN    TSLA    XOM    WMT      T      FB  \\\n",
       "date                                                                           \n",
       "2000-05-10  21.36   3.10  24.94   53.31     NaN  23.90  39.59  17.30     NaN   \n",
       "2004-05-05  17.13   1.66  21.17   44.26     NaN  28.70  39.93  11.19     NaN   \n",
       "2008-05-07  22.22  22.76  78.56   73.18     NaN  62.63  43.05  20.50     NaN   \n",
       "2012-05-09  25.63  70.96  56.58  222.98   30.06  64.51  49.28  22.00     NaN   \n",
       "2016-05-11  47.58  87.71  65.33  713.23  208.96  77.98  61.40  32.38  119.52   \n",
       "\n",
       "                V  \n",
       "date               \n",
       "2000-05-10    NaN  \n",
       "2004-05-05    NaN  \n",
       "2008-05-07  20.37  \n",
       "2012-05-09  27.75  \n",
       "2016-05-11  75.60  "
      ]
     },
     "execution_count": 91,
     "metadata": {},
     "output_type": "execute_result"
    }
   ],
   "source": [
    "filt1 = df.index.isocalendar()['week'] == 19\n",
    "filt2 = df.index.day_name() == \"Wednesday\"\n",
    "filt3 = df.index.is_leap_year\n",
    "filt = filt1 & filt2 * filt3\n",
    "df[filt]"
   ]
  },
  {
   "cell_type": "markdown",
   "metadata": {},
   "source": [
    "### Exercise 3\n",
    "\n",
    "<span style=\"color:green; font-size:16px\">Shift all dates in the index up three weeks ending on Sunday.</span>"
   ]
  },
  {
   "cell_type": "code",
   "execution_count": 92,
   "metadata": {},
   "outputs": [
    {
     "data": {
      "text/html": [
       "<div>\n",
       "<style scoped>\n",
       "    .dataframe tbody tr th:only-of-type {\n",
       "        vertical-align: middle;\n",
       "    }\n",
       "\n",
       "    .dataframe tbody tr th {\n",
       "        vertical-align: top;\n",
       "    }\n",
       "\n",
       "    .dataframe thead th {\n",
       "        text-align: right;\n",
       "    }\n",
       "</style>\n",
       "<table border=\"1\" class=\"dataframe\">\n",
       "  <thead>\n",
       "    <tr style=\"text-align: right;\">\n",
       "      <th></th>\n",
       "      <th>MSFT</th>\n",
       "      <th>AAPL</th>\n",
       "      <th>SLB</th>\n",
       "      <th>AMZN</th>\n",
       "      <th>TSLA</th>\n",
       "      <th>XOM</th>\n",
       "      <th>WMT</th>\n",
       "      <th>T</th>\n",
       "      <th>FB</th>\n",
       "      <th>V</th>\n",
       "    </tr>\n",
       "    <tr>\n",
       "      <th>date</th>\n",
       "      <th></th>\n",
       "      <th></th>\n",
       "      <th></th>\n",
       "      <th></th>\n",
       "      <th></th>\n",
       "      <th></th>\n",
       "      <th></th>\n",
       "      <th></th>\n",
       "      <th></th>\n",
       "      <th></th>\n",
       "    </tr>\n",
       "  </thead>\n",
       "  <tbody>\n",
       "    <tr>\n",
       "      <th>1999-11-14</th>\n",
       "      <td>29.84</td>\n",
       "      <td>2.32</td>\n",
       "      <td>17.02</td>\n",
       "      <td>82.75</td>\n",
       "      <td>NaN</td>\n",
       "      <td>21.45</td>\n",
       "      <td>38.99</td>\n",
       "      <td>16.78</td>\n",
       "      <td>NaN</td>\n",
       "      <td>NaN</td>\n",
       "    </tr>\n",
       "    <tr>\n",
       "      <th>1999-11-14</th>\n",
       "      <td>29.82</td>\n",
       "      <td>2.34</td>\n",
       "      <td>16.65</td>\n",
       "      <td>81.25</td>\n",
       "      <td>NaN</td>\n",
       "      <td>20.89</td>\n",
       "      <td>37.11</td>\n",
       "      <td>17.28</td>\n",
       "      <td>NaN</td>\n",
       "      <td>NaN</td>\n",
       "    </tr>\n",
       "    <tr>\n",
       "      <th>1999-11-14</th>\n",
       "      <td>29.33</td>\n",
       "      <td>2.38</td>\n",
       "      <td>16.52</td>\n",
       "      <td>75.94</td>\n",
       "      <td>NaN</td>\n",
       "      <td>20.80</td>\n",
       "      <td>36.94</td>\n",
       "      <td>18.27</td>\n",
       "      <td>NaN</td>\n",
       "      <td>NaN</td>\n",
       "    </tr>\n",
       "    <tr>\n",
       "      <th>1999-11-14</th>\n",
       "      <td>29.01</td>\n",
       "      <td>2.43</td>\n",
       "      <td>16.59</td>\n",
       "      <td>71.00</td>\n",
       "      <td>NaN</td>\n",
       "      <td>21.19</td>\n",
       "      <td>38.85</td>\n",
       "      <td>19.79</td>\n",
       "      <td>NaN</td>\n",
       "      <td>NaN</td>\n",
       "    </tr>\n",
       "    <tr>\n",
       "      <th>1999-11-14</th>\n",
       "      <td>29.88</td>\n",
       "      <td>2.50</td>\n",
       "      <td>17.21</td>\n",
       "      <td>70.62</td>\n",
       "      <td>NaN</td>\n",
       "      <td>21.47</td>\n",
       "      <td>39.25</td>\n",
       "      <td>20.00</td>\n",
       "      <td>NaN</td>\n",
       "      <td>NaN</td>\n",
       "    </tr>\n",
       "    <tr>\n",
       "      <th>1999-11-21</th>\n",
       "      <td>29.82</td>\n",
       "      <td>2.42</td>\n",
       "      <td>17.76</td>\n",
       "      <td>69.12</td>\n",
       "      <td>NaN</td>\n",
       "      <td>21.67</td>\n",
       "      <td>39.20</td>\n",
       "      <td>20.10</td>\n",
       "      <td>NaN</td>\n",
       "      <td>NaN</td>\n",
       "    </tr>\n",
       "    <tr>\n",
       "      <th>1999-11-21</th>\n",
       "      <td>29.88</td>\n",
       "      <td>2.50</td>\n",
       "      <td>17.02</td>\n",
       "      <td>66.44</td>\n",
       "      <td>NaN</td>\n",
       "      <td>21.48</td>\n",
       "      <td>39.12</td>\n",
       "      <td>19.24</td>\n",
       "      <td>NaN</td>\n",
       "      <td>NaN</td>\n",
       "    </tr>\n",
       "    <tr>\n",
       "      <th>1999-11-21</th>\n",
       "      <td>29.70</td>\n",
       "      <td>2.54</td>\n",
       "      <td>17.23</td>\n",
       "      <td>65.81</td>\n",
       "      <td>NaN</td>\n",
       "      <td>21.16</td>\n",
       "      <td>38.85</td>\n",
       "      <td>19.17</td>\n",
       "      <td>NaN</td>\n",
       "      <td>NaN</td>\n",
       "    </tr>\n",
       "    <tr>\n",
       "      <th>1999-11-21</th>\n",
       "      <td>29.61</td>\n",
       "      <td>2.61</td>\n",
       "      <td>17.09</td>\n",
       "      <td>63.06</td>\n",
       "      <td>NaN</td>\n",
       "      <td>21.16</td>\n",
       "      <td>39.03</td>\n",
       "      <td>19.39</td>\n",
       "      <td>NaN</td>\n",
       "      <td>NaN</td>\n",
       "    </tr>\n",
       "    <tr>\n",
       "      <th>1999-11-21</th>\n",
       "      <td>29.55</td>\n",
       "      <td>2.75</td>\n",
       "      <td>16.27</td>\n",
       "      <td>64.94</td>\n",
       "      <td>NaN</td>\n",
       "      <td>20.47</td>\n",
       "      <td>40.47</td>\n",
       "      <td>19.43</td>\n",
       "      <td>NaN</td>\n",
       "      <td>NaN</td>\n",
       "    </tr>\n",
       "  </tbody>\n",
       "</table>\n",
       "</div>"
      ],
      "text/plain": [
       "             MSFT  AAPL    SLB   AMZN  TSLA    XOM    WMT      T  FB   V\n",
       "date                                                                    \n",
       "1999-11-14  29.84  2.32  17.02  82.75   NaN  21.45  38.99  16.78 NaN NaN\n",
       "1999-11-14  29.82  2.34  16.65  81.25   NaN  20.89  37.11  17.28 NaN NaN\n",
       "1999-11-14  29.33  2.38  16.52  75.94   NaN  20.80  36.94  18.27 NaN NaN\n",
       "1999-11-14  29.01  2.43  16.59  71.00   NaN  21.19  38.85  19.79 NaN NaN\n",
       "1999-11-14  29.88  2.50  17.21  70.62   NaN  21.47  39.25  20.00 NaN NaN\n",
       "1999-11-21  29.82  2.42  17.76  69.12   NaN  21.67  39.20  20.10 NaN NaN\n",
       "1999-11-21  29.88  2.50  17.02  66.44   NaN  21.48  39.12  19.24 NaN NaN\n",
       "1999-11-21  29.70  2.54  17.23  65.81   NaN  21.16  38.85  19.17 NaN NaN\n",
       "1999-11-21  29.61  2.61  17.09  63.06   NaN  21.16  39.03  19.39 NaN NaN\n",
       "1999-11-21  29.55  2.75  16.27  64.94   NaN  20.47  40.47  19.43 NaN NaN"
      ]
     },
     "execution_count": 92,
     "metadata": {},
     "output_type": "execute_result"
    }
   ],
   "source": [
    "df.shift(3, 'W').head(10)"
   ]
  },
  {
   "cell_type": "markdown",
   "metadata": {},
   "source": [
    "### Exercise 4\n",
    "\n",
    "<span style=\"color:green; font-size:16px\">Create a DatetimeIndex object containing every Friday in the year 2021.</span>"
   ]
  },
  {
   "cell_type": "code",
   "execution_count": 93,
   "metadata": {},
   "outputs": [
    {
     "data": {
      "text/plain": [
       "DatetimeIndex(['2021-01-01', '2021-01-08', '2021-01-15', '2021-01-22',\n",
       "               '2021-01-29', '2021-02-05', '2021-02-12', '2021-02-19',\n",
       "               '2021-02-26', '2021-03-05', '2021-03-12', '2021-03-19',\n",
       "               '2021-03-26', '2021-04-02', '2021-04-09', '2021-04-16',\n",
       "               '2021-04-23', '2021-04-30', '2021-05-07', '2021-05-14',\n",
       "               '2021-05-21', '2021-05-28', '2021-06-04', '2021-06-11',\n",
       "               '2021-06-18', '2021-06-25', '2021-07-02', '2021-07-09',\n",
       "               '2021-07-16', '2021-07-23', '2021-07-30', '2021-08-06',\n",
       "               '2021-08-13', '2021-08-20', '2021-08-27', '2021-09-03',\n",
       "               '2021-09-10', '2021-09-17', '2021-09-24', '2021-10-01',\n",
       "               '2021-10-08', '2021-10-15', '2021-10-22', '2021-10-29',\n",
       "               '2021-11-05', '2021-11-12', '2021-11-19', '2021-11-26',\n",
       "               '2021-12-03', '2021-12-10', '2021-12-17', '2021-12-24',\n",
       "               '2021-12-31'],\n",
       "              dtype='datetime64[ns]', freq='W-FRI')"
      ]
     },
     "execution_count": 93,
     "metadata": {},
     "output_type": "execute_result"
    }
   ],
   "source": [
    "pd.date_range('2021-1-1', '2021-12-31', freq='W-FRI')"
   ]
  },
  {
   "cell_type": "markdown",
   "metadata": {},
   "source": [
    "### Exercise 5\n",
    "\n",
    "<span style=\"color:green; font-size:16px\">Starting from January 1, 1900, create 20 timestamps separated by 57 days each.</span>"
   ]
  },
  {
   "cell_type": "code",
   "execution_count": 94,
   "metadata": {},
   "outputs": [
    {
     "data": {
      "text/plain": [
       "DatetimeIndex(['1900-01-01', '1900-02-27', '1900-04-25', '1900-06-21',\n",
       "               '1900-08-17', '1900-10-13', '1900-12-09', '1901-02-04',\n",
       "               '1901-04-02', '1901-05-29', '1901-07-25', '1901-09-20',\n",
       "               '1901-11-16', '1902-01-12', '1902-03-10', '1902-05-06',\n",
       "               '1902-07-02', '1902-08-28', '1902-10-24', '1902-12-20'],\n",
       "              dtype='datetime64[ns]', freq='57D')"
      ]
     },
     "execution_count": 94,
     "metadata": {},
     "output_type": "execute_result"
    }
   ],
   "source": [
    "pd.date_range('January 1, 1900', periods=20, freq='57D')"
   ]
  },
  {
   "cell_type": "markdown",
   "metadata": {},
   "source": [
    "### Exercise 6\n",
    "\n",
    "<span style=\"color:green; font-size:16px\">Using January 1, 2021 as the end date. Find the previous 15 timestamps separated by 23 month starts</span>"
   ]
  },
  {
   "cell_type": "code",
   "execution_count": 95,
   "metadata": {},
   "outputs": [
    {
     "data": {
      "text/plain": [
       "DatetimeIndex(['1994-03-01', '1996-02-01', '1998-01-01', '1999-12-01',\n",
       "               '2001-11-01', '2003-10-01', '2005-09-01', '2007-08-01',\n",
       "               '2009-07-01', '2011-06-01', '2013-05-01', '2015-04-01',\n",
       "               '2017-03-01', '2019-02-01', '2021-01-01'],\n",
       "              dtype='datetime64[ns]', freq='23MS')"
      ]
     },
     "execution_count": 95,
     "metadata": {},
     "output_type": "execute_result"
    }
   ],
   "source": [
    "pd.date_range(end='January 31, 2021', periods=15, freq='23MS')"
   ]
  },
  {
   "cell_type": "markdown",
   "metadata": {},
   "source": [
    "### Exercise 7\n",
    "\n",
    "<span style=\"color:green; font-size:16px\">You are running an experiment beginning at 8:32 a.m. and concluding at 4 p.m. You need to check in on it every 19 minutes. Create a TimedeltaIndex of the check-in times.</span>"
   ]
  },
  {
   "cell_type": "code",
   "execution_count": 96,
   "metadata": {},
   "outputs": [
    {
     "data": {
      "text/plain": [
       "TimedeltaIndex(['0 days 08:32:00', '0 days 08:51:00', '0 days 09:10:00',\n",
       "                '0 days 09:29:00', '0 days 09:48:00', '0 days 10:07:00',\n",
       "                '0 days 10:26:00', '0 days 10:45:00', '0 days 11:04:00',\n",
       "                '0 days 11:23:00', '0 days 11:42:00', '0 days 12:01:00',\n",
       "                '0 days 12:20:00', '0 days 12:39:00', '0 days 12:58:00',\n",
       "                '0 days 13:17:00', '0 days 13:36:00', '0 days 13:55:00',\n",
       "                '0 days 14:14:00', '0 days 14:33:00', '0 days 14:52:00',\n",
       "                '0 days 15:11:00', '0 days 15:30:00', '0 days 15:49:00'],\n",
       "               dtype='timedelta64[ns]', freq='19T')"
      ]
     },
     "execution_count": 96,
     "metadata": {},
     "output_type": "execute_result"
    }
   ],
   "source": [
    "pd.timedelta_range('8:32:00', '16:00:00', freq='19min')"
   ]
  }
 ],
 "metadata": {
  "kernelspec": {
   "display_name": "Python 3 (ipykernel)",
   "language": "python",
   "name": "python3"
  },
  "language_info": {
   "codemirror_mode": {
    "name": "ipython",
    "version": 3
   },
   "file_extension": ".py",
   "mimetype": "text/x-python",
   "name": "python",
   "nbconvert_exporter": "python",
   "pygments_lexer": "ipython3",
   "version": "3.8.11"
  },
  "varInspector": {
   "cols": {
    "lenName": 16,
    "lenType": 16,
    "lenVar": 40
   },
   "kernels_config": {
    "python": {
     "delete_cmd_postfix": "",
     "delete_cmd_prefix": "del ",
     "library": "var_list.py",
     "varRefreshCmd": "print(var_dic_list())"
    },
    "r": {
     "delete_cmd_postfix": ") ",
     "delete_cmd_prefix": "rm(",
     "library": "var_list.r",
     "varRefreshCmd": "cat(var_dic_list()) "
    }
   },
   "types_to_exclude": [
    "module",
    "function",
    "builtin_function_or_method",
    "instance",
    "_Feature"
   ],
   "window_display": false
  }
 },
 "nbformat": 4,
 "nbformat_minor": 2
}
