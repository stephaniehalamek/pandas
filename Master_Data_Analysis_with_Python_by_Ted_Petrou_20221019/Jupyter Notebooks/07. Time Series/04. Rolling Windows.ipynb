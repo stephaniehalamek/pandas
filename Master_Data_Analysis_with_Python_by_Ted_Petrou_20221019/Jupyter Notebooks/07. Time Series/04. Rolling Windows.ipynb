{
 "cells": [
  {
   "cell_type": "markdown",
   "metadata": {},
   "source": [
    "# Rolling Windows\n",
    "\n",
    "In the previous chapter, we placed each row into a single group and then performed an aggregation, returning a single row for each group. In this chapter, we will again group by a fixed period of time, but allow for the start and end period to change to align itself to the current row. The group is constantly sliding down, representing a different \"window\" of time. This type of analysis is referred to as rolling windows or moving averages.\n",
    "\n",
    "Take a look at the image below, the rolling mean is the average of three values, the current original value and the two preceding it. The window size here is three. The first two rows lack enough data for the full window size, but a mean can still be calculated.\n",
    "\n",
    "![1]\n",
    "\n",
    "[1]: images/rolling_mean.png"
   ]
  },
  {
   "cell_type": "markdown",
   "metadata": {},
   "source": [
    "## The `rolling` method\n",
    "\n",
    "The `rolling` method allows you to create windows of time around each row of data. Let's begin by creating the same data from above as a Pandas Series."
   ]
  },
  {
   "cell_type": "code",
   "execution_count": null,
   "metadata": {},
   "outputs": [],
   "source": [
    "import pandas as pd\n",
    "s = pd.Series([4, 2, 12, 10, 8, 18, 4, 14])\n",
    "s"
   ]
  },
  {
   "cell_type": "markdown",
   "metadata": {},
   "source": [
    "### Integer window size\n",
    "\n",
    "The `rolling` method is similar to `resample`, where the first argument represents the time period. You can pass either an integer or an offset alias as the first argument. As with `resample` (and also `groupby`), calling the `rolling` method by itself informs pandas of the window size. You'll need to chain an additional method to aggregate the values in the current time period. Below, we choose a window size of three, which uses the first value and previous two, and aggregate with the mean."
   ]
  },
  {
   "cell_type": "code",
   "execution_count": null,
   "metadata": {},
   "outputs": [],
   "source": [
    "s.rolling(3).mean()"
   ]
  },
  {
   "cell_type": "markdown",
   "metadata": {},
   "source": [
    "By default, missing values are returned whenever there are less values than the window size. Use the parameter `min_periods` to set a different minimum window size. This result now matches the image from the beginning of the chapter."
   ]
  },
  {
   "cell_type": "code",
   "execution_count": null,
   "metadata": {},
   "outputs": [],
   "source": [
    "s.rolling(3, min_periods=1).mean()"
   ]
  },
  {
   "cell_type": "markdown",
   "metadata": {},
   "source": [
    "Perform multiple aggregations by passing them as strings within a list to the `agg` method. The `size` method is, unfortunately, not available to `rolling` objects. Below, we use `count`, which returns the same number as `size` whenever there are no missing values. We use it here to show the window size."
   ]
  },
  {
   "cell_type": "code",
   "execution_count": null,
   "metadata": {},
   "outputs": [],
   "source": [
    "s.rolling(3, min_periods=1).agg(['min', 'max', 'count'])"
   ]
  },
  {
   "cell_type": "markdown",
   "metadata": {},
   "source": [
    "### Centering the window\n",
    "\n",
    "Instead of using the current row as the last value in the window, it's possible to use it as the middle value by setting the `center` parameter to `True`. The current row along with previous and following two rows are used below to form a window size of five."
   ]
  },
  {
   "cell_type": "code",
   "execution_count": null,
   "metadata": {},
   "outputs": [],
   "source": [
    "s.rolling(5, min_periods=1, center=True).agg(['min', 'max', 'count'])"
   ]
  },
  {
   "cell_type": "markdown",
   "metadata": {},
   "source": [
    "## Rolling with offset aliases\n",
    "\n",
    "Let's read in the stocks dataset, set the index to be a datetime and then select Exxon-Mobil as a Series."
   ]
  },
  {
   "cell_type": "code",
   "execution_count": null,
   "metadata": {},
   "outputs": [],
   "source": [
    "stocks = pd.read_csv('../data/stocks/stocks10.csv', parse_dates=['date'], \n",
    "                     index_col='date')\n",
    "stocks.head(3)"
   ]
  },
  {
   "cell_type": "code",
   "execution_count": null,
   "metadata": {},
   "outputs": [],
   "source": [
    "xom = stocks['XOM']\n",
    "xom.head()"
   ]
  },
  {
   "cell_type": "markdown",
   "metadata": {},
   "source": [
    "Using an integer window size of five works the same in this Series with a DatetimeIndex as it does with any other Series."
   ]
  },
  {
   "cell_type": "code",
   "execution_count": null,
   "metadata": {},
   "outputs": [],
   "source": [
    "xom.rolling(5, min_periods=1).agg(['mean', 'count']).head(10)"
   ]
  },
  {
   "cell_type": "markdown",
   "metadata": {},
   "source": [
    "Window size of a Series (or DataFrame) with a DatetimeIndex may be set with an offset alias. Here, we use `'5D'` for five days. You might assume that this result will be the same as the last, but it is not. When using an offset alias, only the rows within the time period are considered. Since this dataset does not contain weekends, the five day period will only include five observations if the current day is Friday. All the other trading days overlap with one or both weekend days, which do not have rows in the dataset. Take note of the window size under the `'count'` column. Using an integer window size always uses that number of rows in the group (except for the beginning and ending rows)."
   ]
  },
  {
   "cell_type": "code",
   "execution_count": null,
   "metadata": {},
   "outputs": [],
   "source": [
    "xom.rolling('5D', min_periods=1).agg(['mean', 'count']).head(10)"
   ]
  },
  {
   "cell_type": "markdown",
   "metadata": {},
   "source": [
    "Using a window size of seven days will make the number of observations in each group equal to five as each seven day period will contain exactly one Saturday and one Saturday. The only periods that will have less than five observations are the weeks with federal holidays."
   ]
  },
  {
   "cell_type": "code",
   "execution_count": null,
   "metadata": {},
   "outputs": [],
   "source": [
    "xom.rolling('7D', min_periods=1).agg(['mean', 'count']).head(10)"
   ]
  },
  {
   "cell_type": "markdown",
   "metadata": {},
   "source": [
    "### Unavailable offset aliases\n",
    "\n",
    "Because years, quarter, and months are not fixed time periods, pandas does not allow them to be used as offset aliases within rolling. Here, we verify that using a month does not work. Although weeks are always seven days, they are not allowed either."
   ]
  },
  {
   "cell_type": "code",
   "execution_count": null,
   "metadata": {},
   "outputs": [],
   "source": [
    "xom.rolling('M').mean()"
   ]
  },
  {
   "cell_type": "markdown",
   "metadata": {},
   "source": [
    "## DataFrame `rolling` method\n",
    "\n",
    "The `rolling` method works similarly on DataFrames. Here we take the mean of each column using a 14 day window size."
   ]
  },
  {
   "cell_type": "code",
   "execution_count": null,
   "metadata": {},
   "outputs": [],
   "source": [
    "stocks.rolling('14D', min_periods=1).mean().round(1).head(10)"
   ]
  },
  {
   "cell_type": "markdown",
   "metadata": {},
   "source": [
    "Use the `agg` method to map specific columns to specific aggregations."
   ]
  },
  {
   "cell_type": "code",
   "execution_count": null,
   "metadata": {},
   "outputs": [],
   "source": [
    "stocks.rolling('7D', min_periods=1).agg({'MSFT': 'mean', 'WMT': 'min'}).head()"
   ]
  },
  {
   "cell_type": "markdown",
   "metadata": {},
   "source": [
    "### Moving averages\n",
    "\n",
    "Rolling window averages are commonly referred to as a \"moving average\", particularly with stock market data. Let's create the 200 day moving average, minimum and maximum for Exxon-Mobil."
   ]
  },
  {
   "cell_type": "code",
   "execution_count": null,
   "metadata": {},
   "outputs": [],
   "source": [
    "xom_stats = xom.rolling(200).agg(['max', 'mean', 'min']).dropna()\n",
    "xom_stats.head()"
   ]
  },
  {
   "cell_type": "markdown",
   "metadata": {},
   "source": [
    "Visualizing these results can give another perspective on the performance of the stock."
   ]
  },
  {
   "cell_type": "code",
   "execution_count": null,
   "metadata": {},
   "outputs": [],
   "source": [
    "import seaborn as sns\n",
    "sns.set_theme(rc={'figure.figsize': (5, 2.7), 'figure.dpi': 127}, \n",
    "              font_scale=0.8)\n",
    "xom_stats.plot(figsize=(6, 3), style=['-', '--', '-'], title='XOM Rolling Windows');"
   ]
  },
  {
   "cell_type": "markdown",
   "metadata": {},
   "source": [
    "## Exercises\n",
    "\n",
    "Execute the following cell that reads in the temperature dataset and use it for the exercises."
   ]
  },
  {
   "cell_type": "code",
   "execution_count": null,
   "metadata": {},
   "outputs": [],
   "source": [
    "temp = pd.read_csv('../data/weather/temperature.csv', \n",
    "                   parse_dates=['datetime'], index_col='datetime')\n",
    "temp.head()"
   ]
  },
  {
   "cell_type": "markdown",
   "metadata": {},
   "source": [
    "### Exercise 1\n",
    "\n",
    "<span style=\"color:green; font-size:16px\">Calculate a 6-hour moving average of temperature. Set the minimum number of rows used in the group to 1.</span>"
   ]
  },
  {
   "cell_type": "code",
   "execution_count": null,
   "metadata": {},
   "outputs": [],
   "source": []
  },
  {
   "cell_type": "markdown",
   "metadata": {},
   "source": [
    "### Exercise 2\n",
    "\n",
    "<span style=\"color:green; font-size:16px\">How many observations are there in each 30-day rolling window of time? Use the `count` method because the `size` method is not available.</span>"
   ]
  },
  {
   "cell_type": "code",
   "execution_count": null,
   "metadata": {},
   "outputs": [],
   "source": []
  },
  {
   "cell_type": "markdown",
   "metadata": {},
   "source": [
    "### Exercise 3\n",
    "\n",
    "<span style=\"color:green; font-size:16px\">Calculate the 30-day moving average for Los Angeles and Houston using a 1-row minimum. What percentage of the rows does Houston have a higher temperature?</span>"
   ]
  },
  {
   "cell_type": "code",
   "execution_count": null,
   "metadata": {},
   "outputs": [],
   "source": []
  },
  {
   "cell_type": "markdown",
   "metadata": {},
   "source": [
    "### Exercise 4\n",
    "\n",
    "<span style=\"color:green; font-size:16px\">Calculate the minimum, maximum, and mean temperatures for Houston using a rolling 14-day period and plot the results.</span>"
   ]
  },
  {
   "cell_type": "code",
   "execution_count": null,
   "metadata": {},
   "outputs": [],
   "source": []
  }
 ],
 "metadata": {
  "kernelspec": {
   "display_name": "Python 3 (ipykernel)",
   "language": "python",
   "name": "python3"
  },
  "language_info": {
   "codemirror_mode": {
    "name": "ipython",
    "version": 3
   },
   "file_extension": ".py",
   "mimetype": "text/x-python",
   "name": "python",
   "nbconvert_exporter": "python",
   "pygments_lexer": "ipython3",
   "version": "3.8.11"
  }
 },
 "nbformat": 4,
 "nbformat_minor": 2
}
