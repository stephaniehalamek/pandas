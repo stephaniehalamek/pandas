{
 "cells": [
  {
   "cell_type": "markdown",
   "metadata": {},
   "source": [
    "# Boolean Selection More\n",
    "\n",
    "In this chapter, we explore several more possible ways to use boolean selection to filter data.\n",
    "\n",
    "## Boolean selection on a Series\n",
    "\n",
    "All of the examples thus far have taken place on DataFrames. Boolean selection on a Series is completed almost identically. Since there is only one dimension of data, the queries you ask are usually going to be simpler. First, let's select a single column of data as a Series such as the temperature column from the bikes dataset."
   ]
  },
  {
   "cell_type": "code",
   "execution_count": 1,
   "metadata": {},
   "outputs": [
    {
     "data": {
      "text/plain": [
       "0    73.9\n",
       "1    69.1\n",
       "2    73.0\n",
       "Name: temperature, dtype: float64"
      ]
     },
     "execution_count": 1,
     "metadata": {},
     "output_type": "execute_result"
    }
   ],
   "source": [
    "import pandas as pd\n",
    "bikes = pd.read_csv('../data/bikes.csv', parse_dates=['starttime', 'stoptime'])\n",
    "temp = bikes['temperature']\n",
    "temp.head(3)"
   ]
  },
  {
   "cell_type": "markdown",
   "metadata": {},
   "source": [
    "Let's select temperatures greater than 90. The procedure is the same as with DataFrames. Create a boolean Series and pass that Series to *just the bracketes*."
   ]
  },
  {
   "cell_type": "code",
   "execution_count": 2,
   "metadata": {},
   "outputs": [
    {
     "data": {
      "text/plain": [
       "54    91.0\n",
       "55    91.0\n",
       "56    91.0\n",
       "Name: temperature, dtype: float64"
      ]
     },
     "execution_count": 2,
     "metadata": {},
     "output_type": "execute_result"
    }
   ],
   "source": [
    "filt = temp > 90\n",
    "temp[filt].head(3)"
   ]
  },
  {
   "cell_type": "markdown",
   "metadata": {},
   "source": [
    "Select temperatures less than 0 or greater than 95. Multiple condition boolean Series also work the same."
   ]
  },
  {
   "cell_type": "code",
   "execution_count": 3,
   "metadata": {},
   "outputs": [
    {
     "data": {
      "text/plain": [
       "395     96.1\n",
       "396     96.1\n",
       "397     96.1\n",
       "1871    -2.0\n",
       "2049    -2.0\n",
       "Name: temperature, dtype: float64"
      ]
     },
     "execution_count": 3,
     "metadata": {},
     "output_type": "execute_result"
    }
   ],
   "source": [
    "filt1 = temp < 0\n",
    "filt2 = temp > 95\n",
    "filt = filt1 | filt2\n",
    "temp[filt].head()"
   ]
  },
  {
   "cell_type": "markdown",
   "metadata": {},
   "source": [
    "### Set the index as `starttime`\n",
    "\n",
    "The default index is not very helpful. Let's use the `set_index` method to make the `starttime` column the new index. While, this column may not be unique it does provide us with useful labels for each row."
   ]
  },
  {
   "cell_type": "code",
   "execution_count": 6,
   "metadata": {},
   "outputs": [
    {
     "data": {
      "text/html": [
       "<div>\n",
       "<style scoped>\n",
       "    .dataframe tbody tr th:only-of-type {\n",
       "        vertical-align: middle;\n",
       "    }\n",
       "\n",
       "    .dataframe tbody tr th {\n",
       "        vertical-align: top;\n",
       "    }\n",
       "\n",
       "    .dataframe thead th {\n",
       "        text-align: right;\n",
       "    }\n",
       "</style>\n",
       "<table border=\"1\" class=\"dataframe\">\n",
       "  <thead>\n",
       "    <tr style=\"text-align: right;\">\n",
       "      <th></th>\n",
       "      <th>gender</th>\n",
       "      <th>stoptime</th>\n",
       "      <th>tripduration</th>\n",
       "      <th>from_station_name</th>\n",
       "      <th>start_capacity</th>\n",
       "      <th>to_station_name</th>\n",
       "      <th>end_capacity</th>\n",
       "      <th>temperature</th>\n",
       "      <th>wind_speed</th>\n",
       "      <th>events</th>\n",
       "    </tr>\n",
       "    <tr>\n",
       "      <th>starttime</th>\n",
       "      <th></th>\n",
       "      <th></th>\n",
       "      <th></th>\n",
       "      <th></th>\n",
       "      <th></th>\n",
       "      <th></th>\n",
       "      <th></th>\n",
       "      <th></th>\n",
       "      <th></th>\n",
       "      <th></th>\n",
       "    </tr>\n",
       "  </thead>\n",
       "  <tbody>\n",
       "    <tr>\n",
       "      <th>2013-06-28 19:01:00</th>\n",
       "      <td>Male</td>\n",
       "      <td>2013-06-28 19:17:00</td>\n",
       "      <td>993</td>\n",
       "      <td>Lake Shore Dr &amp; Monroe St</td>\n",
       "      <td>11.0</td>\n",
       "      <td>Michigan Ave &amp; Oak St</td>\n",
       "      <td>15.0</td>\n",
       "      <td>73.9</td>\n",
       "      <td>12.7</td>\n",
       "      <td>mostlycloudy</td>\n",
       "    </tr>\n",
       "    <tr>\n",
       "      <th>2013-06-28 22:53:00</th>\n",
       "      <td>Male</td>\n",
       "      <td>2013-06-28 23:03:00</td>\n",
       "      <td>623</td>\n",
       "      <td>Clinton St &amp; Washington Blvd</td>\n",
       "      <td>31.0</td>\n",
       "      <td>Wells St &amp; Walton St</td>\n",
       "      <td>19.0</td>\n",
       "      <td>69.1</td>\n",
       "      <td>6.9</td>\n",
       "      <td>partlycloudy</td>\n",
       "    </tr>\n",
       "  </tbody>\n",
       "</table>\n",
       "</div>"
      ],
      "text/plain": [
       "                    gender            stoptime  tripduration  \\\n",
       "starttime                                                      \n",
       "2013-06-28 19:01:00   Male 2013-06-28 19:17:00           993   \n",
       "2013-06-28 22:53:00   Male 2013-06-28 23:03:00           623   \n",
       "\n",
       "                                from_station_name  start_capacity  \\\n",
       "starttime                                                           \n",
       "2013-06-28 19:01:00     Lake Shore Dr & Monroe St            11.0   \n",
       "2013-06-28 22:53:00  Clinton St & Washington Blvd            31.0   \n",
       "\n",
       "                           to_station_name  end_capacity  temperature  \\\n",
       "starttime                                                               \n",
       "2013-06-28 19:01:00  Michigan Ave & Oak St          15.0         73.9   \n",
       "2013-06-28 22:53:00   Wells St & Walton St          19.0         69.1   \n",
       "\n",
       "                     wind_speed        events  \n",
       "starttime                                      \n",
       "2013-06-28 19:01:00        12.7  mostlycloudy  \n",
       "2013-06-28 22:53:00         6.9  partlycloudy  "
      ]
     },
     "execution_count": 6,
     "metadata": {},
     "output_type": "execute_result"
    }
   ],
   "source": [
    "bikes2 = bikes.set_index('starttime')\n",
    "bikes2.head(2)"
   ]
  },
  {
   "cell_type": "code",
   "execution_count": 9,
   "metadata": {},
   "outputs": [
    {
     "data": {
      "text/html": [
       "<div>\n",
       "<style scoped>\n",
       "    .dataframe tbody tr th:only-of-type {\n",
       "        vertical-align: middle;\n",
       "    }\n",
       "\n",
       "    .dataframe tbody tr th {\n",
       "        vertical-align: top;\n",
       "    }\n",
       "\n",
       "    .dataframe thead th {\n",
       "        text-align: right;\n",
       "    }\n",
       "</style>\n",
       "<table border=\"1\" class=\"dataframe\">\n",
       "  <thead>\n",
       "    <tr style=\"text-align: right;\">\n",
       "      <th></th>\n",
       "      <th>gender</th>\n",
       "      <th>stoptime</th>\n",
       "      <th>tripduration</th>\n",
       "      <th>from_station_name</th>\n",
       "      <th>start_capacity</th>\n",
       "      <th>to_station_name</th>\n",
       "      <th>end_capacity</th>\n",
       "      <th>temperature</th>\n",
       "      <th>wind_speed</th>\n",
       "      <th>events</th>\n",
       "    </tr>\n",
       "    <tr>\n",
       "      <th>starttime</th>\n",
       "      <th></th>\n",
       "      <th></th>\n",
       "      <th></th>\n",
       "      <th></th>\n",
       "      <th></th>\n",
       "      <th></th>\n",
       "      <th></th>\n",
       "      <th></th>\n",
       "      <th></th>\n",
       "      <th></th>\n",
       "    </tr>\n",
       "  </thead>\n",
       "  <tbody>\n",
       "    <tr>\n",
       "      <th>2013-06-28 19:01:00</th>\n",
       "      <td>Male</td>\n",
       "      <td>2013-06-28 19:17:00</td>\n",
       "      <td>993</td>\n",
       "      <td>Lake Shore Dr &amp; Monroe St</td>\n",
       "      <td>11.0</td>\n",
       "      <td>Michigan Ave &amp; Oak St</td>\n",
       "      <td>15.0</td>\n",
       "      <td>73.9</td>\n",
       "      <td>12.7</td>\n",
       "      <td>mostlycloudy</td>\n",
       "    </tr>\n",
       "    <tr>\n",
       "      <th>2013-06-28 22:53:00</th>\n",
       "      <td>Male</td>\n",
       "      <td>2013-06-28 23:03:00</td>\n",
       "      <td>623</td>\n",
       "      <td>Clinton St &amp; Washington Blvd</td>\n",
       "      <td>31.0</td>\n",
       "      <td>Wells St &amp; Walton St</td>\n",
       "      <td>19.0</td>\n",
       "      <td>69.1</td>\n",
       "      <td>6.9</td>\n",
       "      <td>partlycloudy</td>\n",
       "    </tr>\n",
       "    <tr>\n",
       "      <th>2013-06-30 14:43:00</th>\n",
       "      <td>Male</td>\n",
       "      <td>2013-06-30 15:01:00</td>\n",
       "      <td>1040</td>\n",
       "      <td>Sheffield Ave &amp; Kingsbury St</td>\n",
       "      <td>15.0</td>\n",
       "      <td>Dearborn St &amp; Monroe St</td>\n",
       "      <td>23.0</td>\n",
       "      <td>73.0</td>\n",
       "      <td>16.1</td>\n",
       "      <td>mostlycloudy</td>\n",
       "    </tr>\n",
       "  </tbody>\n",
       "</table>\n",
       "</div>"
      ],
      "text/plain": [
       "                    gender            stoptime  tripduration  \\\n",
       "starttime                                                      \n",
       "2013-06-28 19:01:00   Male 2013-06-28 19:17:00           993   \n",
       "2013-06-28 22:53:00   Male 2013-06-28 23:03:00           623   \n",
       "2013-06-30 14:43:00   Male 2013-06-30 15:01:00          1040   \n",
       "\n",
       "                                from_station_name  start_capacity  \\\n",
       "starttime                                                           \n",
       "2013-06-28 19:01:00     Lake Shore Dr & Monroe St            11.0   \n",
       "2013-06-28 22:53:00  Clinton St & Washington Blvd            31.0   \n",
       "2013-06-30 14:43:00  Sheffield Ave & Kingsbury St            15.0   \n",
       "\n",
       "                             to_station_name  end_capacity  temperature  \\\n",
       "starttime                                                                 \n",
       "2013-06-28 19:01:00    Michigan Ave & Oak St          15.0         73.9   \n",
       "2013-06-28 22:53:00     Wells St & Walton St          19.0         69.1   \n",
       "2013-06-30 14:43:00  Dearborn St & Monroe St          23.0         73.0   \n",
       "\n",
       "                     wind_speed        events  \n",
       "starttime                                      \n",
       "2013-06-28 19:01:00        12.7  mostlycloudy  \n",
       "2013-06-28 22:53:00         6.9  partlycloudy  \n",
       "2013-06-30 14:43:00        16.1  mostlycloudy  "
      ]
     },
     "execution_count": 9,
     "metadata": {},
     "output_type": "execute_result"
    }
   ],
   "source": [
    "bikes2 = bikes.set_index('starttime')\n",
    "bikes2.head(3)"
   ]
  },
  {
   "cell_type": "markdown",
   "metadata": {},
   "source": [
    "Let's get back our temperature Series with its updated index."
   ]
  },
  {
   "cell_type": "code",
   "execution_count": 10,
   "metadata": {},
   "outputs": [
    {
     "data": {
      "text/plain": [
       "starttime\n",
       "2013-06-28 19:01:00    73.9\n",
       "2013-06-28 22:53:00    69.1\n",
       "2013-06-30 14:43:00    73.0\n",
       "2013-07-01 10:05:00    72.0\n",
       "2013-07-01 11:16:00    73.0\n",
       "Name: temperature, dtype: float64"
      ]
     },
     "execution_count": 10,
     "metadata": {},
     "output_type": "execute_result"
    }
   ],
   "source": [
    "temp2 = bikes2['temperature']\n",
    "temp2.head()"
   ]
  },
  {
   "cell_type": "markdown",
   "metadata": {},
   "source": [
    "Let's select temperatures greater than 90. We expect to get a summer month and we do."
   ]
  },
  {
   "cell_type": "code",
   "execution_count": 11,
   "metadata": {},
   "outputs": [
    {
     "data": {
      "text/plain": [
       "starttime\n",
       "2013-07-16 15:13:00    91.0\n",
       "2013-07-16 15:31:00    91.0\n",
       "2013-07-16 16:35:00    91.0\n",
       "2013-07-17 17:08:00    93.0\n",
       "2013-07-17 17:25:00    93.0\n",
       "Name: temperature, dtype: float64"
      ]
     },
     "execution_count": 11,
     "metadata": {},
     "output_type": "execute_result"
    }
   ],
   "source": [
    "filt = temp2 > 90\n",
    "temp2[filt].head(5)"
   ]
  },
  {
   "cell_type": "markdown",
   "metadata": {},
   "source": [
    "Select temperature less than 0 or greater than 95. We expect to get some winter months in the result and we do."
   ]
  },
  {
   "cell_type": "code",
   "execution_count": 12,
   "metadata": {},
   "outputs": [
    {
     "data": {
      "text/plain": [
       "starttime\n",
       "2013-08-30 15:33:00    96.1\n",
       "2013-08-30 15:37:00    96.1\n",
       "2013-08-30 15:49:00    96.1\n",
       "2013-12-12 05:13:00    -2.0\n",
       "2014-01-23 06:15:00    -2.0\n",
       "Name: temperature, dtype: float64"
      ]
     },
     "execution_count": 12,
     "metadata": {},
     "output_type": "execute_result"
    }
   ],
   "source": [
    "filt1 = temp2 < 0\n",
    "filt2 = temp2 > 95\n",
    "filt = filt1 | filt2\n",
    "temp2[filt].head()"
   ]
  },
  {
   "cell_type": "markdown",
   "metadata": {},
   "source": [
    "## The `between` method\n",
    "\n",
    "The `between` method returns a boolean Series by testing whether the current value is between two given values. For instance, if want to select the temperatures between 50 and 60 degrees we do the following:"
   ]
  },
  {
   "cell_type": "code",
   "execution_count": 13,
   "metadata": {},
   "outputs": [
    {
     "data": {
      "text/plain": [
       "starttime\n",
       "2013-06-28 19:01:00    False\n",
       "2013-06-28 22:53:00    False\n",
       "2013-06-30 14:43:00    False\n",
       "Name: temperature, dtype: bool"
      ]
     },
     "execution_count": 13,
     "metadata": {},
     "output_type": "execute_result"
    }
   ],
   "source": [
    "filt = temp2.between(50, 60)\n",
    "filt.head(3)"
   ]
  },
  {
   "cell_type": "markdown",
   "metadata": {},
   "source": [
    "By default, the `between` method is inclusive of the given values, so temperatures of exactly 50 or 60 would be found in the result. We pass this boolean Series to *just the brackets* to complete the selection."
   ]
  },
  {
   "cell_type": "code",
   "execution_count": 14,
   "metadata": {},
   "outputs": [
    {
     "data": {
      "text/plain": [
       "starttime\n",
       "2013-09-13 07:55:00    54.0\n",
       "2013-09-13 08:04:00    57.9\n",
       "2013-09-13 08:04:00    57.9\n",
       "Name: temperature, dtype: float64"
      ]
     },
     "execution_count": 14,
     "metadata": {},
     "output_type": "execute_result"
    }
   ],
   "source": [
    "temp2[filt].head(3)"
   ]
  },
  {
   "cell_type": "markdown",
   "metadata": {},
   "source": [
    "## Simultaneous boolean selection of rows and column labels with `loc`\n",
    "\n",
    "The `loc` indexer was thoroughly covered in an earlier chapter and will now be brought up again to show how it can simultaneously select rows with boolean selection and columns by labels.\n",
    "\n",
    "Remember that `loc` takes both a row selection and a column selection separated by a comma. Since the row selection comes first, you can pass it the same exact inputs that you do for *just the brackets* and get the same results. Let's run some of the previous examples of boolean selection with `loc`. Here, we select all rides with trip duration greater than 1,000."
   ]
  },
  {
   "cell_type": "code",
   "execution_count": 15,
   "metadata": {},
   "outputs": [
    {
     "data": {
      "text/html": [
       "<div>\n",
       "<style scoped>\n",
       "    .dataframe tbody tr th:only-of-type {\n",
       "        vertical-align: middle;\n",
       "    }\n",
       "\n",
       "    .dataframe tbody tr th {\n",
       "        vertical-align: top;\n",
       "    }\n",
       "\n",
       "    .dataframe thead th {\n",
       "        text-align: right;\n",
       "    }\n",
       "</style>\n",
       "<table border=\"1\" class=\"dataframe\">\n",
       "  <thead>\n",
       "    <tr style=\"text-align: right;\">\n",
       "      <th></th>\n",
       "      <th>gender</th>\n",
       "      <th>starttime</th>\n",
       "      <th>stoptime</th>\n",
       "      <th>tripduration</th>\n",
       "      <th>from_station_name</th>\n",
       "      <th>start_capacity</th>\n",
       "      <th>to_station_name</th>\n",
       "      <th>end_capacity</th>\n",
       "      <th>temperature</th>\n",
       "      <th>wind_speed</th>\n",
       "      <th>events</th>\n",
       "    </tr>\n",
       "  </thead>\n",
       "  <tbody>\n",
       "    <tr>\n",
       "      <th>2</th>\n",
       "      <td>Male</td>\n",
       "      <td>2013-06-30 14:43:00</td>\n",
       "      <td>2013-06-30 15:01:00</td>\n",
       "      <td>1040</td>\n",
       "      <td>Sheffield Ave &amp; Kingsbury St</td>\n",
       "      <td>15.0</td>\n",
       "      <td>Dearborn St &amp; Monroe St</td>\n",
       "      <td>23.0</td>\n",
       "      <td>73.0</td>\n",
       "      <td>16.1</td>\n",
       "      <td>mostlycloudy</td>\n",
       "    </tr>\n",
       "    <tr>\n",
       "      <th>8</th>\n",
       "      <td>Male</td>\n",
       "      <td>2013-07-03 15:21:00</td>\n",
       "      <td>2013-07-03 15:42:00</td>\n",
       "      <td>1300</td>\n",
       "      <td>Clinton St &amp; Washington Blvd</td>\n",
       "      <td>31.0</td>\n",
       "      <td>Wood St &amp; Division St</td>\n",
       "      <td>15.0</td>\n",
       "      <td>71.1</td>\n",
       "      <td>0.0</td>\n",
       "      <td>cloudy</td>\n",
       "    </tr>\n",
       "    <tr>\n",
       "      <th>10</th>\n",
       "      <td>Male</td>\n",
       "      <td>2013-07-04 17:17:00</td>\n",
       "      <td>2013-07-04 17:42:00</td>\n",
       "      <td>1523</td>\n",
       "      <td>Morgan St &amp; 18th St</td>\n",
       "      <td>15.0</td>\n",
       "      <td>Damen Ave &amp; Pierce Ave</td>\n",
       "      <td>19.0</td>\n",
       "      <td>79.0</td>\n",
       "      <td>9.2</td>\n",
       "      <td>mostlycloudy</td>\n",
       "    </tr>\n",
       "  </tbody>\n",
       "</table>\n",
       "</div>"
      ],
      "text/plain": [
       "   gender           starttime            stoptime  tripduration  \\\n",
       "2    Male 2013-06-30 14:43:00 2013-06-30 15:01:00          1040   \n",
       "8    Male 2013-07-03 15:21:00 2013-07-03 15:42:00          1300   \n",
       "10   Male 2013-07-04 17:17:00 2013-07-04 17:42:00          1523   \n",
       "\n",
       "               from_station_name  start_capacity          to_station_name  \\\n",
       "2   Sheffield Ave & Kingsbury St            15.0  Dearborn St & Monroe St   \n",
       "8   Clinton St & Washington Blvd            31.0    Wood St & Division St   \n",
       "10           Morgan St & 18th St            15.0   Damen Ave & Pierce Ave   \n",
       "\n",
       "    end_capacity  temperature  wind_speed        events  \n",
       "2           23.0         73.0        16.1  mostlycloudy  \n",
       "8           15.0         71.1         0.0        cloudy  \n",
       "10          19.0         79.0         9.2  mostlycloudy  "
      ]
     },
     "execution_count": 15,
     "metadata": {},
     "output_type": "execute_result"
    }
   ],
   "source": [
    "filt = bikes['tripduration'] > 1000\n",
    "bikes.loc[filt].head(3)"
   ]
  },
  {
   "cell_type": "markdown",
   "metadata": {},
   "source": [
    "Here, we select all weather events that are either rain, snow, tstorms, or sleet."
   ]
  },
  {
   "cell_type": "code",
   "execution_count": 16,
   "metadata": {},
   "outputs": [
    {
     "data": {
      "text/html": [
       "<div>\n",
       "<style scoped>\n",
       "    .dataframe tbody tr th:only-of-type {\n",
       "        vertical-align: middle;\n",
       "    }\n",
       "\n",
       "    .dataframe tbody tr th {\n",
       "        vertical-align: top;\n",
       "    }\n",
       "\n",
       "    .dataframe thead th {\n",
       "        text-align: right;\n",
       "    }\n",
       "</style>\n",
       "<table border=\"1\" class=\"dataframe\">\n",
       "  <thead>\n",
       "    <tr style=\"text-align: right;\">\n",
       "      <th></th>\n",
       "      <th>gender</th>\n",
       "      <th>starttime</th>\n",
       "      <th>stoptime</th>\n",
       "      <th>tripduration</th>\n",
       "      <th>from_station_name</th>\n",
       "      <th>start_capacity</th>\n",
       "      <th>to_station_name</th>\n",
       "      <th>end_capacity</th>\n",
       "      <th>temperature</th>\n",
       "      <th>wind_speed</th>\n",
       "      <th>events</th>\n",
       "    </tr>\n",
       "  </thead>\n",
       "  <tbody>\n",
       "    <tr>\n",
       "      <th>45</th>\n",
       "      <td>Male</td>\n",
       "      <td>2013-07-15 16:43:00</td>\n",
       "      <td>2013-07-15 16:55:00</td>\n",
       "      <td>727</td>\n",
       "      <td>Greenwood Ave &amp; 47th St</td>\n",
       "      <td>15.0</td>\n",
       "      <td>State St &amp; Harrison St</td>\n",
       "      <td>19.0</td>\n",
       "      <td>82.9</td>\n",
       "      <td>5.8</td>\n",
       "      <td>rain</td>\n",
       "    </tr>\n",
       "    <tr>\n",
       "      <th>78</th>\n",
       "      <td>Male</td>\n",
       "      <td>2013-07-21 16:35:00</td>\n",
       "      <td>2013-07-21 17:06:00</td>\n",
       "      <td>1809</td>\n",
       "      <td>Michigan Ave &amp; Pearson St</td>\n",
       "      <td>23.0</td>\n",
       "      <td>Millennium Park</td>\n",
       "      <td>35.0</td>\n",
       "      <td>82.4</td>\n",
       "      <td>11.5</td>\n",
       "      <td>tstorms</td>\n",
       "    </tr>\n",
       "    <tr>\n",
       "      <th>79</th>\n",
       "      <td>Male</td>\n",
       "      <td>2013-07-21 16:47:00</td>\n",
       "      <td>2013-07-21 17:03:00</td>\n",
       "      <td>999</td>\n",
       "      <td>Carpenter St &amp; Huron St</td>\n",
       "      <td>19.0</td>\n",
       "      <td>Carpenter St &amp; Huron St</td>\n",
       "      <td>19.0</td>\n",
       "      <td>82.4</td>\n",
       "      <td>11.5</td>\n",
       "      <td>tstorms</td>\n",
       "    </tr>\n",
       "  </tbody>\n",
       "</table>\n",
       "</div>"
      ],
      "text/plain": [
       "   gender           starttime            stoptime  tripduration  \\\n",
       "45   Male 2013-07-15 16:43:00 2013-07-15 16:55:00           727   \n",
       "78   Male 2013-07-21 16:35:00 2013-07-21 17:06:00          1809   \n",
       "79   Male 2013-07-21 16:47:00 2013-07-21 17:03:00           999   \n",
       "\n",
       "            from_station_name  start_capacity          to_station_name  \\\n",
       "45    Greenwood Ave & 47th St            15.0   State St & Harrison St   \n",
       "78  Michigan Ave & Pearson St            23.0          Millennium Park   \n",
       "79    Carpenter St & Huron St            19.0  Carpenter St & Huron St   \n",
       "\n",
       "    end_capacity  temperature  wind_speed   events  \n",
       "45          19.0         82.9         5.8     rain  \n",
       "78          35.0         82.4        11.5  tstorms  \n",
       "79          19.0         82.4        11.5  tstorms  "
      ]
     },
     "execution_count": 16,
     "metadata": {},
     "output_type": "execute_result"
    }
   ],
   "source": [
    "filt = bikes['events'].isin(['rain', 'snow', 'tstorms', 'sleet'])\n",
    "bikes.loc[filt].head(3)"
   ]
  },
  {
   "cell_type": "markdown",
   "metadata": {},
   "source": [
    "### Separate row and column selection with a comma for `loc`\n",
    "\n",
    "The nice benefit of `loc` is that it allows us to simultaneously select rows with boolean selection and columns by label. Let's select rides during rain or snow and the columns `events` and `tripduration`."
   ]
  },
  {
   "cell_type": "code",
   "execution_count": 17,
   "metadata": {},
   "outputs": [
    {
     "data": {
      "text/html": [
       "<div>\n",
       "<style scoped>\n",
       "    .dataframe tbody tr th:only-of-type {\n",
       "        vertical-align: middle;\n",
       "    }\n",
       "\n",
       "    .dataframe tbody tr th {\n",
       "        vertical-align: top;\n",
       "    }\n",
       "\n",
       "    .dataframe thead th {\n",
       "        text-align: right;\n",
       "    }\n",
       "</style>\n",
       "<table border=\"1\" class=\"dataframe\">\n",
       "  <thead>\n",
       "    <tr style=\"text-align: right;\">\n",
       "      <th></th>\n",
       "      <th>events</th>\n",
       "      <th>tripduration</th>\n",
       "    </tr>\n",
       "  </thead>\n",
       "  <tbody>\n",
       "    <tr>\n",
       "      <th>45</th>\n",
       "      <td>rain</td>\n",
       "      <td>727</td>\n",
       "    </tr>\n",
       "    <tr>\n",
       "      <th>112</th>\n",
       "      <td>rain</td>\n",
       "      <td>1395</td>\n",
       "    </tr>\n",
       "    <tr>\n",
       "      <th>124</th>\n",
       "      <td>rain</td>\n",
       "      <td>442</td>\n",
       "    </tr>\n",
       "    <tr>\n",
       "      <th>161</th>\n",
       "      <td>rain</td>\n",
       "      <td>890</td>\n",
       "    </tr>\n",
       "    <tr>\n",
       "      <th>498</th>\n",
       "      <td>rain</td>\n",
       "      <td>978</td>\n",
       "    </tr>\n",
       "  </tbody>\n",
       "</table>\n",
       "</div>"
      ],
      "text/plain": [
       "    events  tripduration\n",
       "45    rain           727\n",
       "112   rain          1395\n",
       "124   rain           442\n",
       "161   rain           890\n",
       "498   rain           978"
      ]
     },
     "execution_count": 17,
     "metadata": {},
     "output_type": "execute_result"
    }
   ],
   "source": [
    "filt = bikes['events'].isin(['rain', 'snow'])\n",
    "cols = ['events', 'tripduration']\n",
    "bikes.loc[filt, cols].head()"
   ]
  },
  {
   "cell_type": "markdown",
   "metadata": {},
   "source": [
    "Now let's find all female riders with trip duration greater than 5,000 when it was cloudy. We'll only return the columns used during the boolean selection."
   ]
  },
  {
   "cell_type": "code",
   "execution_count": 19,
   "metadata": {},
   "outputs": [
    {
     "data": {
      "text/html": [
       "<div>\n",
       "<style scoped>\n",
       "    .dataframe tbody tr th:only-of-type {\n",
       "        vertical-align: middle;\n",
       "    }\n",
       "\n",
       "    .dataframe tbody tr th {\n",
       "        vertical-align: top;\n",
       "    }\n",
       "\n",
       "    .dataframe thead th {\n",
       "        text-align: right;\n",
       "    }\n",
       "</style>\n",
       "<table border=\"1\" class=\"dataframe\">\n",
       "  <thead>\n",
       "    <tr style=\"text-align: right;\">\n",
       "      <th></th>\n",
       "      <th>gender</th>\n",
       "      <th>tripduration</th>\n",
       "      <th>events</th>\n",
       "    </tr>\n",
       "  </thead>\n",
       "  <tbody>\n",
       "    <tr>\n",
       "      <th>2712</th>\n",
       "      <td>Female</td>\n",
       "      <td>79988</td>\n",
       "      <td>cloudy</td>\n",
       "    </tr>\n",
       "    <tr>\n",
       "      <th>14455</th>\n",
       "      <td>Female</td>\n",
       "      <td>7197</td>\n",
       "      <td>cloudy</td>\n",
       "    </tr>\n",
       "    <tr>\n",
       "      <th>22868</th>\n",
       "      <td>Female</td>\n",
       "      <td>13205</td>\n",
       "      <td>cloudy</td>\n",
       "    </tr>\n",
       "    <tr>\n",
       "      <th>36441</th>\n",
       "      <td>Female</td>\n",
       "      <td>19922</td>\n",
       "      <td>cloudy</td>\n",
       "    </tr>\n",
       "  </tbody>\n",
       "</table>\n",
       "</div>"
      ],
      "text/plain": [
       "       gender  tripduration  events\n",
       "2712   Female         79988  cloudy\n",
       "14455  Female          7197  cloudy\n",
       "22868  Female         13205  cloudy\n",
       "36441  Female         19922  cloudy"
      ]
     },
     "execution_count": 19,
     "metadata": {},
     "output_type": "execute_result"
    }
   ],
   "source": [
    "filt1 = bikes['gender'] == 'Female' \n",
    "filt2 = bikes['tripduration'] > 5000\n",
    "filt3 = bikes['events'] == 'cloudy'\n",
    "\n",
    "cols = ['gender', 'tripduration', 'events']\n",
    "\n",
    "filt = filt1 & filt2 & filt3\n",
    "bikes.loc[filt, cols]"
   ]
  },
  {
   "cell_type": "code",
   "execution_count": null,
   "metadata": {},
   "outputs": [],
   "source": [
    "filt1 = bikes['gender'] == 'Female'\n",
    "filt2 = bikes['tripduration'] > 5000\n",
    "filt3 = bikes['events'] == 'cloudy'\n",
    "filt = filt1 & filt2 & filt3\n",
    "cols = ['gender', 'tripduration', 'events']\n",
    "bikes.loc[filt, cols]"
   ]
  },
  {
   "cell_type": "markdown",
   "metadata": {},
   "source": [
    "## Column to column comparisons\n",
    "\n",
    "So far, we created filters by comparing each of our column values to a single scalar value. It is possible to do element-by-element comparisons by comparing two columns to one another. For instance, the total bike capacity at each station at the start and end of the ride is stored in the `start_capacity` and `end_capactiy` columns. If we wanted to test whether there was more capacity at the start of the ride vs the end, we would do the following:"
   ]
  },
  {
   "cell_type": "code",
   "execution_count": 20,
   "metadata": {},
   "outputs": [],
   "source": [
    "filt = bikes['start_capacity'] > bikes['end_capacity']"
   ]
  },
  {
   "cell_type": "markdown",
   "metadata": {},
   "source": [
    "Let's use this filter with `loc` to return all the rows where the start capacity is greater than the end."
   ]
  },
  {
   "cell_type": "code",
   "execution_count": 21,
   "metadata": {},
   "outputs": [
    {
     "data": {
      "text/html": [
       "<div>\n",
       "<style scoped>\n",
       "    .dataframe tbody tr th:only-of-type {\n",
       "        vertical-align: middle;\n",
       "    }\n",
       "\n",
       "    .dataframe tbody tr th {\n",
       "        vertical-align: top;\n",
       "    }\n",
       "\n",
       "    .dataframe thead th {\n",
       "        text-align: right;\n",
       "    }\n",
       "</style>\n",
       "<table border=\"1\" class=\"dataframe\">\n",
       "  <thead>\n",
       "    <tr style=\"text-align: right;\">\n",
       "      <th></th>\n",
       "      <th>start_capacity</th>\n",
       "      <th>end_capacity</th>\n",
       "    </tr>\n",
       "  </thead>\n",
       "  <tbody>\n",
       "    <tr>\n",
       "      <th>1</th>\n",
       "      <td>31.0</td>\n",
       "      <td>19.0</td>\n",
       "    </tr>\n",
       "    <tr>\n",
       "      <th>6</th>\n",
       "      <td>31.0</td>\n",
       "      <td>19.0</td>\n",
       "    </tr>\n",
       "    <tr>\n",
       "      <th>8</th>\n",
       "      <td>31.0</td>\n",
       "      <td>15.0</td>\n",
       "    </tr>\n",
       "  </tbody>\n",
       "</table>\n",
       "</div>"
      ],
      "text/plain": [
       "   start_capacity  end_capacity\n",
       "1            31.0          19.0\n",
       "6            31.0          19.0\n",
       "8            31.0          15.0"
      ]
     },
     "execution_count": 21,
     "metadata": {},
     "output_type": "execute_result"
    }
   ],
   "source": [
    "cols = ['start_capacity', 'end_capacity']\n",
    "bikes.loc[filt, cols].head(3)"
   ]
  },
  {
   "cell_type": "code",
   "execution_count": 22,
   "metadata": {},
   "outputs": [
    {
     "data": {
      "text/html": [
       "<div>\n",
       "<style scoped>\n",
       "    .dataframe tbody tr th:only-of-type {\n",
       "        vertical-align: middle;\n",
       "    }\n",
       "\n",
       "    .dataframe tbody tr th {\n",
       "        vertical-align: top;\n",
       "    }\n",
       "\n",
       "    .dataframe thead th {\n",
       "        text-align: right;\n",
       "    }\n",
       "</style>\n",
       "<table border=\"1\" class=\"dataframe\">\n",
       "  <thead>\n",
       "    <tr style=\"text-align: right;\">\n",
       "      <th></th>\n",
       "      <th>gender</th>\n",
       "      <th>starttime</th>\n",
       "      <th>stoptime</th>\n",
       "      <th>tripduration</th>\n",
       "      <th>from_station_name</th>\n",
       "      <th>start_capacity</th>\n",
       "      <th>to_station_name</th>\n",
       "      <th>end_capacity</th>\n",
       "      <th>temperature</th>\n",
       "      <th>wind_speed</th>\n",
       "      <th>events</th>\n",
       "    </tr>\n",
       "  </thead>\n",
       "  <tbody>\n",
       "    <tr>\n",
       "      <th>1</th>\n",
       "      <td>Male</td>\n",
       "      <td>2013-06-28 22:53:00</td>\n",
       "      <td>2013-06-28 23:03:00</td>\n",
       "      <td>623</td>\n",
       "      <td>Clinton St &amp; Washington Blvd</td>\n",
       "      <td>31.0</td>\n",
       "      <td>Wells St &amp; Walton St</td>\n",
       "      <td>19.0</td>\n",
       "      <td>69.1</td>\n",
       "      <td>6.9</td>\n",
       "      <td>partlycloudy</td>\n",
       "    </tr>\n",
       "    <tr>\n",
       "      <th>6</th>\n",
       "      <td>Male</td>\n",
       "      <td>2013-07-02 17:47:00</td>\n",
       "      <td>2013-07-02 17:56:00</td>\n",
       "      <td>565</td>\n",
       "      <td>Clark St &amp; Randolph St</td>\n",
       "      <td>31.0</td>\n",
       "      <td>Ravenswood Ave &amp; Irving Park Rd</td>\n",
       "      <td>19.0</td>\n",
       "      <td>66.0</td>\n",
       "      <td>15.0</td>\n",
       "      <td>cloudy</td>\n",
       "    </tr>\n",
       "    <tr>\n",
       "      <th>8</th>\n",
       "      <td>Male</td>\n",
       "      <td>2013-07-03 15:21:00</td>\n",
       "      <td>2013-07-03 15:42:00</td>\n",
       "      <td>1300</td>\n",
       "      <td>Clinton St &amp; Washington Blvd</td>\n",
       "      <td>31.0</td>\n",
       "      <td>Wood St &amp; Division St</td>\n",
       "      <td>15.0</td>\n",
       "      <td>71.1</td>\n",
       "      <td>0.0</td>\n",
       "      <td>cloudy</td>\n",
       "    </tr>\n",
       "  </tbody>\n",
       "</table>\n",
       "</div>"
      ],
      "text/plain": [
       "  gender           starttime            stoptime  tripduration  \\\n",
       "1   Male 2013-06-28 22:53:00 2013-06-28 23:03:00           623   \n",
       "6   Male 2013-07-02 17:47:00 2013-07-02 17:56:00           565   \n",
       "8   Male 2013-07-03 15:21:00 2013-07-03 15:42:00          1300   \n",
       "\n",
       "              from_station_name  start_capacity  \\\n",
       "1  Clinton St & Washington Blvd            31.0   \n",
       "6        Clark St & Randolph St            31.0   \n",
       "8  Clinton St & Washington Blvd            31.0   \n",
       "\n",
       "                   to_station_name  end_capacity  temperature  wind_speed  \\\n",
       "1             Wells St & Walton St          19.0         69.1         6.9   \n",
       "6  Ravenswood Ave & Irving Park Rd          19.0         66.0        15.0   \n",
       "8            Wood St & Division St          15.0         71.1         0.0   \n",
       "\n",
       "         events  \n",
       "1  partlycloudy  \n",
       "6        cloudy  \n",
       "8        cloudy  "
      ]
     },
     "execution_count": 22,
     "metadata": {},
     "output_type": "execute_result"
    }
   ],
   "source": [
    "bikes.loc[filt].head(3)"
   ]
  },
  {
   "cell_type": "markdown",
   "metadata": {},
   "source": [
    "### Boolean selection with `iloc` does not work\n",
    "\n",
    "The pandas developers decided not to allow boolean selection with `iloc`. The following raises an error."
   ]
  },
  {
   "cell_type": "code",
   "execution_count": null,
   "metadata": {},
   "outputs": [],
   "source": [
    "bikes.iloc[filt]"
   ]
  },
  {
   "cell_type": "markdown",
   "metadata": {},
   "source": [
    "## Finding missing values with `isna`\n",
    "\n",
    "The `isna` method called from either a DataFrame or a Series returns `True` for every value that is missing and `False` for any other value. Let's see this in action by calling `isna` on the start capacity column."
   ]
  },
  {
   "cell_type": "code",
   "execution_count": 23,
   "metadata": {},
   "outputs": [
    {
     "data": {
      "text/plain": [
       "0    False\n",
       "1    False\n",
       "2    False\n",
       "Name: start_capacity, dtype: bool"
      ]
     },
     "execution_count": 23,
     "metadata": {},
     "output_type": "execute_result"
    }
   ],
   "source": [
    "bikes['start_capacity'].isna().head(3)"
   ]
  },
  {
   "cell_type": "markdown",
   "metadata": {},
   "source": [
    "### Filtering for missing values\n",
    "\n",
    "We can now use this boolean Series to select all the rows where the capacity start column is missing. Verify that those values are indeed missing. "
   ]
  },
  {
   "cell_type": "code",
   "execution_count": 24,
   "metadata": {},
   "outputs": [
    {
     "data": {
      "text/html": [
       "<div>\n",
       "<style scoped>\n",
       "    .dataframe tbody tr th:only-of-type {\n",
       "        vertical-align: middle;\n",
       "    }\n",
       "\n",
       "    .dataframe tbody tr th {\n",
       "        vertical-align: top;\n",
       "    }\n",
       "\n",
       "    .dataframe thead th {\n",
       "        text-align: right;\n",
       "    }\n",
       "</style>\n",
       "<table border=\"1\" class=\"dataframe\">\n",
       "  <thead>\n",
       "    <tr style=\"text-align: right;\">\n",
       "      <th></th>\n",
       "      <th>gender</th>\n",
       "      <th>starttime</th>\n",
       "      <th>stoptime</th>\n",
       "      <th>tripduration</th>\n",
       "      <th>from_station_name</th>\n",
       "      <th>start_capacity</th>\n",
       "      <th>to_station_name</th>\n",
       "      <th>end_capacity</th>\n",
       "      <th>temperature</th>\n",
       "      <th>wind_speed</th>\n",
       "      <th>events</th>\n",
       "    </tr>\n",
       "  </thead>\n",
       "  <tbody>\n",
       "    <tr>\n",
       "      <th>17566</th>\n",
       "      <td>Male</td>\n",
       "      <td>2015-09-06 07:52:00</td>\n",
       "      <td>2015-09-06 07:55:00</td>\n",
       "      <td>207</td>\n",
       "      <td>Clark St &amp; 9th St (AMLI)</td>\n",
       "      <td>NaN</td>\n",
       "      <td>Federal St &amp; Polk St</td>\n",
       "      <td>19.0</td>\n",
       "      <td>75.0</td>\n",
       "      <td>4.6</td>\n",
       "      <td>mostlycloudy</td>\n",
       "    </tr>\n",
       "    <tr>\n",
       "      <th>17605</th>\n",
       "      <td>Female</td>\n",
       "      <td>2015-09-07 09:52:00</td>\n",
       "      <td>2015-09-07 09:57:00</td>\n",
       "      <td>293</td>\n",
       "      <td>Clark St &amp; 9th St (AMLI)</td>\n",
       "      <td>NaN</td>\n",
       "      <td>Wabash Ave &amp; 8th St</td>\n",
       "      <td>19.0</td>\n",
       "      <td>81.0</td>\n",
       "      <td>8.1</td>\n",
       "      <td>mostlycloudy</td>\n",
       "    </tr>\n",
       "    <tr>\n",
       "      <th>17990</th>\n",
       "      <td>Male</td>\n",
       "      <td>2015-09-15 08:25:00</td>\n",
       "      <td>2015-09-15 08:33:00</td>\n",
       "      <td>473</td>\n",
       "      <td>Clark St &amp; 9th St (AMLI)</td>\n",
       "      <td>NaN</td>\n",
       "      <td>Franklin St &amp; Monroe St</td>\n",
       "      <td>27.0</td>\n",
       "      <td>68.0</td>\n",
       "      <td>9.2</td>\n",
       "      <td>mostlycloudy</td>\n",
       "    </tr>\n",
       "  </tbody>\n",
       "</table>\n",
       "</div>"
      ],
      "text/plain": [
       "       gender           starttime            stoptime  tripduration  \\\n",
       "17566    Male 2015-09-06 07:52:00 2015-09-06 07:55:00           207   \n",
       "17605  Female 2015-09-07 09:52:00 2015-09-07 09:57:00           293   \n",
       "17990    Male 2015-09-15 08:25:00 2015-09-15 08:33:00           473   \n",
       "\n",
       "              from_station_name  start_capacity          to_station_name  \\\n",
       "17566  Clark St & 9th St (AMLI)             NaN     Federal St & Polk St   \n",
       "17605  Clark St & 9th St (AMLI)             NaN      Wabash Ave & 8th St   \n",
       "17990  Clark St & 9th St (AMLI)             NaN  Franklin St & Monroe St   \n",
       "\n",
       "       end_capacity  temperature  wind_speed        events  \n",
       "17566          19.0         75.0         4.6  mostlycloudy  \n",
       "17605          19.0         81.0         8.1  mostlycloudy  \n",
       "17990          27.0         68.0         9.2  mostlycloudy  "
      ]
     },
     "execution_count": 24,
     "metadata": {},
     "output_type": "execute_result"
    }
   ],
   "source": [
    "filt = bikes['start_capacity'].isna()\n",
    "bikes[filt].head(3)"
   ]
  },
  {
   "cell_type": "markdown",
   "metadata": {},
   "source": [
    "### `isnull` is an alias for `isna`\n",
    "\n",
    "There is an identical method named `isnull` that you will see in other tutorials. It is an **alias** of `isna` meaning it does the exact same thing but has a different name. Either one is suitable to use, but I prefer `isna` because of the similarity to **NaN**, the representation of missing values. There are also other methods such as `dropna` and `fillna` that have 'na' in their names."
   ]
  },
  {
   "cell_type": "markdown",
   "metadata": {},
   "source": [
    "## Exercises\n",
    "\n",
    "Continue to use the bikes dataset for the first few exercises.\n",
    "\n",
    "### Exercise 1\n",
    "<span  style=\"color:green; font-size:16px\">Select the wind speed column as a Series and assign it to a variable. Are there any negative wind speeds?</span>"
   ]
  },
  {
   "cell_type": "code",
   "execution_count": 25,
   "metadata": {},
   "outputs": [
    {
     "data": {
      "text/html": [
       "<div>\n",
       "<style scoped>\n",
       "    .dataframe tbody tr th:only-of-type {\n",
       "        vertical-align: middle;\n",
       "    }\n",
       "\n",
       "    .dataframe tbody tr th {\n",
       "        vertical-align: top;\n",
       "    }\n",
       "\n",
       "    .dataframe thead th {\n",
       "        text-align: right;\n",
       "    }\n",
       "</style>\n",
       "<table border=\"1\" class=\"dataframe\">\n",
       "  <thead>\n",
       "    <tr style=\"text-align: right;\">\n",
       "      <th></th>\n",
       "      <th>gender</th>\n",
       "      <th>starttime</th>\n",
       "      <th>stoptime</th>\n",
       "      <th>tripduration</th>\n",
       "      <th>from_station_name</th>\n",
       "      <th>start_capacity</th>\n",
       "      <th>to_station_name</th>\n",
       "      <th>end_capacity</th>\n",
       "      <th>temperature</th>\n",
       "      <th>wind_speed</th>\n",
       "      <th>events</th>\n",
       "    </tr>\n",
       "  </thead>\n",
       "  <tbody>\n",
       "    <tr>\n",
       "      <th>0</th>\n",
       "      <td>Male</td>\n",
       "      <td>2013-06-28 19:01:00</td>\n",
       "      <td>2013-06-28 19:17:00</td>\n",
       "      <td>993</td>\n",
       "      <td>Lake Shore Dr &amp; Monroe St</td>\n",
       "      <td>11.0</td>\n",
       "      <td>Michigan Ave &amp; Oak St</td>\n",
       "      <td>15.0</td>\n",
       "      <td>73.9</td>\n",
       "      <td>12.7</td>\n",
       "      <td>mostlycloudy</td>\n",
       "    </tr>\n",
       "    <tr>\n",
       "      <th>1</th>\n",
       "      <td>Male</td>\n",
       "      <td>2013-06-28 22:53:00</td>\n",
       "      <td>2013-06-28 23:03:00</td>\n",
       "      <td>623</td>\n",
       "      <td>Clinton St &amp; Washington Blvd</td>\n",
       "      <td>31.0</td>\n",
       "      <td>Wells St &amp; Walton St</td>\n",
       "      <td>19.0</td>\n",
       "      <td>69.1</td>\n",
       "      <td>6.9</td>\n",
       "      <td>partlycloudy</td>\n",
       "    </tr>\n",
       "  </tbody>\n",
       "</table>\n",
       "</div>"
      ],
      "text/plain": [
       "  gender           starttime            stoptime  tripduration  \\\n",
       "0   Male 2013-06-28 19:01:00 2013-06-28 19:17:00           993   \n",
       "1   Male 2013-06-28 22:53:00 2013-06-28 23:03:00           623   \n",
       "\n",
       "              from_station_name  start_capacity        to_station_name  \\\n",
       "0     Lake Shore Dr & Monroe St            11.0  Michigan Ave & Oak St   \n",
       "1  Clinton St & Washington Blvd            31.0   Wells St & Walton St   \n",
       "\n",
       "   end_capacity  temperature  wind_speed        events  \n",
       "0          15.0         73.9        12.7  mostlycloudy  \n",
       "1          19.0         69.1         6.9  partlycloudy  "
      ]
     },
     "execution_count": 25,
     "metadata": {},
     "output_type": "execute_result"
    }
   ],
   "source": [
    "bikes.head(2)"
   ]
  },
  {
   "cell_type": "code",
   "execution_count": 26,
   "metadata": {},
   "outputs": [],
   "source": [
    "wind = bikes['wind_speed']"
   ]
  },
  {
   "cell_type": "code",
   "execution_count": 28,
   "metadata": {},
   "outputs": [
    {
     "data": {
      "text/plain": [
       "22990   -9999.0\n",
       "27168   -9999.0\n",
       "28368   -9999.0\n",
       "29308   -9999.0\n",
       "29309   -9999.0\n",
       "29310   -9999.0\n",
       "38549   -9999.0\n",
       "38550   -9999.0\n",
       "38551   -9999.0\n",
       "38552   -9999.0\n",
       "46181   -9999.0\n",
       "46182   -9999.0\n",
       "46183   -9999.0\n",
       "46184   -9999.0\n",
       "46185   -9999.0\n",
       "46186   -9999.0\n",
       "Name: wind_speed, dtype: float64"
      ]
     },
     "execution_count": 28,
     "metadata": {},
     "output_type": "execute_result"
    }
   ],
   "source": [
    "wind[wind < 0]\n",
    "\n",
    "or \n",
    "\n",
    "filt = wind < 0\n",
    "wind[filt]"
   ]
  },
  {
   "cell_type": "markdown",
   "metadata": {},
   "source": [
    "### Exercise 2\n",
    "<span  style=\"color:green; font-size:16px\">Select all wind speed values between 12 and 16.</span>"
   ]
  },
  {
   "cell_type": "code",
   "execution_count": 29,
   "metadata": {},
   "outputs": [
    {
     "data": {
      "text/plain": [
       "array([12.7, 15. , 13.8])"
      ]
     },
     "execution_count": 29,
     "metadata": {},
     "output_type": "execute_result"
    }
   ],
   "source": [
    "filt = (wind >= 12) & (wind <=16)\n",
    "wind[filt].unique()"
   ]
  },
  {
   "cell_type": "markdown",
   "metadata": {},
   "source": [
    "### Exercise 3\n",
    "<span  style=\"color:green; font-size:16px\">Select the `events` and `gender` columns for all trip durations longer than 1,000 seconds.</span>"
   ]
  },
  {
   "cell_type": "code",
   "execution_count": 31,
   "metadata": {},
   "outputs": [
    {
     "data": {
      "text/html": [
       "<div>\n",
       "<style scoped>\n",
       "    .dataframe tbody tr th:only-of-type {\n",
       "        vertical-align: middle;\n",
       "    }\n",
       "\n",
       "    .dataframe tbody tr th {\n",
       "        vertical-align: top;\n",
       "    }\n",
       "\n",
       "    .dataframe thead th {\n",
       "        text-align: right;\n",
       "    }\n",
       "</style>\n",
       "<table border=\"1\" class=\"dataframe\">\n",
       "  <thead>\n",
       "    <tr style=\"text-align: right;\">\n",
       "      <th></th>\n",
       "      <th>events</th>\n",
       "      <th>gender</th>\n",
       "    </tr>\n",
       "  </thead>\n",
       "  <tbody>\n",
       "    <tr>\n",
       "      <th>2</th>\n",
       "      <td>mostlycloudy</td>\n",
       "      <td>Male</td>\n",
       "    </tr>\n",
       "    <tr>\n",
       "      <th>8</th>\n",
       "      <td>cloudy</td>\n",
       "      <td>Male</td>\n",
       "    </tr>\n",
       "    <tr>\n",
       "      <th>10</th>\n",
       "      <td>mostlycloudy</td>\n",
       "      <td>Male</td>\n",
       "    </tr>\n",
       "    <tr>\n",
       "      <th>11</th>\n",
       "      <td>mostlycloudy</td>\n",
       "      <td>Male</td>\n",
       "    </tr>\n",
       "    <tr>\n",
       "      <th>12</th>\n",
       "      <td>partlycloudy</td>\n",
       "      <td>Male</td>\n",
       "    </tr>\n",
       "    <tr>\n",
       "      <th>...</th>\n",
       "      <td>...</td>\n",
       "      <td>...</td>\n",
       "    </tr>\n",
       "    <tr>\n",
       "      <th>50058</th>\n",
       "      <td>mostlycloudy</td>\n",
       "      <td>Female</td>\n",
       "    </tr>\n",
       "    <tr>\n",
       "      <th>50077</th>\n",
       "      <td>cloudy</td>\n",
       "      <td>Male</td>\n",
       "    </tr>\n",
       "    <tr>\n",
       "      <th>50080</th>\n",
       "      <td>snow</td>\n",
       "      <td>Male</td>\n",
       "    </tr>\n",
       "    <tr>\n",
       "      <th>50083</th>\n",
       "      <td>partlycloudy</td>\n",
       "      <td>Male</td>\n",
       "    </tr>\n",
       "    <tr>\n",
       "      <th>50084</th>\n",
       "      <td>partlycloudy</td>\n",
       "      <td>Male</td>\n",
       "    </tr>\n",
       "  </tbody>\n",
       "</table>\n",
       "<p>10178 rows × 2 columns</p>\n",
       "</div>"
      ],
      "text/plain": [
       "             events  gender\n",
       "2      mostlycloudy    Male\n",
       "8            cloudy    Male\n",
       "10     mostlycloudy    Male\n",
       "11     mostlycloudy    Male\n",
       "12     partlycloudy    Male\n",
       "...             ...     ...\n",
       "50058  mostlycloudy  Female\n",
       "50077        cloudy    Male\n",
       "50080          snow    Male\n",
       "50083  partlycloudy    Male\n",
       "50084  partlycloudy    Male\n",
       "\n",
       "[10178 rows x 2 columns]"
      ]
     },
     "execution_count": 31,
     "metadata": {},
     "output_type": "execute_result"
    }
   ],
   "source": [
    "filt = bikes['tripduration'] > 1000\n",
    "cols = ['events', 'gender']\n",
    "\n",
    "bikes.loc[filt, cols]"
   ]
  },
  {
   "cell_type": "markdown",
   "metadata": {},
   "source": [
    "Read in the movie dataset by executing the cell below and use it for the following exercises."
   ]
  },
  {
   "cell_type": "code",
   "execution_count": 32,
   "metadata": {},
   "outputs": [
    {
     "data": {
      "text/html": [
       "<div>\n",
       "<style scoped>\n",
       "    .dataframe tbody tr th:only-of-type {\n",
       "        vertical-align: middle;\n",
       "    }\n",
       "\n",
       "    .dataframe tbody tr th {\n",
       "        vertical-align: top;\n",
       "    }\n",
       "\n",
       "    .dataframe thead th {\n",
       "        text-align: right;\n",
       "    }\n",
       "</style>\n",
       "<table border=\"1\" class=\"dataframe\">\n",
       "  <thead>\n",
       "    <tr style=\"text-align: right;\">\n",
       "      <th></th>\n",
       "      <th>year</th>\n",
       "      <th>color</th>\n",
       "      <th>content_rating</th>\n",
       "      <th>duration</th>\n",
       "      <th>director_name</th>\n",
       "      <th>director_fb</th>\n",
       "      <th>actor1</th>\n",
       "      <th>actor1_fb</th>\n",
       "      <th>actor2</th>\n",
       "      <th>actor2_fb</th>\n",
       "      <th>...</th>\n",
       "      <th>actor3_fb</th>\n",
       "      <th>gross</th>\n",
       "      <th>genres</th>\n",
       "      <th>num_reviews</th>\n",
       "      <th>num_voted_users</th>\n",
       "      <th>plot_keywords</th>\n",
       "      <th>language</th>\n",
       "      <th>country</th>\n",
       "      <th>budget</th>\n",
       "      <th>imdb_score</th>\n",
       "    </tr>\n",
       "    <tr>\n",
       "      <th>title</th>\n",
       "      <th></th>\n",
       "      <th></th>\n",
       "      <th></th>\n",
       "      <th></th>\n",
       "      <th></th>\n",
       "      <th></th>\n",
       "      <th></th>\n",
       "      <th></th>\n",
       "      <th></th>\n",
       "      <th></th>\n",
       "      <th></th>\n",
       "      <th></th>\n",
       "      <th></th>\n",
       "      <th></th>\n",
       "      <th></th>\n",
       "      <th></th>\n",
       "      <th></th>\n",
       "      <th></th>\n",
       "      <th></th>\n",
       "      <th></th>\n",
       "      <th></th>\n",
       "    </tr>\n",
       "  </thead>\n",
       "  <tbody>\n",
       "    <tr>\n",
       "      <th>Avatar</th>\n",
       "      <td>2009.0</td>\n",
       "      <td>Color</td>\n",
       "      <td>PG-13</td>\n",
       "      <td>178.0</td>\n",
       "      <td>James Cameron</td>\n",
       "      <td>0.0</td>\n",
       "      <td>CCH Pounder</td>\n",
       "      <td>1000.0</td>\n",
       "      <td>Joel David Moore</td>\n",
       "      <td>936.0</td>\n",
       "      <td>...</td>\n",
       "      <td>855.0</td>\n",
       "      <td>760505847.0</td>\n",
       "      <td>Action|Adventure|Fantasy|Sci-Fi</td>\n",
       "      <td>723.0</td>\n",
       "      <td>886204</td>\n",
       "      <td>avatar|future|marine|native|paraplegic</td>\n",
       "      <td>English</td>\n",
       "      <td>USA</td>\n",
       "      <td>237000000.0</td>\n",
       "      <td>7.9</td>\n",
       "    </tr>\n",
       "    <tr>\n",
       "      <th>Pirates of the Caribbean: At World's End</th>\n",
       "      <td>2007.0</td>\n",
       "      <td>Color</td>\n",
       "      <td>PG-13</td>\n",
       "      <td>169.0</td>\n",
       "      <td>Gore Verbinski</td>\n",
       "      <td>563.0</td>\n",
       "      <td>Johnny Depp</td>\n",
       "      <td>40000.0</td>\n",
       "      <td>Orlando Bloom</td>\n",
       "      <td>5000.0</td>\n",
       "      <td>...</td>\n",
       "      <td>1000.0</td>\n",
       "      <td>309404152.0</td>\n",
       "      <td>Action|Adventure|Fantasy</td>\n",
       "      <td>302.0</td>\n",
       "      <td>471220</td>\n",
       "      <td>goddess|marriage ceremony|marriage proposal|pi...</td>\n",
       "      <td>English</td>\n",
       "      <td>USA</td>\n",
       "      <td>300000000.0</td>\n",
       "      <td>7.1</td>\n",
       "    </tr>\n",
       "    <tr>\n",
       "      <th>Spectre</th>\n",
       "      <td>2015.0</td>\n",
       "      <td>Color</td>\n",
       "      <td>PG-13</td>\n",
       "      <td>148.0</td>\n",
       "      <td>Sam Mendes</td>\n",
       "      <td>0.0</td>\n",
       "      <td>Christoph Waltz</td>\n",
       "      <td>11000.0</td>\n",
       "      <td>Rory Kinnear</td>\n",
       "      <td>393.0</td>\n",
       "      <td>...</td>\n",
       "      <td>161.0</td>\n",
       "      <td>200074175.0</td>\n",
       "      <td>Action|Adventure|Thriller</td>\n",
       "      <td>602.0</td>\n",
       "      <td>275868</td>\n",
       "      <td>bomb|espionage|sequel|spy|terrorist</td>\n",
       "      <td>English</td>\n",
       "      <td>UK</td>\n",
       "      <td>245000000.0</td>\n",
       "      <td>6.8</td>\n",
       "    </tr>\n",
       "  </tbody>\n",
       "</table>\n",
       "<p>3 rows × 21 columns</p>\n",
       "</div>"
      ],
      "text/plain": [
       "                                            year  color content_rating  \\\n",
       "title                                                                    \n",
       "Avatar                                    2009.0  Color          PG-13   \n",
       "Pirates of the Caribbean: At World's End  2007.0  Color          PG-13   \n",
       "Spectre                                   2015.0  Color          PG-13   \n",
       "\n",
       "                                          duration   director_name  \\\n",
       "title                                                                \n",
       "Avatar                                       178.0   James Cameron   \n",
       "Pirates of the Caribbean: At World's End     169.0  Gore Verbinski   \n",
       "Spectre                                      148.0      Sam Mendes   \n",
       "\n",
       "                                          director_fb           actor1  \\\n",
       "title                                                                    \n",
       "Avatar                                            0.0      CCH Pounder   \n",
       "Pirates of the Caribbean: At World's End        563.0      Johnny Depp   \n",
       "Spectre                                           0.0  Christoph Waltz   \n",
       "\n",
       "                                          actor1_fb            actor2  \\\n",
       "title                                                                   \n",
       "Avatar                                       1000.0  Joel David Moore   \n",
       "Pirates of the Caribbean: At World's End    40000.0     Orlando Bloom   \n",
       "Spectre                                     11000.0      Rory Kinnear   \n",
       "\n",
       "                                          actor2_fb  ... actor3_fb  \\\n",
       "title                                                ...             \n",
       "Avatar                                        936.0  ...     855.0   \n",
       "Pirates of the Caribbean: At World's End     5000.0  ...    1000.0   \n",
       "Spectre                                       393.0  ...     161.0   \n",
       "\n",
       "                                                gross  \\\n",
       "title                                                   \n",
       "Avatar                                    760505847.0   \n",
       "Pirates of the Caribbean: At World's End  309404152.0   \n",
       "Spectre                                   200074175.0   \n",
       "\n",
       "                                                                   genres  \\\n",
       "title                                                                       \n",
       "Avatar                                    Action|Adventure|Fantasy|Sci-Fi   \n",
       "Pirates of the Caribbean: At World's End         Action|Adventure|Fantasy   \n",
       "Spectre                                         Action|Adventure|Thriller   \n",
       "\n",
       "                                         num_reviews  num_voted_users  \\\n",
       "title                                                                   \n",
       "Avatar                                         723.0           886204   \n",
       "Pirates of the Caribbean: At World's End       302.0           471220   \n",
       "Spectre                                        602.0           275868   \n",
       "\n",
       "                                                                              plot_keywords  \\\n",
       "title                                                                                         \n",
       "Avatar                                               avatar|future|marine|native|paraplegic   \n",
       "Pirates of the Caribbean: At World's End  goddess|marriage ceremony|marriage proposal|pi...   \n",
       "Spectre                                                 bomb|espionage|sequel|spy|terrorist   \n",
       "\n",
       "                                         language country       budget  \\\n",
       "title                                                                    \n",
       "Avatar                                    English     USA  237000000.0   \n",
       "Pirates of the Caribbean: At World's End  English     USA  300000000.0   \n",
       "Spectre                                   English      UK  245000000.0   \n",
       "\n",
       "                                          imdb_score  \n",
       "title                                                 \n",
       "Avatar                                           7.9  \n",
       "Pirates of the Caribbean: At World's End         7.1  \n",
       "Spectre                                          6.8  \n",
       "\n",
       "[3 rows x 21 columns]"
      ]
     },
     "execution_count": 32,
     "metadata": {},
     "output_type": "execute_result"
    }
   ],
   "source": [
    "import pandas as pd\n",
    "movie = pd.read_csv('../data/movie.csv', index_col='title')\n",
    "movie.head(3)"
   ]
  },
  {
   "cell_type": "markdown",
   "metadata": {},
   "source": [
    "### Exercise 4\n",
    "<span  style=\"color:green; font-size:16px\">Select all the movies such that the Facebook likes for actor 2 are greater than those for actor 1.</span>"
   ]
  },
  {
   "cell_type": "code",
   "execution_count": 33,
   "metadata": {},
   "outputs": [
    {
     "data": {
      "text/html": [
       "<div>\n",
       "<style scoped>\n",
       "    .dataframe tbody tr th:only-of-type {\n",
       "        vertical-align: middle;\n",
       "    }\n",
       "\n",
       "    .dataframe tbody tr th {\n",
       "        vertical-align: top;\n",
       "    }\n",
       "\n",
       "    .dataframe thead th {\n",
       "        text-align: right;\n",
       "    }\n",
       "</style>\n",
       "<table border=\"1\" class=\"dataframe\">\n",
       "  <thead>\n",
       "    <tr style=\"text-align: right;\">\n",
       "      <th></th>\n",
       "      <th>year</th>\n",
       "      <th>color</th>\n",
       "      <th>content_rating</th>\n",
       "      <th>duration</th>\n",
       "      <th>director_name</th>\n",
       "      <th>director_fb</th>\n",
       "      <th>actor1</th>\n",
       "      <th>actor1_fb</th>\n",
       "      <th>actor2</th>\n",
       "      <th>actor2_fb</th>\n",
       "      <th>...</th>\n",
       "      <th>actor3_fb</th>\n",
       "      <th>gross</th>\n",
       "      <th>genres</th>\n",
       "      <th>num_reviews</th>\n",
       "      <th>num_voted_users</th>\n",
       "      <th>plot_keywords</th>\n",
       "      <th>language</th>\n",
       "      <th>country</th>\n",
       "      <th>budget</th>\n",
       "      <th>imdb_score</th>\n",
       "    </tr>\n",
       "    <tr>\n",
       "      <th>title</th>\n",
       "      <th></th>\n",
       "      <th></th>\n",
       "      <th></th>\n",
       "      <th></th>\n",
       "      <th></th>\n",
       "      <th></th>\n",
       "      <th></th>\n",
       "      <th></th>\n",
       "      <th></th>\n",
       "      <th></th>\n",
       "      <th></th>\n",
       "      <th></th>\n",
       "      <th></th>\n",
       "      <th></th>\n",
       "      <th></th>\n",
       "      <th></th>\n",
       "      <th></th>\n",
       "      <th></th>\n",
       "      <th></th>\n",
       "      <th></th>\n",
       "      <th></th>\n",
       "    </tr>\n",
       "  </thead>\n",
       "  <tbody>\n",
       "  </tbody>\n",
       "</table>\n",
       "<p>0 rows × 21 columns</p>\n",
       "</div>"
      ],
      "text/plain": [
       "Empty DataFrame\n",
       "Columns: [year, color, content_rating, duration, director_name, director_fb, actor1, actor1_fb, actor2, actor2_fb, actor3, actor3_fb, gross, genres, num_reviews, num_voted_users, plot_keywords, language, country, budget, imdb_score]\n",
       "Index: []\n",
       "\n",
       "[0 rows x 21 columns]"
      ]
     },
     "execution_count": 33,
     "metadata": {},
     "output_type": "execute_result"
    }
   ],
   "source": [
    "filt = movie['actor1_fb'] < movie['actor2_fb']\n",
    "movie[filt]"
   ]
  },
  {
   "cell_type": "markdown",
   "metadata": {},
   "source": [
    "### Exercise 5\n",
    "<span  style=\"color:green; font-size:16px\">Select the year, content rating, and IMDB score columns for movies from the year 2016 with IMDB score less than 4.</span>"
   ]
  },
  {
   "cell_type": "code",
   "execution_count": 35,
   "metadata": {},
   "outputs": [
    {
     "data": {
      "text/html": [
       "<div>\n",
       "<style scoped>\n",
       "    .dataframe tbody tr th:only-of-type {\n",
       "        vertical-align: middle;\n",
       "    }\n",
       "\n",
       "    .dataframe tbody tr th {\n",
       "        vertical-align: top;\n",
       "    }\n",
       "\n",
       "    .dataframe thead th {\n",
       "        text-align: right;\n",
       "    }\n",
       "</style>\n",
       "<table border=\"1\" class=\"dataframe\">\n",
       "  <thead>\n",
       "    <tr style=\"text-align: right;\">\n",
       "      <th></th>\n",
       "      <th>year</th>\n",
       "      <th>content_rating</th>\n",
       "      <th>imdb_score</th>\n",
       "    </tr>\n",
       "    <tr>\n",
       "      <th>title</th>\n",
       "      <th></th>\n",
       "      <th></th>\n",
       "      <th></th>\n",
       "    </tr>\n",
       "  </thead>\n",
       "  <tbody>\n",
       "    <tr>\n",
       "      <th>Fifty Shades of Black</th>\n",
       "      <td>2016.0</td>\n",
       "      <td>R</td>\n",
       "      <td>3.5</td>\n",
       "    </tr>\n",
       "    <tr>\n",
       "      <th>Cabin Fever</th>\n",
       "      <td>2016.0</td>\n",
       "      <td>Not Rated</td>\n",
       "      <td>3.7</td>\n",
       "    </tr>\n",
       "    <tr>\n",
       "      <th>God's Not Dead 2</th>\n",
       "      <td>2016.0</td>\n",
       "      <td>PG</td>\n",
       "      <td>3.4</td>\n",
       "    </tr>\n",
       "  </tbody>\n",
       "</table>\n",
       "</div>"
      ],
      "text/plain": [
       "                         year content_rating  imdb_score\n",
       "title                                                   \n",
       "Fifty Shades of Black  2016.0              R         3.5\n",
       "Cabin Fever            2016.0      Not Rated         3.7\n",
       "God's Not Dead 2       2016.0             PG         3.4"
      ]
     },
     "execution_count": 35,
     "metadata": {},
     "output_type": "execute_result"
    }
   ],
   "source": [
    "filt = (movie['year'] == 2016) & (movie['imdb_score'] < 4)\n",
    "cols = ['year', 'content_rating', 'imdb_score']\n",
    "\n",
    "\n",
    "movie.loc[filt, cols]"
   ]
  },
  {
   "cell_type": "markdown",
   "metadata": {},
   "source": [
    "### Exercise 6\n",
    "<span  style=\"color:green; font-size:16px\">Select all the movies that are missing values for content rating.</span>"
   ]
  },
  {
   "cell_type": "code",
   "execution_count": 36,
   "metadata": {},
   "outputs": [
    {
     "data": {
      "text/plain": [
       "title\n",
       "Avatar                                        False\n",
       "Pirates of the Caribbean: At World's End      False\n",
       "Spectre                                       False\n",
       "The Dark Knight Rises                         False\n",
       "Star Wars: Episode VII - The Force Awakens     True\n",
       "                                              ...  \n",
       "Signed Sealed Delivered                        True\n",
       "The Following                                 False\n",
       "A Plague So Pleasant                           True\n",
       "Shanghai Calling                              False\n",
       "My Date with Drew                             False\n",
       "Name: content_rating, Length: 4916, dtype: bool"
      ]
     },
     "execution_count": 36,
     "metadata": {},
     "output_type": "execute_result"
    }
   ],
   "source": [
    "movie['content_rating'].isna()"
   ]
  },
  {
   "cell_type": "markdown",
   "metadata": {},
   "source": [
    "### Exercise 7\n",
    "<span  style=\"color:green; font-size:16px\">Select all the movies that are missing values for both the gross and budget columns. Return just those columns to verify that those values are indeed missing.</span>"
   ]
  },
  {
   "cell_type": "code",
   "execution_count": 38,
   "metadata": {},
   "outputs": [
    {
     "data": {
      "text/html": [
       "<div>\n",
       "<style scoped>\n",
       "    .dataframe tbody tr th:only-of-type {\n",
       "        vertical-align: middle;\n",
       "    }\n",
       "\n",
       "    .dataframe tbody tr th {\n",
       "        vertical-align: top;\n",
       "    }\n",
       "\n",
       "    .dataframe thead th {\n",
       "        text-align: right;\n",
       "    }\n",
       "</style>\n",
       "<table border=\"1\" class=\"dataframe\">\n",
       "  <thead>\n",
       "    <tr style=\"text-align: right;\">\n",
       "      <th></th>\n",
       "      <th>gross</th>\n",
       "      <th>budget</th>\n",
       "    </tr>\n",
       "    <tr>\n",
       "      <th>title</th>\n",
       "      <th></th>\n",
       "      <th></th>\n",
       "    </tr>\n",
       "  </thead>\n",
       "  <tbody>\n",
       "    <tr>\n",
       "      <th>Star Wars: Episode VII - The Force Awakens</th>\n",
       "      <td>NaN</td>\n",
       "      <td>NaN</td>\n",
       "    </tr>\n",
       "    <tr>\n",
       "      <th>The Lovers</th>\n",
       "      <td>NaN</td>\n",
       "      <td>NaN</td>\n",
       "    </tr>\n",
       "    <tr>\n",
       "      <th>Godzilla Resurgence</th>\n",
       "      <td>NaN</td>\n",
       "      <td>NaN</td>\n",
       "    </tr>\n",
       "    <tr>\n",
       "      <th>Harry Potter and the Deathly Hallows: Part II</th>\n",
       "      <td>NaN</td>\n",
       "      <td>NaN</td>\n",
       "    </tr>\n",
       "    <tr>\n",
       "      <th>Harry Potter and the Deathly Hallows: Part I</th>\n",
       "      <td>NaN</td>\n",
       "      <td>NaN</td>\n",
       "    </tr>\n",
       "    <tr>\n",
       "      <th>...</th>\n",
       "      <td>...</td>\n",
       "      <td>...</td>\n",
       "    </tr>\n",
       "    <tr>\n",
       "      <th>Exeter</th>\n",
       "      <td>NaN</td>\n",
       "      <td>NaN</td>\n",
       "    </tr>\n",
       "    <tr>\n",
       "      <th>On the Downlow</th>\n",
       "      <td>NaN</td>\n",
       "      <td>NaN</td>\n",
       "    </tr>\n",
       "    <tr>\n",
       "      <th>Bang</th>\n",
       "      <td>NaN</td>\n",
       "      <td>NaN</td>\n",
       "    </tr>\n",
       "    <tr>\n",
       "      <th>Signed Sealed Delivered</th>\n",
       "      <td>NaN</td>\n",
       "      <td>NaN</td>\n",
       "    </tr>\n",
       "    <tr>\n",
       "      <th>The Following</th>\n",
       "      <td>NaN</td>\n",
       "      <td>NaN</td>\n",
       "    </tr>\n",
       "  </tbody>\n",
       "</table>\n",
       "<p>219 rows × 2 columns</p>\n",
       "</div>"
      ],
      "text/plain": [
       "                                               gross  budget\n",
       "title                                                       \n",
       "Star Wars: Episode VII - The Force Awakens       NaN     NaN\n",
       "The Lovers                                       NaN     NaN\n",
       "Godzilla Resurgence                              NaN     NaN\n",
       "Harry Potter and the Deathly Hallows: Part II    NaN     NaN\n",
       "Harry Potter and the Deathly Hallows: Part I     NaN     NaN\n",
       "...                                              ...     ...\n",
       "Exeter                                           NaN     NaN\n",
       "On the Downlow                                   NaN     NaN\n",
       "Bang                                             NaN     NaN\n",
       "Signed Sealed Delivered                          NaN     NaN\n",
       "The Following                                    NaN     NaN\n",
       "\n",
       "[219 rows x 2 columns]"
      ]
     },
     "execution_count": 38,
     "metadata": {},
     "output_type": "execute_result"
    }
   ],
   "source": [
    "filt = (movie['gross'].isna()) & (movie['budget'].isna())\n",
    "cols = ['gross', 'budget']\n",
    "\n",
    "movie.loc[filt, cols]"
   ]
  },
  {
   "cell_type": "markdown",
   "metadata": {},
   "source": [
    "### Exercise 8\n",
    "<span  style=\"color:green; font-size:16px\">Write a function `find_missing` that has three parameters, `df`, `col1` and `col2` where `df` is a DataFrame and `col1` and `col2` are column names. This function should return all the rows of the DataFrame where `col1` and `col2` are missing. Only return the two columns as well. Answer problem 7 with this function.</span>"
   ]
  },
  {
   "cell_type": "code",
   "execution_count": 41,
   "metadata": {},
   "outputs": [],
   "source": [
    "def find_missing(df, col1, col2) :\n",
    "    filt = (df[col1].isna()) & (df[col2].isna())\n",
    "    cols = [col1, col2]\n",
    "    \n",
    "    return df.loc[filt, cols]"
   ]
  },
  {
   "cell_type": "code",
   "execution_count": 42,
   "metadata": {},
   "outputs": [
    {
     "data": {
      "text/html": [
       "<div>\n",
       "<style scoped>\n",
       "    .dataframe tbody tr th:only-of-type {\n",
       "        vertical-align: middle;\n",
       "    }\n",
       "\n",
       "    .dataframe tbody tr th {\n",
       "        vertical-align: top;\n",
       "    }\n",
       "\n",
       "    .dataframe thead th {\n",
       "        text-align: right;\n",
       "    }\n",
       "</style>\n",
       "<table border=\"1\" class=\"dataframe\">\n",
       "  <thead>\n",
       "    <tr style=\"text-align: right;\">\n",
       "      <th></th>\n",
       "      <th>gross</th>\n",
       "      <th>budget</th>\n",
       "    </tr>\n",
       "    <tr>\n",
       "      <th>title</th>\n",
       "      <th></th>\n",
       "      <th></th>\n",
       "    </tr>\n",
       "  </thead>\n",
       "  <tbody>\n",
       "    <tr>\n",
       "      <th>Star Wars: Episode VII - The Force Awakens</th>\n",
       "      <td>NaN</td>\n",
       "      <td>NaN</td>\n",
       "    </tr>\n",
       "    <tr>\n",
       "      <th>The Lovers</th>\n",
       "      <td>NaN</td>\n",
       "      <td>NaN</td>\n",
       "    </tr>\n",
       "    <tr>\n",
       "      <th>Godzilla Resurgence</th>\n",
       "      <td>NaN</td>\n",
       "      <td>NaN</td>\n",
       "    </tr>\n",
       "    <tr>\n",
       "      <th>Harry Potter and the Deathly Hallows: Part II</th>\n",
       "      <td>NaN</td>\n",
       "      <td>NaN</td>\n",
       "    </tr>\n",
       "    <tr>\n",
       "      <th>Harry Potter and the Deathly Hallows: Part I</th>\n",
       "      <td>NaN</td>\n",
       "      <td>NaN</td>\n",
       "    </tr>\n",
       "    <tr>\n",
       "      <th>...</th>\n",
       "      <td>...</td>\n",
       "      <td>...</td>\n",
       "    </tr>\n",
       "    <tr>\n",
       "      <th>Exeter</th>\n",
       "      <td>NaN</td>\n",
       "      <td>NaN</td>\n",
       "    </tr>\n",
       "    <tr>\n",
       "      <th>On the Downlow</th>\n",
       "      <td>NaN</td>\n",
       "      <td>NaN</td>\n",
       "    </tr>\n",
       "    <tr>\n",
       "      <th>Bang</th>\n",
       "      <td>NaN</td>\n",
       "      <td>NaN</td>\n",
       "    </tr>\n",
       "    <tr>\n",
       "      <th>Signed Sealed Delivered</th>\n",
       "      <td>NaN</td>\n",
       "      <td>NaN</td>\n",
       "    </tr>\n",
       "    <tr>\n",
       "      <th>The Following</th>\n",
       "      <td>NaN</td>\n",
       "      <td>NaN</td>\n",
       "    </tr>\n",
       "  </tbody>\n",
       "</table>\n",
       "<p>219 rows × 2 columns</p>\n",
       "</div>"
      ],
      "text/plain": [
       "                                               gross  budget\n",
       "title                                                       \n",
       "Star Wars: Episode VII - The Force Awakens       NaN     NaN\n",
       "The Lovers                                       NaN     NaN\n",
       "Godzilla Resurgence                              NaN     NaN\n",
       "Harry Potter and the Deathly Hallows: Part II    NaN     NaN\n",
       "Harry Potter and the Deathly Hallows: Part I     NaN     NaN\n",
       "...                                              ...     ...\n",
       "Exeter                                           NaN     NaN\n",
       "On the Downlow                                   NaN     NaN\n",
       "Bang                                             NaN     NaN\n",
       "Signed Sealed Delivered                          NaN     NaN\n",
       "The Following                                    NaN     NaN\n",
       "\n",
       "[219 rows x 2 columns]"
      ]
     },
     "execution_count": 42,
     "metadata": {},
     "output_type": "execute_result"
    }
   ],
   "source": [
    "find_missing(movie, 'gross', 'budget')"
   ]
  },
  {
   "cell_type": "code",
   "execution_count": null,
   "metadata": {},
   "outputs": [],
   "source": []
  }
 ],
 "metadata": {
  "kernelspec": {
   "display_name": "Python 3 (ipykernel)",
   "language": "python",
   "name": "python3"
  },
  "language_info": {
   "codemirror_mode": {
    "name": "ipython",
    "version": 3
   },
   "file_extension": ".py",
   "mimetype": "text/x-python",
   "name": "python",
   "nbconvert_exporter": "python",
   "pygments_lexer": "ipython3",
   "version": "3.11.0"
  },
  "varInspector": {
   "cols": {
    "lenName": 16,
    "lenType": 16,
    "lenVar": 40
   },
   "kernels_config": {
    "python": {
     "delete_cmd_postfix": "",
     "delete_cmd_prefix": "del ",
     "library": "var_list.py",
     "varRefreshCmd": "print(var_dic_list())"
    },
    "r": {
     "delete_cmd_postfix": ") ",
     "delete_cmd_prefix": "rm(",
     "library": "var_list.r",
     "varRefreshCmd": "cat(var_dic_list()) "
    }
   },
   "types_to_exclude": [
    "module",
    "function",
    "builtin_function_or_method",
    "instance",
    "_Feature"
   ],
   "window_display": false
  }
 },
 "nbformat": 4,
 "nbformat_minor": 2
}
