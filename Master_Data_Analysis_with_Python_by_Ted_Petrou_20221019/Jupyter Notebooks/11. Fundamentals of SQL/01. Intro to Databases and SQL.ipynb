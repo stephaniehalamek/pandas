{
 "cells": [
  {
   "cell_type": "markdown",
   "id": "09ed9157",
   "metadata": {},
   "source": [
    "# Intro to Databases and SQL\n",
    "\n",
    "Up until now, all of the data in this book has been stored in single files (also called **flat files**) that are not directly connected with one another. In the real world, its very common to come across data that is stored in a **database**, which is often defined as an organized collection of data. This chapter introduces you to databases and SQL, a powerful language to query and update data stored in a relational database.\n",
    "\n",
    "## Databases\n",
    "\n",
    "Numerous ways and theories for how data can be organized have been developed and studied. A **database model** is a term that describes the structure in which the data is stored within a database. A few popular database models are listed below.\n",
    "\n",
    "* **Flat** - a single file of one table of rows and columns. This is the structure for most of the data in this book.\n",
    "* **Relational** - multiple two-dimensional tables with rows and columns linked together by primary and foreign keys. This is the structure we will use in this part of the book\n",
    "* **Hierarchical** - a tree-like structure such as the one used for your computer's file system.\n",
    "* **Key-Value** - Similar to a Python dictionary where keys map to specific pieces of data\n",
    "\n",
    "### Database Management System\n",
    "\n",
    "A **Database Management System** or **DBMS** is software that provides users access to the database so that they can store, retrieve, and update the data. This software provides specific commands that the users can issue in order to manage the data.\n",
    "\n",
    "**Relational Database Management Software** or **RDBMS** is specific to databases employing a relational model and the only structure of data we will be covering in this chapter. Dozens of RDBMS exist with some popular ones listed below:\n",
    "\n",
    "* **[SQLite][sqlite]** - lightweight free and open source software that comes shipped with Python\n",
    "* **[MySQL][mysql]** - popular free and open source software often used in web applications\n",
    "* **[PostgreSQL][postgres]** - popular free and open source software with more features than the two above\n",
    "* **[Oracle][oracle]** - enterprise software\n",
    "* **[SQL Server][msft]** - enterprise software from Microsoft\n",
    "\n",
    "## SQL\n",
    "\n",
    "Although there are dozens of different RDBMS's, nearly all provide users with a language called **SQL** (Structured Query Language) to update and retrieve the data. SQL is a **declarative** programming language, where you describe the results of the operation but without the exact control flow of how the operation is completed. This contrasts with **imperative** programming languages like Python, where each command expresses exactly what operations the computer will execute. Although SQL is declarative, specific syntax rules still exist that must be adhered to in order for the commands to execute properly.\n",
    "\n",
    "### Different dialects of SQL\n",
    "\n",
    "Each RDBMS has its own distinct dialect of SQL that must be used. Although each dialect is distinct, most commands are similar and many will be the exact same. The American National Standards Institute (ANSI) does have a specification for SQL covering all of the features, but each RDBMS chooses the features it wishes to implement from the standard.\n",
    "\n",
    "[sqlite]: https://www.sqlite.org/index.html\n",
    "[mysql]: https://www.mysql.com/\n",
    "[postgres]: https://www.postgresql.org/\n",
    "[oracle]: https://www.oracle.com\n",
    "[msft]: https://www.microsoft.com/sql-server"
   ]
  },
  {
   "cell_type": "markdown",
   "id": "c868c1e8",
   "metadata": {},
   "source": [
    "## Download DbSchema\n",
    "\n",
    "To make learning SQL easier, download free software called [DbSchema][0]. This software is a graphical user interface to view the database diagram, browse the data in the tables, and execute SQL statements. It is not an RDBMS, but allows you to use it with any RDBMS.\n",
    "\n",
    "[0]: https://dbschema.com/\n",
    "\n",
    "### Steps to connect to the SQLite Healthcare Database\n",
    "\n",
    "Once you've downloaded and installed DbSchema, open it and choose **Connect to the Database**. On the next screen, choose **SQLite** from the RDBMS dropdown menu on the top. If prompted, download the **driver** specifically for SQLite. Towards the bottom of the window, you'll need to select the specific database file location. Click the **Choose...** button and navigate to the **data** folder for this book and again into the **databases** folder. Select the **healthcare.db** file and press **connect**. Check all of the boxes on the next screen and click OK."
   ]
  },
  {
   "cell_type": "markdown",
   "id": "8856c6f3",
   "metadata": {},
   "source": [
    "## The database diagram\n",
    "\n",
    "You should now see the **database diagram**, also called the **Entity-Relationship Diagram** or **ERD**, which is presented below. The entities are the tables and the relationships are the lines connecting them.\n",
    "\n",
    "![1]\n",
    "\n",
    "It's important to understand this diagram as all of the items on it are meaningful. Each of the five large rectangular boxes represents a **table** containing two-dimensional data with rows and columns. This is the same structure of data that we've seen in the CSV files. The table name is centered at the top of each box. The column names and their corresponding data type reside below the table names.\n",
    "\n",
    "### Primary and foreign keys\n",
    "\n",
    "Most tables in a relational database will have a column designated as the **primary key**. Each value in a primary key is unique and therefore uniquely identifies each row in the table. The little golden key symbol to the left of the first column in each table represents the primary key in our database diagram.\n",
    "\n",
    "A **foreign key** is a column that is a primary key in another table. The appointment table is the only one containing foreign keys and it contains the primary keys of each of the other four tables. The blue arrows to the right of the columns pointed up are the symbols used as a foreign key. If a primary key is contained in another table, then it a golden arrow pointed down to the right of the column. \n",
    "\n",
    "Foreign keys are not unique in the table they appear and may repeat as many times as possible. In our database, the values of the four foreign keys in the appointment table all repeat multiple times. When these column names are each the primary key in their respective table, then each value is unique.\n",
    "\n",
    "[1]: images/health_erd.png"
   ]
  },
  {
   "cell_type": "markdown",
   "id": "9b37018f",
   "metadata": {},
   "source": [
    "### One-to-one, one-to-many, and many-to-many relationships\n",
    "\n",
    "The dashed lines connecting the tables represent the type of relationships each table has with the other. There are three broad types of relationships between two tables:\n",
    "\n",
    "**One-to-one relationship** - Each row of one table is connected to exactly one row of the other table. In the diagram below, each row in the table on the left is connected to one, and exactly one row in the table on the right. This type of relationship does not exist in our database and is uncommon in relational databases.\n",
    "\n",
    "![1]\n",
    "\n",
    "**One-to-many relationship** - Each row of one table is connected to any number of rows of the other table. In the diagram below (which is a subset of the database we will examine), values of the patient_id in the patient table appear exactly once. They are connected to the same patient_id column in the appointment table on the right, where it may appear any number of times. Here, the order of the tables matter. The \"one\" component of the relationship applies to the patient table, while \"many\" applies to the appointment table. From the perspective of the appointment table, it is a **many-to-one relationship**.\n",
    "\n",
    "![2]\n",
    "\n",
    "**Many-to-many relationship** - Each row of one table is connected to multiple rows of the other table and vice-versa. Like the one-to-one relationship, this one does not exist in our database and is uncommon in relational databases. \n",
    "\n",
    "![3]\n",
    "\n",
    "The reasons for why one-to-one and many-to-many relationships are uncommon in relational databases will be discussed in the **Data Normalization** chapter.\n",
    "\n",
    "## Crow's foot notation\n",
    "\n",
    "Look back at the database diagram and take note of the ending of each of the dashed lines. All of the lines originating from the appointment table begin with three little prongs and a little circle. This symbol is part of a set of symbols called **crow's foot notation**.\n",
    "\n",
    "There are two components of each symbol from crow's foot notation - the **maximum** and the **minimum**. The maximum is always closest to the table and can either represent **one** or **many**. The minimum will refer to either **zero** or **one**. With this particular symbol, the three prongs refer to the maximum and represent **many**. The little circle refers to the minimum and represents **zero**. \n",
    "\n",
    "What is meant by a minimum of zero? There might be a patient_id that exists in the patient table, but does not exist in the appointment table. In other words, some patients in the database have no appointments. The four common crow's foot notation symbols are depicted below:\n",
    "\n",
    "![4]\n",
    "\n",
    "In DbSchema, you'll notice an arrow at the other end of each of the lines. This is not part of crow's foot notation, but is used whenever the connecting column is the primary key of the table. Because it is a primary key, it is assumed that it is unique (maximum of one) and necessary (minimum of one). In crow's foot notation, you would use the symbol with two vertical lines.\n",
    "\n",
    "Therefore, looking at the entire line originating from the appointment table to the patient table, we see that there exists a many-to-one relationship with the possibility that not all patient_id values in the patient table appear in the appointment table.\n",
    "\n",
    "### More examples of crow's foot notation\n",
    "\n",
    "The full context of crow's foot notation is seen through the entire connection of two tables, not just on one end. Let's look at a couple more examples. Here the person and social_security table have a one-to-one relationship where the person_id appears exactly once in each table.\n",
    "\n",
    "![5]\n",
    "\n",
    "In this many-to-many relationship, song_id values in the price table may not appear in the song table.\n",
    "\n",
    "![6]\n",
    "\n",
    "\n",
    "[1]: images/oneone.png\n",
    "[2]: images/onetomany.png\n",
    "[3]: images/many_to_many.png\n",
    "[4]: images/crowsfoot.png\n",
    "[5]: images/ssn_erd.png\n",
    "[6]: images/manymanyerd.png"
   ]
  },
  {
   "cell_type": "markdown",
   "id": "8b8a2f33",
   "metadata": {},
   "source": [
    "## Viewing the data\n",
    "\n",
    "All of the data in our healthcare database is stored in two-dimensional tables and is viewable in DbSchema in the Sample Relational Data Explorer open in the bottom half of the screen. Close out of any open tables currently in that area and then drag and drop individual table names from the upper left-hand-side window pane into the data explorer. You'll need to navigate into the Schemas and Default folder folders to find the table names. Here, you can scroll up and down to view the raw data from specific tabls.\n",
    "\n",
    "![1]\n",
    "\n",
    "[1]: images/view_data.png"
   ]
  },
  {
   "cell_type": "markdown",
   "id": "5445b5d2",
   "metadata": {},
   "source": [
    "## SQL statements\n",
    "\n",
    "We are now ready to write our first lines of SQL code. All of our SQL code will composed with a **SQL statement**, which is a specific set of instructions to complete a particular task. You can analogize a SQL statement to an English language sentence that commands an action to be taken. As SQL is a declarative language, the specific steps of how to complete the command are not given, just the final result of what is needed. For instance, the command \"Bring me a medium-rare steak and ice cream\" does not specify how the items are to be secured or prepared, only what the result needs to be.\n",
    "\n",
    "### Categories of SQL statements\n",
    "\n",
    "Most SQL statements begin with single-word verbs that describe an action. Some common statements include **CREATE**, **DROP**, **ALTER**, **SELECT**, **INSERT**, **UPDATE**, **DELETE**, **GRANT**, **REVOKE**, **COMMIT**, and **ROLLBACK**. These statements are often grouped into different categories that describe the types of actions performed.\n",
    "\n",
    "**Data Definition** - makes changes to entire table\n",
    "* **CREATE** - creates tables\n",
    "* **DROP** - deletes tables\n",
    "* **ALTER** - changes a table's structure - changes table/column names, data types, adds new columns\n",
    "\n",
    "**Data Manipulation** - modifies individual rows/values in a table\n",
    "* **SELECT** - queries specific data\n",
    "* **UPDATE** - changes specific values that already exist\n",
    "* **INSERT** - inserts new rows\n",
    "* **DELETE** - deletes rows\n",
    "\n",
    "**Data Control** - determines which users have access to data/commands\n",
    "* **GRANT** - grant access to specific users\n",
    "* **REVOKE** - revoke access to specific users\n",
    "\n",
    "**Transaction Control** - make changes to database permanent\n",
    "* **COMMIT** - permanently save changes\n",
    "* **ROLLBACK** - permanently undo changes since last commit\n",
    "    "
   ]
  },
  {
   "cell_type": "markdown",
   "id": "68f27883",
   "metadata": {},
   "source": [
    "### SQL statement syntax\n",
    "\n",
    "Each SQL statement has its own specific syntax that must be followed so that it executes properly. Below, we have a **CREATE** statement that creates a table named patient with six columns.\n",
    "\n",
    "```sqlite\n",
    "CREATE TABLE patient (\n",
    "\tpatient_id INTEGER PRIMARY KEY,\n",
    "\tfirst_name TEXT NOT NULL,\n",
    "\tlast_name TEXT NOT NULL,\n",
    "    sex TEXT,\n",
    "    address TEXT,\n",
    "    date_of_birth DATETIME\n",
    ");\n",
    "```\n",
    "\n",
    "As previously mentioned, each RDBMS uses its own dialect of SQL. The above syntax works for SQLite and many others, but is not guaranteed to work for all dialects. Also, the available SQL statements themselves differ depending on the RDBMS. While understanding all of the SQL statements is necessary for administering and managing databases, it is the SELECT statement that is of most importance to those who wish to analyze data and is the main statement that will be covered in great detail in the next chapter. "
   ]
  },
  {
   "cell_type": "markdown",
   "id": "47e5aba7",
   "metadata": {},
   "source": [
    "## Data types and missing values\n",
    "\n",
    "Like pandas DataFrames, each column of a SQL table has a data type informing us as to what kind of values we can expect in the column. You can expect most RDBMS's to have integer, float, text, and datetime data types. Often, data types specify the size of the value, just like pandas specifies the integer and float bit size (int32, float64, etc...). With text data, it's common to see the maximum number of characters possible, such as nvarchar(20) - which stands for a variable character up to 20 characters in length. SQLite is an exception as its data types are flexible and not as strict as other RDBMS's.\n",
    "\n",
    "Unlike pandas, missing values in SQL are simple and are all represented by the keyword NULL. Every column, regardless of its data type uses NULL to represent a missing value."
   ]
  },
  {
   "cell_type": "markdown",
   "id": "c58894cd",
   "metadata": {},
   "source": [
    "## Exercises\n",
    "\n",
    "Use the following ERD for the exercises.\n",
    "\n",
    "![1]\n",
    "\n",
    "[1]: images/prof_student_class.png"
   ]
  },
  {
   "cell_type": "markdown",
   "id": "a1e0473d",
   "metadata": {},
   "source": [
    "### Exercise 1\n",
    "\n",
    "<span style=\"color:green; font-size:16px\">In words, describe the relationship between the professor and class tables.</span>"
   ]
  },
  {
   "cell_type": "code",
   "execution_count": null,
   "id": "5d97b189",
   "metadata": {},
   "outputs": [],
   "source": []
  },
  {
   "cell_type": "markdown",
   "id": "25a1776c",
   "metadata": {},
   "source": [
    "### Exercise 2\n",
    "\n",
    "<span style=\"color:green; font-size:16px\">In words, describe the relationship between the class and students_in_class tables.</span>"
   ]
  },
  {
   "cell_type": "code",
   "execution_count": null,
   "id": "bf9ea1bb",
   "metadata": {},
   "outputs": [],
   "source": []
  },
  {
   "cell_type": "markdown",
   "id": "bd757cc0",
   "metadata": {},
   "source": [
    "### Exercise 3\n",
    "\n",
    "<span style=\"color:green; font-size:16px\">What is the minimum and maximum number of professors each student can have?</span>"
   ]
  },
  {
   "cell_type": "code",
   "execution_count": null,
   "id": "7aecc0db",
   "metadata": {},
   "outputs": [],
   "source": []
  }
 ],
 "metadata": {
  "kernelspec": {
   "display_name": "Python 3 (ipykernel)",
   "language": "python",
   "name": "python3"
  },
  "language_info": {
   "codemirror_mode": {
    "name": "ipython",
    "version": 3
   },
   "file_extension": ".py",
   "mimetype": "text/x-python",
   "name": "python",
   "nbconvert_exporter": "python",
   "pygments_lexer": "ipython3",
   "version": "3.8.11"
  }
 },
 "nbformat": 4,
 "nbformat_minor": 5
}
