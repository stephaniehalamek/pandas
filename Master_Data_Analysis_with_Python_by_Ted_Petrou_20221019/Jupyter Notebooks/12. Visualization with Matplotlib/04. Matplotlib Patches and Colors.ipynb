{
 "cells": [
  {
   "cell_type": "markdown",
   "metadata": {},
   "source": [
    "# Matplotlib Patches and Colors\n",
    "\n",
    "In this chapter, we'll add a variety of matplotlib patches to our axes and understand how colors work and how they are chosen. A matplotlib patch is one of several shapes that can be added to an axes. Circles, ellipses, arcs, wedges, rectangles, polygons with any number of sides (triangles, pentagons, hexagons, etc...), and arrows are all examples of matplotlib patches.\n",
    "\n",
    "## Adding matplotlib patches\n",
    "\n",
    "All matplotlib patches are located in the `patches` module. We cannot directly create them from our axes object like we did with text, annotation, and horizontal and vertical lines. We'll need to import both the `pyplot` and `patches` modules. The style for this book will be used for the remainder of the matplotlib chapters."
   ]
  },
  {
   "cell_type": "code",
   "execution_count": null,
   "metadata": {},
   "outputs": [],
   "source": [
    "import numpy as np\n",
    "import matplotlib.pyplot as plt\n",
    "from matplotlib import patches\n",
    "plt.style.use('mdap.mplstyle')"
   ]
  },
  {
   "cell_type": "markdown",
   "metadata": {},
   "source": [
    "## Circle patches\n",
    "\n",
    "All patches must be created using their constructor from the patches module. The `Circle` constructor has the following two primary parameters:\n",
    "\n",
    "* `xy` - a two-item tuple of the location of the center of the circle\n",
    "* `radius` - the radius of the circle\n",
    "\n",
    "Let's instantiate a Circle patch and assign the result to a variable."
   ]
  },
  {
   "cell_type": "code",
   "execution_count": null,
   "metadata": {},
   "outputs": [],
   "source": [
    "circle = patches.Circle((.3, .7), radius=.2)"
   ]
  },
  {
   "cell_type": "markdown",
   "metadata": {},
   "source": [
    "Creating a patch does NOT add it to the axes, which we haven't even created. We must pass the patch to the axes `add_patch` method. Let's create our figure and axes, color in the face of the Figure and then add our circle patch, which as a center of (.3, .6). All matplotlib figures have default x and y limits of (0, 1)."
   ]
  },
  {
   "cell_type": "code",
   "execution_count": null,
   "metadata": {},
   "outputs": [],
   "source": [
    "fig, ax = plt.subplots(facecolor='tan')\n",
    "ax.add_patch(circle);"
   ]
  },
  {
   "cell_type": "markdown",
   "metadata": {},
   "source": [
    "### That's not a circle\n",
    "\n",
    "Our patch looks like an ellipse and not a circle. This is because the limits for both the x and y axis are the same, but the physical dimensions of our figure (4 x 2) are not. The x-axis is twice as long as the y-axis. matplotlib offers a direct way to change the proportions of our axes so that the x and y dimensions use the same number of pixels for the same distance. Pass the `set_aspect` method the string `'equal'` and it will automatically make the adjustment for you."
   ]
  },
  {
   "cell_type": "code",
   "execution_count": null,
   "metadata": {},
   "outputs": [],
   "source": [
    "ax.set_aspect('equal')\n",
    "fig"
   ]
  },
  {
   "cell_type": "markdown",
   "metadata": {},
   "source": [
    "### Where's the rest of our figure?\n",
    "\n",
    "The circle patch now looks like a perfect circle, and the x and y axis appear to be the same length. If you are working through this material in a Jupyter Notebook, you'll notice that the figure does not appear to have the original dimensions (3.5 x 2). Let's retrieve these now with one of its getter methods."
   ]
  },
  {
   "cell_type": "code",
   "execution_count": null,
   "metadata": {},
   "outputs": [],
   "source": [
    "fig.get_size_inches()"
   ]
  },
  {
   "cell_type": "markdown",
   "metadata": {},
   "source": [
    "Our figure is still the same size, but Jupyter Notebooks won't display the entire contents if there are no objects in that space. Let's change the inline print settings for `bbox_inches` again to `None` so that the entire figure is displayed."
   ]
  },
  {
   "cell_type": "code",
   "execution_count": null,
   "metadata": {},
   "outputs": [],
   "source": [
    "%config InlineBackend.print_figure_kwargs = {'bbox_inches': None}\n",
    "fig"
   ]
  },
  {
   "cell_type": "markdown",
   "metadata": {},
   "source": [
    "If we change the limits of the x or y axis, the aspect ratio will remain as 'equal'. Let's change the x-axis limits to (0, 4)."
   ]
  },
  {
   "cell_type": "code",
   "execution_count": null,
   "metadata": {},
   "outputs": [],
   "source": [
    "ax.set_xlim(0, 4)\n",
    "fig"
   ]
  },
  {
   "cell_type": "markdown",
   "metadata": {},
   "source": [
    "The vertical screen distance of one y unit remains the same as the horizontal screen distance as one x unit. Because our figure size has a width to height ratio of 1.75 (3.5 to 2), our current axes (with ratio of 4 to 1) will not fill the entire region of the figure. Let's change the figure size with the setter method `set_size_inches` so that the ratio is the same as the ratio of x and y axis limits. Any ratio of 3.5 to 1 will work."
   ]
  },
  {
   "cell_type": "code",
   "execution_count": null,
   "metadata": {
    "scrolled": true
   },
   "outputs": [],
   "source": [
    "fig.set_size_inches(7, 2)\n",
    "fig"
   ]
  },
  {
   "cell_type": "markdown",
   "metadata": {},
   "source": [
    "## Ellipse patches\n",
    "\n",
    "The `Ellipse` constructor creates ellipse patches by providing it a `center` (as a tuple), a `width`, and a `height`. Optionally, you can provide an angle (in degrees) to rotate it counter-clockwise. Grid lines are also added to make it easier to see the locations of each of the patches."
   ]
  },
  {
   "cell_type": "code",
   "execution_count": null,
   "metadata": {},
   "outputs": [],
   "source": [
    "ellipse = patches.Ellipse((3.4, .4), width=1, height=.3, angle=8)\n",
    "ax.add_patch(ellipse)\n",
    "ax.grid(True)\n",
    "fig"
   ]
  },
  {
   "cell_type": "markdown",
   "metadata": {},
   "source": [
    "## Rectangle patches\n",
    "\n",
    "`Rectangle` patches are constructed by providing the lower-left coordinate as a tuple, the `width`, and the `height`. Optionally, you can provide an angle (in degrees) to rotate it counter-clockwise. Remember to use the `add_patch` method to actually add the patch to the specified axes."
   ]
  },
  {
   "cell_type": "code",
   "execution_count": null,
   "metadata": {},
   "outputs": [],
   "source": [
    "rect = patches.Rectangle((1.3, .2), width=1.2, height=.3, angle=-15)\n",
    "ax.add_patch(rect)\n",
    "fig"
   ]
  },
  {
   "cell_type": "markdown",
   "metadata": {},
   "source": [
    "## Polygon patches\n",
    "\n",
    "The `Polygon` patch constructor allows you to create nearly any shape you want by providing it a list of coordinates of the corners. The points will be connected in the order provided. By default, the first and last points will also be connected. Below, we create a triangle and a pentagon."
   ]
  },
  {
   "cell_type": "code",
   "execution_count": null,
   "metadata": {},
   "outputs": [],
   "source": [
    "triangle = patches.Polygon([[.8, .9], [.6, .4], [1.1, .7]])\n",
    "pentagon = patches.Polygon([[2, .5], [2, .7], [2.3, .8], [2.5, .7], [2.5, .5]])\n",
    "ax.add_patch(triangle)\n",
    "ax.add_patch(pentagon)\n",
    "fig"
   ]
  },
  {
   "cell_type": "markdown",
   "metadata": {},
   "source": [
    "## Arc patches\n",
    "\n",
    "An arc is just the outer edge of an ellipse or circle. It is not filled in with any color. You can make a perfect circle using the `Arc` constructor by setting both the `height` and `width` parameters equal to each other, which will be the diameter (and not the radius) of the circle. The first argument is a tuple of its center. Below, a circle is created with the `Arc` constructor with a diameter of .4."
   ]
  },
  {
   "cell_type": "code",
   "execution_count": null,
   "metadata": {},
   "outputs": [],
   "source": [
    "circle_arc = patches.Arc((.3, .2), width=.4, height=.4)\n",
    "ax.add_patch(circle_arc)\n",
    "fig"
   ]
  },
  {
   "cell_type": "markdown",
   "metadata": {},
   "source": [
    "Instead of creating the entire edge of the circle or ellipse, you can draw a segment of it by specifying values for the parameters `theta1` and `theta2` in degrees. These control the start and ending angles. By default, they are set to 0 and 360 respectively, which means that the entire ellipse or circle will be drawn. The 0 degree mark is to the right of center with the degrees increasing in the counter-clockwise direction. Below, we create a segment of a circle, and a segment of an ellipse."
   ]
  },
  {
   "cell_type": "code",
   "execution_count": null,
   "metadata": {},
   "outputs": [],
   "source": [
    "circle_arc_segment = patches.Arc((.75, .2), width=.4, height=.4, \n",
    "                                 theta1=45, theta2=250)\n",
    "ellipse_arc_segment = patches.Arc((3.4, .75), width=1, height=.3, angle=8, \n",
    "                                  theta1=0, theta2=180)\n",
    "ax.add_patch(circle_arc_segment)\n",
    "ax.add_patch(ellipse_arc_segment)\n",
    "fig"
   ]
  },
  {
   "cell_type": "markdown",
   "metadata": {},
   "source": [
    "## Wedge patches\n",
    "\n",
    "A wedge is a section of a circle and looks like a slice of pizza. It is constructed with a center, radius, and start and stop angles. If the start and stop angles are 0 and 360, then a full circle is drawn. Optionally, you can use the `width` parameter to create a circular hole in the middle of the wedge to make it look like a donut. The radius of this hole is the radius minus the width. Here, we create a 'pizza slice' wedge and a 'donut' wedge with a small hole in it."
   ]
  },
  {
   "cell_type": "code",
   "execution_count": null,
   "metadata": {},
   "outputs": [],
   "source": [
    "pizza_slice = patches.Wedge((2.7, .3), r=.3, theta1=300, theta2=340)\n",
    "donut = patches.Wedge((2.7, .6), r=.1, theta1=0, theta2=300, width=.07)\n",
    "ax.add_patch(pizza_slice)\n",
    "ax.add_patch(donut)\n",
    "fig"
   ]
  },
  {
   "cell_type": "markdown",
   "metadata": {},
   "source": [
    "### Not filling patches\n",
    "\n",
    "By default, circle, ellipse, rectangle, polygon, and wedge patches are filled with a color. By setting the `fill` parameter to `False`, only the outline of the patch will be shown. Below, we create a small circle without any fill color. It's also unnecessary to assign the patch first to a variable. You can place the constructor directly inside the `add_patch` method in a single line of code."
   ]
  },
  {
   "cell_type": "code",
   "execution_count": null,
   "metadata": {},
   "outputs": [],
   "source": [
    "ax.add_patch(patches.Circle((1.5, .8), radius=.1, fill=False))\n",
    "fig"
   ]
  },
  {
   "cell_type": "markdown",
   "metadata": {},
   "source": [
    "### More patch properties\n",
    "\n",
    "You can control the edge line width, color, and style, and face color with the following parameters, several of which are the same as they are for lines.\n",
    "\n",
    "* `linewidth` or `lw` - edge width in points\n",
    "* `edgecolor` or `ec` - edge color\n",
    "* `linestyle` or `ls` - edge line style\n",
    "* `facecolor` or `fc` - face color"
   ]
  },
  {
   "cell_type": "code",
   "execution_count": null,
   "metadata": {},
   "outputs": [],
   "source": [
    "ax.add_patch(patches.Circle((1.2, .5), radius=.15, lw=3, \n",
    "                            ec='black', ls='dashed', fc='coral'))\n",
    "fig"
   ]
  },
  {
   "cell_type": "markdown",
   "metadata": {},
   "source": [
    "### List of all patches\n",
    "\n",
    "Use the `patches` attribute to retrieve a list of all the patches."
   ]
  },
  {
   "cell_type": "code",
   "execution_count": null,
   "metadata": {},
   "outputs": [],
   "source": [
    "ax.patches"
   ]
  },
  {
   "cell_type": "markdown",
   "metadata": {},
   "source": [
    "This list can be useful for iterating through and changing a property that they all have in common. Here, the face color of each patch is changed to red."
   ]
  },
  {
   "cell_type": "code",
   "execution_count": null,
   "metadata": {},
   "outputs": [],
   "source": [
    "for patch in ax.patches:\n",
    "    patch.set_fc('red')\n",
    "fig"
   ]
  },
  {
   "cell_type": "markdown",
   "metadata": {},
   "source": [
    "### Hatching\n",
    "\n",
    "Patches can be filled with patterns called 'hatches' by setting the `hatch` parameter to one of the following characters.\n",
    "\n",
    "| Symbol   | Description                                                                 |\n",
    "|:-------|:---------------------------------------------------------------------------|\n",
    "| `/`      | diagonal hatching                                                                       |\n",
    "| `\\`  | back diagonal  |\n",
    "| `\\|`  | vertical  |\n",
    "| `-`  | horizontal  |\n",
    "| `+`  | crossed  |\n",
    "| `x`  | crossed diagonal  |\n",
    "| `o`  | small circle  |\n",
    "| `O`  | large circle  |\n",
    "| `.`  | dots  |\n",
    "| `*`  | stars  |\n",
    "\n",
    "By default, the color of the hatch is black, but this can be set with `edgecolor`/`ec`. Below, we create a tan rectangle with purple 'diagnonal hatching' using the forward slash character."
   ]
  },
  {
   "cell_type": "code",
   "execution_count": null,
   "metadata": {},
   "outputs": [],
   "source": [
    "fig, ax = plt.subplots(figsize=(3, 1.4))\n",
    "rect = patches.Rectangle((.2, .3), width=.6, height=.5, \n",
    "                         fc='tan', hatch='/', ec='purple')\n",
    "ax.add_patch(rect);"
   ]
  },
  {
   "cell_type": "markdown",
   "metadata": {},
   "source": [
    "You can increase the density of the hatches by repeating the same symbol. You can also combine hatching patterns together by using different hatch symbols. We use the setter method from the rectangle patch object to change the hatching pattern."
   ]
  },
  {
   "cell_type": "code",
   "execution_count": null,
   "metadata": {},
   "outputs": [],
   "source": [
    "rect.set_hatch('++x.')\n",
    "fig"
   ]
  },
  {
   "cell_type": "markdown",
   "metadata": {},
   "source": [
    "## Matplotlib colors\n",
    "\n",
    "We have already changed the colors of a few plotting elements. In this section, we will go deeper into how colors work and how to specify them. Nearly every plotting object has an option for you to change its color. There are two main ways to choose colors:\n",
    "\n",
    "* Web colors - 140 named colors known to all modern web browsers\n",
    "* RGB triples - Red, Green, and Blue intensities provided as floats or hexadecimal strings\n",
    "\n",
    "### Web colors\n",
    "\n",
    "Web colors are a standardized set of 140 colors that all modern web browsers understand. They are also known as  CSS4/X11 color names [with more information available here][1]. matplotlib provides a dictionary of their names paired to their RGB string value in the `CSS4_COLORS` variable name found in the `colors` module. Let's output the string names of the first five of these colors.\n",
    "\n",
    "[1]: https://en.wikipedia.org/wiki/Web_colors#X11_color_names"
   ]
  },
  {
   "cell_type": "code",
   "execution_count": null,
   "metadata": {},
   "outputs": [],
   "source": [
    "from matplotlib import colors\n",
    "list(colors.CSS4_COLORS)[:5]"
   ]
  },
  {
   "cell_type": "markdown",
   "metadata": {},
   "source": [
    "To help visualize all of the colors, we'll create one rectangle patch for each color, placing its name as a text object directly in the center of it. There are actually more than 140 names below, as the names 'gray' and 'grey' can be used interchangeably for the same color. For example, 'lightslategray' is the same color as 'lightslategrey'. \n",
    "\n",
    "A few other things are changed below. The Jupyter Notebook configuration setting for 'bbox_inches' was set back to 'tight' to eliminate the excess padding. The axis labels, tick lines, and tick labels are hidden by passing the string 'off' to the `axis` method."
   ]
  },
  {
   "cell_type": "code",
   "execution_count": null,
   "metadata": {},
   "outputs": [],
   "source": [
    "%config InlineBackend.print_figure_kwargs = {'bbox_inches':'tight'}\n",
    "fig, ax = plt.subplots(figsize=(8, 4))\n",
    "ax.axis('off')\n",
    "ax.set_xlim(0, 8)\n",
    "ax.set_ylim(0, 19)\n",
    "for i, color in enumerate(colors.CSS4_COLORS):\n",
    "    x, y = divmod(i, 19)\n",
    "    y = 18 - y\n",
    "    ax.add_patch(patches.Rectangle((x, y), width=1, height=1, color=color))\n",
    "    text_color = 'white' if color == 'black' else 'black'\n",
    "    ax.text(x + .5, y + .5, color, ha='center', va='center', \n",
    "            color=text_color, fontname='Arial Narrow')"
   ]
  },
  {
   "cell_type": "markdown",
   "metadata": {},
   "source": [
    "### RGB triples\n",
    "\n",
    "While the 140 web colors are sufficient for most tasks, many more colors can be described with RGB triples. These stand for the intensity of red, green, and blue components of the color. Each component of the triple may be provided as a float between 0 and 1, where 0 represents the lowest intensity and 1 represents the highest. We'll call these **RGB floats**. Each of the three intensities combines together to form the actual color. \n",
    "\n",
    "In matplotlib, the triple is provided as a three-item tuple where the intensities are in the order red, green, and blue. For example, `(1, 0, 0)` is an RGB triple for the color red. The triple `(0, 0, 0)` represents an absence of color, which forms black. The triple `(1, 1, 1)` has full intensity for each color, producing white. All float values between 0 and 1 are acceptable. An RGB triple of `(.8, .2, .4)` is valid and produces a color that will visually appear more red, as its intensity is greatest. Below, we create three rectangles using RGB triples (three-item tuples) for red, green, and blue instead of their string name. Note that the actual color green has .5 for the green intensity."
   ]
  },
  {
   "cell_type": "code",
   "execution_count": null,
   "metadata": {},
   "outputs": [],
   "source": [
    "fig, ax = plt.subplots(figsize=(4, 1.5))\n",
    "ax.add_patch(patches.Rectangle((.1, .7), width=.8, height=.2, color=(1, 0, 0)))\n",
    "ax.text(.5, .8, 'red', ha='center', va='center')\n",
    "ax.add_patch(patches.Rectangle((.1, .4), width=.8, height=.2, color=(0, .5, 0)))\n",
    "ax.text(.5, .5, 'green', ha='center', va='center')\n",
    "ax.add_patch(patches.Rectangle((.1, .1), width=.8, height=.2, color=(0, 0, 1)))\n",
    "ax.text(.5, .2, 'blue', ha='center', va='center');"
   ]
  },
  {
   "cell_type": "markdown",
   "metadata": {},
   "source": [
    "Below, we create 27 different RGB triple combinations that have either 0, .5, or 1 intensity for each of the three colors, and plot them as matplotlib rectangle patches."
   ]
  },
  {
   "cell_type": "code",
   "execution_count": null,
   "metadata": {},
   "outputs": [],
   "source": [
    "vals = [0, .5, 1]\n",
    "rgb_combos = [(r, g, b) for r in vals for g in vals for b in vals]\n",
    "fig, ax = plt.subplots(figsize=(7, 1.5))\n",
    "ax.axis('off')\n",
    "ax.set_xlim(0, 9)\n",
    "ax.set_ylim(0, 3)\n",
    "for i, rgb in enumerate(rgb_combos):\n",
    "    x, y = divmod(i, 3)\n",
    "    y = 2 - y\n",
    "    ax.add_patch(patches.Rectangle((x, y), width=1, height=1, color=rgb))\n",
    "    text_color = 'white' if rgb == (0, 0, 0) else 'black'\n",
    "    ax.text(x + .5, y + .5, rgb, ha='center', va='center', color=text_color, fontsize=6)"
   ]
  },
  {
   "cell_type": "markdown",
   "metadata": {},
   "source": [
    "### RGB hexadecimal strings\n",
    "\n",
    "Alternatively, you may supply each of the RGB intensities as integers between 0 and 255. For instance, the triple `(255, 0, 0)` is equivalent to the intensity `(1, 0, 0)`. But, matplotlib does not allow you to use the actual integers in base 10. Instead, you must use base 16 for each integer, providing it with its **hexadecimal** representation. In base 10, the digits 0-9 are allowed in each place of a number. In base 16, the digits 0-15 are allowed in a single place. Instead of using two characters to represent the digits 10 - 15, they are referenced by the letters 'a' through 'f' in hexadecimal notation. \n",
    "\n",
    "### Hexadecimal examples\n",
    "\n",
    "It may be useful to look at some examples of numbers converted from base 10 to base 16 and vice-versa. Take the number 14 in base 10. This number is represented as `e` in base 16 (using hexadecimal representation). Now take the number `4c` in base 16. To convert this number to base 10, begin by taking the first digit `c`, which is 12 in base 10. The second digit, `4`, is multiplied by 16 and then added to 12. This becomes 64 + 12 or 76. The generic formula for converting a number in base 16 to base 10 is as follows:\n",
    "\n",
    "* Start with the right-most digit and convert it to base 10\n",
    "* Multiply it by 16 raised to the `n - 1` power, where `n` is the place of the digit\n",
    "* Move one digit to the left\n",
    "* Repeat the procedure and sum all of the values calculated together\n",
    "\n",
    "Conversion can be done automatically with the built-in `int` constructor by passing it the hexadecimal string and setting the `base` parameter to 16."
   ]
  },
  {
   "cell_type": "code",
   "execution_count": null,
   "metadata": {},
   "outputs": [],
   "source": [
    "int('4c', base=16)"
   ]
  },
  {
   "cell_type": "markdown",
   "metadata": {},
   "source": [
    "To convert from base 10 to base 16, use the built-in `hex` function. It returns the hexadecimal representation preceded by the characters '0x'. The highest integer intensity for any one color is 255, which has a hexadecimal representation of 'ff'. Let's verify this with the `hex` function."
   ]
  },
  {
   "cell_type": "code",
   "execution_count": null,
   "metadata": {},
   "outputs": [],
   "source": [
    "hex(255)"
   ]
  },
  {
   "cell_type": "markdown",
   "metadata": {},
   "source": [
    "In matplotlib, the RGB hexadecimal triples are provided as a single string where each of the three intensities always uses two characters. For example, `'00'` is used for intensity 0, `'0f'` for 15, and `'4c'` for 76. matplotlib requires that you place a `'#'` character at the beginning of the string. The three intensities follow one after the other. For example, `'#ff4c37'` has intensity `'ff'` for red, `'4c'` for green and `'37'` for blue. We'll call these **RGB strings**. Let's create a rectangle patch with this exact color."
   ]
  },
  {
   "cell_type": "code",
   "execution_count": null,
   "metadata": {},
   "outputs": [],
   "source": [
    "fig, ax = plt.subplots(figsize=(3, 1))\n",
    "ax.add_patch(patches.Rectangle((.3, .3), width=.4, height=.4, color='#ff4c37'))\n",
    "ax.text(.5, .5, '#ff4c37', ha='center', va='center', fontsize=10);"
   ]
  },
  {
   "cell_type": "markdown",
   "metadata": {},
   "source": [
    "### Why use RGB strings?\n",
    "\n",
    "The RGB float values are probably a more intuitive way to think about the intensity of a particular color than the RGB string. For instance, a red intensity of .8 is clearer than 'cc' (204 in base 10), its hexadecimal representation. All of the web colors have a standard hexadecimal representation and you will often see this representation used for the colors in other applications. matplotlib stores this representation as the values in the `CSS4_COLORS` dictionary. Let's retrieve the RGB string for a few of the named colors."
   ]
  },
  {
   "cell_type": "code",
   "execution_count": null,
   "metadata": {},
   "outputs": [],
   "source": [
    "colors.CSS4_COLORS['red']"
   ]
  },
  {
   "cell_type": "code",
   "execution_count": null,
   "metadata": {},
   "outputs": [],
   "source": [
    "colors.CSS4_COLORS['deeppink']"
   ]
  },
  {
   "cell_type": "code",
   "execution_count": null,
   "metadata": {},
   "outputs": [],
   "source": [
    "colors.CSS4_COLORS['olivedrab']"
   ]
  },
  {
   "cell_type": "markdown",
   "metadata": {},
   "source": [
    "### Converting from RGB floats to RGB strings\n",
    "\n",
    "In the `colors` module, matplotlib provides the helper functions `to_rgb` and `to_hex` to convert between RGB floats and strings. Let's begin by converting from an RGB string to a three-item tuple float."
   ]
  },
  {
   "cell_type": "code",
   "execution_count": null,
   "metadata": {},
   "outputs": [],
   "source": [
    "colors.to_rgb('#6B8E23')"
   ]
  },
  {
   "cell_type": "markdown",
   "metadata": {},
   "source": [
    "We can go the other direction by beginning with an RGB float and convert it to an RGB string. Each number is first multiplied by 255, then rounded to the nearest integer and then converted to a hexadecimal string."
   ]
  },
  {
   "cell_type": "code",
   "execution_count": null,
   "metadata": {},
   "outputs": [],
   "source": [
    "colors.to_hex((.4, .2, .9))"
   ]
  },
  {
   "cell_type": "markdown",
   "metadata": {},
   "source": [
    "The function can take a named web color and convert it to its respective representation."
   ]
  },
  {
   "cell_type": "code",
   "execution_count": null,
   "metadata": {},
   "outputs": [],
   "source": [
    "colors.to_rgb('seagreen')"
   ]
  },
  {
   "cell_type": "markdown",
   "metadata": {},
   "source": [
    "Let's create a patch with edge and face colors using RGB tuples."
   ]
  },
  {
   "cell_type": "code",
   "execution_count": null,
   "metadata": {},
   "outputs": [],
   "source": [
    "fig, ax = plt.subplots(figsize=(3, 1))\n",
    "rect = patches.Rectangle((.2, .3), width=.6, height=.5, fc=(1, .5, .7), \n",
    "                         ec=(0, .8, .3), lw=6)\n",
    "ax.add_patch(rect);"
   ]
  },
  {
   "cell_type": "markdown",
   "metadata": {},
   "source": [
    "## Color transparency\n",
    "\n",
    "It is possible to control the transparency of each color by setting its `alpha` parameter to a float between 0 and 1, where 0 is completely transparent and 1 is completely opaque. By default, alpha values are set to 1. Two overlapping circle patches are created below."
   ]
  },
  {
   "cell_type": "code",
   "execution_count": null,
   "metadata": {},
   "outputs": [],
   "source": [
    "fig, ax = plt.subplots(figsize=(2, 2))\n",
    "ax.set_aspect('equal')\n",
    "left_circle = patches.Circle((.4, .5), radius=.3, fc='red')\n",
    "right_circle = patches.Circle((.6, .5), radius=.3, fc='green')\n",
    "ax.add_patch(left_circle)\n",
    "ax.add_patch(right_circle);"
   ]
  },
  {
   "cell_type": "markdown",
   "metadata": {},
   "source": [
    "By default, the last patch added to the axes takes precedence over which one is visible whenever two or more occupy the same position. Both patches are completely opaque. If we decrease the opaqueness of the green circle, we'll be able to see objects underneath it. Let's set it's alpha value to .5."
   ]
  },
  {
   "cell_type": "code",
   "execution_count": null,
   "metadata": {},
   "outputs": [],
   "source": [
    "right_circle.set_alpha(.5)\n",
    "fig"
   ]
  },
  {
   "cell_type": "markdown",
   "metadata": {},
   "source": [
    "The outline of the red circle is now visible underneath. Notice that the portion of the green circle not overlapping the red circle has become lighter."
   ]
  },
  {
   "cell_type": "markdown",
   "metadata": {},
   "source": [
    "### RGBA floats\n",
    "\n",
    "Instead of using the `alpha` parameter directly, you can set colors to four-item tuples consisting of red, blue, green, and alpha values (RGBA floats). Below, we set the face color of each patch to a different level of transparency using an RGBA float. The edge colors are set as opaque."
   ]
  },
  {
   "cell_type": "code",
   "execution_count": null,
   "metadata": {},
   "outputs": [],
   "source": [
    "fig, ax = plt.subplots(figsize=(2, 2))\n",
    "ax.set_aspect('equal')\n",
    "left_circle = patches.Circle((.4, .5), radius=.3, fc=(1, 0, 0, .5), \n",
    "                             ec=(1, 0, 0), lw=5)\n",
    "right_circle = patches.Circle((.6, .5), radius=.3, fc=(0, .5, 0, .5), \n",
    "                              ec=(0, .5, 0), lw=5)\n",
    "ax.add_patch(left_circle)\n",
    "ax.add_patch(right_circle);"
   ]
  },
  {
   "cell_type": "markdown",
   "metadata": {},
   "source": [
    "Values for alpha can be encoded as two-character hexadecimal strings just like the red, green, and blue values. We use the `to_hex` function again to convert the four-item tuple of the face color of the second circle above to an RGBA string by setting `keep_alpha` to `True`."
   ]
  },
  {
   "cell_type": "code",
   "execution_count": null,
   "metadata": {
    "scrolled": true
   },
   "outputs": [],
   "source": [
    "colors.to_hex((0, 1, 0, .3), keep_alpha=True)"
   ]
  },
  {
   "cell_type": "markdown",
   "metadata": {},
   "source": [
    "## Layering with zorder\n",
    "\n",
    "When multiple plotting objects occupy the same space, matplotlib follows special rules to determine the order of how they get layered on top of one another. Every plotting object has a `zorder` property that is set to a number. The larger this number, the higher its plotting precedence is. Objects with a higher precedence get plotted on top of those with lower precedence. By default, patches have the lowest zorder of 1, followed by lines with 2, and text with 3. Let's verify the zorder of the circle patches from above by retrieving it with a getter method."
   ]
  },
  {
   "cell_type": "code",
   "execution_count": null,
   "metadata": {},
   "outputs": [],
   "source": [
    "left_circle.get_zorder()"
   ]
  },
  {
   "cell_type": "code",
   "execution_count": null,
   "metadata": {},
   "outputs": [],
   "source": [
    "right_circle.get_zorder()"
   ]
  },
  {
   "cell_type": "markdown",
   "metadata": {},
   "source": [
    "If two objects have the same zorder, then the object added last to the axes will be shown first. Above, the `right_circle` was added last, and therefore is placed on top of the other patch. In the following plot, the `left_circle` patch is given an explicit zorder of 3, which places it on top of the `right_circle`. A horizontal line is drawn across the entire span of the x-axis keeping its default zorder of 2. It's placed under the `left_circle`, but on top of the `right_circle`. Lastly, some text is added to the axes. By default, it has a zorder of 3, the same as `left_circle`, but because it is added last, it is placed on top."
   ]
  },
  {
   "cell_type": "code",
   "execution_count": null,
   "metadata": {},
   "outputs": [],
   "source": [
    "fig, ax = plt.subplots(figsize=(2, 2))\n",
    "ax.set_aspect('equal')\n",
    "left_circle = patches.Circle((.4, .5), radius=.3, fc='red', zorder=3)\n",
    "right_circle = patches.Circle((.6, .5), radius=.3, fc='green')\n",
    "ax.add_patch(left_circle)\n",
    "ax.add_patch(right_circle)\n",
    "ax.hlines(y=.5, xmin=0, xmax=1, lw=8)\n",
    "ax.set_ylim(0, 1)\n",
    "ax.text(.1, .5, 'text default zorder of 3', va='center', color='white');"
   ]
  },
  {
   "cell_type": "markdown",
   "metadata": {},
   "source": [
    "## Gray scale\n",
    "\n",
    "Besides the named web colors and the RGB triples, matplotlib allows you to use a **string** of a float value from 0 to 1 to select a shade of gray. Smaller float values correspond to dark shades, with black being the darkest, while larger float values correspond to lighter shades, with white being the lightest. For instance, the string `'.1'` represents a dark gray color. Below, three rectangle patches with varying shades of gray and added to the axes colored with their gray scale string."
   ]
  },
  {
   "cell_type": "code",
   "execution_count": null,
   "metadata": {},
   "outputs": [],
   "source": [
    "fig, ax = plt.subplots(figsize=(4, 1.5))\n",
    "ax.add_patch(patches.Rectangle((.2, .7), width=.6, height=.2, fc='.1'))\n",
    "ax.text(.5, .8, \"'.1'\", ha='center', va='center', color='white')\n",
    "ax.add_patch(patches.Rectangle((.2, .4), width=.6, height=.2, fc='.5'))\n",
    "ax.text(.5, .5, \"'.5'\", ha='center', va='center')\n",
    "ax.add_patch(patches.Rectangle((.2, .1), width=.6, height=.2, fc='.9'))\n",
    "ax.text(.5, .2, \"'.9'\", ha='center', va='center');"
   ]
  },
  {
   "cell_type": "markdown",
   "metadata": {},
   "source": [
    "All gray scales have the same intensity for red, green, and blue. You can verify this by converting this string float value to an RGB triple."
   ]
  },
  {
   "cell_type": "code",
   "execution_count": null,
   "metadata": {},
   "outputs": [],
   "source": [
    "colors.to_rgb('.7')"
   ]
  },
  {
   "cell_type": "markdown",
   "metadata": {},
   "source": [
    "## Colormaps\n",
    "\n",
    "A matplotlib **colormap** is a list of colors grouped together for various purposes. The image below shows most of the available colormaps in matplotlib grouped into categories. [Navigate to this page of the matplotlib documentation][1] to find all of the names.\n",
    "\n",
    "[1]: https://matplotlib.org/gallery/color/colormap_reference.html"
   ]
  },
  {
   "cell_type": "markdown",
   "metadata": {},
   "source": [
    "![0]\n",
    "\n",
    "[0]: images/all_colormaps.png"
   ]
  },
  {
   "cell_type": "markdown",
   "metadata": {},
   "source": [
    "All color maps can be directly accessed with their name from the `cm` module, which we import below."
   ]
  },
  {
   "cell_type": "code",
   "execution_count": null,
   "metadata": {},
   "outputs": [],
   "source": [
    "from matplotlib import cm"
   ]
  },
  {
   "cell_type": "markdown",
   "metadata": {},
   "source": [
    "Let's access the inferno colormap. matplotlib outputs all of the colors of the colormap."
   ]
  },
  {
   "cell_type": "code",
   "execution_count": null,
   "metadata": {},
   "outputs": [],
   "source": [
    "cm.inferno"
   ]
  },
  {
   "cell_type": "markdown",
   "metadata": {},
   "source": [
    "All colormaps have the attribute `N` that returns the number of colors it has."
   ]
  },
  {
   "cell_type": "code",
   "execution_count": null,
   "metadata": {},
   "outputs": [],
   "source": [
    "cm.inferno.N"
   ]
  },
  {
   "cell_type": "markdown",
   "metadata": {},
   "source": [
    "There are 256 colors in the inferno colormap. Most colormaps also have 256 colors but some have 10 or 20 and a few have more. Each unique color can be accessed as an RGBA float by calling the colormap object as if it were a function and passing it an integer corresponding to one of the colors. The first color of the inferno colormap is returned below."
   ]
  },
  {
   "cell_type": "code",
   "execution_count": null,
   "metadata": {},
   "outputs": [],
   "source": [
    "cm.inferno(0)"
   ]
  },
  {
   "cell_type": "markdown",
   "metadata": {},
   "source": [
    "Let's get the 51st color."
   ]
  },
  {
   "cell_type": "code",
   "execution_count": null,
   "metadata": {
    "scrolled": true
   },
   "outputs": [],
   "source": [
    "cm.inferno(50)"
   ]
  },
  {
   "cell_type": "markdown",
   "metadata": {},
   "source": [
    "And now the last color."
   ]
  },
  {
   "cell_type": "code",
   "execution_count": null,
   "metadata": {},
   "outputs": [],
   "source": [
    "cm.inferno(255)"
   ]
  },
  {
   "cell_type": "markdown",
   "metadata": {},
   "source": [
    "Integers less than 0 or greater than or equal to `N` are valid and return the first and last colors respectively. The integer -99 references the same RGBA as 0."
   ]
  },
  {
   "cell_type": "code",
   "execution_count": null,
   "metadata": {},
   "outputs": [],
   "source": [
    "cm.inferno(-99)"
   ]
  },
  {
   "cell_type": "markdown",
   "metadata": {},
   "source": [
    "The integer 256 references the same RGBA as 255."
   ]
  },
  {
   "cell_type": "code",
   "execution_count": null,
   "metadata": {},
   "outputs": [],
   "source": [
    "cm.inferno(256)"
   ]
  },
  {
   "cell_type": "markdown",
   "metadata": {},
   "source": [
    "Let's visualize the inferno colormap by creating a thin rectangle for each of the 256 colors."
   ]
  },
  {
   "cell_type": "code",
   "execution_count": null,
   "metadata": {},
   "outputs": [],
   "source": [
    "fig, ax = plt.subplots(figsize=(3, 1))\n",
    "ax.set_title('All 256 colors from the inferno colormap', fontsize=8)\n",
    "ax.set_xlim(0, 256)\n",
    "for i in range(256):\n",
    "    ax.add_patch(patches.Rectangle((i, .1), height=.8, width=2, fc=cm.inferno(i)))"
   ]
  },
  {
   "cell_type": "markdown",
   "metadata": {},
   "source": [
    "You can get a list of all the RGBA values of a colormap by passing it a sequence of all of its integers. Here, we get all colors for the inferno colormap and output the first five values."
   ]
  },
  {
   "cell_type": "code",
   "execution_count": null,
   "metadata": {},
   "outputs": [],
   "source": [
    "inferno_color_list = cm.inferno(range(256))\n",
    "inferno_color_list[:5]"
   ]
  },
  {
   "cell_type": "markdown",
   "metadata": {},
   "source": [
    "### Reversed colormaps\n",
    "\n",
    "Each colormap is available in reverse order and can be accessed by appending `'_r'` to its name.  For instance, 'inferno_r' is the reversed colormap of 'inferno'. Below, we verify that the first and last values of the colormaps are equal."
   ]
  },
  {
   "cell_type": "code",
   "execution_count": null,
   "metadata": {},
   "outputs": [],
   "source": [
    "cm.inferno_r(0) == cm.inferno(255)"
   ]
  },
  {
   "cell_type": "code",
   "execution_count": null,
   "metadata": {},
   "outputs": [],
   "source": [
    "cm.inferno_r(255) == cm.inferno(0)"
   ]
  },
  {
   "cell_type": "markdown",
   "metadata": {},
   "source": [
    "### Using floats between 0 and 1\n",
    "\n",
    "Instead of using the integers from 0 to `N - 1` to reference each color in the colormap, you can use a float between 0 and 1 instead. These floats represent the relative position of the color in the colormap. For instance, a value of .5 corresponds to the middle of the colormap. Let's get the color for a value of .3."
   ]
  },
  {
   "cell_type": "code",
   "execution_count": null,
   "metadata": {},
   "outputs": [],
   "source": [
    "cm.inferno(.3)"
   ]
  },
  {
   "cell_type": "markdown",
   "metadata": {},
   "source": [
    "To make the conversion between decimals and integer, multiply by `N` and truncate the decimals to get an integer. Multiplying .3 by 256 equals 76.8 and truncating the decimals yields the integer 76. Let's verify it has the same RGBA value."
   ]
  },
  {
   "cell_type": "code",
   "execution_count": null,
   "metadata": {},
   "outputs": [],
   "source": [
    "cm.inferno(76)"
   ]
  },
  {
   "cell_type": "markdown",
   "metadata": {},
   "source": [
    "Colormaps become important when visualizing data. Only the mechanics of colormaps were presented in this chapter. In upcoming chapters, we will use them to give meaning to our data visualizations."
   ]
  },
  {
   "cell_type": "markdown",
   "metadata": {},
   "source": [
    "## Filling between two lines\n",
    "\n",
    "matplotlib provides the ability to fill the vertical area between two lines with a color using the `fill_between` method. At a minimum, you must set `x` as the first and last x-values and then use `y1` and `y2` as a single value for the lower and upper boundaries. Here, the area between the y-values .6 and .8 beginning at an x of .2 ending at .8 is filled with the first color of the Pastel1 colormap."
   ]
  },
  {
   "cell_type": "code",
   "execution_count": null,
   "metadata": {},
   "outputs": [],
   "source": [
    "fig, ax = plt.subplots()\n",
    "ax.set(xlim=(0, 1), ylim=(0, 1))\n",
    "ax.fill_between(x=[.2, .8], y1=.6, y2=.8, fc=cm.Pastel1(0), alpha=.8);"
   ]
  },
  {
   "cell_type": "markdown",
   "metadata": {},
   "source": [
    "The `fill_betweenx` method fills the horizontal area between two lines in an analogous fashion."
   ]
  },
  {
   "cell_type": "code",
   "execution_count": null,
   "metadata": {},
   "outputs": [],
   "source": [
    "ax.fill_betweenx(y=[.1, .9], x1=.3, x2=.5, fc=cm.Pastel1(1), alpha=.8)\n",
    "fig"
   ]
  },
  {
   "cell_type": "markdown",
   "metadata": {},
   "source": [
    "Arrays of equal size can be used to describe more complex lines. Here, the area between the cosine and sine of x-values between -5 and 5 are filled."
   ]
  },
  {
   "cell_type": "code",
   "execution_count": null,
   "metadata": {},
   "outputs": [],
   "source": [
    "x = np.linspace(-5, 5, 100)\n",
    "y1 = np.cos(x)\n",
    "y2 = np.sin(x)\n",
    "fig, ax = plt.subplots(figsize=(4, 1))\n",
    "ax.set_aspect('equal')\n",
    "ax.grid(True)\n",
    "ax.fill_between(x=x, y1=y1, y2=y2, fc='red', alpha=.8, ec='black', linewidth=3);"
   ]
  },
  {
   "cell_type": "markdown",
   "metadata": {},
   "source": [
    "The `where` parameter can be given an array of booleans that correspond to which x-values (or y-values with `fill_betweenx`) will be plotted. The most common case is to set it equal to `y1 > y2` and call `fill_between` a second time setting `where` to be `y1 < y2` to fill in the region with a different color."
   ]
  },
  {
   "cell_type": "code",
   "execution_count": null,
   "metadata": {},
   "outputs": [],
   "source": [
    "fig, ax = plt.subplots(figsize=(4, 1))\n",
    "ax.set_aspect('equal')\n",
    "ax.grid(True)\n",
    "ax.fill_between(x=x, y1=y1, y2=y2, fc='red', where=y1 > y2, \n",
    "                alpha=.8, ec='black',linewidth=3)\n",
    "ax.fill_between(x=x, y1=y1, y2=y2, fc='blue', where=y1 < y2, \n",
    "                alpha=.8, ec='black',linewidth=3);"
   ]
  },
  {
   "cell_type": "markdown",
   "metadata": {},
   "source": [
    "## Creating a basketball court\n",
    "\n",
    "To help reinforce some of the material in this chapter, we will reproduce an image of a basketball court using matplotlib patches and horizontal and vertical lines. Take a look at the image below, which is an official image from the National Basketball Association with all the required dimensions of the court. [Navigate to this page][0] to see the image and read more about the court.\n",
    "\n",
    "The image contains all of the markings on the court for things such as the playing area, half-court line, three-point line, free-throw line, position of the basket, and more. We will attempt to replicate this image, but leave out the words and anything outside of the actual playing area (marked by 'LENGTH' and 'WIDTH'). I suggest attempting to complete this as an exercise on your own before looking at the code below.\n",
    "\n",
    "![1]\n",
    "\n",
    "[0]: https://official.nba.com/rule-no-1-court-dimensions-equipment/\n",
    "[1]: images/nba_court.png"
   ]
  },
  {
   "cell_type": "markdown",
   "metadata": {},
   "source": [
    "The outer dimensions of an NBA court are 94 feet by 50 feet. Let's create a figure with a `figsize` similar to the ratio of the length to width of the court (2 to 1). We can then set the x-limits and y-limits so that they match exactly the length and width of the court. Each unit in each direction represents one foot. The aspect ratio is set to `equal` so that the physical distance in pixels along the x and y dimensions is the same."
   ]
  },
  {
   "cell_type": "code",
   "execution_count": null,
   "metadata": {
    "scrolled": true
   },
   "outputs": [],
   "source": [
    "fig, ax = plt.subplots(figsize=(5, 2.5))\n",
    "ax.set_xlim(0, 94)\n",
    "ax.set_ylim(0, 50)\n",
    "ax.set_aspect('equal')"
   ]
  },
  {
   "cell_type": "markdown",
   "metadata": {},
   "source": [
    "### Vertical lines\n",
    "\n",
    "We will draw the following vertical lines using the `vlines` function.\n",
    "\n",
    "* Half-court line - Runs vertically at center (x = 47) of the court\n",
    "* Free throw lines - 19 feet from edge of court and 16 feet in length\n",
    "* Backboard - 4 feet from edge of court and 6 feet in length\n",
    "\n",
    "We also remove the x-axis and y-axis tick marks by setting them to an empty list."
   ]
  },
  {
   "cell_type": "code",
   "execution_count": null,
   "metadata": {},
   "outputs": [],
   "source": [
    "ax.set(xticks=[], yticks=[])\n",
    "midcourt_line    = ax.vlines(x=47, ymin=0, ymax=50)\n",
    "free_throw_lines = ax.vlines(x=[19, 75], ymin=17, ymax=33)\n",
    "backboard        = ax.vlines(x=[4, 90], ymin=22, ymax=28)\n",
    "fig"
   ]
  },
  {
   "cell_type": "markdown",
   "metadata": {},
   "source": [
    "### Horizontal lines\n",
    "\n",
    "We add horizontal lines for the edges of the free throw area and for the corners of the three-point lines."
   ]
  },
  {
   "cell_type": "code",
   "execution_count": null,
   "metadata": {},
   "outputs": [],
   "source": [
    "left_free_throw_box           = ax.hlines(y=[17, 33], xmin=0, xmax=19)\n",
    "right_free_throw_box          = ax.hlines(y=[17, 33], xmin=75, xmax=94)\n",
    "left_corner_three_point_line  = ax.hlines(y=[3, 47], xmin=0, xmax=14)\n",
    "right_corner_three_point_line = ax.hlines(y=[3, 47], xmin=80, xmax=94)\n",
    "fig"
   ]
  },
  {
   "cell_type": "markdown",
   "metadata": {},
   "source": [
    "### Circles\n",
    "\n",
    "The basket is a circle with a radius of 9 inches or .75 feet. The two concentric circles at half-court could have been created with a two circle patches, but we opt to use a wedge with a hole in the middle. We don't want to fill these circles with any color, so we set the `fill` parameter to `False`."
   ]
  },
  {
   "cell_type": "code",
   "execution_count": null,
   "metadata": {},
   "outputs": [],
   "source": [
    "left_basket  = patches.Circle((5.25, 25), radius=.75, fill=False)\n",
    "right_basket = patches.Circle((94 - 5.25, 25), radius=.75, fill=False)\n",
    "center_wedge = patches.Wedge((47, 25), r=6, theta1=0, theta2=360, width=4, fill=False)\n",
    "ax.add_patch(left_basket)\n",
    "ax.add_patch(right_basket)\n",
    "ax.add_patch(center_wedge)\n",
    "fig"
   ]
  },
  {
   "cell_type": "markdown",
   "metadata": {},
   "source": [
    "### Free-throw arcs\n",
    "\n",
    "There are circles around each free-throw line, but instead of using a `Circle` patch, we'll use an `Arc` patch so that we can make half of it dashed and the other half solid."
   ]
  },
  {
   "cell_type": "code",
   "execution_count": null,
   "metadata": {},
   "outputs": [],
   "source": [
    "left_inner_arc  = patches.Arc((19, 25), height=12, width=12, \n",
    "                              theta1=90, theta2=270, ls='dashed')\n",
    "left_outer_arc  = patches.Arc((19, 25), height=12, width=12, \n",
    "                              theta1=270, theta2=90)\n",
    "right_inner_arc = patches.Arc((75, 25), height=12, width=12, \n",
    "                              theta1=270, theta2=90, ls='dashed')\n",
    "right_outer_arc = patches.Arc((75, 25), height=12, width=12, \n",
    "                              theta1=90, theta2=270)\n",
    "ax.add_patch(left_inner_arc)\n",
    "ax.add_patch(left_outer_arc)\n",
    "ax.add_patch(right_inner_arc)\n",
    "ax.add_patch(right_outer_arc)\n",
    "fig"
   ]
  },
  {
   "cell_type": "markdown",
   "metadata": {},
   "source": [
    "### Three-point arcs\n",
    "\n",
    "The remaining portion of the three-point line is a segment of a circle with radius of 23.75 (diameter of 47.5) feet from the center of the basket. We use an `Arc` patch to draw this, calculating the starting and ending angles using some basic geometry."
   ]
  },
  {
   "cell_type": "code",
   "execution_count": null,
   "metadata": {
    "scrolled": true
   },
   "outputs": [],
   "source": [
    "deg = np.rad2deg(np.arccos(22 / 23.75))\n",
    "left_three_point = patches.Arc((5.25, 25), height=47.5, width=47.5, \n",
    "                               theta1=270 + deg, theta2=90 - deg)\n",
    "right_three_point = patches.Arc((94 - 5.25, 25), height=47.5, width=47.5,\n",
    "                                theta1=90 + deg, theta2=270 - deg)\n",
    "ax.add_patch(left_three_point)\n",
    "ax.add_patch(right_three_point)\n",
    "fig"
   ]
  },
  {
   "cell_type": "markdown",
   "metadata": {},
   "source": [
    "## Exercises"
   ]
  },
  {
   "cell_type": "markdown",
   "metadata": {},
   "source": [
    "### Exercise 1\n",
    "\n",
    "<span style=\"color:green; font-size:16px\">Create a simple house with a roof, door, yard, and sun shinning overhead with matplotlib patches.</span>"
   ]
  },
  {
   "cell_type": "code",
   "execution_count": null,
   "metadata": {},
   "outputs": [],
   "source": []
  },
  {
   "cell_type": "markdown",
   "metadata": {},
   "source": [
    "### Exercise 2\n",
    "\n",
    "<span style=\"color:green; font-size:16px\">Convert the RGB float triple `(.7, .03, .8)` to a hexadecimal string. Do so without using matplotlib, then verify with one of the functions from the `colors` module.</span>"
   ]
  },
  {
   "cell_type": "code",
   "execution_count": null,
   "metadata": {},
   "outputs": [],
   "source": []
  },
  {
   "cell_type": "markdown",
   "metadata": {},
   "source": [
    "### Exercise 3\n",
    "\n",
    "<span style=\"color:green; font-size:16px\">Convert the RGB string `'#7cf2bb'` to an RGB float triple. Do so without using matplotlib, then verify with one of the functions from the `colors` module.</span>"
   ]
  },
  {
   "cell_type": "code",
   "execution_count": null,
   "metadata": {},
   "outputs": [],
   "source": []
  },
  {
   "cell_type": "markdown",
   "metadata": {},
   "source": [
    "### Exercise 4\n",
    "\n",
    "<span style=\"color:green; font-size:16px\">Create a circle that visually looks like a circle that has edge color of lightcoral and face color of forestgreen. Use the hexadecimal representation for these strings. Increase the edge width so that it is more visible.</span>"
   ]
  },
  {
   "cell_type": "code",
   "execution_count": null,
   "metadata": {},
   "outputs": [],
   "source": []
  },
  {
   "cell_type": "markdown",
   "metadata": {},
   "source": [
    "### Exercise 5\n",
    "\n",
    "<span style=\"color:green; font-size:16px\">Create two circles of the same size vertically next to one another (same x-value, different y-value) without any overlap. Draw three vertical lines that pass through both circles. Place one of these lines underneath both circles, another on top of the top circle and below the bottom circle, and the last line on top of both circles. </span>"
   ]
  },
  {
   "cell_type": "code",
   "execution_count": null,
   "metadata": {},
   "outputs": [],
   "source": []
  },
  {
   "cell_type": "markdown",
   "metadata": {},
   "source": [
    "### Exercise 6\n",
    "\n",
    "<span style=\"color:green; font-size:16px\">Create the flag of Iceland with matplotlib. Search online for its RGB color values.</span>"
   ]
  },
  {
   "cell_type": "code",
   "execution_count": null,
   "metadata": {},
   "outputs": [],
   "source": []
  },
  {
   "cell_type": "markdown",
   "metadata": {},
   "source": [
    "### Exercise 7\n",
    "\n",
    "<span style=\"color:green; font-size:16px\">Create a rainbow. Use a colormap that has the colors of the rainbow.</span>"
   ]
  },
  {
   "cell_type": "code",
   "execution_count": null,
   "metadata": {},
   "outputs": [],
   "source": []
  },
  {
   "cell_type": "markdown",
   "metadata": {},
   "source": [
    "### Exercise 8\n",
    "\n",
    "<span style=\"color:green; font-size:16px\">Recreate the following image in matplotlib.</span>\n",
    "\n",
    "![0]\n",
    "\n",
    "[0]: images/thread_needle.png"
   ]
  },
  {
   "cell_type": "code",
   "execution_count": null,
   "metadata": {},
   "outputs": [],
   "source": []
  }
 ],
 "metadata": {
  "kernelspec": {
   "display_name": "Python 3 (ipykernel)",
   "language": "python",
   "name": "python3"
  },
  "language_info": {
   "codemirror_mode": {
    "name": "ipython",
    "version": 3
   },
   "file_extension": ".py",
   "mimetype": "text/x-python",
   "name": "python",
   "nbconvert_exporter": "python",
   "pygments_lexer": "ipython3",
   "version": "3.8.11"
  }
 },
 "nbformat": 4,
 "nbformat_minor": 4
}
