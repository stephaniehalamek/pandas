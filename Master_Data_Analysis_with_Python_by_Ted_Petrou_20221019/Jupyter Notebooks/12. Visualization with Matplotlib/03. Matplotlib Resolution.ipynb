{
 "cells": [
  {
   "cell_type": "markdown",
   "metadata": {},
   "source": [
    "# Matplotlib Resolution\n",
    "\n",
    "In this chapter, we will thoroughly cover the screen resolution of a matplotlib figure. You'll understand what is meant by inches, dots per inch, and typographical points and how to change them to get the exact plot you desire.\n",
    "\n",
    "## Matplotlib inches\n",
    "\n",
    "matplotlib uses inches as its unit of measurement for the dimensions of the figure. In Jupyter Notebooks figures are 6.4 inches in width by 4.8 inches in height by default. These dimensions can be changed by setting the `figsize` parameter of the `subplots` function. Let's begin by creating a figure with a width of 5 inches and a height of 2 inches."
   ]
  },
  {
   "cell_type": "code",
   "execution_count": null,
   "metadata": {
    "scrolled": false
   },
   "outputs": [],
   "source": [
    "import matplotlib.pyplot as plt\n",
    "fig, ax = plt.subplots(figsize=(5, 2), facecolor='orange')"
   ]
  },
  {
   "cell_type": "markdown",
   "metadata": {},
   "source": [
    "If you were to measure the actual width and height of the image produced on your screen, it is likely to be less than the given 5 inches by 2 inches. To help differentiate the inches that matplotlib uses versus the inches on a computer screen, we'll use the terms **figure-inches** and **screen-inches**. In this example, the plot has dimensions of 5 x 2 in figure-inches, and on my screen it's about 3.6 x 1.6 screen-inches.\n",
    "\n",
    "To understand why the figure-inches and screen-inches differ, we must understand how computer screen resolution works. Screen resolution is measured in **pixels**, the smallest component of a screen. Dimensions of a screen are reported as the number of pixels along the width and height. To get your screen resolution, navigate to [http://whatismyscreenresolution.net](http://whatismyscreenresolution.net/). Your actual resolution isn't always what's reported by the manufacturer. My monitor states that it is 3456 x 2234 but gets scaled down to **1728 x 1117**. \n",
    "\n",
    "### Dots per inch\n",
    "\n",
    "In order to uncover the screen-inches, we need to understand **dots per inch** or **DPI**. All matplotlib figures have an integer `dpi` property that allows us to find the total number of pixels in the image. By default, the DPI is 100 in a Jupyter Notebook. To find the number of pixels in an image, multiply the figure-inches by the DPI of the matplotlib figure. Our current figure with dimensions of 5 x 2 figure-inches is 500 pixels by 200 pixels. An image with those pixel dimensions is what matplotlib displayed above."
   ]
  },
  {
   "cell_type": "code",
   "execution_count": null,
   "metadata": {},
   "outputs": [],
   "source": [
    "fig.dpi"
   ]
  },
  {
   "cell_type": "markdown",
   "metadata": {},
   "source": [
    "## Screen DPI\n",
    "\n",
    "All computer screens have a resolution in DPI (sometimes referred to as PPI (pixels per inch)) and if this value is known, then the screen-inches can be calculated by dividing the pixels of the image by the screen DPI. For instance, if our screen has a DPI of 200, then the above figure would have screen-inches of 2.5 (500 / 200) by 1 (200 / 200).\n",
    "\n",
    "### Calculate your screen's DPI\n",
    "\n",
    "You might need to do some calculations to find your screen's DPI, as this number isn't always found directly in your computer's settings. Often, the diagonal length of your screen will be given. For instance, the diagonal length of my screen is 16.125 inches. If I knew the number of pixels along the diagonal, I could calculate the DPI. Since I don't, I'll have to use the Pythagorean theorem to calculate the number of pixels along the diagonal."
   ]
  },
  {
   "cell_type": "code",
   "execution_count": null,
   "metadata": {},
   "outputs": [],
   "source": [
    "def find_dpi(w, h, d):\n",
    "    \"\"\"\n",
    "    w : width in pixels\n",
    "    h : height in pixels\n",
    "    d : diagonal in inches\n",
    "    \"\"\"\n",
    "    w_inches = (d ** 2 / (1 + h ** 2 / w ** 2)) ** 0.5\n",
    "    return round(w / w_inches)\n",
    "\n",
    "find_dpi(1728, 1117, 16.2)"
   ]
  },
  {
   "cell_type": "code",
   "execution_count": null,
   "metadata": {},
   "outputs": [],
   "source": [
    "width_pixels = 1728\n",
    "height_pixels = 1117\n",
    "diag_pixels = ((width_pixels ** 2) + (height_pixels ** 2)) ** 0.5\n",
    "diag_pixels"
   ]
  },
  {
   "cell_type": "markdown",
   "metadata": {},
   "source": [
    "Dividing by the number of inches yields my screen's DPI."
   ]
  },
  {
   "cell_type": "code",
   "execution_count": null,
   "metadata": {},
   "outputs": [],
   "source": [
    "screen_dpi = round(diag_pixels / 16.2)\n",
    "screen_dpi"
   ]
  },
  {
   "cell_type": "markdown",
   "metadata": {},
   "source": [
    "My screen's resolution has a DPI of 127. Let's use it to calculate the screen-inches of our above figure."
   ]
  },
  {
   "cell_type": "code",
   "execution_count": null,
   "metadata": {},
   "outputs": [],
   "source": [
    "500 / screen_dpi"
   ]
  },
  {
   "cell_type": "code",
   "execution_count": null,
   "metadata": {},
   "outputs": [],
   "source": [
    "200 / screen_dpi"
   ]
  },
  {
   "cell_type": "markdown",
   "metadata": {},
   "source": [
    "### Verifying calculations with screen measurements\n",
    "\n",
    "We calculated that the pixel dimensions were 500 x 250 and that the screen-inches were 3.94 x 1.97. To verify these numbers, I used a program called Free Ruler, which is an application for macOS, that overlays a ruler to help measure items on the screen. This program reported a measurement in pixels of 450 x 200, and a measurement in inches of 3.53 x 1.58. The width we calculated isn't corresponding to the width of the screen measurements, but the height appears to be correct.\n",
    "\n",
    "![0]\n",
    "\n",
    "### Jupyter Notebooks trim figures\n",
    "\n",
    "There's a setting in the Jupyter Notebook that automatically trims the edges of a figure. The specific setting `bbox_inches` is set to the string `'tight'` when we first import pyplot. The 'bbox' part of the name stands for 'bounding box' and controls the amount of the figure that is actually shown. When set to 'tight', it will trim any excess space in the figure where there are no plotting objects in that space. We can view the actual setting by running the following magic command.\n",
    "\n",
    "[0]: images/mpl_screen_measurement.png"
   ]
  },
  {
   "cell_type": "code",
   "execution_count": null,
   "metadata": {},
   "outputs": [],
   "source": [
    "%config InlineBackend.print_figure_kwargs"
   ]
  },
  {
   "cell_type": "markdown",
   "metadata": {},
   "source": [
    "To view the entire figure, with its exact dimensions, we must set the `bbox_inches` to `None`."
   ]
  },
  {
   "cell_type": "code",
   "execution_count": null,
   "metadata": {},
   "outputs": [],
   "source": [
    "%config InlineBackend.print_figure_kwargs = {'bbox_inches': None}"
   ]
  },
  {
   "cell_type": "markdown",
   "metadata": {},
   "source": [
    "Now, when we output the figure, we'll get an image that has the dimensions that we calculated above exactly. Notice that there is a little bit of extra space on the outer left and right edges. This is the part of the figure that was trimmed."
   ]
  },
  {
   "cell_type": "code",
   "execution_count": null,
   "metadata": {},
   "outputs": [],
   "source": [
    "fig"
   ]
  },
  {
   "cell_type": "markdown",
   "metadata": {},
   "source": [
    "### Keep the bounding box tight\n",
    "\n",
    "It's rare that you would need to change this setting, as a 'tight' bounding box is nearly always what you want. In fact, if you have plotting objects that are outside of the dimensions of the figure, then a tight bounding box will include them. The only reason we turned off this setting is to show the exact dimensions of our figure."
   ]
  },
  {
   "cell_type": "markdown",
   "metadata": {},
   "source": [
    "## Creating figures with custom DPI\n",
    "\n",
    "You can create a figure with a specific DPI by setting the `dpi` parameter in the `subplots` function. A new figure with the same dimensions of 5 x 2 figure-inches is created below, but uses my screen's DPI of 127. This should create a figure that has the same figure and screen inches on my screen."
   ]
  },
  {
   "cell_type": "code",
   "execution_count": null,
   "metadata": {},
   "outputs": [],
   "source": [
    "fig, ax = plt.subplots(figsize=(5, 2), facecolor='orange', dpi=127)"
   ]
  },
  {
   "cell_type": "markdown",
   "metadata": {},
   "source": [
    "Using the ruler application (not shown) verifies that the dimensions in screen inches is 5 x 2. Using a smaller DPI than the default of 100 results in figure with even smaller screen-inches. Here we use a DPI of 50, which creates an image with pixel dimensions of 250 by 100 and noticeably blurrier tick labels. Dividing both of these by the screen DPI of 127 gives us the size of 1.97 by 0.79 screen-inches."
   ]
  },
  {
   "cell_type": "code",
   "execution_count": null,
   "metadata": {},
   "outputs": [],
   "source": [
    "fig, ax = plt.subplots(figsize=(5, 2), facecolor='orange', dpi=50)"
   ]
  },
  {
   "cell_type": "markdown",
   "metadata": {},
   "source": [
    "### When the figure is wider than the output area\n",
    "\n",
    "If you create a figure with a width in screen-inches greater than the width of your output area in a Jupyter Notebook, then it will be scaled down so that all of it is visible. Below, we create a figure that is 20 x 2 figure-inches. The actual number of horizontal screen-inches of my output area is around 8 inches, so any figure larger than that will get scaled down. Notice that the size of the tick labels are significantly smaller. We'll find out why in the next section."
   ]
  },
  {
   "cell_type": "code",
   "execution_count": null,
   "metadata": {
    "scrolled": false
   },
   "outputs": [],
   "source": [
    "fig, ax = plt.subplots(figsize=(20, 2), facecolor='orange', dpi=127)"
   ]
  },
  {
   "cell_type": "markdown",
   "metadata": {},
   "source": [
    "## Text and line \"points\"\n",
    "\n",
    "The size of matplotlib text and the width of lines are given in **typographical points**, where one point always equals 1/72nd of a figure-inch. These points have a completely different measurement unit than DPI. They always have the same measure of 1/72nd of a figure-inch. This means that regardless of the DPI, both text and line width will use the same relative amount of space in a figure. Let's begin by creating a figure with a DPI of 100, then add a horizontal line with width of 72 points, and some text with a font size of 24 points."
   ]
  },
  {
   "cell_type": "code",
   "execution_count": null,
   "metadata": {},
   "outputs": [],
   "source": [
    "fig1, ax1 = plt.subplots(figsize=(5, 2), facecolor='orange', dpi=100)\n",
    "ax1.hlines(0.5, 0, 1, lw=72, color='red')\n",
    "ax1.text(0.5, 0.5, 'DPI=100, Fontsize=24', ha='center', va='center', fontsize=24);"
   ]
  },
  {
   "cell_type": "markdown",
   "metadata": {},
   "source": [
    "The line has a width of 72 points, which translates to 1 (72/72) figure inch. The height of the figure is 2 figure inches, so the line width should be around half the height of the entire figure. From visual inspection, that appears to be the case. Take a look at the limits of the y-axis. They've narrowed to just the area where the line was plotted. The range of the x and y axis have no bearing on the text size or line width. They will always take up the same amount of figure-inches. Let's change the limits of the y-axis to verify this."
   ]
  },
  {
   "cell_type": "code",
   "execution_count": null,
   "metadata": {
    "scrolled": true
   },
   "outputs": [],
   "source": [
    "ax1.set_ylim(0, 1)\n",
    "fig1"
   ]
  },
  {
   "cell_type": "markdown",
   "metadata": {},
   "source": [
    "The text has a font size of 24 points or one-third (24/72) of a figure inch. As the line is 1 figure inch in width, it does appear that the text height is about 1/3 of it. Let's create the same figure, but use the DPI for my screen, keeping the width of the line and font size the same."
   ]
  },
  {
   "cell_type": "code",
   "execution_count": null,
   "metadata": {},
   "outputs": [],
   "source": [
    "fig2, ax2 = plt.subplots(figsize=(5, 2), facecolor='orange', dpi=127)\n",
    "ax2.hlines(0.5, 0, 1, lw=72, color='red')\n",
    "ax2.text(0.5, 0.5, 'DPI=127, Fontsize=24', ha='center', va='center', fontsize=24);"
   ]
  },
  {
   "cell_type": "markdown",
   "metadata": {},
   "source": [
    "Using a different DPI will not change the relative sizes of the line width and text size because they are always 72 points in one figure-inch. The line width of 72 points translates again to 1 figure-inch which is half of the figure height. The text is still 24 points or one-third of a figure-inch."
   ]
  },
  {
   "cell_type": "markdown",
   "metadata": {},
   "source": [
    "## Run configuration settings\n",
    "\n",
    "There are many default run configuration settings that matplotlib has preset when you import pyplot in a Jupyter Notebook, some of which are listed below. \n",
    "\n",
    "* Figure size - 6.4 inches by 4.8 inches\n",
    "* DPI - 100\n",
    "* font size - 10 points\n",
    "* line width - 1.5 points\n",
    "* Axes edge color - black\n",
    "* Axes face color - white\n",
    "\n",
    "There are around 300 different run configuration settings which are stored as a dictionary-like object in the `rcParams` variable found in the `pyplot` module. The 'rc' stands for 'run configuration'. Let's retrieve the above values from that dictionary."
   ]
  },
  {
   "cell_type": "code",
   "execution_count": null,
   "metadata": {},
   "outputs": [],
   "source": [
    "plt.rcParams['figure.figsize']"
   ]
  },
  {
   "cell_type": "code",
   "execution_count": null,
   "metadata": {},
   "outputs": [],
   "source": [
    "plt.rcParams['figure.dpi']"
   ]
  },
  {
   "cell_type": "code",
   "execution_count": null,
   "metadata": {},
   "outputs": [],
   "source": [
    "plt.rcParams['font.size']"
   ]
  },
  {
   "cell_type": "code",
   "execution_count": null,
   "metadata": {},
   "outputs": [],
   "source": [
    "plt.rcParams['lines.linewidth']"
   ]
  },
  {
   "cell_type": "code",
   "execution_count": null,
   "metadata": {},
   "outputs": [],
   "source": [
    "plt.rcParams['axes.edgecolor']"
   ]
  },
  {
   "cell_type": "code",
   "execution_count": null,
   "metadata": {},
   "outputs": [],
   "source": [
    "plt.rcParams['axes.facecolor']"
   ]
  },
  {
   "cell_type": "markdown",
   "metadata": {},
   "source": [
    "### Finding settings\n",
    "\n",
    "You can output all the possible settings by placing `plt.rcParams` in a cell and executing it. You'll notice all setting names have a group name followed by a dot and then the specific property. The most likely groups that you will set are axes, figure, legend, xtick, and ytick. If you are running a Jupyter Notebook, you can begin by typing out the group name and then press tab to reveal all the possible settings for that group.\n",
    "\n",
    "![0]\n",
    "\n",
    "[0]: images/findrc.png"
   ]
  },
  {
   "cell_type": "markdown",
   "metadata": {},
   "source": [
    "### Changing the run configuration settings\n",
    "\n",
    "If you find yourself constantly changing a property of a particular matplotlib plotting function to the same value, you might want to set that value as the default by changing the value in the `rcParams` dictionary. To make the change, overwrite the previous value with an assignment statement. Below we change the default values for figure size, dpi, and axes edge color and line width. The axes edge color and line width set the properties for the rectangle that forms the bounds of the axes."
   ]
  },
  {
   "cell_type": "code",
   "execution_count": null,
   "metadata": {},
   "outputs": [],
   "source": [
    "plt.rcParams['figure.figsize'] = (4, 2)\n",
    "plt.rcParams['figure.dpi'] = 127\n",
    "plt.rcParams['axes.edgecolor'] = 'green'\n",
    "plt.rcParams['axes.linewidth'] = 2"
   ]
  },
  {
   "cell_type": "markdown",
   "metadata": {},
   "source": [
    "Any figure and axes we create after making these changes will have those new settings. Let's run the `subplots` function to see the changes."
   ]
  },
  {
   "cell_type": "code",
   "execution_count": null,
   "metadata": {},
   "outputs": [],
   "source": [
    "fig, ax = plt.subplots()"
   ]
  },
  {
   "cell_type": "markdown",
   "metadata": {},
   "source": [
    "### Relative size of tick labels\n",
    "\n",
    "The default size of many of the text properties are given as relative values. For instance, both the x and y tick labels have the size `'medium'`, while the axes title size is `'large'`. We verify both values below."
   ]
  },
  {
   "cell_type": "code",
   "execution_count": null,
   "metadata": {},
   "outputs": [],
   "source": [
    "plt.rcParams['xtick.labelsize']"
   ]
  },
  {
   "cell_type": "code",
   "execution_count": null,
   "metadata": {},
   "outputs": [],
   "source": [
    "plt.rcParams['axes.titlesize']"
   ]
  },
  {
   "cell_type": "markdown",
   "metadata": {},
   "source": [
    "You can change these settings to one of these values: `'xx-small'`, `'x-small'`, `'small'`, `'medium'`, `'large'`, `'x-large'`, or `'xx-large'`. Each of these sizes corresponds to a particular integer font size in points relative to  `'medium'`, which is set to the default font size of 10 points. Let's verify the font size value."
   ]
  },
  {
   "cell_type": "code",
   "execution_count": null,
   "metadata": {},
   "outputs": [],
   "source": [
    "plt.rcParams['font.size']"
   ]
  },
  {
   "cell_type": "markdown",
   "metadata": {},
   "source": [
    "Let's change the x-tick and y-tick label sizes to different relative values and create a new figure."
   ]
  },
  {
   "cell_type": "code",
   "execution_count": null,
   "metadata": {},
   "outputs": [],
   "source": [
    "plt.rcParams['xtick.labelsize'] = 'small'\n",
    "plt.rcParams['ytick.labelsize'] = 'xx-small'\n",
    "fig, ax = plt.subplots()"
   ]
  },
  {
   "cell_type": "markdown",
   "metadata": {},
   "source": [
    "We can get the exact size by retrieving one of the labels from each axis. This returns a text object which has a `get_fontsize` method."
   ]
  },
  {
   "cell_type": "code",
   "execution_count": null,
   "metadata": {},
   "outputs": [],
   "source": [
    "ax.get_xticklabels()[0].get_fontsize()"
   ]
  },
  {
   "cell_type": "code",
   "execution_count": null,
   "metadata": {},
   "outputs": [],
   "source": [
    "ax.get_yticklabels()[0].get_fontsize()"
   ]
  },
  {
   "cell_type": "markdown",
   "metadata": {},
   "source": [
    "Changing the font size will affect any setting that has a relative size. Both the x-tick and y-tick label size are changed below by changing the font size."
   ]
  },
  {
   "cell_type": "code",
   "execution_count": null,
   "metadata": {},
   "outputs": [],
   "source": [
    "plt.rcParams['font.size'] = 20\n",
    "fig, ax = plt.subplots()"
   ]
  },
  {
   "cell_type": "markdown",
   "metadata": {},
   "source": [
    "### Reset run configuration settings\n",
    "\n",
    "The changes you make to the run configuration settings only last while the notebook is still running. They will return as their defaults for any new notebook or script you create. To reset all the configuration settings in the current notebook to their default values, call the `rcdefaults` function from `pyplot`."
   ]
  },
  {
   "cell_type": "code",
   "execution_count": null,
   "metadata": {},
   "outputs": [],
   "source": [
    "plt.rcdefaults()"
   ]
  },
  {
   "cell_type": "markdown",
   "metadata": {},
   "source": [
    "## Creating style sheets\n",
    "\n",
    "Instead of loading each of the run configuration settings at the top of the each notebook each time, you can save them to a text file and then load that file. In this file, pair the configuration setting with the desired value, separating them by a colon. The file is NOT a python script, but simply key value pairs. Lines begging with the hash symbol, `#`, are comments. A simple style sheet is available in `'mdap.mplstyle'`. Let's print out all of its contents to the screen."
   ]
  },
  {
   "cell_type": "code",
   "execution_count": null,
   "metadata": {},
   "outputs": [],
   "source": [
    "print(open('mdap.mplstyle').read())"
   ]
  },
  {
   "cell_type": "markdown",
   "metadata": {},
   "source": [
    "To load these settings, call the `plt.style.use` function, passing it the location of the style file."
   ]
  },
  {
   "cell_type": "code",
   "execution_count": null,
   "metadata": {},
   "outputs": [],
   "source": [
    "plt.style.use('mdap.mplstyle')"
   ]
  },
  {
   "cell_type": "markdown",
   "metadata": {},
   "source": [
    "Let's verify that the settings have once again changed."
   ]
  },
  {
   "cell_type": "code",
   "execution_count": null,
   "metadata": {},
   "outputs": [],
   "source": [
    "plt.rcParams['figure.dpi']"
   ]
  },
  {
   "cell_type": "code",
   "execution_count": null,
   "metadata": {},
   "outputs": [],
   "source": [
    "plt.rcParams['font.size']"
   ]
  },
  {
   "cell_type": "markdown",
   "metadata": {},
   "source": [
    "### Using pre-made style sheets\n",
    "\n",
    "matplotlib comes with several pre-made style sheets that you can use at any time. Retrieve all the available style sheet names as a list with `plt.style.available`. The first five are displayed below."
   ]
  },
  {
   "cell_type": "code",
   "execution_count": null,
   "metadata": {},
   "outputs": [],
   "source": [
    "plt.style.available[:5]"
   ]
  },
  {
   "cell_type": "markdown",
   "metadata": {},
   "source": [
    "One of the more popular styles is 'ggplot', which is based on an R graphing package with the same name. The configuration settings for each style are found in the `plt.style.library` dictionary. Let's retrieve a few of them for ggplot."
   ]
  },
  {
   "cell_type": "code",
   "execution_count": null,
   "metadata": {},
   "outputs": [],
   "source": [
    "list(plt.style.library['ggplot'].items())[:5]"
   ]
  },
  {
   "cell_type": "markdown",
   "metadata": {},
   "source": [
    "To choose a style, pass its name to the `plt.style.use` function."
   ]
  },
  {
   "cell_type": "code",
   "execution_count": null,
   "metadata": {},
   "outputs": [],
   "source": [
    "plt.style.use('ggplot')"
   ]
  },
  {
   "cell_type": "markdown",
   "metadata": {},
   "source": [
    "This command overwrites all of the settings present in that style sheet, but keeps any settings not specifically given. For instance, the face color of the axes is changed, but not the figure size."
   ]
  },
  {
   "cell_type": "code",
   "execution_count": null,
   "metadata": {},
   "outputs": [],
   "source": [
    "plt.rcParams['axes.facecolor']"
   ]
  },
  {
   "cell_type": "code",
   "execution_count": null,
   "metadata": {},
   "outputs": [],
   "source": [
    "plt.rcParams['figure.figsize']"
   ]
  },
  {
   "cell_type": "markdown",
   "metadata": {},
   "source": [
    "Let's create a new figure and axes using our new style based on ggplot."
   ]
  },
  {
   "cell_type": "code",
   "execution_count": null,
   "metadata": {},
   "outputs": [],
   "source": [
    "fig, ax = plt.subplots()\n",
    "ax.set_title('ggplot style sheet');"
   ]
  },
  {
   "cell_type": "markdown",
   "metadata": {},
   "source": [
    "### Make your style sheet available at all times\n",
    "\n",
    "Although the file `'mdap.mplstyle'` can be set by calling `plt.style.use`, it isn't widely available for all other projects. matplotlib has a specific directory location where you can save styles to use for any of your work. The helper function `get_configdir` retrieves the directory location."
   ]
  },
  {
   "cell_type": "code",
   "execution_count": null,
   "metadata": {},
   "outputs": [],
   "source": [
    "import matplotlib\n",
    "matplotlib.get_configdir()"
   ]
  },
  {
   "cell_type": "markdown",
   "metadata": {},
   "source": [
    "Within this directory, you must create another directory titled `stylelib` and then place your style sheet in there making sure the name ends in `'.mplstyle'`. After saving the file, you'll be able to call `plt.style.use` from any notebook or script to use that particular style without the file extension. For instance, if you do place the file `'mdap.mplstyle'` in that directory, you can use it by calling `plt.style.use('mdap')`."
   ]
  },
  {
   "cell_type": "markdown",
   "metadata": {},
   "source": [
    "### Combining multiple style sheets\n",
    "\n",
    "It's possible to combine multiple style sheets by passing their names as a list to `plt.style.use`. Each style will change the settings beginning from the left overwriting any previous setting. Perhaps the best use-case is when setting a new style after already changing styles. For instance, our current style is ggplot. But if we want to change to seaborn-darkgrid, its best to reset to the default, and then use the new style, and then possibly to our book style."
   ]
  },
  {
   "cell_type": "code",
   "execution_count": null,
   "metadata": {},
   "outputs": [],
   "source": [
    "plt.style.use(['default', 'seaborn-darkgrid', 'mdap.mplstyle'])"
   ]
  },
  {
   "cell_type": "code",
   "execution_count": null,
   "metadata": {},
   "outputs": [],
   "source": [
    "fig, ax = plt.subplots()\n",
    "ax.set_title('Seaborn Dark Grid');"
   ]
  },
  {
   "cell_type": "markdown",
   "metadata": {},
   "source": [
    "## Exercises\n",
    "\n",
    "Create a new figure and axes for each exercise."
   ]
  },
  {
   "cell_type": "markdown",
   "metadata": {},
   "source": [
    "### Exercise 1\n",
    "\n",
    "<span style=\"color:green; font-size:16px\">Find your screen's DPI and verify it by creating a matplotlib figure with that DPI. Measure the figure with a ruler to verify that the figure-inches match the screen-inches. Set the `'bbox_inches'` notebook setting to `None` and then back to `'tight'` after the exercise.</span>"
   ]
  },
  {
   "cell_type": "code",
   "execution_count": null,
   "metadata": {},
   "outputs": [],
   "source": []
  },
  {
   "cell_type": "markdown",
   "metadata": {},
   "source": [
    "### Exercise 2\n",
    "\n",
    "<span style=\"color:green; font-size:16px\">If you create a figure that has a height of 3 inches and a DPI of 120 and add a line that has a width of 144 points, what fraction of the screen height will the line represent?</span>"
   ]
  },
  {
   "cell_type": "code",
   "execution_count": null,
   "metadata": {},
   "outputs": [],
   "source": []
  },
  {
   "cell_type": "markdown",
   "metadata": {},
   "source": [
    "### Exercise 3\n",
    "\n",
    "<span style=\"color:green; font-size:16px\">Iterate through all the available styles creating a figure and axes with each one. Put the name of the style in the axes title.</span>"
   ]
  },
  {
   "cell_type": "code",
   "execution_count": null,
   "metadata": {},
   "outputs": [],
   "source": []
  },
  {
   "cell_type": "markdown",
   "metadata": {},
   "source": [
    "### Exercise 4\n",
    "\n",
    "<span style=\"color:green; font-size:16px\">Create your own style sheet. You might want to begin by copying one of the pre-made stylesheets.</span>"
   ]
  },
  {
   "cell_type": "code",
   "execution_count": null,
   "metadata": {},
   "outputs": [],
   "source": []
  }
 ],
 "metadata": {
  "kernelspec": {
   "display_name": "Python 3 (ipykernel)",
   "language": "python",
   "name": "python3"
  },
  "language_info": {
   "codemirror_mode": {
    "name": "ipython",
    "version": 3
   },
   "file_extension": ".py",
   "mimetype": "text/x-python",
   "name": "python",
   "nbconvert_exporter": "python",
   "pygments_lexer": "ipython3",
   "version": "3.8.11"
  }
 },
 "nbformat": 4,
 "nbformat_minor": 4
}
