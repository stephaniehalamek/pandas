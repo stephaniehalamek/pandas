{
 "cells": [
  {
   "cell_type": "markdown",
   "metadata": {},
   "source": [
    "# Matplotlib Text and Lines\n",
    "\n",
    "In this chapter, we cover how to add text and lines on our axes. Let's create our figure and axes with the `subplots` function and unpack these objects to `fig` and `ax`. We will also set the background color of each to distinguish one from the other."
   ]
  },
  {
   "cell_type": "code",
   "execution_count": null,
   "metadata": {},
   "outputs": [],
   "source": [
    "import matplotlib.pyplot as plt\n",
    "fig, ax = plt.subplots(figsize=(4, 2), dpi=144)\n",
    "fig.set_facecolor('tan')\n",
    "ax.set_facecolor('plum')"
   ]
  },
  {
   "cell_type": "markdown",
   "metadata": {},
   "source": [
    "## The axes `text` method\n",
    "\n",
    "Previously, we changed the text of the x and y axis labels, the title of the axes, and the tick labels. We can place text anywhere on our axes with the `text` method. Pass it the x and y coordinates of the text, the text itself, and any of the text properties we previously learned. We choose coordinates outside of the current x and y limits. Although the text appears outside of the bounds of the axes, it is still contained in the axes."
   ]
  },
  {
   "cell_type": "code",
   "execution_count": null,
   "metadata": {
    "scrolled": false
   },
   "outputs": [],
   "source": [
    "ax.text(x=1, y=1.2, s='some text', \n",
    "        color='red', backgroundcolor='yellow', \n",
    "        fontsize=10, rotation=30, fontname='Comic Sans MS')\n",
    "fig"
   ]
  },
  {
   "cell_type": "markdown",
   "metadata": {},
   "source": [
    "### Change the x and y limits\n",
    "\n",
    "We can change the limits of our x and y axis with the `set_xlim` and `set_ylim` methods so that the text appears within the limits of the axes."
   ]
  },
  {
   "cell_type": "code",
   "execution_count": null,
   "metadata": {},
   "outputs": [],
   "source": [
    "ax.set_xlim(0, 2)\n",
    "ax.set_ylim(1, 2)\n",
    "fig"
   ]
  },
  {
   "cell_type": "markdown",
   "metadata": {},
   "source": [
    "### Assigning the result of a matplotlib text object to a variable\n",
    "\n",
    "Whenever we call the `text` method, matplotlib returns a reference to that object. Above, we did not assign the result to a variable. Let's add new text and assign the result to a variable name so that we can reference it later."
   ]
  },
  {
   "cell_type": "code",
   "execution_count": null,
   "metadata": {},
   "outputs": [],
   "source": [
    "new_text = ax.text(x=.5, y=1.8, s='new text', \n",
    "               color='black', backgroundcolor='aquamarine', \n",
    "               fontsize=15, fontname='Verdana')\n",
    "fig"
   ]
  },
  {
   "cell_type": "markdown",
   "metadata": {},
   "source": [
    "Let's display the contents of the variable `new_text` and verify its type."
   ]
  },
  {
   "cell_type": "code",
   "execution_count": null,
   "metadata": {},
   "outputs": [],
   "source": [
    "new_text"
   ]
  },
  {
   "cell_type": "code",
   "execution_count": null,
   "metadata": {},
   "outputs": [],
   "source": [
    "type(new_text)"
   ]
  },
  {
   "cell_type": "markdown",
   "metadata": {},
   "source": [
    "### Getter and setter text methods\n",
    "\n",
    "As with the figure and axes, this text object (and all matplotlib objects) has its own getter and setter methods unique to it. Let's begin by getting of the text properties."
   ]
  },
  {
   "cell_type": "code",
   "execution_count": null,
   "metadata": {},
   "outputs": [],
   "source": [
    "new_text.get_color()"
   ]
  },
  {
   "cell_type": "code",
   "execution_count": null,
   "metadata": {},
   "outputs": [],
   "source": [
    "new_text.get_fontsize()"
   ]
  },
  {
   "cell_type": "code",
   "execution_count": null,
   "metadata": {},
   "outputs": [],
   "source": [
    "new_text.get_position()"
   ]
  },
  {
   "cell_type": "code",
   "execution_count": null,
   "metadata": {},
   "outputs": [],
   "source": [
    "new_text.get_fontname()"
   ]
  },
  {
   "cell_type": "code",
   "execution_count": null,
   "metadata": {},
   "outputs": [],
   "source": [
    "new_text.get_text()"
   ]
  },
  {
   "cell_type": "markdown",
   "metadata": {},
   "source": [
    "Let's change a few properties with the setter methods."
   ]
  },
  {
   "cell_type": "code",
   "execution_count": null,
   "metadata": {},
   "outputs": [],
   "source": [
    "new_text.set_color('purple')\n",
    "new_text.set_fontsize(12)\n",
    "new_text.set_position((.25, 1.6))\n",
    "new_text.set_rotation(-10)\n",
    "new_text.set_text('changed new text')\n",
    "fig"
   ]
  },
  {
   "cell_type": "markdown",
   "metadata": {},
   "source": [
    "### Duplicate `text` objects\n",
    "\n",
    "Every time you call the `text` method, a completely new text object is created and added on the axes. Even if the same exact arguments are used or if the same notebook cell is executed, a new text object is placed on the axes. The next cell creates three unique text objects with the same properties at the same location, though it will appear on the screen as a single piece of text."
   ]
  },
  {
   "cell_type": "code",
   "execution_count": null,
   "metadata": {
    "scrolled": true
   },
   "outputs": [],
   "source": [
    "ax.text(x=1.3, y=1.8, s='duplicate text', size=9)\n",
    "ax.text(x=1.3, y=1.8, s='duplicate text', size=9)\n",
    "ax.text(x=1.3, y=1.8, s='duplicate text', size=9)\n",
    "fig"
   ]
  },
  {
   "cell_type": "markdown",
   "metadata": {},
   "source": [
    "Even though we didn't assign any of the three text objects to a variable, we can access them with the axes `texts` attribute. It returns a list of all the text object in the order they were created."
   ]
  },
  {
   "cell_type": "code",
   "execution_count": null,
   "metadata": {},
   "outputs": [],
   "source": [
    "ax.texts"
   ]
  },
  {
   "cell_type": "markdown",
   "metadata": {},
   "source": [
    "Let's access each of the last three text objects and move them to a different location so that we can actually see them. We'll change the text as well."
   ]
  },
  {
   "cell_type": "code",
   "execution_count": null,
   "metadata": {
    "scrolled": true
   },
   "outputs": [],
   "source": [
    "ax.texts[2].set_position((1.3, 1.9))\n",
    "ax.texts[2].set_text('duplicate text 1')\n",
    "ax.texts[3].set_position((1.3, 1.7))\n",
    "ax.texts[3].set_text('duplicate text 2')\n",
    "ax.texts[4].set_position((1.3, 1.5))\n",
    "ax.texts[4].set_text('duplicate text 3')\n",
    "fig"
   ]
  },
  {
   "cell_type": "markdown",
   "metadata": {},
   "source": [
    "### Remove text object\n",
    "\n",
    "All matplotlib objects can be removed from the axes with the `remove` method. Let's remove the last text object."
   ]
  },
  {
   "cell_type": "code",
   "execution_count": null,
   "metadata": {},
   "outputs": [],
   "source": [
    "ax.texts[4].remove()\n",
    "fig"
   ]
  },
  {
   "cell_type": "markdown",
   "metadata": {},
   "source": [
    "We verify that now only four text objects remain."
   ]
  },
  {
   "cell_type": "code",
   "execution_count": null,
   "metadata": {},
   "outputs": [],
   "source": [
    "ax.texts"
   ]
  },
  {
   "cell_type": "markdown",
   "metadata": {},
   "source": [
    "### Get all properties of an object\n",
    "\n",
    "Most matplotlib objects have a `properties` method that can be called to return a dictionary of each property name with its associated value. Most objects have several dozen properties. Below, all the properties are assigned to a variable. This dictionary is then iterated through with each property value that is an either a boolean, int, or float printed to the screen."
   ]
  },
  {
   "cell_type": "code",
   "execution_count": null,
   "metadata": {},
   "outputs": [],
   "source": [
    "print(f'{\"Property Name\":^20}      {\"Value\":^20}')\n",
    "print('-' * 20,'   ', '-' * 20)\n",
    "property_dict = ax.texts[0].properties()\n",
    "for prop, value in property_dict.items():\n",
    "    if isinstance(value, (str, int, float)):\n",
    "        print(f'{prop:20}     {value:<20}')"
   ]
  },
  {
   "cell_type": "markdown",
   "metadata": {},
   "source": [
    "There are many more properties than the ones listed above. A good way to explore the available properties is to scan through the list of setter methods. Below, all setter methods are printed out."
   ]
  },
  {
   "cell_type": "code",
   "execution_count": null,
   "metadata": {
    "scrolled": true
   },
   "outputs": [],
   "source": [
    "text_setters = [m for m in dir(ax.texts[0]) if m.startswith('set_')]\n",
    "for i, setter in enumerate(text_setters):\n",
    "    end = '\\n' if i % 3 == 2 else ''\n",
    "    print(f'{setter:25}', end=end)"
   ]
  },
  {
   "cell_type": "markdown",
   "metadata": {},
   "source": [
    "### Clear all objects from the axes\n",
    "\n",
    "You can remove all of the objects from the axes with the `clear` method. All of the labels and limits will reset to their defaults as well. The figure size remains the same along with its and the axes facecolor."
   ]
  },
  {
   "cell_type": "code",
   "execution_count": null,
   "metadata": {},
   "outputs": [],
   "source": [
    "ax.clear()\n",
    "fig"
   ]
  },
  {
   "cell_type": "markdown",
   "metadata": {},
   "source": [
    "## Creating horizontal lines with `hlines`\n",
    "\n",
    "Horizontal lines may be added with the `hlines` method. It requires the following three parameters:\n",
    "\n",
    "* `y` - the y coordinate\n",
    "* `xmin` - the starting point of the line\n",
    "* `xmax` - the ending point of the line"
   ]
  },
  {
   "cell_type": "code",
   "execution_count": null,
   "metadata": {},
   "outputs": [],
   "source": [
    "ax.hlines(y=6, xmin=-4, xmax=9.2)\n",
    "fig"
   ]
  },
  {
   "cell_type": "markdown",
   "metadata": {},
   "source": [
    "If the x and y limits have not been set, then matplotlib will set them for you so that the entire line is visible. Notice that the y-axis limits have shrank to just a small range around the line's y-coordinate. Most axes plotting functions automatically change the limits of the graph to just the region of where the objects are located (if the limits were not set previously). Let's clear the axes and then set the y-axis limits before adding the same horizontal line. The x-axis limits will still change so that just enough space is available to fit the line, but the y-axis limits remain set."
   ]
  },
  {
   "cell_type": "code",
   "execution_count": null,
   "metadata": {},
   "outputs": [],
   "source": [
    "ax.clear()\n",
    "ax.set_ylim(0, 8)\n",
    "ax.hlines(y=6, xmin=-4, xmax=9.2, capstyle='round', ls='dashed')\n",
    "fig"
   ]
  },
  {
   "cell_type": "markdown",
   "metadata": {},
   "source": [
    "We can create multiple horizontal lines at the same time using lists. Here, we create three horizontal lines at y-values of 1, 2, and 3 each with a different starting and ending point."
   ]
  },
  {
   "cell_type": "code",
   "execution_count": null,
   "metadata": {},
   "outputs": [],
   "source": [
    "ax.hlines(y=[1, 2, 3], xmin=[2, 3, 4], xmax=[12, 8, 6])\n",
    "fig"
   ]
  },
  {
   "cell_type": "markdown",
   "metadata": {},
   "source": [
    "### Common line properties\n",
    "\n",
    "All lines in matplotlib have many different properties that can be set. In addition to `color`, the following are the most common.\n",
    "\n",
    "| Property                      | Possible Values                                                           |\n",
    "|-------------------------------|---------------------------------------------------------------------------|\n",
    "| `linewidth` or `lw`         | width of line in points       |\n",
    "| `linestyle` or `ls`          | `'solid'` or `'-'` (default), `'dashed'` or `'--'`, `'dotted'` or `':'`, `'dashdot'` or `'-.'`  \n",
    "\n",
    "We clear our axes and plot three horizontal lines changing the default properties. Notice that we also assign the returned value from the `hlines` method to a variable name."
   ]
  },
  {
   "cell_type": "code",
   "execution_count": null,
   "metadata": {},
   "outputs": [],
   "source": [
    "ax.clear()\n",
    "ax.set_ylim(0, 15)\n",
    "horiz_lines = ax.hlines(y=[1, 4, 8], xmin=2, xmax=9, linewidth=3, \n",
    "                        linestyle='dashed', color='red')\n",
    "fig"
   ]
  },
  {
   "cell_type": "markdown",
   "metadata": {},
   "source": [
    "Let's output this object to the screen and identify its type."
   ]
  },
  {
   "cell_type": "code",
   "execution_count": null,
   "metadata": {},
   "outputs": [],
   "source": [
    "horiz_lines"
   ]
  },
  {
   "cell_type": "markdown",
   "metadata": {},
   "source": [
    "This is a LineCollection object, which, as the name implies, is a collection of lines. The specifics of this object aren't too important to know. But what is important, is your ability to call methods from it. Just like all matplotlib objects it too has getter and setter methods. Let's get the width of the line collection."
   ]
  },
  {
   "cell_type": "code",
   "execution_count": null,
   "metadata": {},
   "outputs": [],
   "source": [
    "horiz_lines.get_linewidth()"
   ]
  },
  {
   "cell_type": "markdown",
   "metadata": {},
   "source": [
    "The width is returned within a numpy array and not as a scalar because each line can have its own width. Let's set new properties for each of the lines in the collection. Passing a single value will set that property for all lines. Passing in a list sets each line individually."
   ]
  },
  {
   "cell_type": "code",
   "execution_count": null,
   "metadata": {},
   "outputs": [],
   "source": [
    "horiz_lines.set_linestyle('solid')\n",
    "horiz_lines.set_color(['green', 'black', 'yellow'])\n",
    "horiz_lines.set_linewidth([1, 5, 8])\n",
    "fig"
   ]
  },
  {
   "cell_type": "markdown",
   "metadata": {},
   "source": [
    "## Create vertical lines with `vlines`\n",
    "\n",
    "We can use the `vlines` method similarly to create vertical lines. The parameters are the opposite as before. Provide it an x-value of the vertical location of the line along with the starting and ending y-values."
   ]
  },
  {
   "cell_type": "code",
   "execution_count": null,
   "metadata": {},
   "outputs": [],
   "source": [
    "ax.vlines(x=6, ymin=-2.4, ymax=6, lw=3, color='red')\n",
    "fig"
   ]
  },
  {
   "cell_type": "markdown",
   "metadata": {},
   "source": [
    "Since we've already set the limits of our graph, matplotlib won't expand them to fit the new line. We need to change the limits manually."
   ]
  },
  {
   "cell_type": "code",
   "execution_count": null,
   "metadata": {},
   "outputs": [],
   "source": [
    "ax.set_ylim(-4, 15)\n",
    "fig"
   ]
  },
  {
   "cell_type": "markdown",
   "metadata": {},
   "source": [
    "### Retrieve the lines from the graph\n",
    "\n",
    "We retrieved all of the text objects as a list with the `texts` attribute. Similarly, we can retrieve all of the LineCollection objects as a list with the `collections` attribute. We have two items in our list. The first collection contains three horizontal lines, while the second contains one vertical line."
   ]
  },
  {
   "cell_type": "code",
   "execution_count": null,
   "metadata": {},
   "outputs": [],
   "source": [
    "ax.collections"
   ]
  },
  {
   "cell_type": "markdown",
   "metadata": {},
   "source": [
    "### Access the collection and change its properties\n",
    "\n",
    "Let's access the second line collection we created from the list and then use the setter methods to change its properties."
   ]
  },
  {
   "cell_type": "code",
   "execution_count": null,
   "metadata": {},
   "outputs": [],
   "source": [
    "ax.collections[1].set_linewidth(10)\n",
    "ax.collections[1].set_color('blue')\n",
    "fig"
   ]
  },
  {
   "cell_type": "markdown",
   "metadata": {},
   "source": [
    "### Remove an item from the axes\n",
    "\n",
    "As previously mentioned, matplotlib objects have a `remove` method which removes them from the axes. Let's remove our second line collection."
   ]
  },
  {
   "cell_type": "code",
   "execution_count": null,
   "metadata": {},
   "outputs": [],
   "source": [
    "ax.collections[1].remove()\n",
    "fig"
   ]
  },
  {
   "cell_type": "markdown",
   "metadata": {},
   "source": [
    "## Add grid lines with the `grid` method\n",
    "\n",
    "Occasionally, it can be helpful to have horizontal and vertical lines for all of the tick marks in the plot. These are referred to as grid lines and can be added with the axes `grid` method. The first argument is a boolean that controls whether to turn on or off the grid. Here we set it to `True`. Set the `axis` parameter to `'x'`, `'y'`, or `'both'` to determine which axis will have grid lines. You may also pass it any other line properties."
   ]
  },
  {
   "cell_type": "code",
   "execution_count": null,
   "metadata": {},
   "outputs": [],
   "source": [
    "ax.clear()\n",
    "ax.grid(True, axis='both', linestyle='dashed', color='brown')\n",
    "fig"
   ]
  },
  {
   "cell_type": "markdown",
   "metadata": {},
   "source": [
    "### Toggle the grid on and off\n",
    "\n",
    "The `grid` method does not return a matplotlib object like the other methods in this chapter. Instead, matplotlib treats the `grid` method like an on/off switch. The first argument is a boolean that is used to toggle the grid. Here, we turn it off."
   ]
  },
  {
   "cell_type": "code",
   "execution_count": null,
   "metadata": {
    "scrolled": true
   },
   "outputs": [],
   "source": [
    "ax.grid(False)\n",
    "fig"
   ]
  },
  {
   "cell_type": "markdown",
   "metadata": {},
   "source": [
    "If we turn it back on, the same properties that we set previously remain."
   ]
  },
  {
   "cell_type": "code",
   "execution_count": null,
   "metadata": {},
   "outputs": [],
   "source": [
    "ax.grid(True)\n",
    "fig"
   ]
  },
  {
   "cell_type": "markdown",
   "metadata": {},
   "source": [
    "### Control which axis has the grid\n",
    "\n",
    "Use the `axis` method to control which direction the grid appears. By default it is set to 'both'."
   ]
  },
  {
   "cell_type": "code",
   "execution_count": null,
   "metadata": {},
   "outputs": [],
   "source": [
    "ax.clear()\n",
    "ax.grid(axis='x', linestyle='dashed', color='green', linewidth=1)\n",
    "fig"
   ]
  },
  {
   "cell_type": "markdown",
   "metadata": {},
   "source": [
    "## Aligning text horizontally and vertically\n",
    "\n",
    "By default, text begins from the x and y coordinates given and proceeds to the right. The bottom left of the first letter is placed at this coordinate. Let's add a single text object to our axes at (.5, .5) along with a horizontal and vertical line intersecting at that point. The `zorder` parameter controls the ordering of the plotting objects when they cover the same points. The text is set with a zorder of 0, which is the lower than the other objects, ensuring that the lines will be visible on top of it."
   ]
  },
  {
   "cell_type": "code",
   "execution_count": null,
   "metadata": {},
   "outputs": [],
   "source": [
    "ax.clear()\n",
    "text = ax.text(x=.5, y=.5, s='matplotlib text', size=14,\n",
    "               backgroundcolor='yellow', color='red', zorder=0)\n",
    "ax.hlines(y=.5, xmin=.4, xmax=.6)\n",
    "ax.vlines(x=.5, ymin=.4, ymax=.6)\n",
    "fig"
   ]
  },
  {
   "cell_type": "markdown",
   "metadata": {},
   "source": [
    "The `horizontalalignment` and `verticalalignment` parameters control where the text is placed relative to its given coordinate. By default, these values are set to 'left' and 'baseline'. matplotlib has created the aliases `ha` and `va` to help shorten the syntax. Let's use the getter methods to verify the default values."
   ]
  },
  {
   "cell_type": "code",
   "execution_count": null,
   "metadata": {},
   "outputs": [],
   "source": [
    "text.get_ha()"
   ]
  },
  {
   "cell_type": "code",
   "execution_count": null,
   "metadata": {},
   "outputs": [],
   "source": [
    "text.get_va()"
   ]
  },
  {
   "cell_type": "markdown",
   "metadata": {},
   "source": [
    "The possible values for `horizontalalignment` are `'left'`, `'center'`, and `'right'`. Let's change it to `'center'`."
   ]
  },
  {
   "cell_type": "code",
   "execution_count": null,
   "metadata": {},
   "outputs": [],
   "source": [
    "text.set_ha('center')\n",
    "fig"
   ]
  },
  {
   "cell_type": "markdown",
   "metadata": {},
   "source": [
    "The possible values for `verticalalignment` are `'top'`, `'bottom'`, `'center'`, `'baseline'`, and `'center_baseline'`."
   ]
  },
  {
   "cell_type": "code",
   "execution_count": null,
   "metadata": {},
   "outputs": [],
   "source": [
    "text.set_va('center_baseline')\n",
    "fig"
   ]
  },
  {
   "cell_type": "markdown",
   "metadata": {},
   "source": [
    "Another combination of text alignment is chosen."
   ]
  },
  {
   "cell_type": "code",
   "execution_count": null,
   "metadata": {},
   "outputs": [],
   "source": [
    "text.set_ha('right')\n",
    "text.set_va('top')\n",
    "fig"
   ]
  },
  {
   "cell_type": "markdown",
   "metadata": {},
   "source": [
    "## Add text with arrows using the `annotate` method\n",
    "\n",
    "The axes `annotate` method is very similar to the `text` method but allows you to draw an arrow from a text label to another point. The method signature for `annotate` is slightly different. Set the `text` parameter to a string of the text you want to display and `xy` to a tuple of the location of the text. Text is added to our axes with both methods below."
   ]
  },
  {
   "cell_type": "code",
   "execution_count": null,
   "metadata": {},
   "outputs": [],
   "source": [
    "ax.clear()\n",
    "ax.annotate(text='using annotate', xy=(.2, .2), size=12)\n",
    "ax.text(x=.2, y=.4, s='using text', size=12)\n",
    "fig"
   ]
  },
  {
   "cell_type": "markdown",
   "metadata": {},
   "source": [
    "Like before, the `texts` attribute returns a list of all the text objects, including those created by the `annotate` method. Let's access this list now and output the official type of each of the two objects."
   ]
  },
  {
   "cell_type": "code",
   "execution_count": null,
   "metadata": {},
   "outputs": [],
   "source": [
    "ax.texts"
   ]
  },
  {
   "cell_type": "code",
   "execution_count": null,
   "metadata": {},
   "outputs": [],
   "source": [
    "type(ax.texts[0])"
   ]
  },
  {
   "cell_type": "code",
   "execution_count": null,
   "metadata": {},
   "outputs": [],
   "source": [
    "type(ax.texts[1])"
   ]
  },
  {
   "cell_type": "markdown",
   "metadata": {},
   "source": [
    "The object created from the `annotate` method has a different type. You are free to use either `text` or `annotate` to add text to your axes, but you must use `annotate` if you want to draw an arrow from text to a point. To do so, use the `xy` parameter to denote the location of the point you would like to annotate and `xytext` for the location of where the text will be. For the arrow to appear you must set the `arrowprops` parameter to a dictionary. Using an empty dictionary creates a default arrow."
   ]
  },
  {
   "cell_type": "code",
   "execution_count": null,
   "metadata": {},
   "outputs": [],
   "source": [
    "ax.clear()\n",
    "ax.annotate(text='Annotate point (.9, .9)', xytext=(.2, .2), xy=(.9, .9), arrowprops={})\n",
    "fig"
   ]
  },
  {
   "cell_type": "markdown",
   "metadata": {},
   "source": [
    "### Styling the arrow\n",
    "\n",
    "The arrow can be styled in a variety of ways by setting the `arrowprops` parameter to a dictionary. Within this dictionary, you can set the `'arrowstyle'` to a string. This string is composed of the name of the style followed by comma-separated attributes with equal signs denoting their value. All of the possible values for arrowstyle are provided in the table below.\n",
    "\n",
    "| Name   | Attributes                                                                 |\n",
    "|:-------|:---------------------------------------------------------------------------|\n",
    "| `-`      | None                                                                       |\n",
    "| `->`     | head_length=0.4, head_width=0.2                                            |\n",
    "| `-[`     | widthB=1.0, lengthB=0.2, angleB=None                                       |\n",
    "| ` -\\|>`    | head_length=0.4, head_width=0.2                                            |\n",
    "| `<-`     | head_length=0.4, head_width=0.2                                            |\n",
    "| `<->`    | head_length=0.4, head_width=0.2                                            |\n",
    "| `<\\|-`    | head_length=0.4, head_width=0.2                                            |\n",
    "| `<\\|-\\|>`  | head_length=0.4, head_width=0.2                                            |\n",
    "| `]-`     | widthA=1.0, lengthA=0.2, angleA=None                                       |\n",
    "| `]-[`    | widthA=1.0, lengthA=0.2, angleA=None, widthB=1.0, lengthB=0.2, angleB=None |\n",
    "| `fancy`  | head_length=0.4, head_width=0.4, tail_width=0.4                            |\n",
    "| `simple` | head_length=0.5, head_width=0.5, tail_width=0.2                            |\n",
    "| `wedge`  | tail_width=0.3, shrink_factor=0.5                                          |\n",
    "| `\\|-\\|`    | widthA=1.0, angleA=None, widthB=1.0, angleB=None                           |"
   ]
  },
  {
   "cell_type": "markdown",
   "metadata": {},
   "source": [
    "Here are some example strings that  are possible.\n",
    "\n",
    "* `'->, head_length=.4, head_width=1.2'`\n",
    "* `']-, widthA=1, lengthA=4, angleA=30'`\n",
    "* `'fancy, head_length=1.4, head_width=2'`\n",
    "* `'wedge, tail_width=.8, shrink_factor=.3'`\n",
    "* `'fancy'`\n",
    "\n",
    "At a minimum, you need to provide one of the names. It is not necessary to provide any of the attributes and if you do not, they will be assigned to their default value shown in the table above. Each arrow style has specific attributes and you can only use the ones made for it. For example, the 'fancy' arrow style has attributes 'head_length', 'head_width', and 'tail_width'. If you provide it 'angleA', you'll get an error. Let's use the arrowstyle `'-|>'` with the default settings."
   ]
  },
  {
   "cell_type": "code",
   "execution_count": null,
   "metadata": {},
   "outputs": [],
   "source": [
    "ax.clear()\n",
    "arrowprop_dict = {'arrowstyle': '-|>'}\n",
    "ax.annotate(text='Annotate point (.9, .9)', xytext=(.2, .2), xy=(.9, .9), \n",
    "            arrowprops=arrowprop_dict)\n",
    "fig"
   ]
  },
  {
   "cell_type": "markdown",
   "metadata": {},
   "source": [
    "The default settings for this arrow style are .4 and .2 for the `'head_length'` and `'head_width'` respectively. Let's increase both by modifying our arrowstyle string."
   ]
  },
  {
   "cell_type": "code",
   "execution_count": null,
   "metadata": {},
   "outputs": [],
   "source": [
    "ax.clear()\n",
    "arrowprop_dict = {'arrowstyle': '-|>, head_length=2, head_width=1'}\n",
    "ax.annotate(text='Annotate point (.9, .9)', xytext=(.2, .2), xy=(.9, .9), \n",
    "            arrowprops=arrowprop_dict)\n",
    "fig"
   ]
  },
  {
   "cell_type": "markdown",
   "metadata": {},
   "source": [
    "You might have noticed that the tail of the arrow is now centered right above the text, whereas before it was anchored at the top-right of the text. Regardless of the arrow style that you choose, the property `'relpos'` will be set to (.5, .5).  This is the relative position of the start of the arrow to the text. Think of a rectangular box around the text. The bottom left-hand and top right-hand corners have coordinates (0, 0) and (1, 1). Let's add this property to our `arrowprop_dict` changing it so that it begins more to the left and further up."
   ]
  },
  {
   "cell_type": "code",
   "execution_count": null,
   "metadata": {},
   "outputs": [],
   "source": [
    "ax.clear()\n",
    "arrowprop_dict = {'arrowstyle': '-|>, head_length=2, head_width=1',\n",
    "                  'relpos': (.1, 1.5)}\n",
    "ax.annotate(text='Annotate point (.9, .9)', xytext=(.2, .2), xy=(.9, .9), \n",
    "            arrowprops=arrowprop_dict)\n",
    "fig"
   ]
  },
  {
   "cell_type": "markdown",
   "metadata": {},
   "source": [
    "Another property that you might want to change is the `'connectionstyle'` which works similarly as arrowstyle. It controls the path that the arrow takes between the two points. Take a look at the table of connection styles below. You'll need to set this property to one of the names, followed by a comma separated list of attributes.\n",
    "\n",
    "| Name   | Attributes                                        |\n",
    "|:-------|:--------------------------------------------------|\n",
    "| angle  | angleA=90, angleB=0, rad=0.0                      |\n",
    "| angle3 | angleA=90, angleB=0                               |\n",
    "| arc    | angleA=0, angleB=0, armA=None, armB=None, rad=0.0 |\n",
    "| arc3   | rad=0.0                                           |\n",
    "| bar    | armA=0.0, armB=0.0, fraction=0.3, angle=None      |"
   ]
  },
  {
   "cell_type": "markdown",
   "metadata": {},
   "source": [
    "The 'arc3' connection style is one of the easiest to use since it has a single parameter, the radius of the arc. Let's change our arrow style and add this connection style."
   ]
  },
  {
   "cell_type": "code",
   "execution_count": null,
   "metadata": {},
   "outputs": [],
   "source": [
    "ax.clear()\n",
    "arrowprop_dict = {'arrowstyle': 'fancy, head_length=2, head_width=1, tail_width=1',\n",
    "                  'relpos': (.1, 1.5),\n",
    "                  'connectionstyle': 'arc3, rad=.2'}\n",
    "ax.annotate(text='Annotate point (.9, .9)', xytext=(.2, .2), xy=(.9, .9), \n",
    "            arrowprops=arrowprop_dict)\n",
    "fig"
   ]
  },
  {
   "cell_type": "markdown",
   "metadata": {},
   "source": [
    "We can also set generic properties such as `linewidth` or `lw`, `facecolor` or `fc`, and `edgecolor` or `ec` of the arrow. The linewidth corresponds to the width of the edge in points. Its color can be set with edgecolor. The facecolor is the color of the inner surface of the arrow. Below, we change each of these three properties."
   ]
  },
  {
   "cell_type": "code",
   "execution_count": null,
   "metadata": {
    "scrolled": true
   },
   "outputs": [],
   "source": [
    "ax.clear()\n",
    "arrowprop_dict = {'arrowstyle': 'fancy, head_length=2, head_width=1, tail_width=1',\n",
    "                  'relpos': (.1, 1.5),\n",
    "                  'connectionstyle': 'arc3, rad=.2',\n",
    "                  'lw': 2,  'ec': 'red', 'fc': 'white'}\n",
    "ax.annotate(text='Annotate point (.9, .9)', xytext=(.2, .2), xy=(.9, .9), \n",
    "            arrowprops=arrowprop_dict)\n",
    "fig"
   ]
  },
  {
   "cell_type": "markdown",
   "metadata": {},
   "source": [
    "## Exercises\n",
    "\n",
    "Create a new figure and axes for each exercise."
   ]
  },
  {
   "cell_type": "markdown",
   "metadata": {},
   "source": [
    "### Exercise 1\n",
    "\n",
    "<span style=\"color:green; font-size:16px\">Add the same text to the same location, but set the horizontal alignment of each so that they don't overlap.</span>"
   ]
  },
  {
   "cell_type": "code",
   "execution_count": null,
   "metadata": {},
   "outputs": [],
   "source": []
  },
  {
   "cell_type": "markdown",
   "metadata": {},
   "source": [
    "### Exercise 2\n",
    "\n",
    "<span style=\"color:green; font-size:16px\">Add text so that it is upside down. Use `fontweight` and `fontstyle` to make the text bold and italic.</span>"
   ]
  },
  {
   "cell_type": "code",
   "execution_count": null,
   "metadata": {},
   "outputs": [],
   "source": []
  },
  {
   "cell_type": "markdown",
   "metadata": {},
   "source": [
    "### Exercise 3\n",
    "\n",
    "<span style=\"color:green; font-size:16px\">Add a simple piece of text using no other parameters other than `x`, `y`, and `s`. Assign the result to a variable and then use the setter methods to set several properties.</span>"
   ]
  },
  {
   "cell_type": "code",
   "execution_count": null,
   "metadata": {},
   "outputs": [],
   "source": []
  },
  {
   "cell_type": "markdown",
   "metadata": {},
   "source": [
    "### Exercise 4\n",
    "\n",
    "<span style=\"color:green; font-size:16px\">Create three \"T's\" using `hlines` and `vlines` in different locations, each with a different color and line width.</span>"
   ]
  },
  {
   "cell_type": "code",
   "execution_count": null,
   "metadata": {},
   "outputs": [],
   "source": []
  },
  {
   "cell_type": "markdown",
   "metadata": {},
   "source": [
    "### Exercise 5\n",
    "\n",
    "<span style=\"color:green; font-size:16px\">Annotate a point with a double-headed arrow.</span>"
   ]
  },
  {
   "cell_type": "code",
   "execution_count": null,
   "metadata": {},
   "outputs": [],
   "source": []
  }
 ],
 "metadata": {
  "kernelspec": {
   "display_name": "Python 3 (ipykernel)",
   "language": "python",
   "name": "python3"
  },
  "language_info": {
   "codemirror_mode": {
    "name": "ipython",
    "version": 3
   },
   "file_extension": ".py",
   "mimetype": "text/x-python",
   "name": "python",
   "nbconvert_exporter": "python",
   "pygments_lexer": "ipython3",
   "version": "3.8.11"
  }
 },
 "nbformat": 4,
 "nbformat_minor": 2
}
