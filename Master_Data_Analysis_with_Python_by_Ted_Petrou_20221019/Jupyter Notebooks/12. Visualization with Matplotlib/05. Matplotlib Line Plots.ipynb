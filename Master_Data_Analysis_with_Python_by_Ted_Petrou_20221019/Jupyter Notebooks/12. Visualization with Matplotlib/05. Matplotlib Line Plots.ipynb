{
 "cells": [
  {
   "cell_type": "markdown",
   "metadata": {},
   "source": [
    "# Matplotlib Line Plots\n",
    "\n",
    "In this chapter, we will plot actual data with matplotlib line and scatter plots. Thus far, we have yet to do any data visualization. We've focused on understanding how to create the figure and axes, and how to change its properties using the object-oriented approach. We've also covered how to add straight lines, text, and patches, and how to choose colors for them. None of these plotting objects came from data. In this chapter, we will use our data that we previously analyzed within a pandas DataFrame to make data visualizations with matplotlib.\n",
    "\n",
    "## Axes API\n",
    "\n",
    "We'll continue to call methods from the axes object, but concentrate on those that plot data. It can be helpful to navigate to the [axes API page from matplotlib's official documentation][1] which contains around 300 different methods. The API page categorizes and groups each method by its functionality. In this chapter, we focus on the `plot` method from the [plotting section][2].\n",
    "\n",
    "### Plotting methods\n",
    "\n",
    "All of the plotting methods accept data as input, and add matplotlib objects to the axes. Each of the plotting methods returns the plotting object(s) which we can assign to a variable name.\n",
    "\n",
    "[1]: https://matplotlib.org/api/axes_api.html\n",
    "[2]: https://matplotlib.org/api/axes_api.html#plotting"
   ]
  },
  {
   "cell_type": "markdown",
   "metadata": {},
   "source": [
    "## Line plots with the `plot` method\n",
    "\n",
    "The `plot` method's primary purpose is to create line plots. It does have the ability to create scatter plots as well, but that task is best reserved for the `scatter` method. A more appropriate name for this method would have been `lineplot` as the name `plot` isn't descriptive. You'll have to make the association that `plot` really means line plot. All of the other plotting methods are descriptive of what kind of plot they actually create except this one.\n",
    "\n",
    "The `plot` method is very flexible and can take a variety of different inputs. Instead of covering all of the possible ways to use the `plot` method, a single, straightforward approach will be given. The first two arguments to the `plot` method are the x and y coordinates of the data.\n",
    "\n",
    "Below, a numpy array of the integers from -5 to 5 is created with the `arange` function. These values represent the  coordinates of our line. The squared values of this array are used as the y coordinates.  We call the `plot` method assigning the returned values to `line_plot_objects`. Each x-value is paired with its respective y-value. The points are connected with straight lines forming the image below."
   ]
  },
  {
   "cell_type": "code",
   "execution_count": null,
   "metadata": {},
   "outputs": [],
   "source": [
    "import pandas as pd\n",
    "import numpy as np\n",
    "import matplotlib.pyplot as plt\n",
    "plt.style.use('mdap.mplstyle')\n",
    "fig, ax = plt.subplots()\n",
    "x = np.arange(-5, 6)\n",
    "y = x ** 2\n",
    "line_plot_objects = ax.plot(x, y)"
   ]
  },
  {
   "cell_type": "markdown",
   "metadata": {},
   "source": [
    "### What was returned?\n",
    "\n",
    "The variable `line_plot_objects` was assigned the return value from the call to the `plot` method. Let's inspect this object and output its contents to the screen."
   ]
  },
  {
   "cell_type": "code",
   "execution_count": null,
   "metadata": {},
   "outputs": [],
   "source": [
    "line_plot_objects"
   ]
  },
  {
   "cell_type": "markdown",
   "metadata": {},
   "source": [
    "matplotlib returns a list of `Line2D` objects. The `plot` method can produce many lines in a single call to it, which is why it returns the results as a list and not as a single object. Let's verify that this returned object is a list."
   ]
  },
  {
   "cell_type": "code",
   "execution_count": null,
   "metadata": {},
   "outputs": [],
   "source": [
    "type(line_plot_objects)"
   ]
  },
  {
   "cell_type": "markdown",
   "metadata": {},
   "source": [
    "Let's assign its only item to a variable name and output its type."
   ]
  },
  {
   "cell_type": "code",
   "execution_count": null,
   "metadata": {},
   "outputs": [],
   "source": [
    "line = line_plot_objects[0]\n",
    "type(line)"
   ]
  },
  {
   "cell_type": "markdown",
   "metadata": {},
   "source": [
    "We now have access to our line, technically a `Line2D` object. Like all matplotlib objects, it has many properties, which can be accessed and changed with its getter and setter methods. We begin by getting the underlying data, which is returned as a tuple of numpy arrays."
   ]
  },
  {
   "cell_type": "code",
   "execution_count": null,
   "metadata": {},
   "outputs": [],
   "source": [
    "line.get_data()"
   ]
  },
  {
   "cell_type": "markdown",
   "metadata": {},
   "source": [
    "The color is retrieved as an RGB string."
   ]
  },
  {
   "cell_type": "code",
   "execution_count": null,
   "metadata": {},
   "outputs": [],
   "source": [
    "line.get_color()"
   ]
  },
  {
   "cell_type": "markdown",
   "metadata": {},
   "source": [
    "All lines default to a zorder of 2, which we verify below."
   ]
  },
  {
   "cell_type": "code",
   "execution_count": null,
   "metadata": {},
   "outputs": [],
   "source": [
    "line.get_zorder()"
   ]
  },
  {
   "cell_type": "markdown",
   "metadata": {},
   "source": [
    "The `Line2D` object is not all that important to understand and you will rarely use it directly to create lines. Instead, you'll be using methods like `plot`, `hlines`, `vlines` and others."
   ]
  },
  {
   "cell_type": "markdown",
   "metadata": {},
   "source": [
    "### Line properties\n",
    "\n",
    "The line properties that we've covered in previous chapters remain the same and all work when using the `plot` method.\n",
    "\n",
    "\n",
    "| Property                      | Possible Values                                                           |\n",
    "|-------------------------------|---------------------------------------------------------------------------|\n",
    "| `linewidth` or `lw`         | width of line in points       |\n",
    "| `linestyle` or `ls`          | `'solid'` or `'-'` (default), `'dashed'` or `'--'`, `'dotted'` or `':'`, `'dashdot'` or `'-.'`                                                 |\n",
    "| `color` or `c` | line color |\n",
    "| `alpha`         | 0 to 1 - opacity       |"
   ]
  },
  {
   "cell_type": "code",
   "execution_count": null,
   "metadata": {},
   "outputs": [],
   "source": [
    "fig, ax = plt.subplots()\n",
    "ax.plot(x, y, color='orange', alpha=.6, ls='--', lw=3);"
   ]
  },
  {
   "cell_type": "markdown",
   "metadata": {},
   "source": [
    "### Markers\n",
    "\n",
    "By default, the coordinates that describe the line have no special marker to denote their location. These coordinates can be visualized by providing one of a few dozen [marker styles][1] as a single character or digit. There are several other parameters available to control the marker appearance.\n",
    "\n",
    "* `marker` - style of marker with some examples below\n",
    "    * `'.'` - point\n",
    "    * `'o'` - circle\n",
    "    * `'s'` - square\n",
    "    * `'+'` - plus\n",
    "    * `6` - caret up\n",
    "* `markersize` or `ms` - size of marker in points\n",
    "* `markerfacecolor` or `mfc` - face color of marker\n",
    "* `markeredgecolor` or `mec` - edge color of marker\n",
    "* `markeredgewidth` or `mew` - edge width of marker in points\n",
    "\n",
    "We create another line plot using the same data adding square markers (denoted by 's'). The marker size, face color, edge color, and edge width are all set as well.\n",
    "\n",
    "[1]: https://matplotlib.org/api/markers_api.html"
   ]
  },
  {
   "cell_type": "code",
   "execution_count": null,
   "metadata": {},
   "outputs": [],
   "source": [
    "fig, ax = plt.subplots()\n",
    "ax.plot(x, y, color='darkred', lw=2, ls='--', \n",
    "        marker='s', ms=6, mfc='gold', mec='navy', mew=2);"
   ]
  },
  {
   "cell_type": "markdown",
   "metadata": {},
   "source": [
    "## Integration with pandas\n",
    "\n",
    "In the official documentation, the vast majority of examples use numpy arrays as inputs for the matplotlib plotting methods. Alternatively, matplotlib allows the use of pandas Series and DataFrames as inputs. There's even an alternative syntax that will be explained below that allows you to reference DataFrame columns by their string names. Let's begin with examples from the flights dataset."
   ]
  },
  {
   "cell_type": "code",
   "execution_count": null,
   "metadata": {},
   "outputs": [],
   "source": [
    "flights = pd.read_csv('../data/flights.csv', parse_dates=['date'])\n",
    "flights.head(3)"
   ]
  },
  {
   "cell_type": "markdown",
   "metadata": {},
   "source": [
    "### Average carrier delay per departure hour\n",
    "\n",
    "Let's run a calculation before plotting, such as finding the average carrier delay for each departure hour. First, we'll round down each departure time to the nearest hour by creating the column `dep_hour`."
   ]
  },
  {
   "cell_type": "code",
   "execution_count": null,
   "metadata": {},
   "outputs": [],
   "source": [
    "flights['dep_hour'] = flights['dep_time'] // 100\n",
    "flights['dep_hour'].head(3)"
   ]
  },
  {
   "cell_type": "markdown",
   "metadata": {},
   "source": [
    "We use this new column to calculate the average carrier delay per departure hour."
   ]
  },
  {
   "cell_type": "code",
   "execution_count": null,
   "metadata": {},
   "outputs": [],
   "source": [
    "avg_cd = flights.groupby('dep_hour').agg(avg_carrier_delay=('carrier_delay', 'mean'))\n",
    "avg_cd = avg_cd.reset_index()\n",
    "avg_cd.head(3)"
   ]
  },
  {
   "cell_type": "markdown",
   "metadata": {},
   "source": [
    "We'll now make a line plot placing the departure hour as the x-values and the average carrier delay as the y-values. We'll use the old syntax, passing the x and y data as pandas Series."
   ]
  },
  {
   "cell_type": "code",
   "execution_count": null,
   "metadata": {},
   "outputs": [],
   "source": [
    "fig, ax = plt.subplots()\n",
    "x = avg_cd['dep_hour']\n",
    "y = avg_cd['avg_carrier_delay']\n",
    "ax.plot(x, y)\n",
    "ax.set_title('Average carrier delay vs Departure hour');"
   ]
  },
  {
   "cell_type": "markdown",
   "metadata": {},
   "source": [
    "### Alternative syntax for plotting with DataFrames\n",
    "\n",
    "Most plotting methods have a `data` parameter that can be set to be a pandas DataFrame. Doing so allows you to use the column names as the x and y values. Creating a line plot from a DataFrame, `df`, with x-values in `col1` and y-values in `col2` has the following generic form:\n",
    "\n",
    "```python\n",
    "ax.plot(col1, col2, data=df)\n",
    "```\n",
    "\n",
    "We recreate the above plot using this alternative syntax."
   ]
  },
  {
   "cell_type": "code",
   "execution_count": null,
   "metadata": {},
   "outputs": [],
   "source": [
    "fig, ax = plt.subplots()\n",
    "ax.plot('dep_hour', 'avg_carrier_delay', data=avg_cd)\n",
    "ax.set_title('Average carrier delay vs Departure hour');"
   ]
  },
  {
   "cell_type": "markdown",
   "metadata": {},
   "source": [
    "### Plotting with strings\n",
    "\n",
    "In our above plots, both the x and y values were numeric. It's possible to create plots where either the x or the y values are strings. Let's create a line plot of the total number of flights for each airline. The x-values will be the string abbreviation of the airline with the number of flights as the y-values. Let's calculate this result with the `value_counts` methods."
   ]
  },
  {
   "cell_type": "code",
   "execution_count": null,
   "metadata": {},
   "outputs": [],
   "source": [
    "num_flights_series = flights['airline'].value_counts()\n",
    "num_flights_series.head(3)"
   ]
  },
  {
   "cell_type": "markdown",
   "metadata": {},
   "source": [
    "Let's convert this Series into a two-column DataFrame so that we can pass it to the `data` parameter."
   ]
  },
  {
   "cell_type": "code",
   "execution_count": null,
   "metadata": {},
   "outputs": [],
   "source": [
    "df = num_flights_series.reset_index()\n",
    "df.columns = ['airline', 'num_flights']\n",
    "df.head(3)"
   ]
  },
  {
   "cell_type": "markdown",
   "metadata": {},
   "source": [
    "The string column airline is used for the x-values in the line plot below."
   ]
  },
  {
   "cell_type": "code",
   "execution_count": null,
   "metadata": {},
   "outputs": [],
   "source": [
    "fig, ax = plt.subplots()\n",
    "ax.plot('airline', 'num_flights', data=df)\n",
    "ax.set_title('Number of flights by airline');"
   ]
  },
  {
   "cell_type": "markdown",
   "metadata": {},
   "source": [
    "matplotlib places the strings on the x-axis in the order that they appear in the DataFrame. It can be helpful to understand what is happening behind the x-axis. Each unique string value is mapped to an integer beginning with 0. Let's get the underlying x-values of the tick marks."
   ]
  },
  {
   "cell_type": "code",
   "execution_count": null,
   "metadata": {},
   "outputs": [],
   "source": [
    "ax.get_xticks()"
   ]
  },
  {
   "cell_type": "markdown",
   "metadata": {},
   "source": [
    "Normally, the labels for the tick marks are just the x-values themselves. When plotting strings, matplotlib uses those exact strings as the labels. Let's view a few of the underlying tick labels."
   ]
  },
  {
   "cell_type": "code",
   "execution_count": null,
   "metadata": {},
   "outputs": [],
   "source": [
    "list(ax.get_xticklabels())[:3]"
   ]
  },
  {
   "cell_type": "markdown",
   "metadata": {},
   "source": [
    "It's actually not necessary to convert the Series to a DataFrame. matplotlib uses the index values as the x-values in the plot. We pass the original Series computed from the `value_counts` method to the `plot` method as its only argument to produce the same plot as above."
   ]
  },
  {
   "cell_type": "code",
   "execution_count": null,
   "metadata": {},
   "outputs": [],
   "source": [
    "fig, ax = plt.subplots()\n",
    "ax.plot(num_flights_series)\n",
    "ax.set_title('Number of flights by airline');"
   ]
  },
  {
   "cell_type": "markdown",
   "metadata": {},
   "source": [
    "### Plotting multiple lines on the same axes\n",
    "\n",
    "You can plot as many distinct lines on an axes as you like by repeatedly calling the `plot` method. Let's return to creating lines with simple algebraic functions like we did in our first example. Below, three different sets of x and y values are created and then plotted."
   ]
  },
  {
   "cell_type": "code",
   "execution_count": null,
   "metadata": {},
   "outputs": [],
   "source": [
    "fig, ax = plt.subplots()\n",
    "x1 = np.arange(-5, 6)\n",
    "y1 = x1 ** 2\n",
    "x2 = np.arange(0, 10)\n",
    "y2 =  - x2 + 6\n",
    "x3 = np.arange(-6, 7)\n",
    "y3 = .2 * (x3 + 5) * (x3 - 2) * (x3 - 4)\n",
    "ax.plot(x1, y1)\n",
    "ax.plot(x2, y2)\n",
    "ax.plot(x3, y3);"
   ]
  },
  {
   "cell_type": "markdown",
   "metadata": {},
   "source": [
    "Even though we did not assign the result of any of these lines to a variable, we can still access them with the `lines` attribute, which is available to all axes objects, and returns a list of all the lines."
   ]
  },
  {
   "cell_type": "code",
   "execution_count": null,
   "metadata": {},
   "outputs": [],
   "source": [
    "ax.lines"
   ]
  },
  {
   "cell_type": "markdown",
   "metadata": {},
   "source": [
    "Notice how each of the lines above was plotted with a different color. This happened without any explicit setting of the `color` parameter. matplotlib is designed such that each new call to one of the plotting methods results in an object with a different color. This automatic selection of new colors is referred to as the **color cycle**."
   ]
  },
  {
   "cell_type": "markdown",
   "metadata": {},
   "source": [
    "## Color cycle\n",
    "\n",
    "By default, the color cycle is a list of 10 different colors. Each time a new plotting method is called without explicitly setting a color, the next color in the color cycle is chosen. In the plot below, 15 lines are created without specifying a color. Using the `text` method, the cycle number and RGB string are placed to the right of the line. Notice that the colors begin repeating at cycle number 10."
   ]
  },
  {
   "cell_type": "code",
   "execution_count": null,
   "metadata": {},
   "outputs": [],
   "source": [
    "fig, ax = plt.subplots(figsize=(5, 3))\n",
    "x = [0, .5]\n",
    "ax.set_xlim(0, 1)\n",
    "ax.set_title('The default color cycle')\n",
    "for i in range(15):\n",
    "    y = [i, i]\n",
    "    lines = ax.plot(x, y, lw=6)\n",
    "    color = lines[0].get_color()\n",
    "    ax.text(.55, i, s = f'cycle num {i} = {color}', fontsize=8, va='center')"
   ]
  },
  {
   "cell_type": "markdown",
   "metadata": {},
   "source": [
    "The default color cycle is the the **tab10** colormap, which comes directly from the data visualization company Tableau. Let's verify this by listing the RGB hexadecimal strings for each of the colors in tab10. We use the `to_hex` method from the `colors` module to convert each RGB float."
   ]
  },
  {
   "cell_type": "code",
   "execution_count": null,
   "metadata": {},
   "outputs": [],
   "source": [
    "from matplotlib import colors, cm\n",
    "print([colors.to_hex(cm.tab10(i)) for i in range(10)])"
   ]
  },
  {
   "cell_type": "markdown",
   "metadata": {},
   "source": [
    "### Changing the color cycle\n",
    "\n",
    "The color cycle of an axes can be changed with the `set_prop_cycle` method by setting the `color` parameter to a sequence of color values. Here, we retrieve every 10th value of the first 120 colors from the 'gist_earth' colormap for a total of 12 colors. These 12 colors are set as the new color cycle for this axes. The same 15 lines from above are produced below with the new color cycle. The color for line 12 is the same as line 0. The color cycle returns back to its default whenever a new axes is created."
   ]
  },
  {
   "cell_type": "code",
   "execution_count": null,
   "metadata": {},
   "outputs": [],
   "source": [
    "fig, ax = plt.subplots(figsize=(5, 3))\n",
    "x = [0, .5]\n",
    "new_cycle = cm.gist_earth(range(0, 120, 10))\n",
    "ax.set_prop_cycle(color=new_cycle)\n",
    "ax.set_xlim(0, 1)\n",
    "ax.set_title('The default color cycle')\n",
    "for i in range(15):\n",
    "    y = [i, i]\n",
    "    lines = ax.plot(x, y, lw=6)\n",
    "    color = colors.to_hex(lines[0].get_color())\n",
    "    ax.text(.55, i, s = f'cycle num {i} = {color}', fontsize=8, va='center')"
   ]
  },
  {
   "cell_type": "markdown",
   "metadata": {},
   "source": [
    "## More line plots\n",
    "\n",
    "Now that we understand the color cycle, let's get back to plotting multiple lines on the same axes. Using the flights dataset, let's find the number of flights every month for each of the top five busiest origin airports. We begin by creating a new column containing the first three letters of each month."
   ]
  },
  {
   "cell_type": "code",
   "execution_count": null,
   "metadata": {},
   "outputs": [],
   "source": [
    "flights['month_name'] = flights['date'].dt.month_name().str[:3]\n",
    "flights['month_name'].head(3)"
   ]
  },
  {
   "cell_type": "markdown",
   "metadata": {},
   "source": [
    "To help pandas sort the data appropriately, we can convert this column to an ordered categorical. First, we'll need the unique values of the months in order. Since the data is already ordered by date, the `drop_duplicates` method should return the sequence we want."
   ]
  },
  {
   "cell_type": "code",
   "execution_count": null,
   "metadata": {},
   "outputs": [],
   "source": [
    "months = flights['month_name'].drop_duplicates()\n",
    "months"
   ]
  },
  {
   "cell_type": "markdown",
   "metadata": {},
   "source": [
    "We can now make the conversion."
   ]
  },
  {
   "cell_type": "code",
   "execution_count": null,
   "metadata": {},
   "outputs": [],
   "source": [
    "cat_dtype = pd.CategoricalDtype(categories=months, ordered=True)\n",
    "flights['month_name'] = flights['month_name'].astype(cat_dtype)"
   ]
  },
  {
   "cell_type": "markdown",
   "metadata": {},
   "source": [
    "The top five origin airports are now found."
   ]
  },
  {
   "cell_type": "code",
   "execution_count": null,
   "metadata": {},
   "outputs": [],
   "source": [
    "top_5_origin = flights['origin'].value_counts().index[:5]\n",
    "top_5_origin"
   ]
  },
  {
   "cell_type": "markdown",
   "metadata": {},
   "source": [
    "We use the `query` method to filter our data to just these five airports and see that over 40,000 rows have been filtered out."
   ]
  },
  {
   "cell_type": "code",
   "execution_count": null,
   "metadata": {},
   "outputs": [],
   "source": [
    "flights_busy = flights.query('origin in @top_5_origin')\n",
    "len(flights) - len(flights_busy)"
   ]
  },
  {
   "cell_type": "markdown",
   "metadata": {},
   "source": [
    "We can now use the `crosstab` function to count all the flights for each month for every origin airport. Because the month names are ordered categoricals, they will remain in that order in the index."
   ]
  },
  {
   "cell_type": "code",
   "execution_count": null,
   "metadata": {},
   "outputs": [],
   "source": [
    "origin_flight_counts = pd.crosstab(index=flights_busy['month_name'], \n",
    "                                   columns=flights_busy['origin'])\n",
    "origin_flight_counts.head()"
   ]
  },
  {
   "cell_type": "markdown",
   "metadata": {},
   "source": [
    "Let's plot the first two columns as line plots by calling the `plot` method twice, passing it each column as a Series. "
   ]
  },
  {
   "cell_type": "code",
   "execution_count": null,
   "metadata": {},
   "outputs": [],
   "source": [
    "fig, ax = plt.subplots()\n",
    "atl = origin_flight_counts['ATL']\n",
    "bos = origin_flight_counts['BOS']\n",
    "ax.plot(atl)\n",
    "ax.plot(bos)\n",
    "ax.set_title('Flights originating from ATL and BOS');"
   ]
  },
  {
   "cell_type": "markdown",
   "metadata": {},
   "source": [
    "Each unique axes keeps track of where it is in the color cycle. The first plot on each axes is given the first color of the cycle. Let's add the next origin airport to the plot, which uses the next color in the cycle."
   ]
  },
  {
   "cell_type": "code",
   "execution_count": null,
   "metadata": {},
   "outputs": [],
   "source": [
    "lax = origin_flight_counts['LAX']\n",
    "ax.plot(lax)\n",
    "ax.set_title('Flights originating from ATL, BOS, and LAX')\n",
    "fig"
   ]
  },
  {
   "cell_type": "markdown",
   "metadata": {},
   "source": [
    "### Plotting DataFrames\n",
    "\n",
    "Instead of plotting one column at a time, you can pass the entire DataFrame to the `plot` method. Each column will be plotted as a separate line and use the index as its x-values."
   ]
  },
  {
   "cell_type": "code",
   "execution_count": null,
   "metadata": {},
   "outputs": [],
   "source": [
    "fig, ax = plt.subplots()\n",
    "ax.plot(origin_flight_counts)\n",
    "ax.set_title('Flights from top 5 origin airports for 2018');"
   ]
  },
  {
   "cell_type": "markdown",
   "metadata": {},
   "source": [
    "## Adding a legend\n",
    "\n",
    "It's impossible to determine the origin airport of each line just by looking at the plot. Legends are an important addition allowing you to label each object on the plot. matplotlib grants its users lots of power to create the exact legends they desire. Unfortunately, this extensive power is often difficult to use for beginners. In this section, we begin by creating legends with a simple, straightforward approach, slowly adding more complexity.\n",
    "\n",
    "### Simple legend with `label` parameter\n",
    "\n",
    "Every plotting method has a `label` parameter that can be set to a string to identify the particular objects produced from that method. Calling the `legend` axes method creates a legend with the string used as the `label`. Let's make the same three calls to the `plot` method as we did above, but use the `label` parameter to identify each line before calling the `legend` method with no arguments."
   ]
  },
  {
   "cell_type": "code",
   "execution_count": null,
   "metadata": {},
   "outputs": [],
   "source": [
    "fig, ax = plt.subplots()\n",
    "ax.plot(atl, label='ATL')\n",
    "ax.plot(bos, label='BOS')\n",
    "ax.plot(lax, label='LAX')\n",
    "ax.legend();"
   ]
  },
  {
   "cell_type": "markdown",
   "metadata": {},
   "source": [
    "Setting the `label` isn't enough for the legend to appear. You must call the `legend` method if you want to have a legend. If you call `legend` without having set any of the labels, then that particular object will not appear in the legend."
   ]
  },
  {
   "cell_type": "markdown",
   "metadata": {},
   "source": [
    "### Setting the labels in the `legend` method with a list\n",
    "\n",
    "The `legend` method has a huge number of parameters that can be set to control its appearance. It's not strictly necessary to set the `label` parameter within the plotting method. Alternatively, you can set the `labels` parameter of the `legend` method to a list of strings."
   ]
  },
  {
   "cell_type": "code",
   "execution_count": null,
   "metadata": {},
   "outputs": [],
   "source": [
    "fig, ax = plt.subplots()\n",
    "ax.plot(atl)\n",
    "ax.plot(bos)\n",
    "ax.plot(lax)\n",
    "labels=['Atlanta', 'Boston', 'Los Angeles']\n",
    "ax.legend(labels=labels);"
   ]
  },
  {
   "cell_type": "markdown",
   "metadata": {},
   "source": [
    "While this works, I prefer using the `label` parameter. With this method, you have to make sure that your labels are listed in the same order as the lines they reference. It's not quite as explicit as the previous method.\n",
    "\n",
    "### Labeling patches in the legend\n",
    "\n",
    "All patch constructors have the same `label` parameter that can be used to identify it in the legend. A circle and triangle are added to the axes with a legend to identify them."
   ]
  },
  {
   "cell_type": "code",
   "execution_count": null,
   "metadata": {},
   "outputs": [],
   "source": [
    "from matplotlib import patches\n",
    "fig, ax = plt.subplots()\n",
    "ax.set_aspect('equal')\n",
    "p1 = patches.Circle((.3, .4), radius=.2, color='green', label='green circle')\n",
    "p2 = patches.Polygon([[.6, .1], [.7, .4], [.9, .3]], \n",
    "                     color='purple', label='purple triangle')\n",
    "ax.add_patch(p1)\n",
    "ax.add_patch(p2)\n",
    "ax.legend();"
   ]
  },
  {
   "cell_type": "markdown",
   "metadata": {},
   "source": [
    "### Legends when plotting DataFrames\n",
    "\n",
    "We plotted all five origin airports with a single call to the `plot` method when passing it the DataFrame `origin_flight_counts` above. If we want to add a legend with a label for each line, we can't proceed as before since there is only a single plot method called which has a single `label` parameter. \n",
    "\n",
    "You might think that setting the `label` parameter to a list would allow you to label each line individually. This unfortunately does not work and shows the label of each line as the entire list as is seen below. Both Series and Index objects have a `tolist` method to make the conversion to a list."
   ]
  },
  {
   "cell_type": "code",
   "execution_count": null,
   "metadata": {},
   "outputs": [],
   "source": [
    "fig, ax = plt.subplots()\n",
    "origin_cols = origin_flight_counts.columns.tolist()\n",
    "ax.plot(origin_flight_counts, label=origin_cols)\n",
    "ax.legend();"
   ]
  },
  {
   "cell_type": "markdown",
   "metadata": {},
   "source": [
    "### Legend entries - handle, label pairs\n",
    "\n",
    "Before showing how to properly label the legend when plotting DataFrames, we'll need to cover more specifics of the legend itself. Every legend is composed of one or more **entries**. Each entry is composed of a **handle**, the colored marker on the left, and the **label**, the text to the right.\n",
    "\n",
    "For all of our examples thus far, matplotlib has created the legend handles for us, and we've provided the labels as strings. You can actually provide both the handles and the labels yourself. The handles must be a plotting object, but don't have to be part of the plot or have anything to do with the data. \n",
    "\n",
    "Here, three lines are added to the axes with the `plot` method and given a label. Three different patches that have nothing to do with the data, and are not added to the axes, are created and placed in a list. This list is passed to the `legend` method as the handles along with a list of strings for the labels. The handles and labels provided to the `legend` method override any handles and labels automatically generated from the plotting objects."
   ]
  },
  {
   "cell_type": "code",
   "execution_count": null,
   "metadata": {},
   "outputs": [],
   "source": [
    "fig, ax = plt.subplots()\n",
    "x = np.arange(10)\n",
    "ax.plot(x, x + 2, label='Line 1')\n",
    "ax.plot(x, x + 5, label='Line 2')\n",
    "ax.plot(x, x + 8, label='Line 3')\n",
    "\n",
    "# patches that are NOT added to the plot\n",
    "p1 = patches.Circle((0, 0), radius=10, color='.2')\n",
    "p2 = patches.Rectangle((5, -15), width=3, height=2, color='.5')\n",
    "p3 = patches.Polygon([[100, 50], [30, 40], [500, -300]], color='.8')\n",
    "handles = [p1, p2, p3]\n",
    "labels = ['orange', 'banana', 'mango']\n",
    "ax.legend(handles=handles, labels=labels);"
   ]
  },
  {
   "cell_type": "markdown",
   "metadata": {},
   "source": [
    "In order to create the legend properly when plotting multiple lines using a DataFrame, you'll need to assign the list of lines returned from the `plot` method to a variable and use them as the handles in the `legend` method. The list of column names can be used as the labels."
   ]
  },
  {
   "cell_type": "code",
   "execution_count": null,
   "metadata": {},
   "outputs": [],
   "source": [
    "fig, ax = plt.subplots()\n",
    "lines = ax.plot(origin_flight_counts)\n",
    "ax.legend(handles=lines, labels=origin_cols);"
   ]
  },
  {
   "cell_type": "markdown",
   "metadata": {},
   "source": [
    "### Moving the legend\n",
    "\n",
    "By default, matplotlib attempts to put the legend in the best possible location within the axes. You can specify the location of the legend by setting the `loc` parameter to a string combining a vertical (`'upper'`, `'center'`, `'lower'`) and horizontal (`'left'`, `'center'`, `'right'`) position. The string `'best'` is also a choice, but is the default. Let's move our legend to the upper left corner of the plot. Instead of creating a new figure, we'll just call the `legend` method again which replaces the current legend."
   ]
  },
  {
   "cell_type": "code",
   "execution_count": null,
   "metadata": {},
   "outputs": [],
   "source": [
    "ax.legend(handles=lines, labels=origin_cols, loc='upper left')\n",
    "fig"
   ]
  },
  {
   "cell_type": "markdown",
   "metadata": {},
   "source": [
    "You can also place the legend in a specific location by setting the `bbox_to_anchor` parameter to a two-item numeric tuple. This tuple defines coordinates where the legend will be 'anchored'. The coordinates to define this point are relative to the axes where 0 is the beginning of the x and y axis and 1 is the end of the x and y axis. The coordinate (0, 0) corresponds to the lower left corner of the plot, with (.5, .5) corresponding to the center. These units have nothing to do with the actual data. \n",
    "\n",
    "It's possible to place the legend outside of the plotting surface by specifying an x or y coordinate outside of the range 0 to 1. Below, we anchor the upper left corner of the legend to the point (1.03, .75) which is just to the right of the axes."
   ]
  },
  {
   "cell_type": "code",
   "execution_count": null,
   "metadata": {},
   "outputs": [],
   "source": [
    "ax.legend(handles=lines, labels=origin_cols, loc='upper left', bbox_to_anchor=(1.03, .75))\n",
    "fig"
   ]
  },
  {
   "cell_type": "markdown",
   "metadata": {},
   "source": [
    "Several more legend properties exist and are set below. Control the number of columns in the legend with `ncol` and the relative length of each marker with `handlelength` (which has default value of 2). The other parameters should be intuitive to understand. [Visit the documentation][0] to learn about all of the legend parameters.\n",
    "\n",
    "[0]: https://matplotlib.org/api/_as_gen/matplotlib.pyplot.legend.html"
   ]
  },
  {
   "cell_type": "code",
   "execution_count": null,
   "metadata": {},
   "outputs": [],
   "source": [
    "ax.legend(handles=lines, labels=origin_cols, loc='upper left', \n",
    "          bbox_to_anchor=(1.03, .75), title='Origin Airport', ncol=2, \n",
    "          facecolor='.8', handlelength=3, edgecolor='black', shadow=True)\n",
    "fig"
   ]
  },
  {
   "cell_type": "markdown",
   "metadata": {},
   "source": [
    "### Accessing the legend\n",
    "\n",
    "The legend object can be accessed by assigning the result of the call to the `legend` method to a variable or from the `legend_` axes attribute."
   ]
  },
  {
   "cell_type": "code",
   "execution_count": null,
   "metadata": {},
   "outputs": [],
   "source": [
    "legend = ax.legend_\n",
    "type(legend)"
   ]
  },
  {
   "cell_type": "markdown",
   "metadata": {},
   "source": [
    "We've seen that other groups of plotting objects are accessed with attributes that end in 's' such as `lines`, `collections`, `patches`, and `texts`. matplotlib only allows a single legend per axes, therefore the name `legends` wouldn't quite work, so the developers chose `legend_` instead. As usual, all of the properties can be retrieved and changed with the getter and setter methods."
   ]
  },
  {
   "cell_type": "markdown",
   "metadata": {},
   "source": [
    "## Exercises"
   ]
  },
  {
   "cell_type": "markdown",
   "metadata": {},
   "source": [
    "### Exercise 1\n",
    "\n",
    "<span style=\"color:green; font-size:16px\">Create line plots of the average sale price per every 100 square feet of living area, garage area, and basement area. Place markers at every point and add a legend.</span>"
   ]
  },
  {
   "cell_type": "code",
   "execution_count": null,
   "metadata": {},
   "outputs": [],
   "source": []
  },
  {
   "cell_type": "markdown",
   "metadata": {},
   "source": [
    "### Exercise 2 \n",
    "\n",
    "<span style=\"color:green; font-size:16px\">For every neighborhood that has at least 100 homes, find the average sale price by each overall quality between 3 and 8 (inclusive). Plot each neighborhood as a line with overall quality on the x-axis and sale price on the y-axis. Use one of the [qualitative colormaps][0] other than the default tab10. Add a legend inside the bounds of the axes that has a frame, a title, and all labels on one row.</span>\n",
    "\n",
    "[0]: https://matplotlib.org/tutorials/colors/colormaps.html"
   ]
  },
  {
   "cell_type": "code",
   "execution_count": null,
   "metadata": {},
   "outputs": [],
   "source": []
  }
 ],
 "metadata": {
  "kernelspec": {
   "display_name": "Python 3 (ipykernel)",
   "language": "python",
   "name": "python3"
  },
  "language_info": {
   "codemirror_mode": {
    "name": "ipython",
    "version": 3
   },
   "file_extension": ".py",
   "mimetype": "text/x-python",
   "name": "python",
   "nbconvert_exporter": "python",
   "pygments_lexer": "ipython3",
   "version": "3.8.11"
  },
  "varInspector": {
   "cols": {
    "lenName": 16,
    "lenType": 16,
    "lenVar": 40
   },
   "kernels_config": {
    "python": {
     "delete_cmd_postfix": "",
     "delete_cmd_prefix": "del ",
     "library": "var_list.py",
     "varRefreshCmd": "print(var_dic_list())"
    },
    "r": {
     "delete_cmd_postfix": ") ",
     "delete_cmd_prefix": "rm(",
     "library": "var_list.r",
     "varRefreshCmd": "cat(var_dic_list()) "
    }
   },
   "types_to_exclude": [
    "module",
    "function",
    "builtin_function_or_method",
    "instance",
    "_Feature"
   ],
   "window_display": false
  }
 },
 "nbformat": 4,
 "nbformat_minor": 2
}
