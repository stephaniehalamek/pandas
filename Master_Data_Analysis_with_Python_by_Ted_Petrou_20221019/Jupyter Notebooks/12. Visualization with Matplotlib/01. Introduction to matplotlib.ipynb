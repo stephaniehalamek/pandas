{
 "cells": [
  {
   "cell_type": "markdown",
   "metadata": {},
   "source": [
    "# Introduction to matplotlib\n",
    "\n",
    "matplotlib is a popular data visualization library in Python that can produce a wide variety of plots. It is often used in scientific publications and helped create one of the first ever images of a black hole (below) in April, 2019.\n",
    "\n",
    "As you have seen a few times in this book, pandas can create plots, so you might be wondering why we need to learn about a completely separate library. All of the default plots created with pandas are done internally with matplotlib. Whenever you create a plot with pandas, a matplotlib plotting object is returned. pandas can only create a fraction of the plots available to matplotlib.\n",
    "\n",
    "The major benefit of using pandas for visualization is that the plots are easier to create. The trade-off is that you won't have as much control as you do with matplotlib directly. We will eventually cover the pandas (and the seaborn) library for visualization in great deatail, but will begin with matplotlib.\n",
    "\n",
    "![0]\n",
    "\n",
    "## Two interfaces of matplotlib\n",
    "\n",
    "matplotlib was originally created by the late John Hunter in the early 2000's to mimic the plotting functionality of [Matlab][1], a popular scientific computing software application. In essence, it is a \"matlab-like plotting library\". One issue with porting a library from one language to another is that the idioms and practices that each language have are not often compatible. Python is usually programmed differently than matlab. \n",
    "\n",
    "Over the course of matplotlib's development, two separate ways to interface with matplotlib evolved. They are the **state-machine environment** and the **object-oriented** approach. The state-machine environment (known as **pyplot** from here on out) implicitly handles some of the plotting for you. \n",
    "\n",
    "The **object-oriented** approach gives you full control over each element of the plot and fits the style of how Python is usually developed. Most plots can be reproduced with either interface, but the object-oriented approach is explicit, and in my opinion, easier to determine what is happening.\n",
    "\n",
    "### Using only the object-oriented approach\n",
    "\n",
    "The chapters on matplotlib only use the object-oriented approach, as attempting to learn both at the start is not necessary and confusing. Many tutorials online use pyplot, so it is something that you might need to understand. Thankfully, much of the code between each approach looks quite similar when making a single plot.\n",
    "\n",
    "## Figure - Axes hierarchy\n",
    "\n",
    "There is an important hierarchy that must be understood when working with matplotlib. The highest and outermost part of a plot is the **figure**, which contains all of the other plotting elements. Typically, you do not interact with it much. Inside the figure are the **axes**. This is the actual plotting surface that you normally would refer to as a 'plot'. \n",
    "\n",
    "![2]\n",
    "\n",
    "A figure may contain any number of axes. An axes is a container for most of the plotting elements that get drawn onto your screen. This includes the x and y axis, lines, text, points, legends, images, and others.\n",
    "\n",
    "### Axes is a confusing word\n",
    "\n",
    "The term **axes** is not actually plural and does not mean more than one axis. It literally stands for a single 'plot'. It's unfortunate that this fundamental element has a name that is so confusing. I usually pronounce it \"axeez\" when I am teaching to help differentiate it from the word 'axis'.\n",
    "\n",
    "\n",
    "[0]: images/blackhole.png\n",
    "[1]: https://en.wikipedia.org/wiki/MATLAB\n",
    "[2]: images/fig_ax.png"
   ]
  },
  {
   "cell_type": "markdown",
   "metadata": {},
   "source": [
    "### Importing the pyplot module\n",
    "\n",
    "Importing matplotlib into your workspace is done a little differently than numpy or pandas. You rarely will import matplotlib itself directly like this:\n",
    "\n",
    "```python\n",
    "import matplotlib\n",
    "```\n",
    "\n",
    "The above is perfectly valid code, but the matplotlib developers decided not to put all the main functionality in the top level module. When you `import pandas as pd`, you get access to nearly all of the available functions and classes of the pandas library. This isn't true with matplotlib. Instead, much of the functionality for quickly plotting is found in the `pyplot` module. This is the module that we want to import into our workspace. There are dozens of other modules in the matplotlib library, some of which will be imported when needed. Let's import the pyplot module now and alias it as `plt`, which is done by convention."
   ]
  },
  {
   "cell_type": "code",
   "execution_count": null,
   "metadata": {},
   "outputs": [],
   "source": [
    "import matplotlib.pyplot as plt"
   ]
  },
  {
   "cell_type": "markdown",
   "metadata": {},
   "source": [
    "### Use pyplot to begin\n",
    "\n",
    "pyplot does provide lots of useful functions, one of which creates the figure and any number of axes that you desire. You can do this without pyplot, but it involves more syntax. It's also quite standard to begin the object-oriented approach by laying out the figure and axes first with pyplot and then proceed by calling methods from these objects.\n",
    "\n",
    "### Use the `subplots` function\n",
    "\n",
    "The pyplot `subplots` function creates a single figure and any number of axes. If you call it with the default arguments, a single axes is created within a figure. \n",
    "\n",
    "### Unpack the `subplots` tuple\n",
    "\n",
    "The `subplots` function returns a two-item tuple containing the figure and the axes. We unpack each of these objects as their own variable."
   ]
  },
  {
   "cell_type": "code",
   "execution_count": null,
   "metadata": {},
   "outputs": [],
   "source": [
    "fig, ax = plt.subplots()"
   ]
  },
  {
   "cell_type": "markdown",
   "metadata": {},
   "source": [
    "### Verify the returned types of the `subplots` function\n",
    "\n",
    "Let's verify that we indeed have a figure and axes."
   ]
  },
  {
   "cell_type": "code",
   "execution_count": null,
   "metadata": {},
   "outputs": [],
   "source": [
    "type(fig)"
   ]
  },
  {
   "cell_type": "code",
   "execution_count": null,
   "metadata": {},
   "outputs": [],
   "source": [
    "type(ax)"
   ]
  },
  {
   "cell_type": "markdown",
   "metadata": {},
   "source": [
    "### Distinguishing the figure from the axes\n",
    "\n",
    "It's not obvious from looking at the image which part is the figure and which is the axes. To help distinguish the figure from the axes, we will set the 'facecolor' (background color) of each to a different color. Both objects have a `set_facecolor` method, which will be passed a named color called in an object-oriented fashion. Colors will be covered in greater detail in an upcoming chapter."
   ]
  },
  {
   "cell_type": "code",
   "execution_count": null,
   "metadata": {},
   "outputs": [],
   "source": [
    "fig.set_facecolor('skyblue')\n",
    "ax.set_facecolor('sandybrown')"
   ]
  },
  {
   "cell_type": "markdown",
   "metadata": {},
   "source": [
    "### Where is the figure?\n",
    "\n",
    "When using the object-oriented approach, you need to place the figure variable name as the last line in a cell to view it in the notebook. This should now hopefully distinguish the figure from the axes."
   ]
  },
  {
   "cell_type": "code",
   "execution_count": null,
   "metadata": {},
   "outputs": [],
   "source": [
    "fig"
   ]
  },
  {
   "cell_type": "markdown",
   "metadata": {},
   "source": [
    "### Why is there no assignment statement?\n",
    "\n",
    "Notice, that the two calls above to the `set_facecolor` method were made without an assignment statement. Both of these operations happened **in-place**. The calling figure and axes objects were updated without a new one getting created.\n",
    "\n",
    "### Can only view the entire figure not the axes\n",
    "\n",
    "You cannot view an axes independent of a figure. Running a cell with the axes variable name as the last line will simply output a default representation of the object. You can only view a figure in the notebook."
   ]
  },
  {
   "cell_type": "code",
   "execution_count": null,
   "metadata": {},
   "outputs": [],
   "source": [
    "ax"
   ]
  },
  {
   "cell_type": "markdown",
   "metadata": {},
   "source": [
    "## Setting the size of the figure upon creation\n",
    "\n",
    "By default, all figures in a Jupyter Notebook have a width of 6 inches and a height of 4 inches. If you are working in a Jupyter Notebook, you'll probably notice that the size of the figure on your screen isn't actually 6 inches by 4 inches. A deeper discussion on what these \"inches\" really mean can be found in the upcoming chapter, \"Matplotlib Resolution\". For now, think of these two numbers as the relative width and height of the figure.\n",
    "\n",
    "We can change the dimensions of the figure when creating it by setting the `figsize` parameter to a two-item tuple of the width and height of the figure. Below, we create a figure with a width of 40 inches and height of 8 inches. Notebooks will always scale down the figure so that it fits in the output area."
   ]
  },
  {
   "cell_type": "code",
   "execution_count": null,
   "metadata": {},
   "outputs": [],
   "source": [
    "fig, ax = plt.subplots(figsize=(40, 8))\n",
    "fig.set_facecolor('skyblue')\n",
    "ax.set_facecolor('sandybrown')"
   ]
  },
  {
   "cell_type": "markdown",
   "metadata": {},
   "source": [
    "Let's create one more figure and axes with dimensions of 4 by 2 and a dots-per-inch (DPI) of 144. The DPI is the number of pixels created per inch and will be discussed in detail in the 'Matplotlib Resolution' chapter. For now, think it of as increasing the sharpness of the image. \n",
    "\n",
    "You can also set the face color for the figure in the `subplots` function. Notice that the tick labels of the image below are much larger than the image above. Each tick label has a default font size that does not depend on the width of the image. The tick labels above appear very small above because they are relative to a figure that has a width of 40. These same tick labels appear larger in the plot below because the width is 4."
   ]
  },
  {
   "cell_type": "code",
   "execution_count": null,
   "metadata": {
    "scrolled": false
   },
   "outputs": [],
   "source": [
    "fig, ax = plt.subplots(figsize=(4, 2), facecolor='skyblue', dpi=144)\n",
    "ax.set_facecolor('sandybrown')"
   ]
  },
  {
   "cell_type": "markdown",
   "metadata": {},
   "source": [
    "### Began the Object-Oriented Approach\n",
    "\n",
    "Both calls to the `set_facecolor` method demonstrated the object-oriented approach to matplotlib. With this approach, every plotting object that is created may be manipulated by calling its methods.\n",
    "\n",
    "As we will see, everything on our plot is a separate object. Each axis, tick mark, tick label, axis label, plot title, line, and many others are separate objects. Each of these objects may be explicitly referenced and assigned to a variable name. Once we have a reference to a particular object, we can then modify it by calling its methods. Thus far we have two references, `fig` and `ax`. \n",
    "\n",
    "## Axes methods\n",
    "\n",
    "Even though we've called both figure and axes methods, it is far more common to call axes methods. It is the axes that contains most of the plotting methods and is the object you will interact with most frequently. The figure is analogous to the frame of a picture. It plays a role, but isn't the main attraction. The bulk of the visualization commands will come from the axes. We'll now begin our exploration of the many axes methods.\n",
    "\n",
    "### Getter and setter methods\n",
    "\n",
    "Many axes methods begin with either `get_` or `set_` followed by the part of the axes that will get retrieved or modified. These kinds of methods are often referred to as 'getter' and 'setter' methods. The following list shows several of the most common properties that can be set on our axes. We will see examples of each one below.\n",
    "\n",
    "* `title`\n",
    "* `xlabel`/`ylabel`\n",
    "* `xlim`/`ylim`\n",
    "* `xticks`/`yticks`\n",
    "* `xticklabels`/`yticklabels`"
   ]
  },
  {
   "cell_type": "markdown",
   "metadata": {},
   "source": [
    "### Getting and setting the title of the axes\n",
    "\n",
    "The `get_title` method returns the title of the axes as a string. There is no title at this moment, so an empty string is returned."
   ]
  },
  {
   "cell_type": "code",
   "execution_count": null,
   "metadata": {},
   "outputs": [],
   "source": [
    "ax.get_title()"
   ]
  },
  {
   "cell_type": "markdown",
   "metadata": {},
   "source": [
    "The `set_title` method places a centered title on our axes when passing it a string. Notice that a matplotlib Text object has been returned in the output area. This will be discussed later."
   ]
  },
  {
   "cell_type": "code",
   "execution_count": null,
   "metadata": {},
   "outputs": [],
   "source": [
    "ax.set_title('My First Matplotlib Graph')"
   ]
  },
  {
   "cell_type": "markdown",
   "metadata": {},
   "source": [
    "Again, the figure variable name must be placed as the last line in a cell to show in the notebook."
   ]
  },
  {
   "cell_type": "code",
   "execution_count": null,
   "metadata": {},
   "outputs": [],
   "source": [
    "fig"
   ]
  },
  {
   "cell_type": "markdown",
   "metadata": {},
   "source": [
    "Running the `get_title` method again returns the string that was just set as the title."
   ]
  },
  {
   "cell_type": "code",
   "execution_count": null,
   "metadata": {},
   "outputs": [],
   "source": [
    "ax.get_title()"
   ]
  },
  {
   "cell_type": "markdown",
   "metadata": {},
   "source": [
    "### Getting and setting the labels for the x and y axis\n",
    "\n",
    "The x and y axis can each be labeled with a single string. By default, there are no x and y axis labels and using their getter methods returns an empty string."
   ]
  },
  {
   "cell_type": "code",
   "execution_count": null,
   "metadata": {},
   "outputs": [],
   "source": [
    "ax.get_xlabel()"
   ]
  },
  {
   "cell_type": "code",
   "execution_count": null,
   "metadata": {},
   "outputs": [],
   "source": [
    "ax.get_ylabel()"
   ]
  },
  {
   "cell_type": "markdown",
   "metadata": {},
   "source": [
    "We can provide labels for both the x and y axis using the `set_xlabel` and `set_ylabel` commands. We set both labels in the same cell and output the figure."
   ]
  },
  {
   "cell_type": "code",
   "execution_count": null,
   "metadata": {},
   "outputs": [],
   "source": [
    "ax.set_xlabel('X Axis')\n",
    "ax.set_ylabel('Y Axis')\n",
    "fig"
   ]
  },
  {
   "cell_type": "markdown",
   "metadata": {},
   "source": [
    "Let's verify that the getter axis labels work."
   ]
  },
  {
   "cell_type": "code",
   "execution_count": null,
   "metadata": {},
   "outputs": [],
   "source": [
    "ax.get_xlabel()"
   ]
  },
  {
   "cell_type": "code",
   "execution_count": null,
   "metadata": {},
   "outputs": [],
   "source": [
    "ax.get_ylabel()"
   ]
  },
  {
   "cell_type": "markdown",
   "metadata": {},
   "source": [
    "### Getting and setting the x and y limits\n",
    "\n",
    "By default, the limits of both the x and y axis begin at 0 and end at 1. Let's verify this with the `get_xlim` and `get_ylim` methods, which return a tuple of the limits."
   ]
  },
  {
   "cell_type": "code",
   "execution_count": null,
   "metadata": {},
   "outputs": [],
   "source": [
    "ax.get_xlim()"
   ]
  },
  {
   "cell_type": "code",
   "execution_count": null,
   "metadata": {},
   "outputs": [],
   "source": [
    "ax.get_ylim()"
   ]
  },
  {
   "cell_type": "markdown",
   "metadata": {},
   "source": [
    "We can change these limits with the `set_xlim` and `set_ylim` methods by passing them a new lower and upper boundary as the first two arguments. Notice that the size of the figure remains the same. Only the limits of the x and y axis have changed."
   ]
  },
  {
   "cell_type": "code",
   "execution_count": null,
   "metadata": {},
   "outputs": [],
   "source": [
    "ax.set_xlim(0, 5)\n",
    "ax.set_ylim(-20, 60, auto=True)\n",
    "fig"
   ]
  },
  {
   "cell_type": "markdown",
   "metadata": {},
   "source": [
    "### Getting and setting the location of the x and y ticks\n",
    "\n",
    "In the graph above, ticks are placed every 1 unit along the x-axis and every 20 units along the y-axis. matplotlib chooses reasonable default locations for the ticks. Retrieve the location of these ticks with the `get_xticks` and `get_yticks` methods."
   ]
  },
  {
   "cell_type": "code",
   "execution_count": null,
   "metadata": {},
   "outputs": [],
   "source": [
    "ax.get_xticks()"
   ]
  },
  {
   "cell_type": "code",
   "execution_count": null,
   "metadata": {},
   "outputs": [],
   "source": [
    "ax.get_yticks()"
   ]
  },
  {
   "cell_type": "markdown",
   "metadata": {},
   "source": [
    "The tick locations are returned as numpy arrays. We can specify the exact location of the x and y ticks with the `set_xticks` and `set_yticks` methods. We pass them a list of numbers indicating where we want the ticks. When we set the y-ticks we use a number outside of the current bounds of the axis. This forces matplotlib to change the limits."
   ]
  },
  {
   "cell_type": "code",
   "execution_count": null,
   "metadata": {},
   "outputs": [],
   "source": [
    "ax.set_xticks([1.8, 3.44, 4.4])\n",
    "ax.set_yticks([-99, -29, -1, 22, 44])\n",
    "fig"
   ]
  },
  {
   "cell_type": "markdown",
   "metadata": {},
   "source": [
    "Let's verify that the y-axis limits have indeed changed and that the x-axis limits have not."
   ]
  },
  {
   "cell_type": "code",
   "execution_count": null,
   "metadata": {},
   "outputs": [],
   "source": [
    "ax.get_xlim()"
   ]
  },
  {
   "cell_type": "code",
   "execution_count": null,
   "metadata": {},
   "outputs": [],
   "source": [
    "ax.get_ylim()"
   ]
  },
  {
   "cell_type": "markdown",
   "metadata": {},
   "source": [
    "### Getting and setting the x and y tick labels\n",
    "\n",
    "matplotlib has separate objects for the tick labels, which are the values printed directly below each tick location. The current tick labels for the x-axis and y-axis are the same as the tick locations. Let's view them with the `get_xticklabels` method."
   ]
  },
  {
   "cell_type": "code",
   "execution_count": null,
   "metadata": {},
   "outputs": [],
   "source": [
    "ax.get_xticklabels()"
   ]
  },
  {
   "cell_type": "markdown",
   "metadata": {},
   "source": [
    "Pass the `set_xticklabels` and `set_yticklabels` methods a list of values (which can be strings) to use as the new labels."
   ]
  },
  {
   "cell_type": "code",
   "execution_count": null,
   "metadata": {},
   "outputs": [],
   "source": [
    "ax.set_xticklabels(['dog', 'cat', 'snake'])\n",
    "ax.set_yticklabels(['Texas', 'Oklahoma', 'Alabama', 'Arkansas', 'Florida'])\n",
    "fig"
   ]
  },
  {
   "cell_type": "markdown",
   "metadata": {},
   "source": [
    "Retrieve both the x and y tick labels."
   ]
  },
  {
   "cell_type": "code",
   "execution_count": null,
   "metadata": {},
   "outputs": [],
   "source": [
    "ax.get_xticklabels()"
   ]
  },
  {
   "cell_type": "code",
   "execution_count": null,
   "metadata": {},
   "outputs": [],
   "source": [
    "ax.get_yticklabels()"
   ]
  },
  {
   "cell_type": "markdown",
   "metadata": {},
   "source": [
    "### The difference between the tick locations and labels\n",
    "\n",
    "The tick locations are a completely separate concept than the tick labels. The tick locations are always numeric and determine where on the axis the tick marks appear. The tick labels, on the other hand, are the strings that are used on the graph. By default, the tick labels are just the string version of the numeric tick location, but you can set them to be any value you want, as we did above."
   ]
  },
  {
   "cell_type": "markdown",
   "metadata": {},
   "source": [
    "### Styling text\n",
    "\n",
    "All of the text we placed on our plot used the default matplotlib styling. There are many different parameters that we can set to customize the appearance of our text with some of the most common below. To view all of the options, [visit the text tutorial in the documentation][1]. Notice that most of these properties have aliases. Below, we use some of these properties when setting the title.\n",
    "\n",
    "| Property                      | Possible Values                                                           |\n",
    "|-------------------------------|---------------------------------------------------------------------------|\n",
    "| `fontsize` or `size`          | integer in \"points\" where 1 point is defaulted to 1/72nd of an inch       |\n",
    "| `fontname` or `name`          | name of font as a string                                                  |\n",
    "| `fontweight` or `weight`      | `'normal'`, `'bold'`, `'heavy'`, `'light'`, `'ultrabold'`, `'ultralight'` |\n",
    "| `fontstyle` or `style`      | `'normal'`, `'italic'`, `'oblique'`|\n",
    "| `color` or `c`                | text color                                                                |\n",
    "| `backgroundcolor`             | color of rectangular background of text                                   |\n",
    "| `horizontalalignment` or `ha` | `'left'`, `'center'`, `'right'`                              |\n",
    "| `verticalalignment` or `va`   | `'center'`, `'top'`, `'bottom'`, `'baseline'`                             |\n",
    "| `rotation`                    | degree of rotation                                                        |\n",
    "\n",
    "[1]: https://matplotlib.org/tutorials/text/text_props.html"
   ]
  },
  {
   "cell_type": "code",
   "execution_count": null,
   "metadata": {
    "scrolled": false
   },
   "outputs": [],
   "source": [
    "ax.set_title('Tests', fontsize=15, fontname='Verdana', fontweight='bold',\n",
    "             color='firebrick', backgroundcolor='steelblue', rotation=10)\n",
    "fig"
   ]
  },
  {
   "cell_type": "markdown",
   "metadata": {},
   "source": [
    "Any other text may be stylized with those same parameters. Below we do so with the x-label."
   ]
  },
  {
   "cell_type": "code",
   "execution_count": null,
   "metadata": {},
   "outputs": [],
   "source": [
    "ax.set_xlabel('New and Imporved X-Axis Stylized Label', fontsize=10,\n",
    "              color='indigo', fontname='Times New Roman', rotation=-5)\n",
    "fig"
   ]
  },
  {
   "cell_type": "markdown",
   "metadata": {},
   "source": [
    "## Change tick label and tick line properties with `tick_params`\n",
    "\n",
    "The `tick_params` method sets properties for both the tick labels and tick lines. Although it does not have the word \"set\" in its name, it is a setter method.\n",
    "\n",
    "We just saw how the `set_xticklabels` and `set_yticklabels` methods can set the string values of the tick labels. They can also change the text style of those labels. However, the `tick_params` method has the ability to set some of those properties plus a few more. It also sets properties of the tick lines.\n",
    "\n",
    "### Changing tick label properties\n",
    "\n",
    "We'll begin using `tick_params` to change tick label properties. First, set the `axis` parameter to the string `'x'`, `'y'`, or `'both'` to select which labels to change. The parameters beginning with 'label' change the tick labels, all of which are listed below.\n",
    "\n",
    "* `labelsize`, `labelrotation`, `labelcolor` - change label size, degree of rotation, and color\n",
    "* `labelleft`, `labelright`, `labelbottom`, `labeltop` - boolean to control whether labels are visible on specific sides of the axes\n",
    "\n",
    "Here, we then use `tick_params` to change properties of the y-axis labels."
   ]
  },
  {
   "cell_type": "code",
   "execution_count": null,
   "metadata": {},
   "outputs": [],
   "source": [
    "ax.tick_params(axis='y', labelleft=False, labelright=True, labelsize=8,\n",
    "               labelrotation=-15, labelcolor='red')\n",
    "fig"
   ]
  },
  {
   "cell_type": "markdown",
   "metadata": {},
   "source": [
    "### Changing tick line properties\n",
    "\n",
    "The tick lines are the tiny lines on each axis that denote the tick locations and point to the tick labels. There exists a `get_xticklines` method, but no `set_xticklines` to change them. Instead, use the `tick_params` method to set the properties on the lines themselves. Some of its parameters are:\n",
    "\n",
    "* `length` - length of tick line in points\n",
    "* `width` - width of tick line in points\n",
    "* `pad` - distance in points of tick label from tick line\n",
    "* `direction` - 'in', 'out', or 'inout'\n",
    "* `top`, `bottom`, `left`, `right` - boolean corresponding to the top/bottom x-axis and left/right y-axis that determines whether ticks are visible."
   ]
  },
  {
   "cell_type": "code",
   "execution_count": null,
   "metadata": {},
   "outputs": [],
   "source": [
    "ax.tick_params(axis='x', color='gold', length=15, width=6,\n",
    "               pad=10, direction='inout', top=True, right=True)\n",
    "fig"
   ]
  },
  {
   "cell_type": "markdown",
   "metadata": {},
   "source": [
    "## Setting multiple properties at the same time with `set`\n",
    "\n",
    "Most matplotlib objects have a `set` method that can be used to set many properties at once in a single line of code. Use the property name as the parameter name and set it equal to teh value you would like. Here, we set the title, face color, x-axis limits, and y-axis label at once."
   ]
  },
  {
   "cell_type": "code",
   "execution_count": null,
   "metadata": {},
   "outputs": [],
   "source": [
    "fig, ax = plt.subplots(figsize=(4, 2), facecolor='skyblue', dpi=144)\n",
    "ax.set(title='Some title', facecolor='tan', xlim=(-5, 3), ylabel='mpl');"
   ]
  },
  {
   "cell_type": "markdown",
   "metadata": {},
   "source": [
    "## Exercises"
   ]
  },
  {
   "cell_type": "markdown",
   "metadata": {},
   "source": [
    "### Exercise 1\n",
    "\n",
    "<span style=\"color:green; font-size:16px\">Create a figure with dimensions 5 inches by 3 inches with 144 DPI containing a single axes. Set the facecolor of the figure and the axes. Set a title and labels for the x and y axis. Set three ticks on the y-axis, and two on the x-axis. Give the three ticks on the y-axis a new string label. Change the limits of the x-axis and y-axis so they are larger than the minimum and maximum tick values. Change the size, shape, and color of the y-axis tick lines. Increase the size of the x tick labels and rotate them.</span>"
   ]
  },
  {
   "cell_type": "code",
   "execution_count": null,
   "metadata": {},
   "outputs": [],
   "source": []
  }
 ],
 "metadata": {
  "kernelspec": {
   "display_name": "Python 3 (ipykernel)",
   "language": "python",
   "name": "python3"
  },
  "language_info": {
   "codemirror_mode": {
    "name": "ipython",
    "version": 3
   },
   "file_extension": ".py",
   "mimetype": "text/x-python",
   "name": "python",
   "nbconvert_exporter": "python",
   "pygments_lexer": "ipython3",
   "version": "3.8.11"
  },
  "varInspector": {
   "cols": {
    "lenName": 16,
    "lenType": 16,
    "lenVar": 40
   },
   "kernels_config": {
    "python": {
     "delete_cmd_postfix": "",
     "delete_cmd_prefix": "del ",
     "library": "var_list.py",
     "varRefreshCmd": "print(var_dic_list())"
    },
    "r": {
     "delete_cmd_postfix": ") ",
     "delete_cmd_prefix": "rm(",
     "library": "var_list.r",
     "varRefreshCmd": "cat(var_dic_list()) "
    }
   },
   "types_to_exclude": [
    "module",
    "function",
    "builtin_function_or_method",
    "instance",
    "_Feature"
   ],
   "window_display": false
  }
 },
 "nbformat": 4,
 "nbformat_minor": 2
}
