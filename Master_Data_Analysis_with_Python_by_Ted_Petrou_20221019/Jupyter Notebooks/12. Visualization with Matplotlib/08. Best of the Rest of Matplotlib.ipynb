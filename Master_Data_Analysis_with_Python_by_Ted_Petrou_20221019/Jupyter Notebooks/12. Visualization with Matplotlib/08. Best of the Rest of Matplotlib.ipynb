{
 "cells": [
  {
   "cell_type": "markdown",
   "metadata": {},
   "source": [
    "# Best of the Rest of Matplotlib\n",
    "\n",
    "matplotlib is an enormous library with tremendous capabilities to visualize almost anything. The previous chapters helped lay a strong foundation to help you understand the most fundamental concepts of matplotlib that arise nearly every time you use it. In this chapter, many more useful concepts will be covered."
   ]
  },
  {
   "cell_type": "markdown",
   "metadata": {},
   "source": [
    "## Axes spines\n",
    "\n",
    "Each of the four sides of the rectangular axes border are known collectively as **spines** and can be accessed individually through the `spines` attribute. Each spine is like a line in which you can control it's color, width, and style. Let's begin by creating a scatter plot of sale price versus living area from our housing data."
   ]
  },
  {
   "cell_type": "code",
   "execution_count": null,
   "metadata": {},
   "outputs": [],
   "source": [
    "import pandas as pd\n",
    "import numpy as np\n",
    "import matplotlib.pyplot as plt\n",
    "plt.style.use('mdap.mplstyle')\n",
    "housing = pd.read_csv('../data/housing.csv')\n",
    "fig, ax = plt.subplots(figsize=(6, 2))\n",
    "ax.scatter('GrLivArea', 'SalePrice', data=housing, s=8, alpha=.6)\n",
    "ax.set_title('Sale Price vs Living Area')\n",
    "ax.set_xlabel('Living Area')\n",
    "ax.set_ylabel('Sale Price');"
   ]
  },
  {
   "cell_type": "markdown",
   "metadata": {},
   "source": [
    "The spines are stored as an ordered dictionary with their position as the keys."
   ]
  },
  {
   "cell_type": "code",
   "execution_count": null,
   "metadata": {},
   "outputs": [],
   "source": [
    "ax.spines"
   ]
  },
  {
   "cell_type": "markdown",
   "metadata": {},
   "source": [
    "Here, the top spine is selected and several of its properties are changed with its setter methods."
   ]
  },
  {
   "cell_type": "code",
   "execution_count": null,
   "metadata": {},
   "outputs": [],
   "source": [
    "top_spine = ax.spines['top']\n",
    "top_spine.set_color('crimson')\n",
    "top_spine.set_alpha(.5)\n",
    "top_spine.set_lw(5)\n",
    "top_spine.set_ls('--')\n",
    "fig"
   ]
  },
  {
   "cell_type": "markdown",
   "metadata": {},
   "source": [
    "### Making spines invisible\n",
    "\n",
    "All matplotlib objects can be toggled between visible and invisible with the `set_visible` method, which takes a boolean. This is different from the `remove` method, which completely removes objects from the axes. The object still exists when it is made invisible. The seaborn library, which uses matplotlib, often removes spines for its plots. Let's do the same by making them invisible."
   ]
  },
  {
   "cell_type": "code",
   "execution_count": null,
   "metadata": {},
   "outputs": [],
   "source": [
    "top_spine.set_visible(False)\n",
    "ax.spines['right'].set_visible(False)\n",
    "fig"
   ]
  },
  {
   "cell_type": "markdown",
   "metadata": {},
   "source": [
    "## The `xaxis` and `yaxis` objects\n",
    "\n",
    "Nearly all of our methods thus far have been called from axes objects. There are two other objects within the axes, the `xaxis` and `yaxis`, that allow for a little more customization not available directly from the axes. These two objects provide the ability to make changes to the axis labels, tick locations, tick lines, and tick labels. Most of this functionality is already provided by the axes methods, so it's rare that you'll access these objects. However, there are some methods that provide unique functionality not available from axes methods. It's important to note that the `xaxis` and `yaxis` objects have nothing to do with the axes spines. Let's access the `xaxis` object as an attribute."
   ]
  },
  {
   "cell_type": "code",
   "execution_count": null,
   "metadata": {},
   "outputs": [],
   "source": [
    "ax.xaxis"
   ]
  },
  {
   "cell_type": "markdown",
   "metadata": {},
   "source": [
    "### Overlapping methods\n",
    "\n",
    "The majority of methods available to both these objects have nearly identical counterparts in the axes with nearly the same name. Below, we get the location and labels of the ticks, and the axis labels using both the axis and axes methods."
   ]
  },
  {
   "cell_type": "code",
   "execution_count": null,
   "metadata": {},
   "outputs": [],
   "source": [
    "ax.xaxis.get_ticklocs()"
   ]
  },
  {
   "cell_type": "code",
   "execution_count": null,
   "metadata": {},
   "outputs": [],
   "source": [
    "ax.get_xticks()"
   ]
  },
  {
   "cell_type": "code",
   "execution_count": null,
   "metadata": {},
   "outputs": [],
   "source": [
    "list(ax.xaxis.get_ticklabels())"
   ]
  },
  {
   "cell_type": "code",
   "execution_count": null,
   "metadata": {},
   "outputs": [],
   "source": [
    "list(ax.get_xticklabels())"
   ]
  },
  {
   "cell_type": "code",
   "execution_count": null,
   "metadata": {},
   "outputs": [],
   "source": [
    "ax.yaxis.get_label_text()"
   ]
  },
  {
   "cell_type": "code",
   "execution_count": null,
   "metadata": {},
   "outputs": [],
   "source": [
    "ax.get_ylabel()"
   ]
  },
  {
   "cell_type": "markdown",
   "metadata": {},
   "source": [
    "### Unique `xaxis` and `yaxis` methods\n",
    "\n",
    "I suggest accessing the `xaxis` and `yaxis` methods only when an axes method isn't available to do what you desire. Below, we use a couple methods unique to the `xaxis` and `yaxis` that move the label and ticks to the opposite side. We also make the right spine visible again. The upcoming sections contain more examples where the `xaxis` and `yaxis` must be accessed."
   ]
  },
  {
   "cell_type": "code",
   "execution_count": null,
   "metadata": {},
   "outputs": [],
   "source": [
    "ax.yaxis.set_label_position('right')\n",
    "ax.yaxis.set_ticks_position('right')\n",
    "ax.spines['left'].set_visible(False)\n",
    "ax.spines['right'].set_visible(True)\n",
    "fig"
   ]
  },
  {
   "cell_type": "markdown",
   "metadata": {},
   "source": [
    "## Tick locators\n",
    "\n",
    "For every plot that you create, matplotlib automatically sets the tick positions and tick labels for you. In this section, we'll cover how to use **tick locators** to add or remove ticks at precise intervals. Currently, there are five x-ticks, one for every 1,000 square feet of living area. matplotlib intelligently chose these ticks for us with an object called the `AutoLocator`. This is one of several classes of locators that give you control of the tick locations. You can retrieve the locator for each axis with the `get_major_locator` method available to both the `xaxis` and `yaxis` objects."
   ]
  },
  {
   "cell_type": "code",
   "execution_count": null,
   "metadata": {},
   "outputs": [],
   "source": [
    "ax.xaxis.get_major_locator()"
   ]
  },
  {
   "cell_type": "markdown",
   "metadata": {},
   "source": [
    "### The `ticker` module\n",
    "\n",
    "The matplotlib `ticker` module provides several different locator classes that you can instantiate to control the location of the ticks. All of the tick locators can be found on [this page in the documentation][0]. The `MultipleLocator` places ticks at every location that is a multiple of the number that it is instantiated with. Below, ticks are placed every 400 units along the x-axis. The `MaxNLocator` allows you to set the maximum number of ticks with the provided integer and is used for the y-axis to create 8 ticks.\n",
    "\n",
    "[0]: https://matplotlib.org/gallery/ticks_and_spines/tick-locators.html"
   ]
  },
  {
   "cell_type": "code",
   "execution_count": null,
   "metadata": {
    "scrolled": false
   },
   "outputs": [],
   "source": [
    "from matplotlib import ticker\n",
    "ax.xaxis.set_major_locator(ticker.MultipleLocator(400))\n",
    "ax.yaxis.set_major_locator(ticker.MaxNLocator(nbins=8))\n",
    "ax.set_ylim(0, 700_000)\n",
    "fig"
   ]
  },
  {
   "cell_type": "markdown",
   "metadata": {},
   "source": [
    "## Tick formatters\n",
    "\n",
    "Previously, the tick labels have been set manually by creating lists of strings or using the DataFrame `columns` attribute. Within the `ticker` module exist [many formatter classes][0] to change the display of the tick labels. These **tick formatter** classes are similar to the locators. A formatter class is instantiated and passed to the `set_major_formatter` method of the `xaxis` or `yaxis` object.\n",
    "\n",
    "The `StrMethodFormatter` is a common formatter that allows you to change each label's appearance using syntax available to a string's `format` method. If you do not know the format string syntax, [visit the official Python documentation for help][1]. The format specification is provided as a string within curly braces. matplotlib uses the variable name `x` which you have access to within the format. Below, we use a comma to separate every third digit of the x-tick labels and convert the y-tick labels into thousands of dollars.\n",
    "\n",
    "[0]: https://matplotlib.org/gallery/ticks_and_spines/tick-formatters.html\n",
    "[1]: https://docs.python.org/3/library/string.html#format-string-syntax"
   ]
  },
  {
   "cell_type": "code",
   "execution_count": null,
   "metadata": {},
   "outputs": [],
   "source": [
    "ax.xaxis.set_major_formatter(ticker.StrMethodFormatter('{x:,.0f}'))\n",
    "ax.yaxis.set_major_formatter(ticker.StrMethodFormatter('${x!s:.3}k'))\n",
    "fig"
   ]
  },
  {
   "cell_type": "markdown",
   "metadata": {},
   "source": [
    "## Minor ticks\n",
    "\n",
    "In the last two sections, the methods that set the location and format began with `set_major`. In matplotlib there are two types of ticks, major and minor. By default, only the major ticks are shown, and these were the ticks that we were working with above. To show the minor ticks for both the x and y axis, call the `minorticks_on` axes method."
   ]
  },
  {
   "cell_type": "code",
   "execution_count": null,
   "metadata": {
    "scrolled": true
   },
   "outputs": [],
   "source": [
    "ax.minorticks_on()\n",
    "fig"
   ]
  },
  {
   "cell_type": "markdown",
   "metadata": {},
   "source": [
    "The minor ticks are shorter and have no label. matplotlib automatically places them at reasonable intervals. They have their own locator and formatters, which we access now. The `NullFormatter` simply returns an empty string for each label."
   ]
  },
  {
   "cell_type": "code",
   "execution_count": null,
   "metadata": {},
   "outputs": [],
   "source": [
    "ax.xaxis.get_minor_locator()"
   ]
  },
  {
   "cell_type": "code",
   "execution_count": null,
   "metadata": {},
   "outputs": [],
   "source": [
    "ax.xaxis.get_minor_formatter()"
   ]
  },
  {
   "cell_type": "markdown",
   "metadata": {},
   "source": [
    "The same locator and formatter classes in the `ticker` module can be used to change the location and appearance of the minor ticks. Below, the locations for both the x and y minor ticks are changed to longer intervals. The y-axis minor tick labels are formatted using the `FuncFormatter` which allows you to write a custom function that is passed two arguments, the tick value and the integer position. The labels are reduced in size with the `tick_params` axes method. It's unlikely that your graph will need to show the actual labels for the minor ticks, but is done below as an example."
   ]
  },
  {
   "cell_type": "code",
   "execution_count": null,
   "metadata": {},
   "outputs": [],
   "source": [
    "ax.xaxis.set_minor_locator(ticker.MultipleLocator(200))\n",
    "ax.yaxis.set_minor_locator(ticker.MultipleLocator(50_000))\n",
    "ax.yaxis.set_minor_formatter(ticker.FuncFormatter(lambda x, pos: f'${x // 1000:.0f}k'))\n",
    "ax.tick_params(axis='y', which='minor', labelsize=5)\n",
    "fig"
   ]
  },
  {
   "cell_type": "markdown",
   "metadata": {},
   "source": [
    "## Horizontal and vertical lines that span the axes\n",
    "\n",
    "We previously learned about the `hlines` and `vlines` methods that place horizontal and vertical lines onto your axes. These methods require that you provide a beginning and ending point. Consider the scenario where you want a line to always span the width or height of your axes regardless of change in limits. With the methods `axhline` and `axvline`, you provide a single x or y value and by default a line will be drawn across the entire width or height of the axes. Here, we calculate the 15th, 50th, and 85th quantiles of sale price and unpack each as a scalar value. We then plot three horizontal lines that span the entire width of the axes."
   ]
  },
  {
   "cell_type": "code",
   "execution_count": null,
   "metadata": {
    "scrolled": true
   },
   "outputs": [],
   "source": [
    "from matplotlib import cm\n",
    "q15, q50, q85 = housing['SalePrice'].quantile([.15, .5, .85])\n",
    "ax.axhline(q15, color=cm.tab10(1))\n",
    "ax.axhline(q50, ls='--', color=cm.tab10(1))\n",
    "ax.axhline(q85, color=cm.tab10(1))\n",
    "fig"
   ]
  },
  {
   "cell_type": "markdown",
   "metadata": {},
   "source": [
    "Here, we duplicate the procedure for the x-axis variable drawing vertical lines that span the entire height of the axes. We also change the x-limits to prove that the horizontal lines plotted above still span the entire axes."
   ]
  },
  {
   "cell_type": "code",
   "execution_count": null,
   "metadata": {},
   "outputs": [],
   "source": [
    "q15, q50, q85 = housing['GrLivArea'].quantile([.15, .5, .85])\n",
    "ax.axvline(q15, color=cm.tab10(2))\n",
    "ax.axvline(q50, ls='--', color=cm.tab10(2))\n",
    "ax.axvline(q85, color=cm.tab10(2))\n",
    "ax.set_xlim(-500, 3_000)\n",
    "fig"
   ]
  },
  {
   "cell_type": "markdown",
   "metadata": {},
   "source": [
    "## Plotting with dates\n",
    "\n",
    "matplotlib has the ability to make plots when one of the columns has datetime values. In this section, we'll make several plots that use datetime values along the x-axis. These plots tend to take more care to get the tick marks in the right location with the proper labels. We'll begin by reading in the stocks dataset converting the `date` column to a datetime placing it in the index."
   ]
  },
  {
   "cell_type": "code",
   "execution_count": null,
   "metadata": {},
   "outputs": [],
   "source": [
    "stocks = pd.read_csv('../data/stocks/stocks10.csv', index_col=['date'],\n",
    "                     parse_dates=['date'])"
   ]
  },
  {
   "cell_type": "markdown",
   "metadata": {},
   "source": [
    "The closing price of Microsoft is plotted as a line plot below."
   ]
  },
  {
   "cell_type": "code",
   "execution_count": null,
   "metadata": {},
   "outputs": [],
   "source": [
    "fig, ax = plt.subplots(figsize=(5, 2))\n",
    "ax.plot(stocks['MSFT'])\n",
    "ax.set_title('MSFT closing stock price 1999 - 2019');"
   ]
  },
  {
   "cell_type": "markdown",
   "metadata": {},
   "source": [
    "While this plot is straightforward to interpret, there are some important details about the x-axis that need to be discussed. Let's take a look at the limits of the x-axis."
   ]
  },
  {
   "cell_type": "code",
   "execution_count": null,
   "metadata": {},
   "outputs": [],
   "source": [
    "ax.get_xlim()"
   ]
  },
  {
   "cell_type": "markdown",
   "metadata": {},
   "source": [
    "matplotlib has chosen to convert the datetimes to floats by treating each year as 365 (or 366) units. The integer 1 corresponds to January 1, 1.  If you multiply the beginning and end years on the plot by the average number of days per year, 365.25, you'll get values very close to those same floats."
   ]
  },
  {
   "cell_type": "code",
   "execution_count": null,
   "metadata": {},
   "outputs": [],
   "source": [
    "1999 * 365.25, 2021 * 365.25"
   ]
  },
  {
   "cell_type": "markdown",
   "metadata": {},
   "source": [
    "### Converting floats to datetimes and vice-versa\n",
    "\n",
    "matplotlib provides tools in its `dates` module to help help convert floats to datetimes and vice-versa. The `num2date` function converts numbers to dates. Let's use it to verify that the number 1 is the date January 1, 1."
   ]
  },
  {
   "cell_type": "code",
   "execution_count": null,
   "metadata": {},
   "outputs": [],
   "source": [
    "from matplotlib import dates\n",
    "dates.num2date(1)"
   ]
  },
  {
   "cell_type": "markdown",
   "metadata": {},
   "source": [
    "The returned value is a datetime object from the datetime standard library with units for year, month, day, hour, minute, second, and microseconds. Seconds and microseconds are not shown above, but are part of this object. Let's use this function (which also accepts a sequence) to determine the exact minimum and maximum dates of our x-axis."
   ]
  },
  {
   "cell_type": "code",
   "execution_count": null,
   "metadata": {},
   "outputs": [],
   "source": [
    "dates.num2date(ax.get_xlim())"
   ]
  },
  {
   "cell_type": "markdown",
   "metadata": {},
   "source": [
    "The x-axis begins at October 10, 1998 at 7:12 pm and ends at October 23, 2020 at 4:48 am. There also exists the `date2num` function to do the opposite and take a datetime and convert it to a float. While its perfectly valid to use datetimes from the datetime module, you can use numpy or pandas datetime objects as well. Below, we convert a pandas datetime object to a float."
   ]
  },
  {
   "cell_type": "code",
   "execution_count": null,
   "metadata": {},
   "outputs": [],
   "source": [
    "dates.date2num(pd.Timestamp('2005-08-22 04:33:58'))"
   ]
  },
  {
   "cell_type": "markdown",
   "metadata": {},
   "source": [
    "There's also a `datestr2num` function to convert strings that are formatted like dates to floats. This saves the step of using an actual datetime object first."
   ]
  },
  {
   "cell_type": "code",
   "execution_count": null,
   "metadata": {},
   "outputs": [],
   "source": [
    "dates.datestr2num('2005-08-22 04:33:58')"
   ]
  },
  {
   "cell_type": "markdown",
   "metadata": {},
   "source": [
    "### Stock price under CEOs Ballmer and Nadella\n",
    "\n",
    "Microsoft has had two CEO's for almost the entirety of the twenty years of stock price data. Steve Ballmer took over from Bill Gates on January 13, 2000 before Satya Nadella took charge on February 4, 2014. Let's plot the stock price under each CEO as a different line."
   ]
  },
  {
   "cell_type": "code",
   "execution_count": null,
   "metadata": {},
   "outputs": [],
   "source": [
    "fig, ax = plt.subplots(figsize=(5, 2))\n",
    "ax.plot(stocks.loc['2000-01-13':'2014-02-04', 'MSFT'])\n",
    "ax.plot(stocks.loc['2014-02-04':, 'MSFT'])\n",
    "ax.set_title('MSFT closing stock price 1999 - 2019');"
   ]
  },
  {
   "cell_type": "markdown",
   "metadata": {},
   "source": [
    "### Date locators and formatters\n",
    "\n",
    "The above plot has major tick marks every four years. It might be nice to add minor ticks for every year. We could use the `minorticks_on` method to turn them on, but this turns them on for the y-axis as well. Instead, let's take a look at the minor tick locator."
   ]
  },
  {
   "cell_type": "code",
   "execution_count": null,
   "metadata": {},
   "outputs": [],
   "source": [
    "ax.xaxis.get_minor_locator()"
   ]
  },
  {
   "cell_type": "markdown",
   "metadata": {},
   "source": [
    "As the name implies, the `NullLocator` makes it so there are no ticks. There are special locator classes for datetimes in the `dates` module based on the unit of date measurement (year, month, day, hour, etc...). We'll use the `YearLocator` to make the minor tick labels visible. Grid lines for both minor and major ticks are turned on as well."
   ]
  },
  {
   "cell_type": "code",
   "execution_count": null,
   "metadata": {},
   "outputs": [],
   "source": [
    "ax.xaxis.set_minor_locator(dates.YearLocator(1))\n",
    "ax.grid(True, which='both')\n",
    "fig"
   ]
  },
  {
   "cell_type": "markdown",
   "metadata": {},
   "source": [
    "Datetimes also have their own set of formatter classes in the `dates` module. The most common way to format dates is by using a **formatting directive**, a single character code preceded by a percentage sign. Each directive corresponds with a specific string output. For instance `'%b'`  represents the three character month name, and `'%m'` is the zero-padded month number (01, 02, etc...). [Consult the official Python documentation][0] for a list of all of the directives.\n",
    "\n",
    "Create a string with any number of directives and use it to instantiate the `DateFormatter` class. Any other characters can appear in the string and will be interpreted literally. Below, we use three different string directives and add a couple of new lines.\n",
    "\n",
    "[0]: https://docs.python.org/3/library/datetime.html#strftime-and-strptime-format-codes"
   ]
  },
  {
   "cell_type": "code",
   "execution_count": null,
   "metadata": {},
   "outputs": [],
   "source": [
    "ax.xaxis.set_major_formatter(dates.DateFormatter('%b %d\\n----\\n%Y'))\n",
    "fig"
   ]
  },
  {
   "cell_type": "markdown",
   "metadata": {},
   "source": [
    "### Adding objects to date plots\n",
    "\n",
    "Adding new objects to the plot after the x-axis has turned into a date takes some care. You'll need to either use datetimes for the x-values or convert them to floats with `date2num` or `datestr2num`. Below, we add the names of each CEO at their midpoint of their time by using a pandas datetime object as the x-value. They are colored the same as their line color."
   ]
  },
  {
   "cell_type": "code",
   "execution_count": null,
   "metadata": {},
   "outputs": [],
   "source": [
    "ballmer_middle = pd.Timestamp('2007-01-01')\n",
    "nadella_middle = pd.Timestamp('2017-01-01')\n",
    "colors = [line.get_color() for line in ax.lines]\n",
    "ax.text(x=ballmer_middle, y=40, s='Ballmer', color=colors[0], \n",
    "        ha='center', va='center', fontweight='bold')\n",
    "ax.text(x=nadella_middle, y=100, s='Nadella', color=colors[1], \n",
    "        rotation=50, ha='center', va='center', fontweight='bold')\n",
    "fig"
   ]
  },
  {
   "cell_type": "markdown",
   "metadata": {},
   "source": [
    "## Using a different scale for the axis\n",
    "\n",
    "By default, the x and y axis use a linear scale, meaning equal-sized sections represent the same number of units. A distance of one horizontal inch on the x or y axis represents the same number of units regardless of its position. In this section, we'll cover how to use different scales other than linear. We begin by making a line plot of Amazon's closing price for the last 20 years. The range of values vary greatly making it a candidate for using a different scale."
   ]
  },
  {
   "cell_type": "code",
   "execution_count": null,
   "metadata": {},
   "outputs": [],
   "source": [
    "stocks = pd.read_csv('../data/stocks/stocks10.csv', index_col=['date'],\n",
    "                     parse_dates=['date'])\n",
    "fig, ax = plt.subplots()\n",
    "ax.plot(stocks['AMZN']);"
   ]
  },
  {
   "cell_type": "markdown",
   "metadata": {},
   "source": [
    "Let's verify that the current scale for both the x and y axis is linear with the `get_xscale` and `get_yscale` methods."
   ]
  },
  {
   "cell_type": "code",
   "execution_count": null,
   "metadata": {},
   "outputs": [],
   "source": [
    "ax.get_xscale()"
   ]
  },
  {
   "cell_type": "code",
   "execution_count": null,
   "metadata": {},
   "outputs": [],
   "source": [
    "ax.get_yscale()"
   ]
  },
  {
   "cell_type": "markdown",
   "metadata": {},
   "source": [
    "### Logarithmic scale\n",
    "\n",
    "The maximum closing price is more than 100 times the minimum, making it very difficult to discern stock price movements in the first two-thirds of the graph. The same one-day percentage move for prices on the higher end could appear around 100 times as large as the lowest. By using a logarithmic scale all one-day percentage movements represent the the same vertical distance on the graph regardless of the underlying price.\n",
    "\n",
    "For example, let's compare the same percentage increase for stock prices of 50 and 1,500. For a 20% upward movement, the change in prices of 10 and 300 are very different when using a linear scale. A 20% movement in the above plot whenever Amazon's price was 50 would be indiscernible. This is why the line looks so flat for the lower prices. With a logarithmic scale, a 20% increase (and all percentage movements) represents the same vertical distance due to the following property of logs.\n",
    "\n",
    "$$\\log{1.2x} - \\log{x} =  \\log{\\frac{1.2x}{x}} = \\log{1.2}$$\n",
    "\n",
    "Below, we verify that the 20% movement results in the same increase when taking the logarithm with base 10 of both prices."
   ]
  },
  {
   "cell_type": "code",
   "execution_count": null,
   "metadata": {},
   "outputs": [],
   "source": [
    "np.log10(60) - np.log10(50)"
   ]
  },
  {
   "cell_type": "code",
   "execution_count": null,
   "metadata": {},
   "outputs": [],
   "source": [
    "np.log10(1800) - np.log10(1500)"
   ]
  },
  {
   "cell_type": "code",
   "execution_count": null,
   "metadata": {},
   "outputs": [],
   "source": [
    "np.log10(1.2)"
   ]
  },
  {
   "cell_type": "markdown",
   "metadata": {},
   "source": [
    "### Manually computing the logarithmic scale\n",
    "\n",
    "To help understand exactly how an axis gets transformed from a linear to a logarithmic scale, we will go through the procedure manually with six specific values. Two separate axes are created (see section below on how to create multiple axes within a figure) with the actual values plotted on one and the log of the values on the other."
   ]
  },
  {
   "cell_type": "code",
   "execution_count": null,
   "metadata": {},
   "outputs": [],
   "source": [
    "x = np.ones(6)\n",
    "y = np.array([5, 100, 250, 500, 1000, 2000])\n",
    "y_log = np.log10(y)\n",
    "fig, (ax1, ax2) = plt.subplots(nrows=1, ncols=2, figsize=(2.5, 2))\n",
    "ax1.scatter(x, y, s=10)\n",
    "ax2.scatter(x, y_log, s=10, c='crimson')\n",
    "ax1.set_xticks([])\n",
    "ax2.set_xticks([])\n",
    "ax2.yaxis.set_ticks_position('right')\n",
    "ax1.set_title('Actual Values')\n",
    "ax2.set_title('Logged Values');"
   ]
  },
  {
   "cell_type": "markdown",
   "metadata": {},
   "source": [
    "### Using matplotlib to set the scale\n",
    "\n",
    "All we did above was apply a transformation to the data. The y-axis scale is still linear. To change the scale of the y-axis, and keep the data the same, pass the string `'log'` to the `set_yscale` method. We plot the actual values on each axes. Notice that the points are in the same exact location as the plot above. The only thing that changed are the tick marks and labels."
   ]
  },
  {
   "cell_type": "code",
   "execution_count": null,
   "metadata": {},
   "outputs": [],
   "source": [
    "fig, (ax1, ax2) = plt.subplots(nrows=1, ncols=2, figsize=(2.5, 2))\n",
    "ax1.scatter(x, y, s=10)\n",
    "ax2.scatter(x, y, s=10, c='crimson')\n",
    "ax2.set_yscale('log')\n",
    "ax1.set_xticks([])\n",
    "ax2.set_xticks([])\n",
    "ax2.yaxis.set_ticks_position('right')\n",
    "ax1.set_title('Linear Scale')\n",
    "ax2.set_title('Log Scale');"
   ]
  },
  {
   "cell_type": "markdown",
   "metadata": {},
   "source": [
    "Each major tick is formatted using scientific notation. Let's set the tick marks on our log scale axes to those of the linear scale to compare their locations."
   ]
  },
  {
   "cell_type": "code",
   "execution_count": null,
   "metadata": {},
   "outputs": [],
   "source": [
    "ax2.set_yticks([10, 100, 500, 1000, 1500, 2000])\n",
    "ax2.yaxis.set_major_formatter(ticker.ScalarFormatter())\n",
    "ax2.yaxis.set_minor_locator(ticker.NullLocator())\n",
    "ax2.tick_params(axis='y', labelsize='x-small')\n",
    "fig"
   ]
  },
  {
   "cell_type": "markdown",
   "metadata": {},
   "source": [
    "Let's go back and plot our Amazon data using a log scale. This uncovers a huge downswing the stock suffered in the early 2000's where it lost more than 90% of its value. This massive dip was essentially impossible to see with the original scale."
   ]
  },
  {
   "cell_type": "code",
   "execution_count": null,
   "metadata": {},
   "outputs": [],
   "source": [
    "fig, ax = plt.subplots()\n",
    "ax.plot(stocks['AMZN'])\n",
    "ax.set_yscale('log')\n",
    "ax.set_title('Amazon Closing Price - Log Scale');"
   ]
  },
  {
   "cell_type": "markdown",
   "metadata": {},
   "source": [
    "## Adding images\n",
    "\n",
    "matplotlib has the ability to display images on its axes. Natively, matplotlib supports the reading of PNG images, but can read in many other formats using the [Pillow library][0]. Install it by running `conda install pillow` from the command line. All images used in this section will be PNGs.\n",
    "\n",
    "### Reading in images as three-dimensional numpy arrays\n",
    "\n",
    "Before you can add an image to your axes, you must read it in from its file location as a three-dimensional numpy array using the `imread` (image read) function from the `image` module. It reads in every pixel as an RGBA float (four values all between 0 and 1). It returns a three-dimensional numpy array with the shape `M x N x 4` where `M` is the number of **vertical** pixels and `N` the number of **horizontal** pixels along with the 4 RGBA floats for each pixel. Let's read in an image of my son Niko swinging on a tire and output the shape of the returned array.\n",
    "\n",
    "[0]: https://pillow.readthedocs.io/en/stable/"
   ]
  },
  {
   "cell_type": "code",
   "execution_count": null,
   "metadata": {},
   "outputs": [],
   "source": [
    "from matplotlib import image\n",
    "img_array = image.imread('images/niko.png')\n",
    "img_array.shape"
   ]
  },
  {
   "cell_type": "markdown",
   "metadata": {},
   "source": [
    "This image has 1,453 vertical pixels and 2,829 horizontal pixels, meaning its width is about twice its height. This is the reverse order of how we normally read a pair of values that correspond to two dimensions in our coordinate plane. A pair of points usually has horizontal units first then vertical units. The top-left-hand corner pixel resides at the location `(0, 0)` in our numpy array. Let's select it to retrieve its RGBA floats."
   ]
  },
  {
   "cell_type": "code",
   "execution_count": null,
   "metadata": {},
   "outputs": [],
   "source": [
    "img_array[0, 0]"
   ]
  },
  {
   "cell_type": "markdown",
   "metadata": {},
   "source": [
    "Let's get the RGBA float for the bottom left-hand corner pixel."
   ]
  },
  {
   "cell_type": "code",
   "execution_count": null,
   "metadata": {},
   "outputs": [],
   "source": [
    "img_array[1452, 0]"
   ]
  },
  {
   "cell_type": "markdown",
   "metadata": {},
   "source": [
    "All of these RGBA pixels can be plotted simultaneously with the `imshow` (image show) axes method. Let's add the image to a newly created axes."
   ]
  },
  {
   "cell_type": "code",
   "execution_count": null,
   "metadata": {},
   "outputs": [],
   "source": [
    "fig, ax = plt.subplots()\n",
    "ax.imshow(img_array);"
   ]
  },
  {
   "cell_type": "markdown",
   "metadata": {},
   "source": [
    "Several things take place whenever `imshow` is called. The x and y limits change to the exact dimensions of the image. The y-axis gets inverted so that the upper-left-hand corner is the point (0, 0). The aspect is automatically set to 'equal' (we did this manually when creating circle patches) from its default 'auto'.\n",
    "\n",
    "The original image has 2,829 horizontal pixels, but our figure has a DPI of 127 and with a width of 4 figure inches, this equates to just 508 horizontal pixels. matplotlib scales the image down so that it fits within the dimensions of the axes within the figure.\n",
    "\n",
    "### Changing values of the image array\n",
    "\n",
    "Because images are read in as a numpy array of floats, you can easily manipulate the pixels using array operations. Here, we alter the image by doing the following:\n",
    "\n",
    "* Select every fifth vertical pixel\n",
    "* Select every fifth horizontal pixel beginning with the 2,000th through the 500th, flipping the image\n",
    "* Divide the intensity of the blue values in half\n",
    "* Transform the alpha values so that they begin at 1 on the top row and linearly go to 0 by the bottom."
   ]
  },
  {
   "cell_type": "code",
   "execution_count": null,
   "metadata": {},
   "outputs": [],
   "source": [
    "fig, ax = plt.subplots()\n",
    "a = img_array.copy()\n",
    "a = a[::5, 2000:500:-5, :]\n",
    "a[:, :, 2] = a[:, :, 2] / 2\n",
    "a[:, :, 3] = np.linspace(1, 0, len(a)).reshape(-1, 1)\n",
    "ax.imshow(a);"
   ]
  },
  {
   "cell_type": "markdown",
   "metadata": {},
   "source": [
    "### Two-dimensional image arrays\n",
    "\n",
    "The `imshow` method can take a two-dimensional numpy array of floats as well. When doing so, it uses the color map provided by the `cmap` parameter to convert each float to an RGBA value. Let's select just the green values from our original image array and verify it is two-dimensional."
   ]
  },
  {
   "cell_type": "code",
   "execution_count": null,
   "metadata": {},
   "outputs": [],
   "source": [
    "img_array_2d = img_array[:, :, 1]\n",
    "img_array_2d.shape"
   ]
  },
  {
   "cell_type": "markdown",
   "metadata": {},
   "source": [
    "The first three rows and five columns (15 pixels) are selected and show below."
   ]
  },
  {
   "cell_type": "code",
   "execution_count": null,
   "metadata": {},
   "outputs": [],
   "source": [
    "img_array_2d[:3, :5].round(2)"
   ]
  },
  {
   "cell_type": "markdown",
   "metadata": {},
   "source": [
    "If not provided, the colormap chosen will be viridis. Let's choose 'Greys' to make this a grayscale image."
   ]
  },
  {
   "cell_type": "code",
   "execution_count": null,
   "metadata": {},
   "outputs": [],
   "source": [
    "fig, ax = plt.subplots()\n",
    "ax.imshow(img_array_2d, cmap='Greys');"
   ]
  },
  {
   "cell_type": "markdown",
   "metadata": {},
   "source": [
    "### Adding images to a specific position in the axes\n",
    "\n",
    "By default, the `imshow` method changes the x and y limits to those of the image dimensions regardless of the other plotting objects that are already on the axes. To place an image in a specific rectangle of coordinates, set the `extent` parameter of `imshow` to a four-item list of the left, right, bottom, and top coordinates. If you do not set the limits of your axis when doing so, then maptlotlib will use the limits of the last image it receives.\n",
    "\n",
    "Below, the image of Niko is read and assigned to a new variable name. It is then plotted within the bounds of the rectangle defined from `extent`. Notice how matplotlib automatically sets the limits of the x and y axis to those of the rectangle limits."
   ]
  },
  {
   "cell_type": "code",
   "execution_count": null,
   "metadata": {},
   "outputs": [],
   "source": [
    "array_niko = image.imread('images/niko.png')\n",
    "fig, ax = plt.subplots()\n",
    "ax.imshow(array_niko, extent=[0, 1, .1, .6]);"
   ]
  },
  {
   "cell_type": "markdown",
   "metadata": {},
   "source": [
    "An image of my daughter Penelope climbing a rock is read in and plotted within its own rectangle in a different non-overlapping location as the image above. Again, matplotlib adjusts the limits to be those of the last image added to the plot."
   ]
  },
  {
   "cell_type": "code",
   "execution_count": null,
   "metadata": {},
   "outputs": [],
   "source": [
    "array_penelope = image.imread('images/penelope.png')\n",
    "ax.imshow(array_penelope, extent=[1, 2, .3, .8])\n",
    "fig"
   ]
  },
  {
   "cell_type": "markdown",
   "metadata": {},
   "source": [
    "Our axes still has two images on it, but we can only see one. We can verify this by accessing the `images` attribute."
   ]
  },
  {
   "cell_type": "code",
   "execution_count": null,
   "metadata": {},
   "outputs": [],
   "source": [
    "ax.images"
   ]
  },
  {
   "cell_type": "markdown",
   "metadata": {},
   "source": [
    "Setting the limits of the axes prevents matplotlib from using just the limits defined by `extent`."
   ]
  },
  {
   "cell_type": "code",
   "execution_count": null,
   "metadata": {},
   "outputs": [],
   "source": [
    "fig, ax = plt.subplots(figsize=(5, 2.5))\n",
    "ax.set_xlim(0, 2)\n",
    "ax.set_ylim(0, 1)\n",
    "img_niko = ax.imshow(array_niko, extent=[0, 1, .1, .6])\n",
    "img_penelope = ax.imshow(array_penelope, extent=[1, 2, .3, .8]);"
   ]
  },
  {
   "cell_type": "markdown",
   "metadata": {},
   "source": [
    "### Clipping the image\n",
    "\n",
    "Images can be clipped by matplotlib patches. To do so, create the patch with `alpha` set to 0 (or `fill` set to `False`) and add it to the axes. Then pass the patch to the `set_clip_path` image method. Above, the images were assigned to variable names."
   ]
  },
  {
   "cell_type": "code",
   "execution_count": null,
   "metadata": {},
   "outputs": [],
   "source": [
    "from matplotlib import patches\n",
    "niko_clip = patches.Ellipse((.55, .38), width=.3, height=.45, angle=-40, alpha=0)\n",
    "penelope_clip = patches.Polygon([[1.4, .8], [1.15, .3], [1.75, .3], [1.55, .8]], alpha=0)\n",
    "ax.add_patch(niko_clip)\n",
    "ax.add_patch(penelope_clip)\n",
    "img_niko.set_clip_path(niko_clip)\n",
    "img_penelope.set_clip_path(penelope_clip)\n",
    "fig"
   ]
  },
  {
   "cell_type": "markdown",
   "metadata": {},
   "source": [
    "### Adding Microsoft's CEO images\n",
    "\n",
    "In this example, we'll add images of each CEO to the Microsoft closing price graph from above. Instead of setting the x and y limits, we'll set the `aspect` parameter from `imshow` to 'auto' instead of the default 'equal'. To get the correct x-coordinates for the rectangle defined in `extent`, we use the `datestr2num` function to convert strings directly to floats, saving the step of creating a datetime object."
   ]
  },
  {
   "cell_type": "code",
   "execution_count": null,
   "metadata": {},
   "outputs": [],
   "source": [
    "array_ballmer = image.imread('images/ballmer.png')\n",
    "array_nadella = image.imread('images/nadella.png')\n",
    "fig, ax = plt.subplots(figsize=(5, 2.5))\n",
    "ax.plot(stocks.loc['2000-01-13':'2014-02-04', 'MSFT'])\n",
    "ax.plot(stocks.loc['2014-02-04':, 'MSFT'])\n",
    "ax.set_title('MSFT closing stock price 1999 - 2019')\n",
    "b_left, b_right = dates.datestr2num('2006'), dates.datestr2num('2009')\n",
    "n_left, n_right = dates.datestr2num('2014'), dates.datestr2num('2017')\n",
    "ax.imshow(array_ballmer, extent=[b_left, b_right, 40, 90], aspect='auto', zorder=1)\n",
    "ax.imshow(array_nadella, extent=[n_left, n_right, 75, 120], aspect='auto', zorder=1)\n",
    "ax.autoscale_view()"
   ]
  },
  {
   "cell_type": "markdown",
   "metadata": {},
   "source": [
    "## Coordinate systems\n",
    "\n",
    "In each matplotlib figure, a single point may be referenced using one of several different **coordinate systems**. matplotlib employs five different coordinate systems that are explained visually in the image below. Take a look at the point plotted as a star. Each of the coordinate systems references that point with a different pair of x and y coordinates.\n",
    "\n",
    "![0]\n",
    "\n",
    "[0]: images/mpl_coordinate_system.png"
   ]
  },
  {
   "cell_type": "markdown",
   "metadata": {},
   "source": [
    "### Coordinate system definitions\n",
    "\n",
    "**Data** - Each axes defines its own data coordinate system with the x and y limits (retrieved with the `get_xlim` and `get_ylim` methods). The bottom left-hand and top-right hand corners have coordinates of `(xmin, ymin)` and `(xmax, ymax)`. The data coordinate system is the only one we've used thus far and is the primary system used for placing objects on our axes.\n",
    "\n",
    "**Axes** - The bottom left-hand and top-right hand corners of the axes always have coordinates of `(0, 0)` and `(1, 1)`. Points in the axes coordinate system are given as relative units to the width and height of the axes. \n",
    "\n",
    "**Figure** - Similar to the axes coordinate system, the bottom left-hand and top right-hand corners of the figure always have coordinates `(0, 0)` and `(1, 1)`.\n",
    "\n",
    "**Figure-Inches** -  The bottom left-hand and top right-hand corners have coordinates `(0, 0)` and `(width, height)` where `width` and `height` are set during construction with the `figsize` parameter.\n",
    "\n",
    "**Display** - The display coordinate system has units of pixels. Multiplying the figure inches by the DPI returns the upper right-hand corner value."
   ]
  },
  {
   "cell_type": "markdown",
   "metadata": {},
   "source": [
    "### Plotting with each coordinate system\n",
    "\n",
    "Nearly all axes methods use the data coordinate system by default. All numbers passed to these axes methods are treated as data coordinates. These methods can be set to use any other coordinate system by setting the `transform` parameter to a specific transformation object. You can access the transformation object from each coordinate system using the following attributes:\n",
    "\n",
    "* **Data** - `ax.transData`\n",
    "* **Axes** - `ax.transAxes`\n",
    "* **Figure** - `fig.transFigure`\n",
    "* **Figure-Inches** - `fig.dpi_scale_trans`\n",
    "* **Display** - `None`\n",
    "\n",
    "Let's create our default figure and axes and add text to different places using each of the coordinate systems by setting the `transform` parameter. As a reminder, our figure measures 4 x 2 figure-inches using 127 DPI making it 508 x 254 pixels. The notebook display 'bbox_inches' is set to `None` so that the exact dimensions of the figure are displayed."
   ]
  },
  {
   "cell_type": "code",
   "execution_count": null,
   "metadata": {},
   "outputs": [],
   "source": [
    "%config InlineBackend.print_figure_kwargs = {'bbox_inches': None}\n",
    "fig, ax = plt.subplots(facecolor='tan')\n",
    "ax.set_xlim(10, 90)\n",
    "ax.set_ylim(120, 160)\n",
    "kws = {'ha': 'center', 'va': 'center', 'fontsize': 8}\n",
    "ax.text(x=30, y=150, s='Data (30, 150)', transform=ax.transData, **kws)\n",
    "ax.text(x=.7, y=.7, s='Axes (.7, .2)', transform=ax.transAxes, **kws)\n",
    "ax.text(x=.25, y=.3, s='Figure (.25, .3)', transform=fig.transFigure, **kws)\n",
    "ax.text(x=3, y=.5, s='Figure-Inches (3, .5)', transform=fig.dpi_scale_trans, **kws)\n",
    "ax.text(x=250, y=150, s='Display Pixels (250, 150)', transform=None, **kws);"
   ]
  },
  {
   "cell_type": "markdown",
   "metadata": {},
   "source": [
    "Although we set the `transform` parameter to `ax.transData`, it wasn't necessary as that is the default. Below, we call four different axes methods setting the coordinate system to something other than the default."
   ]
  },
  {
   "cell_type": "code",
   "execution_count": null,
   "metadata": {},
   "outputs": [],
   "source": [
    "fig, ax = plt.subplots(facecolor='tan')\n",
    "ax.set_xlim(10, 90)\n",
    "ax.set_ylim(120, 160)\n",
    "ax.plot([.1, .7], [.8, .5], transform=ax.transAxes, color='red')\n",
    "ax.add_patch(patches.Circle((.2, .3), radius=.1, transform=fig.transFigure, color='green'))\n",
    "ax.hlines(y=1.5, xmin=2, xmax=3, transform=fig.dpi_scale_trans, color='orange')\n",
    "ax.bar(x=[300, 350, 400], height=[100, 60, 80], width=45, bottom=40, transform=None);"
   ]
  },
  {
   "cell_type": "markdown",
   "metadata": {},
   "source": [
    "### Transforming to and from different coordinate systems\n",
    "\n",
    "Each of the transformation objects offers a way to transform points in one coordinate system to display pixels with its `transform` method. Using the same figure and axes above, let's transform the point `(30, 150)` to display pixels."
   ]
  },
  {
   "cell_type": "code",
   "execution_count": null,
   "metadata": {},
   "outputs": [],
   "source": [
    "ax.transData.transform([30, 150])"
   ]
  },
  {
   "cell_type": "markdown",
   "metadata": {},
   "source": [
    "Knowing this, we could have added the text `'Data (30, 150)'` from a previous plot with the following:\n",
    "\n",
    "```python\n",
    "ax.text(x=187, y=203, s='Data (30, 150)', transform=None, **kws)\n",
    "```\n",
    "\n",
    "Let's continue using the various transformation objects to convert to display pixels. Here we transform the right endpoint of the first line plotted above from axes coordinates to pixels."
   ]
  },
  {
   "cell_type": "code",
   "execution_count": null,
   "metadata": {},
   "outputs": [],
   "source": [
    "ax.transAxes.transform([.8, .5])"
   ]
  },
  {
   "cell_type": "markdown",
   "metadata": {},
   "source": [
    "The center of the circle, originally in figure coordinates, is transformed to pixels."
   ]
  },
  {
   "cell_type": "code",
   "execution_count": null,
   "metadata": {},
   "outputs": [],
   "source": [
    "fig.transFigure.transform([.2, .3])"
   ]
  },
  {
   "cell_type": "markdown",
   "metadata": {},
   "source": [
    "The left endpoint of the horizontal line, originally in figure-inches, is transformed to pixels."
   ]
  },
  {
   "cell_type": "code",
   "execution_count": null,
   "metadata": {},
   "outputs": [],
   "source": [
    "fig.dpi_scale_trans.transform([2, 1.5])"
   ]
  },
  {
   "cell_type": "markdown",
   "metadata": {},
   "source": [
    "A different transformation object, `ax.transLimits`, transforms points from the data to axes coordinate system (and not to the display coordinate system)."
   ]
  },
  {
   "cell_type": "code",
   "execution_count": null,
   "metadata": {},
   "outputs": [],
   "source": [
    "ax.transLimits.transform([30, 150])"
   ]
  },
  {
   "cell_type": "markdown",
   "metadata": {},
   "source": [
    "### Inverting a transformation\n",
    "\n",
    "Each transformation object has an `inverted` method which creates a new transformation object capable of inverting the transformation with its own `transform` method. Below, we transform the display pixels back to their data coordinates."
   ]
  },
  {
   "cell_type": "code",
   "execution_count": null,
   "metadata": {},
   "outputs": [],
   "source": [
    "ax.transData.inverted().transform([187.425, 203.2275])"
   ]
  },
  {
   "cell_type": "markdown",
   "metadata": {},
   "source": [
    "Let's verify that the top right-hand corner display coordinate has the correct figure-inches and figure coordinates."
   ]
  },
  {
   "cell_type": "code",
   "execution_count": null,
   "metadata": {},
   "outputs": [],
   "source": [
    "fig.dpi_scale_trans.inverted().transform([588, 294])"
   ]
  },
  {
   "cell_type": "code",
   "execution_count": null,
   "metadata": {},
   "outputs": [],
   "source": [
    "fig.transFigure.inverted().transform([588, 294])"
   ]
  },
  {
   "cell_type": "markdown",
   "metadata": {},
   "source": [
    "We can now go from one coordinate system to another by first transforming to pixels and then using an inverted transformer to go to the other coordinate system. Here, we transform the figure coordinates of `(.2, .3)` to data coordinates."
   ]
  },
  {
   "cell_type": "code",
   "execution_count": null,
   "metadata": {
    "scrolled": true
   },
   "outputs": [],
   "source": [
    "pixels = fig.transFigure.transform([.2, .3])\n",
    "ax.transData.inverted().transform(pixels).round(1)"
   ]
  },
  {
   "cell_type": "markdown",
   "metadata": {},
   "source": [
    "## Figure methods\n",
    "\n",
    "Nearly all of the methods called thus far have come from the axes object, which will be the case the vast majority of the time. In this section, we'll call several figure methods that change the figure in some way. Figures have far fewer methods than axes and are not capable of directly plotting data.\n",
    "\n",
    "You can add a title to the entire figure with the `suptitle` method (think of \"super\" title) and text with the `text` method. Both of these methods accept x and y values given as figure coordinates and not data coordinates as before. The figure is a different object than the axes and can contain multiple axes, so the concept of data coordinates for it do not make sense.\n",
    "\n",
    "A title is added to the figure with a y-value figure coordinate of 1.02. While this value is outside of the figure, it is still visible in the display because we set 'bbox_inches' back to 'tight' which includes any plotting objects regardless of their location. Just because an object isn't contained within the boundaries of the figure, doesn't mean it isn't able to be drawn. Two pieces of text are created, one within and the other outside the figure boundary."
   ]
  },
  {
   "cell_type": "code",
   "execution_count": null,
   "metadata": {
    "scrolled": false
   },
   "outputs": [],
   "source": [
    "%config InlineBackend.print_figure_kwargs = {'bbox_inches': 'tight'}\n",
    "fig, ax = plt.subplots()\n",
    "ax.set_xlim(50, 100)\n",
    "ax.set_ylim(20, 25)\n",
    "fig.suptitle(x=.5, y=1.02, t='Figure Title', va='bottom')\n",
    "fig.text(x=.7, y=.5, s='figure coordinates (.7, .5)', ha='center', fontsize=8)\n",
    "fig.text(x=-.05, y=-.06, s='figure coordinates (-.05, -.06)', ha='center', fontsize=8);"
   ]
  },
  {
   "cell_type": "markdown",
   "metadata": {},
   "source": [
    "It is rare that you'll need to add plotting objects such as patches or lines to a figure, but it is possible. You'll have to import the module that creates the underlying object and then add it to the figure with the `add_artist` method. By default, the points used to create these objects will be in figure coordinates. We add a line across the entire length of the figure using the `Line2D` constructor from the `lines` module. A rectangle patch is added so that it outlines the border of the figure."
   ]
  },
  {
   "cell_type": "code",
   "execution_count": null,
   "metadata": {},
   "outputs": [],
   "source": [
    "from matplotlib import lines\n",
    "line = lines.Line2D(xdata=[0, 1], ydata=[.8, .2])\n",
    "fig.add_artist(line)\n",
    "rect = patches.Rectangle((0, 0), width=1, height=1, fill=False)\n",
    "fig.add_artist(rect)\n",
    "fig"
   ]
  },
  {
   "cell_type": "markdown",
   "metadata": {},
   "source": [
    "One reason to add objects to figures instead of axes is to keep them in the same place regardless of the x and y data limits. Let's change the limits of the axes dramatically to verify this has no effect on the figure objects."
   ]
  },
  {
   "cell_type": "code",
   "execution_count": null,
   "metadata": {},
   "outputs": [],
   "source": [
    "ax.set_ylim(500, 900)\n",
    "ax.set_xlim(-50, -40)\n",
    "fig"
   ]
  },
  {
   "cell_type": "markdown",
   "metadata": {},
   "source": [
    "Changing the size of the figure keeps the figure objects in the same relative position."
   ]
  },
  {
   "cell_type": "code",
   "execution_count": null,
   "metadata": {},
   "outputs": [],
   "source": [
    "fig.set_size_inches(2, 1.5)\n",
    "fig"
   ]
  },
  {
   "cell_type": "markdown",
   "metadata": {},
   "source": [
    "### Saving the figure to a file\n",
    "\n",
    "The figure can be permanently saved on disk with the `savefig` method. The first argument is the filename given as a string. The filename extension dictates the type of file created. Possible values are png, jpeg, svg, eps, pdf, and more. We save the figure in the images folder in this current directory as a png."
   ]
  },
  {
   "cell_type": "code",
   "execution_count": null,
   "metadata": {},
   "outputs": [],
   "source": [
    "fig.set_size_inches(4, 2)\n",
    "fig.savefig('images/simple_figure.png')"
   ]
  },
  {
   "cell_type": "markdown",
   "metadata": {},
   "source": [
    "By default, the exact dimensions of the figure are saved. Any objects plotted outside the figure boundaries are cut off. The image we just saved is shown below. Notice that the figure title and one of the text objects did not get saved to the image."
   ]
  },
  {
   "cell_type": "markdown",
   "metadata": {},
   "source": [
    "![0]\n",
    "\n",
    "[0]: images/simple_figure.png"
   ]
  },
  {
   "cell_type": "markdown",
   "metadata": {},
   "source": [
    "By setting the `bbox_inches` parameter to `'tight'`, matplotlib will include all of the items plotted regardless of their location. When choosing this option, there is still a small amount of padding around the figure (.1 inches by default). Use the `pad_inches` parameter to control it."
   ]
  },
  {
   "cell_type": "code",
   "execution_count": null,
   "metadata": {},
   "outputs": [],
   "source": [
    "fig.savefig('images/simple_figure_tight.png', bbox_inches='tight', pad_inches=0)"
   ]
  },
  {
   "cell_type": "markdown",
   "metadata": {},
   "source": [
    "The updated image is shown below with both of the previously missing items. These `bbox_inches` from the `savefig` method are the same setting that Jupyter Notebook uses when displaying the images. The only difference is that the default settings for the notebook have `bbox_inches` set to `'tight'`, while `savefig` uses `'None'`. \n",
    "\n",
    "![0]\n",
    "\n",
    "[0]: images/simple_figure_tight.png"
   ]
  },
  {
   "cell_type": "markdown",
   "metadata": {},
   "source": [
    "## Creating a grid of axes\n",
    "\n",
    "In all of our previous work, we created a single axes within a single figure. In this section, we will create multiple axes within a single figure. The simplest way to create a grid of axes within a single figure is to set the `nrows` and `ncols` parameters of the `subplots` function. By default, these values are each set to 1, so when we used this function previously, a 1 x 1 grid of subplots was created. Let's begin by creating a figure with two rows and three columns, making a total of six axes."
   ]
  },
  {
   "cell_type": "code",
   "execution_count": null,
   "metadata": {},
   "outputs": [],
   "source": [
    "fig, ax_array = plt.subplots(nrows=2, ncols=3, figsize=(5, 2.5))"
   ]
  },
  {
   "cell_type": "markdown",
   "metadata": {},
   "source": [
    "### Clean up the layout and set the face color of the figure\n",
    "\n",
    "The axes are packed quite closely together above with the x and y tick labels overlapping one another. matplotlib doesn't take the labels of each axes into account when displaying the plots. To force matplotlib to consider all of the labels and provide ample space to be given between each axes, we must set the `tight_layout` property to `True`. This can be done with a setter method, but can also be done when first constructing the figure."
   ]
  },
  {
   "cell_type": "code",
   "execution_count": null,
   "metadata": {},
   "outputs": [],
   "source": [
    "fig, ax_array = plt.subplots(nrows=2, ncols=3, figsize=(5, 2.5), \n",
    "                             tight_layout=True, facecolor='tan')"
   ]
  },
  {
   "cell_type": "markdown",
   "metadata": {},
   "source": [
    "### Multiple Axes returned as a numpy array\n",
    "\n",
    "Whenever you create multiple axes like this with the `subplots` function, the second item returned will be a numpy array of axes objects. Previously, only one axes was created, and it was returned as the axes itself, not wrapped up in an array. Let's verify that this new second object is indeed a numpy array."
   ]
  },
  {
   "cell_type": "code",
   "execution_count": null,
   "metadata": {},
   "outputs": [],
   "source": [
    "type(ax_array)"
   ]
  },
  {
   "cell_type": "markdown",
   "metadata": {},
   "source": [
    "The array has the same shape as our grid, two rows by three columns."
   ]
  },
  {
   "cell_type": "code",
   "execution_count": null,
   "metadata": {},
   "outputs": [],
   "source": [
    "ax_array.shape"
   ]
  },
  {
   "cell_type": "markdown",
   "metadata": {},
   "source": [
    "If we output the array, we will see six different axes objects."
   ]
  },
  {
   "cell_type": "code",
   "execution_count": null,
   "metadata": {},
   "outputs": [],
   "source": [
    "ax_array"
   ]
  },
  {
   "cell_type": "markdown",
   "metadata": {},
   "source": [
    "It's much easier to work with the axes directly, so let's assign each one to a variable by selecting it using integer location."
   ]
  },
  {
   "cell_type": "code",
   "execution_count": null,
   "metadata": {},
   "outputs": [],
   "source": [
    "ax1 = ax_array[0, 0]\n",
    "ax2 = ax_array[0, 1]\n",
    "ax3 = ax_array[0, 2]\n",
    "ax4 = ax_array[1, 0]\n",
    "ax5 = ax_array[1, 1]\n",
    "ax6 = ax_array[1, 2]"
   ]
  },
  {
   "cell_type": "markdown",
   "metadata": {},
   "source": [
    "Instead of selecting each axes with its row and column location, use the `flatten` method to return a one-dimensional array of all six axes. By default, they are flattened one row at a time. We can unpack each axes as its own variable easier this way."
   ]
  },
  {
   "cell_type": "code",
   "execution_count": null,
   "metadata": {},
   "outputs": [],
   "source": [
    "ax_flat = ax_array.flatten()\n",
    "ax1, ax2, ax3, ax4, ax5, ax6 = ax_flat"
   ]
  },
  {
   "cell_type": "markdown",
   "metadata": {},
   "source": [
    "### Set the title of each axes to identify it\n",
    "\n",
    "To help identify each axes, let's set the title of each one. We could use the variable name to reference each axes, but choose to iterate through the flattened array of axes instead. Notice that the height of each axes has automatically adjusted a bit to accommodate the titles due to the `tight_layout` being set to `True`."
   ]
  },
  {
   "cell_type": "code",
   "execution_count": null,
   "metadata": {},
   "outputs": [],
   "source": [
    "for i, ax in enumerate(ax_flat):\n",
    "    ax.set_title(f'Axes {i + 1}')\n",
    "fig.suptitle('Figure with six Axes', x=.95, y=1.05, fontsize=12, ha='right')\n",
    "fig"
   ]
  },
  {
   "cell_type": "markdown",
   "metadata": {},
   "source": [
    "## Exercises"
   ]
  },
  {
   "cell_type": "code",
   "execution_count": null,
   "metadata": {},
   "outputs": [],
   "source": []
  }
 ],
 "metadata": {
  "kernelspec": {
   "display_name": "Python 3 (ipykernel)",
   "language": "python",
   "name": "python3"
  },
  "language_info": {
   "codemirror_mode": {
    "name": "ipython",
    "version": 3
   },
   "file_extension": ".py",
   "mimetype": "text/x-python",
   "name": "python",
   "nbconvert_exporter": "python",
   "pygments_lexer": "ipython3",
   "version": "3.8.11"
  }
 },
 "nbformat": 4,
 "nbformat_minor": 2
}
