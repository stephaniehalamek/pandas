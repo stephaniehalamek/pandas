{
 "cells": [
  {
   "cell_type": "markdown",
   "metadata": {},
   "source": [
    "# Series Sorting, Ranking, and Uniqueness\n",
    "\n",
    "In this chapter, we cover important methods for sorting and ranking the values in our Series, along with finding unique values and removing duplicates. We read in the movie dataset, set the title as the index, and select the `imdb_score` column as a Series."
   ]
  },
  {
   "cell_type": "code",
   "execution_count": 1,
   "metadata": {},
   "outputs": [
    {
     "data": {
      "text/plain": [
       "title\n",
       "Avatar                                        7.9\n",
       "Pirates of the Caribbean: At World's End      7.1\n",
       "Spectre                                       6.8\n",
       "The Dark Knight Rises                         8.5\n",
       "Star Wars: Episode VII - The Force Awakens    7.1\n",
       "Name: imdb_score, dtype: float64"
      ]
     },
     "execution_count": 1,
     "metadata": {},
     "output_type": "execute_result"
    }
   ],
   "source": [
    "import pandas as pd\n",
    "movie = pd.read_csv('../data/movie.csv', index_col='title')\n",
    "score = movie['imdb_score']\n",
    "score.head()"
   ]
  },
  {
   "cell_type": "code",
   "execution_count": 2,
   "metadata": {},
   "outputs": [
    {
     "data": {
      "text/plain": [
       "pandas.core.series.Series"
      ]
     },
     "execution_count": 2,
     "metadata": {},
     "output_type": "execute_result"
    }
   ],
   "source": [
    "type(score)"
   ]
  },
  {
   "cell_type": "markdown",
   "metadata": {},
   "source": [
    "## Sorting\n",
    "\n",
    "The `sort_values` method sorts the Series from least to greatest by default. It places missing values at the end. You may call it without any arguments."
   ]
  },
  {
   "cell_type": "code",
   "execution_count": 3,
   "metadata": {},
   "outputs": [
    {
     "data": {
      "text/plain": [
       "title\n",
       "Justin Bieber: Never Say Never    1.6\n",
       "Foodfight!                        1.7\n",
       "Disaster Movie                    1.9\n",
       "Name: imdb_score, dtype: float64"
      ]
     },
     "execution_count": 3,
     "metadata": {},
     "output_type": "execute_result"
    }
   ],
   "source": [
    "score.sort_values().head(3)"
   ]
  },
  {
   "cell_type": "markdown",
   "metadata": {},
   "source": [
    "To sort from greatest to least, set the `ascending` parameter to `False`."
   ]
  },
  {
   "cell_type": "code",
   "execution_count": 4,
   "metadata": {},
   "outputs": [
    {
     "data": {
      "text/plain": [
       "title\n",
       "Towering Inferno            9.5\n",
       "The Shawshank Redemption    9.3\n",
       "The Godfather               9.2\n",
       "Name: imdb_score, dtype: float64"
      ]
     },
     "execution_count": 4,
     "metadata": {},
     "output_type": "execute_result"
    }
   ],
   "source": [
    "score.sort_values(ascending=False).head(3)"
   ]
  },
  {
   "cell_type": "markdown",
   "metadata": {},
   "source": [
    "### Making missing values appear first\n",
    "\n",
    "By default, all missing values are placed at the end of the resulting Series when sorting. You can change this so that they appear first by setting the `na_position` parameter to `'first'`. This is a good way to quickly view all the missing values in your Series. Here, we sort the `duration` column so that its missing values come first."
   ]
  },
  {
   "cell_type": "code",
   "execution_count": 5,
   "metadata": {},
   "outputs": [
    {
     "data": {
      "text/plain": [
       "title\n",
       "Star Wars: Episode VII - The Force Awakens      NaN\n",
       "Harry Potter and the Deathly Hallows: Part II   NaN\n",
       "Harry Potter and the Deathly Hallows: Part I    NaN\n",
       "Black Water Transit                             NaN\n",
       "War & Peace                                     NaN\n",
       "Name: duration, dtype: float64"
      ]
     },
     "execution_count": 5,
     "metadata": {},
     "output_type": "execute_result"
    }
   ],
   "source": [
    "movie['duration'].sort_values(na_position='first').head()"
   ]
  },
  {
   "cell_type": "markdown",
   "metadata": {},
   "source": [
    "### Sorting the index\n",
    "\n",
    "Since Series also have an index, pandas allows you to sort by it as well with the `sort_index` method."
   ]
  },
  {
   "cell_type": "code",
   "execution_count": 7,
   "metadata": {},
   "outputs": [
    {
     "data": {
      "text/plain": [
       "title\n",
       "#Horror                  3.3\n",
       "10 Cloverfield Lane      7.3\n",
       "10 Days in a Madhouse    7.5\n",
       "Name: imdb_score, dtype: float64"
      ]
     },
     "execution_count": 7,
     "metadata": {},
     "output_type": "execute_result"
    }
   ],
   "source": [
    "score.sort_index().head(3)"
   ]
  },
  {
   "cell_type": "markdown",
   "metadata": {},
   "source": [
    "As with `sort_values`, the same `ascending` parameter exists to change the sort from greatest to least."
   ]
  },
  {
   "cell_type": "code",
   "execution_count": 8,
   "metadata": {},
   "outputs": [
    {
     "data": {
      "text/plain": [
       "title\n",
       "Æon Flux                   5.5\n",
       "xXx: State of the Union    4.3\n",
       "xXx                        5.8\n",
       "Name: imdb_score, dtype: float64"
      ]
     },
     "execution_count": 8,
     "metadata": {},
     "output_type": "execute_result"
    }
   ],
   "source": [
    "score.sort_index(ascending=False).head(3)"
   ]
  },
  {
   "cell_type": "markdown",
   "metadata": {},
   "source": [
    "Python uses the Unicode code point (an integer) of each character to compare strings. We can use the built-in `ord` function to find the code point of a character. For instance, the character `'#'` evaluates as 35, which is less than the value for the characters `'1'` and `'A'`. The movie '#Horror' has the smallest starting character code point and appears first when sorted from least to greatest."
   ]
  },
  {
   "cell_type": "code",
   "execution_count": 9,
   "metadata": {},
   "outputs": [
    {
     "data": {
      "text/plain": [
       "35"
      ]
     },
     "execution_count": 9,
     "metadata": {},
     "output_type": "execute_result"
    }
   ],
   "source": [
    "ord('#')"
   ]
  },
  {
   "cell_type": "code",
   "execution_count": 10,
   "metadata": {},
   "outputs": [
    {
     "data": {
      "text/plain": [
       "49"
      ]
     },
     "execution_count": 10,
     "metadata": {},
     "output_type": "execute_result"
    }
   ],
   "source": [
    "ord('1')"
   ]
  },
  {
   "cell_type": "code",
   "execution_count": 11,
   "metadata": {},
   "outputs": [
    {
     "data": {
      "text/plain": [
       "65"
      ]
     },
     "execution_count": 11,
     "metadata": {},
     "output_type": "execute_result"
    }
   ],
   "source": [
    "ord('A')"
   ]
  },
  {
   "cell_type": "markdown",
   "metadata": {},
   "source": [
    "When sorting the opposite direction, the movie `'Æon Flux'` begins with the 'Æ' character, which has code point 198 and is the largest starting character in our Series. Also, all lowercase letters have higher code points than all uppercase letters, so movies that begin with lowercase letters will appear at the top."
   ]
  },
  {
   "cell_type": "code",
   "execution_count": 12,
   "metadata": {},
   "outputs": [
    {
     "data": {
      "text/plain": [
       "198"
      ]
     },
     "execution_count": 12,
     "metadata": {},
     "output_type": "execute_result"
    }
   ],
   "source": [
    "ord('Æ')"
   ]
  },
  {
   "cell_type": "code",
   "execution_count": 13,
   "metadata": {},
   "outputs": [
    {
     "data": {
      "text/plain": [
       "120"
      ]
     },
     "execution_count": 13,
     "metadata": {},
     "output_type": "execute_result"
    }
   ],
   "source": [
    "ord('x')"
   ]
  },
  {
   "cell_type": "code",
   "execution_count": 14,
   "metadata": {},
   "outputs": [
    {
     "data": {
      "text/plain": [
       "97"
      ]
     },
     "execution_count": 14,
     "metadata": {},
     "output_type": "execute_result"
    }
   ],
   "source": [
    "ord('a')"
   ]
  },
  {
   "cell_type": "code",
   "execution_count": 15,
   "metadata": {},
   "outputs": [
    {
     "data": {
      "text/plain": [
       "90"
      ]
     },
     "execution_count": 15,
     "metadata": {},
     "output_type": "execute_result"
    }
   ],
   "source": [
    "ord('Z')"
   ]
  },
  {
   "cell_type": "markdown",
   "metadata": {},
   "source": [
    "## Ranking\n",
    "\n",
    "The `rank` method provides a numerical ranking for each value in the Series. By default, it ranks the values in ascending order beginning at 1. This method is easier to understand when working on a smaller Series. Let's assign the first 10 scores to the variable name `score10`."
   ]
  },
  {
   "cell_type": "code",
   "execution_count": 16,
   "metadata": {},
   "outputs": [
    {
     "data": {
      "text/plain": [
       "title\n",
       "Avatar                                        7.9\n",
       "Pirates of the Caribbean: At World's End      7.1\n",
       "Spectre                                       6.8\n",
       "The Dark Knight Rises                         8.5\n",
       "Star Wars: Episode VII - The Force Awakens    7.1\n",
       "John Carter                                   6.6\n",
       "Spider-Man 3                                  6.2\n",
       "Tangled                                       7.8\n",
       "Avengers: Age of Ultron                       7.5\n",
       "Harry Potter and the Half-Blood Prince        7.5\n",
       "Name: imdb_score, dtype: float64"
      ]
     },
     "execution_count": 16,
     "metadata": {},
     "output_type": "execute_result"
    }
   ],
   "source": [
    "score10 = score.head(10)\n",
    "score10"
   ]
  },
  {
   "cell_type": "markdown",
   "metadata": {},
   "source": [
    "Every value in this Series will now be ranked from least to greatest. The movie with the lowest score gets a ranking of 1, while the greatest gets a ranking of 10."
   ]
  },
  {
   "cell_type": "code",
   "execution_count": 17,
   "metadata": {},
   "outputs": [
    {
     "data": {
      "text/plain": [
       "title\n",
       "Avatar                                         9.0\n",
       "Pirates of the Caribbean: At World's End       4.5\n",
       "Spectre                                        3.0\n",
       "The Dark Knight Rises                         10.0\n",
       "Star Wars: Episode VII - The Force Awakens     4.5\n",
       "John Carter                                    2.0\n",
       "Spider-Man 3                                   1.0\n",
       "Tangled                                        8.0\n",
       "Avengers: Age of Ultron                        6.5\n",
       "Harry Potter and the Half-Blood Prince         6.5\n",
       "Name: imdb_score, dtype: float64"
      ]
     },
     "execution_count": 17,
     "metadata": {},
     "output_type": "execute_result"
    }
   ],
   "source": [
    "score10.rank()"
   ]
  },
  {
   "cell_type": "markdown",
   "metadata": {},
   "source": [
    "This method can be confusing the first time it is used. First of all, it does NOT sort the data. Notice that the titles in the index are in the same order as the original.\n",
    "\n",
    "It provides the *rank*, just like you would rank runners in a race. If you look at the original data, the movie Spider-Man 3 has the lowest `imdb_score` at 6.2. In the Series resulting from the `rank` method, it gets the value 1. The next lowest score is 6.6 from the movie John Carter, which results in a ranking of 2, followed by Spectre with a ranking of 3.\n",
    "\n",
    "### Ranking ties\n",
    "\n",
    "After Spectre, Pirates of the Caribbean and Star Wars: Episode VII tied with a score of 7.1. There are several methods available to choose how ties are ranked. By default, pandas uses the 'average' method which works by averaging the total rank number for those tied values as if they were not tied. \n",
    "\n",
    "For example, there are two movies tied for the fourth rank. If they were not tied, they would be ranked 4 and 5.  Averaged together produces the value 4.5. Both of those movies are given this rank. From here, the ranking continues at 6.\n",
    "\n",
    "Let's say there were five movies tied for the fourth rank (instead of two), then their non-tied ranks would be 4, 5, 6, 7, and 8 for an average rank of 6. Each of the five movies would be given this rank. The ranking would then continue with 9.\n",
    "\n",
    "There are actually two sets of ties in the above dataset. Avengers: Age of Ultron and Harry Potter and the Half-Blood Prince both have an `imdb_score` of 7.5 and are given the average rank of 6.5 as their non-tied ranks would be 6 and 7.\n",
    "\n",
    "### Change tie method\n",
    "\n",
    "The `method` parameter changes how pandas handles ties. When using a 'dense' rank, each movie tied is given the same rank. The following movie ranks do not skip any numbers. Here, the first set of ties is given rank 4, which is immediately followed by the second set, which is given rank 5. The highest numerical rank is only 8 using dense ranking and not 10 as before."
   ]
  },
  {
   "cell_type": "code",
   "execution_count": 18,
   "metadata": {},
   "outputs": [
    {
     "data": {
      "text/plain": [
       "title\n",
       "Avatar                                        7.0\n",
       "Pirates of the Caribbean: At World's End      4.0\n",
       "Spectre                                       3.0\n",
       "The Dark Knight Rises                         8.0\n",
       "Star Wars: Episode VII - The Force Awakens    4.0\n",
       "John Carter                                   2.0\n",
       "Spider-Man 3                                  1.0\n",
       "Tangled                                       6.0\n",
       "Avengers: Age of Ultron                       5.0\n",
       "Harry Potter and the Half-Blood Prince        5.0\n",
       "Name: imdb_score, dtype: float64"
      ]
     },
     "execution_count": 18,
     "metadata": {},
     "output_type": "execute_result"
    }
   ],
   "source": [
    "score10.rank(method='dense')"
   ]
  },
  {
   "cell_type": "code",
   "execution_count": 19,
   "metadata": {},
   "outputs": [
    {
     "data": {
      "text/plain": [
       "title\n",
       "Avatar                                         9.0\n",
       "Pirates of the Caribbean: At World's End       4.0\n",
       "Spectre                                        3.0\n",
       "The Dark Knight Rises                         10.0\n",
       "Star Wars: Episode VII - The Force Awakens     4.0\n",
       "John Carter                                    2.0\n",
       "Spider-Man 3                                   1.0\n",
       "Tangled                                        8.0\n",
       "Avengers: Age of Ultron                        6.0\n",
       "Harry Potter and the Half-Blood Prince         6.0\n",
       "Name: imdb_score, dtype: float64"
      ]
     },
     "execution_count": 19,
     "metadata": {},
     "output_type": "execute_result"
    }
   ],
   "source": [
    "score10.rank(method = 'min')"
   ]
  },
  {
   "cell_type": "code",
   "execution_count": 20,
   "metadata": {},
   "outputs": [
    {
     "data": {
      "text/plain": [
       "title\n",
       "Avatar                                         9.0\n",
       "Pirates of the Caribbean: At World's End       5.0\n",
       "Spectre                                        3.0\n",
       "The Dark Knight Rises                         10.0\n",
       "Star Wars: Episode VII - The Force Awakens     5.0\n",
       "John Carter                                    2.0\n",
       "Spider-Man 3                                   1.0\n",
       "Tangled                                        8.0\n",
       "Avengers: Age of Ultron                        7.0\n",
       "Harry Potter and the Half-Blood Prince         7.0\n",
       "Name: imdb_score, dtype: float64"
      ]
     },
     "execution_count": 20,
     "metadata": {},
     "output_type": "execute_result"
    }
   ],
   "source": [
    "score10.rank(method = 'max')"
   ]
  },
  {
   "cell_type": "code",
   "execution_count": 21,
   "metadata": {},
   "outputs": [
    {
     "data": {
      "text/plain": [
       "title\n",
       "Avatar                                         9.0\n",
       "Pirates of the Caribbean: At World's End       4.0\n",
       "Spectre                                        3.0\n",
       "The Dark Knight Rises                         10.0\n",
       "Star Wars: Episode VII - The Force Awakens     5.0\n",
       "John Carter                                    2.0\n",
       "Spider-Man 3                                   1.0\n",
       "Tangled                                        8.0\n",
       "Avengers: Age of Ultron                        6.0\n",
       "Harry Potter and the Half-Blood Prince         7.0\n",
       "Name: imdb_score, dtype: float64"
      ]
     },
     "execution_count": 21,
     "metadata": {},
     "output_type": "execute_result"
    }
   ],
   "source": [
    "score10.rank(method = 'first')"
   ]
  },
  {
   "cell_type": "markdown",
   "metadata": {},
   "source": [
    "There are three other methods to handle ties:\n",
    "\n",
    "* 'min' - give each tie the minimum rank integer\n",
    "* 'max' - give each tie the maximum rank integer\n",
    "* 'first' - arbitrarily give the tie that comes first in the dataset the lower/higher number."
   ]
  },
  {
   "cell_type": "markdown",
   "metadata": {},
   "source": [
    "### Rank from greatest to least\n",
    "\n",
    "For movies, it makes more sense to rank the movie with the highest score as 1, which is done by setting the `ascending` parameter to `False`. The 'min' method of ranking is used to handle ties."
   ]
  },
  {
   "cell_type": "code",
   "execution_count": 22,
   "metadata": {},
   "outputs": [
    {
     "data": {
      "text/plain": [
       "title\n",
       "Avatar                                         2.0\n",
       "Pirates of the Caribbean: At World's End       6.0\n",
       "Spectre                                        8.0\n",
       "The Dark Knight Rises                          1.0\n",
       "Star Wars: Episode VII - The Force Awakens     6.0\n",
       "John Carter                                    9.0\n",
       "Spider-Man 3                                  10.0\n",
       "Tangled                                        3.0\n",
       "Avengers: Age of Ultron                        4.0\n",
       "Harry Potter and the Half-Blood Prince         4.0\n",
       "Name: imdb_score, dtype: float64"
      ]
     },
     "execution_count": 22,
     "metadata": {},
     "output_type": "execute_result"
    }
   ],
   "source": [
    "score10.rank(ascending=False, method='min')"
   ]
  },
  {
   "cell_type": "markdown",
   "metadata": {},
   "source": [
    "## Uniqueness\n",
    "\n",
    "There are a few methods that deal with unique values in a Series:\n",
    "\n",
    "* `unique` - Returns a numpy array of all the unique values in order of their appearance\n",
    "* `nunique` - Returns the number of unique values in the Series\n",
    "* `drop_duplicates` - Returns a pandas Series of just the unique values\n",
    "\n",
    "### The `unique` method\n",
    "\n",
    "The `unique` method returns each unique value in the Series preserving the order of its appearance. Let's select the `content_rating` column as a Series and use the unique method to get all the unique ratings. Interestingly, it returns a numpy array and NOT a pandas Series."
   ]
  },
  {
   "cell_type": "code",
   "execution_count": 23,
   "metadata": {},
   "outputs": [
    {
     "data": {
      "text/plain": [
       "array(['PG-13', nan, 'PG', 'G', 'R', 'TV-14', 'TV-PG', 'TV-MA', 'TV-G',\n",
       "       'Not Rated', 'Unrated', 'Approved', 'TV-Y', 'NC-17', 'X', 'TV-Y7',\n",
       "       'GP', 'Passed', 'M'], dtype=object)"
      ]
     },
     "execution_count": 23,
     "metadata": {},
     "output_type": "execute_result"
    }
   ],
   "source": [
    "unique_ratings = movie['content_rating'].unique()\n",
    "unique_ratings"
   ]
  },
  {
   "cell_type": "markdown",
   "metadata": {},
   "source": [
    "### The `nunique` method\n",
    "\n",
    "The `nunique` method returns the number of unique values in the Series."
   ]
  },
  {
   "cell_type": "code",
   "execution_count": 24,
   "metadata": {},
   "outputs": [
    {
     "data": {
      "text/plain": [
       "18"
      ]
     },
     "execution_count": 24,
     "metadata": {},
     "output_type": "execute_result"
    }
   ],
   "source": [
    "movie['content_rating'].nunique()"
   ]
  },
  {
   "cell_type": "markdown",
   "metadata": {},
   "source": [
    "You might expect that the number of unique values to be same as the length of the array returned from the `unique` method. This might not be the case as the `nunique` does not count missing values if they are present. Since there are missing values in this Series, `nunique` returns one less. Also note that `ununique` is considered an aggregating method as it returns a single value."
   ]
  },
  {
   "cell_type": "code",
   "execution_count": null,
   "metadata": {},
   "outputs": [],
   "source": [
    "len(unique_ratings)"
   ]
  },
  {
   "cell_type": "markdown",
   "metadata": {},
   "source": [
    "You can choose to count a single unique missing value with `nunique` by setting the `dropna` parameter to `False`. This will add one to the count if any missing values are present."
   ]
  },
  {
   "cell_type": "code",
   "execution_count": 25,
   "metadata": {},
   "outputs": [
    {
     "data": {
      "text/plain": [
       "19"
      ]
     },
     "execution_count": 25,
     "metadata": {},
     "output_type": "execute_result"
    }
   ],
   "source": [
    "movie['content_rating'].nunique(dropna=False)"
   ]
  },
  {
   "cell_type": "markdown",
   "metadata": {},
   "source": [
    "### The `drop_duplicates` method\n",
    "\n",
    "The `drop_duplicates` method is similar to `unique` but returns a pandas Series. By default, it keeps the first unique value it encounters. "
   ]
  },
  {
   "cell_type": "code",
   "execution_count": 26,
   "metadata": {},
   "outputs": [
    {
     "data": {
      "text/plain": [
       "title\n",
       "Avatar                                        PG-13\n",
       "Star Wars: Episode VII - The Force Awakens      NaN\n",
       "Tangled                                          PG\n",
       "Monsters University                               G\n",
       "The Lovers                                        R\n",
       "Name: content_rating, dtype: object"
      ]
     },
     "execution_count": 26,
     "metadata": {},
     "output_type": "execute_result"
    }
   ],
   "source": [
    "duration_unique_series = movie['content_rating'].drop_duplicates()\n",
    "duration_unique_series.head()"
   ]
  },
  {
   "cell_type": "markdown",
   "metadata": {},
   "source": [
    "It does not discard missing values, so returns the same number of values as the Series returned from the `unique` method when `dropna` was set to `False`."
   ]
  },
  {
   "cell_type": "code",
   "execution_count": null,
   "metadata": {},
   "outputs": [],
   "source": [
    "len(duration_unique_series)"
   ]
  },
  {
   "cell_type": "markdown",
   "metadata": {},
   "source": [
    "### Why does it matter that `drop_duplicates` keeps the first value?\n",
    "\n",
    "A Series is composed of both an index and the values. Both `unique` and `drop_duplicates` only consider the values of a Series. But, the index will likely be different for values that are the same, so order does matter with `drop_duplicates`. Set the `keep` parameter to `last` to keep the very last occurrence or to `False` to drop all values that are duplicates. Notice how the index for the movie rated 'G' is different."
   ]
  },
  {
   "cell_type": "code",
   "execution_count": 27,
   "metadata": {},
   "outputs": [
    {
     "data": {
      "text/plain": [
       "title\n",
       "Arthur                     TV-Y\n",
       "The Powerpuff Girls       TV-Y7\n",
       "Hang 'Em High                 M\n",
       "Home Movies               TV-PG\n",
       "The Broadway Melody      Passed\n",
       "Happy Valley              TV-MA\n",
       "Sunday School Musical         G\n",
       "Name: content_rating, dtype: object"
      ]
     },
     "execution_count": 27,
     "metadata": {},
     "output_type": "execute_result"
    }
   ],
   "source": [
    "movie['content_rating'].drop_duplicates(keep='last').head(7)"
   ]
  },
  {
   "cell_type": "markdown",
   "metadata": {},
   "source": [
    "### Preference for `drop_duplicates`\n",
    "\n",
    "Both the `unique` and `drop_duplicates` methods accomplish similar tasks. The `unique` method returns its results as a numpy array, which isn't ideal. In my opinion, it's better to keep all your results as pandas objects (Series or DataFrames). Working with fewer types of objects makes your data analysis easier. Additionally, the `drop_duplicates` method is more flexible with the availability of the `keep` parameter.\n",
    "\n",
    "The `unique` method is only available for Series, unlike `drop_duplicates`, which is available for both Series and DataFrames. Because the `unique` method's functionality is a subset of `drop_duplicates`, I recommend using `drop_duplicates`."
   ]
  },
  {
   "cell_type": "markdown",
   "metadata": {},
   "source": [
    "## Exercises"
   ]
  },
  {
   "cell_type": "markdown",
   "metadata": {},
   "source": [
    "### Exercise 1\n",
    "\n",
    "<span style=\"color:green; font-size:16px\">Select the column holding the number of reviews as a Series and sort if from greatest to least.</span>"
   ]
  },
  {
   "cell_type": "code",
   "execution_count": 28,
   "metadata": {},
   "outputs": [
    {
     "data": {
      "text/html": [
       "<div>\n",
       "<style scoped>\n",
       "    .dataframe tbody tr th:only-of-type {\n",
       "        vertical-align: middle;\n",
       "    }\n",
       "\n",
       "    .dataframe tbody tr th {\n",
       "        vertical-align: top;\n",
       "    }\n",
       "\n",
       "    .dataframe thead th {\n",
       "        text-align: right;\n",
       "    }\n",
       "</style>\n",
       "<table border=\"1\" class=\"dataframe\">\n",
       "  <thead>\n",
       "    <tr style=\"text-align: right;\">\n",
       "      <th></th>\n",
       "      <th>year</th>\n",
       "      <th>color</th>\n",
       "      <th>content_rating</th>\n",
       "      <th>duration</th>\n",
       "      <th>director_name</th>\n",
       "      <th>director_fb</th>\n",
       "      <th>actor1</th>\n",
       "      <th>actor1_fb</th>\n",
       "      <th>actor2</th>\n",
       "      <th>actor2_fb</th>\n",
       "      <th>...</th>\n",
       "      <th>actor3_fb</th>\n",
       "      <th>gross</th>\n",
       "      <th>genres</th>\n",
       "      <th>num_reviews</th>\n",
       "      <th>num_voted_users</th>\n",
       "      <th>plot_keywords</th>\n",
       "      <th>language</th>\n",
       "      <th>country</th>\n",
       "      <th>budget</th>\n",
       "      <th>imdb_score</th>\n",
       "    </tr>\n",
       "    <tr>\n",
       "      <th>title</th>\n",
       "      <th></th>\n",
       "      <th></th>\n",
       "      <th></th>\n",
       "      <th></th>\n",
       "      <th></th>\n",
       "      <th></th>\n",
       "      <th></th>\n",
       "      <th></th>\n",
       "      <th></th>\n",
       "      <th></th>\n",
       "      <th></th>\n",
       "      <th></th>\n",
       "      <th></th>\n",
       "      <th></th>\n",
       "      <th></th>\n",
       "      <th></th>\n",
       "      <th></th>\n",
       "      <th></th>\n",
       "      <th></th>\n",
       "      <th></th>\n",
       "      <th></th>\n",
       "    </tr>\n",
       "  </thead>\n",
       "  <tbody>\n",
       "    <tr>\n",
       "      <th>Avatar</th>\n",
       "      <td>2009.0</td>\n",
       "      <td>Color</td>\n",
       "      <td>PG-13</td>\n",
       "      <td>178.0</td>\n",
       "      <td>James Cameron</td>\n",
       "      <td>0.0</td>\n",
       "      <td>CCH Pounder</td>\n",
       "      <td>1000.0</td>\n",
       "      <td>Joel David Moore</td>\n",
       "      <td>936.0</td>\n",
       "      <td>...</td>\n",
       "      <td>855.0</td>\n",
       "      <td>760505847.0</td>\n",
       "      <td>Action|Adventure|Fantasy|Sci-Fi</td>\n",
       "      <td>723.0</td>\n",
       "      <td>886204</td>\n",
       "      <td>avatar|future|marine|native|paraplegic</td>\n",
       "      <td>English</td>\n",
       "      <td>USA</td>\n",
       "      <td>237000000.0</td>\n",
       "      <td>7.9</td>\n",
       "    </tr>\n",
       "    <tr>\n",
       "      <th>Pirates of the Caribbean: At World's End</th>\n",
       "      <td>2007.0</td>\n",
       "      <td>Color</td>\n",
       "      <td>PG-13</td>\n",
       "      <td>169.0</td>\n",
       "      <td>Gore Verbinski</td>\n",
       "      <td>563.0</td>\n",
       "      <td>Johnny Depp</td>\n",
       "      <td>40000.0</td>\n",
       "      <td>Orlando Bloom</td>\n",
       "      <td>5000.0</td>\n",
       "      <td>...</td>\n",
       "      <td>1000.0</td>\n",
       "      <td>309404152.0</td>\n",
       "      <td>Action|Adventure|Fantasy</td>\n",
       "      <td>302.0</td>\n",
       "      <td>471220</td>\n",
       "      <td>goddess|marriage ceremony|marriage proposal|pi...</td>\n",
       "      <td>English</td>\n",
       "      <td>USA</td>\n",
       "      <td>300000000.0</td>\n",
       "      <td>7.1</td>\n",
       "    </tr>\n",
       "  </tbody>\n",
       "</table>\n",
       "<p>2 rows × 21 columns</p>\n",
       "</div>"
      ],
      "text/plain": [
       "                                            year  color content_rating  \\\n",
       "title                                                                    \n",
       "Avatar                                    2009.0  Color          PG-13   \n",
       "Pirates of the Caribbean: At World's End  2007.0  Color          PG-13   \n",
       "\n",
       "                                          duration   director_name  \\\n",
       "title                                                                \n",
       "Avatar                                       178.0   James Cameron   \n",
       "Pirates of the Caribbean: At World's End     169.0  Gore Verbinski   \n",
       "\n",
       "                                          director_fb       actor1  actor1_fb  \\\n",
       "title                                                                           \n",
       "Avatar                                            0.0  CCH Pounder     1000.0   \n",
       "Pirates of the Caribbean: At World's End        563.0  Johnny Depp    40000.0   \n",
       "\n",
       "                                                    actor2  actor2_fb  ...  \\\n",
       "title                                                                  ...   \n",
       "Avatar                                    Joel David Moore      936.0  ...   \n",
       "Pirates of the Caribbean: At World's End     Orlando Bloom     5000.0  ...   \n",
       "\n",
       "                                         actor3_fb        gross  \\\n",
       "title                                                             \n",
       "Avatar                                       855.0  760505847.0   \n",
       "Pirates of the Caribbean: At World's End    1000.0  309404152.0   \n",
       "\n",
       "                                                                   genres  \\\n",
       "title                                                                       \n",
       "Avatar                                    Action|Adventure|Fantasy|Sci-Fi   \n",
       "Pirates of the Caribbean: At World's End         Action|Adventure|Fantasy   \n",
       "\n",
       "                                         num_reviews  num_voted_users  \\\n",
       "title                                                                   \n",
       "Avatar                                         723.0           886204   \n",
       "Pirates of the Caribbean: At World's End       302.0           471220   \n",
       "\n",
       "                                                                              plot_keywords  \\\n",
       "title                                                                                         \n",
       "Avatar                                               avatar|future|marine|native|paraplegic   \n",
       "Pirates of the Caribbean: At World's End  goddess|marriage ceremony|marriage proposal|pi...   \n",
       "\n",
       "                                         language country       budget  \\\n",
       "title                                                                    \n",
       "Avatar                                    English     USA  237000000.0   \n",
       "Pirates of the Caribbean: At World's End  English     USA  300000000.0   \n",
       "\n",
       "                                          imdb_score  \n",
       "title                                                 \n",
       "Avatar                                           7.9  \n",
       "Pirates of the Caribbean: At World's End         7.1  \n",
       "\n",
       "[2 rows x 21 columns]"
      ]
     },
     "execution_count": 28,
     "metadata": {},
     "output_type": "execute_result"
    }
   ],
   "source": [
    "movie.head(2)"
   ]
  },
  {
   "cell_type": "code",
   "execution_count": 30,
   "metadata": {},
   "outputs": [
    {
     "data": {
      "text/plain": [
       "title\n",
       "The Dark Knight Rises                813.0\n",
       "Prometheus                           775.0\n",
       "Django Unchained                     765.0\n",
       "Skyfall                              750.0\n",
       "Mad Max: Fury Road                   739.0\n",
       "                                     ...  \n",
       "Her Cry: La Llorona Investigation      NaN\n",
       "Dutch Kills                            NaN\n",
       "The Ridges                             NaN\n",
       "On the Downlow                         NaN\n",
       "The Mongol King                        NaN\n",
       "Name: num_reviews, Length: 4916, dtype: float64"
      ]
     },
     "execution_count": 30,
     "metadata": {},
     "output_type": "execute_result"
    }
   ],
   "source": [
    "reviews = movie['num_reviews']\n",
    "reviews.sort_values(ascending = False)"
   ]
  },
  {
   "cell_type": "markdown",
   "metadata": {},
   "source": [
    "### Exercise 2\n",
    "\n",
    "<span style=\"color:green; font-size:16px\">Find the number of unique actors in each of the actor columns. Do not count missing values. Use three separate calls to `nunique`.</span>"
   ]
  },
  {
   "cell_type": "code",
   "execution_count": 31,
   "metadata": {},
   "outputs": [
    {
     "data": {
      "text/plain": [
       "2095"
      ]
     },
     "execution_count": 31,
     "metadata": {},
     "output_type": "execute_result"
    }
   ],
   "source": [
    "movie['actor1'].nunique()"
   ]
  },
  {
   "cell_type": "code",
   "execution_count": 32,
   "metadata": {},
   "outputs": [
    {
     "data": {
      "text/plain": [
       "3030"
      ]
     },
     "execution_count": 32,
     "metadata": {},
     "output_type": "execute_result"
    }
   ],
   "source": [
    "movie['actor2'].nunique()"
   ]
  },
  {
   "cell_type": "code",
   "execution_count": 33,
   "metadata": {},
   "outputs": [
    {
     "data": {
      "text/plain": [
       "3519"
      ]
     },
     "execution_count": 33,
     "metadata": {},
     "output_type": "execute_result"
    }
   ],
   "source": [
    "movie['actor3'].nunique()"
   ]
  },
  {
   "cell_type": "code",
   "execution_count": 34,
   "metadata": {},
   "outputs": [],
   "source": [
    "from IPython.core.interactiveshell import InteractiveShell\n",
    "InteractiveShell.ast_node_interactivity = \"all\""
   ]
  },
  {
   "cell_type": "markdown",
   "metadata": {},
   "source": [
    "### Exercise 3\n",
    "<span style=\"color:green; font-size:16px\">Select the `year` column, sort it, and drop any duplicates.</span>"
   ]
  },
  {
   "cell_type": "code",
   "execution_count": 36,
   "metadata": {},
   "outputs": [
    {
     "data": {
      "text/plain": [
       "title\n",
       "Intolerance: Love's Struggle Throughout the Ages    1916.0\n",
       "Over the Hill to the Poorhouse                      1920.0\n",
       "The Big Parade                                      1925.0\n",
       "Metropolis                                          1927.0\n",
       "The Broadway Melody                                 1929.0\n",
       "                                                     ...  \n",
       "The Wolverine                                       2013.0\n",
       "An American in Hollywood                            2014.0\n",
       "The Lovers                                          2015.0\n",
       "Pete's Dragon                                       2016.0\n",
       "Star Wars: Episode VII - The Force Awakens             NaN\n",
       "Name: year, Length: 92, dtype: float64"
      ]
     },
     "execution_count": 36,
     "metadata": {},
     "output_type": "execute_result"
    }
   ],
   "source": [
    "movie['year'].sort_values().drop_duplicates()"
   ]
  },
  {
   "cell_type": "markdown",
   "metadata": {},
   "source": [
    "### Exercise 4\n",
    "<span  style=\"color:green; font-size:16px\">Get the same result as Exercise 3 by dropping duplicates first and then sorting it. Which method is faster?</span>"
   ]
  },
  {
   "cell_type": "code",
   "execution_count": 37,
   "metadata": {},
   "outputs": [
    {
     "data": {
      "text/plain": [
       "title\n",
       "Intolerance: Love's Struggle Throughout the Ages    1916.0\n",
       "Over the Hill to the Poorhouse                      1920.0\n",
       "The Big Parade                                      1925.0\n",
       "Metropolis                                          1927.0\n",
       "Pandora's Box                                       1929.0\n",
       "                                                     ...  \n",
       "The Lone Ranger                                     2013.0\n",
       "The Hobbit: The Battle of the Five Armies           2014.0\n",
       "Spectre                                             2015.0\n",
       "Batman v Superman: Dawn of Justice                  2016.0\n",
       "Star Wars: Episode VII - The Force Awakens             NaN\n",
       "Name: year, Length: 92, dtype: float64"
      ]
     },
     "execution_count": 37,
     "metadata": {},
     "output_type": "execute_result"
    }
   ],
   "source": [
    "movie['year'].drop_duplicates().sort_values()"
   ]
  },
  {
   "cell_type": "markdown",
   "metadata": {},
   "source": [
    "### Exercise 5\n",
    "\n",
    "<span style=\"color:green; font-size:16px\">Rank each movie by duration from greatest to least and then sort this ranking from least to greatest. Output the top 10 values. Do you get the same result by sorting the duration from greatest to least?</span>"
   ]
  },
  {
   "cell_type": "code",
   "execution_count": 38,
   "metadata": {},
   "outputs": [
    {
     "data": {
      "text/plain": [
       "title\n",
       "Trapped                      1.0\n",
       "Carlos                       2.0\n",
       "Blood In, Blood Out          3.0\n",
       "Heaven's Gate                4.0\n",
       "The Legend of Suriyothai     5.0\n",
       "Das Boot                     6.0\n",
       "Apocalypse Now               7.0\n",
       "The Company                  8.0\n",
       "Gods and Generals            9.0\n",
       "Gettysburg                  10.0\n",
       "Name: duration, dtype: float64"
      ]
     },
     "execution_count": 38,
     "metadata": {},
     "output_type": "execute_result"
    }
   ],
   "source": [
    "movie['duration'].rank(ascending = False).sort_values().head(10)"
   ]
  },
  {
   "cell_type": "code",
   "execution_count": 40,
   "metadata": {},
   "outputs": [
    {
     "data": {
      "text/plain": [
       "title\n",
       "Trapped                     511.0\n",
       "Carlos                      334.0\n",
       "Blood In, Blood Out         330.0\n",
       "Heaven's Gate               325.0\n",
       "The Legend of Suriyothai    300.0\n",
       "Das Boot                    293.0\n",
       "Apocalypse Now              289.0\n",
       "The Company                 286.0\n",
       "Gods and Generals           280.0\n",
       "Gettysburg                  271.0\n",
       "Name: duration, dtype: float64"
      ]
     },
     "execution_count": 40,
     "metadata": {},
     "output_type": "execute_result"
    }
   ],
   "source": [
    "movie['duration'].sort_values(ascending = False).head(10)"
   ]
  },
  {
   "cell_type": "markdown",
   "metadata": {},
   "source": [
    "### Exercise 6\n",
    "\n",
    "<span style=\"color:green; font-size:16px\">Select actor1 as a Series and sort it from least to greatest, but have missing values appear first. Output the first 10 values.</span>"
   ]
  },
  {
   "cell_type": "code",
   "execution_count": 41,
   "metadata": {},
   "outputs": [],
   "source": [
    "actor1 = movie['actor1'] "
   ]
  },
  {
   "cell_type": "code",
   "execution_count": 43,
   "metadata": {},
   "outputs": [
    {
     "data": {
      "text/plain": [
       "title\n",
       "Pink Ribbons, Inc.                  NaN\n",
       "Sex with Strangers                  NaN\n",
       "The Harvest/La Cosecha              NaN\n",
       "Ayurveda: Art of Being              NaN\n",
       "The Brain That Sings                NaN\n",
       "The Blood of My Brother             NaN\n",
       "Counting                            NaN\n",
       "Get Rich or Die Tryin'          50 Cent\n",
       "The Good Dinosaur          A.J. Buckley\n",
       "Queen of the Damned             Aaliyah\n",
       "Name: actor1, dtype: object"
      ]
     },
     "execution_count": 43,
     "metadata": {},
     "output_type": "execute_result"
    }
   ],
   "source": [
    "actor1.sort_values(na_position = 'first').head(10)"
   ]
  }
 ],
 "metadata": {
  "kernelspec": {
   "display_name": "Python 3 (ipykernel)",
   "language": "python",
   "name": "python3"
  },
  "language_info": {
   "codemirror_mode": {
    "name": "ipython",
    "version": 3
   },
   "file_extension": ".py",
   "mimetype": "text/x-python",
   "name": "python",
   "nbconvert_exporter": "python",
   "pygments_lexer": "ipython3",
   "version": "3.11.0"
  }
 },
 "nbformat": 4,
 "nbformat_minor": 2
}
