{
 "cells": [
  {
   "cell_type": "markdown",
   "metadata": {},
   "source": [
    "# More Series Methods\n",
    "\n",
    "In this chapter, we cover several more useful and important, but less common Series methods that you need to know in order to be fully capable at analyzing data with pandas Series. \n",
    "\n",
    "* `agg` - Computes multiple aggregations at once\n",
    "* `idxmin`/`idxmax` - Returns the index of the min/max value\n",
    "* `diff`/`pct_change` - Finds the difference/percent change from one value to the next\n",
    "* `sample` - Randomly samples values in a Series\n",
    "* `nsmallest`/`nlargest` - Return the smallest/largest `n` values\n",
    "* `replace` - Replace one or more values in a variety of ways\n",
    "\n",
    "Let's begin by reading in the movie dataset and selecting the `imdb_score` column as a Series."
   ]
  },
  {
   "cell_type": "code",
   "execution_count": 1,
   "metadata": {},
   "outputs": [
    {
     "data": {
      "text/plain": [
       "title\n",
       "Avatar                                        7.9\n",
       "Pirates of the Caribbean: At World's End      7.1\n",
       "Spectre                                       6.8\n",
       "The Dark Knight Rises                         8.5\n",
       "Star Wars: Episode VII - The Force Awakens    7.1\n",
       "Name: imdb_score, dtype: float64"
      ]
     },
     "execution_count": 1,
     "metadata": {},
     "output_type": "execute_result"
    }
   ],
   "source": [
    "import pandas as pd\n",
    "movie = pd.read_csv('../data/movie.csv', index_col='title')\n",
    "score = movie['imdb_score']\n",
    "score.head()"
   ]
  },
  {
   "cell_type": "markdown",
   "metadata": {},
   "source": [
    "## The `agg` method\n",
    "\n",
    "The `agg` method allows you to compute several aggregations simultaneously. Provide it a list with the aggregation methods as **strings**. For instance, the following computes the minimum and maximum returning the result as a Series."
   ]
  },
  {
   "cell_type": "code",
   "execution_count": 2,
   "metadata": {},
   "outputs": [
    {
     "data": {
      "text/plain": [
       "min    1.6\n",
       "max    9.5\n",
       "Name: imdb_score, dtype: float64"
      ]
     },
     "execution_count": 2,
     "metadata": {},
     "output_type": "execute_result"
    }
   ],
   "source": [
    "score.agg(['min', 'max'])"
   ]
  },
  {
   "cell_type": "markdown",
   "metadata": {},
   "source": [
    "You may provide any number of aggregation methods to the `agg` method, which is similar to `describe`, but calculates just the aggregations you desire."
   ]
  },
  {
   "cell_type": "code",
   "execution_count": 3,
   "metadata": {},
   "outputs": [
    {
     "data": {
      "text/plain": [
       "min           1.6\n",
       "max           9.5\n",
       "count      4916.0\n",
       "nunique      78.0\n",
       "Name: imdb_score, dtype: float64"
      ]
     },
     "execution_count": 3,
     "metadata": {},
     "output_type": "execute_result"
    }
   ],
   "source": [
    "score.agg(['min', 'max', 'count', 'nunique'])"
   ]
  },
  {
   "cell_type": "markdown",
   "metadata": {},
   "source": [
    "## The index of the minimum and maximum\n",
    "\n",
    "The `min` and `max` methods return the minimum and maximum values of a Series. Occasionally, you'll want to know the index label for these values and can do so with the `idxmin` and `idxmax` methods. Let's find the movie names with worst and best scores."
   ]
  },
  {
   "cell_type": "code",
   "execution_count": 4,
   "metadata": {},
   "outputs": [
    {
     "data": {
      "text/plain": [
       "'Justin Bieber: Never Say Never'"
      ]
     },
     "execution_count": 4,
     "metadata": {},
     "output_type": "execute_result"
    }
   ],
   "source": [
    "score.idxmin()"
   ]
  },
  {
   "cell_type": "code",
   "execution_count": 5,
   "metadata": {},
   "outputs": [
    {
     "data": {
      "text/plain": [
       "'Towering Inferno'"
      ]
     },
     "execution_count": 5,
     "metadata": {},
     "output_type": "execute_result"
    }
   ],
   "source": [
    "score.idxmax()"
   ]
  },
  {
   "cell_type": "markdown",
   "metadata": {},
   "source": [
    "Let's verify these results by dropping any missing values and sorting the Series."
   ]
  },
  {
   "cell_type": "code",
   "execution_count": 6,
   "metadata": {},
   "outputs": [],
   "source": [
    "score_sorted = score.dropna().sort_values(ascending=False)"
   ]
  },
  {
   "cell_type": "markdown",
   "metadata": {},
   "source": [
    "We can now output the first and last few values to verify."
   ]
  },
  {
   "cell_type": "code",
   "execution_count": 7,
   "metadata": {},
   "outputs": [
    {
     "data": {
      "text/plain": [
       "title\n",
       "Towering Inferno            9.5\n",
       "The Shawshank Redemption    9.3\n",
       "The Godfather               9.2\n",
       "Name: imdb_score, dtype: float64"
      ]
     },
     "execution_count": 7,
     "metadata": {},
     "output_type": "execute_result"
    }
   ],
   "source": [
    "score_sorted.head(3)"
   ]
  },
  {
   "cell_type": "code",
   "execution_count": 8,
   "metadata": {},
   "outputs": [
    {
     "data": {
      "text/plain": [
       "title\n",
       "The Helix... Loaded               1.9\n",
       "Foodfight!                        1.7\n",
       "Justin Bieber: Never Say Never    1.6\n",
       "Name: imdb_score, dtype: float64"
      ]
     },
     "execution_count": 8,
     "metadata": {},
     "output_type": "execute_result"
    }
   ],
   "source": [
    "score_sorted.tail(3)"
   ]
  },
  {
   "cell_type": "markdown",
   "metadata": {},
   "source": [
    "Both `idxmin` and `idxmax` always return a single index label. If two or more values share the min/max then pandas returns the index label that appears first in the Series. Since, one value is returned, `idxmin` and `idxmax` are considered aggregation methods."
   ]
  },
  {
   "cell_type": "markdown",
   "metadata": {},
   "source": [
    "## The `nsmallest` and `nlargest` methods\n",
    "\n",
    "The `nsmallest` and `nlargest` methods are convenience methods to quickly return the top `n` values in a Series in order. By default, they return the top 5 values. Use the parameter `n` to choose how many values to return. Here, we select the top 4 movies by score."
   ]
  },
  {
   "cell_type": "code",
   "execution_count": 9,
   "metadata": {},
   "outputs": [
    {
     "data": {
      "text/plain": [
       "title\n",
       "Towering Inferno            9.5\n",
       "The Shawshank Redemption    9.3\n",
       "The Godfather               9.2\n",
       "Dekalog                     9.1\n",
       "Name: imdb_score, dtype: float64"
      ]
     },
     "execution_count": 9,
     "metadata": {},
     "output_type": "execute_result"
    }
   ],
   "source": [
    "score.nlargest(n=4)"
   ]
  },
  {
   "cell_type": "markdown",
   "metadata": {},
   "source": [
    "By default, `nlargest` and `nsmallest` return exactly `n` values even if there are ties. Let's produce a similar result by calling `sort_values` and returning the first five values. You'll notice that two movies are tied for the fourth highest score. By default, `nlargest` returns the first one."
   ]
  },
  {
   "cell_type": "code",
   "execution_count": 10,
   "metadata": {},
   "outputs": [
    {
     "data": {
      "text/plain": [
       "title\n",
       "Towering Inferno            9.5\n",
       "The Shawshank Redemption    9.3\n",
       "The Godfather               9.2\n",
       "Dekalog                     9.1\n",
       "Kickboxer: Vengeance        9.1\n",
       "Name: imdb_score, dtype: float64"
      ]
     },
     "execution_count": 10,
     "metadata": {},
     "output_type": "execute_result"
    }
   ],
   "source": [
    "score.sort_values(ascending=False).head()"
   ]
  },
  {
   "cell_type": "markdown",
   "metadata": {},
   "source": [
    "If you'd like to keep the top `n` values and ties, set the `keep` parameter to the string `'all'`. There is only one other movie with a value of 9.1, but if there were more, all of them would be returned here."
   ]
  },
  {
   "cell_type": "code",
   "execution_count": 11,
   "metadata": {},
   "outputs": [
    {
     "data": {
      "text/plain": [
       "title\n",
       "Towering Inferno            9.5\n",
       "The Shawshank Redemption    9.3\n",
       "The Godfather               9.2\n",
       "Dekalog                     9.1\n",
       "Kickboxer: Vengeance        9.1\n",
       "Name: imdb_score, dtype: float64"
      ]
     },
     "execution_count": 11,
     "metadata": {},
     "output_type": "execute_result"
    }
   ],
   "source": [
    "score.nlargest(n=4, keep='all')"
   ]
  },
  {
   "cell_type": "markdown",
   "metadata": {},
   "source": [
    "The `nsmallest` method works analogously and returns the smallest `n` values."
   ]
  },
  {
   "cell_type": "code",
   "execution_count": 12,
   "metadata": {},
   "outputs": [
    {
     "data": {
      "text/plain": [
       "title\n",
       "Justin Bieber: Never Say Never    1.6\n",
       "Foodfight!                        1.7\n",
       "Disaster Movie                    1.9\n",
       "Name: imdb_score, dtype: float64"
      ]
     },
     "execution_count": 12,
     "metadata": {},
     "output_type": "execute_result"
    }
   ],
   "source": [
    "score.nsmallest(n=3)"
   ]
  },
  {
   "cell_type": "markdown",
   "metadata": {},
   "source": [
    "By default, the first tie is kept, but setting `keep` to `'last'` returns the last occurrence of the nth ranked value. Notice the last index label is different than above."
   ]
  },
  {
   "cell_type": "code",
   "execution_count": 13,
   "metadata": {},
   "outputs": [
    {
     "data": {
      "text/plain": [
       "title\n",
       "Justin Bieber: Never Say Never    1.6\n",
       "Foodfight!                        1.7\n",
       "The Helix... Loaded               1.9\n",
       "Name: imdb_score, dtype: float64"
      ]
     },
     "execution_count": 13,
     "metadata": {},
     "output_type": "execute_result"
    }
   ],
   "source": [
    "score.nsmallest(n=3, keep='last')"
   ]
  },
  {
   "cell_type": "markdown",
   "metadata": {},
   "source": [
    "## Differencing methods `diff` and `pct_change`\n",
    "\n",
    "The `diff` method takes the difference between the current value and some other value. By default, the other value is the immediate preceding one. The first value in the Series has no previous value, so its difference will be missing in the result. Let's read a small sample of Microsoft's stock dataset found in the stocks folder containing 10 trading days worth of information."
   ]
  },
  {
   "cell_type": "code",
   "execution_count": 14,
   "metadata": {},
   "outputs": [
    {
     "data": {
      "text/html": [
       "<div>\n",
       "<style scoped>\n",
       "    .dataframe tbody tr th:only-of-type {\n",
       "        vertical-align: middle;\n",
       "    }\n",
       "\n",
       "    .dataframe tbody tr th {\n",
       "        vertical-align: top;\n",
       "    }\n",
       "\n",
       "    .dataframe thead th {\n",
       "        text-align: right;\n",
       "    }\n",
       "</style>\n",
       "<table border=\"1\" class=\"dataframe\">\n",
       "  <thead>\n",
       "    <tr style=\"text-align: right;\">\n",
       "      <th></th>\n",
       "      <th>date</th>\n",
       "      <th>open</th>\n",
       "      <th>high</th>\n",
       "      <th>low</th>\n",
       "      <th>close</th>\n",
       "      <th>adjusted_close</th>\n",
       "      <th>volume</th>\n",
       "      <th>dividend_amount</th>\n",
       "    </tr>\n",
       "  </thead>\n",
       "  <tbody>\n",
       "    <tr>\n",
       "      <th>0</th>\n",
       "      <td>2019-10-08</td>\n",
       "      <td>137.08</td>\n",
       "      <td>137.76</td>\n",
       "      <td>135.6200</td>\n",
       "      <td>135.67</td>\n",
       "      <td>135.67</td>\n",
       "      <td>25550500</td>\n",
       "      <td>0.0</td>\n",
       "    </tr>\n",
       "    <tr>\n",
       "      <th>1</th>\n",
       "      <td>2019-10-09</td>\n",
       "      <td>137.46</td>\n",
       "      <td>138.70</td>\n",
       "      <td>136.9700</td>\n",
       "      <td>138.24</td>\n",
       "      <td>138.24</td>\n",
       "      <td>19749900</td>\n",
       "      <td>0.0</td>\n",
       "    </tr>\n",
       "    <tr>\n",
       "      <th>2</th>\n",
       "      <td>2019-10-10</td>\n",
       "      <td>138.49</td>\n",
       "      <td>139.67</td>\n",
       "      <td>138.2500</td>\n",
       "      <td>139.10</td>\n",
       "      <td>139.10</td>\n",
       "      <td>17654600</td>\n",
       "      <td>0.0</td>\n",
       "    </tr>\n",
       "    <tr>\n",
       "      <th>3</th>\n",
       "      <td>2019-10-11</td>\n",
       "      <td>140.12</td>\n",
       "      <td>141.03</td>\n",
       "      <td>139.5000</td>\n",
       "      <td>139.68</td>\n",
       "      <td>139.68</td>\n",
       "      <td>25446000</td>\n",
       "      <td>0.0</td>\n",
       "    </tr>\n",
       "    <tr>\n",
       "      <th>4</th>\n",
       "      <td>2019-10-14</td>\n",
       "      <td>139.69</td>\n",
       "      <td>140.29</td>\n",
       "      <td>139.5200</td>\n",
       "      <td>139.55</td>\n",
       "      <td>139.55</td>\n",
       "      <td>13304300</td>\n",
       "      <td>0.0</td>\n",
       "    </tr>\n",
       "    <tr>\n",
       "      <th>5</th>\n",
       "      <td>2019-10-15</td>\n",
       "      <td>140.06</td>\n",
       "      <td>141.79</td>\n",
       "      <td>139.8100</td>\n",
       "      <td>141.57</td>\n",
       "      <td>141.57</td>\n",
       "      <td>19695700</td>\n",
       "      <td>0.0</td>\n",
       "    </tr>\n",
       "    <tr>\n",
       "      <th>6</th>\n",
       "      <td>2019-10-16</td>\n",
       "      <td>140.79</td>\n",
       "      <td>140.99</td>\n",
       "      <td>139.5300</td>\n",
       "      <td>140.41</td>\n",
       "      <td>140.41</td>\n",
       "      <td>20751600</td>\n",
       "      <td>0.0</td>\n",
       "    </tr>\n",
       "    <tr>\n",
       "      <th>7</th>\n",
       "      <td>2019-10-17</td>\n",
       "      <td>140.95</td>\n",
       "      <td>141.42</td>\n",
       "      <td>139.0200</td>\n",
       "      <td>139.69</td>\n",
       "      <td>139.69</td>\n",
       "      <td>21460600</td>\n",
       "      <td>0.0</td>\n",
       "    </tr>\n",
       "    <tr>\n",
       "      <th>8</th>\n",
       "      <td>2019-10-18</td>\n",
       "      <td>139.76</td>\n",
       "      <td>140.00</td>\n",
       "      <td>136.5638</td>\n",
       "      <td>137.41</td>\n",
       "      <td>137.41</td>\n",
       "      <td>27654449</td>\n",
       "      <td>0.0</td>\n",
       "    </tr>\n",
       "    <tr>\n",
       "      <th>9</th>\n",
       "      <td>2019-10-21</td>\n",
       "      <td>138.45</td>\n",
       "      <td>138.50</td>\n",
       "      <td>137.0100</td>\n",
       "      <td>138.39</td>\n",
       "      <td>138.39</td>\n",
       "      <td>20668059</td>\n",
       "      <td>0.0</td>\n",
       "    </tr>\n",
       "  </tbody>\n",
       "</table>\n",
       "</div>"
      ],
      "text/plain": [
       "         date    open    high       low   close  adjusted_close    volume  \\\n",
       "0  2019-10-08  137.08  137.76  135.6200  135.67          135.67  25550500   \n",
       "1  2019-10-09  137.46  138.70  136.9700  138.24          138.24  19749900   \n",
       "2  2019-10-10  138.49  139.67  138.2500  139.10          139.10  17654600   \n",
       "3  2019-10-11  140.12  141.03  139.5000  139.68          139.68  25446000   \n",
       "4  2019-10-14  139.69  140.29  139.5200  139.55          139.55  13304300   \n",
       "5  2019-10-15  140.06  141.79  139.8100  141.57          141.57  19695700   \n",
       "6  2019-10-16  140.79  140.99  139.5300  140.41          140.41  20751600   \n",
       "7  2019-10-17  140.95  141.42  139.0200  139.69          139.69  21460600   \n",
       "8  2019-10-18  139.76  140.00  136.5638  137.41          137.41  27654449   \n",
       "9  2019-10-21  138.45  138.50  137.0100  138.39          138.39  20668059   \n",
       "\n",
       "   dividend_amount  \n",
       "0              0.0  \n",
       "1              0.0  \n",
       "2              0.0  \n",
       "3              0.0  \n",
       "4              0.0  \n",
       "5              0.0  \n",
       "6              0.0  \n",
       "7              0.0  \n",
       "8              0.0  \n",
       "9              0.0  "
      ]
     },
     "execution_count": 14,
     "metadata": {},
     "output_type": "execute_result"
    }
   ],
   "source": [
    "msft = pd.read_csv('../data/stocks/msft_sample.csv')\n",
    "msft"
   ]
  },
  {
   "cell_type": "markdown",
   "metadata": {},
   "source": [
    "Let's select the `adjusted_close` column as a Series and call the `diff` method on it. The difference between the second and first values is 2.57 and is now the new second value in the returned Series."
   ]
  },
  {
   "cell_type": "code",
   "execution_count": 16,
   "metadata": {},
   "outputs": [
    {
     "data": {
      "text/plain": [
       "0     NaN\n",
       "1    2.57\n",
       "2    0.86\n",
       "3    0.58\n",
       "4   -0.13\n",
       "5    2.02\n",
       "6   -1.16\n",
       "7   -0.72\n",
       "8   -2.28\n",
       "9    0.98\n",
       "Name: adjusted_close, dtype: float64"
      ]
     },
     "execution_count": 16,
     "metadata": {},
     "output_type": "execute_result"
    }
   ],
   "source": [
    "ac = msft['adjusted_close']\n",
    "ac.diff()"
   ]
  },
  {
   "cell_type": "markdown",
   "metadata": {},
   "source": [
    "It's possible to control which two values are subtracted. By default, the `periods` parameter is set to 1. Here, we change it to 3. The first possible difference happens between the fourth (139.68) and first (135.67) values, resulting in 4.01. The first three values do not have three positions ahead of them, so they are now missing."
   ]
  },
  {
   "cell_type": "code",
   "execution_count": 17,
   "metadata": {
    "scrolled": true
   },
   "outputs": [
    {
     "data": {
      "text/plain": [
       "0     NaN\n",
       "1     NaN\n",
       "2     NaN\n",
       "3    4.01\n",
       "4    1.31\n",
       "5    2.47\n",
       "6    0.73\n",
       "7    0.14\n",
       "8   -4.16\n",
       "9   -2.02\n",
       "Name: adjusted_close, dtype: float64"
      ]
     },
     "execution_count": 17,
     "metadata": {},
     "output_type": "execute_result"
    }
   ],
   "source": [
    "ac.diff(periods=3)"
   ]
  },
  {
   "cell_type": "markdown",
   "metadata": {},
   "source": [
    "We can take the difference between the current value and a value further ahead by using negative integers. Here, we take the current value and subtract the second value following it. The last two values are missing as they do not have two values ahead."
   ]
  },
  {
   "cell_type": "code",
   "execution_count": 18,
   "metadata": {},
   "outputs": [
    {
     "data": {
      "text/plain": [
       "0   -3.43\n",
       "1   -1.44\n",
       "2   -0.45\n",
       "3   -1.89\n",
       "4   -0.86\n",
       "5    1.88\n",
       "6    3.00\n",
       "7    1.30\n",
       "8     NaN\n",
       "9     NaN\n",
       "Name: adjusted_close, dtype: float64"
      ]
     },
     "execution_count": 18,
     "metadata": {},
     "output_type": "execute_result"
    }
   ],
   "source": [
    "ac.diff(-2)"
   ]
  },
  {
   "cell_type": "markdown",
   "metadata": {},
   "source": [
    "The `pct_change` method works analogously but returns the percentage difference instead."
   ]
  },
  {
   "cell_type": "code",
   "execution_count": 19,
   "metadata": {},
   "outputs": [
    {
     "data": {
      "text/plain": [
       "0         NaN\n",
       "1    0.018943\n",
       "2    0.006221\n",
       "3    0.004170\n",
       "4   -0.000931\n",
       "5    0.014475\n",
       "6   -0.008194\n",
       "7   -0.005128\n",
       "8   -0.016322\n",
       "9    0.007132\n",
       "Name: adjusted_close, dtype: float64"
      ]
     },
     "execution_count": 19,
     "metadata": {},
     "output_type": "execute_result"
    }
   ],
   "source": [
    "ac.pct_change()"
   ]
  },
  {
   "cell_type": "code",
   "execution_count": null,
   "metadata": {},
   "outputs": [],
   "source": [
    "ac.pct_change(-2)"
   ]
  },
  {
   "cell_type": "markdown",
   "metadata": {},
   "source": [
    "## Randomly sample a Series\n",
    "\n",
    "The `sample` method is great for randomly sampling the values in your Series. Set the `n` parameter of the `sample` method to an integer to return that many randomly selected values."
   ]
  },
  {
   "cell_type": "code",
   "execution_count": 20,
   "metadata": {},
   "outputs": [
    {
     "data": {
      "text/plain": [
       "title\n",
       "I Origins                         7.3\n",
       "Alleluia! The Devil's Carnival    7.4\n",
       "Highlander                        7.2\n",
       "Rise of the Guardians             7.3\n",
       "Shopgirl                          6.4\n",
       "Name: imdb_score, dtype: float64"
      ]
     },
     "execution_count": 20,
     "metadata": {},
     "output_type": "execute_result"
    }
   ],
   "source": [
    "score.sample(n=5)"
   ]
  },
  {
   "cell_type": "markdown",
   "metadata": {},
   "source": [
    "By default, the sampling is done without replacement, so there is no possibility of selecting the same item. If you attempt to choose a sample larger than the number of values in the Series, you'll get an error."
   ]
  },
  {
   "cell_type": "code",
   "execution_count": 21,
   "metadata": {
    "collapsed": true
   },
   "outputs": [
    {
     "ename": "ValueError",
     "evalue": "Cannot take a larger sample than population when 'replace=False'",
     "output_type": "error",
     "traceback": [
      "\u001b[0;31m---------------------------------------------------------------------------\u001b[0m",
      "\u001b[0;31mValueError\u001b[0m                                Traceback (most recent call last)",
      "Cell \u001b[0;32mIn[21], line 1\u001b[0m\n\u001b[0;32m----> 1\u001b[0m \u001b[43mscore\u001b[49m\u001b[38;5;241;43m.\u001b[39;49m\u001b[43msample\u001b[49m\u001b[43m(\u001b[49m\u001b[43mn\u001b[49m\u001b[38;5;241;43m=\u001b[39;49m\u001b[38;5;241;43m5000\u001b[39;49m\u001b[43m)\u001b[49m\n",
      "File \u001b[0;32m~/miniconda3/envs/mini_ds/lib/python3.11/site-packages/pandas/core/generic.py:5773\u001b[0m, in \u001b[0;36mNDFrame.sample\u001b[0;34m(self, n, frac, replace, weights, random_state, axis, ignore_index)\u001b[0m\n\u001b[1;32m   5770\u001b[0m \u001b[38;5;28;01mif\u001b[39;00m weights \u001b[38;5;129;01mis\u001b[39;00m \u001b[38;5;129;01mnot\u001b[39;00m \u001b[38;5;28;01mNone\u001b[39;00m:\n\u001b[1;32m   5771\u001b[0m     weights \u001b[38;5;241m=\u001b[39m sample\u001b[38;5;241m.\u001b[39mpreprocess_weights(\u001b[38;5;28mself\u001b[39m, weights, axis)\n\u001b[0;32m-> 5773\u001b[0m sampled_indices \u001b[38;5;241m=\u001b[39m \u001b[43msample\u001b[49m\u001b[38;5;241;43m.\u001b[39;49m\u001b[43msample\u001b[49m\u001b[43m(\u001b[49m\u001b[43mobj_len\u001b[49m\u001b[43m,\u001b[49m\u001b[43m \u001b[49m\u001b[43msize\u001b[49m\u001b[43m,\u001b[49m\u001b[43m \u001b[49m\u001b[43mreplace\u001b[49m\u001b[43m,\u001b[49m\u001b[43m \u001b[49m\u001b[43mweights\u001b[49m\u001b[43m,\u001b[49m\u001b[43m \u001b[49m\u001b[43mrs\u001b[49m\u001b[43m)\u001b[49m\n\u001b[1;32m   5774\u001b[0m result \u001b[38;5;241m=\u001b[39m \u001b[38;5;28mself\u001b[39m\u001b[38;5;241m.\u001b[39mtake(sampled_indices, axis\u001b[38;5;241m=\u001b[39maxis)\n\u001b[1;32m   5776\u001b[0m \u001b[38;5;28;01mif\u001b[39;00m ignore_index:\n",
      "File \u001b[0;32m~/miniconda3/envs/mini_ds/lib/python3.11/site-packages/pandas/core/sample.py:150\u001b[0m, in \u001b[0;36msample\u001b[0;34m(obj_len, size, replace, weights, random_state)\u001b[0m\n\u001b[1;32m    147\u001b[0m     \u001b[38;5;28;01melse\u001b[39;00m:\n\u001b[1;32m    148\u001b[0m         \u001b[38;5;28;01mraise\u001b[39;00m \u001b[38;5;167;01mValueError\u001b[39;00m(\u001b[38;5;124m\"\u001b[39m\u001b[38;5;124mInvalid weights: weights sum to zero\u001b[39m\u001b[38;5;124m\"\u001b[39m)\n\u001b[0;32m--> 150\u001b[0m \u001b[38;5;28;01mreturn\u001b[39;00m \u001b[43mrandom_state\u001b[49m\u001b[38;5;241;43m.\u001b[39;49m\u001b[43mchoice\u001b[49m\u001b[43m(\u001b[49m\u001b[43mobj_len\u001b[49m\u001b[43m,\u001b[49m\u001b[43m \u001b[49m\u001b[43msize\u001b[49m\u001b[38;5;241;43m=\u001b[39;49m\u001b[43msize\u001b[49m\u001b[43m,\u001b[49m\u001b[43m \u001b[49m\u001b[43mreplace\u001b[49m\u001b[38;5;241;43m=\u001b[39;49m\u001b[43mreplace\u001b[49m\u001b[43m,\u001b[49m\u001b[43m \u001b[49m\u001b[43mp\u001b[49m\u001b[38;5;241;43m=\u001b[39;49m\u001b[43mweights\u001b[49m\u001b[43m)\u001b[49m\u001b[38;5;241m.\u001b[39mastype(\n\u001b[1;32m    151\u001b[0m     np\u001b[38;5;241m.\u001b[39mintp, copy\u001b[38;5;241m=\u001b[39m\u001b[38;5;28;01mFalse\u001b[39;00m\n\u001b[1;32m    152\u001b[0m )\n",
      "File \u001b[0;32mmtrand.pyx:984\u001b[0m, in \u001b[0;36mnumpy.random.mtrand.RandomState.choice\u001b[0;34m()\u001b[0m\n",
      "\u001b[0;31mValueError\u001b[0m: Cannot take a larger sample than population when 'replace=False'"
     ]
    }
   ],
   "source": [
    "score.sample(n=5000)"
   ]
  },
  {
   "cell_type": "markdown",
   "metadata": {},
   "source": [
    "However, you can sample with replacement, meaning that you can get duplicate items by setting the `replace` parameter to `False`."
   ]
  },
  {
   "cell_type": "code",
   "execution_count": 22,
   "metadata": {},
   "outputs": [
    {
     "data": {
      "text/plain": [
       "title\n",
       "Your Highness                       5.6\n",
       "Event Horizon                       6.7\n",
       "Perfume: The Story of a Murderer    7.5\n",
       "The Phantom                         4.9\n",
       "The Ladykillers                     6.2\n",
       "Name: imdb_score, dtype: float64"
      ]
     },
     "execution_count": 22,
     "metadata": {},
     "output_type": "execute_result"
    }
   ],
   "source": [
    "score.sample(n=5000, replace=True).head()"
   ]
  },
  {
   "cell_type": "markdown",
   "metadata": {},
   "source": [
    "You can also sample a fraction of the dataset with the `frac` parameter. Here we take a random sample of 15% of the data."
   ]
  },
  {
   "cell_type": "code",
   "execution_count": 23,
   "metadata": {},
   "outputs": [
    {
     "data": {
      "text/plain": [
       "title\n",
       "Aliens in the Attic           5.4\n",
       "Good Intentions               5.2\n",
       "The Family                    7.5\n",
       "Blades of Glory               6.3\n",
       "Curse of the Golden Flower    7.0\n",
       "Name: imdb_score, dtype: float64"
      ]
     },
     "execution_count": 23,
     "metadata": {},
     "output_type": "execute_result"
    }
   ],
   "source": [
    "score_sample = score.sample(frac=0.15)\n",
    "score_sample.head()"
   ]
  },
  {
   "cell_type": "markdown",
   "metadata": {},
   "source": [
    "Let's verify that the sample is indeed 15% of the total length of the original."
   ]
  },
  {
   "cell_type": "code",
   "execution_count": 24,
   "metadata": {},
   "outputs": [
    {
     "data": {
      "text/plain": [
       "737"
      ]
     },
     "execution_count": 24,
     "metadata": {},
     "output_type": "execute_result"
    }
   ],
   "source": [
    "len(score_sample)"
   ]
  },
  {
   "cell_type": "code",
   "execution_count": 25,
   "metadata": {},
   "outputs": [
    {
     "data": {
      "text/plain": [
       "737.4"
      ]
     },
     "execution_count": 25,
     "metadata": {},
     "output_type": "execute_result"
    }
   ],
   "source": [
    "len(score) * 0.15"
   ]
  },
  {
   "cell_type": "markdown",
   "metadata": {},
   "source": [
    "## The `replace` method\n",
    "\n",
    "The `replace` method replaces particular values in the Series with other values. There are a lot of options with the `replace` method to handle many different kinds of replacement. Let's select the color column from the movie dataset as a Series."
   ]
  },
  {
   "cell_type": "code",
   "execution_count": 26,
   "metadata": {},
   "outputs": [
    {
     "data": {
      "text/plain": [
       "title\n",
       "Avatar                                        Color\n",
       "Pirates of the Caribbean: At World's End      Color\n",
       "Spectre                                       Color\n",
       "The Dark Knight Rises                         Color\n",
       "Star Wars: Episode VII - The Force Awakens      NaN\n",
       "Name: color, dtype: object"
      ]
     },
     "execution_count": 26,
     "metadata": {},
     "output_type": "execute_result"
    }
   ],
   "source": [
    "color = movie['color']\n",
    "color.head()"
   ]
  },
  {
   "cell_type": "markdown",
   "metadata": {},
   "source": [
    "The simplest way to replace a value in the Series is to pass the `replace` method two arguments. The first is the value you'd like to replace and the second is the replacement value. Here, we replace the exact string 'Color' with 'Colour'."
   ]
  },
  {
   "cell_type": "code",
   "execution_count": 27,
   "metadata": {},
   "outputs": [
    {
     "data": {
      "text/plain": [
       "title\n",
       "Avatar                                        Colour\n",
       "Pirates of the Caribbean: At World's End      Colour\n",
       "Spectre                                       Colour\n",
       "The Dark Knight Rises                         Colour\n",
       "Star Wars: Episode VII - The Force Awakens       NaN\n",
       "Name: color, dtype: object"
      ]
     },
     "execution_count": 27,
     "metadata": {},
     "output_type": "execute_result"
    }
   ],
   "source": [
    "color.replace('Color', 'Colour').head()"
   ]
  },
  {
   "cell_type": "markdown",
   "metadata": {},
   "source": [
    "The `replace` method works with columns of all data types. Here we use the `score` Series to replace the value 7.1 with 999."
   ]
  },
  {
   "cell_type": "code",
   "execution_count": 28,
   "metadata": {},
   "outputs": [
    {
     "data": {
      "text/plain": [
       "title\n",
       "Avatar                                        7.9\n",
       "Pirates of the Caribbean: At World's End      7.1\n",
       "Spectre                                       6.8\n",
       "The Dark Knight Rises                         8.5\n",
       "Star Wars: Episode VII - The Force Awakens    7.1\n",
       "Name: imdb_score, dtype: float64"
      ]
     },
     "execution_count": 28,
     "metadata": {},
     "output_type": "execute_result"
    }
   ],
   "source": [
    "score.head()"
   ]
  },
  {
   "cell_type": "code",
   "execution_count": 29,
   "metadata": {},
   "outputs": [
    {
     "data": {
      "text/plain": [
       "title\n",
       "Avatar                                          7.9\n",
       "Pirates of the Caribbean: At World's End      999.0\n",
       "Spectre                                         6.8\n",
       "The Dark Knight Rises                           8.5\n",
       "Star Wars: Episode VII - The Force Awakens    999.0\n",
       "Name: imdb_score, dtype: float64"
      ]
     },
     "execution_count": 29,
     "metadata": {},
     "output_type": "execute_result"
    }
   ],
   "source": [
    "score.replace(7.1, 999).head()"
   ]
  },
  {
   "cell_type": "markdown",
   "metadata": {},
   "source": [
    "You might think you can replace specific words within strings, and you would be correct, but doing so necessitates more effort. Let's take a look at the `genres` column as a Series."
   ]
  },
  {
   "cell_type": "code",
   "execution_count": 30,
   "metadata": {},
   "outputs": [
    {
     "data": {
      "text/plain": [
       "title\n",
       "Avatar                                        Action|Adventure|Fantasy|Sci-Fi\n",
       "Pirates of the Caribbean: At World's End             Action|Adventure|Fantasy\n",
       "Spectre                                             Action|Adventure|Thriller\n",
       "The Dark Knight Rises                                         Action|Thriller\n",
       "Star Wars: Episode VII - The Force Awakens                        Documentary\n",
       "Name: genres, dtype: object"
      ]
     },
     "execution_count": 30,
     "metadata": {},
     "output_type": "execute_result"
    }
   ],
   "source": [
    "genres = movie['genres']\n",
    "genres.head()"
   ]
  },
  {
   "cell_type": "markdown",
   "metadata": {},
   "source": [
    "Let's say we are interested in replacing the string 'Adventure' with 'Adv' to shorten the length of each string in this column. The following won't work."
   ]
  },
  {
   "cell_type": "code",
   "execution_count": 31,
   "metadata": {},
   "outputs": [
    {
     "data": {
      "text/plain": [
       "title\n",
       "Avatar                                        Action|Adventure|Fantasy|Sci-Fi\n",
       "Pirates of the Caribbean: At World's End             Action|Adventure|Fantasy\n",
       "Spectre                                             Action|Adventure|Thriller\n",
       "The Dark Knight Rises                                         Action|Thriller\n",
       "Star Wars: Episode VII - The Force Awakens                        Documentary\n",
       "Name: genres, dtype: object"
      ]
     },
     "execution_count": 31,
     "metadata": {},
     "output_type": "execute_result"
    }
   ],
   "source": [
    "genres.replace('Adventure', 'Adv').head()"
   ]
  },
  {
   "cell_type": "markdown",
   "metadata": {},
   "source": [
    "By default, the `replace` method works by matching the **entire** value in the Series. The genre must be exactly 'Adventure' for it to be replaced without any other text surrounding it. It is possible to do this within-string replacement, but you'll need to understand regular expressions first. Setting the `regex` parameter to `True` will do the trick. The following is presented with some precaution. You should not use the `regex` parameter until you understand the fundamentals of regular expressions, which are thoroughly covered in its own part of the book."
   ]
  },
  {
   "cell_type": "code",
   "execution_count": 32,
   "metadata": {},
   "outputs": [
    {
     "data": {
      "text/plain": [
       "title\n",
       "Avatar                                        Action|Adv|Fantasy|Sci-Fi\n",
       "Pirates of the Caribbean: At World's End             Action|Adv|Fantasy\n",
       "Spectre                                             Action|Adv|Thriller\n",
       "The Dark Knight Rises                                   Action|Thriller\n",
       "Star Wars: Episode VII - The Force Awakens                  Documentary\n",
       "Name: genres, dtype: object"
      ]
     },
     "execution_count": 32,
     "metadata": {},
     "output_type": "execute_result"
    }
   ],
   "source": [
    "genres.replace('Adventure', 'Adv', regex=True).head()"
   ]
  },
  {
   "cell_type": "markdown",
   "metadata": {},
   "source": [
    "## Exercises\n",
    "\n",
    "Read in the employee dataset by executing the cell below and use it for the following exercises."
   ]
  },
  {
   "cell_type": "code",
   "execution_count": 33,
   "metadata": {},
   "outputs": [
    {
     "data": {
      "text/html": [
       "<div>\n",
       "<style scoped>\n",
       "    .dataframe tbody tr th:only-of-type {\n",
       "        vertical-align: middle;\n",
       "    }\n",
       "\n",
       "    .dataframe tbody tr th {\n",
       "        vertical-align: top;\n",
       "    }\n",
       "\n",
       "    .dataframe thead th {\n",
       "        text-align: right;\n",
       "    }\n",
       "</style>\n",
       "<table border=\"1\" class=\"dataframe\">\n",
       "  <thead>\n",
       "    <tr style=\"text-align: right;\">\n",
       "      <th></th>\n",
       "      <th>dept</th>\n",
       "      <th>title</th>\n",
       "      <th>hire_date</th>\n",
       "      <th>salary</th>\n",
       "      <th>sex</th>\n",
       "      <th>race</th>\n",
       "    </tr>\n",
       "  </thead>\n",
       "  <tbody>\n",
       "    <tr>\n",
       "      <th>0</th>\n",
       "      <td>Police</td>\n",
       "      <td>POLICE SERGEANT</td>\n",
       "      <td>2001-12-03</td>\n",
       "      <td>87545.38</td>\n",
       "      <td>Male</td>\n",
       "      <td>White</td>\n",
       "    </tr>\n",
       "    <tr>\n",
       "      <th>1</th>\n",
       "      <td>Other</td>\n",
       "      <td>ASSISTANT CITY ATTORNEY II</td>\n",
       "      <td>2010-11-15</td>\n",
       "      <td>82182.00</td>\n",
       "      <td>Male</td>\n",
       "      <td>Hispanic</td>\n",
       "    </tr>\n",
       "    <tr>\n",
       "      <th>2</th>\n",
       "      <td>Houston Public Works</td>\n",
       "      <td>SENIOR SLUDGE PROCESSOR</td>\n",
       "      <td>2006-01-09</td>\n",
       "      <td>49275.00</td>\n",
       "      <td>Male</td>\n",
       "      <td>Black</td>\n",
       "    </tr>\n",
       "    <tr>\n",
       "      <th>3</th>\n",
       "      <td>Police</td>\n",
       "      <td>SENIOR POLICE OFFICER</td>\n",
       "      <td>1997-05-27</td>\n",
       "      <td>75942.10</td>\n",
       "      <td>Male</td>\n",
       "      <td>Hispanic</td>\n",
       "    </tr>\n",
       "    <tr>\n",
       "      <th>4</th>\n",
       "      <td>Police</td>\n",
       "      <td>SENIOR POLICE OFFICER</td>\n",
       "      <td>2006-01-23</td>\n",
       "      <td>69355.26</td>\n",
       "      <td>Male</td>\n",
       "      <td>White</td>\n",
       "    </tr>\n",
       "  </tbody>\n",
       "</table>\n",
       "</div>"
      ],
      "text/plain": [
       "                   dept                       title   hire_date    salary  \\\n",
       "0                Police             POLICE SERGEANT  2001-12-03  87545.38   \n",
       "1                 Other  ASSISTANT CITY ATTORNEY II  2010-11-15  82182.00   \n",
       "2  Houston Public Works     SENIOR SLUDGE PROCESSOR  2006-01-09  49275.00   \n",
       "3                Police       SENIOR POLICE OFFICER  1997-05-27  75942.10   \n",
       "4                Police       SENIOR POLICE OFFICER  2006-01-23  69355.26   \n",
       "\n",
       "    sex      race  \n",
       "0  Male     White  \n",
       "1  Male  Hispanic  \n",
       "2  Male     Black  \n",
       "3  Male  Hispanic  \n",
       "4  Male     White  "
      ]
     },
     "execution_count": 33,
     "metadata": {},
     "output_type": "execute_result"
    }
   ],
   "source": [
    "emp = pd.read_csv('../data/employee.csv')\n",
    "emp.head()"
   ]
  },
  {
   "cell_type": "markdown",
   "metadata": {},
   "source": [
    "### Exercise 1\n",
    "\n",
    "<span style=\"color:green; font-size:16px\">Find the minimum, maximum, mean, median, and standard deviation of the salary column. Return the result as a Series.</span>"
   ]
  },
  {
   "cell_type": "code",
   "execution_count": 34,
   "metadata": {},
   "outputs": [
    {
     "data": {
      "text/plain": [
       "min         9912.000000\n",
       "max       342784.000000\n",
       "mean       58206.761571\n",
       "median     56956.640000\n",
       "std        23322.315285\n",
       "Name: salary, dtype: float64"
      ]
     },
     "execution_count": 34,
     "metadata": {},
     "output_type": "execute_result"
    }
   ],
   "source": [
    "salary = emp['salary'].agg(['min', 'max', 'mean', 'median', 'std'])\n",
    "salary"
   ]
  },
  {
   "cell_type": "markdown",
   "metadata": {},
   "source": [
    "### Exercise 2\n",
    "\n",
    "<span style=\"color:green; font-size:16px\">Use the `idxmax` and `idxmin` methods to find the index where the maximum and minimum salaries are located in the DataFrame. Then use the `loc` indexer to select both of those rows as a DataFrame.</span>"
   ]
  },
  {
   "cell_type": "code",
   "execution_count": 36,
   "metadata": {},
   "outputs": [
    {
     "name": "stdout",
     "output_type": "stream",
     "text": [
      "max index =  1732\n",
      "min index =  1183\n"
     ]
    }
   ],
   "source": [
    "salary = emp['salary']\n",
    "print(f'max index = ', salary.idxmax())\n",
    "\n",
    "print(f'min index = ', salary.idxmin())"
   ]
  },
  {
   "cell_type": "code",
   "execution_count": 38,
   "metadata": {},
   "outputs": [
    {
     "data": {
      "text/html": [
       "<div>\n",
       "<style scoped>\n",
       "    .dataframe tbody tr th:only-of-type {\n",
       "        vertical-align: middle;\n",
       "    }\n",
       "\n",
       "    .dataframe tbody tr th {\n",
       "        vertical-align: top;\n",
       "    }\n",
       "\n",
       "    .dataframe thead th {\n",
       "        text-align: right;\n",
       "    }\n",
       "</style>\n",
       "<table border=\"1\" class=\"dataframe\">\n",
       "  <thead>\n",
       "    <tr style=\"text-align: right;\">\n",
       "      <th></th>\n",
       "      <th>dept</th>\n",
       "      <th>title</th>\n",
       "      <th>hire_date</th>\n",
       "      <th>salary</th>\n",
       "      <th>sex</th>\n",
       "      <th>race</th>\n",
       "    </tr>\n",
       "  </thead>\n",
       "  <tbody>\n",
       "    <tr>\n",
       "      <th>1732</th>\n",
       "      <td>Fire</td>\n",
       "      <td>PHYSICIAN,MD</td>\n",
       "      <td>2014-09-27</td>\n",
       "      <td>342784.0</td>\n",
       "      <td>Male</td>\n",
       "      <td>White</td>\n",
       "    </tr>\n",
       "    <tr>\n",
       "      <th>1183</th>\n",
       "      <td>Library</td>\n",
       "      <td>CUSTOMER SERVICE CLERK</td>\n",
       "      <td>2016-01-19</td>\n",
       "      <td>9912.0</td>\n",
       "      <td>Female</td>\n",
       "      <td>Hispanic</td>\n",
       "    </tr>\n",
       "  </tbody>\n",
       "</table>\n",
       "</div>"
      ],
      "text/plain": [
       "         dept                   title   hire_date    salary     sex      race\n",
       "1732     Fire            PHYSICIAN,MD  2014-09-27  342784.0    Male     White\n",
       "1183  Library  CUSTOMER SERVICE CLERK  2016-01-19    9912.0  Female  Hispanic"
      ]
     },
     "execution_count": 38,
     "metadata": {},
     "output_type": "execute_result"
    }
   ],
   "source": [
    "mx = salary.idxmax()\n",
    "mn = salary.idxmin()\n",
    "\n",
    "rows = [mx,mn]\n",
    "\n",
    "emp.loc[rows, :]"
   ]
  },
  {
   "cell_type": "markdown",
   "metadata": {},
   "source": [
    "### Exercise 3\n",
    "\n",
    "<span style=\"color:green; font-size:16px\">Repeat exercise 3, but do so on the `imdb_score` column from the movie dataset.</span>"
   ]
  },
  {
   "cell_type": "code",
   "execution_count": 41,
   "metadata": {},
   "outputs": [
    {
     "data": {
      "text/html": [
       "<div>\n",
       "<style scoped>\n",
       "    .dataframe tbody tr th:only-of-type {\n",
       "        vertical-align: middle;\n",
       "    }\n",
       "\n",
       "    .dataframe tbody tr th {\n",
       "        vertical-align: top;\n",
       "    }\n",
       "\n",
       "    .dataframe thead th {\n",
       "        text-align: right;\n",
       "    }\n",
       "</style>\n",
       "<table border=\"1\" class=\"dataframe\">\n",
       "  <thead>\n",
       "    <tr style=\"text-align: right;\">\n",
       "      <th></th>\n",
       "      <th>year</th>\n",
       "      <th>color</th>\n",
       "      <th>content_rating</th>\n",
       "      <th>duration</th>\n",
       "      <th>director_name</th>\n",
       "      <th>director_fb</th>\n",
       "      <th>actor1</th>\n",
       "      <th>actor1_fb</th>\n",
       "      <th>actor2</th>\n",
       "      <th>actor2_fb</th>\n",
       "      <th>...</th>\n",
       "      <th>actor3_fb</th>\n",
       "      <th>gross</th>\n",
       "      <th>genres</th>\n",
       "      <th>num_reviews</th>\n",
       "      <th>num_voted_users</th>\n",
       "      <th>plot_keywords</th>\n",
       "      <th>language</th>\n",
       "      <th>country</th>\n",
       "      <th>budget</th>\n",
       "      <th>imdb_score</th>\n",
       "    </tr>\n",
       "    <tr>\n",
       "      <th>title</th>\n",
       "      <th></th>\n",
       "      <th></th>\n",
       "      <th></th>\n",
       "      <th></th>\n",
       "      <th></th>\n",
       "      <th></th>\n",
       "      <th></th>\n",
       "      <th></th>\n",
       "      <th></th>\n",
       "      <th></th>\n",
       "      <th></th>\n",
       "      <th></th>\n",
       "      <th></th>\n",
       "      <th></th>\n",
       "      <th></th>\n",
       "      <th></th>\n",
       "      <th></th>\n",
       "      <th></th>\n",
       "      <th></th>\n",
       "      <th></th>\n",
       "      <th></th>\n",
       "    </tr>\n",
       "  </thead>\n",
       "  <tbody>\n",
       "    <tr>\n",
       "      <th>Towering Inferno</th>\n",
       "      <td>NaN</td>\n",
       "      <td>Color</td>\n",
       "      <td>NaN</td>\n",
       "      <td>65.0</td>\n",
       "      <td>John Blanchard</td>\n",
       "      <td>0.0</td>\n",
       "      <td>Martin Short</td>\n",
       "      <td>770.0</td>\n",
       "      <td>Andrea Martin</td>\n",
       "      <td>179.0</td>\n",
       "      <td>...</td>\n",
       "      <td>176.0</td>\n",
       "      <td>NaN</td>\n",
       "      <td>Comedy</td>\n",
       "      <td>NaN</td>\n",
       "      <td>10</td>\n",
       "      <td>NaN</td>\n",
       "      <td>English</td>\n",
       "      <td>Canada</td>\n",
       "      <td>NaN</td>\n",
       "      <td>9.5</td>\n",
       "    </tr>\n",
       "    <tr>\n",
       "      <th>Justin Bieber: Never Say Never</th>\n",
       "      <td>2011.0</td>\n",
       "      <td>Color</td>\n",
       "      <td>G</td>\n",
       "      <td>115.0</td>\n",
       "      <td>Jon M. Chu</td>\n",
       "      <td>209.0</td>\n",
       "      <td>Usher Raymond</td>\n",
       "      <td>569.0</td>\n",
       "      <td>Sean Kingston</td>\n",
       "      <td>69.0</td>\n",
       "      <td>...</td>\n",
       "      <td>41.0</td>\n",
       "      <td>73000942.0</td>\n",
       "      <td>Documentary|Music</td>\n",
       "      <td>84.0</td>\n",
       "      <td>74351</td>\n",
       "      <td>boyhood friend|manager|plasma tv|prodigy|star</td>\n",
       "      <td>English</td>\n",
       "      <td>USA</td>\n",
       "      <td>13000000.0</td>\n",
       "      <td>1.6</td>\n",
       "    </tr>\n",
       "  </tbody>\n",
       "</table>\n",
       "<p>2 rows × 21 columns</p>\n",
       "</div>"
      ],
      "text/plain": [
       "                                  year  color content_rating  duration  \\\n",
       "title                                                                    \n",
       "Towering Inferno                   NaN  Color            NaN      65.0   \n",
       "Justin Bieber: Never Say Never  2011.0  Color              G     115.0   \n",
       "\n",
       "                                 director_name  director_fb         actor1  \\\n",
       "title                                                                        \n",
       "Towering Inferno                John Blanchard          0.0   Martin Short   \n",
       "Justin Bieber: Never Say Never      Jon M. Chu        209.0  Usher Raymond   \n",
       "\n",
       "                                actor1_fb         actor2  actor2_fb  ...  \\\n",
       "title                                                                ...   \n",
       "Towering Inferno                    770.0  Andrea Martin      179.0  ...   \n",
       "Justin Bieber: Never Say Never      569.0  Sean Kingston       69.0  ...   \n",
       "\n",
       "                               actor3_fb       gross             genres  \\\n",
       "title                                                                     \n",
       "Towering Inferno                   176.0         NaN             Comedy   \n",
       "Justin Bieber: Never Say Never      41.0  73000942.0  Documentary|Music   \n",
       "\n",
       "                               num_reviews  num_voted_users  \\\n",
       "title                                                         \n",
       "Towering Inferno                       NaN               10   \n",
       "Justin Bieber: Never Say Never        84.0            74351   \n",
       "\n",
       "                                                                plot_keywords  \\\n",
       "title                                                                           \n",
       "Towering Inferno                                                          NaN   \n",
       "Justin Bieber: Never Say Never  boyhood friend|manager|plasma tv|prodigy|star   \n",
       "\n",
       "                               language country      budget  imdb_score  \n",
       "title                                                                    \n",
       "Towering Inferno                English  Canada         NaN         9.5  \n",
       "Justin Bieber: Never Say Never  English     USA  13000000.0         1.6  \n",
       "\n",
       "[2 rows x 21 columns]"
      ]
     },
     "execution_count": 41,
     "metadata": {},
     "output_type": "execute_result"
    }
   ],
   "source": [
    "score = movie['imdb_score']\n",
    "\n",
    "mx = score.idxmax()\n",
    "mn = score.idxmin()\n",
    "\n",
    "rows = [mx, mn]\n",
    "\n",
    "movie.loc[rows, :]"
   ]
  },
  {
   "cell_type": "markdown",
   "metadata": {},
   "source": [
    "### Exercise 4\n",
    "\n",
    "<span style=\"color:green; font-size:16px\">The `idxmax` and `idxmin` methods are aggregations as they return a single value. Use the `agg` method to return the min/max `imdb_score` and the label for each score.</span>"
   ]
  },
  {
   "cell_type": "code",
   "execution_count": 42,
   "metadata": {},
   "outputs": [
    {
     "data": {
      "text/plain": [
       "min    1.6\n",
       "max    9.5\n",
       "Name: imdb_score, dtype: float64"
      ]
     },
     "execution_count": 42,
     "metadata": {},
     "output_type": "execute_result"
    }
   ],
   "source": [
    "score.agg(['min', 'max'])"
   ]
  },
  {
   "cell_type": "markdown",
   "metadata": {},
   "source": [
    "### Exercise 5\n",
    "\n",
    "<span style=\"color:green; font-size:16px\">Read in 20 years of Microsoft stock data, setting the 'date' column as the index. Find the top 5 largest one-day percentage gains in the `adjusted_close` column.</span>"
   ]
  },
  {
   "cell_type": "code",
   "execution_count": 44,
   "metadata": {},
   "outputs": [
    {
     "data": {
      "text/html": [
       "<div>\n",
       "<style scoped>\n",
       "    .dataframe tbody tr th:only-of-type {\n",
       "        vertical-align: middle;\n",
       "    }\n",
       "\n",
       "    .dataframe tbody tr th {\n",
       "        vertical-align: top;\n",
       "    }\n",
       "\n",
       "    .dataframe thead th {\n",
       "        text-align: right;\n",
       "    }\n",
       "</style>\n",
       "<table border=\"1\" class=\"dataframe\">\n",
       "  <thead>\n",
       "    <tr style=\"text-align: right;\">\n",
       "      <th></th>\n",
       "      <th>open</th>\n",
       "      <th>high</th>\n",
       "      <th>low</th>\n",
       "      <th>close</th>\n",
       "      <th>adjusted_close</th>\n",
       "      <th>volume</th>\n",
       "      <th>dividend_amount</th>\n",
       "    </tr>\n",
       "    <tr>\n",
       "      <th>date</th>\n",
       "      <th></th>\n",
       "      <th></th>\n",
       "      <th></th>\n",
       "      <th></th>\n",
       "      <th></th>\n",
       "      <th></th>\n",
       "      <th></th>\n",
       "    </tr>\n",
       "  </thead>\n",
       "  <tbody>\n",
       "    <tr>\n",
       "      <th>1999-10-19</th>\n",
       "      <td>88.250</td>\n",
       "      <td>89.250</td>\n",
       "      <td>85.25</td>\n",
       "      <td>86.313</td>\n",
       "      <td>27.8594</td>\n",
       "      <td>69945600</td>\n",
       "      <td>0.0</td>\n",
       "    </tr>\n",
       "    <tr>\n",
       "      <th>1999-10-20</th>\n",
       "      <td>91.563</td>\n",
       "      <td>92.375</td>\n",
       "      <td>90.25</td>\n",
       "      <td>92.250</td>\n",
       "      <td>29.7758</td>\n",
       "      <td>88090600</td>\n",
       "      <td>0.0</td>\n",
       "    </tr>\n",
       "  </tbody>\n",
       "</table>\n",
       "</div>"
      ],
      "text/plain": [
       "              open    high    low   close  adjusted_close    volume  \\\n",
       "date                                                                  \n",
       "1999-10-19  88.250  89.250  85.25  86.313         27.8594  69945600   \n",
       "1999-10-20  91.563  92.375  90.25  92.250         29.7758  88090600   \n",
       "\n",
       "            dividend_amount  \n",
       "date                         \n",
       "1999-10-19              0.0  \n",
       "1999-10-20              0.0  "
      ]
     },
     "execution_count": 44,
     "metadata": {},
     "output_type": "execute_result"
    }
   ],
   "source": [
    "msft = pd.read_csv('../data/stocks/msft20.csv',\n",
    "                  parse_dates=['date'], index_col = 'date')\n",
    "msft.head(2)"
   ]
  },
  {
   "cell_type": "code",
   "execution_count": 48,
   "metadata": {},
   "outputs": [
    {
     "data": {
      "text/plain": [
       "date\n",
       "2000-10-19    0.195654\n",
       "2008-10-13    0.186043\n",
       "2008-11-21    0.122646\n",
       "2002-05-08    0.111181\n",
       "2001-01-03    0.105183\n",
       "Name: adjusted_close, dtype: float64"
      ]
     },
     "execution_count": 48,
     "metadata": {},
     "output_type": "execute_result"
    }
   ],
   "source": [
    "adj = msft['adjusted_close']\n",
    "\n",
    "adj.pct_change().nlargest()"
   ]
  },
  {
   "cell_type": "markdown",
   "metadata": {},
   "source": [
    "### Exercise 6\n",
    "\n",
    "<span style=\"color:green; font-size:16px\">Randomly sample the `actor1` column as a Series with replacement to select three values. Use random state 12345. Setting a random state ensures that the same random sample is chosen regardless of which machine is used.</span>"
   ]
  },
  {
   "cell_type": "code",
   "execution_count": 49,
   "metadata": {},
   "outputs": [],
   "source": [
    "act = movie['actor1']"
   ]
  },
  {
   "cell_type": "code",
   "execution_count": 50,
   "metadata": {},
   "outputs": [
    {
     "data": {
      "text/plain": [
       "title\n",
       "Hoop Dreams        William Gates\n",
       "Only the Strong    Antoni Corone\n",
       "Babel                  Brad Pitt\n",
       "Name: actor1, dtype: object"
      ]
     },
     "execution_count": 50,
     "metadata": {},
     "output_type": "execute_result"
    }
   ],
   "source": [
    "act.sample(n=3, replace = True, random_state = 12345)"
   ]
  },
  {
   "cell_type": "markdown",
   "metadata": {},
   "source": [
    "### Exercise 7\n",
    "\n",
    "<span style=\"color:green; font-size:16px\">Select the title column from the employee dataset as a Series. Replace all occurrences of 'POLICE OFFICER' and 'SENIOR POLICE OFFICER' with 'POLICE'. You can use a list as the first argument passed to the `replace` method.</span>"
   ]
  },
  {
   "cell_type": "code",
   "execution_count": 51,
   "metadata": {},
   "outputs": [
    {
     "data": {
      "text/plain": [
       "0                      POLICE SERGEANT\n",
       "1           ASSISTANT CITY ATTORNEY II\n",
       "2              SENIOR SLUDGE PROCESSOR\n",
       "3                               POLICE\n",
       "4                               POLICE\n",
       "                     ...              \n",
       "24303                           POLICE\n",
       "24304    SENIOR PROCUREMENT SPECIALIST\n",
       "24305        WATER SERVICE INSPECTOR I\n",
       "24306    HUMAN SERVICE PROGRAM MANAGER\n",
       "24307                  POLICE SERGEANT\n",
       "Name: title, Length: 24308, dtype: object"
      ]
     },
     "execution_count": 51,
     "metadata": {},
     "output_type": "execute_result"
    }
   ],
   "source": [
    "title = emp['title']\n",
    "\n",
    "title.replace(['POLICE OFFICER', \n",
    "              'SENIOR POLICE OFFICER'], 'POLICE')"
   ]
  }
 ],
 "metadata": {
  "kernelspec": {
   "display_name": "Python 3 (ipykernel)",
   "language": "python",
   "name": "python3"
  },
  "language_info": {
   "codemirror_mode": {
    "name": "ipython",
    "version": 3
   },
   "file_extension": ".py",
   "mimetype": "text/x-python",
   "name": "python",
   "nbconvert_exporter": "python",
   "pygments_lexer": "ipython3",
   "version": "3.11.0"
  }
 },
 "nbformat": 4,
 "nbformat_minor": 2
}
