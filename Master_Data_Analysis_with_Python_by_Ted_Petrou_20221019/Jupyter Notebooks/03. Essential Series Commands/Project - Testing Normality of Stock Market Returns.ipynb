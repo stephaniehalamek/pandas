{
 "cells": [
  {
   "cell_type": "markdown",
   "metadata": {},
   "source": [
    "# Project - Testing Normality of Stock Market Returns\n",
    "\n",
    "In this chapter, we examine the daily return of Microsoft's stock to determine if it follows a normal distribution.\n",
    "\n",
    "### Getting Microsoft stock price data\n",
    "\n",
    "Twenty years of Microsoft stock price data is stored in the msft20.csv file in the stocks directory. Let's read this in setting the `date` as the index."
   ]
  },
  {
   "cell_type": "code",
   "execution_count": 3,
   "metadata": {},
   "outputs": [],
   "source": [
    "from IPython.core.interactiveshell import InteractiveShell\n",
    "InteractiveShell.ast_node_interactivity = \"all\""
   ]
  },
  {
   "cell_type": "code",
   "execution_count": 4,
   "metadata": {},
   "outputs": [
    {
     "data": {
      "text/html": [
       "<div>\n",
       "<style scoped>\n",
       "    .dataframe tbody tr th:only-of-type {\n",
       "        vertical-align: middle;\n",
       "    }\n",
       "\n",
       "    .dataframe tbody tr th {\n",
       "        vertical-align: top;\n",
       "    }\n",
       "\n",
       "    .dataframe thead th {\n",
       "        text-align: right;\n",
       "    }\n",
       "</style>\n",
       "<table border=\"1\" class=\"dataframe\">\n",
       "  <thead>\n",
       "    <tr style=\"text-align: right;\">\n",
       "      <th></th>\n",
       "      <th>open</th>\n",
       "      <th>high</th>\n",
       "      <th>low</th>\n",
       "      <th>close</th>\n",
       "      <th>adjusted_close</th>\n",
       "      <th>volume</th>\n",
       "      <th>dividend_amount</th>\n",
       "    </tr>\n",
       "    <tr>\n",
       "      <th>date</th>\n",
       "      <th></th>\n",
       "      <th></th>\n",
       "      <th></th>\n",
       "      <th></th>\n",
       "      <th></th>\n",
       "      <th></th>\n",
       "      <th></th>\n",
       "    </tr>\n",
       "  </thead>\n",
       "  <tbody>\n",
       "    <tr>\n",
       "      <th>1999-10-19</th>\n",
       "      <td>88.250</td>\n",
       "      <td>89.250</td>\n",
       "      <td>85.250</td>\n",
       "      <td>86.313</td>\n",
       "      <td>27.8594</td>\n",
       "      <td>69945600</td>\n",
       "      <td>0.0</td>\n",
       "    </tr>\n",
       "    <tr>\n",
       "      <th>1999-10-20</th>\n",
       "      <td>91.563</td>\n",
       "      <td>92.375</td>\n",
       "      <td>90.250</td>\n",
       "      <td>92.250</td>\n",
       "      <td>29.7758</td>\n",
       "      <td>88090600</td>\n",
       "      <td>0.0</td>\n",
       "    </tr>\n",
       "    <tr>\n",
       "      <th>1999-10-21</th>\n",
       "      <td>90.563</td>\n",
       "      <td>93.125</td>\n",
       "      <td>90.500</td>\n",
       "      <td>93.063</td>\n",
       "      <td>30.0381</td>\n",
       "      <td>60801200</td>\n",
       "      <td>0.0</td>\n",
       "    </tr>\n",
       "    <tr>\n",
       "      <th>1999-10-22</th>\n",
       "      <td>93.563</td>\n",
       "      <td>93.875</td>\n",
       "      <td>91.750</td>\n",
       "      <td>92.688</td>\n",
       "      <td>29.9171</td>\n",
       "      <td>43650600</td>\n",
       "      <td>0.0</td>\n",
       "    </tr>\n",
       "    <tr>\n",
       "      <th>1999-10-25</th>\n",
       "      <td>92.000</td>\n",
       "      <td>93.563</td>\n",
       "      <td>91.125</td>\n",
       "      <td>92.438</td>\n",
       "      <td>29.8364</td>\n",
       "      <td>30492200</td>\n",
       "      <td>0.0</td>\n",
       "    </tr>\n",
       "  </tbody>\n",
       "</table>\n",
       "</div>"
      ],
      "text/plain": [
       "              open    high     low   close  adjusted_close    volume  \\\n",
       "date                                                                   \n",
       "1999-10-19  88.250  89.250  85.250  86.313         27.8594  69945600   \n",
       "1999-10-20  91.563  92.375  90.250  92.250         29.7758  88090600   \n",
       "1999-10-21  90.563  93.125  90.500  93.063         30.0381  60801200   \n",
       "1999-10-22  93.563  93.875  91.750  92.688         29.9171  43650600   \n",
       "1999-10-25  92.000  93.563  91.125  92.438         29.8364  30492200   \n",
       "\n",
       "            dividend_amount  \n",
       "date                         \n",
       "1999-10-19              0.0  \n",
       "1999-10-20              0.0  \n",
       "1999-10-21              0.0  \n",
       "1999-10-22              0.0  \n",
       "1999-10-25              0.0  "
      ]
     },
     "execution_count": 4,
     "metadata": {},
     "output_type": "execute_result"
    }
   ],
   "source": [
    "import pandas as pd\n",
    "msft = pd.read_csv('../data/stocks/msft20.csv', \n",
    "                   parse_dates=['date'], index_col='date')\n",
    "msft.head()"
   ]
  },
  {
   "cell_type": "markdown",
   "metadata": {},
   "source": [
    "### Select the closing price\n",
    "\n",
    "For this problem, we are only interested in the closing price. Select the `adjusted_close` as this is adjusted for any stock splits that may have occurred."
   ]
  },
  {
   "cell_type": "code",
   "execution_count": 2,
   "metadata": {},
   "outputs": [
    {
     "data": {
      "text/plain": [
       "date\n",
       "1999-10-19    27.8594\n",
       "1999-10-20    29.7758\n",
       "1999-10-21    30.0381\n",
       "Name: adjusted_close, dtype: float64"
      ]
     },
     "execution_count": 2,
     "metadata": {},
     "output_type": "execute_result"
    }
   ],
   "source": [
    "close = msft['adjusted_close']\n",
    "close.head(3)"
   ]
  },
  {
   "cell_type": "markdown",
   "metadata": {},
   "source": [
    "### Daily percent change\n",
    "\n",
    "pandas Series have a method called `pct_change`, which returns the percentage difference between the current and previous elements. Let's use it to calculate the daily return."
   ]
  },
  {
   "cell_type": "code",
   "execution_count": 3,
   "metadata": {},
   "outputs": [
    {
     "data": {
      "text/plain": [
       "date\n",
       "1999-10-19         NaN\n",
       "1999-10-20    0.068788\n",
       "1999-10-21    0.008809\n",
       "Name: adjusted_close, dtype: float64"
      ]
     },
     "execution_count": 3,
     "metadata": {},
     "output_type": "execute_result"
    }
   ],
   "source": [
    "close_change = close.pct_change()\n",
    "close_change.head(3)"
   ]
  },
  {
   "cell_type": "markdown",
   "metadata": {},
   "source": [
    "### Handling Missing Value\n",
    "\n",
    "The first date has a missing value since there was no previous date. The `dropna` method can be used to remove any `NaN` elements."
   ]
  },
  {
   "cell_type": "code",
   "execution_count": 4,
   "metadata": {},
   "outputs": [
    {
     "data": {
      "text/plain": [
       "date\n",
       "1999-10-20    0.068788\n",
       "1999-10-21    0.008809\n",
       "1999-10-22   -0.004028\n",
       "Name: adjusted_close, dtype: float64"
      ]
     },
     "execution_count": 4,
     "metadata": {},
     "output_type": "execute_result"
    }
   ],
   "source": [
    "close_change = close_change.dropna()\n",
    "close_change.head(3)"
   ]
  },
  {
   "cell_type": "markdown",
   "metadata": {},
   "source": [
    "### Checking for Normality\n",
    "\n",
    "There are formal statistical tests for normality that can be used. Instead we will focus on simple data exploration to give us insight.\n",
    "\n",
    "### Plotting the returns\n",
    "\n",
    "The main plotting library in Python is matplotlib which will be covered in greater detail in the **Visualization with Matplotlib** part. pandas objects have hooks into matplotlib so it's not necessary to import matplotlib directly, but we do so here to use our stylesheet for the book. The `plot` method can be used to create a number of different kinds of plots with the `kind` parameter. We pass it the string `hist` to create a histogram, along with a histogram-specific argument, `bins`, to control the number of bars plotted."
   ]
  },
  {
   "cell_type": "code",
   "execution_count": 5,
   "metadata": {},
   "outputs": [
    {
     "data": {
      "image/png": "[encoded data removed]",
      "text/plain": [
       "<Figure size 635x342.9 with 1 Axes>"
      ]
     },
     "metadata": {},
     "output_type": "display_data"
    }
   ],
   "source": [
    "import seaborn as sns\n",
    "sns.set_theme(rc={'figure.figsize': (5, 2.7), 'figure.dpi': 127}, \n",
    "              font_scale=0.8)\n",
    "close_change.plot(kind='hist', bins=40);"
   ]
  },
  {
   "cell_type": "markdown",
   "metadata": {},
   "source": [
    "### Use boolean selection to check for normality\n",
    "\n",
    "The plot above is symmetrical and somewhat bell-shaped. It could possibly represent a normal distribution. To more formally check for normality, we can count the number of observations that are within 1, 2, and 3 standard deviations. The [68-95-99.7 rule][1] can be used to determine if the data is approximately normal. We first need to calculate the mean and standard deviation.\n",
    "\n",
    "[1]: https://en.wikipedia.org/wiki/68%E2%80%9395%E2%80%9399.7_rule"
   ]
  },
  {
   "cell_type": "code",
   "execution_count": 6,
   "metadata": {},
   "outputs": [
    {
     "data": {
      "text/plain": [
       "(0.0005010304494320831, 0.019119644436205206)"
      ]
     },
     "execution_count": 6,
     "metadata": {},
     "output_type": "execute_result"
    }
   ],
   "source": [
    "mean = close_change.mean()\n",
    "std = close_change.std()\n",
    "mean, std"
   ]
  },
  {
   "cell_type": "markdown",
   "metadata": {},
   "source": [
    "### Absolute number of standard deviations from the mean\n",
    "\n",
    "To standardize our results, we can find the number of standard deviations away from the mean each daily return is. To do this, we subtract the mean from the entire Series and then divide by the standard deviation. This quantity is referred to as the **z-score**."
   ]
  },
  {
   "cell_type": "code",
   "execution_count": 7,
   "metadata": {},
   "outputs": [],
   "source": [
    "z_score = (close_change - mean) / std"
   ]
  },
  {
   "cell_type": "markdown",
   "metadata": {},
   "source": [
    "To help make calculations easier, we will use the absolute value of the z-score."
   ]
  },
  {
   "cell_type": "code",
   "execution_count": 8,
   "metadata": {},
   "outputs": [],
   "source": [
    "z_score_abs = z_score.abs()"
   ]
  },
  {
   "cell_type": "markdown",
   "metadata": {},
   "source": [
    "### Find the percentage by taking the mean\n",
    "\n",
    "Let's find the percentage of returns within 1, 2, and 3 standard deviations by taking the mean of a boolean Series."
   ]
  },
  {
   "cell_type": "code",
   "execution_count": 9,
   "metadata": {},
   "outputs": [
    {
     "data": {
      "text/plain": [
       "(0.793, 0.951, 0.983)"
      ]
     },
     "execution_count": 9,
     "metadata": {},
     "output_type": "execute_result"
    }
   ],
   "source": [
    "pct_within1 = round((z_score_abs < 1).mean(), 3)\n",
    "pct_within2 = round((z_score_abs < 2).mean(), 3)\n",
    "pct_within3 = round((z_score_abs < 3).mean(), 3)\n",
    "pct_within1, pct_within2, pct_within3"
   ]
  },
  {
   "cell_type": "markdown",
   "metadata": {},
   "source": [
    "## Results discussion\n",
    "\n",
    "The percentages of returns within 1, 2 and 3 standard deviations are fairly different than the 68-95-99.7 rule. Much more of the data was concentrated within 1 standard deviation. A much greater percentage of the returns were greater than 3 standard deviations from the mean compared to just 0.3% for the rule. This strongly suggests that a normal distribution would not be a good fit for this type of data.\n",
    "\n",
    "### Using the percentile to check for normality\n",
    "\n",
    "Alternatively, we can work backwards and find the z-score that represents the 68th, 95th, and 99.7th percentiles of the distribution. For normally distributed data, we would expect these to be 1, 2, and 3 respectively. The `quantile` method completes this operation for us. Note how far off the 68th and 99.7th percentiles are."
   ]
  },
  {
   "cell_type": "code",
   "execution_count": 10,
   "metadata": {},
   "outputs": [
    {
     "data": {
      "text/plain": [
       "0.680    0.71\n",
       "0.950    1.98\n",
       "0.997    5.16\n",
       "Name: adjusted_close, dtype: float64"
      ]
     },
     "execution_count": 10,
     "metadata": {},
     "output_type": "execute_result"
    }
   ],
   "source": [
    "z_score_abs.quantile([.68, .95, .997]).round(2)"
   ]
  },
  {
   "cell_type": "markdown",
   "metadata": {},
   "source": [
    "### Check that all Series values are `True`\n",
    "\n",
    "Let's say we wanted to check if all the stock price returns were within 4 standard deviations from the mean. For boolean Series, the `all` method returns `True` if all values are `True`, and `False` otherwise."
   ]
  },
  {
   "cell_type": "code",
   "execution_count": 11,
   "metadata": {},
   "outputs": [
    {
     "data": {
      "text/plain": [
       "date\n",
       "1999-10-20    True\n",
       "1999-10-21    True\n",
       "1999-10-22    True\n",
       "Name: adjusted_close, dtype: bool"
      ]
     },
     "execution_count": 11,
     "metadata": {},
     "output_type": "execute_result"
    }
   ],
   "source": [
    "criteria = z_score_abs < 4\n",
    "criteria.head(3)"
   ]
  },
  {
   "cell_type": "code",
   "execution_count": 12,
   "metadata": {},
   "outputs": [
    {
     "data": {
      "text/plain": [
       "False"
      ]
     },
     "execution_count": 12,
     "metadata": {},
     "output_type": "execute_result"
    }
   ],
   "source": [
    "criteria.all()"
   ]
  },
  {
   "cell_type": "markdown",
   "metadata": {},
   "source": [
    "We can duplicate the above logic with the `any` method. The `any` method returns `True` if one or more values in the Series are `True`. Here, we check if any of the returns are greater than or equal to 4."
   ]
  },
  {
   "cell_type": "code",
   "execution_count": 13,
   "metadata": {},
   "outputs": [
    {
     "data": {
      "text/plain": [
       "True"
      ]
     },
     "execution_count": 13,
     "metadata": {},
     "output_type": "execute_result"
    }
   ],
   "source": [
    "criteria = z_score_abs >= 4\n",
    "criteria.any()"
   ]
  },
  {
   "cell_type": "markdown",
   "metadata": {},
   "source": [
    "## Exercises"
   ]
  },
  {
   "cell_type": "markdown",
   "metadata": {},
   "source": [
    "Execute the cells below to read in 20 years of Apple (AAPL) data as a Series and answer the exercises below with it."
   ]
  },
  {
   "cell_type": "code",
   "execution_count": 5,
   "metadata": {},
   "outputs": [
    {
     "data": {
      "text/html": [
       "<div>\n",
       "<style scoped>\n",
       "    .dataframe tbody tr th:only-of-type {\n",
       "        vertical-align: middle;\n",
       "    }\n",
       "\n",
       "    .dataframe tbody tr th {\n",
       "        vertical-align: top;\n",
       "    }\n",
       "\n",
       "    .dataframe thead th {\n",
       "        text-align: right;\n",
       "    }\n",
       "</style>\n",
       "<table border=\"1\" class=\"dataframe\">\n",
       "  <thead>\n",
       "    <tr style=\"text-align: right;\">\n",
       "      <th></th>\n",
       "      <th>MSFT</th>\n",
       "      <th>AAPL</th>\n",
       "      <th>SLB</th>\n",
       "      <th>AMZN</th>\n",
       "      <th>TSLA</th>\n",
       "      <th>XOM</th>\n",
       "      <th>WMT</th>\n",
       "      <th>T</th>\n",
       "      <th>FB</th>\n",
       "      <th>V</th>\n",
       "    </tr>\n",
       "    <tr>\n",
       "      <th>date</th>\n",
       "      <th></th>\n",
       "      <th></th>\n",
       "      <th></th>\n",
       "      <th></th>\n",
       "      <th></th>\n",
       "      <th></th>\n",
       "      <th></th>\n",
       "      <th></th>\n",
       "      <th></th>\n",
       "      <th></th>\n",
       "    </tr>\n",
       "  </thead>\n",
       "  <tbody>\n",
       "    <tr>\n",
       "      <th>1999-10-25</th>\n",
       "      <td>29.84</td>\n",
       "      <td>2.32</td>\n",
       "      <td>17.02</td>\n",
       "      <td>82.75</td>\n",
       "      <td>NaN</td>\n",
       "      <td>21.45</td>\n",
       "      <td>38.99</td>\n",
       "      <td>16.78</td>\n",
       "      <td>NaN</td>\n",
       "      <td>NaN</td>\n",
       "    </tr>\n",
       "    <tr>\n",
       "      <th>1999-10-26</th>\n",
       "      <td>29.82</td>\n",
       "      <td>2.34</td>\n",
       "      <td>16.65</td>\n",
       "      <td>81.25</td>\n",
       "      <td>NaN</td>\n",
       "      <td>20.89</td>\n",
       "      <td>37.11</td>\n",
       "      <td>17.28</td>\n",
       "      <td>NaN</td>\n",
       "      <td>NaN</td>\n",
       "    </tr>\n",
       "    <tr>\n",
       "      <th>1999-10-27</th>\n",
       "      <td>29.33</td>\n",
       "      <td>2.38</td>\n",
       "      <td>16.52</td>\n",
       "      <td>75.94</td>\n",
       "      <td>NaN</td>\n",
       "      <td>20.80</td>\n",
       "      <td>36.94</td>\n",
       "      <td>18.27</td>\n",
       "      <td>NaN</td>\n",
       "      <td>NaN</td>\n",
       "    </tr>\n",
       "  </tbody>\n",
       "</table>\n",
       "</div>"
      ],
      "text/plain": [
       "             MSFT  AAPL    SLB   AMZN  TSLA    XOM    WMT      T  FB   V\n",
       "date                                                                    \n",
       "1999-10-25  29.84  2.32  17.02  82.75   NaN  21.45  38.99  16.78 NaN NaN\n",
       "1999-10-26  29.82  2.34  16.65  81.25   NaN  20.89  37.11  17.28 NaN NaN\n",
       "1999-10-27  29.33  2.38  16.52  75.94   NaN  20.80  36.94  18.27 NaN NaN"
      ]
     },
     "execution_count": 5,
     "metadata": {},
     "output_type": "execute_result"
    }
   ],
   "source": [
    "stocks = pd.read_csv('../data/stocks/stocks10.csv', index_col='date',\n",
    "                     parse_dates=['date'])\n",
    "stocks.head(3)"
   ]
  },
  {
   "cell_type": "code",
   "execution_count": 6,
   "metadata": {},
   "outputs": [
    {
     "data": {
      "text/plain": [
       "date\n",
       "1999-10-25    2.32\n",
       "1999-10-26    2.34\n",
       "1999-10-27    2.38\n",
       "1999-10-28    2.43\n",
       "1999-10-29    2.50\n",
       "Name: AAPL, dtype: float64"
      ]
     },
     "execution_count": 6,
     "metadata": {},
     "output_type": "execute_result"
    }
   ],
   "source": [
    "aapl = stocks['AAPL']\n",
    "aapl.head()"
   ]
  },
  {
   "cell_type": "markdown",
   "metadata": {},
   "source": [
    "### Exercise 1\n",
    "\n",
    "<span  style=\"color:green; font-size:16px\">Use one line of code to find the daily percentage returns of AAPL and drop any missing values. Save the result to `aapl_change`.</span>"
   ]
  },
  {
   "cell_type": "code",
   "execution_count": 7,
   "metadata": {},
   "outputs": [],
   "source": [
    "aapl_change = aapl.pct_change().dropna()"
   ]
  },
  {
   "cell_type": "markdown",
   "metadata": {},
   "source": [
    "### Exercise 2\n",
    "\n",
    "<span style=\"color:green; font-size:16px\">Find the mean daily return for Apple, the first and last closing prices, and the number of trading days. Store all four of these values into separate variables.</span>"
   ]
  },
  {
   "cell_type": "code",
   "execution_count": 8,
   "metadata": {},
   "outputs": [],
   "source": [
    "mean = aapl_change.mean()"
   ]
  },
  {
   "cell_type": "code",
   "execution_count": 9,
   "metadata": {},
   "outputs": [],
   "source": [
    "first = aapl.iloc[0]\n",
    "last = aapl.iloc[-1]\n",
    "num_days = len(aapl_change) "
   ]
  },
  {
   "cell_type": "code",
   "execution_count": 10,
   "metadata": {},
   "outputs": [
    {
     "name": "stdout",
     "output_type": "stream",
     "text": [
      "mean = 0.001\n",
      "first = 2.32\n",
      "last = 242.46\n",
      "num trading days = 5032\n"
     ]
    }
   ],
   "source": [
    "print(f'mean =', round(mean, 3))\n",
    "print(f'first =', first)\n",
    "print(f'last =', last)\n",
    "print(f'num trading days =', num_days)"
   ]
  },
  {
   "cell_type": "markdown",
   "metadata": {},
   "source": [
    "### Exercise 3\n",
    "\n",
    "<span style=\"color:green; font-size:16px\">If Apple returned its mean percentage return every single day since the first day you have data, what would its last closing price be? Is it the same as the actual last closing price? You need to use all the variables calculated from Exercise 2.</span>"
   ]
  },
  {
   "cell_type": "code",
   "execution_count": 33,
   "metadata": {},
   "outputs": [
    {
     "data": {
      "text/plain": [
       "1372.8262535261679"
      ]
     },
     "execution_count": 33,
     "metadata": {},
     "output_type": "execute_result"
    }
   ],
   "source": [
    "first *(1+mean) ** num_days"
   ]
  },
  {
   "cell_type": "code",
   "execution_count": 34,
   "metadata": {},
   "outputs": [
    {
     "data": {
      "text/plain": [
       "242.46"
      ]
     },
     "execution_count": 34,
     "metadata": {},
     "output_type": "execute_result"
    }
   ],
   "source": [
    "last"
   ]
  },
  {
   "cell_type": "markdown",
   "metadata": {},
   "source": [
    "### Exercise 4\n",
    "\n",
    "<span  style=\"color:green; font-size:16px\">Find the z-score for the Apple daily returns. Save this to a variable `z_score_raw`. What is the max and minimum score?</span>"
   ]
  },
  {
   "cell_type": "code",
   "execution_count": 12,
   "metadata": {},
   "outputs": [
    {
     "data": {
      "text/plain": [
       "5.3712520859138"
      ]
     },
     "execution_count": 12,
     "metadata": {},
     "output_type": "execute_result"
    },
    {
     "data": {
      "text/plain": [
       "-20.221564477921486"
      ]
     },
     "execution_count": 12,
     "metadata": {},
     "output_type": "execute_result"
    }
   ],
   "source": [
    "std = aapl_change.std()\n",
    "z_score_raw = (aapl_change - mean)/ std\n",
    "\n",
    "z_score_raw.max()\n",
    "z_score_raw.min()"
   ]
  },
  {
   "cell_type": "markdown",
   "metadata": {},
   "source": [
    "### Exercise 5\n",
    "\n",
    "<span  style=\"color:green; font-size:16px\">What percentage did Apple's stock increase when it had its highest maximum raw z-score?</span>\n",
    "\n",
    "1. Filter series of daily % changes, by the index of the z_score_raw series, where the series value is the max raw z score"
   ]
  },
  {
   "cell_type": "code",
   "execution_count": 25,
   "metadata": {},
   "outputs": [
    {
     "data": {
      "text/plain": [
       "date\n",
       "2008-10-13    0.139188\n",
       "Name: AAPL, dtype: float64"
      ]
     },
     "execution_count": 25,
     "metadata": {},
     "output_type": "execute_result"
    }
   ],
   "source": [
    "filt = z_score_raw.index[z_score_raw == z_score_raw.max()]\n",
    "\n",
    "aapl_change[filt]"
   ]
  },
  {
   "cell_type": "code",
   "execution_count": 26,
   "metadata": {},
   "outputs": [
    {
     "data": {
      "text/plain": [
       "date\n",
       "2008-10-13    0.139188\n",
       "Name: AAPL, dtype: float64"
      ]
     },
     "execution_count": 26,
     "metadata": {},
     "output_type": "execute_result"
    }
   ],
   "source": [
    "aapl_change[z_score_raw == z_score_raw.max()]"
   ]
  },
  {
   "cell_type": "markdown",
   "metadata": {},
   "source": [
    "### Exercise 6\n",
    "\n",
    "<span style=\"color:green; font-size:16px\">Create a function that accepts a Series of stock closing prices. Have it return the percentage of prices within 1, 2, and 3 standard deviations from the mean. Use your function to return results for different stocks found in the `stocks` DataFrame.</span>"
   ]
  },
  {
   "cell_type": "code",
   "execution_count": null,
   "metadata": {},
   "outputs": [],
   "source": [
    "def "
   ]
  },
  {
   "cell_type": "markdown",
   "metadata": {},
   "source": [
    "### Exercise 7\n",
    "\n",
    "<span  style=\"color:green; font-size:16px\"> How many days did Apple close above 100 and below 120?</span>"
   ]
  },
  {
   "cell_type": "code",
   "execution_count": null,
   "metadata": {},
   "outputs": [],
   "source": []
  },
  {
   "cell_type": "markdown",
   "metadata": {},
   "source": [
    "### Exercise 8\n",
    "\n",
    "<span style=\"color:green; font-size:16px\"> How many days did Apple close below 50 or above 150?</span>"
   ]
  },
  {
   "cell_type": "code",
   "execution_count": null,
   "metadata": {},
   "outputs": [],
   "source": []
  },
  {
   "cell_type": "markdown",
   "metadata": {},
   "source": [
    "### Exercise 9\n",
    "\n",
    "<span  style=\"color:green; font-size:16px\"> Look up the definition for interquartile range and select all Apple closing prices that are within this range. There are multiple ways to do this. Check the `quantile` method.</span>"
   ]
  },
  {
   "cell_type": "code",
   "execution_count": null,
   "metadata": {},
   "outputs": [],
   "source": []
  },
  {
   "cell_type": "markdown",
   "metadata": {},
   "source": [
    "### Exercise 10\n",
    "\n",
    "<span style=\"color:green; font-size:16px\">Find the date of the highest closing price. Find out how many trading days it has been since Apple recorded it highest closing price.</span>"
   ]
  },
  {
   "cell_type": "code",
   "execution_count": null,
   "metadata": {},
   "outputs": [],
   "source": []
  }
 ],
 "metadata": {
  "kernelspec": {
   "display_name": "Python 3 (ipykernel)",
   "language": "python",
   "name": "python3"
  },
  "language_info": {
   "codemirror_mode": {
    "name": "ipython",
    "version": 3
   },
   "file_extension": ".py",
   "mimetype": "text/x-python",
   "name": "python",
   "nbconvert_exporter": "python",
   "pygments_lexer": "ipython3",
   "version": "3.11.0"
  }
 },
 "nbformat": 4,
 "nbformat_minor": 2
}
