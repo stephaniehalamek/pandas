{
 "cells": [
  {
   "cell_type": "markdown",
   "metadata": {},
   "source": [
    "# Series Missing Value Methods\n",
    "\n",
    "In the previous chapter, we covered the most common attributes and statistical methods for pandas Series objects. In this chapter, we cover several methods that handle missing values within a Series. The official documentation has a [separate section in its Series API][1] just for these methods that handle missing values. Let's begin by reading in the movie dataset and selecting the `duration` series, which contains the length of each movie in minutes.\n",
    "\n",
    "[1]: https://pandas.pydata.org/pandas-docs/stable/reference/series.html#missing-data-handling"
   ]
  },
  {
   "cell_type": "code",
   "execution_count": 1,
   "metadata": {},
   "outputs": [
    {
     "data": {
      "text/plain": [
       "title\n",
       "Avatar                                        178.0\n",
       "Pirates of the Caribbean: At World's End      169.0\n",
       "Spectre                                       148.0\n",
       "The Dark Knight Rises                         164.0\n",
       "Star Wars: Episode VII - The Force Awakens      NaN\n",
       "Name: duration, dtype: float64"
      ]
     },
     "execution_count": 1,
     "metadata": {},
     "output_type": "execute_result"
    }
   ],
   "source": [
    "import pandas as pd\n",
    "movie = pd.read_csv('../data/movie.csv', index_col='title')\n",
    "duration = movie['duration']\n",
    "duration.head()"
   ]
  },
  {
   "cell_type": "markdown",
   "metadata": {},
   "source": [
    "## Methods for handling missing values\n",
    "\n",
    "pandas provides the following methods to handle missing values:\n",
    "\n",
    "* `isna` - Returns a Series of booleans based on whether each value is missing or not\n",
    "* `notna` - Exact opposite of `isna`\n",
    "* `dropna` - Drops the missing values from the Series\n",
    "* `fillna` - Fills missing values in a variety of ways\n",
    "* `interpolate` - Fills missing values with statistical interpolation\n",
    "\n",
    "As a reminder, boolean and integer columns do not allow missing values, so these methods will not be useful for Series with those data types."
   ]
  },
  {
   "cell_type": "markdown",
   "metadata": {},
   "source": [
    "## The `isna` method\n",
    "\n",
    "The `isna` method tests whether each value in the Series is missing or not. It returns a new boolean Series where `True` corresponds with missing values and non-missing values return as `False`. Let's call the `isna` method on our `duration` Series. One of the first five values is missing."
   ]
  },
  {
   "cell_type": "code",
   "execution_count": 2,
   "metadata": {},
   "outputs": [
    {
     "data": {
      "text/plain": [
       "title\n",
       "Avatar                                        False\n",
       "Pirates of the Caribbean: At World's End      False\n",
       "Spectre                                       False\n",
       "The Dark Knight Rises                         False\n",
       "Star Wars: Episode VII - The Force Awakens     True\n",
       "Name: duration, dtype: bool"
      ]
     },
     "execution_count": 2,
     "metadata": {},
     "output_type": "execute_result"
    }
   ],
   "source": [
    "duration.isna().head()"
   ]
  },
  {
   "cell_type": "markdown",
   "metadata": {},
   "source": [
    "### Counting the number of missing values\n",
    "\n",
    "pandas does not have a single method that counts the number of missing values in a Series. We are forced to do a little work to find the result. Calling the `sum` method after the `isna` method counts the number of missing values as `True`/`False` evaluate as 1/0."
   ]
  },
  {
   "cell_type": "code",
   "execution_count": 3,
   "metadata": {},
   "outputs": [
    {
     "data": {
      "text/plain": [
       "15"
      ]
     },
     "execution_count": 3,
     "metadata": {},
     "output_type": "execute_result"
    }
   ],
   "source": [
    "duration.isna().sum()"
   ]
  },
  {
   "cell_type": "markdown",
   "metadata": {},
   "source": [
    "Alternatively, you can use the `count` method to count the number of non-missing values and subtract it from the length of the Series."
   ]
  },
  {
   "cell_type": "code",
   "execution_count": 4,
   "metadata": {},
   "outputs": [
    {
     "data": {
      "text/plain": [
       "15"
      ]
     },
     "execution_count": 4,
     "metadata": {},
     "output_type": "execute_result"
    }
   ],
   "source": [
    "len(duration) - duration.count()"
   ]
  },
  {
   "cell_type": "markdown",
   "metadata": {},
   "source": [
    "### Finding the percentage of missing values\n",
    "\n",
    "To find the percentage of missing values in a Series, chain the `mean` method to the `isna` method."
   ]
  },
  {
   "cell_type": "code",
   "execution_count": 5,
   "metadata": {},
   "outputs": [
    {
     "data": {
      "text/plain": [
       "0.0030512611879576893"
      ]
     },
     "execution_count": 5,
     "metadata": {},
     "output_type": "execute_result"
    }
   ],
   "source": [
    "duration.isna().mean()"
   ]
  },
  {
   "cell_type": "markdown",
   "metadata": {},
   "source": [
    "### Alternate calculation\n",
    "\n",
    "The last calculation might be confusing. We could have been more explicit and calculated the percentage of missing values by dividing the number missing by the total size of the Series as done below."
   ]
  },
  {
   "cell_type": "code",
   "execution_count": 6,
   "metadata": {},
   "outputs": [
    {
     "data": {
      "text/plain": [
       "0.0030512611879576893"
      ]
     },
     "execution_count": 6,
     "metadata": {},
     "output_type": "execute_result"
    }
   ],
   "source": [
    "total = len(duration)\n",
    "num_missing = total - duration.count()\n",
    "num_missing / total"
   ]
  },
  {
   "cell_type": "markdown",
   "metadata": {},
   "source": [
    "### Why does taking the mean of the boolean Series work?\n",
    "\n",
    "The mean is defined as the sum of all values divided by the total number of values. In the case of a boolean Series, its sum is just the number of `True` values and in this specific example is equal to the number of missing values.\n",
    "\n",
    "### The `notna` method\n",
    "\n",
    "The `notna` method works analogously to the `isna` method but returns `True` for non-missing values. Let's verify that it returns the exact opposite result as `isna`."
   ]
  },
  {
   "cell_type": "code",
   "execution_count": 7,
   "metadata": {},
   "outputs": [
    {
     "data": {
      "text/plain": [
       "title\n",
       "Avatar                                         True\n",
       "Pirates of the Caribbean: At World's End       True\n",
       "Spectre                                        True\n",
       "The Dark Knight Rises                          True\n",
       "Star Wars: Episode VII - The Force Awakens    False\n",
       "Name: duration, dtype: bool"
      ]
     },
     "execution_count": 7,
     "metadata": {},
     "output_type": "execute_result"
    }
   ],
   "source": [
    "duration.notna().head()"
   ]
  },
  {
   "cell_type": "markdown",
   "metadata": {},
   "source": [
    "Let's count the number of non-missing values by summing up the previous result."
   ]
  },
  {
   "cell_type": "code",
   "execution_count": 8,
   "metadata": {},
   "outputs": [
    {
     "data": {
      "text/plain": [
       "4901"
      ]
     },
     "execution_count": 8,
     "metadata": {},
     "output_type": "execute_result"
    }
   ],
   "source": [
    "duration.notna().sum()"
   ]
  },
  {
   "cell_type": "markdown",
   "metadata": {},
   "source": [
    "This is the exact calculation that the `count` method performs, so the above is unnecessary."
   ]
  },
  {
   "cell_type": "code",
   "execution_count": 9,
   "metadata": {},
   "outputs": [
    {
     "data": {
      "text/plain": [
       "4901"
      ]
     },
     "execution_count": 9,
     "metadata": {},
     "output_type": "execute_result"
    }
   ],
   "source": [
    "duration.count()"
   ]
  },
  {
   "cell_type": "markdown",
   "metadata": {},
   "source": [
    "## Dropping missing values with `dropna`\n",
    "\n",
    "The `dropna` method returns a new Series without any missing values. In the `duration` Series, the fifth value was missing. After calling `dropna`, it's no longer there."
   ]
  },
  {
   "cell_type": "code",
   "execution_count": 10,
   "metadata": {},
   "outputs": [
    {
     "data": {
      "text/plain": [
       "title\n",
       "Avatar                                      178.0\n",
       "Pirates of the Caribbean: At World's End    169.0\n",
       "Spectre                                     148.0\n",
       "The Dark Knight Rises                       164.0\n",
       "John Carter                                 132.0\n",
       "Name: duration, dtype: float64"
      ]
     },
     "execution_count": 10,
     "metadata": {},
     "output_type": "execute_result"
    }
   ],
   "source": [
    "duration2 = duration.dropna()\n",
    "duration2.head()"
   ]
  },
  {
   "cell_type": "markdown",
   "metadata": {},
   "source": [
    "Above, we calculated that there were 15 missing values in the Series. Let's verify that the length of the new Series has decreased by this amount."
   ]
  },
  {
   "cell_type": "code",
   "execution_count": 11,
   "metadata": {},
   "outputs": [
    {
     "data": {
      "text/plain": [
       "4901"
      ]
     },
     "execution_count": 11,
     "metadata": {},
     "output_type": "execute_result"
    }
   ],
   "source": [
    "len(duration2)"
   ]
  },
  {
   "cell_type": "code",
   "execution_count": 12,
   "metadata": {},
   "outputs": [
    {
     "data": {
      "text/plain": [
       "4916"
      ]
     },
     "execution_count": 12,
     "metadata": {},
     "output_type": "execute_result"
    }
   ],
   "source": [
    "len(duration)"
   ]
  },
  {
   "cell_type": "markdown",
   "metadata": {},
   "source": [
    "## Filling missing values with the `fillna` method\n",
    "\n",
    "There are a number of ways that have been developed to fill missing values. Some of these are quite complex and involve machine learning. pandas only provides a few simple choices with the `fillna` method. Let's read in some data containing a person's weight over time. Notice that several missing values are missing."
   ]
  },
  {
   "cell_type": "code",
   "execution_count": 13,
   "metadata": {},
   "outputs": [
    {
     "data": {
      "text/html": [
       "<div>\n",
       "<style scoped>\n",
       "    .dataframe tbody tr th:only-of-type {\n",
       "        vertical-align: middle;\n",
       "    }\n",
       "\n",
       "    .dataframe tbody tr th {\n",
       "        vertical-align: top;\n",
       "    }\n",
       "\n",
       "    .dataframe thead th {\n",
       "        text-align: right;\n",
       "    }\n",
       "</style>\n",
       "<table border=\"1\" class=\"dataframe\">\n",
       "  <thead>\n",
       "    <tr style=\"text-align: right;\">\n",
       "      <th></th>\n",
       "      <th>date</th>\n",
       "      <th>weight</th>\n",
       "    </tr>\n",
       "  </thead>\n",
       "  <tbody>\n",
       "    <tr>\n",
       "      <th>0</th>\n",
       "      <td>2019-10-01</td>\n",
       "      <td>NaN</td>\n",
       "    </tr>\n",
       "    <tr>\n",
       "      <th>1</th>\n",
       "      <td>2019-10-02</td>\n",
       "      <td>205.0</td>\n",
       "    </tr>\n",
       "    <tr>\n",
       "      <th>2</th>\n",
       "      <td>2019-10-03</td>\n",
       "      <td>NaN</td>\n",
       "    </tr>\n",
       "    <tr>\n",
       "      <th>3</th>\n",
       "      <td>2019-10-04</td>\n",
       "      <td>NaN</td>\n",
       "    </tr>\n",
       "    <tr>\n",
       "      <th>4</th>\n",
       "      <td>2019-10-05</td>\n",
       "      <td>201.0</td>\n",
       "    </tr>\n",
       "    <tr>\n",
       "      <th>5</th>\n",
       "      <td>2019-10-06</td>\n",
       "      <td>NaN</td>\n",
       "    </tr>\n",
       "    <tr>\n",
       "      <th>6</th>\n",
       "      <td>2019-10-07</td>\n",
       "      <td>NaN</td>\n",
       "    </tr>\n",
       "    <tr>\n",
       "      <th>7</th>\n",
       "      <td>2019-10-08</td>\n",
       "      <td>NaN</td>\n",
       "    </tr>\n",
       "    <tr>\n",
       "      <th>8</th>\n",
       "      <td>2019-10-09</td>\n",
       "      <td>199.0</td>\n",
       "    </tr>\n",
       "    <tr>\n",
       "      <th>9</th>\n",
       "      <td>2019-10-10</td>\n",
       "      <td>NaN</td>\n",
       "    </tr>\n",
       "  </tbody>\n",
       "</table>\n",
       "</div>"
      ],
      "text/plain": [
       "         date  weight\n",
       "0  2019-10-01     NaN\n",
       "1  2019-10-02   205.0\n",
       "2  2019-10-03     NaN\n",
       "3  2019-10-04     NaN\n",
       "4  2019-10-05   201.0\n",
       "5  2019-10-06     NaN\n",
       "6  2019-10-07     NaN\n",
       "7  2019-10-08     NaN\n",
       "8  2019-10-09   199.0\n",
       "9  2019-10-10     NaN"
      ]
     },
     "execution_count": 13,
     "metadata": {},
     "output_type": "execute_result"
    }
   ],
   "source": [
    "weight_loss = pd.read_csv('../data/weight_loss.csv')\n",
    "weight_loss"
   ]
  },
  {
   "cell_type": "markdown",
   "metadata": {},
   "source": [
    "Let's select just the weight column to work with a Series."
   ]
  },
  {
   "cell_type": "code",
   "execution_count": 14,
   "metadata": {},
   "outputs": [
    {
     "data": {
      "text/plain": [
       "0      NaN\n",
       "1    205.0\n",
       "2      NaN\n",
       "3      NaN\n",
       "4    201.0\n",
       "5      NaN\n",
       "6      NaN\n",
       "7      NaN\n",
       "8    199.0\n",
       "9      NaN\n",
       "Name: weight, dtype: float64"
      ]
     },
     "execution_count": 14,
     "metadata": {},
     "output_type": "execute_result"
    }
   ],
   "source": [
    "weight = weight_loss['weight']\n",
    "weight"
   ]
  },
  {
   "cell_type": "markdown",
   "metadata": {},
   "source": [
    "There are a few options with the `fillna` method. Passing it a single number replaces each missing value with it. Let's fill in all missing values with 200."
   ]
  },
  {
   "cell_type": "code",
   "execution_count": 15,
   "metadata": {},
   "outputs": [
    {
     "data": {
      "text/plain": [
       "0    200.0\n",
       "1    205.0\n",
       "2    200.0\n",
       "3    200.0\n",
       "4    201.0\n",
       "5    200.0\n",
       "6    200.0\n",
       "7    200.0\n",
       "8    199.0\n",
       "9    200.0\n",
       "Name: weight, dtype: float64"
      ]
     },
     "execution_count": 15,
     "metadata": {},
     "output_type": "execute_result"
    }
   ],
   "source": [
    "weight.fillna(200)"
   ]
  },
  {
   "cell_type": "markdown",
   "metadata": {},
   "source": [
    "A common strategy involves filling missing values with either the mean or the median. Let's calculate the median, assign it to a variable name, and then call the `fillna` method. Here, the median is 201."
   ]
  },
  {
   "cell_type": "code",
   "execution_count": 16,
   "metadata": {},
   "outputs": [
    {
     "data": {
      "text/plain": [
       "0    201.0\n",
       "1    205.0\n",
       "2    201.0\n",
       "3    201.0\n",
       "4    201.0\n",
       "5    201.0\n",
       "6    201.0\n",
       "7    201.0\n",
       "8    199.0\n",
       "9    201.0\n",
       "Name: weight, dtype: float64"
      ]
     },
     "execution_count": 16,
     "metadata": {},
     "output_type": "execute_result"
    }
   ],
   "source": [
    "median = weight.median()\n",
    "weight.fillna(median)"
   ]
  },
  {
   "cell_type": "markdown",
   "metadata": {},
   "source": [
    "### Filling with the previous or next non-missing value\n",
    "\n",
    "The `fillna` method provides an option to use either the previous or next non-missing value. To fill the missing value with the most recent previous non-missing value, set the `method` parameter to `'ffill'`, which stands for 'forward fill'. Let's forward fill our `weight` Series. Notice, that the first value remains missing as there is no non-missing value that comes before it."
   ]
  },
  {
   "cell_type": "code",
   "execution_count": 17,
   "metadata": {},
   "outputs": [
    {
     "data": {
      "text/plain": [
       "0      NaN\n",
       "1    205.0\n",
       "2    205.0\n",
       "3    205.0\n",
       "4    201.0\n",
       "5    201.0\n",
       "6    201.0\n",
       "7    201.0\n",
       "8    199.0\n",
       "9    199.0\n",
       "Name: weight, dtype: float64"
      ]
     },
     "execution_count": 17,
     "metadata": {},
     "output_type": "execute_result"
    }
   ],
   "source": [
    "weight.fillna(method='ffill')"
   ]
  },
  {
   "cell_type": "markdown",
   "metadata": {},
   "source": [
    "Similarly, we can fill the missing values with the next non-missing value by setting the `method` parameter to `'bfill'`, which stands for 'backward fill'. This time the last value remains missing as no non-missing value follows it."
   ]
  },
  {
   "cell_type": "code",
   "execution_count": 18,
   "metadata": {},
   "outputs": [
    {
     "data": {
      "text/plain": [
       "0    205.0\n",
       "1    205.0\n",
       "2    201.0\n",
       "3    201.0\n",
       "4    201.0\n",
       "5    199.0\n",
       "6    199.0\n",
       "7    199.0\n",
       "8    199.0\n",
       "9      NaN\n",
       "Name: weight, dtype: float64"
      ]
     },
     "execution_count": 18,
     "metadata": {},
     "output_type": "execute_result"
    }
   ],
   "source": [
    "weight.fillna(method='bfill')"
   ]
  },
  {
   "cell_type": "markdown",
   "metadata": {},
   "source": [
    "### Limit the number of missing values filled\n",
    "\n",
    "By default, all possible missing values will be filled when the `method` parameter is set. You can limit the number of consecutive missing values filled with the `limit` parameter by setting it equal to an integer. Here, we only allow the very next missing value to be filled."
   ]
  },
  {
   "cell_type": "code",
   "execution_count": 19,
   "metadata": {},
   "outputs": [
    {
     "data": {
      "text/plain": [
       "0      NaN\n",
       "1    205.0\n",
       "2    205.0\n",
       "3      NaN\n",
       "4    201.0\n",
       "5    201.0\n",
       "6      NaN\n",
       "7      NaN\n",
       "8    199.0\n",
       "9    199.0\n",
       "Name: weight, dtype: float64"
      ]
     },
     "execution_count": 19,
     "metadata": {},
     "output_type": "execute_result"
    }
   ],
   "source": [
    "weight.fillna(method='ffill', limit=1)"
   ]
  },
  {
   "cell_type": "markdown",
   "metadata": {},
   "source": [
    "## Filling missing values with `interpolate`\n",
    "\n",
    "Interpolation is a more complex method for filling in missing values that gives you more control as to how the values are filled. There are many different methods for interpolation that all involve statistical calculations. In pandas, we use the `interpolate` method and choose the type of interpolation with the `method` parameter. By default, pandas does linear interpolation."
   ]
  },
  {
   "cell_type": "code",
   "execution_count": 20,
   "metadata": {},
   "outputs": [
    {
     "data": {
      "text/plain": [
       "0           NaN\n",
       "1    205.000000\n",
       "2    203.666667\n",
       "3    202.333333\n",
       "4    201.000000\n",
       "5    200.500000\n",
       "6    200.000000\n",
       "7    199.500000\n",
       "8    199.000000\n",
       "9    199.000000\n",
       "Name: weight, dtype: float64"
      ]
     },
     "execution_count": 20,
     "metadata": {},
     "output_type": "execute_result"
    }
   ],
   "source": [
    "weight.interpolate(method='linear')"
   ]
  },
  {
   "cell_type": "markdown",
   "metadata": {},
   "source": [
    "Linear interpolation is the simplest method and computes missing values such that they are modeled using a straight line. With the `weight` Series, 205 is the 2nd value and 201 the fifth. There are two missing values between them. We compute the slope of the line between these two points as $\\frac{201 - 205}{5 - 2} = -\\frac{4}{3}$.\n",
    "\n",
    "The missing values are filled in with the equation $205 - \\frac{4}{3}x$ where $x$ is the number of values from the last non-missing value. This process repeats for the next interval of missing values with a new slope calculated. Interestingly, pandas fills any missing values that appear after the last non-missing value with that last non-missing value. You can prevent this by setting the `limit_area` parameter to 'inside'."
   ]
  },
  {
   "cell_type": "code",
   "execution_count": 21,
   "metadata": {},
   "outputs": [
    {
     "data": {
      "text/plain": [
       "0           NaN\n",
       "1    205.000000\n",
       "2    203.666667\n",
       "3    202.333333\n",
       "4    201.000000\n",
       "5    200.500000\n",
       "6    200.000000\n",
       "7    199.500000\n",
       "8    199.000000\n",
       "9           NaN\n",
       "Name: weight, dtype: float64"
      ]
     },
     "execution_count": 21,
     "metadata": {},
     "output_type": "execute_result"
    }
   ],
   "source": [
    "weight.interpolate(method='linear', limit_area='inside')"
   ]
  },
  {
   "cell_type": "markdown",
   "metadata": {},
   "source": [
    "### Many more interpolations methods\n",
    "\n",
    "There are many more interpolation methods such as quadratic, cubic, spline, and others. Each of these methods are processed with the **scipy** library's interpolate module. You'll need to [navigate to the scipy documentation][1] to read the exact details of how the methods work. Here, we interpolate using the quadratic method.\n",
    "\n",
    "[1]: https://docs.scipy.org/doc/scipy/reference/interpolate.html"
   ]
  },
  {
   "cell_type": "code",
   "execution_count": 22,
   "metadata": {},
   "outputs": [
    {
     "data": {
      "text/plain": [
       "0           NaN\n",
       "1    205.000000\n",
       "2    203.428571\n",
       "3    202.095238\n",
       "4    201.000000\n",
       "5    200.142857\n",
       "6    199.523810\n",
       "7    199.142857\n",
       "8    199.000000\n",
       "9           NaN\n",
       "Name: weight, dtype: float64"
      ]
     },
     "execution_count": 22,
     "metadata": {},
     "output_type": "execute_result"
    }
   ],
   "source": [
    "weight.interpolate('quadratic')"
   ]
  },
  {
   "cell_type": "markdown",
   "metadata": {},
   "source": [
    "## Graphing interpolation methods\n",
    "\n",
    "Comparing different interpolation methods can be aided with a graph. Here, we compare three different methods:\n",
    "\n",
    "* `fillna` with forward filling\n",
    "* linear interpolation\n",
    "* quadratic interpolation\n",
    "\n",
    "The plotting commands will be explained in the **Visualization** part of the course."
   ]
  },
  {
   "cell_type": "code",
   "execution_count": 23,
   "metadata": {},
   "outputs": [
    {
     "data": {
      "image/png": "[encoded data removed]",
      "text/plain": [
       "<Figure size 635x342.9 with 1 Axes>"
      ]
     },
     "metadata": {},
     "output_type": "display_data"
    }
   ],
   "source": [
    "import seaborn as sns\n",
    "sns.set_theme(rc={'figure.figsize': (5, 2.7), 'figure.dpi': 127}, \n",
    "              font_scale=0.8)\n",
    "weight.fillna(method='ffill').plot(kind='line', label='ffill', legend=True)\n",
    "weight.interpolate('linear').plot(kind='line', label='linear', legend=True)\n",
    "weight.interpolate('quadratic').plot(kind='line', label='quadratic', legend=True);"
   ]
  },
  {
   "cell_type": "markdown",
   "metadata": {},
   "source": [
    "## Interpolation methods use the index\n",
    "\n",
    "All of the interpolation methods (except linear) use the index values during their calculation. Below, we create a copy of our data and change the index to be non-consecutive integers. Notice, how the interpolated values are different from above. "
   ]
  },
  {
   "cell_type": "code",
   "execution_count": 25,
   "metadata": {
    "scrolled": true
   },
   "outputs": [
    {
     "data": {
      "text/plain": [
       "0            NaN\n",
       "1     205.000000\n",
       "5     202.515450\n",
       "6     201.977161\n",
       "8     201.000000\n",
       "12    199.443350\n",
       "22    197.871473\n",
       "27    198.328258\n",
       "30    199.000000\n",
       "35           NaN\n",
       "Name: weight, dtype: float64"
      ]
     },
     "execution_count": 25,
     "metadata": {},
     "output_type": "execute_result"
    }
   ],
   "source": [
    "w2 = weight.copy()\n",
    "w2.index = [0, 1, 5, 6, 8, 12, 22, 27, 30, 35]\n",
    "w2.interpolate('quadratic')"
   ]
  },
  {
   "cell_type": "code",
   "execution_count": 26,
   "metadata": {},
   "outputs": [
    {
     "data": {
      "image/png": "[encoded data removed]",
      "text/plain": [
       "<Figure size 635x342.9 with 1 Axes>"
      ]
     },
     "metadata": {},
     "output_type": "display_data"
    }
   ],
   "source": [
    "w2.interpolate('quadratic').plot(kind='line', label='quadratic', legend=True);"
   ]
  },
  {
   "cell_type": "markdown",
   "metadata": {},
   "source": [
    "## Exercises\n",
    "\n",
    "Execute the following cell to use the actor 1 and actor 2 Facebook like Series for the first few exercises."
   ]
  },
  {
   "cell_type": "code",
   "execution_count": 27,
   "metadata": {},
   "outputs": [
    {
     "data": {
      "text/plain": [
       "title\n",
       "Avatar                                         1000.0\n",
       "Pirates of the Caribbean: At World's End      40000.0\n",
       "Spectre                                       11000.0\n",
       "The Dark Knight Rises                         27000.0\n",
       "Star Wars: Episode VII - The Force Awakens      131.0\n",
       "Name: actor1_fb, dtype: float64"
      ]
     },
     "execution_count": 27,
     "metadata": {},
     "output_type": "execute_result"
    }
   ],
   "source": [
    "actor1_fb = movie['actor1_fb']\n",
    "actor2_fb = movie['actor2_fb']\n",
    "actor1_fb.head()"
   ]
  },
  {
   "cell_type": "code",
   "execution_count": 28,
   "metadata": {},
   "outputs": [
    {
     "data": {
      "text/plain": [
       "title\n",
       "Avatar                                          936.0\n",
       "Pirates of the Caribbean: At World's End       5000.0\n",
       "Spectre                                         393.0\n",
       "The Dark Knight Rises                         23000.0\n",
       "Star Wars: Episode VII - The Force Awakens       12.0\n",
       "Name: actor2_fb, dtype: float64"
      ]
     },
     "execution_count": 28,
     "metadata": {},
     "output_type": "execute_result"
    }
   ],
   "source": [
    "actor2_fb.head()"
   ]
  },
  {
   "cell_type": "markdown",
   "metadata": {},
   "source": [
    "### Exercise 1\n",
    "\n",
    "<span style=\"color:green; font-size:16px\">What percentage of actor 1 Facebook likes are missing?</span>"
   ]
  },
  {
   "cell_type": "code",
   "execution_count": 29,
   "metadata": {},
   "outputs": [
    {
     "data": {
      "text/plain": [
       "0.0014239218877135883"
      ]
     },
     "execution_count": 29,
     "metadata": {},
     "output_type": "execute_result"
    }
   ],
   "source": [
    "actor1_fb.isna().mean()"
   ]
  },
  {
   "cell_type": "markdown",
   "metadata": {},
   "source": [
    "### Exercise 2\n",
    "\n",
    "<span style=\"color:green; font-size:16px\">Use the `notna` method to find the number of non-missing values in the actor 1 Facebook like column. Verify this number is the same as the `count` method.</span>"
   ]
  },
  {
   "cell_type": "code",
   "execution_count": 31,
   "metadata": {},
   "outputs": [],
   "source": [
    "from IPython.core.interactiveshell import InteractiveShell\n",
    "InteractiveShell.ast_node_interactivity = \"all\""
   ]
  },
  {
   "cell_type": "code",
   "execution_count": 32,
   "metadata": {},
   "outputs": [
    {
     "data": {
      "text/plain": [
       "4909"
      ]
     },
     "execution_count": 32,
     "metadata": {},
     "output_type": "execute_result"
    },
    {
     "data": {
      "text/plain": [
       "4909"
      ]
     },
     "execution_count": 32,
     "metadata": {},
     "output_type": "execute_result"
    }
   ],
   "source": [
    "actor1_fb.notna().sum()\n",
    "actor1_fb.count()"
   ]
  },
  {
   "cell_type": "markdown",
   "metadata": {},
   "source": [
    "### Exercise 3\n",
    "\n",
    "<span style=\"color:green; font-size:16px\">Fill the missing values of `actor1_fb` with the maximum of `actor2_fb`. Save this result to variable `actor1_fb_full`.</span>"
   ]
  },
  {
   "cell_type": "code",
   "execution_count": 34,
   "metadata": {},
   "outputs": [],
   "source": [
    "fill_val = actor2_fb.max()\n",
    "\n",
    "actor1_fb_full = actor1_fb.fillna(fill_val)"
   ]
  },
  {
   "cell_type": "code",
   "execution_count": 35,
   "metadata": {},
   "outputs": [
    {
     "data": {
      "text/plain": [
       "title\n",
       "Avatar                                         1000.0\n",
       "Pirates of the Caribbean: At World's End      40000.0\n",
       "Spectre                                       11000.0\n",
       "The Dark Knight Rises                         27000.0\n",
       "Star Wars: Episode VII - The Force Awakens      131.0\n",
       "                                               ...   \n",
       "Signed Sealed Delivered                         637.0\n",
       "The Following                                   841.0\n",
       "A Plague So Pleasant                              0.0\n",
       "Shanghai Calling                                946.0\n",
       "My Date with Drew                                86.0\n",
       "Name: actor1_fb, Length: 4916, dtype: float64"
      ]
     },
     "execution_count": 35,
     "metadata": {},
     "output_type": "execute_result"
    }
   ],
   "source": [
    "actor1_fb_full"
   ]
  },
  {
   "cell_type": "markdown",
   "metadata": {},
   "source": [
    "### Exercise 4\n",
    "\n",
    "<span style=\"color:green; font-size:16px\">Verify the results of Exercise 3 by selecting just the values of `actor1_fb_full` that were filled by `actor2_fb`.</span>"
   ]
  },
  {
   "cell_type": "code",
   "execution_count": 36,
   "metadata": {},
   "outputs": [
    {
     "data": {
      "text/plain": [
       "137000.0"
      ]
     },
     "execution_count": 36,
     "metadata": {},
     "output_type": "execute_result"
    }
   ],
   "source": [
    "fill_val"
   ]
  },
  {
   "cell_type": "code",
   "execution_count": 37,
   "metadata": {},
   "outputs": [
    {
     "data": {
      "text/plain": [
       "title\n",
       "Armored                    137000.0\n",
       "Quarantine                 137000.0\n",
       "Pink Ribbons, Inc.         137000.0\n",
       "Sex with Strangers         137000.0\n",
       "The Harvest/La Cosecha     137000.0\n",
       "Ayurveda: Art of Being     137000.0\n",
       "The Brain That Sings       137000.0\n",
       "The Blood of My Brother    137000.0\n",
       "Counting                   137000.0\n",
       "Name: actor1_fb, dtype: float64"
      ]
     },
     "execution_count": 37,
     "metadata": {},
     "output_type": "execute_result"
    }
   ],
   "source": [
    "filt = actor1_fb_full == fill_val\n",
    "actor1_fb_full[filt]"
   ]
  },
  {
   "cell_type": "markdown",
   "metadata": {},
   "source": [
    "### Exercise 5\n",
    "\n",
    "<span style=\"color:green; font-size:16px\">Use the `duration` Series and test whether each movie is greater than 100. Assign the resulting Series to `filt`. Then test whether the `duration` Series is less than or equal to 100 and assign it to `filt2`. Call the `sum` method on both of these new Series and add their results together. Why doesn't this result equal the total length of the Series? Shouldn't a value be either greater than 100 or less than or equal to 100?</span>"
   ]
  },
  {
   "cell_type": "code",
   "execution_count": 42,
   "metadata": {},
   "outputs": [
    {
     "name": "stdout",
     "output_type": "stream",
     "text": [
      "filt =  2754\n",
      "filt2 =  2147\n",
      "sum =  4901\n"
     ]
    }
   ],
   "source": [
    "filt = duration > 100\n",
    "filt2 = duration <= 100\n",
    "\n",
    "print(f'filt = ' , filt.sum())\n",
    "print(f'filt2 = ' , filt2.sum())\n",
    "print(f'sum = ' , filt.sum() + filt2.sum())"
   ]
  },
  {
   "cell_type": "code",
   "execution_count": 43,
   "metadata": {},
   "outputs": [
    {
     "data": {
      "text/plain": [
       "4916"
      ]
     },
     "execution_count": 43,
     "metadata": {},
     "output_type": "execute_result"
    }
   ],
   "source": [
    "len(duration)"
   ]
  },
  {
   "cell_type": "code",
   "execution_count": 44,
   "metadata": {},
   "outputs": [
    {
     "data": {
      "text/plain": [
       "15"
      ]
     },
     "execution_count": 44,
     "metadata": {},
     "output_type": "execute_result"
    }
   ],
   "source": [
    "duration.isna().sum()"
   ]
  },
  {
   "cell_type": "markdown",
   "metadata": {},
   "source": [
    "### Exercise 6\n",
    "\n",
    "<span style=\"color:green; font-size:16px\">How many missing values are there in the `year` column?</span>"
   ]
  },
  {
   "cell_type": "code",
   "execution_count": 47,
   "metadata": {},
   "outputs": [
    {
     "data": {
      "text/plain": [
       "106"
      ]
     },
     "execution_count": 47,
     "metadata": {},
     "output_type": "execute_result"
    }
   ],
   "source": [
    "year = movie['year']\n",
    "year.isna().sum()"
   ]
  },
  {
   "cell_type": "markdown",
   "metadata": {},
   "source": [
    "### Exercise 7\n",
    "\n",
    "<span style=\"color:green; font-size:16px\">Select the language column as a Series and assign it to a variable with the same name. Create a variable `filt` that determines whether a language is missing. Create a new Series that fills in all missing languages with 'English' and assign it to the variable `language2`. Output both `language` and `language2` for the movies that originally had missing values.</span>"
   ]
  },
  {
   "cell_type": "code",
   "execution_count": 48,
   "metadata": {
    "collapsed": true
   },
   "outputs": [
    {
     "data": {
      "text/plain": [
       "title\n",
       "Star Wars: Episode VII - The Force Awakens               NaN\n",
       "10,000 B.C.                                              NaN\n",
       "Unforgettable                                            NaN\n",
       "September Dawn                                           NaN\n",
       "Alpha and Omega 4: The Legend of the Saw Toothed Cave    NaN\n",
       "Silent Movie                                             NaN\n",
       "Love's Abiding Joy                                       NaN\n",
       "Kickboxer: Vengeance                                     NaN\n",
       "A Fine Step                                              NaN\n",
       "Intolerance: Love's Struggle Throughout the Ages         NaN\n",
       "The Big Parade                                           NaN\n",
       "Over the Hill to the Poorhouse                           NaN\n",
       "Name: language, dtype: object"
      ]
     },
     "execution_count": 48,
     "metadata": {},
     "output_type": "execute_result"
    },
    {
     "data": {
      "text/plain": [
       "title\n",
       "Star Wars: Episode VII - The Force Awakens               English\n",
       "10,000 B.C.                                              English\n",
       "Unforgettable                                            English\n",
       "September Dawn                                           English\n",
       "Alpha and Omega 4: The Legend of the Saw Toothed Cave    English\n",
       "Silent Movie                                             English\n",
       "Love's Abiding Joy                                       English\n",
       "Kickboxer: Vengeance                                     English\n",
       "A Fine Step                                              English\n",
       "Intolerance: Love's Struggle Throughout the Ages         English\n",
       "The Big Parade                                           English\n",
       "Over the Hill to the Poorhouse                           English\n",
       "Name: language, dtype: object"
      ]
     },
     "execution_count": 48,
     "metadata": {},
     "output_type": "execute_result"
    }
   ],
   "source": [
    "language = movie['language']\n",
    "\n",
    "filt = language.isna()\n",
    "\n",
    "language2 = language.fillna('English')\n",
    "\n",
    "language[filt]\n",
    "\n",
    "language2[filt]"
   ]
  },
  {
   "cell_type": "markdown",
   "metadata": {},
   "source": [
    "### Exercise 8\n",
    "\n",
    "<span  style=\"color:green; font-size:16px\">Repeat exercise 7 without first assigning the language column to a variable. Reference it by using *just the brackets*. Still make a variable `language2` to verify the results.</span>"
   ]
  },
  {
   "cell_type": "code",
   "execution_count": 49,
   "metadata": {},
   "outputs": [
    {
     "data": {
      "text/plain": [
       "title\n",
       "Star Wars: Episode VII - The Force Awakens               NaN\n",
       "10,000 B.C.                                              NaN\n",
       "Unforgettable                                            NaN\n",
       "September Dawn                                           NaN\n",
       "Alpha and Omega 4: The Legend of the Saw Toothed Cave    NaN\n",
       "Silent Movie                                             NaN\n",
       "Love's Abiding Joy                                       NaN\n",
       "Kickboxer: Vengeance                                     NaN\n",
       "A Fine Step                                              NaN\n",
       "Intolerance: Love's Struggle Throughout the Ages         NaN\n",
       "The Big Parade                                           NaN\n",
       "Over the Hill to the Poorhouse                           NaN\n",
       "Name: language, dtype: object"
      ]
     },
     "execution_count": 49,
     "metadata": {},
     "output_type": "execute_result"
    }
   ],
   "source": [
    "filt = movie['language'].isna()\n",
    "\n",
    "language2 = language.fillna('English')\n",
    "\n",
    "movie['language'][filt]"
   ]
  },
  {
   "cell_type": "markdown",
   "metadata": {},
   "source": [
    "### Exercise 9\n",
    "\n",
    "<span style=\"color:green; font-size:16px\">Select the `gross` column, and drop all missing values from it. Confirm that the new length of the resulting Series is correct.</span>"
   ]
  },
  {
   "cell_type": "code",
   "execution_count": 51,
   "metadata": {},
   "outputs": [
    {
     "data": {
      "text/plain": [
       "4054"
      ]
     },
     "execution_count": 51,
     "metadata": {},
     "output_type": "execute_result"
    }
   ],
   "source": [
    "new = movie['gross'].dropna()\n",
    "len(new)"
   ]
  },
  {
   "cell_type": "code",
   "execution_count": 52,
   "metadata": {},
   "outputs": [
    {
     "data": {
      "text/plain": [
       "4054"
      ]
     },
     "execution_count": 52,
     "metadata": {},
     "output_type": "execute_result"
    }
   ],
   "source": [
    "numna = movie['gross'].isna().sum()\n",
    "\n",
    "len(movie['gross']) - numna"
   ]
  },
  {
   "cell_type": "markdown",
   "metadata": {},
   "source": [
    "### Exercise 10\n",
    "\n",
    "<span  style=\"color:green; font-size:16px\">Read in `girl_height.csv` as a DataFrame and output all of the data. The average height for each age is found in the `height` column. Assign the `height_na` Series to a variable. Notice that all ages from 2 through 12 are missing, but all other ages have the same value as the `height` column. Use the `interpolate` method to fill in the missing values with method 'linear', 'quadratic', and 'cubic'. Save each interpolated Series to a variable with the same name as its method.</span>"
   ]
  },
  {
   "cell_type": "code",
   "execution_count": 53,
   "metadata": {
    "collapsed": true
   },
   "outputs": [
    {
     "data": {
      "text/html": [
       "<div>\n",
       "<style scoped>\n",
       "    .dataframe tbody tr th:only-of-type {\n",
       "        vertical-align: middle;\n",
       "    }\n",
       "\n",
       "    .dataframe tbody tr th {\n",
       "        vertical-align: top;\n",
       "    }\n",
       "\n",
       "    .dataframe thead th {\n",
       "        text-align: right;\n",
       "    }\n",
       "</style>\n",
       "<table border=\"1\" class=\"dataframe\">\n",
       "  <thead>\n",
       "    <tr style=\"text-align: right;\">\n",
       "      <th></th>\n",
       "      <th>age</th>\n",
       "      <th>height</th>\n",
       "      <th>height_na</th>\n",
       "    </tr>\n",
       "  </thead>\n",
       "  <tbody>\n",
       "    <tr>\n",
       "      <th>0</th>\n",
       "      <td>0</td>\n",
       "      <td>19.00</td>\n",
       "      <td>19.00</td>\n",
       "    </tr>\n",
       "    <tr>\n",
       "      <th>1</th>\n",
       "      <td>1</td>\n",
       "      <td>29.00</td>\n",
       "      <td>29.00</td>\n",
       "    </tr>\n",
       "    <tr>\n",
       "      <th>2</th>\n",
       "      <td>2</td>\n",
       "      <td>34.00</td>\n",
       "      <td>NaN</td>\n",
       "    </tr>\n",
       "    <tr>\n",
       "      <th>3</th>\n",
       "      <td>3</td>\n",
       "      <td>37.00</td>\n",
       "      <td>NaN</td>\n",
       "    </tr>\n",
       "    <tr>\n",
       "      <th>4</th>\n",
       "      <td>4</td>\n",
       "      <td>39.50</td>\n",
       "      <td>NaN</td>\n",
       "    </tr>\n",
       "    <tr>\n",
       "      <th>5</th>\n",
       "      <td>5</td>\n",
       "      <td>42.00</td>\n",
       "      <td>NaN</td>\n",
       "    </tr>\n",
       "    <tr>\n",
       "      <th>6</th>\n",
       "      <td>6</td>\n",
       "      <td>45.50</td>\n",
       "      <td>NaN</td>\n",
       "    </tr>\n",
       "    <tr>\n",
       "      <th>7</th>\n",
       "      <td>7</td>\n",
       "      <td>48.00</td>\n",
       "      <td>NaN</td>\n",
       "    </tr>\n",
       "    <tr>\n",
       "      <th>8</th>\n",
       "      <td>8</td>\n",
       "      <td>50.00</td>\n",
       "      <td>NaN</td>\n",
       "    </tr>\n",
       "    <tr>\n",
       "      <th>9</th>\n",
       "      <td>9</td>\n",
       "      <td>52.50</td>\n",
       "      <td>NaN</td>\n",
       "    </tr>\n",
       "    <tr>\n",
       "      <th>10</th>\n",
       "      <td>10</td>\n",
       "      <td>54.00</td>\n",
       "      <td>NaN</td>\n",
       "    </tr>\n",
       "    <tr>\n",
       "      <th>11</th>\n",
       "      <td>11</td>\n",
       "      <td>56.00</td>\n",
       "      <td>NaN</td>\n",
       "    </tr>\n",
       "    <tr>\n",
       "      <th>12</th>\n",
       "      <td>12</td>\n",
       "      <td>59.50</td>\n",
       "      <td>NaN</td>\n",
       "    </tr>\n",
       "    <tr>\n",
       "      <th>13</th>\n",
       "      <td>13</td>\n",
       "      <td>61.50</td>\n",
       "      <td>61.50</td>\n",
       "    </tr>\n",
       "    <tr>\n",
       "      <th>14</th>\n",
       "      <td>14</td>\n",
       "      <td>63.50</td>\n",
       "      <td>63.50</td>\n",
       "    </tr>\n",
       "    <tr>\n",
       "      <th>15</th>\n",
       "      <td>15</td>\n",
       "      <td>64.00</td>\n",
       "      <td>64.00</td>\n",
       "    </tr>\n",
       "    <tr>\n",
       "      <th>16</th>\n",
       "      <td>16</td>\n",
       "      <td>64.25</td>\n",
       "      <td>64.25</td>\n",
       "    </tr>\n",
       "    <tr>\n",
       "      <th>17</th>\n",
       "      <td>17</td>\n",
       "      <td>64.25</td>\n",
       "      <td>64.25</td>\n",
       "    </tr>\n",
       "    <tr>\n",
       "      <th>18</th>\n",
       "      <td>18</td>\n",
       "      <td>64.25</td>\n",
       "      <td>64.25</td>\n",
       "    </tr>\n",
       "  </tbody>\n",
       "</table>\n",
       "</div>"
      ],
      "text/plain": [
       "    age  height  height_na\n",
       "0     0   19.00      19.00\n",
       "1     1   29.00      29.00\n",
       "2     2   34.00        NaN\n",
       "3     3   37.00        NaN\n",
       "4     4   39.50        NaN\n",
       "5     5   42.00        NaN\n",
       "6     6   45.50        NaN\n",
       "7     7   48.00        NaN\n",
       "8     8   50.00        NaN\n",
       "9     9   52.50        NaN\n",
       "10   10   54.00        NaN\n",
       "11   11   56.00        NaN\n",
       "12   12   59.50        NaN\n",
       "13   13   61.50      61.50\n",
       "14   14   63.50      63.50\n",
       "15   15   64.00      64.00\n",
       "16   16   64.25      64.25\n",
       "17   17   64.25      64.25\n",
       "18   18   64.25      64.25"
      ]
     },
     "execution_count": 53,
     "metadata": {},
     "output_type": "execute_result"
    }
   ],
   "source": [
    "g_height = pd.read_csv('../data/girl_height.csv')\n",
    "\n",
    "g_height"
   ]
  },
  {
   "cell_type": "code",
   "execution_count": 54,
   "metadata": {
    "collapsed": true
   },
   "outputs": [
    {
     "data": {
      "text/plain": [
       "0     19.000000\n",
       "1     29.000000\n",
       "2     31.708333\n",
       "3     34.416667\n",
       "4     37.125000\n",
       "5     39.833333\n",
       "6     42.541667\n",
       "7     45.250000\n",
       "8     47.958333\n",
       "9     50.666667\n",
       "10    53.375000\n",
       "11    56.083333\n",
       "12    58.791667\n",
       "13    61.500000\n",
       "14    63.500000\n",
       "15    64.000000\n",
       "16    64.250000\n",
       "17    64.250000\n",
       "18    64.250000\n",
       "Name: height_na, dtype: float64"
      ]
     },
     "execution_count": 54,
     "metadata": {},
     "output_type": "execute_result"
    }
   ],
   "source": [
    "height_na = g_height['height_na']\n",
    "\n",
    "lin = height_na.interpolate()\n",
    "lin"
   ]
  },
  {
   "cell_type": "code",
   "execution_count": 55,
   "metadata": {
    "collapsed": true
   },
   "outputs": [
    {
     "data": {
      "text/plain": [
       "0     19.000000\n",
       "1     29.000000\n",
       "2     37.423778\n",
       "3     44.271335\n",
       "4     49.542671\n",
       "5     53.237785\n",
       "6     55.356677\n",
       "7     55.899348\n",
       "8     55.850389\n",
       "9     56.194390\n",
       "10    56.931352\n",
       "11    58.061274\n",
       "12    59.584157\n",
       "13    61.500000\n",
       "14    63.500000\n",
       "15    64.000000\n",
       "16    64.250000\n",
       "17    64.250000\n",
       "18    64.250000\n",
       "Name: height_na, dtype: float64"
      ]
     },
     "execution_count": 55,
     "metadata": {},
     "output_type": "execute_result"
    }
   ],
   "source": [
    "quad = height_na.interpolate('quadratic')\n",
    "quad"
   ]
  },
  {
   "cell_type": "code",
   "execution_count": 56,
   "metadata": {},
   "outputs": [
    {
     "data": {
      "text/plain": [
       "0     19.000000\n",
       "1     29.000000\n",
       "2     37.008880\n",
       "3     43.263729\n",
       "4     48.001636\n",
       "5     51.459689\n",
       "6     53.874976\n",
       "7     55.484587\n",
       "8     56.525609\n",
       "9     57.235132\n",
       "10    57.850244\n",
       "11    58.608034\n",
       "12    59.745589\n",
       "13    61.500000\n",
       "14    63.500000\n",
       "15    64.000000\n",
       "16    64.250000\n",
       "17    64.250000\n",
       "18    64.250000\n",
       "Name: height_na, dtype: float64"
      ]
     },
     "execution_count": 56,
     "metadata": {},
     "output_type": "execute_result"
    }
   ],
   "source": [
    "cubic = height_na.interpolate('cubic')\n",
    "cubic"
   ]
  },
  {
   "cell_type": "markdown",
   "metadata": {},
   "source": [
    "### Exercise 11\n",
    "\n",
    "<span style=\"color:green; font-size:16px\">Uncomment and run the commands below to plot each interpolated Series. Which one provides the best estimate for height?</span>"
   ]
  },
  {
   "cell_type": "code",
   "execution_count": 58,
   "metadata": {},
   "outputs": [
    {
     "data": {
      "text/plain": [
       "<Axes: >"
      ]
     },
     "execution_count": 58,
     "metadata": {},
     "output_type": "execute_result"
    },
    {
     "data": {
      "image/png": "[encoded data removed]",
      "text/plain": [
       "<Figure size 1524x762 with 1 Axes>"
      ]
     },
     "metadata": {},
     "output_type": "display_data"
    }
   ],
   "source": [
    "g_height['height'].plot(figsize=(12, 6), label='actual', legend=True)\n"
   ]
  },
  {
   "cell_type": "code",
   "execution_count": 60,
   "metadata": {},
   "outputs": [
    {
     "data": {
      "text/plain": [
       "<Axes: >"
      ]
     },
     "execution_count": 60,
     "metadata": {},
     "output_type": "execute_result"
    },
    {
     "data": {
      "image/png": "[encoded data removed]",
      "text/plain": [
       "<Figure size 635x342.9 with 1 Axes>"
      ]
     },
     "metadata": {},
     "output_type": "display_data"
    }
   ],
   "source": [
    "lin.plot(label='linear', legend=True)"
   ]
  },
  {
   "cell_type": "code",
   "execution_count": 61,
   "metadata": {},
   "outputs": [
    {
     "data": {
      "text/plain": [
       "<Axes: >"
      ]
     },
     "execution_count": 61,
     "metadata": {},
     "output_type": "execute_result"
    },
    {
     "data": {
      "image/png": "[encoded data removed]",
      "text/plain": [
       "<Figure size 635x342.9 with 1 Axes>"
      ]
     },
     "metadata": {},
     "output_type": "display_data"
    }
   ],
   "source": [
    "quad.plot(label='quadratic', legend=True)\n",
    "# cubic.plot(label='cubic', legend=True)"
   ]
  },
  {
   "cell_type": "code",
   "execution_count": 62,
   "metadata": {},
   "outputs": [
    {
     "data": {
      "text/plain": [
       "<Axes: >"
      ]
     },
     "execution_count": 62,
     "metadata": {},
     "output_type": "execute_result"
    },
    {
     "data": {
      "image/png": "[encoded data removed]",
      "text/plain": [
       "<Figure size 635x342.9 with 1 Axes>"
      ]
     },
     "metadata": {},
     "output_type": "display_data"
    }
   ],
   "source": [
    "cubic.plot(label='cubic', legend=True)"
   ]
  },
  {
   "cell_type": "code",
   "execution_count": null,
   "metadata": {},
   "outputs": [],
   "source": []
  }
 ],
 "metadata": {
  "kernelspec": {
   "display_name": "Python 3 (ipykernel)",
   "language": "python",
   "name": "python3"
  },
  "language_info": {
   "codemirror_mode": {
    "name": "ipython",
    "version": 3
   },
   "file_extension": ".py",
   "mimetype": "text/x-python",
   "name": "python",
   "nbconvert_exporter": "python",
   "pygments_lexer": "ipython3",
   "version": "3.11.0"
  },
  "varInspector": {
   "cols": {
    "lenName": 16,
    "lenType": 16,
    "lenVar": 40
   },
   "kernels_config": {
    "python": {
     "delete_cmd_postfix": "",
     "delete_cmd_prefix": "del ",
     "library": "var_list.py",
     "varRefreshCmd": "print(var_dic_list())"
    },
    "r": {
     "delete_cmd_postfix": ") ",
     "delete_cmd_prefix": "rm(",
     "library": "var_list.r",
     "varRefreshCmd": "cat(var_dic_list()) "
    }
   },
   "types_to_exclude": [
    "module",
    "function",
    "builtin_function_or_method",
    "instance",
    "_Feature"
   ],
   "window_display": false
  }
 },
 "nbformat": 4,
 "nbformat_minor": 2
}
