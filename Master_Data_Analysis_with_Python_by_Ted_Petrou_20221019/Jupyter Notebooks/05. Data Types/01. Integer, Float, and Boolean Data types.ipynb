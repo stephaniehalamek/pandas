{
 "cells": [
  {
   "cell_type": "markdown",
   "metadata": {},
   "source": [
    "# Integer, Float, and Boolean Data types\n",
    "\n",
    "This chapter will go deeper into the different integer, float, and boolean data types that are available to the pandas Series and DataFrame. As a reminder, all values in a Series are exactly one data type. Similarly, all values in each column of a DataFrame are exactly one data type.\n",
    "\n",
    "While the words 'boolean', 'integer', and 'float' are useful descriptions, they are not the technical names of the actual data types. This chapter provides a complete picture of all the exact integer, float, and boolean data types that are available and what they mean. We will be making heavy use of the `astype` method to change data types.\n",
    "\n",
    "## Constructing a Series\n",
    "\n",
    "Before getting started with our data type discussion, we will learn how to create a Series using its constructor. All of our previous Series have been created by selecting a single column from a DataFrame. It is also possible to create a Series manually using `pd.Series` and passing it a list of values. Let's create a simple integer Series with a few values."
   ]
  },
  {
   "cell_type": "code",
   "execution_count": null,
   "metadata": {},
   "outputs": [],
   "source": [
    "import pandas as pd\n",
    "s_int = pd.Series([50, 99, 130])\n",
    "s_int"
   ]
  },
  {
   "cell_type": "markdown",
   "metadata": {},
   "source": [
    "Creating a Series in this manner is often referred to as using the **constructor**, which is a generic programming term describing the creation and instantiation of a new object of a particular type. We used the Series constructor to create a new Series of integers.\n",
    "\n",
    "## Integer data type\n",
    "\n",
    "The visual output of a Series shows the data type of the values below it. In this case, it is `'int64'`, which formally represents a 64-bit integer. This data type comes directly from numpy, which allows integers to be either 8, 16, 32, or 64 bits in size. A 64-bit integer can contain up to 2 raised to the 64th power number of integers. Let's see how many numbers this is."
   ]
  },
  {
   "cell_type": "code",
   "execution_count": null,
   "metadata": {},
   "outputs": [],
   "source": [
    "2 ** 64"
   ]
  },
  {
   "cell_type": "markdown",
   "metadata": {},
   "source": [
    "The `int64`  data type has both positive and negative integers. Let's divide the above number by 2 to get the maximum integer allowed."
   ]
  },
  {
   "cell_type": "code",
   "execution_count": null,
   "metadata": {},
   "outputs": [],
   "source": [
    "2 ** 64 // 2"
   ]
  },
  {
   "cell_type": "markdown",
   "metadata": {},
   "source": [
    "numpy has a function called `iinfo` that returns the exact integer information for each integer data type. Pass it the data type as a string to get the information. Note that the range of integers is exactly 2 raised to the 64th power when accounting for 0."
   ]
  },
  {
   "cell_type": "code",
   "execution_count": null,
   "metadata": {},
   "outputs": [],
   "source": [
    "import numpy as np\n",
    "np.iinfo('int64')"
   ]
  },
  {
   "cell_type": "markdown",
   "metadata": {},
   "source": [
    "The span of numbers for 'int8' goes from -128 to 127 or 256 total numbers. This is equivalent to 2 raised to the 8th power."
   ]
  },
  {
   "cell_type": "markdown",
   "metadata": {},
   "source": [
    "## Changing data types with `astype`\n",
    "\n",
    "You can change the data type of a Series with the `astype` method by passing it the string name of the data type. The string name is going to be the base data type, which is 'int' in this case, appended directly to the number of bits (8, 16, 32, or 64).\n",
    "\n",
    "Below, we change the data type to 'int8'. Notice that the third value now displays as -126 and not its original value of 130. The maximum 8-bit integer is 127, making 130 greater than it by 3. numpy assumes you know what you are doing and does not check that this number goes beyond its maximum. Instead, the number is represented by the third integer greater than the minimum -128 which is -126."
   ]
  },
  {
   "cell_type": "code",
   "execution_count": null,
   "metadata": {},
   "outputs": [],
   "source": [
    "s_int.astype('int8')"
   ]
  },
  {
   "cell_type": "markdown",
   "metadata": {},
   "source": [
    "### Default integer types\n",
    "\n",
    "Unfortunately, the default data type is dependent on the platform that you are using. numpy is built with the C programming language, and uses the size of the C **long** type as its default. For 32-bit Linux, macOS, and Windows machines, this will be 32 bits. For 64-bit Linux and macOS machines, it will be 64 bits. For 64-bit Windows machines this will be 32-bits. The [first two rows of this table][1] show the size of C long types for each platform.\n",
    "\n",
    "### Windows machines\n",
    "\n",
    "If you have a Windows machine, you may have noticed that your data type still says 'int64' even though the previous section just said otherwise. This is because we constructed our Series with a list and not a numpy array. Let's construct a numpy array of integers using its constructor, `array`.\n",
    "\n",
    "[1]: https://en.wikipedia.org/wiki/Integer_(computer_science)#Long_integer"
   ]
  },
  {
   "cell_type": "code",
   "execution_count": null,
   "metadata": {},
   "outputs": [],
   "source": [
    "a = np.array([1, 5])\n",
    "a"
   ]
  },
  {
   "cell_type": "markdown",
   "metadata": {},
   "source": [
    "numpy arrays use the exact same `dtype` attribute as pandas Series objects to access the data type. Windows users should see 'int32' as the data type, while 64-bit Linux and macOS users should see 'int64'."
   ]
  },
  {
   "cell_type": "code",
   "execution_count": null,
   "metadata": {},
   "outputs": [],
   "source": [
    "a.dtype"
   ]
  },
  {
   "cell_type": "markdown",
   "metadata": {},
   "source": [
    "Constructing the Series with a numpy array will show the same data type as above."
   ]
  },
  {
   "cell_type": "code",
   "execution_count": null,
   "metadata": {},
   "outputs": [],
   "source": [
    "pd.Series(a)"
   ]
  },
  {
   "cell_type": "markdown",
   "metadata": {},
   "source": [
    "## Unsigned Integers\n",
    "\n",
    "The default integer data types split half of their range between negative and positive integers. It is possible to limit your integers to just the non-negative integers by using the unsigned integer data type abbreviated with the string 'uint'. The same sizes 8, 16, 32, and 64 bits are available. Let's convert the original `s_int` Series to 'uint8'. \n",
    "\n",
    "Calling the `astype` method returns a copy of the data, and does not work in-place. We first verify that the `s_int` Series still has data type of 'int64'."
   ]
  },
  {
   "cell_type": "code",
   "execution_count": null,
   "metadata": {},
   "outputs": [],
   "source": [
    "s_int.dtype"
   ]
  },
  {
   "cell_type": "markdown",
   "metadata": {},
   "source": [
    "We now convert the data type to an 8-bit unsigned integer."
   ]
  },
  {
   "cell_type": "code",
   "execution_count": null,
   "metadata": {},
   "outputs": [],
   "source": [
    "s_int.astype('uint8')"
   ]
  },
  {
   "cell_type": "markdown",
   "metadata": {},
   "source": [
    "The last value remains correctly as 130 as the range of this new data type is from 0 to 255. Let's verify this with the `iinfo` method."
   ]
  },
  {
   "cell_type": "code",
   "execution_count": null,
   "metadata": {},
   "outputs": [],
   "source": [
    "np.iinfo('uint8')"
   ]
  },
  {
   "cell_type": "markdown",
   "metadata": {},
   "source": [
    "It is rare to use unsigned integers, but they are available, and can be useful in specific situations where you would like to save memory. Typically, it won't be necessary to use them, so sticking with the default integer data type should work."
   ]
  },
  {
   "cell_type": "markdown",
   "metadata": {},
   "source": [
    "## Nullable integer data type\n",
    "\n",
    "With the release of pandas version 0.24 in late 2019, a new nullable integer data type became available to pandas users. This new data type allows for missing values to be present in a column of integers. This is a completely separate data type than the normal integer data types. The original integer data types still exist and are unable to contain missing values. Let's verify this by attempting to construct an integer Series with missing values. Notice, that we use the `dtype` parameter to attempt to force the data type to be 'int64'."
   ]
  },
  {
   "cell_type": "code",
   "execution_count": null,
   "metadata": {},
   "outputs": [],
   "source": [
    "pd.Series([50, 99, 130, np.nan], dtype='int64')"
   ]
  },
  {
   "cell_type": "markdown",
   "metadata": {},
   "source": [
    "If you do not use the `dtype` parameter, then the Series will be constructed, but use the more flexible float64 data type which does allow missing values."
   ]
  },
  {
   "cell_type": "code",
   "execution_count": null,
   "metadata": {},
   "outputs": [],
   "source": [
    "pd.Series([50, 99, 130, np.nan])"
   ]
  },
  {
   "cell_type": "markdown",
   "metadata": {},
   "source": [
    "### Constructing a Series of nullable integers\n",
    "\n",
    "The nullable integer data type is represented by the string 'Int' (as opposed to 'int'). The important distinction is the capitalized first letter I. The same four bit sizes, 8, 16, 32, and 64 are available. Let's construct a Series of nullable integers using the string 'Int64'. "
   ]
  },
  {
   "cell_type": "code",
   "execution_count": null,
   "metadata": {},
   "outputs": [],
   "source": [
    "s_nullable_int = pd.Series([50, 99, 130, np.nan], dtype='Int64')\n",
    "s_nullable_int"
   ]
  },
  {
   "cell_type": "markdown",
   "metadata": {},
   "source": [
    "The missing value is visually represented by `<NA>` which is different than `NaN` when the Series was constructed with `float64`. pandas introduced its own missing value object `NA` that is distinct from numpy's `NaN`. pandas will convert any missing value in nullable integer Series to its own `NA` object. Let's use pandas `NA` object directly in the Series construction to show that the same Series is created."
   ]
  },
  {
   "cell_type": "code",
   "execution_count": null,
   "metadata": {},
   "outputs": [],
   "source": [
    "pd.Series([50, 99, 130, pd.NA], dtype='Int64')"
   ]
  },
  {
   "cell_type": "markdown",
   "metadata": {},
   "source": [
    "### Nullable integers don't exist in numpy\n",
    "\n",
    "The nullable integer data type is only available for pandas objects. They do not exist in numpy.\n",
    "\n",
    "### Different behavior of nullable integer\n",
    "\n",
    "The nullable integer data type exhibits different behavior than the normal integer data type. If attempting to construct a Series with values that are not within its range, an exception will be raised and not wrap around like it did above with numpy data types. This is probably better behavior to prevent mistakes."
   ]
  },
  {
   "cell_type": "code",
   "execution_count": null,
   "metadata": {},
   "outputs": [],
   "source": [
    "pd.Series([50, 99, 130], dtype='Int8')"
   ]
  },
  {
   "cell_type": "markdown",
   "metadata": {},
   "source": [
    "Another difference is when using the comparison operators. They evaluate as missing when comparing against a missing value. Here, we compare each value in the nullable integer Series with 100. The last value was originally missing and remains missing after the operation."
   ]
  },
  {
   "cell_type": "code",
   "execution_count": null,
   "metadata": {},
   "outputs": [],
   "source": [
    "nullable_filt = s_nullable_int > 100\n",
    "nullable_filt"
   ]
  },
  {
   "cell_type": "markdown",
   "metadata": {},
   "source": [
    "Let's convert this Series so its data type is a 64-bit float."
   ]
  },
  {
   "cell_type": "code",
   "execution_count": null,
   "metadata": {},
   "outputs": [],
   "source": [
    "s_float = s_nullable_int.astype('float64')\n",
    "s_float"
   ]
  },
  {
   "cell_type": "markdown",
   "metadata": {},
   "source": [
    "Notice that the missing value is now a numpy `NaN` and not a pandas `NA`. Executing the same comparison operation yields a Series where the last value is no longer missing. Comparisons with the numpy float data types against a missing value always evaluate as `False`."
   ]
  },
  {
   "cell_type": "code",
   "execution_count": null,
   "metadata": {},
   "outputs": [],
   "source": [
    "filt = s_float > 100\n",
    "filt"
   ]
  },
  {
   "cell_type": "markdown",
   "metadata": {},
   "source": [
    "Take a look above at the `nullable_filt` Series we created. Notice that the data type is `'boolean'` as opposed to `'bool'` in the `filt` Series. This is a separate new data type, nullable boolean, introduced in pandas 1.0. It will be discussed in detail further below."
   ]
  },
  {
   "cell_type": "markdown",
   "metadata": {},
   "source": [
    "### Boolean selection with nullable booleans\n",
    "\n",
    "Boolean selection works similarly with the nullable boolean data type as it does with with the old `'bool'` data type. Let's use `nullable_filt` to filter the `s_nullable_int` Series. Even though the last value of `nullable_filt` is missing, the selection still works and the missing value is treated as `False`. The same behavior is exhibited with the `query` method."
   ]
  },
  {
   "cell_type": "code",
   "execution_count": null,
   "metadata": {},
   "outputs": [],
   "source": [
    "s_nullable_int[nullable_filt]"
   ]
  },
  {
   "cell_type": "markdown",
   "metadata": {},
   "source": [
    "### Missing value evaluation with comparison operators\n",
    "\n",
    "All comparisons with numpy `nan` result in False, while all comparisons with the new pandas `NA` evaluate as `NA`. A few examples involving different comparison operators are presented below for each of the missing value objects."
   ]
  },
  {
   "cell_type": "code",
   "execution_count": null,
   "metadata": {},
   "outputs": [],
   "source": [
    "np.nan > 5, np.nan < 5, np.nan == 5"
   ]
  },
  {
   "cell_type": "code",
   "execution_count": null,
   "metadata": {},
   "outputs": [],
   "source": [
    "pd.NA > 5, pd.NA < 5, pd.NA == 5"
   ]
  },
  {
   "cell_type": "markdown",
   "metadata": {},
   "source": [
    "### Unsigned nullable integers\n",
    "\n",
    "Unsigned nullable integers are also available with the string `'UInt'` (capital U and I). Our Series construction that failed with the signed 8-bit nullables from above now works with the unsigned 8-bit nullable integer as 130 is part of the range."
   ]
  },
  {
   "cell_type": "code",
   "execution_count": null,
   "metadata": {},
   "outputs": [],
   "source": [
    "pd.Series([50, 99, 130, pd.NA], dtype='UInt8')"
   ]
  },
  {
   "cell_type": "markdown",
   "metadata": {},
   "source": [
    "## Float data types\n",
    "\n",
    "Float columns contain numbers with decimal places. The default 'float' size for all platforms is 64 bits (the same size as a C double) and also referred to as 'double-precision'. numpy has additional float sizes of 16 and 32 bits. All float data types can contain missing values. Let's create a Series with floats containing a single missing value and verify the data type."
   ]
  },
  {
   "cell_type": "code",
   "execution_count": null,
   "metadata": {},
   "outputs": [],
   "source": [
    "s_float = pd.Series([4.247, 1234.56789, np.nan])\n",
    "s_float"
   ]
  },
  {
   "cell_type": "code",
   "execution_count": null,
   "metadata": {},
   "outputs": [],
   "source": [
    "s_float.dtype"
   ]
  },
  {
   "cell_type": "markdown",
   "metadata": {},
   "source": [
    "Below, we change the data type to a 32-bit float, also known as 'single-precision' float. Notice how the second value has changed, as a 32-bit float does not have enough precision to map its value exactly. "
   ]
  },
  {
   "cell_type": "code",
   "execution_count": null,
   "metadata": {},
   "outputs": [],
   "source": [
    "s_float.astype('float32')"
   ]
  },
  {
   "cell_type": "markdown",
   "metadata": {},
   "source": [
    "We can use the numpy `finfo` function to get information on each float type. For instance, the 'float32' data type guarantees us 6 significant digits of precision as seen with the `resolution` attribute below."
   ]
  },
  {
   "cell_type": "code",
   "execution_count": null,
   "metadata": {},
   "outputs": [],
   "source": [
    "np.finfo('float32')"
   ]
  },
  {
   "cell_type": "markdown",
   "metadata": {},
   "source": [
    "A 16-bit 'half-precision' float only guarantees 3 digits of precision."
   ]
  },
  {
   "cell_type": "code",
   "execution_count": null,
   "metadata": {},
   "outputs": [],
   "source": [
    "np.finfo('float16')"
   ]
  },
  {
   "cell_type": "markdown",
   "metadata": {},
   "source": [
    "Changing to this data type significantly changes the actual value because of its limited precision."
   ]
  },
  {
   "cell_type": "code",
   "execution_count": null,
   "metadata": {
    "scrolled": true
   },
   "outputs": [],
   "source": [
    "s_float.astype('float16')"
   ]
  },
  {
   "cell_type": "markdown",
   "metadata": {},
   "source": [
    "## Changing from float to int\n",
    "\n",
    "So far, we have only changed the size of integer or float data types. We can change types from float to integer and vice-versa. Below, we attempt to go from a 'float64' to an 'int64'. This will fail as the normal integer data type does not allow for missing values."
   ]
  },
  {
   "cell_type": "code",
   "execution_count": null,
   "metadata": {},
   "outputs": [],
   "source": [
    "s_float.astype('int64')"
   ]
  },
  {
   "cell_type": "markdown",
   "metadata": {},
   "source": [
    "If you drop the missing values, then conversion is possible. The decimals are truncated and NOT rounded."
   ]
  },
  {
   "cell_type": "code",
   "execution_count": null,
   "metadata": {},
   "outputs": [],
   "source": [
    "s_float.dropna().astype('int64')"
   ]
  },
  {
   "cell_type": "markdown",
   "metadata": {},
   "source": [
    "The behavior for the nullable integer data type differs. It does not allow conversion if there any decimal places have values."
   ]
  },
  {
   "cell_type": "code",
   "execution_count": null,
   "metadata": {},
   "outputs": [],
   "source": [
    "s_float.astype('Int64')"
   ]
  },
  {
   "cell_type": "markdown",
   "metadata": {},
   "source": [
    "If you remove the decimals (through rounding for example), then conversion to the nullable integer is possible."
   ]
  },
  {
   "cell_type": "code",
   "execution_count": null,
   "metadata": {},
   "outputs": [],
   "source": [
    "s_float.round(0).astype('Int64')"
   ]
  },
  {
   "cell_type": "markdown",
   "metadata": {},
   "source": [
    "Going from integer to float will not have as dramatic of an effect and there should be no loss of data as long as the float has enough bits to represent all of the digits."
   ]
  },
  {
   "cell_type": "code",
   "execution_count": null,
   "metadata": {},
   "outputs": [],
   "source": [
    "s_int.astype('float64')"
   ]
  },
  {
   "cell_type": "markdown",
   "metadata": {},
   "source": [
    "Conversion from nullable integer to float is also possible. Since floats are numpy data types, they use `NaN` as their missing value representation and not `pd.NA`."
   ]
  },
  {
   "cell_type": "code",
   "execution_count": null,
   "metadata": {},
   "outputs": [],
   "source": [
    "s_nullable_int.astype('float64')"
   ]
  },
  {
   "cell_type": "markdown",
   "metadata": {},
   "source": [
    "### Visual display of integers and floats\n",
    "\n",
    "pandas always display floats with visible decimal points even if there are no significant digits after the decimal. At a minimum, the `.0` will be present. On the other hand, integers are always displayed without a decimal. You can use this rule of thumb to determine the data type without actually accessing the `dtypes` attribute.\n",
    "\n",
    "## pandas nullable float data type\n",
    "\n",
    "With the release of pandas 1.2 (December 2020) a nullable float data type was placed in the library. They are referenced by the string `'Float'` (capital F) followed by a bit size of either 16 or 32. Here, we convert the numpy `'float64'` Series to a pandas nullable `'Float64'`."
   ]
  },
  {
   "cell_type": "code",
   "execution_count": null,
   "metadata": {},
   "outputs": [],
   "source": [
    "nullable_float = s_float.astype('Float64')\n",
    "nullable_float"
   ]
  },
  {
   "cell_type": "markdown",
   "metadata": {},
   "source": [
    "The pandas NA is used for all missing values. Comparison operations again evaluate as a pandas NA."
   ]
  },
  {
   "cell_type": "code",
   "execution_count": null,
   "metadata": {},
   "outputs": [],
   "source": [
    "nullable_float > 100"
   ]
  },
  {
   "cell_type": "markdown",
   "metadata": {},
   "source": [
    "## Boolean data type\n",
    "\n",
    "Let's now cover the simpler boolean data types. Booleans have a single 8-bit data type in numpy. It makes sense that bit sizes of 16, 32, or 64 don't exist for boolean data types as there are only two possible values, `True` and `False`. You may be curious as to why booleans are not represented with a single bit. This is because a byte (8 bits) is the smallest addressable unit of memory available to modern computers. Let's create a boolean Series using the constructor."
   ]
  },
  {
   "cell_type": "code",
   "execution_count": null,
   "metadata": {},
   "outputs": [],
   "source": [
    "s_bool = pd.Series([True, False])\n",
    "s_bool"
   ]
  },
  {
   "cell_type": "markdown",
   "metadata": {},
   "source": [
    "We verify the data type below."
   ]
  },
  {
   "cell_type": "code",
   "execution_count": null,
   "metadata": {},
   "outputs": [],
   "source": [
    "s_bool.dtype"
   ]
  },
  {
   "cell_type": "markdown",
   "metadata": {},
   "source": [
    "### Converting to and from boolean\n",
    "\n",
    "It is possible to convert integer and float columns to boolean and vice-versa. The only value that will be converted to `False` is 0. All other values are converted to `True`. Use the string 'bool' to convert to boolean. We begin by creating a Series with the integer data type."
   ]
  },
  {
   "cell_type": "code",
   "execution_count": null,
   "metadata": {},
   "outputs": [],
   "source": [
    "s = pd.Series([0, 1, 99, -14])"
   ]
  },
  {
   "cell_type": "markdown",
   "metadata": {},
   "source": [
    "Call the `astype` method to make the conversion."
   ]
  },
  {
   "cell_type": "code",
   "execution_count": null,
   "metadata": {},
   "outputs": [],
   "source": [
    "s.astype('bool')"
   ]
  },
  {
   "cell_type": "markdown",
   "metadata": {},
   "source": [
    "Series with float data types work the same when converting to boolean. Only the value 0 is converted to `False`. Any other value evaluates as `True`."
   ]
  },
  {
   "cell_type": "code",
   "execution_count": null,
   "metadata": {},
   "outputs": [],
   "source": [
    "s = pd.Series([0, 0.0001, -3.99])\n",
    "s"
   ]
  },
  {
   "cell_type": "code",
   "execution_count": null,
   "metadata": {},
   "outputs": [],
   "source": [
    "s.astype('bool')"
   ]
  },
  {
   "cell_type": "markdown",
   "metadata": {},
   "source": [
    "Python itself uses the same rules to convert integers and floats to booleans. Let's see a few examples with the built-in `bool` constructor."
   ]
  },
  {
   "cell_type": "code",
   "execution_count": null,
   "metadata": {},
   "outputs": [],
   "source": [
    "bool(5)"
   ]
  },
  {
   "cell_type": "code",
   "execution_count": null,
   "metadata": {},
   "outputs": [],
   "source": [
    "bool(0)"
   ]
  },
  {
   "cell_type": "code",
   "execution_count": null,
   "metadata": {},
   "outputs": [],
   "source": [
    "bool(-3.4)"
   ]
  },
  {
   "cell_type": "code",
   "execution_count": null,
   "metadata": {},
   "outputs": [],
   "source": [
    "bool(0.00000)"
   ]
  },
  {
   "cell_type": "markdown",
   "metadata": {},
   "source": [
    "Converting a boolean Series to integer or float will convert all `True` values to 1 and `False` to 0."
   ]
  },
  {
   "cell_type": "code",
   "execution_count": null,
   "metadata": {},
   "outputs": [],
   "source": [
    "s_bool.astype('int64')"
   ]
  },
  {
   "cell_type": "markdown",
   "metadata": {},
   "source": [
    "Using a 64-bit integer to store a boolean is overkill. The smallest integer type, `int8` (or `uint8`), can be used to save memory."
   ]
  },
  {
   "cell_type": "code",
   "execution_count": null,
   "metadata": {},
   "outputs": [],
   "source": [
    "s_bool.astype('int8')"
   ]
  },
  {
   "cell_type": "markdown",
   "metadata": {},
   "source": [
    "## Nullable boolean data type\n",
    "\n",
    "With the release of pandas 1.0, a new nullable boolean type was made available to support missing values. Until this release, pandas relied on numpy's boolean data type. The nullable boolean is a pandas-only data type, just like the nullable integer. The original boolean data type still exists, but does not support missing values. Let's verify that the original boolean data type cannot contain missing values."
   ]
  },
  {
   "cell_type": "code",
   "execution_count": null,
   "metadata": {},
   "outputs": [],
   "source": [
    "s = pd.Series([True, False, np.nan], dtype='bool')\n",
    "s"
   ]
  },
  {
   "cell_type": "markdown",
   "metadata": {},
   "source": [
    "Surprisingly, this does not fail, but instead converts the numpy `nan` object to `True`. This follows the rule that every non-zero value evaluates as `True` for booleans, even missing values.\n",
    "\n",
    "Confusingly, constructing a Series of booleans mixed with missing values without explicitly setting the data type preserves the individual type of each value by using the flexible object data type. While this is possible, I advise against mixing data of different types in a single column."
   ]
  },
  {
   "cell_type": "code",
   "execution_count": null,
   "metadata": {},
   "outputs": [],
   "source": [
    "s = pd.Series([True, False, np.nan])\n",
    "s"
   ]
  },
  {
   "cell_type": "markdown",
   "metadata": {},
   "source": [
    "### Using the new nullable boolean data type\n",
    "\n",
    "The new nullable boolean data type uses the string 'boolean' to reference it as opposed to 'bool'. Like the nullable integer, it is a pandas-only data type. Here, we construct a Series with the nullable boolean data type."
   ]
  },
  {
   "cell_type": "code",
   "execution_count": null,
   "metadata": {},
   "outputs": [],
   "source": [
    "s = pd.Series([True, False, np.nan], dtype='boolean')\n",
    "s"
   ]
  },
  {
   "cell_type": "markdown",
   "metadata": {},
   "source": [
    "## Changing data types with an arithmetic operation\n",
    "\n",
    "Computing an arithmetic operation on a Series can change the resulting Series data type. Division always converts an integer Series to float, even if the result is whole numbers."
   ]
  },
  {
   "cell_type": "code",
   "execution_count": null,
   "metadata": {},
   "outputs": [],
   "source": [
    "s = pd.Series([-15, 45])\n",
    "s"
   ]
  },
  {
   "cell_type": "markdown",
   "metadata": {},
   "source": [
    "The result of using the division operator on an integer Series is always a float."
   ]
  },
  {
   "cell_type": "code",
   "execution_count": null,
   "metadata": {},
   "outputs": [],
   "source": [
    "s / 15"
   ]
  },
  {
   "cell_type": "markdown",
   "metadata": {},
   "source": [
    "This is consistent with core Python which makes the same type conversion."
   ]
  },
  {
   "cell_type": "code",
   "execution_count": null,
   "metadata": {},
   "outputs": [],
   "source": [
    "type(15 / 3)"
   ]
  },
  {
   "cell_type": "markdown",
   "metadata": {},
   "source": [
    "Using floor division, on the other hand, keeps the result as an integer as long as the divisor is an integer."
   ]
  },
  {
   "cell_type": "code",
   "execution_count": null,
   "metadata": {},
   "outputs": [],
   "source": [
    "s // 77"
   ]
  },
  {
   "cell_type": "markdown",
   "metadata": {},
   "source": [
    "Multiplying an integer Series by a float always converts it to another float, even if all the resulting values are integers."
   ]
  },
  {
   "cell_type": "code",
   "execution_count": null,
   "metadata": {
    "scrolled": true
   },
   "outputs": [],
   "source": [
    "s * 4.4"
   ]
  },
  {
   "cell_type": "markdown",
   "metadata": {},
   "source": [
    "Many other combinations of data types paired with operations are possible, but will not be presented here. Instead, it is encouraged for you to test them on your own to view the result.\n",
    "\n",
    "### Changing data types by assigning new values\n",
    "\n",
    "As we saw with boolean Series, it is possible to change the data type by assigning one of the values to a different type. Setting one value in an integer Series to a float changes the entire data type of the Series to a float as well."
   ]
  },
  {
   "cell_type": "code",
   "execution_count": null,
   "metadata": {},
   "outputs": [],
   "source": [
    "s.loc[0] = 1.99\n",
    "s"
   ]
  },
  {
   "cell_type": "markdown",
   "metadata": {},
   "source": [
    "Setting a non-nullable boolean Series value to the new pandas NA object converts the Series to object and not to the nullable boolean."
   ]
  },
  {
   "cell_type": "code",
   "execution_count": null,
   "metadata": {},
   "outputs": [],
   "source": [
    "s = pd.Series([True, False])\n",
    "s.loc[0] = pd.NA\n",
    "s"
   ]
  },
  {
   "cell_type": "markdown",
   "metadata": {},
   "source": [
    "From here, you can convert to the nullable boolean with the `astype` method."
   ]
  },
  {
   "cell_type": "code",
   "execution_count": null,
   "metadata": {},
   "outputs": [],
   "source": [
    "s.astype('boolean')"
   ]
  },
  {
   "cell_type": "markdown",
   "metadata": {},
   "source": [
    "Converting the data type of an entire Series can be an expensive operation, so it's important to be aware of the possibilities when it happens. There's no need to remember these conversion rules, but to proceed when caution when the possibility arises.\n",
    "\n",
    "## Setting data types in numpy arrays\n",
    "\n",
    "We've discussed setting the data type for a pandas Series with the `dtype` parameter. In this section, we will learn how to set the data type for a numpy array, which uses the same parameter `dtype`. You can set it to the string name of the data type you desire. Let's construct an 8-bit integer array. Notice that 150 exceeds the max value of 127."
   ]
  },
  {
   "cell_type": "code",
   "execution_count": null,
   "metadata": {},
   "outputs": [],
   "source": [
    "np.array([1, 5, 150], dtype='int8')"
   ]
  },
  {
   "cell_type": "markdown",
   "metadata": {},
   "source": [
    "Here we force numpy to use a 32-bit float. Normally, it would default this array as a 32 or 64 bit integer (depending on your machine)."
   ]
  },
  {
   "cell_type": "code",
   "execution_count": null,
   "metadata": {},
   "outputs": [],
   "source": [
    "np.array([1, 5, 150], dtype='float32')"
   ]
  },
  {
   "cell_type": "markdown",
   "metadata": {},
   "source": [
    "### Creating Series from numpy arrays\n",
    "\n",
    "The Series constructor accepts one-dimensional numpy arrays as input. The resulting Series will have the same data type as the numpy array."
   ]
  },
  {
   "cell_type": "code",
   "execution_count": null,
   "metadata": {},
   "outputs": [],
   "source": [
    "a = np.array([1, 5, 150], dtype='float32')\n",
    "pd.Series(a)"
   ]
  },
  {
   "cell_type": "markdown",
   "metadata": {},
   "source": [
    "## Different syntax for data types\n",
    "\n",
    "All of the data type conversions in this chapter were accomplished by using a string such as `'int8'`. There is an alternative approach that can be used. Instead of a string, you can use the actual object itself available directly from numpy or pandas. This section showcases a different method to setting the data type of a Series. For instance, we can use `np.int8` instead of the string `'int8'` to specify a data type."
   ]
  },
  {
   "cell_type": "code",
   "execution_count": null,
   "metadata": {},
   "outputs": [],
   "source": [
    "pd.Series([10, 50]).astype(np.int8)"
   ]
  },
  {
   "cell_type": "markdown",
   "metadata": {},
   "source": [
    "The following is equivalent to the above."
   ]
  },
  {
   "cell_type": "code",
   "execution_count": null,
   "metadata": {},
   "outputs": [],
   "source": [
    "pd.Series([10, 50]).astype('int8')"
   ]
  },
  {
   "cell_type": "markdown",
   "metadata": {},
   "source": [
    "All of the numpy data type objects have the same name as their string counterparts. This isn't true for the pandas-only data types. These objects end with the word 'Dtype'. For instance, to convert to a 32-bit nullable integer, you can use `pd.Int32Dtype()`. The parentheses are necessary instantiate this data type."
   ]
  },
  {
   "cell_type": "code",
   "execution_count": null,
   "metadata": {},
   "outputs": [],
   "source": [
    "pd.Series([10, 50]).astype(pd.Int32Dtype()) "
   ]
  },
  {
   "cell_type": "markdown",
   "metadata": {},
   "source": [
    "For the nullable boolean data type, use `pd.BooleanDtype()`."
   ]
  },
  {
   "cell_type": "code",
   "execution_count": null,
   "metadata": {},
   "outputs": [],
   "source": [
    "pd.Series([True, False, np.nan], dtype=pd.BooleanDtype())"
   ]
  },
  {
   "cell_type": "markdown",
   "metadata": {},
   "source": [
    "For nullable 64-bit floats, use `pd.Float64Dtype()`."
   ]
  },
  {
   "cell_type": "code",
   "execution_count": null,
   "metadata": {},
   "outputs": [],
   "source": [
    "pd.Series([7.3, 5.8, np.nan], dtype=pd.Float64Dtype())"
   ]
  },
  {
   "cell_type": "markdown",
   "metadata": {},
   "source": [
    "### Does it matter which one you use?\n",
    "\n",
    "You are free to use either one, but I typically use strings when specifying a data type, as numpy must be imported to use the object directly."
   ]
  },
  {
   "cell_type": "markdown",
   "metadata": {},
   "source": [
    "## Boolean, integer, and float data type summary\n",
    "\n",
    "![1]\n",
    "\n",
    "[1]: images/pandas_numeric_dtypes.png"
   ]
  },
  {
   "cell_type": "markdown",
   "metadata": {},
   "source": [
    "## Exercises"
   ]
  },
  {
   "cell_type": "markdown",
   "metadata": {},
   "source": [
    "### Exercise 1\n",
    "\n",
    "<span style=\"color:green; font-size:16px\">Find the maximum number of a 16-bit integer using arithmetic operations. Then verify it with numpy's `iinfo` function.</span>"
   ]
  },
  {
   "cell_type": "code",
   "execution_count": null,
   "metadata": {},
   "outputs": [],
   "source": []
  },
  {
   "cell_type": "markdown",
   "metadata": {},
   "source": [
    "### Exercise 2\n",
    "\n",
    "<span style=\"color:darkgreen; font-size:16px\">Construct a Series that has the nullable integer data type. Make sure it has a mix of integers and missing values.</span>"
   ]
  },
  {
   "cell_type": "code",
   "execution_count": null,
   "metadata": {},
   "outputs": [],
   "source": []
  },
  {
   "cell_type": "markdown",
   "metadata": {},
   "source": [
    "### Exercise 3\n",
    "\n",
    "<span style=\"color:darkgreen; font-size:16px\">Take a look at the Series below. Change it's data type such that it uses the least amount of memory and preserves the numbers as they are.</span>"
   ]
  },
  {
   "cell_type": "code",
   "execution_count": null,
   "metadata": {},
   "outputs": [],
   "source": [
    "s = pd.Series([1_000, 60_000])"
   ]
  },
  {
   "cell_type": "markdown",
   "metadata": {},
   "source": [
    "### Exercise 4\n",
    "\n",
    "<span style=\"color:green; font-size:16px\">Find the precision of a 32-bit float and then create a numpy array with values that have decimal places past that precision.</span>"
   ]
  },
  {
   "cell_type": "code",
   "execution_count": null,
   "metadata": {},
   "outputs": [],
   "source": []
  },
  {
   "cell_type": "markdown",
   "metadata": {},
   "source": [
    "### Exercise 5\n",
    "\n",
    "<span style=\"color:green; font-size:16px\">Create a Series of numbers that have decimal places. Use the `astype` method to convert it to an integer and then back to a float. Are the decimals from the original Series preserved?</span>"
   ]
  },
  {
   "cell_type": "code",
   "execution_count": null,
   "metadata": {},
   "outputs": [],
   "source": []
  },
  {
   "cell_type": "markdown",
   "metadata": {},
   "source": [
    "### Exercise 6\n",
    "\n",
    "<span style=\"color:green; font-size:16px\">Create a numpy array with 8-bit unsigned integers. Use negative numbers in the construction along with numbers greater than 255. Does the output make sense?</span>"
   ]
  },
  {
   "cell_type": "code",
   "execution_count": null,
   "metadata": {},
   "outputs": [],
   "source": []
  },
  {
   "cell_type": "markdown",
   "metadata": {},
   "source": [
    "### Exercise 7\n",
    "\n",
    "<span style=\"color:green; font-size:16px\">Create a numpy array that has the values 50 and 100 in it, but do so without actually using those two values (or any operations that create them).</span>"
   ]
  },
  {
   "cell_type": "code",
   "execution_count": null,
   "metadata": {},
   "outputs": [],
   "source": []
  },
  {
   "cell_type": "markdown",
   "metadata": {},
   "source": [
    "### Exercise 8\n",
    "\n",
    "<span style=\"color:green; font-size:16px\">Create a numpy array that contains two integers and the numpy nan missing value. Assign it to a variable name and output it to the screen. What data type is it?</span>"
   ]
  },
  {
   "cell_type": "code",
   "execution_count": null,
   "metadata": {},
   "outputs": [],
   "source": []
  },
  {
   "cell_type": "markdown",
   "metadata": {},
   "source": [
    "### Exercise 9\n",
    "\n",
    "<span style=\"color:green; font-size:16px\">Construct a Series from the array created in exercise 8. What data type is it? Construct a new Series with the same array forcing it to be a nullable integer.</span>"
   ]
  },
  {
   "cell_type": "code",
   "execution_count": null,
   "metadata": {},
   "outputs": [],
   "source": []
  },
  {
   "cell_type": "markdown",
   "metadata": {},
   "source": [
    "### Exercise 10\n",
    "\n",
    "<span style=\"color:green; font-size:16px\">Construct a Series of 32-bit nullable integers using the data type object itself (and not the string).</span>"
   ]
  },
  {
   "cell_type": "code",
   "execution_count": null,
   "metadata": {},
   "outputs": [],
   "source": []
  }
 ],
 "metadata": {
  "kernelspec": {
   "display_name": "Python 3 (ipykernel)",
   "language": "python",
   "name": "python3"
  },
  "language_info": {
   "codemirror_mode": {
    "name": "ipython",
    "version": 3
   },
   "file_extension": ".py",
   "mimetype": "text/x-python",
   "name": "python",
   "nbconvert_exporter": "python",
   "pygments_lexer": "ipython3",
   "version": "3.8.11"
  }
 },
 "nbformat": 4,
 "nbformat_minor": 2
}
