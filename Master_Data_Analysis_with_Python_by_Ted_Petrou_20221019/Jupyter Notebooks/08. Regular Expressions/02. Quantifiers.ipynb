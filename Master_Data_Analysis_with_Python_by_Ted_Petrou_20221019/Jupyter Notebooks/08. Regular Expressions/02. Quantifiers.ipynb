{
 "cells": [
  {
   "cell_type": "markdown",
   "metadata": {},
   "source": [
    "# Quantifiers\n",
    "\n",
    "This chapter continues coverage of the regex special characters, focusing on those that are used to match repeated characters. These metacharacters are called **quantifiers**, because they quantify the amount of repetition. The four quantifiers are `*`, `+`, `?`, and `{}`.\n",
    "\n",
    "## The asterisk metacharacter `*`\n",
    "\n",
    "The **asterisk** or **star** metacharacter matches the previous character **zero** or more times. For instance, the regex, `'Ah* No'` will look for strings that have an uppercase `'A'` followed by zero or more lowercase `'h'` followed by `' No'`. Let's see how this works on a Series of sample data:"
   ]
  },
  {
   "cell_type": "code",
   "execution_count": null,
   "metadata": {},
   "outputs": [],
   "source": [
    "import re\n",
    "import pandas as pd\n",
    "\n",
    "def find_pattern(s, pattern, **kwargs):\n",
    "    filt = s.str.contains(pattern, **kwargs)\n",
    "    return s[filt]\n",
    "\n",
    "s = pd.Series(['Ouch', 'Ah No', 'Ahh', 'Nooo', 'Ahhhhhhh No', 'A No', 'A'])\n",
    "s"
   ]
  },
  {
   "cell_type": "markdown",
   "metadata": {},
   "source": [
    "Let's use our same function to filter for the matched values."
   ]
  },
  {
   "cell_type": "code",
   "execution_count": null,
   "metadata": {},
   "outputs": [],
   "source": [
    "find_pattern(s, r'Ah* No')"
   ]
  },
  {
   "cell_type": "markdown",
   "metadata": {},
   "source": [
    "Without the `' No'` at the end, two more values are matched."
   ]
  },
  {
   "cell_type": "code",
   "execution_count": null,
   "metadata": {},
   "outputs": [],
   "source": [
    "pattern = r'Ah*'\n",
    "find_pattern(s, r'Ah*')"
   ]
  },
  {
   "cell_type": "markdown",
   "metadata": {},
   "source": [
    "### Using `.*` to match any number of characters\n",
    "\n",
    "A common use for the asterisk metacharacter is to use it immediately after the dot to match any character any number of times. This is useful when matching a known start and end of text. Here, we match all movies titles beginning with `B` and ending with `d`. We use `.*` to match all characters any number of times between the first and last letters of the movie."
   ]
  },
  {
   "cell_type": "code",
   "execution_count": null,
   "metadata": {},
   "outputs": [],
   "source": [
    "movie = pd.read_csv('../data/movie.csv')\n",
    "title = movie['title']\n",
    "find_pattern(title, r'^B.*d$').head()"
   ]
  },
  {
   "cell_type": "markdown",
   "metadata": {},
   "source": [
    "## The plus sign metacharacter `+`\n",
    "\n",
    "The **plus sign** metacharacter is very similar to the asterisk, except that it matches **one** or more of the previous character. For the regex `'Ah+ No'`, the `'h'` must appear at least once."
   ]
  },
  {
   "cell_type": "code",
   "execution_count": null,
   "metadata": {},
   "outputs": [],
   "source": [
    "find_pattern(s, r'Ah+ No')"
   ]
  },
  {
   "cell_type": "markdown",
   "metadata": {},
   "source": [
    "## The question mark metacharacter `?`\n",
    "\n",
    "The question mark is similar to both the asterisk and the plus sign, except that it matches the previous character **zero or one** times exactly."
   ]
  },
  {
   "cell_type": "code",
   "execution_count": null,
   "metadata": {},
   "outputs": [],
   "source": [
    "find_pattern(s, r'Ah? No')"
   ]
  },
  {
   "cell_type": "markdown",
   "metadata": {},
   "source": [
    "The following regex pattern matches movie titles containing `Card` or `Cad` somewhere in them. The `?` metacharacter makes the character before it **optional**."
   ]
  },
  {
   "cell_type": "code",
   "execution_count": null,
   "metadata": {},
   "outputs": [],
   "source": [
    "find_pattern(title, r'Car?d')"
   ]
  },
  {
   "cell_type": "markdown",
   "metadata": {},
   "source": [
    "## The curly braces metacharacter `{m,n}`\n",
    "\n",
    "The curly braces metacharacter allows you to control the exact number of repetitions of the previous character. There are four different ways to use the curly braces:\n",
    "\n",
    "* A single integer `a{3}` - matches exactly three `'a'` characters in a row\n",
    "* A single integer followed by a comma `a{3,}` - matches three or more `'a'` characters in a row\n",
    "* A comma followed by a single integer `a{,3}` - matches zero to three `'a'` characters in a row\n",
    "* Two integers separated by a comma `a{3,5}` - matches between 3 and 5 `'a'` characters in a row\n",
    "\n",
    "Let's create another Series by hand and match all the values that begin with `'A'`, have the letter `'h'` repeat between 2 and 5 times and then followed by `' No'`."
   ]
  },
  {
   "cell_type": "code",
   "execution_count": null,
   "metadata": {},
   "outputs": [],
   "source": [
    "s = pd.Series(['Ouch', 'Ahhh No', 'Ahh No', 'Nooo', 'Ahhhhhhh No', \n",
    "               'A No', 'A', 'Ahhh'])\n",
    "s"
   ]
  },
  {
   "cell_type": "code",
   "execution_count": null,
   "metadata": {},
   "outputs": [],
   "source": [
    "pattern = r'Ah{2,5} No'\n",
    "find_pattern(s, pattern)"
   ]
  },
  {
   "cell_type": "markdown",
   "metadata": {},
   "source": [
    "## Exercises\n",
    "Use the title column of the movie Series for these exercises."
   ]
  },
  {
   "cell_type": "markdown",
   "metadata": {},
   "source": [
    "### Exercise 1\n",
    "\n",
    "<span style=\"color:green; font-size:16px\">Find all movies that have `'z'` as their 15th character.</span>"
   ]
  },
  {
   "cell_type": "code",
   "execution_count": null,
   "metadata": {},
   "outputs": [],
   "source": []
  },
  {
   "cell_type": "markdown",
   "metadata": {},
   "source": [
    "### Exercise 2\n",
    "\n",
    "<span style=\"color:green; font-size:16px\">Find all movies that have the word `'Boy'` or `'Boys'` in them followed by a space.</span>"
   ]
  },
  {
   "cell_type": "code",
   "execution_count": null,
   "metadata": {},
   "outputs": [],
   "source": []
  },
  {
   "cell_type": "markdown",
   "metadata": {},
   "source": [
    "### Exercise 3\n",
    "\n",
    "<span style=\"color:green; font-size:16px\">Find all movies that have between 40 and 43 characters in them. Can you verify the results with another `str` accessor method?</span>"
   ]
  },
  {
   "cell_type": "code",
   "execution_count": null,
   "metadata": {},
   "outputs": [],
   "source": []
  },
  {
   "cell_type": "markdown",
   "metadata": {},
   "source": [
    "### Exercise 4\n",
    "\n",
    "<span style=\"color:green; font-size:16px\">Find all movies that begin with 'The' and end in 'Movie'.</span>"
   ]
  },
  {
   "cell_type": "code",
   "execution_count": null,
   "metadata": {},
   "outputs": [],
   "source": []
  },
  {
   "cell_type": "markdown",
   "metadata": {},
   "source": [
    "### Exercise 5\n",
    "\n",
    "<span style=\"color:green; font-size:16px\">Find all movies that begin with 'The' and end in 'Movie' and have no more than 10 characters between these two words.</span>"
   ]
  },
  {
   "cell_type": "code",
   "execution_count": null,
   "metadata": {},
   "outputs": [],
   "source": []
  },
  {
   "cell_type": "markdown",
   "metadata": {},
   "source": [
    "### Exercise 6\n",
    "\n",
    "<span style=\"color:green; font-size:16px\">Find all movies that begin with 'The' and end in 'Movie' and have at least 30 characters between these two words.</span>"
   ]
  },
  {
   "cell_type": "code",
   "execution_count": null,
   "metadata": {},
   "outputs": [],
   "source": []
  },
  {
   "cell_type": "markdown",
   "metadata": {},
   "source": [
    "### Exercise 7\n",
    "\n",
    "<span style=\"color:green; font-size:16px\">Find all movies that begin with capital `G` followed by at least one `o`, followed by a `d`.</span>"
   ]
  },
  {
   "cell_type": "code",
   "execution_count": null,
   "metadata": {},
   "outputs": [],
   "source": []
  },
  {
   "cell_type": "markdown",
   "metadata": {},
   "source": [
    "### Exercise 8\n",
    "\n",
    "<span style=\"color:green; font-size:16px\">Find all movies have either `Free` or `Fee` in them.</span>"
   ]
  },
  {
   "cell_type": "code",
   "execution_count": null,
   "metadata": {},
   "outputs": [],
   "source": []
  },
  {
   "cell_type": "markdown",
   "metadata": {},
   "source": [
    "### Exercise 9\n",
    "\n",
    "<span style=\"color:green; font-size:16px\">Find all movies that begin with any five characters followed by a space, followed by a `'t'` not case sensitive.</span>"
   ]
  },
  {
   "cell_type": "code",
   "execution_count": null,
   "metadata": {},
   "outputs": [],
   "source": []
  }
 ],
 "metadata": {
  "kernelspec": {
   "display_name": "Python 3",
   "language": "python",
   "name": "python3"
  },
  "language_info": {
   "codemirror_mode": {
    "name": "ipython",
    "version": 3
   },
   "file_extension": ".py",
   "mimetype": "text/x-python",
   "name": "python",
   "nbconvert_exporter": "python",
   "pygments_lexer": "ipython3",
   "version": "3.8.10"
  }
 },
 "nbformat": 4,
 "nbformat_minor": 2
}
