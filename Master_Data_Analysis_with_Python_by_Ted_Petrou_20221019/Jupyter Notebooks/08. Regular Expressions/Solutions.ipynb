{
 "cells": [
  {
   "cell_type": "markdown",
   "metadata": {},
   "source": [
    "# Solutions"
   ]
  },
  {
   "cell_type": "markdown",
   "metadata": {
    "tags": [
     "ignore"
    ]
   },
   "source": [
    "1. [Introduction to Regular Expressions](#1.-Introduction-to-Regular-Expressions)\n",
    "1. [Quantifiers](#2.-Quantifiers)\n",
    "1. [Or Conditions and Character Classes](#3.-Or-Conditions-and-Character-Classes)\n",
    "1. [Grouping and Capturing](#4.-Grouping-and-Capturing)\n",
    "1. [Multiline Regex Patters](#5.-Multiline-Regex-Patterns)\n",
    "1. [Project - Feature Engineering on the Titanic](#Project---Feature-Engineering-on-the-Titanic)"
   ]
  },
  {
   "cell_type": "code",
   "execution_count": 1,
   "metadata": {},
   "outputs": [],
   "source": [
    "import re\n",
    "import pandas as pd\n",
    "import numpy as np"
   ]
  },
  {
   "cell_type": "markdown",
   "metadata": {},
   "source": [
    "## 1. Introduction to Regular Expressions"
   ]
  },
  {
   "cell_type": "code",
   "execution_count": 2,
   "metadata": {},
   "outputs": [],
   "source": [
    "movie = pd.read_csv('../data/movie.csv')\n",
    "title = movie['title']\n",
    "def find_pattern(s, pattern, **kwargs):\n",
    "    filt = s.str.contains(pattern, **kwargs)\n",
    "    return s[filt]"
   ]
  },
  {
   "cell_type": "markdown",
   "metadata": {},
   "source": [
    "### Exercise 1\n",
    "\n",
    "<span style=\"color:green; font-size:16px\">Find all movies that have 2 consecutive z's in them.</span>"
   ]
  },
  {
   "cell_type": "code",
   "execution_count": 3,
   "metadata": {},
   "outputs": [
    {
     "data": {
      "text/plain": [
       "416                All That Jazz\n",
       "907         The Dukes of Hazzard\n",
       "1041                   Bedazzled\n",
       "2234                   Paparazzi\n",
       "2524                    Hot Fuzz\n",
       "2593    The Lizzie McGuire Movie\n",
       "3215       Into the Grizzly Maze\n",
       "3535                Mystic Pizza\n",
       "4399              Blue Like Jazz\n",
       "Name: title, dtype: object"
      ]
     },
     "execution_count": 3,
     "metadata": {},
     "output_type": "execute_result"
    }
   ],
   "source": [
    "find_pattern(title, r'zz')"
   ]
  },
  {
   "cell_type": "markdown",
   "metadata": {},
   "source": [
    "### Exercise 2\n",
    "\n",
    "<span style=\"color:green; font-size:16px\">Find all movies that begin with 9.</span>"
   ]
  },
  {
   "cell_type": "code",
   "execution_count": 4,
   "metadata": {},
   "outputs": [
    {
     "data": {
      "text/plain": [
       "1651                       9\n",
       "2416                9½ Weeks\n",
       "3705    90 Minutes in Heaven\n",
       "Name: title, dtype: object"
      ]
     },
     "execution_count": 4,
     "metadata": {},
     "output_type": "execute_result"
    }
   ],
   "source": [
    "find_pattern(title, r'^9')"
   ]
  },
  {
   "cell_type": "markdown",
   "metadata": {},
   "source": [
    "### Exercise 3\n",
    "\n",
    "<span style=\"color:green; font-size:16px\">Find all movies that have a `b` as their third character.</span>"
   ]
  },
  {
   "cell_type": "code",
   "execution_count": 5,
   "metadata": {},
   "outputs": [
    {
     "data": {
      "text/plain": [
       "22                Robin Hood\n",
       "228                  RoboCop\n",
       "286           Public Enemies\n",
       "448                   Robots\n",
       "494    Babe: Pig in the City\n",
       "Name: title, dtype: object"
      ]
     },
     "execution_count": 5,
     "metadata": {},
     "output_type": "execute_result"
    }
   ],
   "source": [
    "find_pattern(title, r'^..b').head()"
   ]
  },
  {
   "cell_type": "markdown",
   "metadata": {},
   "source": [
    "### Exercise 4\n",
    "\n",
    "<span style=\"color:green; font-size:16px\">Find all movies with a fourth-to-last character of `M` and a last character of `e`.</span>"
   ]
  },
  {
   "cell_type": "code",
   "execution_count": 6,
   "metadata": {},
   "outputs": [
    {
     "data": {
      "text/plain": [
       "704            The Green Mile\n",
       "1167                   8 Mile\n",
       "1616                Like Mike\n",
       "2122           Moonlight Mile\n",
       "2486             How She Move\n",
       "2653                 The Muse\n",
       "2913    Max Keeble's Big Move\n",
       "3215    Into the Grizzly Maze\n",
       "3406               Magic Mike\n",
       "3696                     Made\n",
       "4805        The World Is Mine\n",
       "Name: title, dtype: object"
      ]
     },
     "execution_count": 6,
     "metadata": {},
     "output_type": "execute_result"
    }
   ],
   "source": [
    "find_pattern(title, r'M..e$')"
   ]
  },
  {
   "cell_type": "markdown",
   "metadata": {},
   "source": [
    "### Exercise 5\n",
    "\n",
    "<span style=\"color:green; font-size:16px\">Use a regular expression to find movies that are exactly 6 characters in length.</span>"
   ]
  },
  {
   "cell_type": "code",
   "execution_count": 7,
   "metadata": {},
   "outputs": [
    {
     "data": {
      "text/plain": [
       "0      Avatar\n",
       "41     Cars 2\n",
       "58     WALL·E\n",
       "125    Frozen\n",
       "168    Sahara\n",
       "Name: title, dtype: object"
      ]
     },
     "execution_count": 7,
     "metadata": {},
     "output_type": "execute_result"
    }
   ],
   "source": [
    "find_pattern(title, r'^......$').head()"
   ]
  },
  {
   "cell_type": "markdown",
   "metadata": {},
   "source": [
    "### Exercise 6\n",
    "\n",
    "<span style=\"color:green; font-size:16px\">Complete exercise 5 using a different string-only Series method that does not require a regex.</span>"
   ]
  },
  {
   "cell_type": "code",
   "execution_count": 8,
   "metadata": {},
   "outputs": [
    {
     "data": {
      "text/plain": [
       "0      Avatar\n",
       "41     Cars 2\n",
       "58     WALL·E\n",
       "125    Frozen\n",
       "168    Sahara\n",
       "292    Eraser\n",
       "298    Eragon\n",
       "368    Pixels\n",
       "426    Jumper\n",
       "428    Zodiac\n",
       "Name: title, dtype: object"
      ]
     },
     "execution_count": 8,
     "metadata": {},
     "output_type": "execute_result"
    }
   ],
   "source": [
    "filt = title.str.len() == 6\n",
    "title[filt].head(10)"
   ]
  },
  {
   "cell_type": "markdown",
   "metadata": {},
   "source": [
    "### Exercise 7\n",
    "\n",
    "<span style=\"color:green; font-size:16px\">Find all movies containing the letter `'q'` ignoring case.</span>"
   ]
  },
  {
   "cell_type": "code",
   "execution_count": 9,
   "metadata": {},
   "outputs": [
    {
     "data": {
      "text/plain": [
       "12                           Quantum of Solace\n",
       "73                               Suicide Squad\n",
       "590    Alvin and the Chipmunks: The Squeakquel\n",
       "762                             Gangster Squad\n",
       "839                              The Equalizer\n",
       "Name: title, dtype: object"
      ]
     },
     "execution_count": 9,
     "metadata": {},
     "output_type": "execute_result"
    }
   ],
   "source": [
    "find_pattern(title, r'q', flags=re.I).head()"
   ]
  },
  {
   "cell_type": "markdown",
   "metadata": {},
   "source": [
    "## 2. Quantifiers"
   ]
  },
  {
   "cell_type": "code",
   "execution_count": 10,
   "metadata": {},
   "outputs": [],
   "source": [
    "movie = pd.read_csv('../data/movie.csv')\n",
    "title = movie['title']"
   ]
  },
  {
   "cell_type": "markdown",
   "metadata": {},
   "source": [
    "### Exercise 1\n",
    "\n",
    "<span style=\"color:green; font-size:16px\">Find all movies that have `'z'` as their 15th character.</span>"
   ]
  },
  {
   "cell_type": "code",
   "execution_count": 11,
   "metadata": {},
   "outputs": [
    {
     "data": {
      "text/plain": [
       "2484      American Dreamz\n",
       "2625    Ramona and Beezus\n",
       "Name: title, dtype: object"
      ]
     },
     "execution_count": 11,
     "metadata": {},
     "output_type": "execute_result"
    }
   ],
   "source": [
    "find_pattern(title, r'^.{14}z')"
   ]
  },
  {
   "cell_type": "markdown",
   "metadata": {},
   "source": [
    "### Exercise 2\n",
    "\n",
    "<span style=\"color:green; font-size:16px\">Find all movies that have the word `'Boy'` or `'Boys'` in them followed by a space.</span>"
   ]
  },
  {
   "cell_type": "code",
   "execution_count": 12,
   "metadata": {},
   "outputs": [
    {
     "data": {
      "text/plain": [
       "188                        Bad Boys II\n",
       "1864         Jimmy Neutron: Boy Genius\n",
       "2528                    Boys and Girls\n",
       "2859    The Boy in the Striped Pajamas\n",
       "2907              The Boys from Brazil\n",
       "3823                 The Boy Next Door\n",
       "4166                    Boys Don't Cry\n",
       "4575      All the Boys Love Mandy Lane\n",
       "Name: title, dtype: object"
      ]
     },
     "execution_count": 12,
     "metadata": {},
     "output_type": "execute_result"
    }
   ],
   "source": [
    "find_pattern(title, r'Boys? ')"
   ]
  },
  {
   "cell_type": "markdown",
   "metadata": {},
   "source": [
    "### Exercise 3\n",
    "\n",
    "<span style=\"color:green; font-size:16px\">Find all movies that have between 40 and 43 characters in them. Can you verify the results with another `str` accessor method?</span>"
   ]
  },
  {
   "cell_type": "code",
   "execution_count": 13,
   "metadata": {},
   "outputs": [
    {
     "data": {
      "text/plain": [
       "1        Pirates of the Caribbean: At World's End\n",
       "4      Star Wars: Episode VII - The Force Awakens\n",
       "13     Pirates of the Caribbean: Dead Man's Chest\n",
       "16       The Chronicles of Narnia: Prince Caspian\n",
       "18    Pirates of the Caribbean: On Stranger Tides\n",
       "Name: title, dtype: object"
      ]
     },
     "execution_count": 13,
     "metadata": {},
     "output_type": "execute_result"
    }
   ],
   "source": [
    "m40_43 = find_pattern(title, r'^.{40,43}$')\n",
    "m40_43.head()"
   ]
  },
  {
   "cell_type": "code",
   "execution_count": 14,
   "metadata": {},
   "outputs": [
    {
     "data": {
      "text/plain": [
       "1     40\n",
       "4     42\n",
       "13    42\n",
       "16    40\n",
       "18    43\n",
       "Name: title, dtype: int64"
      ]
     },
     "execution_count": 14,
     "metadata": {},
     "output_type": "execute_result"
    }
   ],
   "source": [
    "m40_43.str.len().head()"
   ]
  },
  {
   "cell_type": "code",
   "execution_count": 15,
   "metadata": {},
   "outputs": [
    {
     "data": {
      "text/plain": [
       "40    15\n",
       "41    12\n",
       "42     9\n",
       "43     9\n",
       "Name: title, dtype: int64"
      ]
     },
     "execution_count": 15,
     "metadata": {},
     "output_type": "execute_result"
    }
   ],
   "source": [
    "m40_43.str.len().value_counts()"
   ]
  },
  {
   "cell_type": "markdown",
   "metadata": {},
   "source": [
    "### Exercise 4\n",
    "\n",
    "<span style=\"color:green; font-size:16px\">Find all movies that begin with 'The' and end in 'Movie'.</span>"
   ]
  },
  {
   "cell_type": "code",
   "execution_count": 16,
   "metadata": {},
   "outputs": [
    {
     "data": {
      "text/plain": [
       "319                                     The Peanuts Movie\n",
       "561                                 The Angry Birds Movie\n",
       "569                                    The Simpsons Movie\n",
       "759                                        The Lego Movie\n",
       "1586                      The SpongeBob SquarePants Movie\n",
       "1734                                    The Rugrats Movie\n",
       "1895                           The Wild Thornberrys Movie\n",
       "2162                                     The Tigger Movie\n",
       "2593                             The Lizzie McGuire Movie\n",
       "2645    The Pirates Who Don't Do Anything: A VeggieTal...\n",
       "3296                                     The Muppet Movie\n",
       "4597                             The Kentucky Fried Movie\n",
       "Name: title, dtype: object"
      ]
     },
     "execution_count": 16,
     "metadata": {},
     "output_type": "execute_result"
    }
   ],
   "source": [
    "find_pattern(title, r'^The.*Movie$')"
   ]
  },
  {
   "cell_type": "markdown",
   "metadata": {},
   "source": [
    "### Exercise 5\n",
    "\n",
    "<span style=\"color:green; font-size:16px\">Find all movies that begin with 'The' and end in 'Movie' and have no more than 10 characters between these two words.</span>"
   ]
  },
  {
   "cell_type": "code",
   "execution_count": 17,
   "metadata": {},
   "outputs": [
    {
     "data": {
      "text/plain": [
       "319      The Peanuts Movie\n",
       "569     The Simpsons Movie\n",
       "759         The Lego Movie\n",
       "1734     The Rugrats Movie\n",
       "2162      The Tigger Movie\n",
       "3296      The Muppet Movie\n",
       "Name: title, dtype: object"
      ]
     },
     "execution_count": 17,
     "metadata": {},
     "output_type": "execute_result"
    }
   ],
   "source": [
    "find_pattern(title, r'^The.{,10}Movie$')"
   ]
  },
  {
   "cell_type": "markdown",
   "metadata": {},
   "source": [
    "### Exercise 6\n",
    "\n",
    "<span style=\"color:green; font-size:16px\">Find all movies that begin with 'The' and end in 'Movie' and have at least 30 characters between these two words.</span>"
   ]
  },
  {
   "cell_type": "code",
   "execution_count": 18,
   "metadata": {},
   "outputs": [
    {
     "data": {
      "text/plain": [
       "2645    The Pirates Who Don't Do Anything: A VeggieTal...\n",
       "Name: title, dtype: object"
      ]
     },
     "execution_count": 18,
     "metadata": {},
     "output_type": "execute_result"
    }
   ],
   "source": [
    "find_pattern(title, r'^The.{30,}Movie$')"
   ]
  },
  {
   "cell_type": "markdown",
   "metadata": {},
   "source": [
    "### Exercise 7\n",
    "\n",
    "<span style=\"color:green; font-size:16px\">Find all movies that begin with capital `G` followed by at least one `o`, followed by a `d`.</span>"
   ]
  },
  {
   "cell_type": "code",
   "execution_count": 19,
   "metadata": {},
   "outputs": [
    {
     "data": {
      "text/plain": [
       "98             Godzilla Resurgence\n",
       "162                  Gods of Egypt\n",
       "874              Gods and Generals\n",
       "1688                       Godsend\n",
       "1886                    Goodfellas\n",
       "1906               Good Luck Chuck\n",
       "2462                     Good Boy!\n",
       "2551                          Good\n",
       "2735                    Good Deeds\n",
       "2787         Good Morning, Vietnam\n",
       "3037             Good Will Hunting\n",
       "3197               Good Intentions\n",
       "3412    Good Night, and Good Luck.\n",
       "3509               Good Bye Lenin!\n",
       "3558               Goddess of Love\n",
       "3919             Gods and Monsters\n",
       "4438              God's Not Dead 2\n",
       "4440                 Godzilla 2000\n",
       "4649                     Good Kill\n",
       "4793                     Good Dick\n",
       "Name: title, dtype: object"
      ]
     },
     "execution_count": 19,
     "metadata": {},
     "output_type": "execute_result"
    }
   ],
   "source": [
    "find_pattern(title,  r'^Go+d')"
   ]
  },
  {
   "cell_type": "markdown",
   "metadata": {},
   "source": [
    "### Exercise 8\n",
    "\n",
    "<span style=\"color:green; font-size:16px\">Find all movies have either `Free` or `Fee` in them.</span>"
   ]
  },
  {
   "cell_type": "code",
   "execution_count": 20,
   "metadata": {},
   "outputs": [
    {
     "data": {
      "text/plain": [
       "174                      Happy Feet 2\n",
       "266             Live Free or Die Hard\n",
       "391                        Happy Feet\n",
       "856                        Free Birds\n",
       "1001              Free State of Jones\n",
       "1507    Mandela: Long Walk to Freedom\n",
       "1712             The Color of Freedom\n",
       "1727                      Cry Freedom\n",
       "2114                  Freedom Writers\n",
       "2719                          Freedom\n",
       "3181                       Free Style\n",
       "3463                         Freeheld\n",
       "4027                          Freeway\n",
       "4226                     Freeze Frame\n",
       "4459             20 Feet from Stardom\n",
       "Name: title, dtype: object"
      ]
     },
     "execution_count": 20,
     "metadata": {},
     "output_type": "execute_result"
    }
   ],
   "source": [
    "find_pattern(title, r'Fr?ee')"
   ]
  },
  {
   "cell_type": "markdown",
   "metadata": {},
   "source": [
    "### Exercise 9\n",
    "\n",
    "<span style=\"color:green; font-size:16px\">Find all movies that begin with any five characters followed by a space, followed by a `'t'` not case sensitive.</span>"
   ]
  },
  {
   "cell_type": "code",
   "execution_count": 21,
   "metadata": {},
   "outputs": [
    {
     "data": {
      "text/plain": [
       "106    Alice Through the Looking Glass\n",
       "107                    Shrek the Third\n",
       "127               Thor: The Dark World\n",
       "299          Where the Wild Things Are\n",
       "384               K-19: The Widowmaker\n",
       "Name: title, dtype: object"
      ]
     },
     "execution_count": 21,
     "metadata": {},
     "output_type": "execute_result"
    }
   ],
   "source": [
    "find_pattern(title, r'^.{5} t', flags=re.I).head()"
   ]
  },
  {
   "cell_type": "markdown",
   "metadata": {},
   "source": [
    "## 3. Or Conditions and Character Classes"
   ]
  },
  {
   "cell_type": "code",
   "execution_count": 22,
   "metadata": {},
   "outputs": [
    {
     "data": {
      "text/plain": [
       "0                                        Avatar\n",
       "1      Pirates of the Caribbean: At World's End\n",
       "2                                       Spectre\n",
       "3                         The Dark Knight Rises\n",
       "4    Star Wars: Episode VII - The Force Awakens\n",
       "Name: title, dtype: object"
      ]
     },
     "execution_count": 22,
     "metadata": {},
     "output_type": "execute_result"
    }
   ],
   "source": [
    "import pandas as pd\n",
    "title = pd.read_csv('../data/movie.csv')['title']\n",
    "title.head()"
   ]
  },
  {
   "cell_type": "markdown",
   "metadata": {},
   "source": [
    "### Exercise 1\n",
    "\n",
    "<span style=\"color:green; font-size:16px\">Find all movies that either start with `'C'` or end with `'c'`.</span>"
   ]
  },
  {
   "cell_type": "code",
   "execution_count": 23,
   "metadata": {},
   "outputs": [
    {
     "data": {
      "text/plain": [
       "26                                 Titanic\n",
       "27              Captain America: Civil War\n",
       "41                                  Cars 2\n",
       "86     Captain America: The Winter Soldier\n",
       "118      Charlie and the Chocolate Factory\n",
       "Name: title, dtype: object"
      ]
     },
     "execution_count": 23,
     "metadata": {},
     "output_type": "execute_result"
    }
   ],
   "source": [
    "find_pattern(title, r'^C|c$').head()"
   ]
  },
  {
   "cell_type": "markdown",
   "metadata": {},
   "source": [
    "### Exercise 2\n",
    "\n",
    "<span style=\"color:green; font-size:16px\">Find all movies that are 6 or less characters in length or between 30 and 33 characters in length.</span>"
   ]
  },
  {
   "cell_type": "code",
   "execution_count": 24,
   "metadata": {},
   "outputs": [
    {
     "data": {
      "text/plain": [
       "0                              Avatar\n",
       "37    Transformers: Age of Extinction\n",
       "41                             Cars 2\n",
       "53     Transformers: Dark of the Moon\n",
       "56                              Brave\n",
       "Name: title, dtype: object"
      ]
     },
     "execution_count": 24,
     "metadata": {},
     "output_type": "execute_result"
    }
   ],
   "source": [
    "find_pattern(title, r'^.{,6}$|^.{30,33}$').head()"
   ]
  },
  {
   "cell_type": "markdown",
   "metadata": {},
   "source": [
    "### Exercise 3\n",
    "\n",
    "<span style=\"color:green; font-size:16px\">Find all movies that have the word `'and'` followed by the word `'the'`.</span>"
   ]
  },
  {
   "cell_type": "code",
   "execution_count": 25,
   "metadata": {},
   "outputs": [
    {
     "data": {
      "text/plain": [
       "9                 Harry Potter and the Half-Blood Prince\n",
       "54     Indiana Jones and the Kingdom of the Crystal S...\n",
       "64     The Chronicles of Narnia: The Lion, the Witch ...\n",
       "81                           Snow White and the Huntsman\n",
       "100                             The Fast and the Furious\n",
       "Name: title, dtype: object"
      ]
     },
     "execution_count": 25,
     "metadata": {},
     "output_type": "execute_result"
    }
   ],
   "source": [
    "find_pattern(title, r'\\band the\\b').head()"
   ]
  },
  {
   "cell_type": "markdown",
   "metadata": {},
   "source": [
    "### Exercise 4\n",
    "\n",
    "<span style=\"color:green; font-size:16px\">Find all movies that have the word `'and'` followed by two words and then followed by the word `'the`'. In this exercise, words are defined as 1 or more consecutive \"word\" characters.</span>"
   ]
  },
  {
   "cell_type": "code",
   "execution_count": 26,
   "metadata": {},
   "outputs": [
    {
     "data": {
      "text/plain": [
       "4400    Down and Out with the Dolls\n",
       "Name: title, dtype: object"
      ]
     },
     "execution_count": 26,
     "metadata": {},
     "output_type": "execute_result"
    }
   ],
   "source": [
    "find_pattern(title, r'\\band \\w+ \\w+ the\\b')"
   ]
  },
  {
   "cell_type": "markdown",
   "metadata": {},
   "source": [
    "### Exercise 5\n",
    "\n",
    "<span style=\"color:green; font-size:16px\">Find all movies that begin with `'The'` followed by the next word that begins with digits.</span>"
   ]
  },
  {
   "cell_type": "code",
   "execution_count": 27,
   "metadata": {},
   "outputs": [
    {
     "data": {
      "text/plain": [
       "212                                      The 13th Warrior\n",
       "429                                           The 6th Day\n",
       "1354                                         The 5th Wave\n",
       "1817                               The 40-Year-Old Virgin\n",
       "1958                                               The 33\n",
       "3567                                      The 5th Quarter\n",
       "4373    The 41-Year-Old Virgin Who Knocked Up Sarah Ma...\n",
       "Name: title, dtype: object"
      ]
     },
     "execution_count": 27,
     "metadata": {},
     "output_type": "execute_result"
    }
   ],
   "source": [
    "find_pattern(title, r'^The [0-9]')"
   ]
  },
  {
   "cell_type": "markdown",
   "metadata": {},
   "source": [
    "### Exercise 6\n",
    "\n",
    "<span style=\"color:green; font-size:16px\">Find all movies that have three consecutive capital letters in them.</span>"
   ]
  },
  {
   "cell_type": "code",
   "execution_count": 28,
   "metadata": {},
   "outputs": [
    {
     "data": {
      "text/plain": [
       "4        Star Wars: Episode VII - The Force Awakens\n",
       "40                                     TRON: Legacy\n",
       "58                                           WALL·E\n",
       "140                         Mission: Impossible III\n",
       "177                                         The BFG\n",
       "233    Star Wars: Episode III - Revenge of the Sith\n",
       "340                               Jurassic Park III\n",
       "440                                           RED 2\n",
       "589                         AVP: Alien vs. Predator\n",
       "725                                             RED\n",
       "Name: title, dtype: object"
      ]
     },
     "execution_count": 28,
     "metadata": {},
     "output_type": "execute_result"
    }
   ],
   "source": [
    "find_pattern(title, r'[A-Z]{3}').head(10)"
   ]
  },
  {
   "cell_type": "markdown",
   "metadata": {},
   "source": [
    "### Exercise 7\n",
    "\n",
    "<span style=\"color:green; font-size:16px\">Find all movies that begin and end with a capital letter.</span>"
   ]
  },
  {
   "cell_type": "code",
   "execution_count": 29,
   "metadata": {},
   "outputs": [
    {
     "data": {
      "text/plain": [
       "46                 World War Z\n",
       "58                      WALL·E\n",
       "140    Mission: Impossible III\n",
       "151            Men in Black II\n",
       "177                    The BFG\n",
       "Name: title, dtype: object"
      ]
     },
     "execution_count": 29,
     "metadata": {},
     "output_type": "execute_result"
    }
   ],
   "source": [
    "find_pattern(title, r'^[A-Z].*[A-Z]$').head()"
   ]
  },
  {
   "cell_type": "markdown",
   "metadata": {},
   "source": [
    "### Exercise 8\n",
    "\n",
    "<span style=\"color:green; font-size:16px\">Find all the movies that have a digit followed by a comma followed by a digit.</span>"
   ]
  },
  {
   "cell_type": "code",
   "execution_count": 30,
   "metadata": {},
   "outputs": [
    {
     "data": {
      "text/plain": [
       "276                                10,000 B.C.\n",
       "3266    Ultramarines: A Warhammer 40,000 Movie\n",
       "3641              20,000 Leagues Under the Sea\n",
       "4775             The Beast from 20,000 Fathoms\n",
       "Name: title, dtype: object"
      ]
     },
     "execution_count": 30,
     "metadata": {},
     "output_type": "execute_result"
    }
   ],
   "source": [
    "find_pattern(title, r'[0-9],[0-9]')"
   ]
  },
  {
   "cell_type": "markdown",
   "metadata": {},
   "source": [
    "### Exercise 9\n",
    "\n",
    "<span style=\"color:green; font-size:16px\">Find all the movies that have either an ampersand or a question mark in them.</span>"
   ]
  },
  {
   "cell_type": "code",
   "execution_count": 31,
   "metadata": {},
   "outputs": [
    {
     "data": {
      "text/plain": [
       "129                                      Angels & Demons\n",
       "145                                Mr. Peabody & Sherman\n",
       "214                                       Batman & Robin\n",
       "252                                     Mr. & Mrs. Smith\n",
       "278                                       Town & Country\n",
       "347    Percy Jackson & the Olympians: The Lightning T...\n",
       "425             Cats & Dogs: The Revenge of Kitty Galore\n",
       "437                                        Lilo & Stitch\n",
       "512                 The Adventures of Rocky & Bullwinkle\n",
       "703                                          Marley & Me\n",
       "715                                          Cats & Dogs\n",
       "740                                      Starsky & Hutch\n",
       "747                                  Up Close & Personal\n",
       "813                      Did You Hear About the Morgans?\n",
       "850                                         Tango & Cash\n",
       "Name: title, dtype: object"
      ]
     },
     "execution_count": 31,
     "metadata": {},
     "output_type": "execute_result"
    }
   ],
   "source": [
    "find_pattern(title, r'[&?]').head(15)"
   ]
  },
  {
   "cell_type": "markdown",
   "metadata": {},
   "source": [
    "### Exercise 10\n",
    "\n",
    "<span style=\"color:green; font-size:16px\">Which movie has the most ampersands, question marks, and periods in it?</span>"
   ]
  },
  {
   "cell_type": "code",
   "execution_count": 32,
   "metadata": {},
   "outputs": [
    {
     "data": {
      "text/plain": [
       "0    0\n",
       "1    0\n",
       "2    0\n",
       "3    0\n",
       "4    0\n",
       "Name: title, dtype: int64"
      ]
     },
     "execution_count": 32,
     "metadata": {},
     "output_type": "execute_result"
    }
   ],
   "source": [
    "count = title.str.count(r'[&.?]')\n",
    "count.head()"
   ]
  },
  {
   "cell_type": "code",
   "execution_count": 33,
   "metadata": {},
   "outputs": [
    {
     "data": {
      "text/plain": [
       "542"
      ]
     },
     "execution_count": 33,
     "metadata": {},
     "output_type": "execute_result"
    }
   ],
   "source": [
    "idx = count.idxmax()\n",
    "idx"
   ]
  },
  {
   "cell_type": "code",
   "execution_count": 34,
   "metadata": {},
   "outputs": [
    {
     "data": {
      "text/plain": [
       "'The Man from U.N.C.L.E.'"
      ]
     },
     "execution_count": 34,
     "metadata": {},
     "output_type": "execute_result"
    }
   ],
   "source": [
    "title.loc[idx]"
   ]
  },
  {
   "cell_type": "markdown",
   "metadata": {},
   "source": [
    "### Exercise 11\n",
    "\n",
    "<span style=\"color:green; font-size:16px\">Find all the movies with exactly three words with each word no more than 6 characters in length. For this exercise, a word is defined as consecutive non-space characters followed by exactly one space (or end of string).</span>"
   ]
  },
  {
   "cell_type": "code",
   "execution_count": 35,
   "metadata": {},
   "outputs": [
    {
     "data": {
      "text/plain": [
       "14    The Lone Ranger\n",
       "15       Man of Steel\n",
       "32         Iron Man 3\n",
       "43        Toy Story 3\n",
       "46        World War Z\n",
       "Name: title, dtype: object"
      ]
     },
     "execution_count": 35,
     "metadata": {},
     "output_type": "execute_result"
    }
   ],
   "source": [
    "find_pattern(title, r'^\\S{,6} \\S{,6} \\S{,6}$').head()"
   ]
  },
  {
   "cell_type": "markdown",
   "metadata": {},
   "source": [
    "### Exercise 12\n",
    "\n",
    "<span style=\"color:green; font-size:16px\">Find all movies that have four consecutive non-word characters.</span>"
   ]
  },
  {
   "cell_type": "code",
   "execution_count": 36,
   "metadata": {},
   "outputs": [
    {
     "data": {
      "text/plain": [
       "252                      Mr. & Mrs. Smith\n",
       "3703    Jekyll and Hyde... Together Again\n",
       "3828         What the #$*! Do We (K)now!?\n",
       "4498                  The Helix... Loaded\n",
       "Name: title, dtype: object"
      ]
     },
     "execution_count": 36,
     "metadata": {},
     "output_type": "execute_result"
    }
   ],
   "source": [
    "find_pattern(title, r'\\W{4}')"
   ]
  },
  {
   "cell_type": "markdown",
   "metadata": {},
   "source": [
    "### Exercise 13\n",
    "\n",
    "<span style=\"color:green; font-size:16px\">Find all movies that have at least one word that ends in `'ats'`.</span>"
   ]
  },
  {
   "cell_type": "code",
   "execution_count": 37,
   "metadata": {},
   "outputs": [
    {
     "data": {
      "text/plain": [
       "425     Cats & Dogs: The Revenge of Kitty Galore\n",
       "715                                  Cats & Dogs\n",
       "1552                            Cats Don't Dance\n",
       "1593                 Rugrats in Paris: The Movie\n",
       "1607                                 Hope Floats\n",
       "1734                           The Rugrats Movie\n",
       "1896                             Rugrats Go Wild\n",
       "2013                  The Men Who Stare at Goats\n",
       "2084                     Josie and the Pussycats\n",
       "3001                                     Tomcats\n",
       "3497                                        Bats\n",
       "3513                                    Mallrats\n",
       "Name: title, dtype: object"
      ]
     },
     "execution_count": 37,
     "metadata": {},
     "output_type": "execute_result"
    }
   ],
   "source": [
    "find_pattern(title, r'ats\\b')"
   ]
  },
  {
   "cell_type": "markdown",
   "metadata": {},
   "source": [
    "### Exercise 14\n",
    "\n",
    "<span style=\"color:green; font-size:16px\">Find all the movies containing, but not ending in `'tes'`.</span>"
   ]
  },
  {
   "cell_type": "code",
   "execution_count": 38,
   "metadata": {},
   "outputs": [
    {
     "data": {
      "text/plain": [
       "1140                The Sweetest Thing\n",
       "1941     The Greatest Game Ever Played\n",
       "1976        The World's Fastest Indian\n",
       "2238      The Greatest Story Ever Told\n",
       "2547                The White Countess\n",
       "2708        Bathory: Countess of Blood\n",
       "3169              World's Greatest Dad\n",
       "3569                      The Greatest\n",
       "3817        The Greatest Show on Earth\n",
       "4271      The Greatest Movie Ever Sold\n",
       "4845    The Past is a Grotesque Animal\n",
       "Name: title, dtype: object"
      ]
     },
     "execution_count": 38,
     "metadata": {},
     "output_type": "execute_result"
    }
   ],
   "source": [
    "find_pattern(title, r'tes\\B')"
   ]
  },
  {
   "cell_type": "markdown",
   "metadata": {},
   "source": [
    "### Exercise 15\n",
    "\n",
    "<span style=\"color:green; font-size:16px\">Find all movies containing a word that is at least 7 lowercase letters in length.</span>"
   ]
  },
  {
   "cell_type": "code",
   "execution_count": 39,
   "metadata": {},
   "outputs": [
    {
     "data": {
      "text/plain": [
       "2310    Les couloirs du temps: Les visiteurs II\n",
       "2824              Del 1 - Män som hatar kvinnor\n",
       "3455                              Les visiteurs\n",
       "3584                        L'auberge espagnole\n",
       "3761                            Camping sauvage\n",
       "3925                          La otra conquista\n",
       "Name: title, dtype: object"
      ]
     },
     "execution_count": 39,
     "metadata": {},
     "output_type": "execute_result"
    }
   ],
   "source": [
    "find_pattern(title, r'\\b[a-z]{7,}\\b')"
   ]
  },
  {
   "cell_type": "markdown",
   "metadata": {},
   "source": [
    "### Exercise 16\n",
    "\n",
    "<span style=\"color:green; font-size:16px\">Find all movies that have a word that contains, but does not start with `'Z'`.</span>"
   ]
  },
  {
   "cell_type": "code",
   "execution_count": 40,
   "metadata": {},
   "outputs": [
    {
     "data": {
      "text/plain": [
       "2127    eXistenZ\n",
       "Name: title, dtype: object"
      ]
     },
     "execution_count": 40,
     "metadata": {},
     "output_type": "execute_result"
    }
   ],
   "source": [
    "find_pattern(title, r'\\BZ')"
   ]
  },
  {
   "cell_type": "markdown",
   "metadata": {},
   "source": [
    "### Exercise 17\n",
    "\n",
    "<span style=\"color:green; font-size:16px\">Find all movies containing a word starting with `'W'` and ending with `'w'`.</span>"
   ]
  },
  {
   "cell_type": "code",
   "execution_count": 41,
   "metadata": {},
   "outputs": [
    {
     "data": {
      "text/plain": [
       "1229                Secret Window\n",
       "2833    The Widow of Saint-Pierre\n",
       "Name: title, dtype: object"
      ]
     },
     "execution_count": 41,
     "metadata": {},
     "output_type": "execute_result"
    }
   ],
   "source": [
    "find_pattern(title, r'\\bW\\w*w\\b')"
   ]
  },
  {
   "cell_type": "markdown",
   "metadata": {},
   "source": [
    "### Exercise 18\n",
    "\n",
    "<span style=\"color:green; font-size:16px\">Count the total number of digit characters between 7 and 9 in all of the movies.</span>"
   ]
  },
  {
   "cell_type": "code",
   "execution_count": 42,
   "metadata": {},
   "outputs": [
    {
     "data": {
      "text/plain": [
       "53"
      ]
     },
     "execution_count": 42,
     "metadata": {},
     "output_type": "execute_result"
    }
   ],
   "source": [
    "title.str.count(r'[7-9]').sum()"
   ]
  },
  {
   "cell_type": "markdown",
   "metadata": {},
   "source": [
    "### Exercise 19\n",
    "\n",
    "<span style=\"color:green; font-size:16px\">Use the `count` method to count the number of words in each title. Use consecutive word characters as the definition of a word.</span>"
   ]
  },
  {
   "cell_type": "code",
   "execution_count": 43,
   "metadata": {},
   "outputs": [
    {
     "data": {
      "text/plain": [
       "0    1\n",
       "1    8\n",
       "2    1\n",
       "3    4\n",
       "4    7\n",
       "Name: title, dtype: int64"
      ]
     },
     "execution_count": 43,
     "metadata": {},
     "output_type": "execute_result"
    }
   ],
   "source": [
    "title.str.count(r'\\b\\w+\\b').head()"
   ]
  },
  {
   "cell_type": "markdown",
   "metadata": {},
   "source": [
    "## 4. Grouping and Capturing"
   ]
  },
  {
   "cell_type": "markdown",
   "metadata": {},
   "source": [
    "### Exercise 1\n",
    "\n",
    "<span style=\"color:green; font-size:16px\">Find all movies that begin with the exact words `'I'`, `'An'`, or `'How'`, are followed by at least 20 characters, and end in lowercase `'n'` through '`s'`. Make sure there is no warning.</span>"
   ]
  },
  {
   "cell_type": "code",
   "execution_count": 44,
   "metadata": {},
   "outputs": [
    {
     "data": {
      "text/plain": [
       "93                       How to Train Your Dragon\n",
       "215                How the Grinch Stole Christmas\n",
       "929                  How to Lose a Guy in 10 Days\n",
       "2009        I Still Know What You Did Last Summer\n",
       "2406                      I Love You, Beth Cooper\n",
       "2457              I Know What You Did Last Summer\n",
       "2847                    I Love You Phillip Morris\n",
       "3177    An Alan Smithee Film: Burn Hollywood Burn\n",
       "Name: title, dtype: object"
      ]
     },
     "execution_count": 44,
     "metadata": {},
     "output_type": "execute_result"
    }
   ],
   "source": [
    "find_pattern(title, r'^(?:I|An|How)\\b.{19,}[n-s]$')"
   ]
  },
  {
   "cell_type": "markdown",
   "metadata": {},
   "source": [
    "### Exercise 2\n",
    "\n",
    "<span style=\"color:green; font-size:16px\">Find all movies that have a lower case consonant followed by a lowercase vowel followed immediately by a repeat of those same two letters. For example, `'Banana'` repeats `'na'` twice in succession.</span>"
   ]
  },
  {
   "cell_type": "code",
   "execution_count": 45,
   "metadata": {},
   "outputs": [
    {
     "name": "stderr",
     "output_type": "stream",
     "text": [
      "<ipython-input-2-05d4d3623bbf>:4: UserWarning: This pattern has match groups. To actually get the groups, use str.extract.\n",
      "  filt = s.str.contains(pattern, **kwargs)\n"
     ]
    },
    {
     "data": {
      "text/plain": [
       "2294    Princess Mononoke\n",
       "2559               Ararat\n",
       "2969             Madadayo\n",
       "3196            Partition\n",
       "4231              Bananas\n",
       "Name: title, dtype: object"
      ]
     },
     "execution_count": 45,
     "metadata": {},
     "output_type": "execute_result"
    }
   ],
   "source": [
    "find_pattern(title, r'([bcdfghjklmnpqrstvwxyz][aeiou])\\1')"
   ]
  },
  {
   "cell_type": "markdown",
   "metadata": {},
   "source": [
    "### Exercise 3\n",
    "\n",
    "<span style=\"color:green; font-size:16px\">For all movies that begin with 'The' and are followed by the next word that begins with a digit, extract just the digits part of the word.</span>"
   ]
  },
  {
   "cell_type": "code",
   "execution_count": 46,
   "metadata": {},
   "outputs": [
    {
     "data": {
      "text/html": [
       "<div>\n",
       "<style scoped>\n",
       "    .dataframe tbody tr th:only-of-type {\n",
       "        vertical-align: middle;\n",
       "    }\n",
       "\n",
       "    .dataframe tbody tr th {\n",
       "        vertical-align: top;\n",
       "    }\n",
       "\n",
       "    .dataframe thead th {\n",
       "        text-align: right;\n",
       "    }\n",
       "</style>\n",
       "<table border=\"1\" class=\"dataframe\">\n",
       "  <thead>\n",
       "    <tr style=\"text-align: right;\">\n",
       "      <th></th>\n",
       "      <th>0</th>\n",
       "    </tr>\n",
       "  </thead>\n",
       "  <tbody>\n",
       "    <tr>\n",
       "      <th>212</th>\n",
       "      <td>13</td>\n",
       "    </tr>\n",
       "    <tr>\n",
       "      <th>429</th>\n",
       "      <td>6</td>\n",
       "    </tr>\n",
       "    <tr>\n",
       "      <th>1354</th>\n",
       "      <td>5</td>\n",
       "    </tr>\n",
       "    <tr>\n",
       "      <th>1817</th>\n",
       "      <td>40</td>\n",
       "    </tr>\n",
       "    <tr>\n",
       "      <th>1958</th>\n",
       "      <td>33</td>\n",
       "    </tr>\n",
       "    <tr>\n",
       "      <th>3567</th>\n",
       "      <td>5</td>\n",
       "    </tr>\n",
       "    <tr>\n",
       "      <th>4373</th>\n",
       "      <td>41</td>\n",
       "    </tr>\n",
       "  </tbody>\n",
       "</table>\n",
       "</div>"
      ],
      "text/plain": [
       "       0\n",
       "212   13\n",
       "429    6\n",
       "1354   5\n",
       "1817  40\n",
       "1958  33\n",
       "3567   5\n",
       "4373  41"
      ]
     },
     "execution_count": 46,
     "metadata": {},
     "output_type": "execute_result"
    }
   ],
   "source": [
    "title.str.extract(r'^The (\\d+)').dropna()"
   ]
  },
  {
   "cell_type": "markdown",
   "metadata": {},
   "source": [
    "### Exercise 4\n",
    "\n",
    "<span style=\"color:green; font-size:16px\">Find all movies that have two separate numbers in them. An example would be, '7 days and 7 nights'.</span>"
   ]
  },
  {
   "cell_type": "code",
   "execution_count": 47,
   "metadata": {},
   "outputs": [
    {
     "data": {
      "text/plain": [
       "276                                10,000 B.C.\n",
       "289                 The Taking of Pelham 1 2 3\n",
       "509                           2 Fast 2 Furious\n",
       "1043                              3:10 to Yuma\n",
       "1610                            13 Going on 30\n",
       "1617        Naked Gun 33 1/3: The Final Insult\n",
       "2466                     40 Days and 40 Nights\n",
       "2646                                     U2 3D\n",
       "3266    Ultramarines: A Warhammer 40,000 Movie\n",
       "3308                                     50/50\n",
       "3516                           Fahrenheit 9/11\n",
       "3576                                     11:14\n",
       "3641              20,000 Leagues Under the Sea\n",
       "3934                                      2:13\n",
       "4210                   24 7: Twenty Four Seven\n",
       "4376                    Friday the 13th Part 2\n",
       "4532              4 Months, 3 Weeks and 2 Days\n",
       "4775             The Beast from 20,000 Fathoms\n",
       "Name: title, dtype: object"
      ]
     },
     "execution_count": 47,
     "metadata": {},
     "output_type": "execute_result"
    }
   ],
   "source": [
    "find_pattern(title, r'\\d+\\D+\\d+')"
   ]
  },
  {
   "cell_type": "markdown",
   "metadata": {},
   "source": [
    "### Exercise 5\n",
    "\n",
    "<span style=\"color:green; font-size:16px\">Find all movies that have six or more non-vowel and non-space characters in a row.</span>"
   ]
  },
  {
   "cell_type": "code",
   "execution_count": 48,
   "metadata": {},
   "outputs": [
    {
     "data": {
      "text/plain": [
       "276                                10,000 B.C.\n",
       "542                    The Man from U.N.C.L.E.\n",
       "1935                          Punch-Drunk Love\n",
       "2392                                  Catch-22\n",
       "2480                         Brooklyn's Finest\n",
       "2507                   When Harry Met Sally...\n",
       "2912        Tales from the Crypt: Demon Knight\n",
       "3266    Ultramarines: A Warhammer 40,000 Movie\n",
       "3641              20,000 Leagues Under the Sea\n",
       "4775             The Beast from 20,000 Fathoms\n",
       "Name: title, dtype: object"
      ]
     },
     "execution_count": 48,
     "metadata": {},
     "output_type": "execute_result"
    }
   ],
   "source": [
    "find_pattern(title, r'[^aeiouAEIOU\\s]{6,}')"
   ]
  },
  {
   "cell_type": "markdown",
   "metadata": {},
   "source": [
    "### Exercise 6\n",
    "\n",
    "<span style=\"color:green; font-size:16px\">Extract the very next non-space character after 't' or 'T' for each movie, convert to lowercase, and then return the count of each character.</span>"
   ]
  },
  {
   "cell_type": "code",
   "execution_count": 49,
   "metadata": {},
   "outputs": [
    {
     "data": {
      "text/html": [
       "<div>\n",
       "<style scoped>\n",
       "    .dataframe tbody tr th:only-of-type {\n",
       "        vertical-align: middle;\n",
       "    }\n",
       "\n",
       "    .dataframe tbody tr th {\n",
       "        vertical-align: top;\n",
       "    }\n",
       "\n",
       "    .dataframe thead th {\n",
       "        text-align: right;\n",
       "    }\n",
       "</style>\n",
       "<table border=\"1\" class=\"dataframe\">\n",
       "  <thead>\n",
       "    <tr style=\"text-align: right;\">\n",
       "      <th></th>\n",
       "      <th>0</th>\n",
       "    </tr>\n",
       "  </thead>\n",
       "  <tbody>\n",
       "    <tr>\n",
       "      <th>0</th>\n",
       "      <td>a</td>\n",
       "    </tr>\n",
       "    <tr>\n",
       "      <th>1</th>\n",
       "      <td>e</td>\n",
       "    </tr>\n",
       "    <tr>\n",
       "      <th>2</th>\n",
       "      <td>r</td>\n",
       "    </tr>\n",
       "    <tr>\n",
       "      <th>3</th>\n",
       "      <td>h</td>\n",
       "    </tr>\n",
       "    <tr>\n",
       "      <th>4</th>\n",
       "      <td>a</td>\n",
       "    </tr>\n",
       "  </tbody>\n",
       "</table>\n",
       "</div>"
      ],
      "text/plain": [
       "   0\n",
       "0  a\n",
       "1  e\n",
       "2  r\n",
       "3  h\n",
       "4  a"
      ]
     },
     "execution_count": 49,
     "metadata": {},
     "output_type": "execute_result"
    }
   ],
   "source": [
    "# extract always returns a DataFramea\n",
    "title.str.extract(r'[Tt](\\S)').dropna().head()"
   ]
  },
  {
   "cell_type": "code",
   "execution_count": 50,
   "metadata": {},
   "outputs": [
    {
     "data": {
      "text/plain": [
       "h    1486\n",
       "e     275\n",
       "o     198\n",
       "i     179\n",
       "a     164\n",
       "r     150\n",
       "t      81\n",
       "y      69\n",
       "u      53\n",
       "s      49\n",
       "Name: 0, dtype: int64"
      ]
     },
     "execution_count": 50,
     "metadata": {},
     "output_type": "execute_result"
    }
   ],
   "source": [
    "# Select first and only column as a Series with `[0]`.\n",
    "title.str.extract(r'[Tt](\\S)')[0].str.lower().value_counts().head(10)"
   ]
  },
  {
   "cell_type": "code",
   "execution_count": 51,
   "metadata": {},
   "outputs": [
    {
     "data": {
      "text/plain": [
       "0    a\n",
       "1    e\n",
       "2    r\n",
       "3    h\n",
       "4    a\n",
       "Name: title, dtype: object"
      ]
     },
     "execution_count": 51,
     "metadata": {},
     "output_type": "execute_result"
    }
   ],
   "source": [
    "# there is an `expand` paramter that you can set to False to return a Series\n",
    "title.str.extract(r'[Tt](\\S)', expand=False).head()"
   ]
  },
  {
   "cell_type": "markdown",
   "metadata": {},
   "source": [
    "### Exercise 7\n",
    "\n",
    "<span style=\"color:green; font-size:16px\">Extract all the words that begin with 'T' or 't' and end in 'e' then find their frequency converting to lowercase first.</span>"
   ]
  },
  {
   "cell_type": "code",
   "execution_count": 52,
   "metadata": {},
   "outputs": [
    {
     "data": {
      "text/plain": [
       "the        1555\n",
       "time         26\n",
       "tale         12\n",
       "true         10\n",
       "three         8\n",
       "teenage       7\n",
       "take          6\n",
       "there         6\n",
       "trouble       4\n",
       "trade         4\n",
       "Name: 0, dtype: int64"
      ]
     },
     "execution_count": 52,
     "metadata": {},
     "output_type": "execute_result"
    }
   ],
   "source": [
    "title.str.extractall(r'\\b([tT]\\w*e)\\b')[0].str.lower().value_counts().head(10)"
   ]
  },
  {
   "cell_type": "markdown",
   "metadata": {},
   "source": [
    "### Exercise 8\n",
    "\n",
    "<span style=\"color:green; font-size:16px\">Find all movies containing a 6, 7, and 8 character word.</span>"
   ]
  },
  {
   "cell_type": "code",
   "execution_count": 53,
   "metadata": {},
   "outputs": [
    {
     "data": {
      "text/plain": [
       "10                     Batman v Superman: Dawn of Justice\n",
       "101                   The Curious Case of Benjamin Button\n",
       "193              Harry Potter and the Prisoner of Azkaban\n",
       "209                    Sherlock Holmes: A Game of Shadows\n",
       "223                       Charlie's Angels: Full Throttle\n",
       "1239                         Aliens vs. Predator: Requiem\n",
       "1736                              Florence Foster Jenkins\n",
       "1775                How to Lose Friends & Alienate People\n",
       "2075                       Deuce Bigalow: European Gigolo\n",
       "2113                              Silver Linings Playbook\n",
       "2365    Borat: Cultural Learnings of America for Make ...\n",
       "2711          Dungeons & Dragons: Wrath of the Dragon God\n",
       "2894                              Johnson Family Vacation\n",
       "3283     The Haunting in Connecticut 2: Ghosts of Georgia\n",
       "4110    Marilyn Hotchkiss' Ballroom Dancing and Charm ...\n",
       "4373    The 41-Year-Old Virgin Who Knocked Up Sarah Ma...\n",
       "Name: title, dtype: object"
      ]
     },
     "execution_count": 53,
     "metadata": {},
     "output_type": "execute_result"
    }
   ],
   "source": [
    "find_pattern(title, r'^(?=.*\\b\\w{6}\\b)(?=.*\\b\\w{7}\\b)(?=.*\\b\\w{8}\\b)')"
   ]
  },
  {
   "cell_type": "markdown",
   "metadata": {},
   "source": [
    "### Exercise 9\n",
    "\n",
    "<span style=\"color:green; font-size:16px\">Find all movies that have a `'q'` that is not followed by a `'u'`.</span>"
   ]
  },
  {
   "cell_type": "code",
   "execution_count": 54,
   "metadata": {},
   "outputs": [
    {
     "data": {
      "text/plain": [
       "1366                               John Q\n",
       "3294           Valley of the Wolves: Iraq\n",
       "4403                                    Q\n",
       "4566    Iraq for Sale: The War Profiteers\n",
       "Name: title, dtype: object"
      ]
     },
     "execution_count": 54,
     "metadata": {},
     "output_type": "execute_result"
    }
   ],
   "source": [
    "find_pattern(title, r'q(?!u)', flags=re.I)"
   ]
  },
  {
   "cell_type": "markdown",
   "metadata": {},
   "source": [
    "### Exercise 10\n",
    "\n",
    "<span style=\"color:green; font-size:16px\">Find all movies containing an `'s'` that is not preceded by a vowel or a single quote mark. The `'s'` cannot be the first or last letter of the word. Ignore case.</span>"
   ]
  },
  {
   "cell_type": "code",
   "execution_count": 55,
   "metadata": {},
   "outputs": [
    {
     "data": {
      "text/plain": [
       "29                         Jurassic World\n",
       "35                    Monsters University\n",
       "36    Transformers: Revenge of the Fallen\n",
       "37        Transformers: Age of Extinction\n",
       "50                       The Great Gatsby\n",
       "Name: title, dtype: object"
      ]
     },
     "execution_count": 55,
     "metadata": {},
     "output_type": "execute_result"
    }
   ],
   "source": [
    "find_pattern(title, r\"^.*(?<![aeiou'])\\Bs\\B\", flags=re.I).head()"
   ]
  },
  {
   "cell_type": "markdown",
   "metadata": {},
   "source": [
    "### Exercise 11\n",
    "\n",
    "<span style=\"color:green; font-size:16px\">Find all movies where the first four characters of the first word repeat at least 10 characters after the fourth character somewhere else in the title. Use a named group.</span>"
   ]
  },
  {
   "cell_type": "code",
   "execution_count": 56,
   "metadata": {},
   "outputs": [
    {
     "name": "stderr",
     "output_type": "stream",
     "text": [
      "<ipython-input-2-05d4d3623bbf>:4: UserWarning: This pattern has match groups. To actually get the groups, use str.extract.\n",
      "  filt = s.str.contains(pattern, **kwargs)\n"
     ]
    },
    {
     "data": {
      "text/plain": [
       "1690    Hoodwinked Too! Hood vs. Evil\n",
       "3412       Good Night, and Good Luck.\n",
       "Name: title, dtype: object"
      ]
     },
     "execution_count": 56,
     "metadata": {},
     "output_type": "execute_result"
    }
   ],
   "source": [
    "find_pattern(title, r'^(?P<first_four>\\w{4}).{10,}(?P=first_four)')"
   ]
  },
  {
   "cell_type": "markdown",
   "metadata": {},
   "source": [
    "### Exercise 12\n",
    "\n",
    "<span style=\"color:green; font-size:16px\">Find all movies that repeat one character three or more times in a row.</span>"
   ]
  },
  {
   "cell_type": "code",
   "execution_count": 57,
   "metadata": {},
   "outputs": [
    {
     "name": "stderr",
     "output_type": "stream",
     "text": [
      "<ipython-input-2-05d4d3623bbf>:4: UserWarning: This pattern has match groups. To actually get the groups, use str.extract.\n",
      "  filt = s.str.contains(pattern, **kwargs)\n"
     ]
    },
    {
     "data": {
      "text/plain": [
       "140                          Mission: Impossible III\n",
       "233     Star Wars: Episode III - Revenge of the Sith\n",
       "276                                      10,000 B.C.\n",
       "340                                Jurassic Park III\n",
       "474                                    Fantasia 2000\n",
       "697                          3000 Miles to Graceland\n",
       "810                                        Rambo III\n",
       "886                          The Godfather: Part III\n",
       "972                            Beverly Hills Cop III\n",
       "1191                     Back to the Future Part III\n",
       "Name: title, dtype: object"
      ]
     },
     "execution_count": 57,
     "metadata": {},
     "output_type": "execute_result"
    }
   ],
   "source": [
    "find_pattern(title, r'(.)\\1\\1').head(10)"
   ]
  },
  {
   "cell_type": "markdown",
   "metadata": {},
   "source": [
    "### Exercise 13\n",
    "\n",
    "<span style=\"color:green; font-size:16px\">Find all movies where a word of at least four characters in length repeats but has a different starting letter. For example, `'Hocus Pocus'` and `'Kill Bill'` both work.</span>"
   ]
  },
  {
   "cell_type": "code",
   "execution_count": 58,
   "metadata": {},
   "outputs": [
    {
     "name": "stderr",
     "output_type": "stream",
     "text": [
      "<ipython-input-2-05d4d3623bbf>:4: UserWarning: This pattern has match groups. To actually get the groups, use str.extract.\n",
      "  filt = s.str.contains(pattern, **kwargs)\n"
     ]
    },
    {
     "data": {
      "text/plain": [
       "846                       Kill Bill: Vol. 1\n",
       "849                       Kill Bill: Vol. 2\n",
       "1616                              Like Mike\n",
       "1650    What's the Worst That Could Happen?\n",
       "1754                            Hocus Pocus\n",
       "1831                            Pain & Gain\n",
       "4461                    Walking and Talking\n",
       "4602        They Will Have to Kill Us First\n",
       "Name: title, dtype: object"
      ]
     },
     "execution_count": 58,
     "metadata": {},
     "output_type": "execute_result"
    }
   ],
   "source": [
    "find_pattern(title, r'\\b(\\w)(\\w{3,})\\b.*\\b(?!\\1)\\w\\2\\b')"
   ]
  },
  {
   "cell_type": "markdown",
   "metadata": {},
   "source": [
    "### Exercise 14\n",
    "\n",
    "<span style=\"color:green; font-size:16px\">Extract all characters from the first digit through the last. Output the first 10 non-missing rows.</span>"
   ]
  },
  {
   "cell_type": "code",
   "execution_count": 59,
   "metadata": {},
   "outputs": [
    {
     "data": {
      "text/html": [
       "<div>\n",
       "<style scoped>\n",
       "    .dataframe tbody tr th:only-of-type {\n",
       "        vertical-align: middle;\n",
       "    }\n",
       "\n",
       "    .dataframe tbody tr th {\n",
       "        vertical-align: top;\n",
       "    }\n",
       "\n",
       "    .dataframe thead th {\n",
       "        text-align: right;\n",
       "    }\n",
       "</style>\n",
       "<table border=\"1\" class=\"dataframe\">\n",
       "  <thead>\n",
       "    <tr style=\"text-align: right;\">\n",
       "      <th></th>\n",
       "      <th>0</th>\n",
       "    </tr>\n",
       "  </thead>\n",
       "  <tbody>\n",
       "    <tr>\n",
       "      <th>60</th>\n",
       "      <td>2012</td>\n",
       "    </tr>\n",
       "    <tr>\n",
       "      <th>85</th>\n",
       "      <td>47</td>\n",
       "    </tr>\n",
       "    <tr>\n",
       "      <th>212</th>\n",
       "      <td>13</td>\n",
       "    </tr>\n",
       "    <tr>\n",
       "      <th>258</th>\n",
       "      <td>300</td>\n",
       "    </tr>\n",
       "    <tr>\n",
       "      <th>268</th>\n",
       "      <td>80</td>\n",
       "    </tr>\n",
       "    <tr>\n",
       "      <th>276</th>\n",
       "      <td>10,000</td>\n",
       "    </tr>\n",
       "    <tr>\n",
       "      <th>289</th>\n",
       "      <td>1 2 3</td>\n",
       "    </tr>\n",
       "    <tr>\n",
       "      <th>384</th>\n",
       "      <td>19</td>\n",
       "    </tr>\n",
       "    <tr>\n",
       "      <th>400</th>\n",
       "      <td>102</td>\n",
       "    </tr>\n",
       "    <tr>\n",
       "      <th>474</th>\n",
       "      <td>2000</td>\n",
       "    </tr>\n",
       "  </tbody>\n",
       "</table>\n",
       "</div>"
      ],
      "text/plain": [
       "          0\n",
       "60     2012\n",
       "85       47\n",
       "212      13\n",
       "258     300\n",
       "268      80\n",
       "276  10,000\n",
       "289   1 2 3\n",
       "384      19\n",
       "400     102\n",
       "474    2000"
      ]
     },
     "execution_count": 59,
     "metadata": {},
     "output_type": "execute_result"
    }
   ],
   "source": [
    "title.str.extract(r'(\\d.*\\d)').dropna().head(10)"
   ]
  },
  {
   "cell_type": "markdown",
   "metadata": {},
   "source": [
    "### Exercise 15\n",
    "\n",
    "<span style=\"color:green; font-size:16px\">Extract all characters from the first digit through the second digit. Output the first 10 non-missing rows.</span>"
   ]
  },
  {
   "cell_type": "code",
   "execution_count": 60,
   "metadata": {},
   "outputs": [
    {
     "data": {
      "text/html": [
       "<div>\n",
       "<style scoped>\n",
       "    .dataframe tbody tr th:only-of-type {\n",
       "        vertical-align: middle;\n",
       "    }\n",
       "\n",
       "    .dataframe tbody tr th {\n",
       "        vertical-align: top;\n",
       "    }\n",
       "\n",
       "    .dataframe thead th {\n",
       "        text-align: right;\n",
       "    }\n",
       "</style>\n",
       "<table border=\"1\" class=\"dataframe\">\n",
       "  <thead>\n",
       "    <tr style=\"text-align: right;\">\n",
       "      <th></th>\n",
       "      <th>0</th>\n",
       "    </tr>\n",
       "  </thead>\n",
       "  <tbody>\n",
       "    <tr>\n",
       "      <th>60</th>\n",
       "      <td>20</td>\n",
       "    </tr>\n",
       "    <tr>\n",
       "      <th>85</th>\n",
       "      <td>47</td>\n",
       "    </tr>\n",
       "    <tr>\n",
       "      <th>212</th>\n",
       "      <td>13</td>\n",
       "    </tr>\n",
       "    <tr>\n",
       "      <th>258</th>\n",
       "      <td>30</td>\n",
       "    </tr>\n",
       "    <tr>\n",
       "      <th>268</th>\n",
       "      <td>80</td>\n",
       "    </tr>\n",
       "    <tr>\n",
       "      <th>276</th>\n",
       "      <td>10</td>\n",
       "    </tr>\n",
       "    <tr>\n",
       "      <th>289</th>\n",
       "      <td>1 2</td>\n",
       "    </tr>\n",
       "    <tr>\n",
       "      <th>384</th>\n",
       "      <td>19</td>\n",
       "    </tr>\n",
       "    <tr>\n",
       "      <th>400</th>\n",
       "      <td>10</td>\n",
       "    </tr>\n",
       "    <tr>\n",
       "      <th>474</th>\n",
       "      <td>20</td>\n",
       "    </tr>\n",
       "  </tbody>\n",
       "</table>\n",
       "</div>"
      ],
      "text/plain": [
       "       0\n",
       "60    20\n",
       "85    47\n",
       "212   13\n",
       "258   30\n",
       "268   80\n",
       "276   10\n",
       "289  1 2\n",
       "384   19\n",
       "400   10\n",
       "474   20"
      ]
     },
     "execution_count": 60,
     "metadata": {},
     "output_type": "execute_result"
    }
   ],
   "source": [
    "title.str.extract(r'(\\d.*?\\d)').dropna().head(10)"
   ]
  },
  {
   "cell_type": "markdown",
   "metadata": {},
   "source": [
    "### Exercise 16\n",
    "\n",
    "<span style=\"color:green; font-size:16px\">Extract all characters from the first word that ends in `'e'` through the next word that ends in `'e'`. Ignore case.</span>"
   ]
  },
  {
   "cell_type": "code",
   "execution_count": 61,
   "metadata": {},
   "outputs": [
    {
     "data": {
      "text/html": [
       "<div>\n",
       "<style scoped>\n",
       "    .dataframe tbody tr th:only-of-type {\n",
       "        vertical-align: middle;\n",
       "    }\n",
       "\n",
       "    .dataframe tbody tr th {\n",
       "        vertical-align: top;\n",
       "    }\n",
       "\n",
       "    .dataframe thead th {\n",
       "        text-align: right;\n",
       "    }\n",
       "</style>\n",
       "<table border=\"1\" class=\"dataframe\">\n",
       "  <thead>\n",
       "    <tr style=\"text-align: right;\">\n",
       "      <th></th>\n",
       "      <th>0</th>\n",
       "    </tr>\n",
       "  </thead>\n",
       "  <tbody>\n",
       "    <tr>\n",
       "      <th>4</th>\n",
       "      <td>Episode VII - The</td>\n",
       "    </tr>\n",
       "    <tr>\n",
       "      <th>9</th>\n",
       "      <td>the Half-Blood Prince</td>\n",
       "    </tr>\n",
       "    <tr>\n",
       "      <th>14</th>\n",
       "      <td>The Lone</td>\n",
       "    </tr>\n",
       "    <tr>\n",
       "      <th>16</th>\n",
       "      <td>The Chronicles of Narnia: Prince</td>\n",
       "    </tr>\n",
       "    <tr>\n",
       "      <th>20</th>\n",
       "      <td>The Hobbit: The</td>\n",
       "    </tr>\n",
       "    <tr>\n",
       "      <th>...</th>\n",
       "      <td>...</td>\n",
       "    </tr>\n",
       "    <tr>\n",
       "      <th>4863</th>\n",
       "      <td>The Naked Ape</td>\n",
       "    </tr>\n",
       "    <tr>\n",
       "      <th>4868</th>\n",
       "      <td>The Image</td>\n",
       "    </tr>\n",
       "    <tr>\n",
       "      <th>4876</th>\n",
       "      <td>Hide, Die</td>\n",
       "    </tr>\n",
       "    <tr>\n",
       "      <th>4900</th>\n",
       "      <td>The Circle</td>\n",
       "    </tr>\n",
       "    <tr>\n",
       "      <th>4902</th>\n",
       "      <td>The Cure</td>\n",
       "    </tr>\n",
       "  </tbody>\n",
       "</table>\n",
       "<p>684 rows × 1 columns</p>\n",
       "</div>"
      ],
      "text/plain": [
       "                                     0\n",
       "4                    Episode VII - The\n",
       "9                the Half-Blood Prince\n",
       "14                            The Lone\n",
       "16    The Chronicles of Narnia: Prince\n",
       "20                     The Hobbit: The\n",
       "...                                ...\n",
       "4863                     The Naked Ape\n",
       "4868                         The Image\n",
       "4876                         Hide, Die\n",
       "4900                        The Circle\n",
       "4902                          The Cure\n",
       "\n",
       "[684 rows x 1 columns]"
      ]
     },
     "execution_count": 61,
     "metadata": {},
     "output_type": "execute_result"
    }
   ],
   "source": [
    "title.str.extract(r'(\\b\\w*?e\\b.*?e\\b)', flags=re.I).dropna()"
   ]
  },
  {
   "cell_type": "markdown",
   "metadata": {},
   "source": [
    "## 5. Multiline Regex Patterns"
   ]
  },
  {
   "cell_type": "code",
   "execution_count": 62,
   "metadata": {},
   "outputs": [
    {
     "data": {
      "text/html": [
       "<div>\n",
       "<style scoped>\n",
       "    .dataframe tbody tr th:only-of-type {\n",
       "        vertical-align: middle;\n",
       "    }\n",
       "\n",
       "    .dataframe tbody tr th {\n",
       "        vertical-align: top;\n",
       "    }\n",
       "\n",
       "    .dataframe thead th {\n",
       "        text-align: right;\n",
       "    }\n",
       "</style>\n",
       "<table border=\"1\" class=\"dataframe\">\n",
       "  <thead>\n",
       "    <tr style=\"text-align: right;\">\n",
       "      <th></th>\n",
       "      <th>category</th>\n",
       "      <th>text</th>\n",
       "    </tr>\n",
       "  </thead>\n",
       "  <tbody>\n",
       "    <tr>\n",
       "      <th>0</th>\n",
       "      <td>sci.med</td>\n",
       "      <td>From: nyeda@cnsvax.uwec.edu (David Nye)\\nSubje...</td>\n",
       "    </tr>\n",
       "    <tr>\n",
       "      <th>1</th>\n",
       "      <td>talk.politics.guns</td>\n",
       "      <td>From: ndallen@r-node.hub.org (Nigel Allen)\\nSu...</td>\n",
       "    </tr>\n",
       "    <tr>\n",
       "      <th>2</th>\n",
       "      <td>misc.forsale</td>\n",
       "      <td>From: mark@ardsley.business.uwo.ca (Mark Bramw...</td>\n",
       "    </tr>\n",
       "    <tr>\n",
       "      <th>3</th>\n",
       "      <td>misc.forsale</td>\n",
       "      <td>From: zmed16@trc.amoco.com (Michael)\\nSubject:...</td>\n",
       "    </tr>\n",
       "    <tr>\n",
       "      <th>4</th>\n",
       "      <td>talk.politics.guns</td>\n",
       "      <td>From: fcrary@ucsu.Colorado.EDU (Frank Crary)\\n...</td>\n",
       "    </tr>\n",
       "  </tbody>\n",
       "</table>\n",
       "</div>"
      ],
      "text/plain": [
       "             category                                               text\n",
       "0             sci.med  From: nyeda@cnsvax.uwec.edu (David Nye)\\nSubje...\n",
       "1  talk.politics.guns  From: ndallen@r-node.hub.org (Nigel Allen)\\nSu...\n",
       "2        misc.forsale  From: mark@ardsley.business.uwo.ca (Mark Bramw...\n",
       "3        misc.forsale  From: zmed16@trc.amoco.com (Michael)\\nSubject:...\n",
       "4  talk.politics.guns  From: fcrary@ucsu.Colorado.EDU (Frank Crary)\\n..."
      ]
     },
     "execution_count": 62,
     "metadata": {},
     "output_type": "execute_result"
    }
   ],
   "source": [
    "news = pd.read_csv('../data/newsgroups.csv')\n",
    "news.head()"
   ]
  },
  {
   "cell_type": "code",
   "execution_count": 63,
   "metadata": {},
   "outputs": [],
   "source": [
    "text = news['text']"
   ]
  },
  {
   "cell_type": "markdown",
   "metadata": {},
   "source": [
    "### Exercise 1\n",
    "\n",
    "<span style=\"color:green; font-size:16px\">Find the number of messages that have at least one line that begins with `'The'` and ends with a period.</span>"
   ]
  },
  {
   "cell_type": "code",
   "execution_count": 64,
   "metadata": {},
   "outputs": [
    {
     "data": {
      "text/plain": [
       "15"
      ]
     },
     "execution_count": 64,
     "metadata": {},
     "output_type": "execute_result"
    }
   ],
   "source": [
    "find_pattern(text, r'^The.*\\.$', flags=re.M).size"
   ]
  },
  {
   "cell_type": "markdown",
   "metadata": {},
   "source": [
    "### Exercise 2\n",
    "\n",
    "<span style=\"color:green; font-size:16px\">Find the messages that do not start with the word `'From'`.</span>"
   ]
  },
  {
   "cell_type": "code",
   "execution_count": 65,
   "metadata": {},
   "outputs": [
    {
     "data": {
      "text/plain": [
       "16     Subject: help for school\\nFrom: mcrandall@eagl...\n",
       "23     Subject: Re: PHILS, NL EAST NOT SO WEAK\\nFrom:...\n",
       "66     Organization: University of Illinois at Chicag...\n",
       "82     Organization: University of Illinois at Chicag...\n",
       "96     Subject: Life on Mars???\\nFrom: schiewer@pa881...\n",
       "162    Subject: Re: FORSALE: Men Without Hats- Folk o...\n",
       "176    Nntp-Posting-Host: surt.ifi.uio.no\\nFrom: Thom...\n",
       "180    Subject: After-Market Cruise Controls: Specifi...\n",
       "195    Subject: CDs for sale [update]\\nFrom: koutd@hi...\n",
       "213    Organization: University of Illinois at Chicag...\n",
       "214    Subject: Space FAQ 01/15 - Introduction\\nFrom:...\n",
       "226    Organization: University of Illinois at Chicag...\n",
       "227    Organization: Ryerson Polytechnical Institute\\...\n",
       "253    Subject: Re: Can't Breathe -- Update\\nFrom: RG...\n",
       "306    Subject: EXPERTS on PENICILLIN...LOOK!\\nFrom: ...\n",
       "317    Subject: Re: Non-lethal alternatives to handgu...\n",
       "389    Organization: University of Illinois at Chicag...\n",
       "399    Subject: STARGARDTS DISEASE\\nFrom: kmcvay@oneb...\n",
       "Name: text, dtype: object"
      ]
     },
     "execution_count": 65,
     "metadata": {},
     "output_type": "execute_result"
    }
   ],
   "source": [
    "find_pattern(text, r'^(?!From)')"
   ]
  },
  {
   "cell_type": "markdown",
   "metadata": {},
   "source": [
    "### Exercise 3\n",
    "\n",
    "<span style=\"color:green; font-size:16px\">Extract the first word from the messages that do not start with the word `'From'` and then count the occurrences of each of these words.</span>"
   ]
  },
  {
   "cell_type": "code",
   "execution_count": 66,
   "metadata": {},
   "outputs": [
    {
     "data": {
      "text/plain": [
       "Subject         11\n",
       "Organization     6\n",
       "Nntp             1\n",
       "dtype: int64"
      ]
     },
     "execution_count": 66,
     "metadata": {},
     "output_type": "execute_result"
    }
   ],
   "source": [
    "text.str.extract('^(?!From)(\\w+)').value_counts()"
   ]
  },
  {
   "cell_type": "markdown",
   "metadata": {},
   "source": [
    "### Exercise 4\n",
    "\n",
    "<span style=\"color:green; font-size:16px\">Extract the header of each message. These are the lines at the top that begin with `From`, `Subject`, `Organization`, etc... and assign it to a variable named `header`. Take a look at a few of the individual messages to understand what pattern would work best. Make sure `header` is a Series of strings.</span>"
   ]
  },
  {
   "cell_type": "code",
   "execution_count": 67,
   "metadata": {},
   "outputs": [
    {
     "data": {
      "text/plain": [
       "0    From: nyeda@cnsvax.uwec.edu (David Nye)\\nSubje...\n",
       "1    From: ndallen@r-node.hub.org (Nigel Allen)\\nSu...\n",
       "2    From: mark@ardsley.business.uwo.ca (Mark Bramw...\n",
       "3    From: zmed16@trc.amoco.com (Michael)\\nSubject:...\n",
       "4    From: fcrary@ucsu.Colorado.EDU (Frank Crary)\\n...\n",
       "Name: text, dtype: object"
      ]
     },
     "execution_count": 67,
     "metadata": {},
     "output_type": "execute_result"
    }
   ],
   "source": [
    "# assume that two newlines separate the body and header\n",
    "header = text.str.extract(r'^(.*?)\\n\\n', flags=re.S, expand=False)\n",
    "header.head()"
   ]
  },
  {
   "cell_type": "markdown",
   "metadata": {},
   "source": [
    "Printing out an example of one of the headers"
   ]
  },
  {
   "cell_type": "code",
   "execution_count": 68,
   "metadata": {},
   "outputs": [
    {
     "name": "stdout",
     "output_type": "stream",
     "text": [
      "From: c23reg@kocrsv01.delcoelect.com (Ron Gaskins)\n",
      "Subject: Re: Dumbest automotive concepts of all tim\n",
      "Originator: c23reg@koptsw21\n",
      "Keywords: Dimmer switch location (repost)\n",
      "Organization: Delco Electronics Corp.\n",
      "Lines: 22\n"
     ]
    }
   ],
   "source": [
    "print(header.iloc[100])"
   ]
  },
  {
   "cell_type": "markdown",
   "metadata": {},
   "source": [
    "### Exercise 5\n",
    "\n",
    "<span style=\"color:green; font-size:16px\">Use the`extractall` method to extract two groups from the header. For all lines that do not begin with a space, extract the first word up to but not including the colon. That is the first group. Extract the remaining characters to the right of the colon as the second group. Name the groups `'property'` and `'value'`.</span>"
   ]
  },
  {
   "cell_type": "code",
   "execution_count": 69,
   "metadata": {},
   "outputs": [
    {
     "data": {
      "text/html": [
       "<div>\n",
       "<style scoped>\n",
       "    .dataframe tbody tr th:only-of-type {\n",
       "        vertical-align: middle;\n",
       "    }\n",
       "\n",
       "    .dataframe tbody tr th {\n",
       "        vertical-align: top;\n",
       "    }\n",
       "\n",
       "    .dataframe thead th {\n",
       "        text-align: right;\n",
       "    }\n",
       "</style>\n",
       "<table border=\"1\" class=\"dataframe\">\n",
       "  <thead>\n",
       "    <tr style=\"text-align: right;\">\n",
       "      <th></th>\n",
       "      <th></th>\n",
       "      <th>property</th>\n",
       "      <th>value</th>\n",
       "    </tr>\n",
       "    <tr>\n",
       "      <th></th>\n",
       "      <th>match</th>\n",
       "      <th></th>\n",
       "      <th></th>\n",
       "    </tr>\n",
       "  </thead>\n",
       "  <tbody>\n",
       "    <tr>\n",
       "      <th rowspan=\"4\" valign=\"top\">0</th>\n",
       "      <th>0</th>\n",
       "      <td>From</td>\n",
       "      <td>nyeda@cnsvax.uwec.edu (David Nye)</td>\n",
       "    </tr>\n",
       "    <tr>\n",
       "      <th>1</th>\n",
       "      <td>Subject</td>\n",
       "      <td>Re: Post Polio Syndrome Information Needed Ple...</td>\n",
       "    </tr>\n",
       "    <tr>\n",
       "      <th>2</th>\n",
       "      <td>Organization</td>\n",
       "      <td>University of Wisconsin Eau Claire</td>\n",
       "    </tr>\n",
       "    <tr>\n",
       "      <th>3</th>\n",
       "      <td>Lines</td>\n",
       "      <td>21</td>\n",
       "    </tr>\n",
       "    <tr>\n",
       "      <th rowspan=\"4\" valign=\"top\">1</th>\n",
       "      <th>0</th>\n",
       "      <td>From</td>\n",
       "      <td>ndallen@r-node.hub.org (Nigel Allen)</td>\n",
       "    </tr>\n",
       "    <tr>\n",
       "      <th>1</th>\n",
       "      <td>Subject</td>\n",
       "      <td>WACO: Clinton press conference, part 1</td>\n",
       "    </tr>\n",
       "    <tr>\n",
       "      <th>2</th>\n",
       "      <td>Organization</td>\n",
       "      <td>R-node Public Access Unix - 1 416 249 5366</td>\n",
       "    </tr>\n",
       "    <tr>\n",
       "      <th>3</th>\n",
       "      <td>Lines</td>\n",
       "      <td>282</td>\n",
       "    </tr>\n",
       "    <tr>\n",
       "      <th rowspan=\"2\" valign=\"top\">2</th>\n",
       "      <th>0</th>\n",
       "      <td>From</td>\n",
       "      <td>mark@ardsley.business.uwo.ca (Mark Bramwell)</td>\n",
       "    </tr>\n",
       "    <tr>\n",
       "      <th>1</th>\n",
       "      <td>Subject</td>\n",
       "      <td>Re: Cellular Phone (Portable) for sale</td>\n",
       "    </tr>\n",
       "  </tbody>\n",
       "</table>\n",
       "</div>"
      ],
      "text/plain": [
       "             property                                              value\n",
       "  match                                                                 \n",
       "0 0              From                  nyeda@cnsvax.uwec.edu (David Nye)\n",
       "  1           Subject  Re: Post Polio Syndrome Information Needed Ple...\n",
       "  2      Organization                 University of Wisconsin Eau Claire\n",
       "  3             Lines                                                 21\n",
       "1 0              From               ndallen@r-node.hub.org (Nigel Allen)\n",
       "  1           Subject             WACO: Clinton press conference, part 1\n",
       "  2      Organization         R-node Public Access Unix - 1 416 249 5366\n",
       "  3             Lines                                                282\n",
       "2 0              From       mark@ardsley.business.uwo.ca (Mark Bramwell)\n",
       "  1           Subject             Re: Cellular Phone (Portable) for sale"
      ]
     },
     "execution_count": 69,
     "metadata": {},
     "output_type": "execute_result"
    }
   ],
   "source": [
    "pattern = r'^(?P<property>\\S+): (?P<value>.*)'\n",
    "df = header.str.extractall(pattern, flags=re.M)\n",
    "df.head(10)"
   ]
  },
  {
   "cell_type": "markdown",
   "metadata": {},
   "source": [
    "The second group occasionally spans across multiple lines and when that occurs that line does not begin with a space. See the example of message header 176. Both `'In-Reply-To'` and `'Organization'` span multiple lines."
   ]
  },
  {
   "cell_type": "code",
   "execution_count": 70,
   "metadata": {},
   "outputs": [
    {
     "name": "stdout",
     "output_type": "stream",
     "text": [
      "Nntp-Posting-Host: surt.ifi.uio.no\n",
      "From: Thomas Parsli <thomasp@ifi.uio.no>\n",
      "Subject: Re: Rewording the Second Amendment (ideas)\n",
      "In-Reply-To: arc@cco.caltech.edu (Aaron Ray Clements)'s message of 21 Apr\n",
      "        1993 12:34:51 GMT\n",
      "Organization: Dept. of Informatics, University of Oslo, Norway\n",
      "        <1993Apr20.083057.16899@ousrvr.oulu.fi>\n",
      "        <viking.735378520@ponderous.cc.iastate.edu>\n",
      "        <1993Apr21.091130.17788@ousrvr.oulu.fi>\n",
      "        <1r3f1bINN3n6@gap.caltech.edu>\n",
      "Lines: 24\n",
      "Originator: thomasp@surt.ifi.uio.no\n"
     ]
    }
   ],
   "source": [
    "print(header.loc[176])"
   ]
  },
  {
   "cell_type": "markdown",
   "metadata": {},
   "source": [
    "Our original pattern did not extract these extra lines."
   ]
  },
  {
   "cell_type": "code",
   "execution_count": 71,
   "metadata": {},
   "outputs": [
    {
     "data": {
      "text/html": [
       "<div>\n",
       "<style scoped>\n",
       "    .dataframe tbody tr th:only-of-type {\n",
       "        vertical-align: middle;\n",
       "    }\n",
       "\n",
       "    .dataframe tbody tr th {\n",
       "        vertical-align: top;\n",
       "    }\n",
       "\n",
       "    .dataframe thead th {\n",
       "        text-align: right;\n",
       "    }\n",
       "</style>\n",
       "<table border=\"1\" class=\"dataframe\">\n",
       "  <thead>\n",
       "    <tr style=\"text-align: right;\">\n",
       "      <th></th>\n",
       "      <th>property</th>\n",
       "      <th>value</th>\n",
       "    </tr>\n",
       "    <tr>\n",
       "      <th>match</th>\n",
       "      <th></th>\n",
       "      <th></th>\n",
       "    </tr>\n",
       "  </thead>\n",
       "  <tbody>\n",
       "    <tr>\n",
       "      <th>0</th>\n",
       "      <td>Nntp-Posting-Host</td>\n",
       "      <td>surt.ifi.uio.no</td>\n",
       "    </tr>\n",
       "    <tr>\n",
       "      <th>1</th>\n",
       "      <td>From</td>\n",
       "      <td>Thomas Parsli &lt;thomasp@ifi.uio.no&gt;</td>\n",
       "    </tr>\n",
       "    <tr>\n",
       "      <th>2</th>\n",
       "      <td>Subject</td>\n",
       "      <td>Re: Rewording the Second Amendment (ideas)</td>\n",
       "    </tr>\n",
       "    <tr>\n",
       "      <th>3</th>\n",
       "      <td>In-Reply-To</td>\n",
       "      <td>arc@cco.caltech.edu (Aaron Ray Clements)'s mes...</td>\n",
       "    </tr>\n",
       "    <tr>\n",
       "      <th>4</th>\n",
       "      <td>Organization</td>\n",
       "      <td>Dept. of Informatics, University of Oslo, Norway</td>\n",
       "    </tr>\n",
       "    <tr>\n",
       "      <th>5</th>\n",
       "      <td>Lines</td>\n",
       "      <td>24</td>\n",
       "    </tr>\n",
       "    <tr>\n",
       "      <th>6</th>\n",
       "      <td>Originator</td>\n",
       "      <td>thomasp@surt.ifi.uio.no</td>\n",
       "    </tr>\n",
       "  </tbody>\n",
       "</table>\n",
       "</div>"
      ],
      "text/plain": [
       "                property                                              value\n",
       "match                                                                      \n",
       "0      Nntp-Posting-Host                                    surt.ifi.uio.no\n",
       "1                   From                 Thomas Parsli <thomasp@ifi.uio.no>\n",
       "2                Subject         Re: Rewording the Second Amendment (ideas)\n",
       "3            In-Reply-To  arc@cco.caltech.edu (Aaron Ray Clements)'s mes...\n",
       "4           Organization   Dept. of Informatics, University of Oslo, Norway\n",
       "5                  Lines                                                 24\n",
       "6             Originator                            thomasp@surt.ifi.uio.no"
      ]
     },
     "execution_count": 71,
     "metadata": {},
     "output_type": "execute_result"
    }
   ],
   "source": [
    "df.loc[176]"
   ]
  },
  {
   "cell_type": "markdown",
   "metadata": {},
   "source": [
    "To take care of this edge case, we use the dotall option so that the second group continues to match across newlines. A positive lookahead is used to match the end of a line, but a negative lookahead is used to make sure there is not a space after the newline."
   ]
  },
  {
   "cell_type": "code",
   "execution_count": 72,
   "metadata": {},
   "outputs": [
    {
     "data": {
      "text/html": [
       "<div>\n",
       "<style scoped>\n",
       "    .dataframe tbody tr th:only-of-type {\n",
       "        vertical-align: middle;\n",
       "    }\n",
       "\n",
       "    .dataframe tbody tr th {\n",
       "        vertical-align: top;\n",
       "    }\n",
       "\n",
       "    .dataframe thead th {\n",
       "        text-align: right;\n",
       "    }\n",
       "</style>\n",
       "<table border=\"1\" class=\"dataframe\">\n",
       "  <thead>\n",
       "    <tr style=\"text-align: right;\">\n",
       "      <th></th>\n",
       "      <th></th>\n",
       "      <th>property</th>\n",
       "      <th>value</th>\n",
       "    </tr>\n",
       "    <tr>\n",
       "      <th></th>\n",
       "      <th>match</th>\n",
       "      <th></th>\n",
       "      <th></th>\n",
       "    </tr>\n",
       "  </thead>\n",
       "  <tbody>\n",
       "    <tr>\n",
       "      <th rowspan=\"4\" valign=\"top\">0</th>\n",
       "      <th>0</th>\n",
       "      <td>From</td>\n",
       "      <td>nyeda@cnsvax.uwec.edu (David Nye)</td>\n",
       "    </tr>\n",
       "    <tr>\n",
       "      <th>1</th>\n",
       "      <td>Subject</td>\n",
       "      <td>Re: Post Polio Syndrome Information Needed Ple...</td>\n",
       "    </tr>\n",
       "    <tr>\n",
       "      <th>2</th>\n",
       "      <td>Organization</td>\n",
       "      <td>University of Wisconsin Eau Claire</td>\n",
       "    </tr>\n",
       "    <tr>\n",
       "      <th>3</th>\n",
       "      <td>Lines</td>\n",
       "      <td>21</td>\n",
       "    </tr>\n",
       "    <tr>\n",
       "      <th rowspan=\"4\" valign=\"top\">1</th>\n",
       "      <th>0</th>\n",
       "      <td>From</td>\n",
       "      <td>ndallen@r-node.hub.org (Nigel Allen)</td>\n",
       "    </tr>\n",
       "    <tr>\n",
       "      <th>1</th>\n",
       "      <td>Subject</td>\n",
       "      <td>WACO: Clinton press conference, part 1</td>\n",
       "    </tr>\n",
       "    <tr>\n",
       "      <th>2</th>\n",
       "      <td>Organization</td>\n",
       "      <td>R-node Public Access Unix - 1 416 249 5366</td>\n",
       "    </tr>\n",
       "    <tr>\n",
       "      <th>3</th>\n",
       "      <td>Lines</td>\n",
       "      <td>282</td>\n",
       "    </tr>\n",
       "    <tr>\n",
       "      <th rowspan=\"2\" valign=\"top\">2</th>\n",
       "      <th>0</th>\n",
       "      <td>From</td>\n",
       "      <td>mark@ardsley.business.uwo.ca (Mark Bramwell)</td>\n",
       "    </tr>\n",
       "    <tr>\n",
       "      <th>1</th>\n",
       "      <td>Subject</td>\n",
       "      <td>Re: Cellular Phone (Portable) for sale</td>\n",
       "    </tr>\n",
       "  </tbody>\n",
       "</table>\n",
       "</div>"
      ],
      "text/plain": [
       "             property                                              value\n",
       "  match                                                                 \n",
       "0 0              From                  nyeda@cnsvax.uwec.edu (David Nye)\n",
       "  1           Subject  Re: Post Polio Syndrome Information Needed Ple...\n",
       "  2      Organization                 University of Wisconsin Eau Claire\n",
       "  3             Lines                                                 21\n",
       "1 0              From               ndallen@r-node.hub.org (Nigel Allen)\n",
       "  1           Subject             WACO: Clinton press conference, part 1\n",
       "  2      Organization         R-node Public Access Unix - 1 416 249 5366\n",
       "  3             Lines                                                282\n",
       "2 0              From       mark@ardsley.business.uwo.ca (Mark Bramwell)\n",
       "  1           Subject             Re: Cellular Phone (Portable) for sale"
      ]
     },
     "execution_count": 72,
     "metadata": {},
     "output_type": "execute_result"
    }
   ],
   "source": [
    "pattern = r'^(?P<property>\\S+): (?P<value>.*?)(?=$)(?!\\n\\s)'\n",
    "df = header.str.extractall(pattern, flags=re.M | re.S)\n",
    "df.head(10)"
   ]
  },
  {
   "cell_type": "markdown",
   "metadata": {},
   "source": [
    "### Exercise 6\n",
    "\n",
    "<span style=\"color:green; font-size:16px\">Attempt to extract all emails from each message. If you are up for a serious challenge, use the exact specifications for [valid email addresses](https://en.wikipedia.org/wiki/Email_address). The solution presented finds the most common types of emails.</span>"
   ]
  },
  {
   "cell_type": "code",
   "execution_count": 73,
   "metadata": {},
   "outputs": [
    {
     "data": {
      "text/plain": [
       "   match\n",
       "0  0               nyeda@cnsvax.uwec.edu\n",
       "   1                 keith@actrix.gen.nz\n",
       "   2               nyeda@cnsvax.uwec.edu\n",
       "1  0              ndallen@r-node.hub.org\n",
       "2  0        mark@ardsley.business.uwo.ca\n",
       "Name: 0, dtype: object"
      ]
     },
     "execution_count": 73,
     "metadata": {},
     "output_type": "execute_result"
    }
   ],
   "source": [
    "emails = text.str.extractall(r'(\\w[\\w.-]*?\\w@\\w[\\w.-]*\\w)(?<![-._])')[0].str.lower()\n",
    "emails.head()"
   ]
  },
  {
   "cell_type": "markdown",
   "metadata": {},
   "source": [
    "### Exercise 7\n",
    "\n",
    "<span style=\"color:green; font-size:16px\">From each email found, extract the characters after the last dot of each email (usually com, edu, org, etc...), make them lowercase, and count the occurrences of each.</span>"
   ]
  },
  {
   "cell_type": "code",
   "execution_count": 74,
   "metadata": {},
   "outputs": [
    {
     "data": {
      "text/plain": [
       "edu       676\n",
       "com       360\n",
       "gov        69\n",
       "ca         49\n",
       "org        29\n",
       "bitnet     13\n",
       "net        13\n",
       "uucp       12\n",
       "au         11\n",
       "uk         10\n",
       "Name: 0, dtype: int64"
      ]
     },
     "execution_count": 74,
     "metadata": {},
     "output_type": "execute_result"
    }
   ],
   "source": [
    "emails.str.extract('.*\\.(.*)$')[0].str.lower().value_counts().head(10)"
   ]
  },
  {
   "cell_type": "markdown",
   "metadata": {},
   "source": [
    "### Exercise 8\n",
    "\n",
    "<span style=\"color:green; font-size:16px\">Extract the number of lines of each message as the integer following the word `'Lines:'` in the header. Find the average number of lines per message.</span>"
   ]
  },
  {
   "cell_type": "code",
   "execution_count": 75,
   "metadata": {},
   "outputs": [
    {
     "data": {
      "text/plain": [
       "0     21.0\n",
       "1    282.0\n",
       "2     19.0\n",
       "3     12.0\n",
       "4     62.0\n",
       "Name: text, dtype: float64"
      ]
     },
     "execution_count": 75,
     "metadata": {},
     "output_type": "execute_result"
    }
   ],
   "source": [
    "lines = text.str.extract('Lines: (\\d+)', expand=False).astype('float64')\n",
    "lines.head()"
   ]
  },
  {
   "cell_type": "code",
   "execution_count": 76,
   "metadata": {},
   "outputs": [
    {
     "data": {
      "text/plain": [
       "36.94486215538847"
      ]
     },
     "execution_count": 76,
     "metadata": {},
     "output_type": "execute_result"
    }
   ],
   "source": [
    "lines.mean()"
   ]
  },
  {
   "cell_type": "markdown",
   "metadata": {},
   "source": [
    "### Exercise 9\n",
    "\n",
    "<span style=\"color:green; font-size:16px\">Extract all 10-digit phone numbers.</span>"
   ]
  },
  {
   "cell_type": "code",
   "execution_count": 77,
   "metadata": {},
   "outputs": [
    {
     "data": {
      "text/plain": [
       "    match\n",
       "1   0         416 249 5366\n",
       "    1         202-456-2100\n",
       "2   0        519) 661-3714\n",
       "5   0        303) 493-6674\n",
       "14  0         408 241-9760\n",
       "Name: 0, dtype: object"
      ]
     },
     "execution_count": 77,
     "metadata": {},
     "output_type": "execute_result"
    }
   ],
   "source": [
    "# we allow up to two non-digits to separate the first and second set of numbers\n",
    "# and up to one non-digit between the last two sets of numbers\n",
    "s = text.str.extractall(r'\\b(\\d{3}\\D{1,2}\\d{3}\\D?\\d{4})\\b').dropna()[0]\n",
    "s.head()"
   ]
  },
  {
   "cell_type": "markdown",
   "metadata": {},
   "source": [
    "Can go further and replace all of the characters between the first and second set of numbers with a hyphen."
   ]
  },
  {
   "cell_type": "code",
   "execution_count": 78,
   "metadata": {
    "scrolled": true
   },
   "outputs": [
    {
     "data": {
      "text/plain": [
       "    match\n",
       "1   0        416-249-5366\n",
       "    1        202-456-2100\n",
       "2   0        519-661-3714\n",
       "5   0        303-493-6674\n",
       "14  0        408-241-9760\n",
       "Name: 0, dtype: object"
      ]
     },
     "execution_count": 78,
     "metadata": {},
     "output_type": "execute_result"
    }
   ],
   "source": [
    "s.replace(r'\\D{1,2}', '-', regex=True).head()"
   ]
  },
  {
   "cell_type": "markdown",
   "metadata": {},
   "source": [
    "### Exercise 10\n",
    "\n",
    "<span style=\"color:green; font-size:16px\">In this exercise you'll find the most common words in each category. Run the first two cells below to place the category in the index and then extract the body from the message as a Series. Extract all the words between 5 and 12 characters in length. Make them all lowercase and remove the words in the list `remove_words`. Finally, count occurrence of each word by category returning the top 10 per category.</span>"
   ]
  },
  {
   "cell_type": "code",
   "execution_count": 79,
   "metadata": {},
   "outputs": [
    {
     "data": {
      "text/plain": [
       "category\n",
       "sci.med               From: nyeda@cnsvax.uwec.edu (David Nye)\\nSubje...\n",
       "talk.politics.guns    From: ndallen@r-node.hub.org (Nigel Allen)\\nSu...\n",
       "misc.forsale          From: mark@ardsley.business.uwo.ca (Mark Bramw...\n",
       "Name: text, dtype: object"
      ]
     },
     "execution_count": 79,
     "metadata": {},
     "output_type": "execute_result"
    }
   ],
   "source": [
    "textc = news.set_index('category')['text']\n",
    "textc.head(3)"
   ]
  },
  {
   "cell_type": "code",
   "execution_count": 80,
   "metadata": {},
   "outputs": [
    {
     "data": {
      "text/plain": [
       "category\n",
       "sci.med               [reply to keith@actrix.gen.nz (Keith Stewart)]...\n",
       "talk.politics.guns    Here is a press release from the White House.\\...\n",
       "misc.forsale          >\\n>I hope you realize that for a cellular pho...\n",
       "Name: text, dtype: object"
      ]
     },
     "execution_count": 80,
     "metadata": {},
     "output_type": "execute_result"
    }
   ],
   "source": [
    "body = textc.str.extract(r'\\n\\n(.*)', flags=re.S, expand=False)\n",
    "body.head(3)"
   ]
  },
  {
   "cell_type": "code",
   "execution_count": 81,
   "metadata": {},
   "outputs": [],
   "source": [
    "remove_words = ['would', 'article', 'there', 'about', 'their', 'other', 'should', 'could',\n",
    "                'those', 'these', 'which', 'where', 'writes', 'anyone', 'someone', 'because']"
   ]
  },
  {
   "cell_type": "code",
   "execution_count": 82,
   "metadata": {
    "scrolled": true
   },
   "outputs": [
    {
     "data": {
      "text/plain": [
       "category  match\n",
       "sci.med   0               reply\n",
       "          1               keith\n",
       "          2              actrix\n",
       "          3               keith\n",
       "          4             stewart\n",
       "          5              become\n",
       "          6          interested\n",
       "          7             through\n",
       "          8        acquaintance\n",
       "          9               polio\n",
       "Name: 0, dtype: object"
      ]
     },
     "execution_count": 82,
     "metadata": {},
     "output_type": "execute_result"
    }
   ],
   "source": [
    "words = body.str.extractall(r'\\b(\\w{5,12})\\b')[0].str.lower()\n",
    "words = words[~words.isin(remove_words)]\n",
    "words.head(10)"
   ]
  },
  {
   "cell_type": "code",
   "execution_count": 83,
   "metadata": {},
   "outputs": [
    {
     "data": {
      "text/plain": [
       "category            0         \n",
       "misc.forsale        offer          34\n",
       "                    condition      22\n",
       "                    asking         20\n",
       "                    drive          19\n",
       "                    please         18\n",
       "                    shipping       17\n",
       "                    windows        16\n",
       "                    price          15\n",
       "                    excellent      14\n",
       "                    interested     14\n",
       "rec.autos           think          30\n",
       "                    drive          23\n",
       "                    right          22\n",
       "                    better         19\n",
       "                    little         18\n",
       "                    speed          18\n",
       "                    people         17\n",
       "                    engine         15\n",
       "                    power          15\n",
       "                    without        15\n",
       "rec.sport.baseball  alomar         39\n",
       "                    think          37\n",
       "                    better         33\n",
       "                    games          28\n",
       "                    pitcher        25\n",
       "                    season         25\n",
       "                    baseball       24\n",
       "                    baerga         20\n",
       "                    league         20\n",
       "                    first          19\n",
       "sci.med             people         27\n",
       "                    patients       23\n",
       "                    gordon         19\n",
       "                    think          19\n",
       "                    banks          17\n",
       "                    really         17\n",
       "                    something      17\n",
       "                    group          15\n",
       "                    science        15\n",
       "                    disease        14\n",
       "sci.space           space         209\n",
       "                    lunar          89\n",
       "                    earth          74\n",
       "                    first          71\n",
       "                    orbit          64\n",
       "                    probe          60\n",
       "                    mission        52\n",
       "                    planetary      49\n",
       "                    surface        48\n",
       "                    system         48\n",
       "talk.politics.guns  people        104\n",
       "                    think          47\n",
       "                    weapons        45\n",
       "                    believe        44\n",
       "                    right          38\n",
       "                    against        36\n",
       "                    state          36\n",
       "                    without        36\n",
       "                    children       34\n",
       "                    firearms       34\n",
       "Name: 0, dtype: int64"
      ]
     },
     "execution_count": 83,
     "metadata": {},
     "output_type": "execute_result"
    }
   ],
   "source": [
    "word_count = words.groupby('category').value_counts()\n",
    "top_word_count = word_count.groupby('category').head(10)\n",
    "top_word_count"
   ]
  },
  {
   "cell_type": "markdown",
   "metadata": {},
   "source": [
    "### Exercise 11\n",
    "\n",
    "<span style=\"color:green; font-size:16px\">Find all messages that have have `'From'`, '`Subject'`, `'Organization'`, and `'Lines'` as parts of the header.</span>"
   ]
  },
  {
   "cell_type": "code",
   "execution_count": 84,
   "metadata": {},
   "outputs": [
    {
     "data": {
      "text/plain": [
       "0    From: nyeda@cnsvax.uwec.edu (David Nye)\\nSubje...\n",
       "1    From: ndallen@r-node.hub.org (Nigel Allen)\\nSu...\n",
       "2    From: mark@ardsley.business.uwo.ca (Mark Bramw...\n",
       "3    From: zmed16@trc.amoco.com (Michael)\\nSubject:...\n",
       "4    From: fcrary@ucsu.Colorado.EDU (Frank Crary)\\n...\n",
       "Name: text, dtype: object"
      ]
     },
     "execution_count": 84,
     "metadata": {},
     "output_type": "execute_result"
    }
   ],
   "source": [
    "pattern = r'^(?=.*^From)(?=.*^Subject)(?=.*^Organization)(?=.*^Lines)'\n",
    "find_pattern(header, pattern, flags=re.M | re.S).head()"
   ]
  },
  {
   "cell_type": "markdown",
   "metadata": {},
   "source": [
    "## Project - Feature Engineering on the Titanic"
   ]
  },
  {
   "cell_type": "code",
   "execution_count": 85,
   "metadata": {},
   "outputs": [
    {
     "data": {
      "text/html": [
       "<div>\n",
       "<style scoped>\n",
       "    .dataframe tbody tr th:only-of-type {\n",
       "        vertical-align: middle;\n",
       "    }\n",
       "\n",
       "    .dataframe tbody tr th {\n",
       "        vertical-align: top;\n",
       "    }\n",
       "\n",
       "    .dataframe thead th {\n",
       "        text-align: right;\n",
       "    }\n",
       "</style>\n",
       "<table border=\"1\" class=\"dataframe\">\n",
       "  <thead>\n",
       "    <tr style=\"text-align: right;\">\n",
       "      <th></th>\n",
       "      <th>PassengerId</th>\n",
       "      <th>Survived</th>\n",
       "      <th>Pclass</th>\n",
       "      <th>Name</th>\n",
       "      <th>Sex</th>\n",
       "      <th>Age</th>\n",
       "      <th>SibSp</th>\n",
       "      <th>Parch</th>\n",
       "      <th>Ticket</th>\n",
       "      <th>Fare</th>\n",
       "      <th>Cabin</th>\n",
       "      <th>Embarked</th>\n",
       "    </tr>\n",
       "  </thead>\n",
       "  <tbody>\n",
       "    <tr>\n",
       "      <th>0</th>\n",
       "      <td>1</td>\n",
       "      <td>0</td>\n",
       "      <td>3</td>\n",
       "      <td>Braund, Mr. Owen Harris</td>\n",
       "      <td>male</td>\n",
       "      <td>22.0</td>\n",
       "      <td>1</td>\n",
       "      <td>0</td>\n",
       "      <td>A/5 21171</td>\n",
       "      <td>7.2500</td>\n",
       "      <td>NaN</td>\n",
       "      <td>S</td>\n",
       "    </tr>\n",
       "    <tr>\n",
       "      <th>1</th>\n",
       "      <td>2</td>\n",
       "      <td>1</td>\n",
       "      <td>1</td>\n",
       "      <td>Cumings, Mrs. John Bradley (Florence Briggs Th...</td>\n",
       "      <td>female</td>\n",
       "      <td>38.0</td>\n",
       "      <td>1</td>\n",
       "      <td>0</td>\n",
       "      <td>PC 17599</td>\n",
       "      <td>71.2833</td>\n",
       "      <td>C85</td>\n",
       "      <td>C</td>\n",
       "    </tr>\n",
       "    <tr>\n",
       "      <th>2</th>\n",
       "      <td>3</td>\n",
       "      <td>1</td>\n",
       "      <td>3</td>\n",
       "      <td>Heikkinen, Miss. Laina</td>\n",
       "      <td>female</td>\n",
       "      <td>26.0</td>\n",
       "      <td>0</td>\n",
       "      <td>0</td>\n",
       "      <td>STON/O2. 3101282</td>\n",
       "      <td>7.9250</td>\n",
       "      <td>NaN</td>\n",
       "      <td>S</td>\n",
       "    </tr>\n",
       "    <tr>\n",
       "      <th>3</th>\n",
       "      <td>4</td>\n",
       "      <td>1</td>\n",
       "      <td>1</td>\n",
       "      <td>Futrelle, Mrs. Jacques Heath (Lily May Peel)</td>\n",
       "      <td>female</td>\n",
       "      <td>35.0</td>\n",
       "      <td>1</td>\n",
       "      <td>0</td>\n",
       "      <td>113803</td>\n",
       "      <td>53.1000</td>\n",
       "      <td>C123</td>\n",
       "      <td>S</td>\n",
       "    </tr>\n",
       "    <tr>\n",
       "      <th>4</th>\n",
       "      <td>5</td>\n",
       "      <td>0</td>\n",
       "      <td>3</td>\n",
       "      <td>Allen, Mr. William Henry</td>\n",
       "      <td>male</td>\n",
       "      <td>35.0</td>\n",
       "      <td>0</td>\n",
       "      <td>0</td>\n",
       "      <td>373450</td>\n",
       "      <td>8.0500</td>\n",
       "      <td>NaN</td>\n",
       "      <td>S</td>\n",
       "    </tr>\n",
       "  </tbody>\n",
       "</table>\n",
       "</div>"
      ],
      "text/plain": [
       "   PassengerId  Survived  Pclass  \\\n",
       "0            1         0       3   \n",
       "1            2         1       1   \n",
       "2            3         1       3   \n",
       "3            4         1       1   \n",
       "4            5         0       3   \n",
       "\n",
       "                                                Name     Sex   Age  SibSp  \\\n",
       "0                            Braund, Mr. Owen Harris    male  22.0      1   \n",
       "1  Cumings, Mrs. John Bradley (Florence Briggs Th...  female  38.0      1   \n",
       "2                             Heikkinen, Miss. Laina  female  26.0      0   \n",
       "3       Futrelle, Mrs. Jacques Heath (Lily May Peel)  female  35.0      1   \n",
       "4                           Allen, Mr. William Henry    male  35.0      0   \n",
       "\n",
       "   Parch            Ticket     Fare Cabin Embarked  \n",
       "0      0         A/5 21171   7.2500   NaN        S  \n",
       "1      0          PC 17599  71.2833   C85        C  \n",
       "2      0  STON/O2. 3101282   7.9250   NaN        S  \n",
       "3      0            113803  53.1000  C123        S  \n",
       "4      0            373450   8.0500   NaN        S  "
      ]
     },
     "execution_count": 85,
     "metadata": {},
     "output_type": "execute_result"
    }
   ],
   "source": [
    "titanic = pd.read_csv('../data/titanic.csv')\n",
    "titanic.head()"
   ]
  },
  {
   "cell_type": "markdown",
   "metadata": {},
   "source": [
    "### Exercise 1\n",
    "<span  style=\"color:green; font-size:16px\">Extract the first character of the `Ticket` column and save it as a new column `ticket_first`. Find the total number of survivors, the total number of passengers, and the percentage of those who survived **by this column**. Next find the total survival rate for the entire dataset. Does this new column help predict who survived?</span>"
   ]
  },
  {
   "cell_type": "code",
   "execution_count": 86,
   "metadata": {},
   "outputs": [
    {
     "data": {
      "text/html": [
       "<div>\n",
       "<style scoped>\n",
       "    .dataframe tbody tr th:only-of-type {\n",
       "        vertical-align: middle;\n",
       "    }\n",
       "\n",
       "    .dataframe tbody tr th {\n",
       "        vertical-align: top;\n",
       "    }\n",
       "\n",
       "    .dataframe thead th {\n",
       "        text-align: right;\n",
       "    }\n",
       "</style>\n",
       "<table border=\"1\" class=\"dataframe\">\n",
       "  <thead>\n",
       "    <tr style=\"text-align: right;\">\n",
       "      <th></th>\n",
       "      <th>PassengerId</th>\n",
       "      <th>Survived</th>\n",
       "      <th>Pclass</th>\n",
       "      <th>Name</th>\n",
       "      <th>Sex</th>\n",
       "      <th>Age</th>\n",
       "      <th>SibSp</th>\n",
       "      <th>Parch</th>\n",
       "      <th>Ticket</th>\n",
       "      <th>Fare</th>\n",
       "      <th>Cabin</th>\n",
       "      <th>Embarked</th>\n",
       "      <th>ticket_first</th>\n",
       "    </tr>\n",
       "  </thead>\n",
       "  <tbody>\n",
       "    <tr>\n",
       "      <th>0</th>\n",
       "      <td>1</td>\n",
       "      <td>0</td>\n",
       "      <td>3</td>\n",
       "      <td>Braund, Mr. Owen Harris</td>\n",
       "      <td>male</td>\n",
       "      <td>22.0</td>\n",
       "      <td>1</td>\n",
       "      <td>0</td>\n",
       "      <td>A/5 21171</td>\n",
       "      <td>7.2500</td>\n",
       "      <td>NaN</td>\n",
       "      <td>S</td>\n",
       "      <td>A</td>\n",
       "    </tr>\n",
       "    <tr>\n",
       "      <th>1</th>\n",
       "      <td>2</td>\n",
       "      <td>1</td>\n",
       "      <td>1</td>\n",
       "      <td>Cumings, Mrs. John Bradley (Florence Briggs Th...</td>\n",
       "      <td>female</td>\n",
       "      <td>38.0</td>\n",
       "      <td>1</td>\n",
       "      <td>0</td>\n",
       "      <td>PC 17599</td>\n",
       "      <td>71.2833</td>\n",
       "      <td>C85</td>\n",
       "      <td>C</td>\n",
       "      <td>P</td>\n",
       "    </tr>\n",
       "    <tr>\n",
       "      <th>2</th>\n",
       "      <td>3</td>\n",
       "      <td>1</td>\n",
       "      <td>3</td>\n",
       "      <td>Heikkinen, Miss. Laina</td>\n",
       "      <td>female</td>\n",
       "      <td>26.0</td>\n",
       "      <td>0</td>\n",
       "      <td>0</td>\n",
       "      <td>STON/O2. 3101282</td>\n",
       "      <td>7.9250</td>\n",
       "      <td>NaN</td>\n",
       "      <td>S</td>\n",
       "      <td>S</td>\n",
       "    </tr>\n",
       "  </tbody>\n",
       "</table>\n",
       "</div>"
      ],
      "text/plain": [
       "   PassengerId  Survived  Pclass  \\\n",
       "0            1         0       3   \n",
       "1            2         1       1   \n",
       "2            3         1       3   \n",
       "\n",
       "                                                Name     Sex   Age  SibSp  \\\n",
       "0                            Braund, Mr. Owen Harris    male  22.0      1   \n",
       "1  Cumings, Mrs. John Bradley (Florence Briggs Th...  female  38.0      1   \n",
       "2                             Heikkinen, Miss. Laina  female  26.0      0   \n",
       "\n",
       "   Parch            Ticket     Fare Cabin Embarked ticket_first  \n",
       "0      0         A/5 21171   7.2500   NaN        S            A  \n",
       "1      0          PC 17599  71.2833   C85        C            P  \n",
       "2      0  STON/O2. 3101282   7.9250   NaN        S            S  "
      ]
     },
     "execution_count": 86,
     "metadata": {},
     "output_type": "execute_result"
    }
   ],
   "source": [
    "titanic['ticket_first'] = titanic.Ticket.str[0]\n",
    "titanic.head(3)"
   ]
  },
  {
   "cell_type": "code",
   "execution_count": 87,
   "metadata": {},
   "outputs": [
    {
     "data": {
      "text/html": [
       "<div>\n",
       "<style scoped>\n",
       "    .dataframe tbody tr th:only-of-type {\n",
       "        vertical-align: middle;\n",
       "    }\n",
       "\n",
       "    .dataframe tbody tr th {\n",
       "        vertical-align: top;\n",
       "    }\n",
       "\n",
       "    .dataframe thead tr th {\n",
       "        text-align: left;\n",
       "    }\n",
       "\n",
       "    .dataframe thead tr:last-of-type th {\n",
       "        text-align: right;\n",
       "    }\n",
       "</style>\n",
       "<table border=\"1\" class=\"dataframe\">\n",
       "  <thead>\n",
       "    <tr>\n",
       "      <th></th>\n",
       "      <th colspan=\"3\" halign=\"left\">Survived</th>\n",
       "    </tr>\n",
       "    <tr>\n",
       "      <th></th>\n",
       "      <th>mean</th>\n",
       "      <th>sum</th>\n",
       "      <th>size</th>\n",
       "    </tr>\n",
       "    <tr>\n",
       "      <th>ticket_first</th>\n",
       "      <th></th>\n",
       "      <th></th>\n",
       "      <th></th>\n",
       "    </tr>\n",
       "  </thead>\n",
       "  <tbody>\n",
       "    <tr>\n",
       "      <th>1</th>\n",
       "      <td>0.630137</td>\n",
       "      <td>92</td>\n",
       "      <td>146</td>\n",
       "    </tr>\n",
       "    <tr>\n",
       "      <th>2</th>\n",
       "      <td>0.464481</td>\n",
       "      <td>85</td>\n",
       "      <td>183</td>\n",
       "    </tr>\n",
       "    <tr>\n",
       "      <th>3</th>\n",
       "      <td>0.239203</td>\n",
       "      <td>72</td>\n",
       "      <td>301</td>\n",
       "    </tr>\n",
       "    <tr>\n",
       "      <th>4</th>\n",
       "      <td>0.200000</td>\n",
       "      <td>2</td>\n",
       "      <td>10</td>\n",
       "    </tr>\n",
       "    <tr>\n",
       "      <th>5</th>\n",
       "      <td>0.000000</td>\n",
       "      <td>0</td>\n",
       "      <td>3</td>\n",
       "    </tr>\n",
       "    <tr>\n",
       "      <th>6</th>\n",
       "      <td>0.166667</td>\n",
       "      <td>1</td>\n",
       "      <td>6</td>\n",
       "    </tr>\n",
       "    <tr>\n",
       "      <th>7</th>\n",
       "      <td>0.111111</td>\n",
       "      <td>1</td>\n",
       "      <td>9</td>\n",
       "    </tr>\n",
       "    <tr>\n",
       "      <th>8</th>\n",
       "      <td>0.000000</td>\n",
       "      <td>0</td>\n",
       "      <td>2</td>\n",
       "    </tr>\n",
       "    <tr>\n",
       "      <th>9</th>\n",
       "      <td>1.000000</td>\n",
       "      <td>1</td>\n",
       "      <td>1</td>\n",
       "    </tr>\n",
       "    <tr>\n",
       "      <th>A</th>\n",
       "      <td>0.068966</td>\n",
       "      <td>2</td>\n",
       "      <td>29</td>\n",
       "    </tr>\n",
       "    <tr>\n",
       "      <th>C</th>\n",
       "      <td>0.340426</td>\n",
       "      <td>16</td>\n",
       "      <td>47</td>\n",
       "    </tr>\n",
       "    <tr>\n",
       "      <th>F</th>\n",
       "      <td>0.571429</td>\n",
       "      <td>4</td>\n",
       "      <td>7</td>\n",
       "    </tr>\n",
       "    <tr>\n",
       "      <th>L</th>\n",
       "      <td>0.250000</td>\n",
       "      <td>1</td>\n",
       "      <td>4</td>\n",
       "    </tr>\n",
       "    <tr>\n",
       "      <th>P</th>\n",
       "      <td>0.646154</td>\n",
       "      <td>42</td>\n",
       "      <td>65</td>\n",
       "    </tr>\n",
       "    <tr>\n",
       "      <th>S</th>\n",
       "      <td>0.323077</td>\n",
       "      <td>21</td>\n",
       "      <td>65</td>\n",
       "    </tr>\n",
       "    <tr>\n",
       "      <th>W</th>\n",
       "      <td>0.153846</td>\n",
       "      <td>2</td>\n",
       "      <td>13</td>\n",
       "    </tr>\n",
       "  </tbody>\n",
       "</table>\n",
       "</div>"
      ],
      "text/plain": [
       "              Survived         \n",
       "                  mean sum size\n",
       "ticket_first                   \n",
       "1             0.630137  92  146\n",
       "2             0.464481  85  183\n",
       "3             0.239203  72  301\n",
       "4             0.200000   2   10\n",
       "5             0.000000   0    3\n",
       "6             0.166667   1    6\n",
       "7             0.111111   1    9\n",
       "8             0.000000   0    2\n",
       "9             1.000000   1    1\n",
       "A             0.068966   2   29\n",
       "C             0.340426  16   47\n",
       "F             0.571429   4    7\n",
       "L             0.250000   1    4\n",
       "P             0.646154  42   65\n",
       "S             0.323077  21   65\n",
       "W             0.153846   2   13"
      ]
     },
     "execution_count": 87,
     "metadata": {},
     "output_type": "execute_result"
    }
   ],
   "source": [
    "titanic.groupby('ticket_first').agg({'Survived': ['mean', 'sum', 'size']})"
   ]
  },
  {
   "cell_type": "code",
   "execution_count": 88,
   "metadata": {},
   "outputs": [
    {
     "data": {
      "text/plain": [
       "0.3838383838383838"
      ]
     },
     "execution_count": 88,
     "metadata": {},
     "output_type": "execute_result"
    }
   ],
   "source": [
    "# overall survival rate\n",
    "titanic['Survived'].mean()"
   ]
  },
  {
   "cell_type": "markdown",
   "metadata": {},
   "source": [
    "It does look like **`ticket_first`** has predictive power. 63% of those tickets beginning with '1' survived while versus 24% for '3'. Only 2 out of 29 people survived with tickets beginning with 'A'."
   ]
  },
  {
   "cell_type": "markdown",
   "metadata": {},
   "source": [
    "### Exercise 2\n",
    "\n",
    "<span style=\"color:green; font-size:16px\">If you did Exercise 2 correctly, you should see that only 7% of the people with tickets that began with 'A' survived. Find the survival rate for all those 'A' tickets by `Sex`.</span>"
   ]
  },
  {
   "cell_type": "code",
   "execution_count": 89,
   "metadata": {},
   "outputs": [
    {
     "data": {
      "text/html": [
       "<div>\n",
       "<style scoped>\n",
       "    .dataframe tbody tr th:only-of-type {\n",
       "        vertical-align: middle;\n",
       "    }\n",
       "\n",
       "    .dataframe tbody tr th {\n",
       "        vertical-align: top;\n",
       "    }\n",
       "\n",
       "    .dataframe thead tr th {\n",
       "        text-align: left;\n",
       "    }\n",
       "\n",
       "    .dataframe thead tr:last-of-type th {\n",
       "        text-align: right;\n",
       "    }\n",
       "</style>\n",
       "<table border=\"1\" class=\"dataframe\">\n",
       "  <thead>\n",
       "    <tr>\n",
       "      <th></th>\n",
       "      <th colspan=\"2\" halign=\"left\">Survived</th>\n",
       "    </tr>\n",
       "    <tr>\n",
       "      <th></th>\n",
       "      <th>mean</th>\n",
       "      <th>size</th>\n",
       "    </tr>\n",
       "    <tr>\n",
       "      <th>Sex</th>\n",
       "      <th></th>\n",
       "      <th></th>\n",
       "    </tr>\n",
       "  </thead>\n",
       "  <tbody>\n",
       "    <tr>\n",
       "      <th>female</th>\n",
       "      <td>0.000000</td>\n",
       "      <td>2</td>\n",
       "    </tr>\n",
       "    <tr>\n",
       "      <th>male</th>\n",
       "      <td>0.074074</td>\n",
       "      <td>27</td>\n",
       "    </tr>\n",
       "  </tbody>\n",
       "</table>\n",
       "</div>"
      ],
      "text/plain": [
       "        Survived     \n",
       "            mean size\n",
       "Sex                  \n",
       "female  0.000000    2\n",
       "male    0.074074   27"
      ]
     },
     "execution_count": 89,
     "metadata": {},
     "output_type": "execute_result"
    }
   ],
   "source": [
    "filt = titanic['ticket_first'] == 'A'\n",
    "ticket_A = titanic[filt]\n",
    "ticket_A.groupby('Sex').agg({'Survived': ['mean', 'size']})"
   ]
  },
  {
   "cell_type": "markdown",
   "metadata": {},
   "source": [
    "### Exercise 3\n",
    "\n",
    "<span style=\"color:green; font-size:16px\">Find the survival rate by the last letter of the ticket. Is there any predictive power here?</span>"
   ]
  },
  {
   "cell_type": "code",
   "execution_count": 90,
   "metadata": {},
   "outputs": [
    {
     "data": {
      "text/html": [
       "<div>\n",
       "<style scoped>\n",
       "    .dataframe tbody tr th:only-of-type {\n",
       "        vertical-align: middle;\n",
       "    }\n",
       "\n",
       "    .dataframe tbody tr th {\n",
       "        vertical-align: top;\n",
       "    }\n",
       "\n",
       "    .dataframe thead tr th {\n",
       "        text-align: left;\n",
       "    }\n",
       "\n",
       "    .dataframe thead tr:last-of-type th {\n",
       "        text-align: right;\n",
       "    }\n",
       "</style>\n",
       "<table border=\"1\" class=\"dataframe\">\n",
       "  <thead>\n",
       "    <tr>\n",
       "      <th></th>\n",
       "      <th colspan=\"3\" halign=\"left\">Survived</th>\n",
       "    </tr>\n",
       "    <tr>\n",
       "      <th></th>\n",
       "      <th>mean</th>\n",
       "      <th>sum</th>\n",
       "      <th>size</th>\n",
       "    </tr>\n",
       "    <tr>\n",
       "      <th>ticket_last</th>\n",
       "      <th></th>\n",
       "      <th></th>\n",
       "      <th></th>\n",
       "    </tr>\n",
       "  </thead>\n",
       "  <tbody>\n",
       "    <tr>\n",
       "      <th>0</th>\n",
       "      <td>0.395062</td>\n",
       "      <td>32</td>\n",
       "      <td>81</td>\n",
       "    </tr>\n",
       "    <tr>\n",
       "      <th>1</th>\n",
       "      <td>0.430000</td>\n",
       "      <td>43</td>\n",
       "      <td>100</td>\n",
       "    </tr>\n",
       "    <tr>\n",
       "      <th>2</th>\n",
       "      <td>0.364706</td>\n",
       "      <td>31</td>\n",
       "      <td>85</td>\n",
       "    </tr>\n",
       "    <tr>\n",
       "      <th>3</th>\n",
       "      <td>0.339286</td>\n",
       "      <td>38</td>\n",
       "      <td>112</td>\n",
       "    </tr>\n",
       "    <tr>\n",
       "      <th>4</th>\n",
       "      <td>0.297297</td>\n",
       "      <td>22</td>\n",
       "      <td>74</td>\n",
       "    </tr>\n",
       "    <tr>\n",
       "      <th>5</th>\n",
       "      <td>0.392405</td>\n",
       "      <td>31</td>\n",
       "      <td>79</td>\n",
       "    </tr>\n",
       "    <tr>\n",
       "      <th>6</th>\n",
       "      <td>0.419355</td>\n",
       "      <td>39</td>\n",
       "      <td>93</td>\n",
       "    </tr>\n",
       "    <tr>\n",
       "      <th>7</th>\n",
       "      <td>0.355556</td>\n",
       "      <td>32</td>\n",
       "      <td>90</td>\n",
       "    </tr>\n",
       "    <tr>\n",
       "      <th>8</th>\n",
       "      <td>0.453488</td>\n",
       "      <td>39</td>\n",
       "      <td>86</td>\n",
       "    </tr>\n",
       "    <tr>\n",
       "      <th>9</th>\n",
       "      <td>0.390805</td>\n",
       "      <td>34</td>\n",
       "      <td>87</td>\n",
       "    </tr>\n",
       "    <tr>\n",
       "      <th>E</th>\n",
       "      <td>0.250000</td>\n",
       "      <td>1</td>\n",
       "      <td>4</td>\n",
       "    </tr>\n",
       "  </tbody>\n",
       "</table>\n",
       "</div>"
      ],
      "text/plain": [
       "             Survived         \n",
       "                 mean sum size\n",
       "ticket_last                   \n",
       "0            0.395062  32   81\n",
       "1            0.430000  43  100\n",
       "2            0.364706  31   85\n",
       "3            0.339286  38  112\n",
       "4            0.297297  22   74\n",
       "5            0.392405  31   79\n",
       "6            0.419355  39   93\n",
       "7            0.355556  32   90\n",
       "8            0.453488  39   86\n",
       "9            0.390805  34   87\n",
       "E            0.250000   1    4"
      ]
     },
     "execution_count": 90,
     "metadata": {},
     "output_type": "execute_result"
    }
   ],
   "source": [
    "titanic['ticket_last'] = titanic['Ticket'].str[-1]\n",
    "titanic.groupby('ticket_last').agg({'Survived': ['mean', 'sum', 'size']})"
   ]
  },
  {
   "cell_type": "markdown",
   "metadata": {},
   "source": [
    "No predictive power. They are all about equal."
   ]
  },
  {
   "cell_type": "markdown",
   "metadata": {},
   "source": [
    "### Exercise 4\n",
    "\n",
    "<span style=\"color:green; font-size:16px\">Find the length of each passengers name and assign to the `name_len` column. What is the minimum and maximum name length?</span>"
   ]
  },
  {
   "cell_type": "code",
   "execution_count": 91,
   "metadata": {},
   "outputs": [
    {
     "data": {
      "text/plain": [
       "min    12\n",
       "max    82\n",
       "Name: name_len, dtype: int64"
      ]
     },
     "execution_count": 91,
     "metadata": {},
     "output_type": "execute_result"
    }
   ],
   "source": [
    "titanic['name_len'] = titanic['Name'].str.len()\n",
    "titanic['name_len'].agg(['min', 'max'])"
   ]
  },
  {
   "cell_type": "markdown",
   "metadata": {},
   "source": [
    "### Exercise 5\n",
    "\n",
    "<span style=\"color:green; font-size:16px\">Pass the `name_len` column to the `pd.cut` function. Also, pass a list of equal-sized cut points to the `bins` parameter. Assign the resulting Series to the `name_len_cat` column. Find the frequency count of each bin in this column.</span>"
   ]
  },
  {
   "cell_type": "code",
   "execution_count": 92,
   "metadata": {},
   "outputs": [
    {
     "data": {
      "text/plain": [
       "0    (20, 40]\n",
       "1    (40, 60]\n",
       "2    (20, 40]\n",
       "3    (40, 60]\n",
       "4    (20, 40]\n",
       "Name: name_len_cat, dtype: category\n",
       "Categories (5, interval[int64, right]): [(0, 20] < (20, 40] < (40, 60] < (60, 80] < (80, 100]]"
      ]
     },
     "execution_count": 92,
     "metadata": {},
     "output_type": "execute_result"
    }
   ],
   "source": [
    "titanic['name_len_cat'] = pd.cut(titanic['name_len'], bins=[0, 20, 40, 60, 80, 100])\n",
    "titanic['name_len_cat'].head()"
   ]
  },
  {
   "cell_type": "code",
   "execution_count": 93,
   "metadata": {},
   "outputs": [
    {
     "data": {
      "text/plain": [
       "(20, 40]     558\n",
       "(0, 20]      243\n",
       "(40, 60]      86\n",
       "(60, 80]       3\n",
       "(80, 100]      1\n",
       "Name: name_len_cat, dtype: int64"
      ]
     },
     "execution_count": 93,
     "metadata": {},
     "output_type": "execute_result"
    }
   ],
   "source": [
    "titanic['name_len_cat'].value_counts()"
   ]
  },
  {
   "cell_type": "markdown",
   "metadata": {},
   "source": [
    "### Exercise 6\n",
    "<span  style=\"color:green; font-size:16px\">Is name length a good predictor of survival?<span>"
   ]
  },
  {
   "cell_type": "code",
   "execution_count": 94,
   "metadata": {},
   "outputs": [
    {
     "data": {
      "text/html": [
       "<div>\n",
       "<style scoped>\n",
       "    .dataframe tbody tr th:only-of-type {\n",
       "        vertical-align: middle;\n",
       "    }\n",
       "\n",
       "    .dataframe tbody tr th {\n",
       "        vertical-align: top;\n",
       "    }\n",
       "\n",
       "    .dataframe thead tr th {\n",
       "        text-align: left;\n",
       "    }\n",
       "\n",
       "    .dataframe thead tr:last-of-type th {\n",
       "        text-align: right;\n",
       "    }\n",
       "</style>\n",
       "<table border=\"1\" class=\"dataframe\">\n",
       "  <thead>\n",
       "    <tr>\n",
       "      <th></th>\n",
       "      <th colspan=\"2\" halign=\"left\">Survived</th>\n",
       "    </tr>\n",
       "    <tr>\n",
       "      <th></th>\n",
       "      <th>mean</th>\n",
       "      <th>size</th>\n",
       "    </tr>\n",
       "    <tr>\n",
       "      <th>name_len_cat</th>\n",
       "      <th></th>\n",
       "      <th></th>\n",
       "    </tr>\n",
       "  </thead>\n",
       "  <tbody>\n",
       "    <tr>\n",
       "      <th>(0, 20]</th>\n",
       "      <td>0.230453</td>\n",
       "      <td>243</td>\n",
       "    </tr>\n",
       "    <tr>\n",
       "      <th>(20, 40]</th>\n",
       "      <td>0.383513</td>\n",
       "      <td>558</td>\n",
       "    </tr>\n",
       "    <tr>\n",
       "      <th>(40, 60]</th>\n",
       "      <td>0.790698</td>\n",
       "      <td>86</td>\n",
       "    </tr>\n",
       "    <tr>\n",
       "      <th>(60, 80]</th>\n",
       "      <td>1.000000</td>\n",
       "      <td>3</td>\n",
       "    </tr>\n",
       "    <tr>\n",
       "      <th>(80, 100]</th>\n",
       "      <td>1.000000</td>\n",
       "      <td>1</td>\n",
       "    </tr>\n",
       "  </tbody>\n",
       "</table>\n",
       "</div>"
      ],
      "text/plain": [
       "              Survived     \n",
       "                  mean size\n",
       "name_len_cat               \n",
       "(0, 20]       0.230453  243\n",
       "(20, 40]      0.383513  558\n",
       "(40, 60]      0.790698   86\n",
       "(60, 80]      1.000000    3\n",
       "(80, 100]     1.000000    1"
      ]
     },
     "execution_count": 94,
     "metadata": {},
     "output_type": "execute_result"
    }
   ],
   "source": [
    "titanic.groupby('name_len_cat').agg({'Survived': ['mean', 'size']})"
   ]
  },
  {
   "cell_type": "markdown",
   "metadata": {},
   "source": [
    "Yes, the longer the name, the higher the survival rate."
   ]
  },
  {
   "cell_type": "markdown",
   "metadata": {},
   "source": [
    "### Exercise 7\n",
    "<span  style=\"color:green; font-size:16px\">Why do you think people with longer names had a better chance at survival?</span>"
   ]
  },
  {
   "cell_type": "markdown",
   "metadata": {},
   "source": [
    "Let's output the shortest and longest 10 names"
   ]
  },
  {
   "cell_type": "code",
   "execution_count": 95,
   "metadata": {},
   "outputs": [
    {
     "data": {
      "text/plain": [
       "826       Lam, Mr. Len\n",
       "692       Lam, Mr. Ali\n",
       "74       Bing, Mr. Lee\n",
       "169      Ling, Mr. Lee\n",
       "509     Lang, Mr. Fang\n",
       "832     Saad, Mr. Amin\n",
       "210     Ali, Mr. Ahmed\n",
       "694    Weir, Col. John\n",
       "108    Rekic, Mr. Tido\n",
       "838    Chip, Mr. Chang\n",
       "Name: Name, dtype: object"
      ]
     },
     "execution_count": 95,
     "metadata": {},
     "output_type": "execute_result"
    }
   ],
   "source": [
    "names = titanic.sort_values(by='name_len')['Name']\n",
    "names.head(10)"
   ]
  },
  {
   "cell_type": "code",
   "execution_count": 96,
   "metadata": {},
   "outputs": [
    {
     "data": {
      "text/plain": [
       "array(['Vander Planke, Mrs. Julius (Emelia Maria Vandemoortele)',\n",
       "       'Rothes, the Countess. of (Lucy Noel Martha Dyer-Edwards)',\n",
       "       'Spedden, Mrs. Frederic Oakley (Margaretta Corning Stone)',\n",
       "       'Turpin, Mrs. William John Robert (Dorothy Ann Wonnacott)',\n",
       "       'Asplund, Mrs. Carl Oscar (Selma Augusta Emilia Johansson)',\n",
       "       'Andersson, Mrs. Anders Johan (Alfrida Konstantia Brogren)',\n",
       "       'Brown, Mrs. Thomas William Solomon (Elizabeth Catherine Ford)',\n",
       "       'Duff Gordon, Lady. (Lucille Christiana Sutherland) (\"Mrs Morgan\")',\n",
       "       'Phillips, Miss. Kate Florence (\"Mrs Kate Louise Phillips Marshall\")',\n",
       "       'Penasco y Castellana, Mrs. Victor de Satode (Maria Josefa Perez de Soto y Vallejo)'],\n",
       "      dtype=object)"
      ]
     },
     "execution_count": 96,
     "metadata": {},
     "output_type": "execute_result"
    }
   ],
   "source": [
    "# Names exceed pandas display settings.\n",
    "# change them with pd.options.display.max_colwidth \n",
    "# or just print out values\n",
    "names.tail(10).values"
   ]
  },
  {
   "cell_type": "code",
   "execution_count": 97,
   "metadata": {},
   "outputs": [
    {
     "name": "stdout",
     "output_type": "stream",
     "text": [
      "18                                Vander Planke, Mrs. Julius (Emelia Maria Vandemoortele)\n",
      "759                              Rothes, the Countess. of (Lucy Noel Martha Dyer-Edwards)\n",
      "319                              Spedden, Mrs. Frederic Oakley (Margaretta Corning Stone)\n",
      "41                               Turpin, Mrs. William John Robert (Dorothy Ann Wonnacott)\n",
      "25                              Asplund, Mrs. Carl Oscar (Selma Augusta Emilia Johansson)\n",
      "610                             Andersson, Mrs. Anders Johan (Alfrida Konstantia Brogren)\n",
      "670                         Brown, Mrs. Thomas William Solomon (Elizabeth Catherine Ford)\n",
      "556                     Duff Gordon, Lady. (Lucille Christiana Sutherland) (\"Mrs Morgan\")\n",
      "427                   Phillips, Miss. Kate Florence (\"Mrs Kate Louise Phillips Marshall\")\n",
      "307    Penasco y Castellana, Mrs. Victor de Satode (Maria Josefa Perez de Soto y Vallejo)\n",
      "Name: Name, dtype: object\n"
     ]
    }
   ],
   "source": [
    "# temporarily set options in a context manager\n",
    "with pd.option_context('display.max_colwidth', 100):\n",
    "    print(names.tail(10))"
   ]
  },
  {
   "cell_type": "markdown",
   "metadata": {},
   "source": [
    "Looks like all the people with short names are men. All people with long names are females."
   ]
  },
  {
   "cell_type": "markdown",
   "metadata": {},
   "source": [
    "### Exercise 8\n",
    "<span  style=\"color:green; font-size:16px\">Using the titanic dataset, do your best to extract the title from a person's name. Examples of title are 'Mr.', 'Dr.', 'Miss', etc... Save this to a column called `title`. Find the frequency count of the titles.</span>"
   ]
  },
  {
   "cell_type": "code",
   "execution_count": 98,
   "metadata": {
    "scrolled": true
   },
   "outputs": [
    {
     "data": {
      "text/plain": [
       "Mr.          517\n",
       "Miss.        182\n",
       "Mrs.         125\n",
       "Master.       40\n",
       "Dr.            7\n",
       "Rev.           6\n",
       "Mlle.          2\n",
       "Major.         2\n",
       "Col.           2\n",
       "Countess.      1\n",
       "Capt.          1\n",
       "Ms.            1\n",
       "Sir.           1\n",
       "Lady.          1\n",
       "Mme.           1\n",
       "Don.           1\n",
       "Jonkheer.      1\n",
       "Name: title, dtype: int64"
      ]
     },
     "execution_count": 98,
     "metadata": {},
     "output_type": "execute_result"
    }
   ],
   "source": [
    "titanic['title'] = titanic['Name'].str.extract(r'(\\w+[.])')\n",
    "titanic['title'].value_counts()"
   ]
  },
  {
   "cell_type": "markdown",
   "metadata": {},
   "source": [
    "### Exercise 9\n",
    "<span  style=\"color:green; font-size:16px\">Does the title have good predictive value of survival?</span>"
   ]
  },
  {
   "cell_type": "code",
   "execution_count": 99,
   "metadata": {},
   "outputs": [
    {
     "data": {
      "text/html": [
       "<div>\n",
       "<style scoped>\n",
       "    .dataframe tbody tr th:only-of-type {\n",
       "        vertical-align: middle;\n",
       "    }\n",
       "\n",
       "    .dataframe tbody tr th {\n",
       "        vertical-align: top;\n",
       "    }\n",
       "\n",
       "    .dataframe thead tr th {\n",
       "        text-align: left;\n",
       "    }\n",
       "\n",
       "    .dataframe thead tr:last-of-type th {\n",
       "        text-align: right;\n",
       "    }\n",
       "</style>\n",
       "<table border=\"1\" class=\"dataframe\">\n",
       "  <thead>\n",
       "    <tr>\n",
       "      <th></th>\n",
       "      <th colspan=\"2\" halign=\"left\">Survived</th>\n",
       "    </tr>\n",
       "    <tr>\n",
       "      <th></th>\n",
       "      <th>mean</th>\n",
       "      <th>size</th>\n",
       "    </tr>\n",
       "    <tr>\n",
       "      <th>title</th>\n",
       "      <th></th>\n",
       "      <th></th>\n",
       "    </tr>\n",
       "  </thead>\n",
       "  <tbody>\n",
       "    <tr>\n",
       "      <th>Capt.</th>\n",
       "      <td>0.000000</td>\n",
       "      <td>1</td>\n",
       "    </tr>\n",
       "    <tr>\n",
       "      <th>Col.</th>\n",
       "      <td>0.500000</td>\n",
       "      <td>2</td>\n",
       "    </tr>\n",
       "    <tr>\n",
       "      <th>Countess.</th>\n",
       "      <td>1.000000</td>\n",
       "      <td>1</td>\n",
       "    </tr>\n",
       "    <tr>\n",
       "      <th>Don.</th>\n",
       "      <td>0.000000</td>\n",
       "      <td>1</td>\n",
       "    </tr>\n",
       "    <tr>\n",
       "      <th>Dr.</th>\n",
       "      <td>0.428571</td>\n",
       "      <td>7</td>\n",
       "    </tr>\n",
       "    <tr>\n",
       "      <th>Jonkheer.</th>\n",
       "      <td>0.000000</td>\n",
       "      <td>1</td>\n",
       "    </tr>\n",
       "    <tr>\n",
       "      <th>Lady.</th>\n",
       "      <td>1.000000</td>\n",
       "      <td>1</td>\n",
       "    </tr>\n",
       "    <tr>\n",
       "      <th>Major.</th>\n",
       "      <td>0.500000</td>\n",
       "      <td>2</td>\n",
       "    </tr>\n",
       "    <tr>\n",
       "      <th>Master.</th>\n",
       "      <td>0.575000</td>\n",
       "      <td>40</td>\n",
       "    </tr>\n",
       "    <tr>\n",
       "      <th>Miss.</th>\n",
       "      <td>0.697802</td>\n",
       "      <td>182</td>\n",
       "    </tr>\n",
       "    <tr>\n",
       "      <th>Mlle.</th>\n",
       "      <td>1.000000</td>\n",
       "      <td>2</td>\n",
       "    </tr>\n",
       "    <tr>\n",
       "      <th>Mme.</th>\n",
       "      <td>1.000000</td>\n",
       "      <td>1</td>\n",
       "    </tr>\n",
       "    <tr>\n",
       "      <th>Mr.</th>\n",
       "      <td>0.156673</td>\n",
       "      <td>517</td>\n",
       "    </tr>\n",
       "    <tr>\n",
       "      <th>Mrs.</th>\n",
       "      <td>0.792000</td>\n",
       "      <td>125</td>\n",
       "    </tr>\n",
       "    <tr>\n",
       "      <th>Ms.</th>\n",
       "      <td>1.000000</td>\n",
       "      <td>1</td>\n",
       "    </tr>\n",
       "    <tr>\n",
       "      <th>Rev.</th>\n",
       "      <td>0.000000</td>\n",
       "      <td>6</td>\n",
       "    </tr>\n",
       "    <tr>\n",
       "      <th>Sir.</th>\n",
       "      <td>1.000000</td>\n",
       "      <td>1</td>\n",
       "    </tr>\n",
       "  </tbody>\n",
       "</table>\n",
       "</div>"
      ],
      "text/plain": [
       "           Survived     \n",
       "               mean size\n",
       "title                   \n",
       "Capt.      0.000000    1\n",
       "Col.       0.500000    2\n",
       "Countess.  1.000000    1\n",
       "Don.       0.000000    1\n",
       "Dr.        0.428571    7\n",
       "Jonkheer.  0.000000    1\n",
       "Lady.      1.000000    1\n",
       "Major.     0.500000    2\n",
       "Master.    0.575000   40\n",
       "Miss.      0.697802  182\n",
       "Mlle.      1.000000    2\n",
       "Mme.       1.000000    1\n",
       "Mr.        0.156673  517\n",
       "Mrs.       0.792000  125\n",
       "Ms.        1.000000    1\n",
       "Rev.       0.000000    6\n",
       "Sir.       1.000000    1"
      ]
     },
     "execution_count": 99,
     "metadata": {},
     "output_type": "execute_result"
    }
   ],
   "source": [
    "titanic.groupby('title').agg({'Survived':['mean', 'size']})"
   ]
  },
  {
   "cell_type": "markdown",
   "metadata": {},
   "source": [
    "### Exercise 10\n",
    "<span  style=\"color:green; font-size:16px\">Create a pivot table of survival by title and sex. Use two aggregation functions, mean and size</span>"
   ]
  },
  {
   "cell_type": "code",
   "execution_count": 100,
   "metadata": {},
   "outputs": [
    {
     "data": {
      "text/html": [
       "<div>\n",
       "<style scoped>\n",
       "    .dataframe tbody tr th:only-of-type {\n",
       "        vertical-align: middle;\n",
       "    }\n",
       "\n",
       "    .dataframe tbody tr th {\n",
       "        vertical-align: top;\n",
       "    }\n",
       "\n",
       "    .dataframe thead tr th {\n",
       "        text-align: left;\n",
       "    }\n",
       "\n",
       "    .dataframe thead tr:last-of-type th {\n",
       "        text-align: right;\n",
       "    }\n",
       "</style>\n",
       "<table border=\"1\" class=\"dataframe\">\n",
       "  <thead>\n",
       "    <tr>\n",
       "      <th></th>\n",
       "      <th colspan=\"2\" halign=\"left\">mean</th>\n",
       "      <th colspan=\"2\" halign=\"left\">size</th>\n",
       "    </tr>\n",
       "    <tr>\n",
       "      <th>Sex</th>\n",
       "      <th>female</th>\n",
       "      <th>male</th>\n",
       "      <th>female</th>\n",
       "      <th>male</th>\n",
       "    </tr>\n",
       "    <tr>\n",
       "      <th>title</th>\n",
       "      <th></th>\n",
       "      <th></th>\n",
       "      <th></th>\n",
       "      <th></th>\n",
       "    </tr>\n",
       "  </thead>\n",
       "  <tbody>\n",
       "    <tr>\n",
       "      <th>Capt.</th>\n",
       "      <td>NaN</td>\n",
       "      <td>0.000000</td>\n",
       "      <td>NaN</td>\n",
       "      <td>1.0</td>\n",
       "    </tr>\n",
       "    <tr>\n",
       "      <th>Col.</th>\n",
       "      <td>NaN</td>\n",
       "      <td>0.500000</td>\n",
       "      <td>NaN</td>\n",
       "      <td>2.0</td>\n",
       "    </tr>\n",
       "    <tr>\n",
       "      <th>Countess.</th>\n",
       "      <td>1.000000</td>\n",
       "      <td>NaN</td>\n",
       "      <td>1.0</td>\n",
       "      <td>NaN</td>\n",
       "    </tr>\n",
       "    <tr>\n",
       "      <th>Don.</th>\n",
       "      <td>NaN</td>\n",
       "      <td>0.000000</td>\n",
       "      <td>NaN</td>\n",
       "      <td>1.0</td>\n",
       "    </tr>\n",
       "    <tr>\n",
       "      <th>Dr.</th>\n",
       "      <td>1.000000</td>\n",
       "      <td>0.333333</td>\n",
       "      <td>1.0</td>\n",
       "      <td>6.0</td>\n",
       "    </tr>\n",
       "    <tr>\n",
       "      <th>Jonkheer.</th>\n",
       "      <td>NaN</td>\n",
       "      <td>0.000000</td>\n",
       "      <td>NaN</td>\n",
       "      <td>1.0</td>\n",
       "    </tr>\n",
       "    <tr>\n",
       "      <th>Lady.</th>\n",
       "      <td>1.000000</td>\n",
       "      <td>NaN</td>\n",
       "      <td>1.0</td>\n",
       "      <td>NaN</td>\n",
       "    </tr>\n",
       "    <tr>\n",
       "      <th>Major.</th>\n",
       "      <td>NaN</td>\n",
       "      <td>0.500000</td>\n",
       "      <td>NaN</td>\n",
       "      <td>2.0</td>\n",
       "    </tr>\n",
       "    <tr>\n",
       "      <th>Master.</th>\n",
       "      <td>NaN</td>\n",
       "      <td>0.575000</td>\n",
       "      <td>NaN</td>\n",
       "      <td>40.0</td>\n",
       "    </tr>\n",
       "    <tr>\n",
       "      <th>Miss.</th>\n",
       "      <td>0.697802</td>\n",
       "      <td>NaN</td>\n",
       "      <td>182.0</td>\n",
       "      <td>NaN</td>\n",
       "    </tr>\n",
       "    <tr>\n",
       "      <th>Mlle.</th>\n",
       "      <td>1.000000</td>\n",
       "      <td>NaN</td>\n",
       "      <td>2.0</td>\n",
       "      <td>NaN</td>\n",
       "    </tr>\n",
       "    <tr>\n",
       "      <th>Mme.</th>\n",
       "      <td>1.000000</td>\n",
       "      <td>NaN</td>\n",
       "      <td>1.0</td>\n",
       "      <td>NaN</td>\n",
       "    </tr>\n",
       "    <tr>\n",
       "      <th>Mr.</th>\n",
       "      <td>NaN</td>\n",
       "      <td>0.156673</td>\n",
       "      <td>NaN</td>\n",
       "      <td>517.0</td>\n",
       "    </tr>\n",
       "    <tr>\n",
       "      <th>Mrs.</th>\n",
       "      <td>0.792000</td>\n",
       "      <td>NaN</td>\n",
       "      <td>125.0</td>\n",
       "      <td>NaN</td>\n",
       "    </tr>\n",
       "    <tr>\n",
       "      <th>Ms.</th>\n",
       "      <td>1.000000</td>\n",
       "      <td>NaN</td>\n",
       "      <td>1.0</td>\n",
       "      <td>NaN</td>\n",
       "    </tr>\n",
       "    <tr>\n",
       "      <th>Rev.</th>\n",
       "      <td>NaN</td>\n",
       "      <td>0.000000</td>\n",
       "      <td>NaN</td>\n",
       "      <td>6.0</td>\n",
       "    </tr>\n",
       "    <tr>\n",
       "      <th>Sir.</th>\n",
       "      <td>NaN</td>\n",
       "      <td>1.000000</td>\n",
       "      <td>NaN</td>\n",
       "      <td>1.0</td>\n",
       "    </tr>\n",
       "  </tbody>\n",
       "</table>\n",
       "</div>"
      ],
      "text/plain": [
       "               mean             size       \n",
       "Sex          female      male female   male\n",
       "title                                      \n",
       "Capt.           NaN  0.000000    NaN    1.0\n",
       "Col.            NaN  0.500000    NaN    2.0\n",
       "Countess.  1.000000       NaN    1.0    NaN\n",
       "Don.            NaN  0.000000    NaN    1.0\n",
       "Dr.        1.000000  0.333333    1.0    6.0\n",
       "Jonkheer.       NaN  0.000000    NaN    1.0\n",
       "Lady.      1.000000       NaN    1.0    NaN\n",
       "Major.          NaN  0.500000    NaN    2.0\n",
       "Master.         NaN  0.575000    NaN   40.0\n",
       "Miss.      0.697802       NaN  182.0    NaN\n",
       "Mlle.      1.000000       NaN    2.0    NaN\n",
       "Mme.       1.000000       NaN    1.0    NaN\n",
       "Mr.             NaN  0.156673    NaN  517.0\n",
       "Mrs.       0.792000       NaN  125.0    NaN\n",
       "Ms.        1.000000       NaN    1.0    NaN\n",
       "Rev.            NaN  0.000000    NaN    6.0\n",
       "Sir.            NaN  1.000000    NaN    1.0"
      ]
     },
     "execution_count": 100,
     "metadata": {},
     "output_type": "execute_result"
    }
   ],
   "source": [
    "titanic.pivot_table(index='title', columns='Sex', \n",
    "                    values='Survived', aggfunc=['mean', 'size'])"
   ]
  },
  {
   "cell_type": "markdown",
   "metadata": {},
   "source": [
    "### Exercise 11\n",
    "<span  style=\"color:green; font-size:16px\">Attempt to extract the first name of each passenger into the column `first_name`. Are there are males and females with the same first name?</span>"
   ]
  },
  {
   "cell_type": "markdown",
   "metadata": {},
   "source": [
    "Most can be found like this following the title"
   ]
  },
  {
   "cell_type": "code",
   "execution_count": 101,
   "metadata": {},
   "outputs": [],
   "source": [
    "pattern = r'\\w+[.] (\\w+)'\n",
    "titanic['first_name'] = titanic['Name'].str.extract(pattern)"
   ]
  },
  {
   "cell_type": "markdown",
   "metadata": {},
   "source": [
    "To be more precise, we can do this:"
   ]
  },
  {
   "cell_type": "code",
   "execution_count": 102,
   "metadata": {},
   "outputs": [],
   "source": [
    "pattern = r'\\w+[.][a-z (]+([A-Z]\\w+)'\n",
    "titanic['first_name'] = titanic['Name'].str.extract(pattern)"
   ]
  },
  {
   "cell_type": "code",
   "execution_count": 103,
   "metadata": {},
   "outputs": [
    {
     "data": {
      "text/html": [
       "<div>\n",
       "<style scoped>\n",
       "    .dataframe tbody tr th:only-of-type {\n",
       "        vertical-align: middle;\n",
       "    }\n",
       "\n",
       "    .dataframe tbody tr th {\n",
       "        vertical-align: top;\n",
       "    }\n",
       "\n",
       "    .dataframe thead th {\n",
       "        text-align: right;\n",
       "    }\n",
       "</style>\n",
       "<table border=\"1\" class=\"dataframe\">\n",
       "  <thead>\n",
       "    <tr style=\"text-align: right;\">\n",
       "      <th></th>\n",
       "      <th>Sex</th>\n",
       "    </tr>\n",
       "    <tr>\n",
       "      <th>first_name</th>\n",
       "      <th></th>\n",
       "    </tr>\n",
       "  </thead>\n",
       "  <tbody>\n",
       "    <tr>\n",
       "      <th>Abraham</th>\n",
       "      <td>1</td>\n",
       "    </tr>\n",
       "    <tr>\n",
       "      <th>Achille</th>\n",
       "      <td>1</td>\n",
       "    </tr>\n",
       "    <tr>\n",
       "      <th>Ada</th>\n",
       "      <td>1</td>\n",
       "    </tr>\n",
       "    <tr>\n",
       "      <th>Adele</th>\n",
       "      <td>1</td>\n",
       "    </tr>\n",
       "    <tr>\n",
       "      <th>Adola</th>\n",
       "      <td>1</td>\n",
       "    </tr>\n",
       "  </tbody>\n",
       "</table>\n",
       "</div>"
      ],
      "text/plain": [
       "            Sex\n",
       "first_name     \n",
       "Abraham       1\n",
       "Achille       1\n",
       "Ada           1\n",
       "Adele         1\n",
       "Adola         1"
      ]
     },
     "execution_count": 103,
     "metadata": {},
     "output_type": "execute_result"
    }
   ],
   "source": [
    "first_name_ct = titanic.groupby('first_name').agg({'Sex': 'nunique'})\n",
    "first_name_ct.head()"
   ]
  },
  {
   "cell_type": "code",
   "execution_count": 104,
   "metadata": {},
   "outputs": [
    {
     "data": {
      "text/html": [
       "<div>\n",
       "<style scoped>\n",
       "    .dataframe tbody tr th:only-of-type {\n",
       "        vertical-align: middle;\n",
       "    }\n",
       "\n",
       "    .dataframe tbody tr th {\n",
       "        vertical-align: top;\n",
       "    }\n",
       "\n",
       "    .dataframe thead th {\n",
       "        text-align: right;\n",
       "    }\n",
       "</style>\n",
       "<table border=\"1\" class=\"dataframe\">\n",
       "  <thead>\n",
       "    <tr style=\"text-align: right;\">\n",
       "      <th></th>\n",
       "      <th>Sex</th>\n",
       "    </tr>\n",
       "    <tr>\n",
       "      <th>first_name</th>\n",
       "      <th></th>\n",
       "    </tr>\n",
       "  </thead>\n",
       "  <tbody>\n",
       "    <tr>\n",
       "      <th>Albert</th>\n",
       "      <td>2</td>\n",
       "    </tr>\n",
       "    <tr>\n",
       "      <th>Alexander</th>\n",
       "      <td>2</td>\n",
       "    </tr>\n",
       "    <tr>\n",
       "      <th>Amin</th>\n",
       "      <td>2</td>\n",
       "    </tr>\n",
       "    <tr>\n",
       "      <th>Anders</th>\n",
       "      <td>2</td>\n",
       "    </tr>\n",
       "    <tr>\n",
       "      <th>Antoni</th>\n",
       "      <td>2</td>\n",
       "    </tr>\n",
       "    <tr>\n",
       "      <th>Benjamin</th>\n",
       "      <td>2</td>\n",
       "    </tr>\n",
       "    <tr>\n",
       "      <th>Carl</th>\n",
       "      <td>2</td>\n",
       "    </tr>\n",
       "    <tr>\n",
       "      <th>Charles</th>\n",
       "      <td>2</td>\n",
       "    </tr>\n",
       "    <tr>\n",
       "      <th>Dickinson</th>\n",
       "      <td>2</td>\n",
       "    </tr>\n",
       "    <tr>\n",
       "      <th>Edgar</th>\n",
       "      <td>2</td>\n",
       "    </tr>\n",
       "  </tbody>\n",
       "</table>\n",
       "</div>"
      ],
      "text/plain": [
       "            Sex\n",
       "first_name     \n",
       "Albert        2\n",
       "Alexander     2\n",
       "Amin          2\n",
       "Anders        2\n",
       "Antoni        2\n",
       "Benjamin      2\n",
       "Carl          2\n",
       "Charles       2\n",
       "Dickinson     2\n",
       "Edgar         2"
      ]
     },
     "execution_count": 104,
     "metadata": {},
     "output_type": "execute_result"
    }
   ],
   "source": [
    "filt = first_name_ct['Sex'] == 2\n",
    "first_name_ct[filt].head(10)"
   ]
  },
  {
   "cell_type": "markdown",
   "metadata": {},
   "source": [
    "Looks like some female first names are actually in parentheses after their husband/father name."
   ]
  },
  {
   "cell_type": "code",
   "execution_count": 105,
   "metadata": {},
   "outputs": [
    {
     "data": {
      "text/plain": [
       "64                                 Stewart, Mr. Albert A\n",
       "107                               Moss, Mr. Albert Johan\n",
       "323    Caldwell, Mrs. Albert Francis (Sylvia Mae Harb...\n",
       "690                              Dick, Mr. Albert Adrian\n",
       "781            Dick, Mrs. Albert Adrian (Vera Gillespie)\n",
       "817                                   Mallet, Mr. Albert\n",
       "833                               Augustsson, Mr. Albert\n",
       "Name: Name, dtype: object"
      ]
     },
     "execution_count": 105,
     "metadata": {},
     "output_type": "execute_result"
    }
   ],
   "source": [
    "filt = titanic['first_name'] == 'Albert'\n",
    "titanic.loc[filt, 'Name']"
   ]
  },
  {
   "cell_type": "markdown",
   "metadata": {},
   "source": [
    "### Exercise 12\n",
    "<span  style=\"color:green; font-size:16px\">The past several exercises have been an exercise in **feature engineering**. Several new features (columns) have been created from existing columns. Come up with your own feature and test it out on survival.</span>"
   ]
  },
  {
   "cell_type": "markdown",
   "metadata": {},
   "source": [
    "Get first letter of cabin. Use 'Missing' if not present."
   ]
  },
  {
   "cell_type": "code",
   "execution_count": 106,
   "metadata": {},
   "outputs": [],
   "source": [
    "titanic['cabin_first'] = titanic.Cabin.str[0].fillna('Missing')"
   ]
  },
  {
   "cell_type": "markdown",
   "metadata": {},
   "source": [
    "Just having a cabin is highly predictive."
   ]
  },
  {
   "cell_type": "code",
   "execution_count": 107,
   "metadata": {},
   "outputs": [
    {
     "data": {
      "text/html": [
       "<div>\n",
       "<style scoped>\n",
       "    .dataframe tbody tr th:only-of-type {\n",
       "        vertical-align: middle;\n",
       "    }\n",
       "\n",
       "    .dataframe tbody tr th {\n",
       "        vertical-align: top;\n",
       "    }\n",
       "\n",
       "    .dataframe thead tr th {\n",
       "        text-align: left;\n",
       "    }\n",
       "\n",
       "    .dataframe thead tr:last-of-type th {\n",
       "        text-align: right;\n",
       "    }\n",
       "</style>\n",
       "<table border=\"1\" class=\"dataframe\">\n",
       "  <thead>\n",
       "    <tr>\n",
       "      <th></th>\n",
       "      <th colspan=\"2\" halign=\"left\">Survived</th>\n",
       "    </tr>\n",
       "    <tr>\n",
       "      <th></th>\n",
       "      <th>size</th>\n",
       "      <th>mean</th>\n",
       "    </tr>\n",
       "    <tr>\n",
       "      <th>cabin_first</th>\n",
       "      <th></th>\n",
       "      <th></th>\n",
       "    </tr>\n",
       "  </thead>\n",
       "  <tbody>\n",
       "    <tr>\n",
       "      <th>A</th>\n",
       "      <td>15</td>\n",
       "      <td>0.466667</td>\n",
       "    </tr>\n",
       "    <tr>\n",
       "      <th>B</th>\n",
       "      <td>47</td>\n",
       "      <td>0.744681</td>\n",
       "    </tr>\n",
       "    <tr>\n",
       "      <th>C</th>\n",
       "      <td>59</td>\n",
       "      <td>0.593220</td>\n",
       "    </tr>\n",
       "    <tr>\n",
       "      <th>D</th>\n",
       "      <td>33</td>\n",
       "      <td>0.757576</td>\n",
       "    </tr>\n",
       "    <tr>\n",
       "      <th>E</th>\n",
       "      <td>32</td>\n",
       "      <td>0.750000</td>\n",
       "    </tr>\n",
       "    <tr>\n",
       "      <th>F</th>\n",
       "      <td>13</td>\n",
       "      <td>0.615385</td>\n",
       "    </tr>\n",
       "    <tr>\n",
       "      <th>G</th>\n",
       "      <td>4</td>\n",
       "      <td>0.500000</td>\n",
       "    </tr>\n",
       "    <tr>\n",
       "      <th>Missing</th>\n",
       "      <td>687</td>\n",
       "      <td>0.299854</td>\n",
       "    </tr>\n",
       "    <tr>\n",
       "      <th>T</th>\n",
       "      <td>1</td>\n",
       "      <td>0.000000</td>\n",
       "    </tr>\n",
       "  </tbody>\n",
       "</table>\n",
       "</div>"
      ],
      "text/plain": [
       "            Survived          \n",
       "                size      mean\n",
       "cabin_first                   \n",
       "A                 15  0.466667\n",
       "B                 47  0.744681\n",
       "C                 59  0.593220\n",
       "D                 33  0.757576\n",
       "E                 32  0.750000\n",
       "F                 13  0.615385\n",
       "G                  4  0.500000\n",
       "Missing          687  0.299854\n",
       "T                  1  0.000000"
      ]
     },
     "execution_count": 107,
     "metadata": {},
     "output_type": "execute_result"
    }
   ],
   "source": [
    "titanic.groupby('cabin_first').agg({'Survived': ['size', 'mean']})#.sort_values('size', ascending=False)"
   ]
  }
 ],
 "metadata": {
  "kernelspec": {
   "display_name": "Python 3",
   "language": "python",
   "name": "python3"
  },
  "language_info": {
   "codemirror_mode": {
    "name": "ipython",
    "version": 3
   },
   "file_extension": ".py",
   "mimetype": "text/x-python",
   "name": "python",
   "nbconvert_exporter": "python",
   "pygments_lexer": "ipython3",
   "version": "3.8.10"
  }
 },
 "nbformat": 4,
 "nbformat_minor": 2
}
