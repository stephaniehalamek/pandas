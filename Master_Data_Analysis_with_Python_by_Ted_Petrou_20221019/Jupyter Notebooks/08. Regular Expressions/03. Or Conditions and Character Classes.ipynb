{
 "cells": [
  {
   "cell_type": "markdown",
   "metadata": {},
   "source": [
    "# Or Conditions and Character Classes\n",
    "\n",
    "In regular Python, the `or` binary operator is used to test whether at least one of the two conditions provided evaluates as `True`. With regular expressions, there are two separate special characters available - the pipe, `|`, and the square brackets, `[]`, to test multiple conditions. This chapter covers these two types of or operations along with **character classes**, a compact way to represent spans of characters through the square brackets or backslash metacharacters."
   ]
  },
  {
   "cell_type": "code",
   "execution_count": null,
   "metadata": {
    "scrolled": true
   },
   "outputs": [],
   "source": [
    "import re\n",
    "import pandas as pd\n",
    "\n",
    "def find_pattern(s, pattern, **kwargs):\n",
    "    filt = s.str.contains(pattern, **kwargs)\n",
    "    return s[filt]\n",
    "\n",
    "movie = pd.read_csv('../data/movie.csv')\n",
    "title = movie['title']\n",
    "title.head(3)"
   ]
  },
  {
   "cell_type": "markdown",
   "metadata": {},
   "source": [
    "## The pipe metacharacter `|`\n",
    "\n",
    "The pipe metacharacter, `|`, allows you to match two or more regex patterns within a single regex.  Take a look at the regex `'Friend|Enemy'`. It matches text containing the entire word `Friend` or `Enemy`."
   ]
  },
  {
   "cell_type": "code",
   "execution_count": null,
   "metadata": {},
   "outputs": [],
   "source": [
    "find_pattern(title, r'Friend|Enemy').head()"
   ]
  },
  {
   "cell_type": "markdown",
   "metadata": {},
   "source": [
    "You can add as many pipes as you wish to search for any number of patterns."
   ]
  },
  {
   "cell_type": "code",
   "execution_count": null,
   "metadata": {},
   "outputs": [],
   "source": [
    "find_pattern(title, r'Friend|Enemy|Good|Evil').head(10)"
   ]
  },
  {
   "cell_type": "markdown",
   "metadata": {},
   "source": [
    "### Each section is a separate and independent regex\n",
    "\n",
    "The pipe character creates independent patterns that are each matched separately against the entire text. It is no different than calling the `contains` method with each pattern and using the `or` Series operator (which happens to be the same pipe character in regexes) to test all conditions."
   ]
  },
  {
   "cell_type": "code",
   "execution_count": null,
   "metadata": {},
   "outputs": [],
   "source": [
    "filt1 = title.str.contains(r'Friend')\n",
    "filt2 = title.str.contains(r'Enemy')\n",
    "filt3 = title.str.contains(r'Good')\n",
    "filt4 = title.str.contains(r'Evil')\n",
    "filt = filt1 | filt2 | filt3 | filt4\n",
    "filt.sum()"
   ]
  },
  {
   "cell_type": "markdown",
   "metadata": {},
   "source": [
    "The length of both Series is found to verify that they match the same titles."
   ]
  },
  {
   "cell_type": "code",
   "execution_count": null,
   "metadata": {},
   "outputs": [],
   "source": [
    "find_pattern(title, r'Friend|Enemy|Good|Evil').size"
   ]
  },
  {
   "cell_type": "markdown",
   "metadata": {},
   "source": [
    "### Each independent regex can be complex\n",
    "\n",
    "There is no restriction for the independent regexes separated by the pipe character. Below, we match titles that begin with `G` and end in `n` or begin with `D` and end in `s`, or begin with `F` and end in `n`."
   ]
  },
  {
   "cell_type": "code",
   "execution_count": null,
   "metadata": {},
   "outputs": [],
   "source": [
    "find_pattern(title, r'^G.*n$|^D.*s$|^F.*n$').head()"
   ]
  },
  {
   "cell_type": "markdown",
   "metadata": {},
   "source": [
    "## The brackets metacharacter `[ ]`\n",
    "\n",
    "The brackets metacharacter allows you to match one of several characters at a single position. To use, place all of the possible characters you would like to match for a single position inside the brackets. The pattern `'S[aeiou]n'` matches text that has an `'S'`, followed by exactly one vowel and then `'n'`. Specifically, it matches `'San'`, `'Sen'`, `'Sin'`, `'Son'`, and `'Sun'`. The brackets are a single character **or** condition."
   ]
  },
  {
   "cell_type": "code",
   "execution_count": null,
   "metadata": {
    "scrolled": true
   },
   "outputs": [],
   "source": [
    "find_pattern(title, r'S[aeiou]n').head(7)"
   ]
  },
  {
   "cell_type": "markdown",
   "metadata": {},
   "source": [
    "### Entire character classes within the brackets\n",
    "\n",
    "Let's say you want to match exactly one of the lowercase letters 'a' through 'z'. You could do so by writing each of the 26 letters within the brackets, creating a very long pattern. Thankfully, there is a much easier way with **character classes**.\n",
    "\n",
    "Character classes represent entire subsets of characters and are written within the square brackets with a hyphen separating the start and end character. This is the only part of the regex syntax where hyphens have a meaning. Outside of the brackets, they are literal characters and have no special meaning. There are three common character classes - one for lowercase letters, one for upper case letters, and one for the digits 0 through 9. \n",
    "\n",
    "* `'[a-z]'` - all lowercase letters\n",
    "* `'[A-Z]'` - all uppercase letters\n",
    "* `'[0-9]'` - all digits 0 through 9\n",
    "\n",
    "### Combining character classes\n",
    "\n",
    "Each of these character classes may be combined within a single set of square brackets.\n",
    "\n",
    "* `'[a-zA-Z]'` - all lowercase and upper case letters\n",
    "* `'[a-zA-Z0-9]'` - all lowercase and upper case letters and digits\n",
    "\n",
    "### Different start and end characters\n",
    "\n",
    "It's possible to choose the start and end of the character class.\n",
    "\n",
    "* `'[d-s]'` lowercase letters d through s\n",
    "* `'[H-K]'` uppercase letters H through K\n",
    "* `'[5-7]'` digits 5 through 7\n",
    "\n",
    "### Character classes technically use Unicode code point\n",
    "\n",
    "The start and end characters of a character class do not have to strictly be either both lowercase, both uppercase, or both digits. Any characters may used as the start and end as long as the start character has a lower Unicode code point than the end character. Let's examine the character class `'[7-C]'`. First, we'll get the Unicode code point of the start and end with the builtin `ord` function."
   ]
  },
  {
   "cell_type": "code",
   "execution_count": null,
   "metadata": {},
   "outputs": [],
   "source": [
    "ord('7'), ord('C')"
   ]
  },
  {
   "cell_type": "markdown",
   "metadata": {},
   "source": [
    "We print the character mapped to each of the code points between the two numbers above."
   ]
  },
  {
   "cell_type": "code",
   "execution_count": null,
   "metadata": {},
   "outputs": [],
   "source": [
    "for i in range(55, 68):\n",
    "    print(i, chr(i))"
   ]
  },
  {
   "cell_type": "markdown",
   "metadata": {},
   "source": [
    "The character class `[7-C]` represents each of the characters above which includes several non-digit, non-uppercase ones. Using character classes like this that overlap different regions of Unicode is atypical, but shows exactly how Python processes the regex. As another example, the character class `['%-~']` matches all characters with Unicode code point 37 through 126."
   ]
  },
  {
   "cell_type": "code",
   "execution_count": null,
   "metadata": {},
   "outputs": [],
   "source": [
    "ord('%'), ord('~')"
   ]
  },
  {
   "cell_type": "markdown",
   "metadata": {},
   "source": [
    "### Character class examples\n",
    "\n",
    "Here, we find all movies that begin with at least two capital letters."
   ]
  },
  {
   "cell_type": "code",
   "execution_count": null,
   "metadata": {},
   "outputs": [],
   "source": [
    "find_pattern(title, r'^[A-Z]{2}').head()"
   ]
  },
  {
   "cell_type": "markdown",
   "metadata": {},
   "source": [
    "Here, we find all movies that end in two consecutive digits preceded by a space character."
   ]
  },
  {
   "cell_type": "code",
   "execution_count": null,
   "metadata": {},
   "outputs": [],
   "source": [
    "find_pattern(title, r' [0-9]{2}$').head()"
   ]
  },
  {
   "cell_type": "markdown",
   "metadata": {},
   "source": [
    "### Excluding characters within the brackets\n",
    "\n",
    "Let's say you would like to find all titles that do NOT begin with the letter `A`, `B`, `G`, `S`, or `T`. To exclude one or more characters, place a caret, `^`, as the first character within the brackets followed by all the characters you want to exclude. The caret has a completely different meaning when it is used as the first character within the brackets. The first carat below is used as its normal start anchor special character. The second carat is used to exclude each of the other characters in the brackets. The brackets have their own special set of syntax and this is one of the rules."
   ]
  },
  {
   "cell_type": "code",
   "execution_count": null,
   "metadata": {},
   "outputs": [],
   "source": [
    "find_pattern(title, r'^[^ABGST]').head()"
   ]
  },
  {
   "cell_type": "markdown",
   "metadata": {},
   "source": [
    "Here we find all titles that do not begin with B through Y. These are mostly going to be movies that begin with A or Z, but will include any movies that begin with lowercase letters, digits, or any of the thousands of other non-uppercase Unicode characters."
   ]
  },
  {
   "cell_type": "code",
   "execution_count": null,
   "metadata": {
    "scrolled": true
   },
   "outputs": [],
   "source": [
    "find_pattern(title, r'^[^B-Y]').head()"
   ]
  },
  {
   "cell_type": "markdown",
   "metadata": {},
   "source": [
    "### Special characters lose their meaning within the brackets\n",
    "\n",
    "Special characters are treated as literal characters when placed within the brackets (the carat as the first character being an exception). Here, titles containing an asterisk or left parentheses are returned."
   ]
  },
  {
   "cell_type": "code",
   "execution_count": null,
   "metadata": {},
   "outputs": [],
   "source": [
    "find_pattern(title, r'[*(]').head()"
   ]
  },
  {
   "cell_type": "markdown",
   "metadata": {},
   "source": [
    "### Combining character classes with single characters\n",
    "\n",
    "It's possible to combine character classes with single characters inside the brackets. Here, we find movies that begin with a digit 2 through 6 or start with `Y` or `@`."
   ]
  },
  {
   "cell_type": "code",
   "execution_count": null,
   "metadata": {},
   "outputs": [],
   "source": [
    "find_pattern(title, r'^[2-6Y@]').head()"
   ]
  },
  {
   "cell_type": "markdown",
   "metadata": {},
   "source": [
    "## Character classes with the backslash metacharacter `\\`\n",
    "\n",
    "More character classes may be represented with the backslash special character, `\\`. The backslash character is used in conjunction with the **very next** character to identify a specific class. There are three main character classes able to defined with the backslash.\n",
    "\n",
    "* `\\d` - any single digit - equivalent to `[0-9]`\n",
    "* `\\s` - a single white space, a newline, or tab character\n",
    "* `\\w` - any single 'word' character, which is any uppercase or lowercase letter, digit, or underscore - equivalent to `[A-Za-z0-9_]`\n",
    "\n",
    "Let's use each of these character classes to search for movies that begin with three digits, are followed by a space, and then have at least 8 consecutive word characters."
   ]
  },
  {
   "cell_type": "code",
   "execution_count": null,
   "metadata": {},
   "outputs": [],
   "source": [
    "find_pattern(title, r'^\\d{3}\\s\\w{8,}')"
   ]
  },
  {
   "cell_type": "markdown",
   "metadata": {},
   "source": [
    "Without these new character classes provided by the backslash, the regex pattern would have been `^[0-9]{3} [A-Za-z0-9_]{8,}`. While the backslash isn't necessary for these classes, it does shorten the syntax."
   ]
  },
  {
   "cell_type": "markdown",
   "metadata": {},
   "source": [
    "### Complement character classes with uppercase letters\n",
    "\n",
    "All three character classes above use lowercase letters following the backslash. To refer to the complement (all characters that are NOT in the class), use the uppercase version of the letter.\n",
    "\n",
    "* `\\D` - any single non-digit - equivalent to `[^0-9]`\n",
    "* `\\S` - a single non-space character\n",
    "* `\\W` - any single non-word character - equivalent to `[^A-Za-z0-9_]`\n",
    "\n",
    "Here, we select all movies that are exactly 10 characters in length and have no spaces in them."
   ]
  },
  {
   "cell_type": "code",
   "execution_count": null,
   "metadata": {},
   "outputs": [],
   "source": [
    "find_pattern(title, r'^\\S{10}$').head()"
   ]
  },
  {
   "cell_type": "markdown",
   "metadata": {},
   "source": [
    "## Word boundaries with `\\b`\n",
    "\n",
    "Occasionally, you'll want to ensure that you are matching at the beginning or end of a particular word. Let's say we are interested in finding words that begin with `'A'` and end in `'r'`. We could naively try the regex below, which matches `'Avatar'`, `'Avengers'`, and `'America'`."
   ]
  },
  {
   "cell_type": "code",
   "execution_count": null,
   "metadata": {},
   "outputs": [],
   "source": [
    "find_pattern(title, r'A\\w+r').head()"
   ]
  },
  {
   "cell_type": "markdown",
   "metadata": {},
   "source": [
    "Only `'Avatar'` matches the desired pattern. We could try specifying the end of a word by adding a space to our pattern, but this eliminates single word movies such as `'Avatar'`."
   ]
  },
  {
   "cell_type": "code",
   "execution_count": null,
   "metadata": {},
   "outputs": [],
   "source": [
    "find_pattern(title, r'A\\w+r ').head()"
   ]
  },
  {
   "cell_type": "markdown",
   "metadata": {},
   "source": [
    "Use the **word boundary**, `\\b`, to  help match the end of a word. It matches only at the start and end of a word. Here, we make sure that `'A'` is the first letter of a word and `'r'` is the end."
   ]
  },
  {
   "cell_type": "code",
   "execution_count": null,
   "metadata": {},
   "outputs": [],
   "source": [
    "find_pattern(title, r'\\bA\\w+r\\b').head()"
   ]
  },
  {
   "cell_type": "markdown",
   "metadata": {},
   "source": [
    "The `\\b` checks for a non-word character immediately before or after its location. Above, it checks for a non-word character (such as a space) before `'A'` and immediately after `'r'`. The beginning or ending of the line also match `\\b`. \n",
    "\n",
    "It is a **zero-width** match that does not actually represent a single character, just checks for the word boundary. For instance, if we try and find movies that have a word that begins with `'A'`, ends in `'r'` and have the following word begin with `'T'`, then the following would NOT work and will not match any string."
   ]
  },
  {
   "cell_type": "code",
   "execution_count": null,
   "metadata": {},
   "outputs": [],
   "source": [
    "find_pattern(title, r'\\bA\\w+r\\bT')"
   ]
  },
  {
   "cell_type": "markdown",
   "metadata": {},
   "source": [
    "The above attempts to match `'T'` immediately after `'r'`, but also match a word boundary between them. That is impossible. An alternative way of describing `\\b` as zero-width is to say it does not **consume** any characters. You can analogize it to stopping at the border between countries to show your passport. Your car doesn't move any further, but there is some kind of validation that happens. The word boundary is the validation that happens here. To match the next word for capital `'T'` you will need to add a space (`'\\s'` in this case) to the regex."
   ]
  },
  {
   "cell_type": "code",
   "execution_count": null,
   "metadata": {},
   "outputs": [],
   "source": [
    "find_pattern(title, r'\\bA\\w+r\\b\\sT').head()"
   ]
  },
  {
   "cell_type": "markdown",
   "metadata": {},
   "source": [
    "Non-word boundaries are represented by `\\B`. Here, we match movies containing a word that begins with `'The'` but do not end immediately after the `'e'`."
   ]
  },
  {
   "cell_type": "code",
   "execution_count": null,
   "metadata": {},
   "outputs": [],
   "source": [
    "find_pattern(title, r'\\bThe\\B').head()"
   ]
  },
  {
   "cell_type": "markdown",
   "metadata": {},
   "source": [
    "### Backslashes escape special characters\n",
    "\n",
    "A backslash followed by a metacharacter escapes its special meaning and reduces it to being treated as a literal character. Here, we find movies that have two capital letters followed by a literal period, `'.'`."
   ]
  },
  {
   "cell_type": "code",
   "execution_count": null,
   "metadata": {},
   "outputs": [],
   "source": [
    "find_pattern(title, r'[A-Z]\\.[A-Z]').head()"
   ]
  },
  {
   "cell_type": "markdown",
   "metadata": {},
   "source": [
    "### Backslash character classes are valid within the square brackets\n",
    "\n",
    "While special characters do lose their meaning within the square brackets, the backslash character classes do not. The pattern `[\\d\\s]` matches a single word or digit character. The word boundary, `\\b`, which is not a character class, represents the backspace character (a very rare character in modern computing) when inside the square brackets."
   ]
  },
  {
   "cell_type": "markdown",
   "metadata": {},
   "source": [
    "## More methods that accept regexes\n",
    "\n",
    "Thus far we've only used the `contains` string-only Series method with our regexes. This section will cover several other methods that also accept regexes.\n",
    "\n",
    "### The `count` method\n",
    "\n",
    "The `count` string-only Series method counts non-overlapping occurrences of the given pattern. Below, we count the number of uppercase letters in each title."
   ]
  },
  {
   "cell_type": "code",
   "execution_count": null,
   "metadata": {},
   "outputs": [],
   "source": [
    "title.str.count(r'[A-Z]').head()"
   ]
  },
  {
   "cell_type": "markdown",
   "metadata": {},
   "source": [
    "### The `split` method\n",
    "\n",
    "The `split` method splits the string into as many substrings as there are matches of the pattern and returns a Series of lists of strings. To help motivate this example, we'll search for the first five movies that have a hyphen surrounded by a space on either side or a colon in them and assign the result to a new variable."
   ]
  },
  {
   "cell_type": "code",
   "execution_count": null,
   "metadata": {},
   "outputs": [],
   "source": [
    "filt = title.str.contains(r' - |:')\n",
    "t = title[filt].head()\n",
    "t"
   ]
  },
  {
   "cell_type": "markdown",
   "metadata": {},
   "source": [
    "Calling the `split` method with the same pattern, splits the string at every match returning a list of each substring."
   ]
  },
  {
   "cell_type": "code",
   "execution_count": null,
   "metadata": {},
   "outputs": [],
   "source": [
    "t.str.split(r' - |:')"
   ]
  },
  {
   "cell_type": "markdown",
   "metadata": {},
   "source": [
    "Series with lists as values are difficult to work with, so set `expand` to `True` to return a DataFrame. The number of columns will be equal to the value with the most substrings."
   ]
  },
  {
   "cell_type": "code",
   "execution_count": null,
   "metadata": {},
   "outputs": [],
   "source": [
    "t.str.split(r' - |:', expand=True)"
   ]
  },
  {
   "cell_type": "markdown",
   "metadata": {},
   "source": [
    "### The `replace` method\n",
    "\n",
    "A `replace` method is available directly from the Series as well as from the `str` accessor. The normal `replace` method is more flexible and was initially covered in the Essential Pandas parts, so will be covered below. To use a `regex` with it, you must set the `regex` parameter to `True`. Here, we replace words that are between one and three characters long with a period."
   ]
  },
  {
   "cell_type": "code",
   "execution_count": null,
   "metadata": {},
   "outputs": [],
   "source": [
    "title.replace(r'\\b\\w{1,3}\\b', '.', regex=True).head()"
   ]
  },
  {
   "cell_type": "markdown",
   "metadata": {},
   "source": [
    "## Exercises"
   ]
  },
  {
   "cell_type": "markdown",
   "metadata": {},
   "source": [
    "### Exercise 1\n",
    "\n",
    "<span style=\"color:green; font-size:16px\">Find all movies that either start with `'C'` or end with `'c'`.</span>"
   ]
  },
  {
   "cell_type": "code",
   "execution_count": null,
   "metadata": {},
   "outputs": [],
   "source": []
  },
  {
   "cell_type": "markdown",
   "metadata": {},
   "source": [
    "### Exercise 2\n",
    "\n",
    "<span style=\"color:green; font-size:16px\">Find all movies that are 6 or less characters in length or between 30 and 33 characters in length.</span>"
   ]
  },
  {
   "cell_type": "code",
   "execution_count": null,
   "metadata": {},
   "outputs": [],
   "source": []
  },
  {
   "cell_type": "markdown",
   "metadata": {},
   "source": [
    "### Exercise 3\n",
    "\n",
    "<span style=\"color:green; font-size:16px\">Find all movies that have the word `'and'` followed by the word `'the'`.</span>"
   ]
  },
  {
   "cell_type": "code",
   "execution_count": null,
   "metadata": {},
   "outputs": [],
   "source": []
  },
  {
   "cell_type": "markdown",
   "metadata": {},
   "source": [
    "### Exercise 4\n",
    "\n",
    "<span style=\"color:green; font-size:16px\">Find all movies that have the word `'and'` followed by two words and then followed by the word `'the`'. In this exercise, words are defined as 1 or more consecutive \"word\" characters.</span>"
   ]
  },
  {
   "cell_type": "code",
   "execution_count": null,
   "metadata": {},
   "outputs": [],
   "source": []
  },
  {
   "cell_type": "markdown",
   "metadata": {},
   "source": [
    "### Exercise 5\n",
    "\n",
    "<span style=\"color:green; font-size:16px\">Find all movies that begin with `'The'` followed by the next word that begins with digits.</span>"
   ]
  },
  {
   "cell_type": "code",
   "execution_count": null,
   "metadata": {},
   "outputs": [],
   "source": []
  },
  {
   "cell_type": "markdown",
   "metadata": {},
   "source": [
    "### Exercise 6\n",
    "\n",
    "<span style=\"color:green; font-size:16px\">Find all movies that have three consecutive capital letters in them.</span>"
   ]
  },
  {
   "cell_type": "code",
   "execution_count": null,
   "metadata": {},
   "outputs": [],
   "source": []
  },
  {
   "cell_type": "markdown",
   "metadata": {},
   "source": [
    "### Exercise 7\n",
    "\n",
    "<span style=\"color:green; font-size:16px\">Find all movies that begin and end with a capital letter.</span>"
   ]
  },
  {
   "cell_type": "code",
   "execution_count": null,
   "metadata": {},
   "outputs": [],
   "source": []
  },
  {
   "cell_type": "markdown",
   "metadata": {},
   "source": [
    "### Exercise 8\n",
    "\n",
    "<span style=\"color:green; font-size:16px\">Find all the movies that have a digit followed by a comma followed by a digit.</span>"
   ]
  },
  {
   "cell_type": "code",
   "execution_count": null,
   "metadata": {},
   "outputs": [],
   "source": []
  },
  {
   "cell_type": "markdown",
   "metadata": {},
   "source": [
    "### Exercise 9\n",
    "\n",
    "<span style=\"color:green; font-size:16px\">Find all the movies that have either an ampersand or a question mark in them.</span>"
   ]
  },
  {
   "cell_type": "code",
   "execution_count": null,
   "metadata": {},
   "outputs": [],
   "source": []
  },
  {
   "cell_type": "markdown",
   "metadata": {},
   "source": [
    "### Exercise 10\n",
    "\n",
    "<span style=\"color:green; font-size:16px\">Which movie has the most ampersands, question marks, and periods in it?</span>"
   ]
  },
  {
   "cell_type": "code",
   "execution_count": null,
   "metadata": {},
   "outputs": [],
   "source": []
  },
  {
   "cell_type": "markdown",
   "metadata": {},
   "source": [
    "### Exercise 11\n",
    "\n",
    "<span style=\"color:green; font-size:16px\">Find all the movies with exactly three words with each word no more than 6 characters in length. For this exercise, a word is defined as consecutive non-space characters followed by exactly one space (or end of string).</span>"
   ]
  },
  {
   "cell_type": "code",
   "execution_count": null,
   "metadata": {},
   "outputs": [],
   "source": []
  },
  {
   "cell_type": "markdown",
   "metadata": {},
   "source": [
    "### Exercise 12\n",
    "\n",
    "<span style=\"color:green; font-size:16px\">Find all movies that have four consecutive non-word characters.</span>"
   ]
  },
  {
   "cell_type": "code",
   "execution_count": null,
   "metadata": {},
   "outputs": [],
   "source": []
  },
  {
   "cell_type": "markdown",
   "metadata": {},
   "source": [
    "### Exercise 13\n",
    "\n",
    "<span style=\"color:green; font-size:16px\">Find all movies that have at least one word that ends in `'ats'`.</span>"
   ]
  },
  {
   "cell_type": "code",
   "execution_count": null,
   "metadata": {},
   "outputs": [],
   "source": []
  },
  {
   "cell_type": "markdown",
   "metadata": {},
   "source": [
    "### Exercise 14\n",
    "\n",
    "<span style=\"color:green; font-size:16px\">Find all the movies containing, but not ending in `'tes'`.</span>"
   ]
  },
  {
   "cell_type": "code",
   "execution_count": null,
   "metadata": {},
   "outputs": [],
   "source": []
  },
  {
   "cell_type": "markdown",
   "metadata": {},
   "source": [
    "### Exercise 15\n",
    "\n",
    "<span style=\"color:green; font-size:16px\">Find all movies containing a word that is at least 7 lowercase letters in length.</span>"
   ]
  },
  {
   "cell_type": "code",
   "execution_count": null,
   "metadata": {},
   "outputs": [],
   "source": []
  },
  {
   "cell_type": "markdown",
   "metadata": {},
   "source": [
    "### Exercise 16\n",
    "\n",
    "<span style=\"color:green; font-size:16px\">Find all movies that have a word that contains, but does not start with `'Z'`.</span>"
   ]
  },
  {
   "cell_type": "code",
   "execution_count": null,
   "metadata": {},
   "outputs": [],
   "source": []
  },
  {
   "cell_type": "markdown",
   "metadata": {},
   "source": [
    "### Exercise 17\n",
    "\n",
    "<span style=\"color:green; font-size:16px\">Find all movies containing a word starting with `'W'` and ending with `'w'`.</span>"
   ]
  },
  {
   "cell_type": "code",
   "execution_count": null,
   "metadata": {},
   "outputs": [],
   "source": []
  },
  {
   "cell_type": "markdown",
   "metadata": {},
   "source": [
    "### Exercise 18\n",
    "\n",
    "<span style=\"color:green; font-size:16px\">Count the total number of digit characters between 7 and 9 in all of the movies.</span>"
   ]
  },
  {
   "cell_type": "code",
   "execution_count": null,
   "metadata": {},
   "outputs": [],
   "source": []
  },
  {
   "cell_type": "markdown",
   "metadata": {},
   "source": [
    "### Exercise 19\n",
    "\n",
    "<span style=\"color:green; font-size:16px\">Use the `count` method to count the number of words in each title. Use consecutive word characters as the definition of a word.</span>"
   ]
  },
  {
   "cell_type": "code",
   "execution_count": null,
   "metadata": {},
   "outputs": [],
   "source": []
  }
 ],
 "metadata": {
  "kernelspec": {
   "display_name": "Python 3",
   "language": "python",
   "name": "python3"
  },
  "language_info": {
   "codemirror_mode": {
    "name": "ipython",
    "version": 3
   },
   "file_extension": ".py",
   "mimetype": "text/x-python",
   "name": "python",
   "nbconvert_exporter": "python",
   "pygments_lexer": "ipython3",
   "version": "3.8.10"
  }
 },
 "nbformat": 4,
 "nbformat_minor": 2
}
