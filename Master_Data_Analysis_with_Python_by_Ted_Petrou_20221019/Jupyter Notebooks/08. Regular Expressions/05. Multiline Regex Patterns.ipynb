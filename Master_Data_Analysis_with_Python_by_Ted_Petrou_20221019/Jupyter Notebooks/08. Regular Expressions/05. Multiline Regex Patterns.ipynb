{
 "cells": [
  {
   "cell_type": "markdown",
   "id": "05aec634",
   "metadata": {},
   "source": [
    "# Multiline Regex Patterns\n",
    "\n",
    "We've covered the entire set of regex metacharacters, but have applied our patterns only to the relatively short single-line movie titles. This chapter covers how to build regexes to match patterns on strings which span multiple lines. Specifically, a **multline** string is one with at least one newline character in it. We begin by reading in a sample of the newsgroups dataset (from the [scikit-learn machine learning library][1]). It's read in as two-column DataFrame containing the category of the message and the text.\n",
    "\n",
    "[1]: https://scikit-learn.org/stable/datasets/real_world.html#newsgroups-dataset"
   ]
  },
  {
   "cell_type": "code",
   "execution_count": null,
   "id": "cdf9a985",
   "metadata": {},
   "outputs": [],
   "source": [
    "import re\n",
    "import pandas as pd\n",
    "pd.set_option('display.max_colwidth', 100)\n",
    "\n",
    "def find_pattern(s, pattern, **kwargs):\n",
    "    filt = s.str.contains(pattern, **kwargs)\n",
    "    return s[filt]\n",
    "\n",
    "news = pd.read_csv('../data/newsgroups.csv')\n",
    "news.head()"
   ]
  },
  {
   "cell_type": "markdown",
   "id": "91ecbc83",
   "metadata": {},
   "source": [
    "The `text` column is assigned to its own variable name as a Series and the first 350 characters of the first message is output."
   ]
  },
  {
   "cell_type": "code",
   "execution_count": null,
   "id": "528903c0",
   "metadata": {},
   "outputs": [],
   "source": [
    "text = news['text']\n",
    "text.iloc[0][:350]"
   ]
  },
  {
   "cell_type": "markdown",
   "id": "d279f20f",
   "metadata": {},
   "source": [
    "Use the `print` function to display the message as it would be viewed online. Notice that the newline characters, `\\n`, get displayed as actual new lines."
   ]
  },
  {
   "cell_type": "code",
   "execution_count": null,
   "id": "22303e33",
   "metadata": {},
   "outputs": [],
   "source": [
    "print(text.iloc[0][:350])"
   ]
  },
  {
   "cell_type": "markdown",
   "id": "28794d4a",
   "metadata": {},
   "source": [
    "## Anchors with the multiline flag\n",
    "\n",
    "By default, the start and end anchors (`^`/`$`) use the very first character and very last character of the string, regardless of the number of new lines, as the start and end positions. There is only one start and one end character. If we attempt to extract the organization name by capturing the text following `'Organization: '` as done below, it will fail as it is anchored to the start of the first line. The vast majority of the messages begin with `'From'`."
   ]
  },
  {
   "cell_type": "code",
   "execution_count": null,
   "id": "b6bbd919",
   "metadata": {},
   "outputs": [],
   "source": [
    "text.str.extract(r'^Organization: (.*)$').head(3)"
   ]
  },
  {
   "cell_type": "markdown",
   "id": "742eedcf",
   "metadata": {},
   "source": [
    "To make the start and end metacharacters anchor to the start and end of each line we can use the multiline flag (`re.M` or `re.MULTILINE`). This anchors `'Organization: '` to the start of a new line. Note that the `.` special character does NOT match new lines so stops matching when it hits a new line character so the dollar sign end anchor is unnecessary."
   ]
  },
  {
   "cell_type": "code",
   "execution_count": null,
   "id": "ad9d9e9a",
   "metadata": {},
   "outputs": [],
   "source": [
    "text.str.extract(r'^Organization: (.*)$', flags=re.M).head(3)"
   ]
  },
  {
   "cell_type": "markdown",
   "id": "549f7681",
   "metadata": {},
   "source": [
    "## Matching every character with `.`\n",
    "\n",
    "The `.` special character matches every character except newline characters. The pattern `(.*)` captures the entire first line only."
   ]
  },
  {
   "cell_type": "code",
   "execution_count": null,
   "id": "902f4e00",
   "metadata": {},
   "outputs": [],
   "source": [
    "text.str.extract(r'(.*)').head(3)"
   ]
  },
  {
   "cell_type": "markdown",
   "id": "5ba79f65",
   "metadata": {},
   "source": [
    "To change the behavior of the `.` so that it does match every single character, use the dotall flag (`re.S` or `re.DOTALL`). Here we capture the entire header information of the message, which typically ends with `'Lines :'` followed by digits."
   ]
  },
  {
   "cell_type": "code",
   "execution_count": null,
   "id": "cb441484",
   "metadata": {},
   "outputs": [],
   "source": [
    "text.str.extract(r'^(.*?Lines: \\d+)', flags=re.S).head(3)"
   ]
  },
  {
   "cell_type": "markdown",
   "id": "664dbc01",
   "metadata": {},
   "source": [
    "As an alternative to using the dotall flag, you can use two complementing character sets within the square brackets such as `[\\s\\S]+`, which matches every single space or non-space character. Since they are complements of one another,  the pattern matches every single character."
   ]
  },
  {
   "cell_type": "markdown",
   "id": "47531fce",
   "metadata": {},
   "source": [
    "## Using multiple flags\n",
    "\n",
    "It's possible to use multiple flags simultaneously by separating them with the pipe symbol. For example, the multiline and dotall flags can be used simultaneously with `re.M | re.S`. This technically computes the bitwise OR operation between the two underlying integers. Below, we attempt to find the entire sentence (possibly spanning multiple lines) of a line that begins with `'They`'. "
   ]
  },
  {
   "cell_type": "code",
   "execution_count": null,
   "id": "1a64c545",
   "metadata": {},
   "outputs": [],
   "source": [
    "s = text.str.extract(r'^(They .*?\\.)', flags=re.M | re.S).dropna()[0]\n",
    "s.head()"
   ]
  },
  {
   "cell_type": "markdown",
   "id": "8f77b811",
   "metadata": {},
   "source": [
    "Printing out the first sentence found displays the multiple lines."
   ]
  },
  {
   "cell_type": "code",
   "execution_count": null,
   "id": "123a0b09",
   "metadata": {},
   "outputs": [],
   "source": [
    "print(s.loc[61])"
   ]
  },
  {
   "cell_type": "markdown",
   "id": "bfd40f33",
   "metadata": {},
   "source": [
    "## Exercises"
   ]
  },
  {
   "cell_type": "markdown",
   "id": "81c5ffaf",
   "metadata": {},
   "source": [
    "### Exercise 1\n",
    "\n",
    "<span style=\"color:green; font-size:16px\">Find the number of messages that have at least one line that begins with `'The'` and ends with a period.</span>"
   ]
  },
  {
   "cell_type": "code",
   "execution_count": null,
   "id": "4aed3cb2",
   "metadata": {},
   "outputs": [],
   "source": []
  },
  {
   "cell_type": "markdown",
   "id": "ba38187a",
   "metadata": {},
   "source": [
    "### Exercise 2\n",
    "\n",
    "<span style=\"color:green; font-size:16px\">Find the messages that do not start with the word `'From'`.</span>"
   ]
  },
  {
   "cell_type": "code",
   "execution_count": null,
   "id": "53ba2261",
   "metadata": {},
   "outputs": [],
   "source": []
  },
  {
   "cell_type": "markdown",
   "id": "1c930991",
   "metadata": {},
   "source": [
    "### Exercise 3\n",
    "\n",
    "<span style=\"color:green; font-size:16px\">Extract the first word from the messages that do not start with the word `'From'` and then count the occurrences of each of these words.</span>"
   ]
  },
  {
   "cell_type": "code",
   "execution_count": null,
   "id": "62689135",
   "metadata": {},
   "outputs": [],
   "source": []
  },
  {
   "cell_type": "markdown",
   "id": "f69f1c47",
   "metadata": {},
   "source": [
    "### Exercise 4\n",
    "\n",
    "<span style=\"color:green; font-size:16px\">Extract the header of each message. These are the lines at the top that begin with `From`, `Subject`, `Organization`, etc... and assign it to a variable named `header`. Take a look at a few of the individual messages to understand what pattern would work best. Make sure `header` is a Series of strings.</span>"
   ]
  },
  {
   "cell_type": "code",
   "execution_count": null,
   "id": "ea81eedb",
   "metadata": {},
   "outputs": [],
   "source": []
  },
  {
   "cell_type": "markdown",
   "id": "7d8678aa",
   "metadata": {},
   "source": [
    "### Exercise 5\n",
    "\n",
    "<span style=\"color:green; font-size:16px\">Use the`extractall` method to extract two groups from the header. For all lines that do not begin with a space, extract the first word up to but not including the colon. That is the first group. Extract the remaining characters to the right of the colon as the second group. Name the groups `'property'` and `'value'`.</span>"
   ]
  },
  {
   "cell_type": "code",
   "execution_count": null,
   "id": "b56be1d1",
   "metadata": {},
   "outputs": [],
   "source": []
  },
  {
   "cell_type": "markdown",
   "id": "bb3424b9",
   "metadata": {},
   "source": [
    "### Exercise 6\n",
    "\n",
    "<span style=\"color:green; font-size:16px\">Attempt to extract all emails from each message. If you are up for a serious challenge, use the exact specifications for [valid email addresses](https://en.wikipedia.org/wiki/Email_address). The solution presented finds the most common types of emails.</span>"
   ]
  },
  {
   "cell_type": "code",
   "execution_count": null,
   "id": "dff5e785",
   "metadata": {},
   "outputs": [],
   "source": []
  },
  {
   "cell_type": "markdown",
   "id": "0a1588d2",
   "metadata": {},
   "source": [
    "### Exercise 7\n",
    "\n",
    "<span style=\"color:green; font-size:16px\">From each email found, extract the characters after the last dot of each email (usually com, edu, org, etc...), make them lowercase, and count the occurrences of each.</span>"
   ]
  },
  {
   "cell_type": "code",
   "execution_count": null,
   "id": "a6724eeb",
   "metadata": {},
   "outputs": [],
   "source": []
  },
  {
   "cell_type": "markdown",
   "id": "a40541b8",
   "metadata": {},
   "source": [
    "### Exercise 8\n",
    "\n",
    "<span style=\"color:green; font-size:16px\">Extract the number of lines of each message as the integer following the word `'Lines:'` in the header. Find the average number of lines per message.</span>"
   ]
  },
  {
   "cell_type": "code",
   "execution_count": null,
   "id": "f810be40",
   "metadata": {},
   "outputs": [],
   "source": []
  },
  {
   "cell_type": "markdown",
   "id": "e7a6fbd4",
   "metadata": {},
   "source": [
    "### Exercise 9\n",
    "\n",
    "<span style=\"color:green; font-size:16px\">Extract all 10-digit phone numbers.</span>"
   ]
  },
  {
   "cell_type": "code",
   "execution_count": null,
   "id": "378023ec",
   "metadata": {},
   "outputs": [],
   "source": []
  },
  {
   "cell_type": "markdown",
   "id": "5c2a9e87",
   "metadata": {},
   "source": [
    "### Exercise 10\n",
    "\n",
    "<span style=\"color:green; font-size:16px\">In this exercise you'll find the most common words in each category. Run the first two cells below to place the category in the index and then extract the body from the message as a Series. Extract all the words between 5 and 12 characters in length. Make them all lowercase and remove the words in the list `remove_words`. Finally, count occurrence of each word by category returning the top 10 per category.</span>"
   ]
  },
  {
   "cell_type": "code",
   "execution_count": null,
   "id": "a08c9e3a",
   "metadata": {},
   "outputs": [],
   "source": [
    "textc = news.set_index('category')['text']\n",
    "textc.head(3)"
   ]
  },
  {
   "cell_type": "code",
   "execution_count": null,
   "id": "f2281619",
   "metadata": {},
   "outputs": [],
   "source": [
    "body = textc.str.extract(r'\\n\\n(.*)', flags=re.S)[0]\n",
    "body.head(3)"
   ]
  },
  {
   "cell_type": "code",
   "execution_count": null,
   "id": "00d27cdf",
   "metadata": {},
   "outputs": [],
   "source": [
    "remove_words = ['would', 'article', 'there', 'about', 'their', 'other', 'should', 'could',\n",
    "                'those', 'these', 'which', 'where', 'writes', 'anyone', 'someone', 'because']"
   ]
  },
  {
   "cell_type": "code",
   "execution_count": null,
   "id": "1df04640",
   "metadata": {},
   "outputs": [],
   "source": []
  },
  {
   "cell_type": "markdown",
   "id": "b8545db5",
   "metadata": {},
   "source": [
    "### Exercise 11\n",
    "\n",
    "<span style=\"color:green; font-size:16px\">Find all messages that have have `'From'`, '`Subject'`, `'Organization'`, and `'Lines'` as parts of the header.</span>"
   ]
  },
  {
   "cell_type": "code",
   "execution_count": null,
   "id": "1bf9ff11",
   "metadata": {},
   "outputs": [],
   "source": []
  }
 ],
 "metadata": {
  "kernelspec": {
   "display_name": "Python 3",
   "language": "python",
   "name": "python3"
  },
  "language_info": {
   "codemirror_mode": {
    "name": "ipython",
    "version": 3
   },
   "file_extension": ".py",
   "mimetype": "text/x-python",
   "name": "python",
   "nbconvert_exporter": "python",
   "pygments_lexer": "ipython3",
   "version": "3.8.10"
  }
 },
 "nbformat": 4,
 "nbformat_minor": 5
}
